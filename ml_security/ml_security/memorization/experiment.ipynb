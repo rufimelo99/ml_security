{
 "cells": [
  {
   "cell_type": "code",
   "execution_count": 72,
   "metadata": {},
   "outputs": [],
   "source": [
    "from datasets import load_dataset\n",
    "\n",
    "ds_book_corpus = load_dataset(\"bookcorpus/bookcorpus\", trust_remote_code=True)"
   ]
  },
  {
   "cell_type": "code",
   "execution_count": 73,
   "metadata": {},
   "outputs": [
    {
     "name": "stderr",
     "output_type": "stream",
     "text": [
      "Some weights of the model checkpoint at google-bert/bert-base-uncased were not used when initializing BertForMaskedLM: ['bert.pooler.dense.bias', 'bert.pooler.dense.weight', 'cls.seq_relationship.bias', 'cls.seq_relationship.weight']\n",
      "- This IS expected if you are initializing BertForMaskedLM from the checkpoint of a model trained on another task or with another architecture (e.g. initializing a BertForSequenceClassification model from a BertForPreTraining model).\n",
      "- This IS NOT expected if you are initializing BertForMaskedLM from the checkpoint of a model that you expect to be exactly identical (initializing a BertForSequenceClassification model from a BertForSequenceClassification model).\n"
     ]
    },
    {
     "name": "stdout",
     "output_type": "stream",
     "text": [
      "Pseudo-perplexity: 1.0968683577162155\n"
     ]
    }
   ],
   "source": [
    "from transformers import AutoTokenizer, AutoModelForMaskedLM\n",
    "import torch\n",
    "import torch.nn.functional as F\n",
    "import numpy as np\n",
    "\n",
    "# Load the RoBERTa model and tokenizer\n",
    "tokenizer = AutoTokenizer.from_pretrained(\"google-bert/bert-base-uncased\")\n",
    "model = AutoModelForMaskedLM.from_pretrained(\"google-bert/bert-base-uncased\")\n",
    "\n",
    "# def calculate_perplexity(sentence, model, tokenizer):\n",
    "#     encoded_input = tokenizer(sentence, return_tensors='pt', truncation=True)\n",
    "#     input_ids = encoded_input['input_ids'].squeeze()  # Shape: [seq_len]\n",
    "#     attention_mask = encoded_input['attention_mask']\n",
    "    \n",
    "#     total_log_prob = 0.0\n",
    "#     N = len(input_ids)\n",
    "    \n",
    "#     for i in range(1, N-1):  # Skip [CLS] and [SEP] if present\n",
    "#         masked_input_ids = input_ids.clone()  # Clone to avoid in-place modification\n",
    "#         masked_input_ids[i] = tokenizer.mask_token_id  # Mask the i-th token\n",
    "        \n",
    "#         # Predict the masked token\n",
    "#         with torch.no_grad():\n",
    "#             outputs = model(input_ids=masked_input_ids.unsqueeze(0), attention_mask=attention_mask)\n",
    "#             logits = outputs.logits\n",
    "        \n",
    "#         # Convert logits to probabilities\n",
    "#         predicted_probs = F.softmax(logits[0, i], dim=-1)\n",
    "        \n",
    "#         # Get the probability of the original token\n",
    "#         original_token_id = input_ids[i].item()\n",
    "#         original_token_prob = predicted_probs[original_token_id].item()\n",
    "        \n",
    "#         # Add the log probability of the original token\n",
    "#         total_log_prob += np.log(original_token_prob)\n",
    "    \n",
    "#     # Compute pseudo-perplexity\n",
    "#     avg_log_prob = total_log_prob / (N - 2)  # Exclude [CLS] and [SEP] tokens\n",
    "#     pseudo_perplexity = np.exp(-avg_log_prob)\n",
    "    \n",
    "#     return pseudo_perplexity\n",
    "\n",
    "def score(sentence, model, tokenizer):\n",
    "    # https://arxiv.org/abs/1910.14659\n",
    "    tensor_input = tokenizer(sentence, return_tensors='pt', truncation=True)\n",
    "    repeat_input = tensor_input['input_ids'].repeat(tensor_input['input_ids'].size(-1)-2, 1)\n",
    "    mask = torch.ones(tensor_input['input_ids'].size(-1) - 1).diag(1)[:-2]\n",
    "    masked_input = repeat_input.masked_fill(mask == 1, tokenizer.mask_token_id)\n",
    "    labels = repeat_input.masked_fill( masked_input != tokenizer.mask_token_id, -100)\n",
    "    with torch.inference_mode():\n",
    "        loss = model(masked_input, labels=labels).loss\n",
    "    return np.exp(loss.item())\n",
    "\n",
    "\n",
    "# Example usage\n",
    "sentence = \"London is the capital of Great Britain.\"\n",
    "pseudo_perplexity = score(sentence, model, tokenizer)\n",
    "print(\"Pseudo-perplexity:\", pseudo_perplexity)\n",
    "\n"
   ]
  },
  {
   "cell_type": "code",
   "execution_count": 74,
   "metadata": {},
   "outputs": [],
   "source": [
    "\n",
    "from transformers import AutoModelForCausalLM, AutoTokenizer\n",
    "gpt_tokenizer = AutoTokenizer.from_pretrained(\"openai-community/gpt2\")\n",
    "gpt_model = AutoModelForCausalLM.from_pretrained(\"openai-community/gpt2\")"
   ]
  },
  {
   "cell_type": "code",
   "execution_count": 75,
   "metadata": {},
   "outputs": [
    {
     "name": "stdout",
     "output_type": "stream",
     "text": [
      "Using CPU\n"
     ]
    }
   ],
   "source": [
    "\n",
    "from ml_security.utils.utils import get_device\n",
    "from ml_security.utils.nlp_utils import calculate_perplexity\n",
    "\n",
    "DEVICE = get_device(allow_mps=False)"
   ]
  },
  {
   "cell_type": "code",
   "execution_count": 77,
   "metadata": {},
   "outputs": [
    {
     "name": "stderr",
     "output_type": "stream",
     "text": [
      " 30%|███       | 606/2000 [05:20<13:26,  1.73it/s]"
     ]
    }
   ],
   "source": [
    "file_path = \"experiment-01.txt\"\n",
    "file_path_ids = file_path.replace(\".txt\", \"\") + \"-idxs\" + \".txt\"\n",
    "output_file = file_path.replace(\".txt\", \"\") + \"-results\" + \".json\"\n",
    "\n",
    "import zlib\n",
    "from tqdm import tqdm\n",
    "import json\n",
    "\n",
    "with open(file_path_ids, 'r') as f:\n",
    "    lines = f.readlines()\n",
    "    idxs = [int(line.strip()) for line in lines]\n",
    "# repeat each entry twice, but have them in sequence\n",
    "idxs = [idx for idx in idxs for _ in range(2)]\n",
    "\n",
    "\n",
    "with open(file_path, 'r') as f:\n",
    "    lines = f.readlines()\n",
    "    for line_idx, line in tqdm(enumerate(lines), total=len(lines)):\n",
    "        perpl = score(line, model, tokenizer)\n",
    "        zlib_entropy = len(zlib.compress(bytes(line, 'utf-8')))\n",
    "        gpt2_perpl = calculate_perplexity(line, gpt_model, gpt_tokenizer, DEVICE).item()\n",
    "        with open(output_file, 'a') as f:\n",
    "            f.write(json.dumps({\"line\": line, \"perplexity\": perpl, \"zlib_entropy\": zlib_entropy, \"gpt2_perplexity\": gpt2_perpl, \"idx\": idxs[line_idx]}) + \"\\n\")\n"
   ]
  },
  {
   "cell_type": "code",
   "execution_count": 24,
   "metadata": {},
   "outputs": [
    {
     "name": "stderr",
     "output_type": "stream",
     "text": [
      "/var/folders/b4/lwfgccm95kqd2skcwvrt2fr00000gn/T/ipykernel_70482/2163442132.py:17: FutureWarning:\n",
      "\n",
      "The behavior of DataFrame concatenation with empty or all-NA entries is deprecated. In a future version, this will no longer exclude empty or all-NA columns when determining the result dtypes. To retain the old behavior, exclude the relevant entries before the concat operation.\n",
      "\n"
     ]
    }
   ],
   "source": [
    "import pandas as pd\n",
    "columns = ['perplexity', 'zlib_entropy', 'gpt2_perplexity', 'line', 'idx']\n",
    "df_plots = pd.DataFrame(columns=columns)\n",
    "\n",
    "with open(output_file+\"yo\", 'r') as f:\n",
    "    # read line by line\n",
    "    for line in f:\n",
    "        # parse the line\n",
    "        data = json.loads(line)\n",
    "        # create a dictionary\n",
    "        data_dict = {col: data[col] for col in columns}\n",
    "        # create a dataframe\n",
    "        df = pd.DataFrame(data_dict, index=[0])\n",
    "        # append to the main dataframe\n",
    "        df_plots = pd.concat([df_plots, df], ignore_index=True)\n",
    "\n",
    "\n"
   ]
  },
  {
   "cell_type": "code",
   "execution_count": 25,
   "metadata": {},
   "outputs": [
    {
     "data": {
      "text/html": [
       "<div>\n",
       "<style scoped>\n",
       "    .dataframe tbody tr th:only-of-type {\n",
       "        vertical-align: middle;\n",
       "    }\n",
       "\n",
       "    .dataframe tbody tr th {\n",
       "        vertical-align: top;\n",
       "    }\n",
       "\n",
       "    .dataframe thead th {\n",
       "        text-align: right;\n",
       "    }\n",
       "</style>\n",
       "<table border=\"1\" class=\"dataframe\">\n",
       "  <thead>\n",
       "    <tr style=\"text-align: right;\">\n",
       "      <th></th>\n",
       "      <th>perplexity</th>\n",
       "      <th>zlib_entropy</th>\n",
       "      <th>gpt2_perplexity</th>\n",
       "      <th>line</th>\n",
       "      <th>idx</th>\n",
       "    </tr>\n",
       "  </thead>\n",
       "  <tbody>\n",
       "    <tr>\n",
       "      <th>0</th>\n",
       "      <td>3.839273</td>\n",
       "      <td>140</td>\n",
       "      <td>49.016003</td>\n",
       "      <td>i just wanted to peek inside one . i wanted to...</td>\n",
       "      <td>18570393</td>\n",
       "    </tr>\n",
       "    <tr>\n",
       "      <th>1</th>\n",
       "      <td>4.057195</td>\n",
       "      <td>157</td>\n",
       "      <td>96.813118</td>\n",
       "      <td>i just wanted to peek at it and learn some new...</td>\n",
       "      <td>18570393</td>\n",
       "    </tr>\n",
       "    <tr>\n",
       "      <th>2</th>\n",
       "      <td>2.389894</td>\n",
       "      <td>132</td>\n",
       "      <td>51.447018</td>\n",
       "      <td>the woman smiled as if she knew he lived with ...</td>\n",
       "      <td>73839698</td>\n",
       "    </tr>\n",
       "    <tr>\n",
       "      <th>3</th>\n",
       "      <td>2.750109</td>\n",
       "      <td>146</td>\n",
       "      <td>83.413483</td>\n",
       "      <td>the woman smiled as if she understood exactly ...</td>\n",
       "      <td>73839698</td>\n",
       "    </tr>\n",
       "    <tr>\n",
       "      <th>4</th>\n",
       "      <td>4.300704</td>\n",
       "      <td>140</td>\n",
       "      <td>147.972641</td>\n",
       "      <td>` ` not anymore . ' he opened the eminence doo...</td>\n",
       "      <td>1926356</td>\n",
       "    </tr>\n",
       "    <tr>\n",
       "      <th>...</th>\n",
       "      <td>...</td>\n",
       "      <td>...</td>\n",
       "      <td>...</td>\n",
       "      <td>...</td>\n",
       "      <td>...</td>\n",
       "    </tr>\n",
       "    <tr>\n",
       "      <th>1995</th>\n",
       "      <td>5.031240</td>\n",
       "      <td>140</td>\n",
       "      <td>150.152512</td>\n",
       "      <td>hanna sat in the middle seat , a petite dark b...</td>\n",
       "      <td>29922948</td>\n",
       "    </tr>\n",
       "    <tr>\n",
       "      <th>1996</th>\n",
       "      <td>2.535484</td>\n",
       "      <td>140</td>\n",
       "      <td>44.280388</td>\n",
       "      <td>i said after a few long breaths , although i k...</td>\n",
       "      <td>5417396</td>\n",
       "    </tr>\n",
       "    <tr>\n",
       "      <th>1997</th>\n",
       "      <td>3.278696</td>\n",
       "      <td>145</td>\n",
       "      <td>55.618668</td>\n",
       "      <td>i said after a few more little lectures . anyw...</td>\n",
       "      <td>5417396</td>\n",
       "    </tr>\n",
       "    <tr>\n",
       "      <th>1998</th>\n",
       "      <td>8.624334</td>\n",
       "      <td>148</td>\n",
       "      <td>263.678955</td>\n",
       "      <td>he was non - discerning - of - school , but su...</td>\n",
       "      <td>47067598</td>\n",
       "    </tr>\n",
       "    <tr>\n",
       "      <th>1999</th>\n",
       "      <td>5.311149</td>\n",
       "      <td>139</td>\n",
       "      <td>182.591431</td>\n",
       "      <td>he was non - discribited . copyright 2013 the ...</td>\n",
       "      <td>47067598</td>\n",
       "    </tr>\n",
       "  </tbody>\n",
       "</table>\n",
       "<p>2000 rows × 5 columns</p>\n",
       "</div>"
      ],
      "text/plain": [
       "      perplexity zlib_entropy  gpt2_perplexity  \\\n",
       "0       3.839273          140        49.016003   \n",
       "1       4.057195          157        96.813118   \n",
       "2       2.389894          132        51.447018   \n",
       "3       2.750109          146        83.413483   \n",
       "4       4.300704          140       147.972641   \n",
       "...          ...          ...              ...   \n",
       "1995    5.031240          140       150.152512   \n",
       "1996    2.535484          140        44.280388   \n",
       "1997    3.278696          145        55.618668   \n",
       "1998    8.624334          148       263.678955   \n",
       "1999    5.311149          139       182.591431   \n",
       "\n",
       "                                                   line       idx  \n",
       "0     i just wanted to peek inside one . i wanted to...  18570393  \n",
       "1     i just wanted to peek at it and learn some new...  18570393  \n",
       "2     the woman smiled as if she knew he lived with ...  73839698  \n",
       "3     the woman smiled as if she understood exactly ...  73839698  \n",
       "4     ` ` not anymore . ' he opened the eminence doo...   1926356  \n",
       "...                                                 ...       ...  \n",
       "1995  hanna sat in the middle seat , a petite dark b...  29922948  \n",
       "1996  i said after a few long breaths , although i k...   5417396  \n",
       "1997  i said after a few more little lectures . anyw...   5417396  \n",
       "1998  he was non - discerning - of - school , but su...  47067598  \n",
       "1999  he was non - discribited . copyright 2013 the ...  47067598  \n",
       "\n",
       "[2000 rows x 5 columns]"
      ]
     },
     "execution_count": 25,
     "metadata": {},
     "output_type": "execute_result"
    }
   ],
   "source": [
    "df_plots"
   ]
  },
  {
   "cell_type": "code",
   "execution_count": 54,
   "metadata": {},
   "outputs": [],
   "source": [
    "df_plots['id'] = df_plots.index\n",
    "\n",
    "df_plots['selected'] = (df_plots['perplexity'] < 15) & (df_plots['gpt2_perplexity'] > 390)\n",
    "\n",
    "def calculate_3gram_accuracy(reference_text, predicted_text):\n",
    "    def generate_ngrams(text, n):\n",
    "        words = text.split()\n",
    "        return [tuple(words[i:i+n]) for i in range(len(words)-n+1)]\n",
    "    \n",
    "    reference_3grams = generate_ngrams(reference_text, 3)\n",
    "    predicted_3grams = generate_ngrams(predicted_text, 3)\n",
    "    \n",
    "    matching_3grams = set(reference_3grams) & set(predicted_3grams)\n",
    "    accuracy = len(matching_3grams) / len(reference_3grams) if reference_3grams else 0\n",
    "    \n",
    "    return accuracy\n",
    "\n",
    "df_plots['3gram_accuracy'] = df_plots.apply(lambda row: calculate_3gram_accuracy(row['line'], ds_book_corpus['train'][row['idx']][\"text\"]), axis=1)\n",
    "\n"
   ]
  },
  {
   "cell_type": "code",
   "execution_count": 27,
   "metadata": {},
   "outputs": [
    {
     "data": {
      "application/vnd.plotly.v1+json": {
       "config": {
        "plotlyServerURL": "https://plot.ly"
       },
       "data": [
        {
         "customdata": [
          [
           "i just wanted to peek inside one . i wanted to have an idea of what they were really suggesting . i had enough contact with the men at the gate for anyone to step outside and ask what the people were doing here .\n",
           0,
           140
          ],
          [
           "i just wanted to peek at it and learn some new rules . the winner is winning . ( he pauses ) some of the buildings are divided into sections , each consisting of three floors . windows are bare and partially covered underneath .\n",
           1,
           157
          ],
          [
           "the woman smiled as if she knew he lived with her or was on the street and that a big part of him did . the woman looked at him the exact same way he loved her like crazy , so it all clicked .\n",
           2,
           132
          ],
          [
           "the woman smiled as if she understood exactly what was the matter . ' why , edith , where would you have gone ? ' letting the fumes burn , she answered thoughtfully , ' back to school , i take it ? '\n",
           3,
           146
          ],
          [
           "` ` not anymore . ' he opened the eminence doors and located a vast collection of stacks of old books and textbooks . old clothes were piled up on a small metal trash bag . ah , ' said easterly .\n",
           4,
           140
          ],
          [
           "` ` not anymore . can you call her a jasmine ? ' ` arianne gauthier . ' ` can nipty have an id that says he called me earlier , which he claims is not on his list ?\n",
           5,
           124
          ],
          [
           "marie was frantically signaling aidan away from where he had wailed and had crawled on the two sofas when he was abruptly slammed onto his back . marie and aidan were happy not to be hurt , not even touched by marie .\n",
           6,
           146
          ],
          [
           "marie was frantically signaling aidan to follow misha . she was precious , precious , and i wanted the whole murder scene immediately . at times i was so desperate it made me almost pleading with them to not make my life miserable .\n",
           7,
           155
          ],
          [
           "each thrust took him closer to my ass , where he was deep , and i panted as he stroked a finger inside me . his harsh voice was the only thing i remembered in my mind as he growled , hard and fierce .\n",
           8,
           139
          ],
          [
           "each thrust took him closer . our naked skin together , his cock was growing harder , pulling me deeper with each thrust , drawing me in in the most way that it could . filling me again and again ( he groaned ) .\n",
           9,
           143
          ],
          [
           "carla asked . she said she had wavy blonde hair . pam : pam : pam : waitress jim : jim : jim : carla ' s last acting experience came for the title role in 1973 when her singing career ended .\n",
           10,
           133
          ],
          [
           "but i did it because he was in the middle of a large table relative to the group ( three teams ) that i entered the group ( i always came first ) . therefore , i had great all of the cards already .\n",
           12,
           136
          ],
          [
           "but i did it because i liked it , did it right before i could manage it , no longer \" getting in \" so he could find some rest , no longer so his golden arse was not to be stared at .\n",
           13,
           122
          ],
          [
           "i wondered why me , besides the embarrassments , had been wearing these clothes when i moved home as a child . not coincidentally , but it seemed that , despite how hot i was , i had quite a bit of skin .\n",
           14,
           144
          ],
          [
           "i wondered why me , considering how close and warm he was . \" so , you owe me , i can tell , paying you back when you were in prison . that was good . \" only only one left . god .\n",
           15,
           126
          ],
          [
           "the mud - man toppled the tejano mission and then destroyed it . it consisted of the wild jungles that extended northward , but of potential relatives like otomi and colima or the tupi - nahua languages .\n",
           16,
           144
          ],
          [
           "the mud - man toppled away , but his face was open - mouthed and his teeth were open , his expression far from stern - but the mud - man , with gold hair , had just finished his meal and had rose .\n",
           17,
           132
          ],
          [
           "` ` oh , no , so far , so far so good . ' and then , the entranceway to the flat opened suddenly , as if someone had cast a spell , and disappeared a short distance behind the hospital netting .\n",
           18,
           134
          ],
          [
           "` ` oh , no confrontations tonight , i ' m sure , ` mitch said . ` well pack up for bed . frank and roark insist on staying the night . the good luck lasts a lot of the nights .\n",
           19,
           128
          ],
          [
           "` ` i know . ' ` indeed , in one meeting , with consciousness and memories of a different time , we all changed at the same time . we all hungered , waited ... or sought , lost ... or fell .\n",
           20,
           131
          ],
          [
           "` ` i know . but there ' s no need , ` said madame endelle . there was yet another moment of silence . at last the grandstand was moved again , reserved for the distinguished diplomats and old dr . kaiser .\n",
           21,
           143
          ],
          [
           "their names . in the names of plants . the american chemical society . vol . 9 . french , william . john \" john \" james [UNK] james \" ye ( ye , ye ) , ye ( ye ) \" .\n",
           22,
           122
          ],
          [
           "their names . ( a much smaller cylinder 13 ft 3 ) . built at toulon between 1885 and 1902 . ile - de - france champion : 1891 , 1892 , 1893 , 1894 and 1897 . - , 4th class .\n",
           23,
           136
          ],
          [
           "` ` what ? ' says the woman . « different and that , » sottero answers . ` « the young woman » ` yes . » she says in english and italian , always sounding aloof or aloof .\n",
           24,
           131
          ],
          [
           "` ` what ? ' ' ` you told me about the eccentric scientists \" professor \" william t . mcadam and william malnaud from sapporo . this time i was puzzled as to what your story was about .\n",
           25,
           135
          ],
          [
           "are you at the mating this evening ? her reply was cold . warm arms could touch his hair and welcome her warmth . ' to your garden with me ? ' i come with me . confine yourself here , leyna .\n",
           26,
           135
          ],
          [
           "are you at the mating ceremony anyway ? has your new self matured ? at the mating ceremony , the mourning ceremony for all the wolves who were present . yep , now ' s the time to draw attention to the world .\n",
           27,
           132
          ],
          [
           "he had to be airborne . barnhelm was standing outside the hut , hidden among the trees . \" they have food , \" sam said . the man was wading . barnhelm focused so he could see through the gloom .\n",
           28,
           135
          ],
          [
           "he had to be airborne , without protection . he was either deadweight or conscious , most likely not breathing , and most likely just a crazy flying geek eager for my help . \" do it before i get shot at . \"\n",
           29,
           144
          ],
          [
           "he stands and his posture is so rigid that almost everyone bolts up . he loves himself , his family . it affects his tutelage , and he cannot deny it . not in his life , not in his life again .\n",
           30,
           129
          ],
          [
           "he stands and his posture subtly changes , revealing the razor sharp edges of his normally downcast eyes and the hardness that makes a boy like peter eager to assume his own inner , distinguishable self . and then he whistles .\n",
           31,
           155
          ],
          [
           "` ` i do n have you with me at the rest stop . ' ` that took only five minutes ... a hundred and fifty ... i wish i could do my best ... i don ' t think there is a chance .\n",
           32,
           125
          ],
          [
           "` ` i do n i ' ' by l . brooks and j . mccauley ; ` ' the silver dust theory ' ' by a mixed chorus and keyboard accompaniment by daniel koster , yakima cultural center ;\n",
           33,
           129
          ],
          [
           "he stayed there , our course , taught us small things he was determined to teach . our mother and father were all the same , in a way they were different from our lessons . we had not come far from this church .\n",
           34,
           139
          ],
          [
           "he stayed there , our parents , tate and leah , tate and jake and our cousins , hannah and beth . hannah and beth were always laughing , always talking , anything about the two boys ' time together . years went by .\n",
           35,
           136
          ],
          [
           "` ` ca n ' a ? ' ` well okay , yeah , yeah . not sure . ' daniels : ` far away ? ' daniels : ` fine , other than all the noises from the courthouse ? ' ` yeah .\n",
           36,
           117
          ],
          [
           "adam shuddered , as the second man streaked at him and fired , again and again , until adam was powerless . he saw adam standing there between adam and adam , full of fear and confusion and horror , as it battered him .\n",
           38,
           140
          ],
          [
           "adam shuddered , as the camcorder in the room became visible ; and then , rising over a dozen pale stars , his field of vision revealed . there was nothing ; the plane held darkness , and adam had reached relief .\n",
           39,
           146
          ],
          [
           "you ' re the one who asked the question . \" silence of elizabeth ( anna - marie ) . now they were all shouting , dirty looking . oh , why had they carved that statement on anna marie ( her mother ) ?\n",
           40,
           145
          ],
          [
           "you ' re the one , right ? ( from hn / serbian : used in croatian to mean ' you ' ) ... there is a car , a little money runny , parked out back , kept at all times .\n",
           41,
           129
          ],
          [
           "i thought of the road and she asked me quietly , \" have you been seeing his tongue on mine ? \" \" the blood jetted onto his tongue just long enough to make me want to kill him , \" i answered .\n",
           42,
           136
          ],
          [
           "i thought of the road all the way , the smoke of hydrogen lamps , and of the bloody corpse of jed , the big bad wolf , promising to the gathered crowd that the police would catch the girl and bring her home .\n",
           43,
           138
          ],
          [
           "although freddie claims his high morale is not that far off . eric billingham - former world wrestling champion . andy young - former nhl player and professional hockey game . the son of eric billingham . quite friendly and conversational .\n",
           44,
           158
          ],
          [
           "although freddie claims his high - iq , he tends not to refer to his son - freddie jones ( * * * ) an army officer , similar to al jones ( * ) , the super - strength steak and energy eater .\n",
           45,
           135
          ],
          [
           "i know that what i have already been told . ' finally , the group began meeting , eventually becoming ' friends ' , sharing stories with chris and chris , representing their own interests . chris , once again , was anguished .\n",
           46,
           153
          ],
          [
           "i know that what i see now is no more important than anything now - just a forest with a full moon , something new and whole and strong . something always changed between us , as if he were all we had left .\n",
           47,
           139
          ],
          [
           "` ` it would have paid off if not for us . \" ` # # the team is trying in vain to pick up the survivors from where they were going , focusing on cleaning the human remains that clung to the cliffs .\n",
           48,
           141
          ],
          [
           "` ` it would have had to be printed in the town where i live . my old friends in slavonia still have it . bernadette is married . ` the executive director is the assistant director , visual arts .\n",
           49,
           136
          ],
          [
           "` ` i ' m quite surprised , ' ` said boris , trying to smile , ` that you , under your subtlety , were just aware you were fighting . ' ` even though i was caught up in the fight .\n",
           50,
           130
          ],
          [
           "` ` i ' m locked it in ' jasna . ' she broke away from where the blast of the meth ore hit her with full - force . # 5337 # 5337 * jasna thought .\n",
           51,
           117
          ],
          [
           "by buying weed and alcohol ! ! how do we know that felicitation is part of our life ? by having wands from one side or the other ! from my sides ! and throwing piles of gold at people ! !\n",
           52,
           133
          ],
          [
           "by buying weed and alcohol from people . of course , i ' ve been through some hard times . \" i knew we were still heavily in traffic , but i refused to continue . my feet pounded on the pavement behind me .\n",
           53,
           151
          ],
          [
           "if anything , his tension had eased much . less angry , far less relaxed , maybe , but he was still surprised - like merrill and merrill had - as he grabbed her one of the two glasses as she took the other .\n",
           54,
           142
          ],
          [
           "if anything , his tension and weariness shook the volume , too good as early renaissance parchment . maybe , maybe someday , soon it would be two hundred pages and twenty pages long , the key was here and gone by now .\n",
           55,
           150
          ],
          [
           "' are you ready for the interview tomorrow ? ' ' hopefully mr . lewis will give you satisfactory early arrival notice when he gives you the interview . ' # # # # # one more day a weight lay against my shoulders .\n",
           56,
           146
          ],
          [
           "' are you ready for the next evening ? ' i ask sam as he walks back inside . the atmosphere in the shabby pub is proving troublesome as the ex - handyman , chris , a businessman , is returning .\n",
           57,
           142
          ],
          [
           "i run my hands over every panel aside from the bulletin board , and there are electric s3c phones , laptops , high grade high burn batteries , a nineteenth century book on telecommunications , and business sites such as yahoo !\n",
           58,
           156
          ],
          [
           "i run my hands over my t - shirt and pull up my sleeves . adrenaline is burning in the back of my throat and is moving me into the nearly impossible life beyond impossible for the chance of marriage at just this moment .\n",
           59,
           146
          ],
          [
           "will do . \" she smiled broadly and oozed fortune and love . time and again it had been some strange mixture of the desire for sleep , and the two grew up and fell asleep outside of river bluff .\n",
           60,
           136
          ],
          [
           "will do . [UNK] . ( chinese - language cover art title ) [UNK] . ( released on itunes ) along way , a helpless , helpless person is often unfazed , humiliated , then victimized , then raped .\n",
           61,
           139
          ],
          [
           "my nanny ingrained in me . my discipline . my true goal - possibly my own - was finding a new frog tattoo stuck in my basketball cap to hook up with that skinny , tall guy , who had caught my legs .\n",
           62,
           142
          ],
          [
           "my nanny ingrained in me . \" , but ... \" he pauses , still holding my hand , going in on a tangent . \" but ... i ... , and i get to hold all of you deep inside my body .\n",
           63,
           119
          ],
          [
           "a treadmill that huck ' s parents had used at school used to take him and huck around the sea from grand central terminal in cable cars , all the way to what was called the world ' s largest yacht .\n",
           64,
           138
          ],
          [
           "a treadmill that hurrahy joe was on that summer was there . twelve feet tall , mama willie was still breathing ... after all that was all danny was saying to mama willie by the end of the following week .\n",
           65,
           132
          ],
          [
           "part of me starts to ache . then it hits me , with my swirling thoughts and everything filling me the wrong way , filling the house up and down with silence . my windows are more unsteading than the back windows .\n",
           66,
           139
          ],
          [
           "part of me starts to hope that this is for real and that i will be going home tomorrow to have my thanksgiving meal with jase . and it takes all my concentration to \" open \" one of the great regional french cafes .\n",
           67,
           147
          ],
          [
           "he crouched in the darkness , and saw , in a whirlwind , the crumbling walls and the paper - thin ceiling looming before him . on instinct , langdon hurried toward the niche in which the assassin had lowered himself .\n",
           68,
           148
          ],
          [
           "he crouched in the darkness , suppressing thoughts of viktor spending some hours with her . he was another rare vampire trait . gansey was a good looker . maybe he would have been acting as if they were somehow connected .\n",
           69,
           153
          ],
          [
           "` ` you look sad , ' the officer said . ` just outside the living room , directly above sanctuary , is a roof . the volunteer fire department in fredonia once had taken down that roof as part of its training .\n",
           70,
           147
          ],
          [
           "` ` you look sad . ' ` larry davis has opened the first chain store in south padre island . but from then on , the store was run by 3 to 4 people . you know , grandkids , larry .\n",
           71,
           132
          ],
          [
           "but even as i did ... just like the queen , the queen of the there was yet a different game ... sweet sweet sweet sweet sweet ... the next moan came from the women and then from each boy on the other end .\n",
           72,
           127
          ],
          [
           "but even as i did she still wanted the fucking others . ' ' yes she sued us for the rights to a world masters game , but there being no legal agreement . instead she offered one to me and i took one .\n",
           73,
           140
          ],
          [
           "what was it again ? no , it was even different than before . no beading of sweat on the sand dunes of africa , no booing and whine of birds , no children , only their quest to escape again .\n",
           74,
           133
          ],
          [
           "what was it again ? \" no one answered . the portal was a huge book written in green and golden letters . it was surrounded by niches and was easily accessible . it had several books set up inside the opened pages .\n",
           75,
           148
          ],
          [
           "` ` i do n ' do & run ' em yet , ` noted his secretarial stance in drake ' s old firm , although his pride got tarnished due to the firm ' s imminent acquisition of morgan stanley .\n",
           76,
           132
          ],
          [
           "` ` i do n dat every night . ' he stood and watched the ' three boys ' freeze an illusion across the street , beer mug in hand . ` can i ask , what exactly do you brought with you tonight ?\n",
           77,
           140
          ],
          [
           "we made better progress , but a little non - stop for now . why did i wallow in my guilt in it , giving in to hunter and getting his love and trust ? why did tegan still sleep with me ?\n",
           78,
           133
          ],
          [
           "we made better progress , getting relatively isolated from those areas where i had feared . after seeing so many pack members , and eric ' s own suspicions rising , sara invited me to stand near eric , the guy behind the lion .\n",
           79,
           155
          ],
          [
           "her nemesis lifted the grinding hoof and retreated . despite the lack of rest , however , the wailing of \" the beast \" did not stop . a few odd and vaguely - familiar sounds wailed through the humid air .\n",
           80,
           141
          ],
          [
           "her nemesis lifted the grinding metal of the rolling - shop out of the eye . inside the grinding metal were a dozen eyes . oakes looked forward into the eyes of the job - man . this ... this was a dream !\n",
           81,
           132
          ],
          [
           "` ` i ' m fine , ' says lucyna , who coughs . ` no one is acting as if we are all weak intestinal parasites . ' * * outside , lucyna whimpers , feeling itchy .\n",
           82,
           121
          ],
          [
           "` ` i ' m ready . ' ` trauma doctor , trauma worker , trauma specialist > it had been more easy , to keep the boy with him , to feel the change that he was now now seeing in his father .\n",
           83,
           133
          ],
          [
           "another kiss and he fixed eyes on that wild blond - and - white hair of an all - american . after dinner , josie and george , captain savile , captain gray and the best players of the hockey team gathered .\n",
           84,
           143
          ],
          [
           "another kiss and he fixed the table for kaliko and virkova , in a room full of people . in the light of the full moon outside , the janitors lit little candles and red stemmed roses at each door .\n",
           85,
           135
          ],
          [
           "` ` like hanging out with full blooded americans , giving locals magical walking sticks and beating local councilors and other religious leaders with challenges , are why in 1972 the first live elvis presley band formed , with whom presley was touring .\n",
           86,
           173
          ],
          [
           "` ` like hanging out with dr . z , she was mugged and kissed several times shortly by , then scolded , just like her weak , vulnerable self . she was free now , and no one wanted that .\n",
           87,
           135
          ],
          [
           "he had been chosen by the ladies of st kilda before they had left for china , and before he arrived he served as liberty constable in the metropolitan police the division of the crime investigation agency , which became the metropolitan police service .\n",
           88,
           153
          ],
          [
           "he had been chosen by the gods who wanted to put the bones of a hominid to ground . now , like many gods who had died , a new god stood over them - the god cheesk the great .\n",
           89,
           124
          ],
          [
           "i pulled up to the place and smiled , remembering that things were coming apart lately . his black eyes were so thin . not a whisper of will or heat or emitting sparks there , not very intense here but quite intense .\n",
           90,
           146
          ],
          [
           "i pulled up to the building . sitting next to an open door was a nice looking couple . maybe a red - haired one , or a bouncer on their own , or a couple playing golf games , or four girls .\n",
           91,
           133
          ],
          [
           "kronsteen was initially shown to grow in the form of a dou - yang , a yin - yang and a di - yin - yang . these three sections are not the one large tree featured in the episode .\n",
           92,
           123
          ],
          [
           "kronsteen was inspired largely by the poem \" council of angels \" by james frederick mackinnon , james joyce and others . council of angels was published in copenhagen , in 1967 , by the henrik ibsen society .\n",
           93,
           146
          ],
          [
           "` ` not really a good story ( on call ) a good story . ` ` ` \" love song \" by yancey ( # 959 on vanity fair which aired in the year 1920 was filmed in color only ) .\n",
           94,
           127
          ],
          [
           "` ` not really a factor in relationships , right ? ' ` ` not really , ` sparky said in disbelief . ` well ... people come from a specific affinity group and they easily combined their relationships together into one piece .\n",
           95,
           151
          ],
          [
           "a hundred tank turnbulls in singapore is a 1942 british film released by the nceb ( ray thomas and associated company ) at the big screen , about a fight by a nine foot man ( in his marching band ) .\n",
           96,
           149
          ],
          [
           "a hundred tank turnbulls ; five tanks the size of all the armies ; nine medium - range rockets ; and five generators and a single inverted petrol engine ; and it suggested that \" his force achieves impressive operability \" .\n",
           97,
           156
          ],
          [
           "greg teased . it was almost difficult to hear . greg gave orders to get down first but up second . - - - was down fourth ? ? * * * - - where is she ? ? @ greg questioned .\n",
           98,
           121
          ],
          [
           "greg teased . the series hosted by mitch daniels jr . ( episodes # 3 - 28 ) sara & john episode \" cures \" - sara and john are transported to irkut university where they retrieve three scientists .\n",
           99,
           145
          ],
          [
           "margo blasted them . then , after kalyna set the silencer next to the weak laser beam , the attackers snarled and tossed their ripped , torn t - shirts aside , where their bodies became twisted , lifeless corpses .\n",
           100,
           146
          ],
          [
           "margo blasted them . and if t - rex threatened him , then both were going to need help . director tench sat down an arms length from julie and uncle charlie . julie and uncle charlie pulled him into a hug .\n",
           101,
           135
          ],
          [
           "roxanne had fucked everything up . it only made sense , not necessarily , because rob and mindy thomas had been three years her junior . but she had all the brothers that she loved , had loved all of them .\n",
           102,
           142
          ],
          [
           "roxanne had fucked it up with the kids and she had absolutely protected them and served them justice every night . she was briefly tempted to tell her wife , but it seemed they had been kept safe from the bad guys .\n",
           103,
           146
          ],
          [
           "eventually they had given up living in front of their bakehouse in a former castle overlooking the hawthorn hills , suter edge . tom and viljoen ( cammell ) became good friends after marrying peggy ann .\n",
           104,
           148
          ],
          [
           "eventually they had given up all hope , and the next morning , their hopes , at first , were carried away by heaviness , and although very few were harmed , they remained as they were , and their hearts grave .\n",
           105,
           139
          ],
          [
           "well , noah will be thrilled . \" my dad smiled . \" noah is really good . he and aunt natalie are really good at putting half the pizza pies on their bathing suits . in the parking lot with each other .\n",
           106,
           136
          ],
          [
           "well , noah will be back and his family . a dad and tad . a brother and tad and me and my dad and dad and tad and tad and poor tad . besides , everyone at tumbleweed knows who they are .\n",
           107,
           119
          ],
          [
           "what failed to kill a low - income soul . in the middle i saw the big house . but no matter how cluttered around the edges , the walls surrounded the house . \" baby , do you wanna come back down ?\n",
           108,
           137
          ],
          [
           "what failed to kill a horse with a sword called out to win the match and the ockhams won the race in style . description : away from richard wilson , co - owner of the horses rider : william wilson .\n",
           109,
           138
          ],
          [
           "how had i ended up sitting far away from him , thinking about calvin and kevin ? but the emphasis had shifted slightly . like me and liam , calvin and kevin both looked into a decent life class due to their advancements .\n",
           110,
           151
          ],
          [
           "how had i ended up with my own race ? the fantasy suddenly seemed as ridiculous as the reality . the job of sora and rurik was to put together forces of men and women together - for god and eternal life .\n",
           111,
           140
          ],
          [
           "verence sniffed . the man merely shrugged and shook his head . he began pulling earnestly at his hair , and a sick feeling crept slowly over him . something animal began moving restlessly , feet tapping through the mud .\n",
           112,
           148
          ],
          [
           "verence sniffed . \" sorry \" said sir hugo , sounding puzzled . \" the old man was just in fact . \" sir hugo leaned forwards , not able of speech yet so unearthly aright could hear it .\n",
           113,
           134
          ],
          [
           "he shook his head . most people could freeze to death out here without originally taking it . he would need to double - check everything at the old corral . he would keep me out there until a civil defense official arrived .\n",
           114,
           151
          ],
          [
           "he shook his head . something such as this may not matter , master . not in its present - day state . but perhaps it is important somehow . perhaps it means nothing is more troublesome now than the dossa itself .\n",
           115,
           141
          ],
          [
           "everything else does n ' pulls him in . what he knows , what he truly feels , is true . but this day , he meets the people , really ; the many woods , the national seashore , the many beaches .\n",
           116,
           136
          ],
          [
           "everything else does n ' ' like \" [UNK] \" ... a flashback to a father and his beautiful son \" [UNK] \" family narration : \" [UNK] \" ... a weird thumping sound , like somebody banging the lock on the big door ;\n",
           117,
           153
          ],
          [
           "though now kaplansky myaskovich can tell the truth : will the night pass one for us , to frequence , or will i go back home and stay until the night comes , should zakah come ?\n",
           118,
           130
          ],
          [
           "though now kaplansky my most recent role - this time george r . howard . am i no prince ? italian - french translation : rue de landan ( 1983 ) opening : the silver star , my good friend . think !\n",
           119,
           151
          ],
          [
           "yarek rubbed his chin as \" i \" and \" \" i \" ( ' the big frisky little one ' ' ) slapped him as well . he often bobbing around when he felt as yarek always did .\n",
           120,
           124
          ],
          [
           "yarek rubbed his chin . \" it must be my brother . can i offer you some water ? \" yarek looked up at his brother . \" the maggot is very large , the size of a gold watch .\n",
           121,
           125
          ],
          [
           "nora would lapse into a routine . what are you seriously thinking ? she wondered , but answered quickly , disregarding her own irrational worries . okay , okay ... let me remember the dream that dham had killed a demon .\n",
           122,
           155
          ],
          [
           "nora would lapse into guilt , or suspicious pricks if she should . david stood up , saying , \" ach vy \" , hargrove stood up saying , \" you guys gonna go back down to dinner ?\n",
           123,
           127
          ],
          [
           "i mean , not even the kids over at the zoo could hear me , acting like one crazy person . i screamed , threw up my hands , and fell onto the hard , uneven floor in the middle of thousands of zombies .\n",
           124,
           141
          ],
          [
           "i mean , not even at these old public places . every year , some girls are crying , saying that the painting ' s in our boat voyage ( when it needs to be taken down the beach ) that some girl remembers .\n",
           125,
           142
          ],
          [
           "selena didnt really know that - - for all these years she had truly had no notion on how easily she could gotten queen of her cribs from the blueprints - in fact , which was not strictly true .\n",
           126,
           136
          ],
          [
           "selena didnt really know her , but i can tell you , i didnt know her . selena : have a great day , selena . dedicates : look , selena , i really ' m sorry about your parents .\n",
           127,
           120
          ],
          [
           "he definitely has a way of either helping the kitchen , helping his mom ' s with the cutest looking things - the little toys , or just helping them with the big toys ] and doing well with the little toys themselves .\n",
           128,
           135
          ],
          [
           "he definitely has a way of holding on to me . \" they climbed the steps leading back up to the house with me on top . it was easy work , but as always , i really wanted to reach grant right now .\n",
           129,
           137
          ],
          [
           "chris looked at mitch who stood right across the table from the other student , miralli , and she , too , had climbed the stairs upstairs to face haruki again . who else knew ? but thishad already happened .\n",
           130,
           147
          ],
          [
           "chris looked at mitch who had almost toppled over . what good did he feel ? he looked up to find chris on the bed holding up the orthought reading ' teeny puppies ' as he had done earlier .\n",
           131,
           135
          ],
          [
           "actually , he smelled great - maybe not at all - cleaner . better , somewhere else , though , the depths were as black as bone . from the first prow , he passed water from the second , a nasty mess ;\n",
           132,
           139
          ],
          [
           "actually , he smelled great . full of his kind , like blood and water and skin , but no real kind . then the music stopped , and a deep growl came from somewhere above . yeah , the hound had been here .\n",
           133,
           142
          ],
          [
           "charles sighed . his men loved their war , and they fought for life . all of the men who fought had proven themselves loyal and worthy . they had the strength to live , and not be killed , as well .\n",
           134,
           135
          ],
          [
           "charles sighed . the ores are weighed , and belted and loaded on horses . the only ten - tonn loads for mining are these small cars . twenty - three pound tons , mean weight for small people .\n",
           135,
           129
          ],
          [
           "i was looking for you . she was it . she shoved him up hard . she looked up to see him sitting and sharing some sort of joke just as the sportsmen were over . all three men were laughing shortly afterwards .\n",
           136,
           136
          ],
          [
           "i was looking for you , on the beach , and what of a beginner you must be ! ) are you cloud white ? ( [UNK] ? ) yes ! ( ) no , no , no ! cloud white is not !\n",
           137,
           122
          ],
          [
           "he would answer . yes , the ghost was the ghost , but yes , you are the ghost . you have heard it . the sound caused her to stumble , and she jerked back in surprise - but she recognized it .\n",
           138,
           128
          ],
          [
           "he would answer . he was convinced , even many years later to wring answers from this young woman , that he was to be more or less stephanie or zillah , or some other fate , but to who ?\n",
           139,
           132
          ],
          [
           "a heavy foot scared off horses but took the men to the salt washes beneath . their camp would be down here below the floating islands in the lagoon ( cosmo latina , as the captors ' horn sounded ) .\n",
           140,
           140
          ],
          [
           "a heavy foot scared off noise like that of passing animals . those poor damned people ... i sniffed the air . gods curse , it was almost nothing but tree limbs , acting as a wedge between the earth and the woods .\n",
           141,
           148
          ],
          [
           "i had no idea he precariously sat like this . that powerful oratory , which blinded him to a new crop of memories every minute she talked , earned him a boost . and not helena hart . not niki .\n",
           142,
           138
          ],
          [
           "i had no idea he had done team work , but i know that being a team member has sometimes been weird for him . concentration has merged with his intense focus . he starts to slowly relax and takes slow , tight breaths .\n",
           143,
           149
          ],
          [
           "i told him we would all take a look and anyone with a cell phone would probably see it coming . \" winga then started reading marlene dietrich , dick van dyke , and charles de gaulle . another thing winga missed .\n",
           144,
           147
          ],
          [
           "i told him we would be friends for a long time now ... probably because she knew he was pushing her , testing her , finding her someone special . she says his amazing baby sister has a thing for him , right ? '\n",
           145,
           148
          ],
          [
           "one of them sat apart from the other two on the opposite side , while the other two were , for several moments together , about an unknown they recalled , not knowing where the information was coming from because of the upload .\n",
           146,
           149
          ],
          [
           "one of them sat apart from his brother , george , he george took a look around he told him he liked the middle kids , the twinkles in his eyes , he said as he won the girls gold and silver games .\n",
           147,
           133
          ],
          [
           "` ` i ' m kate howard , kate ' s sister katherine ( susan howard ) ; and kate ( known as her sister kate later in life ) had a daughter ( kate howard ) ; kate was a beta club member ;\n",
           148,
           123
          ],
          [
           "` ` i ' m in contact with viet - xe , working on the return of prisoners of war for the allied law enforcement . ` ` the young man listens intently , his head startling , only a little .\n",
           149,
           136
          ],
          [
           "dominic looks surprised . director : aaron brown . guest stars : tim matheson ( 1985 : long way down ) ( the episode \" just a kiss \" ) daniele stevo bruno . bystander : sean bradley .\n",
           150,
           142
          ],
          [
           "dominic looks surprised . or intrigued , to like something he ascertained kind of vulnerable , loving and caring , and kind ( like so kind to me ) . kind of good . * * * \" cut it out .\n",
           151,
           130
          ],
          [
           "actually , it ' s called evolution . \" i looked out the window and i saw the huge evergreens hanging from the branches , like they were meant to possibly be our own . was i going to see them every day ?\n",
           152,
           146
          ],
          [
           "actually , it ' s not droning to me this time . \" that , well , was strange to do the same , but she thought , just like the voices said . \" you have to wake up , little boy .\n",
           153,
           127
          ],
          [
           "` ` please do n f get the same ? ' ` hh , hh ' , translated by r . m . torrez . tirol alto , 6 august 1979 . ` ¿ cuando su hacienda ?\n",
           154,
           119
          ],
          [
           "` ` please do nnud . do you understand my reasoning , mr jones ` ` when bill enright was born ( ' nnud ' ) , the government , as you may know , trapped him without mercy .\n",
           155,
           131
          ],
          [
           "when the dragons face loomed , caspian makes it clear ( fragment a and fragment b ) that he kills all dragons except the frogs , by eating their tusks first . the dragons fight back , bringing out them partially victorious .\n",
           156,
           149
          ],
          [
           "when the dragons face loomed out of nowhere it was never uwee ' s first sight - but still it was his first real sight in years . he remembered her , the girl from kool - heo , very well .\n",
           157,
           132
          ],
          [
           "i did n ' t want to further derail him . ' no , that ' s not what i meant , ' i told him . ' but i think that you wouldn ' t know it wasn ' t just me .\n",
           158,
           109
          ],
          [
           "i did n ' t laid flat on my back while i got beauty salons , a tattoo parlor , and an barber shop that pasted on the same kind of shirt that had some kind of weird norman rockwell logo design .\n",
           159,
           138
          ],
          [
           "he ' s gripping my thin material , causing it to luster . i swallow it all down , attempting to calm the pain in the head that fears me . my entire body is no longer hurting , but out of control .\n",
           160,
           139
          ],
          [
           "he ' s gripping my shirt hard as he whispers that we should start using fake names . maybe gage is still not the owner of these thoughts . but everyone appears to be listening , and most of it of all , gage .\n",
           161,
           145
          ],
          [
           "he looked around at the stunning view of london before him as he skirted the range of views into , once again , dangerous english countryside - no matter what is the true meaning of : call me if you have any questions .\n",
           162,
           153
          ],
          [
           "he looked around at the available seats again , but the joint production team had taken up the sole occupied chair . he ran to the table where nate sat , and he could hear kelly and nate laughing as they sat behind him .\n",
           163,
           146
          ],
          [
           "the dizzying noise had not faded since they came together : the power of their bodies , every part exposed , the flush rising from their high cheekbones , bound in a tight knot , rippling together so fast and so close .\n",
           164,
           152
          ],
          [
           "the dizzying noise had already shifted from a racket of guitars to a pitch of even 50 hz . a low - mileage toll on the i - 280 received state funds , and was approved by the legislature in november .\n",
           165,
           150
          ],
          [
           "i stalked out of the coffee shop . i was used to just what i knew about him - his resemblance to mrs . anderson , what he thought she liked . when i finally walked into the shop , i was taken aback .\n",
           166,
           141
          ],
          [
           "i stalked out of the room . ' meet your good friend here right there . ' okay , so i still felt cold inside . ' stella , are you okay ? ' ' yes , no problem , actually ... oh really .\n",
           167,
           131
          ],
          [
           "' dreams is not like this . it will be very , very bad . ' things will change a lot if i see him again . this dream to me was a 35 year old man , on bicycle on an open street .\n",
           168,
           130
          ],
          [
           "' dreams is not like god seeks things ' , says allison taylor - smith . \" god does not seek revenge because of his son ' s death \" , nytimes . com , february 2009 . scott , michael richard .\n",
           169,
           144
          ],
          [
           "` ` hey , rafe . ' ` y may ... go to the beach . ' he nodded . ` beautiful , very beautiful . ' the bus stop was close to the beach , but no fare was paid by anyone here .\n",
           170,
           119
          ],
          [
           "` ` hey , raferme petasque esta , that crappy little chaps man up there , \" said rachel . \" not that bad job , \" said john dittweiler , her former best man .\n",
           171,
           118
          ],
          [
           "` ` do n ' love the instrument ? ' ` is that true ? in the united states , playing in tiny little clubs ? ' they had had some rough times and after some good piano lessons they decided to move on .\n",
           172,
           139
          ],
          [
           "` ` do n ' and ` ` ni ' ' ' ' they are translocating . they are called to as crescents ' . writings of edwin de michaelis ( and henry bewley ) ; see in discussion .\n",
           173,
           122
          ],
          [
           "at least that was why the martians trained under him . he had never been more grateful to have someone better treat him than to be back in space , in the only known all - star troop of good martian military men .\n",
           174,
           147
          ],
          [
           "at least that was why the original episodes had been sent to the finish . tom was shrugging it off in like an indian and coming s . h . s . trailblazer he was compared to phineas phineas .\n",
           175,
           130
          ],
          [
           "did i ask it of them that after \" where may she bury them \" ? did i say \" she may not bury them but give them souls and their nothingness and their mews and what sick and mirth \" ?\n",
           176,
           117
          ],
          [
           "did i ask it of you ? \" \" i went into the bedroom and thought you were dressed with nothing but your clothes , \" he said , his voice low and hoarse . she closed her eyes against the sting of tears .\n",
           177,
           140
          ],
          [
           "he let the shorts drop a few inches , briefly hoping that this time he would have prevented the filtration . hoping but instead of waiting for her to decide on a uniform or dress . this was their joint greatest achievement .\n",
           178,
           154
          ],
          [
           "he let the shorts drop and \" saw spools \" on a picture by jean musset of paris , the french choreographer who became the later godfather figure of ice and buggy roller skating at the bergstrom arena .\n",
           179,
           142
          ],
          [
           "` ` now ? ' the man whispered . breathing very hard , richard answered very calmly , ` the life you promised , alo ! ' a sudden \" alo \" blast from an automatic gun crashed through the front window .\n",
           180,
           145
          ],
          [
           "` ` now ? ' ` the [ h ] e had assassinated endymion the troll ( the elf ) , apparently , and now the british elves are working for him , right ? ' john leaned forward with renewed interest .\n",
           181,
           142
          ],
          [
           "just pull over . not even think about what happened . just let me go one last time and get me . rhett believed for some reason , that he and eve were still alive . that they could survive to live .\n",
           182,
           136
          ],
          [
           "just pull over . ' ' the bridge ... yes , yes , ' she said . ' it sounds very soft , now , and somehow it seems that maybe someday , sooner than ever , we can write our own songs .\n",
           183,
           131
          ],
          [
           "without looking at the party , he pushes the band aside to the front of it , and the members walk in . most smiles , even in the shadows and in the air outside , and this can help save their pretty faces .\n",
           184,
           138
          ],
          [
           "without looking at the party she talk to her friends and the singing people that are performing new songs or covers who they do each song , i do each song , i do even each song wroth , tonight is the night !\n",
           185,
           130
          ],
          [
           "but he did n ' that was all i ever saw on our faces . they crammering away , torturing us , just seeing us in it . she must have pulled away to make sure she was all right again .\n",
           186,
           125
          ],
          [
           "but he did n ' ith again after duke yan , under circumstances in which the wei army lost a division , still never returned . when he did return in 553 , he took part in the second battle of wei .\n",
           187,
           140
          ],
          [
           "okay , garrett was standing beside her now . although , it was still not good to see him again . people had already begun to gather around the fire , and she was enjoying being ignored and being \" polite and nice \" .\n",
           188,
           146
          ],
          [
           "okay , garrett was standing right there . http : / / riley , riley riley greyfrie , riley , riley one side riley riley two side riley riley would come to camp a lot sooner or later with his mouth open .\n",
           189,
           127
          ],
          [
           "hated the heat , the humid air . hated the smell of shenandoah and smell of petroleum . he inhaled thoroughly , carefully , trying to calm himself , as if seated on the icy ice . the thunder broke out outside .\n",
           190,
           137
          ],
          [
           "hated the heat , the team travelled home to montreal along with james savage . david westham won the silver medal , but when he returned to toronto he lost to savage by points in the first canadian final since the 1952 olympics .\n",
           191,
           162
          ],
          [
           "he might seek recompense outright from the shadow court . still , he had no family . he performed such duties on behalf of his family in times of war . the way the lord eibhear ruled was no exception .\n",
           192,
           142
          ],
          [
           "he might seek recompense for his own actions , along with others that had done him no good , as if uncle yamada wanted all heads bent between him and the old guy . \" you hear that , old man ?\n",
           193,
           139
          ],
          [
           "or so the gods had always seemed to say . a child like only one of them ? or was that child not a child with wings already , but a follower of the hellry devil and two or more gods like him ?\n",
           194,
           132
          ],
          [
           "or so the gods had always told me sometimes , even though it took two years away from winter to tell why it would soon be fall - in the valley where the little raven had gone ... the night fall went on forever .\n",
           195,
           144
          ],
          [
           "lisa shrugged . if alpha 1 simply contains a single key , then \" alpha 2 \" , which , like \" the torus set \" , states \" a single key only contains one ( each code character ) \" .\n",
           196,
           126
          ],
          [
           "lisa shrugged . miss julie ( 1972 ) , starring gore vidal and anna garcia topher , she was sitting in the lowder beauty queen after a fine day , then she says , why did you let her go ?\n",
           197,
           140
          ],
          [
           "had a ghost told him he would be hit by someone like dani for dating two new women , against the wishes of natalie and jaxxon ? because who was dani ? like gemma , gemma , jessie , or kimber .\n",
           198,
           137
          ],
          [
           "had a ghost told him his name ? something or something else . was sam his age ? maybe i had seen his eyes briefly before they turned red . sometimes i think he said he liked the warmth leaking out of them too .\n",
           199,
           141
          ],
          [
           "daniel had called 911 and asked violet if it was ' lee ' , or if she had any money . ' sorry for jitters , ' daniel had said . by this time , the walk - off ended one by one .\n",
           200,
           131
          ],
          [
           "daniel had called 911 and responded with an increasingly droning voice . \" damn you , you bitch ! \" he shouted . he was right and a wild one had already burst into the room . edie used the phone late .\n",
           201,
           146
          ],
          [
           "i was certain of it , that it was wrong , even if it was still true on my behalf . there was a power that had outrun her . he took the book from me . he took her from my house .\n",
           202,
           119
          ],
          [
           "i was certain of it when i saw the actual bullet wound on the cps weapon . 115th police district of south dakota , south dakota state troopers john rushmore , mike o ' neill and others : officer reported under .\n",
           203,
           148
          ],
          [
           "weird how mom and kenny became obsessed with \" sons of god \" on their sitcom our hero ! , which premiered in 1999 . always in line with fantasy - type anime never happened because they had never come out as a couple .\n",
           204,
           156
          ],
          [
           "weird how mom and kenny finally realized that . like hell i love this game . i remember using it with a different password to use when we were seventeen . high school football ... wow , kimmy thought . that sounds great .\n",
           205,
           156
          ],
          [
           "the princess nodded . the words echoed in her voice . \" nothing is broken . mr . tremain and monika committed the most psychopathic acts . who says who ? \" the hand fell away , revealing her face .\n",
           206,
           142
          ],
          [
           "the princess nodded . princess , how could you have bounced back so quickly ? the green snapped . they intermingled for the second time in time . once more than her death , and then once more of the death .\n",
           207,
           140
          ],
          [
           "` ` you ' re just making an important message , ' said the chief administrative officer . all messages - emails , voicemails , mail messages - were displayed on his computer , so - called messages of very low quality .\n",
           208,
           148
          ],
          [
           "` ` you ' re not going to throw me into that hole , ' the faint voice said . ` can you move to the other side and try a whacking swim ? it will only give you one more moment .\n",
           209,
           130
          ],
          [
           "he did n ' t , dr . keren , not even close . i hated him , but both mr . marason and i did foreclose him this time . how do you define a vampire by a name ?\n",
           210,
           118
          ],
          [
           "he did n ' t say anything about the psychopath part of it , only asking me questions as i lay there motionless in the bed , but he woke me up and told me all about being on the hunt for eli .\n",
           211,
           134
          ],
          [
           "a long , curved parasol airfoil hovered and was lifted above the ground . the men on board watched in amazement . the plane stopped immediately after being stopped . the plane was going extremely fast , very fast , very fast .\n",
           213,
           142
          ],
          [
           "` ` something that you may have heard about here , ' tarlicek said . ` i did , i did . nothing in particular . grubb , as you can see , is still constitutionally protected by customs .\n",
           214,
           135
          ],
          [
           "` ` something that you hope ' s unassisted by glancing around ? ' ` friends here on the deserter watch and stare around with wide eyes - er , rumfuss , me , yeah , that ' s .\n",
           215,
           131
          ],
          [
           "it had been so long three months since he left , but she was clearly not going to ask how long it had been , a way his gut clenched at the thought of typhoid and wondering if it could actually help .\n",
           216,
           139
          ],
          [
           "it had been so long ago , so easy , a hard journey had already always been needed . and still it took a little trying to get the cart back on the tarred and cracked road , and on the plain below .\n",
           217,
           134
          ],
          [
           "she took a deep breath and then , rather than curious , closed the door . ~ the recipe for warmth and sunshine ~ ~ ~ at the carriage house , susan stepped out onto the balcony . she slipped into her ball gown .\n",
           218,
           142
          ],
          [
           "she took a deep breath to steady herself before letting it out , followed by the gold - filled hotel room and the four o ' s in her jacket pockets . so much for the power . mother and son was always together .\n",
           219,
           147
          ],
          [
           "she could feel her eyes closing but only for an instant . \" correct , \" said the voice . \" i have heard it spoken a thousand times in the ancient mediterranean past . \" \" especially in pontus , pontus .\n",
           220,
           141
          ],
          [
           "she could feel her eyes lingering on the leaves . these were not actually misting leaves ; this one was probably created for the protection of insects , for everything could not be changed . the attack upon them took place last night ;\n",
           221,
           157
          ],
          [
           "i trust you , magpie said . we are doomed to dwell in this world , the stars said . but we still live wherever we are on the ground of this destiny , and surging like a rain we keep flowing .\n",
           222,
           132
          ],
          [
           "i trust you , magrat . ' he studied the hombre and waited for their assessments both . ' i understand that for every human being , this ( even a certain particular one ) is more important than any of this .\n",
           223,
           145
          ],
          [
           "' what good will that don ' t do , princess ? ' sometimes death was another reason she ' d been avoiding shaving crocs for most of the last year . not just because of her ' survivor ' quality .\n",
           224,
           139
          ],
          [
           "' what good will that do to us ? ' said berengar , now aware that the two knights , \" cillian \" and \" anyx \" , had been confined in the red tower for a few hours .\n",
           225,
           123
          ],
          [
           "might be more efficient . shutting the door , he was startled a moment later to hear voices drifting over , each murmuring their appreciation . \" arrest him , my lord , let him . \" he turned toward the front door .\n",
           226,
           148
          ],
          [
           "might be more efficient . \" \" what do you have to say to that ? \" \" this is gary j . adams . remember when the cops came back to area # 1 last week and there was one a week after ?\n",
           227,
           134
          ],
          [
           "i hope shes the control freak of brothmelon , strolling through dressing rooms and rooms with men like me , and i hope ( and i hope ) that that will be how the ever - after will become .\n",
           228,
           127
          ],
          [
           "i hope shes the blonde with the bad kinky baby doll face , they are older , like monsters - from - the - movies - , and they are all guys in ready - to - kill tee - shirts - .\n",
           229,
           124
          ],
          [
           "sheree had no recurrent development plans for an additional play - in game yet . she picked farms on the fringe of the woods . she lived on a hillside farm she worked on and would love it and would sometimes pray .\n",
           230,
           142
          ],
          [
           "sheree had no receptive body . she thought she could , and would , do anything . then , in that split - second , it all occurred to her . perhaps sheree had already done a lot more than that .\n",
           231,
           132
          ],
          [
           "i say this , wondering just what my mom could have told me about my dad ( or him ) being a jerk . he had a rare friend , an exotic visitor , that really just showed up at school and found me .\n",
           232,
           142
          ],
          [
           "i say this , wondering about women whose underwear had to have another set up after a man without a condom was ready for the ball to give out . and i hear it there about women not knowing what happened to their dick .\n",
           233,
           146
          ],
          [
           "she ' d never seen cell phones before . but these , along with the smile from the first ring , the girl liked them as the next swoosh . if anything , she couldn ' t be a little bit fairy .\n",
           234,
           135
          ],
          [
           "she ' d never seen this dress before , the mom look like this - in this color . ' that dress and those earrings do you all right . so do you , ms . connelly , ' mrs . davis said .\n",
           235,
           126
          ],
          [
           "coop assured . \" and we heard about kids all over town . kids , kids , teenagers , shockees , kids who came out with a hand under your shirt , kids . \" \" it ' s just kids .\n",
           236,
           122
          ],
          [
           "coop assured . g . go ! this line is from edmunds \" a see - saw home that was lit with a candle \" , when [ wireman ] and the women are \" linked up to one \" .\n",
           237,
           120
          ],
          [
           "i walked toward the exit . i had had a good time about all the comic book characters in phoenix and for this collaboration , it would go on . jennifer lopez , billy graham , encountering celebrities and finally putting them together .\n",
           238,
           161
          ],
          [
           "i walked toward the exit and looked behind me . the houses were gone . lucas kept calling out \" go , \" but then he and lucas were both already running towards the main building . nikolas was right on their heels .\n",
           239,
           142
          ],
          [
           "in the past , he was friendly with her secretary , caroline jones and eventually married and had four other boys : toby , bradley , taylor and charles . guy is still not married ( two boys dead and a girl missing ) .\n",
           240,
           150
          ],
          [
           "in the past , he was maimed by ava , against his people , never having used a weapon , and never having reacted to them when ava drove him off ; now if not out of love from ava he rules himself .\n",
           241,
           136
          ],
          [
           "landra asked . < angel magnificate de oaxaca . \" h > / \" n \" e \" or \" w > < mr . antonio de marla ( mexico , usa ) arrived at the station .\n",
           242,
           113
          ],
          [
           "landra asked . \" for each decade that we ' ve been through and produced this project there is no longer a creative component in the story happening today and , from what we have heard , this world remained almost intact .\n",
           243,
           154
          ],
          [
           "` ` detective coughlin from chicago , who knelt down with the telephone in the yard from the call center in salt lake city , said : i am so very grateful to you . people do whatever necessary with their own hands .\n",
           244,
           152
          ],
          [
           "` ` detective coughlin , congressman maxwell . ' the testing might be \" classified \" . the victim was someone who wore a suit of armour . ` vanessa , vanessa , vanessa , vanessa . ' vanessa knew what was coming .\n",
           245,
           140
          ],
          [
           "i hid behind a tree where the sun , streaking the morning light was reflected off the leaves , watched the milk fall from our favorite spring , heard the spring water - foaming streams - clucking and chanting along .\n",
           246,
           143
          ],
          [
           "i hid behind a tree . they climbed it , sitting on their side and doing nothing but grip the steering wheel . i cooked spaghetti , salads , and other dinner - style dishes . i ate and cooked most of it .\n",
           247,
           137
          ],
          [
           "as edwards relentless campaign intensified , they relied on their screens so that they could see through the main line until one hippie proclaimed , \" they are the only people ! \" surely the crowd would keep on watching until almost midnight .\n",
           248,
           158
          ],
          [
           "as edwards relentless campaign intensified after the election , the funding for public houses was found to be inadequate with the assistance of the general public . the campaign took a four - year campaign lead and focussed on the department of housing .\n",
           249,
           165
          ],
          [
           "it was me . instantly , she went with rahim rahim as well , asking for words and stories , begging for lots , but not the wrong soul . a soul a soul had not even known in the town .\n",
           250,
           123
          ],
          [
           "it was me . and . and . . . and . . and . of . and . . and . and . and . and . and . and . and . and . . and . and . . . .\n",
           251,
           39
          ],
          [
           "take heart and be of the living , with me , and do your part with me , and joyfully , if you wish it , i will seek the comer of the lord from afar , and find you worthy ! '\n",
           252,
           120
          ],
          [
           "take heart and be of a bumblebee , my home , my home , my home , my home , my home , home , my home ... and my home ... its channel covers only a majority of midwestern destinations .\n",
           253,
           107
          ],
          [
           "` ` i never meant it . ' ` ` ` ` _ _ _ _ _ _ _ _ _ _ _ _ _ _ i read to you : i hurl over you and at next breath i kill but defend .\n",
           254,
           92
          ],
          [
           "` ` i never meant it to be that , but all those with id know it . ` i talked to the washington times yesterday , they checked the dna and scanned the marks and photos , recorded the marks and the photos .\n",
           255,
           132
          ],
          [
           "the faint outline of something in the window is straying from the screen . \" \" and the al - - - - - - a man named salvatore ? \" \" hmm ... you mean fratelli ? thin and short ?\n",
           256,
           124
          ],
          [
           "the faint outline of something else in the distance . no sign of any homes , except the nearby hill . he noticed one of the homes looking like they were made of black brick , but less so than the differently rendered others .\n",
           257,
           150
          ],
          [
           "no one in responsibility would hear . \" where ' s if the car will come back ? \" \" it stops ten miles north of town . think of it carefully , dr . farrow . \" being a physician was painful .\n",
           258,
           141
          ],
          [
           "no one in responsibility would ever leave the general public itself . so far nobody even came to talk with him while he was away . his foster mum died in an emotional breakdown ... and then ryan left his family for a while .\n",
           259,
           154
          ],
          [
           "` ` good , ' frank did not address the officer . dr . cooper came forward , but his voice was grave , as to the man who had cuffed frank . ` most of it , ' the felon said .\n",
           260,
           128
          ],
          [
           "` ` good , ' frank said . he sighed , satisfied . ` then , we drove into town and we picked up the two - cd band set and we lugged them to the jeep and they started drooling .\n",
           261,
           127
          ],
          [
           "tithren had always loved her , filled her with adelias he cherished and redeemed . she had fought because she understood the ancient mission she had to pursue , and she now knew it and loved it .\n",
           262,
           132
          ],
          [
           "tithren had always also sent him a good message , on the basis of his fear of half - dead and martis who were shadowhunters . she informed her son , who responded , as he had always done .\n",
           263,
           129
          ],
          [
           "what news sir richard ? \" \" no other man i have ever known , sir richard ashworth , has ever bowed to me . sir richard bowed to his first companion before me , captain fox . \" captain fox shook hands .\n",
           264,
           126
          ],
          [
           "what news sir richard ? the observer . december 1962 . norman 1980 , p . 94 . john hastings \" on the path : from saint george to cairo \" east africa history bulletin . february 1935 . \" sir john hastings \" .\n",
           265,
           153
          ],
          [
           "if you ' re ever down , you better get down ( 2003 ) h . m . live 7 ( 2008 ) from the \" special edition \" releases ( 14 january ) , track \" 1 \" / 2 \" is listed .\n",
           266,
           128
          ],
          [
           "if you ' re ever queuing up , find this key back for me . ' ( if you insist . ) suddenly , reality had made itself known . ' people get sick sometimes . ' and you did it all night .\n",
           267,
           133
          ],
          [
           "` ` hey , it was like that when we lived in san francisco , in my studio for nine years . ` he gestured toward the closed garage door ` hey , i liked to play football . i used to swim sometimes .\n",
           268,
           137
          ],
          [
           "` ` hey , it asks you questions mentioning the name of a ship . ` ` _ _ _ _ _ _ _ ` ` there was a brother whose wife and a daughter never left their homes . and a mysterious place .\n",
           269,
           129
          ],
          [
           "this is why sex today was different , there were no flowers , there were no walls , but this was everything that grew in the garden , only planted plants were flowing here and there , never bothering to swill on it .\n",
           270,
           136
          ],
          [
           "this is why sex today . what happened when one of those \" booty calls \" meant i could forget about sex ? my movements are just so slow that when i am just thinking , i consider just saying it out loud .\n",
           271,
           143
          ],
          [
           "dad folds his arms in his chest as if having second thoughts , much like the day the reactivation scene began being depicted , six months later , when dad became a soldier of fortune and changed his name , changed his attitude .\n",
           272,
           153
          ],
          [
           "dad folds his arms in a proud gesture and calls out , \" romeo and juliet to timons and abreon , to all of you . \" warriors and heroes from my past have taken my life , courage , honor .\n",
           273,
           133
          ],
          [
           "in fact , the only one about to come over to her side was ravan , so he had sensed his presence . llorel looked around the bubbling bay and then back to where the two oarsmen had been .\n",
           274,
           131
          ],
          [
           "in fact , the only visible weapon was fired and the man had obviously not taken a true hit from any weapon or weapon . a few voices rose up from the other room . jess , tom and menzies all froze .\n",
           275,
           136
          ],
          [
           "fern asked . not as gently , but kindly . fern missed her very younger niece , amanda ( her mom and i all missed her too ) and her very older sister , veronica ( miss stella of ohio ) too .\n",
           276,
           128
          ],
          [
           "fern asked . this makes laura even more aware that fern has another issue . when the man asks if laura can wait until dawn , laura finds herself wanting to call early to get a good look at her phone again .\n",
           277,
           142
          ],
          [
           "jewelry ? it sounded qualified as very interesting , too , which , she realized , bothered her entirely . gray ranted on about their discovery . \" the results of mining reveals the existence of precasta . \"\n",
           278,
           146
          ],
          [
           "jewelry ? ! \" \" let me see ... \" \" oh no , what the animal here , the stork mastoid ? ! what about the animal here ? ! \" \" what ? \" said jason .\n",
           279,
           102
          ],
          [
           "but the coffin was moving just in time to see all the souls turn and face the rear wall of the pit . it was surrounded on all sides by mass of smoke , smoke , and the crisp sound of metal striking stone .\n",
           280,
           139
          ],
          [
           "but the coffin was moving slowly , and now it was no longer as slow as he had been , a life - long host of ponderous lurchers who had abandoned all jubilation and bickered amongst themselves .\n",
           281,
           134
          ],
          [
           "hallevar shook his head , placing his gloved hands on hers , repeating the process , rubbing one against the other so that she could more carefully tell if he was holding hands with sarssen or desh despite any circumstances .\n",
           282,
           153
          ],
          [
           "hallevar shook his head . by the flickering lanterns , he could see a dozen formal gardens , some with lanterns and flowers . the water flowing into the fountain was psychotherapic , but it was still all hot water .\n",
           283,
           146
          ],
          [
           "but you have to try going out with your parents before doing anything . and in the end you were going to forget all around what they told you - that there was just no other way to separate yourself from the whole world .\n",
           284,
           142
          ],
          [
           "but you have to try your best to strike , rith , and call for you to force them to come closer . they just have to keep moving . if only they at least were lucky enough to get off the road .\n",
           285,
           134
          ],
          [
           "foxglove , i see , high in the air , with no dirt surface , no floorings , just dark piles of chalk . chalk like the previous one . harlin closes his eyes . we sit for a moment .\n",
           286,
           130
          ],
          [
           "` ` are n ' or c ' ? you ' ll never remember when i first saw this image on the galloping horse . ' ` i ' d prefer [ n ] cae with you , with the boy . '\n",
           288,
           121
          ],
          [
           "` ` are n ' s working with al - qaeda ? or homeland security ? ` ] they identified a woman with a star tattoo who sang \" keep on \" as vice - chairwoman of the 2 , 000 strong group .\n",
           289,
           140
          ],
          [
           "maxs cauliflower ( 1952 ) [ directed by the soldier boy ] midnight in mantasama ( directed by robert powell ) man out in mantasama hinsdale and the soldier boy ( also starring ) dr .\n",
           290,
           125
          ],
          [
           "maxs cauliflowers ( associate editor ) , old persian carpet maitre de la chapelle ( editor ) , classical greek and ancient greece , new perspectives 16 , no . 1 , october 1996 , p . 120 .\n",
           291,
           137
          ],
          [
           "this was n ' t any of them , but all the overlords , so i ' m talking about nanny ogg . we all just love her , but sometimes , for all we know there is some trouble somewhere .\n",
           292,
           125
          ],
          [
           "this was n ' t a cabaret or something , there was some thing either ; like something like this where you ' ll try it again again and incidentally different ; like i even care , just not like henry ' s .\n",
           293,
           135
          ],
          [
           "the further down we go , the question becomes more than one . first ... he begins by saying ... and then i sort of ask him ... and eventually we start talking about our time together ... well , not much , actually .\n",
           294,
           146
          ],
          [
           "the further down we go he regains his balance , the dizziness and the buzzing in his mind returned . he comes to just short of mini match matches with his feet so studious take his blow or his ribs break .\n",
           295,
           140
          ],
          [
           "peter walks to me , inspecting me in a brutal , terrifying , way - not like i felt the acrid pyre of sunset , with the entire world in its stasis , or peter touching and arming me .\n",
           296,
           129
          ],
          [
           "peter walks to me , and i forget he has a rockstar account with his credit card , and he wrote my ' phone number ' and my ' phone number ' right at random , and all my brain is going wild .\n",
           297,
           128
          ],
          [
           "give it a little more time . \" \" i can probably do it . but first , i suggest you wait out in line to ask questions . next time i can pick something from the trees ahead to use for football practice .\n",
           298,
           143
          ],
          [
           "give it a little more time , and then you will have freedom . \" he politely seemed to consider this proposal , then remarked , \" with me holding over the restraining order from you , she may not want to be released .\n",
           299,
           148
          ],
          [
           "chapter 49 : are we not cinderella ? what ballad is this cinderella or another cinderella ? ( 3 ) . chapter 51 : ( 4 ) : \" to the orange , blue and white mountains \" . chapter 37 : beautiful longing .\n",
           300,
           141
          ],
          [
           "chapter 49 : are we safe ? \" ; chapter 49 \" good is good \" ; chapter 49 : season finale season nine ' s \" the silent return \" , batman describes eisent enchantment \" killing you \" ;\n",
           301,
           126
          ],
          [
           "owen did n ' t adore motorcycles anymore . it looked like a shetland pony with two bodies - as if this was not something that might have ever been happening before . plus , he only rode motorcycles like the old ones .\n",
           302,
           149
          ],
          [
           "owen did n ' t pick me up at the store until thanksgiving , when gran had found out about his brain - surgery . and all we were still pretending now , but right now owen and i were still in it together .\n",
           303,
           141
          ],
          [
           "i took his hand and pulled it its way into mine . we were both fully nude ; we had on some \" horny guy look \" . matt and i laughed . for a moment he just whispered ' devyn ' .\n",
           304,
           132
          ],
          [
           "i took his hand and mopped his tears away . i held him tight as he screamed his last . my skin rose on fire as i watched in the dimness of his screams and shrieks , until the sound stopped .\n",
           305,
           129
          ],
          [
           "` ` i ' ve never been married to anything . ' ` they are my family among the women and children at wyore heald and house in barony , along the solvay lake , above the palace .\n",
           306,
           129
          ],
          [
           "` ` i ' ve picked up some things , pretty much some years ago , from katherine joseph busht ( family name ) . ( ex : dr . ross and katherine joseph busht . ) ` yes , dear boy .\n",
           307,
           128
          ],
          [
           "did this mean that i was covering up my failed attempt that night by using the same cdrv at the museum ? i could only imagine using my blood - magic . guess who ... but how could this happen to me ?\n",
           308,
           140
          ],
          [
           "did this mean that i was not just \" perfect \" but still very different ? lottie ' s thoughts came to a halt . there was just something outside of me that ( ) is why i called them ' good ' .\n",
           309,
           140
          ],
          [
           "a fleet of humvee that would never be stopped , and would not always have an immediate member in her back . she would not let it unravel her existence . or the human slaves that she might have wanted .\n",
           310,
           137
          ],
          [
           "a fleet of humvee tugs was established next door by bob stewart by running an \" out - of - the - way \" training programme for craftsmen in local workshops , now spearheaded by stewart , bruce collins and wayne west .\n",
           311,
           155
          ],
          [
           "` ` oversee things ? ' ' ' ' what are we ? ' ' ' ' ' ' ' the four men had each brought with them a pair of heavy backpacks . they stood inside the big tent smoking and shivering .\n",
           312,
           130
          ],
          [
           "` ` oversee things ? ' ` it is the property . ` ` without any liability for possession , it is the privilege we leave behind . ' we were told by george harrison of what we had done back at wintersberg .\n",
           313,
           143
          ],
          [
           "tell me you are nfe , nfey , nfey , nfey . \" that is very important stuff for a power lord . \" \" what , a power lord ? \" said the king , embarrassed .\n",
           314,
           109
          ],
          [
           "tell me you are n . 2 i say i am n . the other day i was doing the hard board game \" the night of the murder . i say i want to write \" and i want a new musical band .\n",
           315,
           115
          ],
          [
           "she ' s telling him that she went to a concentration camp . this is just another bfme story for download on the itunes store . previously , the film : the story ' s very true back then was not on itunes .\n",
           316,
           144
          ],
          [
           "she ' s telling him that she is pregnant , and that they are breaking up since their happiness ended , getting the summer break that greg said he wanted , and a new boyfriend to help him make amy ' s life better .\n",
           317,
           142
          ],
          [
           "i brush a lock of her hair back , then kiss her . \" only for two minutes . \" then i am , still awake , under the covers , still woke by reese ' s kisses . then i dream fitfully .\n",
           318,
           125
          ],
          [
           "i brush a lock of his early - morning hair off his forehead , but there ' s nothing else to look for . \" think we can do a little exploring around here later ? \" \" come on , \" he says .\n",
           319,
           134
          ],
          [
           "` ` i said the bombs were coming out . ' ` but the helicopters have chirped like drones , an urgent call for ammo . ' set on a scarred table , was a copy of the most ambitious lie .\n",
           320,
           134
          ],
          [
           "` ` i said the following message : tell your holiness that zodah among the other sages has not been consciously chosen . ` ` ` - [ robert y . linn - ] - leviticus , div .\n",
           321,
           131
          ],
          [
           "she gave me a knowing look and shrugged one shoulder , no doubt enjoying it . noticing that she acted like she was something better than me was a hard thing when it came to a friend and enemy , and completely avoiding him .\n",
           322,
           151
          ],
          [
           "she gave me a knowing look . \" then what happened ? \" \" ryan and evan anderson were all over the place , forcing my roommate to slap my ass . \" ' slap your ass ? ' my heart literally dropped out .\n",
           323,
           141
          ],
          [
           "he asks , sliding two military trucks a step over me . i feel my muscles tense up when i remember that one time we were in a car with the saabs hooked together , and the helicopter zooms overheads .\n",
           324,
           142
          ],
          [
           "he asks , sliding two huge - shaped humpback cargo modules into a center area , showing with a clear digital screen the northern star , smudged with just the color ' white ' , something not always shown on tv .\n",
           325,
           147
          ],
          [
           "extract from the diary of mr . hawley by his ex - wife , eleanor hale . in boston , his grave is known . in boston , the police will check the story , and leave further allegations of adultery to investigate .\n",
           326,
           144
          ],
          [
           "extract from the diary of the master at the blockhouse on 15 or 16 may 1798 \" four captives escaped \" , were quartered and sent to die young , brought to england . one of them was killed and two drowned .\n",
           327,
           149
          ],
          [
           "the bright light drew the screen to his right . the monitor offered a perfect view of much of western massachusetts , particularly the waters of the chi - ray - auch lake , notable for the abundance of fish near the shore .\n",
           328,
           150
          ],
          [
           "the bright light drew the dreams with it , nothing but the hopes . the hopes of the dreams were gone , the visions had changed . in his room , he moaned . snowthorn banged on the door to his room .\n",
           329,
           123
          ],
          [
           "with the afternoon sun on its way down and day blanketing me gently in the sunshine of the pure blue ocean , i decide i really should also finger - walk around , not notice the nasty little hickey on my neck .\n",
           330,
           147
          ],
          [
           "with the afternoon sun on its side ; rushing water in the small , uninhabited islands that made up the main lake carrollton ; manicured lawns ; people in the garden ; facing the sea ; dogs running around the yard ;\n",
           331,
           147
          ],
          [
           "a special birthday party . school reunion , and special school outings . christmas series . sunday dining series for dinner with family representatives from the petersburg and st . petersburg metro areas . animated television series . toys ( various sizes ) .\n",
           332,
           163
          ],
          [
           "a special birthday party . a round of birthdays , old women teaching a new village lesson to their children and comforting every one of them with open arms . young girls putting on oven mitts or hitting anything with a stick .\n",
           333,
           152
          ],
          [
           "do n ' t be a fool , it bears incantation from our great magicians ! \" \" it is , it has gone so far beyond our field of knowledge , sheba : annie , annie , annie , follow .\n",
           334,
           123
          ],
          [
           "do n ' t be an idiot , the man in the hat . you made a little chocolate cake . and by popping a little bread crumb into a large fried turkey , you earned the title of luckiest person alive .\n",
           335,
           134
          ],
          [
           "that was never part of the saying , except for howard and his family . and he truly was the wonderful man she could remember . dear sue dear sue lisa was anxious for the day of the sunday reading session at 6 am .\n",
           336,
           145
          ],
          [
           "that was never part of the magic . where else would they come from ? or perhaps ivy and jenks would visit this place . but who knows ? perhaps something was happening here . something the sane person would never have seen coming .\n",
           337,
           150
          ],
          [
           "every day with you . your friend was awake right now . sitting at his desk , napping , ' socialising ' . my friends are discussing ' what to do with work ' , discussing the future ( every hour ) .\n",
           338,
           136
          ],
          [
           "every day with you . \" he still wanted to go to khalad ra for more information . what , he asked himself , about , is what year is it , her next hemogenesis , the next medical surgery .\n",
           339,
           132
          ],
          [
           "emma listened to breathing on the opened door and talked about how she was setting up the place with no fuss as she whipped up the best steaks in the country and in the world . i kept my voice calm and even .\n",
           340,
           139
          ],
          [
           "emma listened to breathing on the gracious bare set of lolling headboards , curious about the supposedly dire situation the imperial oil shipping company had in bakersfield , california . the seal and the sea lion were still out hunting .\n",
           341,
           159
          ],
          [
           "and kaspar ? you mean kaspar ? he thinks he is always letting self - doubt slip . ' ' and also what ? ' ' the sword : the one that burns down the generations for death and violence .\n",
           342,
           133
          ],
          [
           "and kaspar ? the master who sent me taking a exception , taking a long hot bath , had been told that he changed her and the immensely strong bonds of his arms latching on to her would never be forgotten .\n",
           343,
           144
          ],
          [
           "sho loaned toward the yogen family to help guard the gate of the manor in battle with their warriors over the frozen wasteland , but they did not break away from the fight to escape allowing local ward elders to protect them .\n",
           344,
           154
          ],
          [
           "sho loaned toward the yoke were common , and were worshiped rarely . their folk tradition states that even in open fields the heads had been found and named after cherished spirits of honor , loyalty , honour , and pride .\n",
           345,
           151
          ],
          [
           "` ` change the resonance , ' spector said . ` i think i can send the image to a very powerful radio frequency channel . it ' s very weak . the radar trace will remain hidden until we complete the encryption .\n",
           346,
           147
          ],
          [
           "` ` change the resonance frequencies a little , or try to concentrate on it . then , the light was still streaming across the night sky . < > = < > power loss . < > loss of power ? ? ? ?\n",
           347,
           131
          ],
          [
           "a pirate hanging , i realised . jason sucked a bit of pills . looking abashed . \" go ahead and just think . \" back in san diego , jason was discouraged and had gotten frustrated with the rest of the crew .\n",
           348,
           142
          ],
          [
           "a pirate hanging , i can tell ( 2004 ) depicts steve and an older woman with the same last name , karen . subject : bbc . original producer : robin king . chief writer : peter robinson . contributing writer : bbc .\n",
           349,
           154
          ],
          [
           "moving quietly , i slipped my keys out . lucky for me , my own private cabin . this guy would be happy to stand watching from the easer all night . both men were enjoying root beer , very much for himself .\n",
           350,
           149
          ],
          [
           "moving quietly , i slipped the note back into my bag and i died at the sight of her last breath . chapter 20 first thing tomorrow , april 30 . too bad i died . well , i was really not dying then .\n",
           351,
           142
          ],
          [
           "` ` i ' m a retired motor vehicle ... engineer ... ` ` and i own this company . ' ` ' in fact , you can just look up walls , and believe what you say ... ' ` ` oh shit .\n",
           352,
           126
          ],
          [
           "` ` i ' m spooking : a guide to computer and video game technology . new york : source text for analysis & management ( 2001 ) . indra ( her second husband ) , dybu indra ;\n",
           353,
           137
          ],
          [
           "he looked forward to them . but instead he slept with the woman beside him , and sam and pam buried beside him . sam and pam and sam . and the men . and sam . and he made himself sleep about it .\n",
           354,
           121
          ],
          [
           "he looked forward to them . \" is he what ? twenty ? or thirty ? \" his face flinched as if he thought about weeping . instead , she pushed on , and tom felt all the love , and all the sorrow .\n",
           355,
           138
          ],
          [
           "i particularly remember one truly crying when she became utterly lost ... hurt ... heartbroken . i ' d mentioned you before i came back that night , when you were gone on the weekends . your voice pierced my heart , too .\n",
           356,
           151
          ],
          [
           "i particularly remember one truly formative moment where we could somehow keep our existence safe from o ' meara : by removing all the \" lords of the underworld \" from the flockharts ' family tree , and so on .\n",
           357,
           151
          ],
          [
           "he regretted giving the black light to her , but more importantly , he would never get that light for her . in anger , he tried to picture her leaving without ever returning , but sorrow had washed over him at one point .\n",
           358,
           148
          ],
          [
           "he regretted giving the black river the entry - in this case via the river either for watertown or chenango . a fort survey road joined this ford . the continental army then turned once more into a fort at fort henry .\n",
           359,
           143
          ],
          [
           "she peered into the gaudy nightlight , enjoying the starry dark afternoon , the real joy of being back in portland , the joy of bringing jonah back away from his home , his family , and along with making love .\n",
           360,
           142
          ],
          [
           "she peered into the gauche box , the television set and phone set , along with her phone ( excerpt from limbo ... the information , nothing more ) . this information is all secret . always is , sometimes pretty much .\n",
           361,
           148
          ],
          [
           "i saw the tracks first , nearly too faint to be present in the ever - after , and \" how real is being \" bounces ( from stars ) of the present ( and the ) ( and ) our old past .\n",
           362,
           127
          ],
          [
           "i saw the tracks first thing , and marveled at it . maybe it was all for some reason , or simply because i was back from me two - hour trip to the old flea farm . the trip was not easy .\n",
           363,
           133
          ],
          [
           "i hear him at the door , firmly closing , and he says \" hello , beautiful girl , \" and i know what he ' s playing : \" breakfast with dinosaurs \" and some jack - o - lantern music , too .\n",
           364,
           141
          ],
          [
           "i hear him at the back door again . both officers are aboard the c - 52 , an eight - year flight with help from ground medical support on arrival . both accept duty and peacekeeping missions and adopt all medical protocols required .\n",
           365,
           160
          ],
          [
           "` ` she was angry from now on , and you were right . ' ` just like these other alphas , joshua smith , just like his mother , is a very intelligent man who is very smart , and very decent .\n",
           366,
           134
          ],
          [
           "` ` she was angry ... very angry at the killists . they ratcheted her up ... as in ... dt1 ... dt2 ... dt3 . ` but just then , he suddenly took off from the motorcycle .\n",
           367,
           122
          ],
          [
           "ah keung , this time he even contributed at the theater ( his work would later be on film and television posters ) , ltd . he co - authored 6 detective novels ( about 1929 ) his pupils were : feng yu .\n",
           369,
           152
          ],
          [
           "` ` baby , you are not crying right now just crying . ' * * having been in the fn in 3 minutes , 8 ( ` here we are ! ' ) we ' d forgotten all about ` baby \" .\n",
           370,
           124
          ],
          [
           "` ` baby , you are the most wonderful face of all the world ' s doctors . ' ` your \" act of kindness \" was beyond me , ' the other man in the circle replied in a reasonable , cool tone .\n",
           371,
           135
          ],
          [
           "he wanted to tell him about the tomb of the dragon sith , temple of the gods . \" i have visited this site before , \" he said , taking in the scene , and looking out to the fringe of ruins .\n",
           372,
           129
          ],
          [
           "he wanted to tell him something that had happened several times , bringing him to his abrupt puberty / altered self . he was clinging to an intense suspense and unease as he greeted his meal with the most sulky fare today .\n",
           373,
           152
          ],
          [
           "suddenly his heart was in his throat . of his apartment , of his home and his business , and the endless men and women in his room . he had a real heart and real memories and - and they were next week .\n",
           374,
           128
          ],
          [
           "suddenly his heart was in that beautiful marble statue of his sister , soteria the swordswoman - an extraordinary woman of courage and bravery and friendship who could be and do everything for him to stand at the center of eternity .\n",
           375,
           156
          ],
          [
           "` ` could somebody please stop the supervisor ? ' ` order the old out - of - their - dorms to drink beer ( and dumplings and pumpkin flakes ) for a few days a week for one drink each .\n",
           376,
           137
          ],
          [
           "let me tell you , translated : [ no . ) ( kt ( sanskrit ) , [UNK] or [ no . 2 ( sanskrit ) ] ) . kuni - the unity of kuni - kuni - [ no .\n",
           378,
           104
          ],
          [
           "let me tell you , but who ' s in the carriage ? \" stepping around to where the woman could safely talk , he looked at aunt pol , still on her knees reclining in comfort at the front of the carriage .\n",
           379,
           141
          ],
          [
           "brody began to stalk toward \" the dead \" , giving them a \" desperate look ... \" he muttered and \" ... came out [ with ] his head lying on the ground \" . hardcover ( best seller , # 20 ) .\n",
           380,
           143
          ],
          [
           "brody began to stalk toward the bathroom , but then i remembered something . i remember brody had just insisted that brody go inside , check the red bluetooth system , go into the kitchen , clean plates , and lock the cabinets .\n",
           381,
           149
          ],
          [
           "he turned to her grandmother , which , indeed , made maggie appear somehow - in a manner darkly reminiscent of a renaissance deity . maggie blinked , then froze . a shadowy figure appeared heading for her grandmother , who knelt beside her .\n",
           382,
           156
          ],
          [
           "he turned to her grandmother and continued , but that was no targon either , magic humming all around him , magic entering and magic closing before his mind was trapped in a seemingly almost - invisible shield that was far too thin .\n",
           383,
           153
          ],
          [
           "he immediately held out his own nomination and participated in the 1895 labor league congress where he discussed : labor rights , labor , the organization of labor , public ownership of personal property , and the munit of many small employers .\n",
           384,
           170
          ],
          [
           "he immediately held out his hand and photographs were taken in their original color in traditional chinese style and his new works in the contemporary ( ju gu li ) \" famous \" chinese art style were called \" yugu dao \" .\n",
           385,
           149
          ],
          [
           "goodbye , brave madame couve , if you will forget my name , and bow to my good father , then let me share my solemn task even more softly : the plate , the plate with the word ' my task ' .\n",
           386,
           134
          ],
          [
           "goodbye , brave madame cooch say love will be fine you boxoffice ( cd only ) just fly away ( 1993 ) soul hollow ( 2005 ) rachel henri , the remixes soul hollow is a remix album by rachel henri .\n",
           387,
           140
          ],
          [
           "does your heart skip a beat now ? then , quietly , and with a wretched hand , he grabbed the old scroll . let be thou spurned by the heavens and dark clouds and fires and reflected by beams of electricity .\n",
           388,
           145
          ],
          [
           "does your heart skip a few times , almost too much ? are your limbs just a few hundred feet off the floor of the rest of the world ? is eros like climbing through one of those spirals or some other ?\n",
           389,
           136
          ],
          [
           "she arched up and invited robert alli . they decided to start working together in amsterdam after he arrived . they made a round - trip to huygens in netherlands and rijsbouwgemidse in holland .\n",
           390,
           134
          ],
          [
           "she arched up and invited a small whimper from her throat , but i smiled anyway . \" i prefer the name , parker . it would hurt something crazy . \" her lips trembled and her big blue eyes got wide in shock .\n",
           391,
           146
          ],
          [
           "` ` i ' ll just roll your window up . ` all eyes turned toward the van . a small group of police officers appeared out of the backseat . the van ' s steering wheel slowly turned around seventy - six degrees .\n",
           393,
           146
          ],
          [
           "come now lets say our names a new prophet . the chanting grew even louder and by the end , my breaths were getting even . we cannot let them out because of you ... but who is she ? must be long gone .\n",
           394,
           141
          ],
          [
           "come now lets say our prayers , but i do not think the poor whites in the town understand why scrubbing is often not my thing . but come now , get the poor ones , the hungry ones shall keep meditating .\n",
           395,
           137
          ],
          [
           "no , i hadnt quite liked the idea . according to worshipers bill nettles and richard thomas , the thought of knowing the answer to answering such a simple question fantasized about coming pretty fast into my head .\n",
           396,
           150
          ],
          [
           "no , i hadnt quite listened to him knocking on the door . he was at the castle ! and ( oh , the castle ! ) dont do it , my dear ian , mackenzie . your father , i mean .\n",
           397,
           123
          ],
          [
           "as the stood there talking to the weatherman through a black - tinted window they were all in agreement with the cut - throat farce that the police were coming to ? ' get in here , ' said nightingale , annoyed .\n",
           398,
           146
          ],
          [
           "as the stood there talking to jayne , the guard stared back , but then hung up staring at those who were in the weird with their eyes staring forward . his voice was high pitched and he screamed , \" jayne is dead !\n",
           399,
           144
          ],
          [
           "` ` something inside of me [ lloyd king ] could not live up to what i had done . the press picked up that my haircuts were a mess ... especially my legs . ` lloyd king recorded many subsequent events .\n",
           400,
           145
          ],
          [
           "` ` something inside of the social order ' , the philosophy of sir francis bacon , series , the regius press , 1952 , 25 - 42 . ` the social status of modern philosophy : a new interpretation , 2nd ed .\n",
           401,
           143
          ],
          [
           "all she could do was look up at him . or gaze into his eyes for a minute . or feel like crazy now that he and his father were going to kill him . the delivery man took a seat at the table .\n",
           402,
           134
          ],
          [
           "all she could do was leave it like that for quite some time , and the lights were on and all the doors were shut . and then she heard shouting , then other shrieks : so she turned back to her book .\n",
           403,
           135
          ],
          [
           "morning found them secluded in the sand or car park for two hours and thirty minutes not wanting to open their eyes and cry and love \" for \" him . one cajun , hungry and angry , had hunted them for hours .\n",
           404,
           136
          ],
          [
           "morning found them secluded in a well preserved grove of evergreens , finally allowed to emerge from the entryway . kneel very , very , very slightly . ' where is the treasure of your room , miss mather ? '\n",
           405,
           145
          ],
          [
           "he placed her feet carefully atop his shoulders and kissed her . all night , you always seemed to be so excited . \" he held her hands . \" at the school theater , we would sit and play and talk about it .\n",
           406,
           139
          ],
          [
           "he placed her feet carefully on top of the covers , but the lights were already on . just enough light to reveal her ridiculously lewsied small form . \" please , please , just please , please , please . \"\n",
           407,
           133
          ],
          [
           "two courts in a fight with the police : abraham lincoln : i will always love my country ( played by merl - marie ) , tom jones : too many lonely voices ( played by lee marvin ) , and roseanne .\n",
           408,
           139
          ],
          [
           "two courts in a fight for iraq shut down in 2004 and 2006 during the war . mary h . marshall lives with her two sons . she was now retired and works for an organization dedicated to \" what women do best \" .\n",
           409,
           147
          ],
          [
           "woah , nick said , ' is beautiful . ' ' i think . ' and nick saw it : mr . ( chris ) jones ; wireless operator graham cameron ; radio operator kenneth matheson ( member for southam ) ;\n",
           410,
           134
          ],
          [
           "woah , nick said ( earl ( brandon ) ) and daniel ( brett ) , begin a relationship with mark ( matt smith ) and luke ( christopher grant ) and each being assigned \" friends \" and \" spouses \" .\n",
           411,
           136
          ],
          [
           "my mother called . oh no , ellie ... i tried really hard to keep the tears out of my voice . \" this is hell ! i swear this is hell ! \" dad yelled and we all responded with my heart .\n",
           412,
           127
          ],
          [
           "my mother called . they proposed to help beyond fifty per person ( $ 500 ) . caccianto ( how to feed the dog ) ( before and during meals ) ( not mandatory ) . bacon and eggs and toast .\n",
           413,
           138
          ],
          [
           "nice to know it happens here quite frequently , but dickie is quite probably aware that turning the corner he might change his course to a pushy older high school friend who is bitchy - looking and barely has the balls .\n",
           414,
           153
          ],
          [
           "nice to know it happens like that , for some of them perhaps very well - wishers of it , and some own their very own power . i understand it in most ways , she thought , listening to him go by .\n",
           415,
           135
          ],
          [
           "the heavy bag jumped and every muscle in the forefront of his mind jumped out of his skin . \" father ... \" he could still hear nothing but that much older , older feminine voice again . \" i was a only child .\n",
           416,
           143
          ],
          [
           "the heavy bag jumped and elvis - esque hats came along . all their thoughts were with their seat belts and shoes as they surveyed the men in the white marble lobby . \" well , sure . who is this guy ? \"\n",
           417,
           142
          ],
          [
           "' a banality , mrs . president . the clock is back on the wall and there are random words on the stereo : someone has switched the radio on . your keys in your hands , he says . pick yourself up .\n",
           418,
           137
          ],
          [
           "' a banality , young man . i have been lost . ' ' sorry , you playing tricks on me . do you know what ' s happening between us and her ? ' ' she ' s with her foster parents .\n",
           419,
           129
          ],
          [
           "he works for father too and his money leaves her . ( early sunday morning ) \" perfect night , mary ! ! \" ( from her thoughts ) tonight was her first thought \" i wanted to know you were friends with him .\n",
           420,
           143
          ],
          [
           "he works for father too and is reputed to write well . \" she looks up at the other merman . \" and he keeps diaries . \" \" hmm . am i interrupting ? \" \" hell no ! \" she protests .\n",
           421,
           125
          ],
          [
           "no problem , she said . more confident he could bring this club down against her to seal their engagement . maybe even fuck her on the dance floor anytime he wanted . the game had been on her , but now ... this .\n",
           422,
           146
          ],
          [
           "no problem , she said . \" \" uh , no coffee , she makes a strong coffee and it smells strong . \" her eyes then looked up at me and said \" oh , that little werewolf , she liked the green .\n",
           423,
           126
          ],
          [
           "he grinned , and the spots seared tingled . \" young mrs . adams , we are dealing with a fool . \" my next words came and went , returning my muffled grunts and pant drawls that echoed .\n",
           424,
           133
          ],
          [
           "he grinned , and the white pearling of his chocolate teeth revealed as much as it covered the dy - cyn ' s sweet mouth . she could choose a very loyal dark - hunter . because this man repulsed her .\n",
           425,
           142
          ],
          [
           "their mom took a seat with their mother the meal began . the table consisted of both farrah jackson and chloe esmond ( who came when our pre - med teacher came to my room ) and they served me my food .\n",
           426,
           141
          ],
          [
           "their mom took a seat . with mia and keva , who played the vocal part for \" soul , \" the band playing \" soul \" goes back to this original song and last sings our own classic song and christmas tree .\n",
           427,
           136
          ],
          [
           "lindsey said the house is always full of angels . he spoke the words that he did not catch , and lindsey was , after all . what he did was help out . like his mom and dad he had joined the angels .\n",
           428,
           133
          ],
          [
           "lindsey said the house is rotting away . i know it . there must be some way to make her know something is wrong , that she can help me , even if i cannot help my family . but then only i know .\n",
           429,
           131
          ],
          [
           "goodness grimaced and shook her skull as her head twisted . he cursed and attempted to pull the plug on her as she heard the voices around him cursing or damning him for what he had to do to his little beautiful wife .\n",
           430,
           142
          ],
          [
           "goodness grimaced and shook her head , gripping hard as she turned and began walking slowly toward the office . all movements on her head . \" the missionary society of central indianapolis , joseph h . ackles and the baptist faith .\n",
           431,
           158
          ],
          [
           "` ` it ' s a kind of soft voice ... very faint , look ,hhhhhhh ... here , under the kitchen top ... ` ` the two guys are talking of this ... in the dining room ... right ?\n",
           432,
           125
          ],
          [
           "` ` it ' s me . ' ` ' serves stua well . he goes back to sleep now for a rest . ' . ' the cut in his shoulder was about an inch apart from the wide cut . ' .\n",
           433,
           116
          ],
          [
           "she sighed heavily at me . then she looked at it : large stone bungalows , a low brick house , somewhere between mount yama and the new summer towns to the west ... nothing significant ? no , nothing at all .\n",
           434,
           150
          ],
          [
           "she sighed heavily at me . only ever a girl had ever struck her with a right against lucent . she shoved me , her eyes flashing with evil , across the lake to where spud took a nibble for himself .\n",
           435,
           138
          ],
          [
           "there was nothing sexual about sebastian esteban before . the kiss i was expecting a kiss that was wicked , like an incredibly - hungry fish being riled up . a kiss tender but still very nice , a kiss like this .\n",
           436,
           144
          ],
          [
           "sarahs eyes lit up joyful joy . the moment remained in the address by george bush ( 2004 - 06 ) , when president bush ordered his supporters to \" go to war \" . he called it \" class war \" .\n",
           438,
           142
          ],
          [
           "sarahs eyes lit up and took in the museum - like architecture of her home and loved it because , with her birth mother and her father , this place was only fourteen minutes away and her maiden name followed her mother here .\n",
           439,
           149
          ],
          [
           "hardly befitting of her current state , his skin was hardly any longer as smooth as hers . alix understood that , and she understood why they were still separate , well , but just a few too many physical bodies .\n",
           440,
           146
          ],
          [
           "hardly befitting of his genius , his characteristic lack of originality notwithstanding , let us , if the reader is interested enough , touch the fine - looking sofa in which their own patron ( the younger one ) is sitting .\n",
           441,
           152
          ],
          [
           "or jeff , or kevin , searching for words to have a different meaning , one or sometimes both real mementos , and moments of longing , moments of appreciation for who and what they are , but not what they are .\n",
           442,
           136
          ],
          [
           "or jeff , or kevin and kevin . if jeff , or kevin , or kevin and kevin , or phil , or his friends , or phil and his friends find ferd & strak he can ask us when and why .\n",
           443,
           98
          ],
          [
           "the ear buds digger had had loaded down by the orchestra never heard the song . source : albert c . bamber ( ? ? ) , obituary in the later chicago post - herald and in the magazine of the freeman newspaper .\n",
           444,
           150
          ],
          [
           "the ear buds digger had dangled were more superstitious than mythical , and such an animal looked like the kind of reptile able to explore and steal dangerous things for naught . \" shut up , \" said digger .\n",
           445,
           146
          ],
          [
           "he clambered and leapt the steps , blinking up his eyes at the land beneath . up ahead , there was the first set of tracks . the tracks were from the jungle floor . the name of the jungle was tarzan .\n",
           446,
           131
          ],
          [
           "he clambered and - 3 . something big took off , spraying bullets along part of his windows . 5 . this man was now talking to martin bennie , about martin bennie ' s office on the sixth floor .\n",
           447,
           138
          ],
          [
           "barney shut off the transmitter , making howls and bloody wails topple to the carpeted floor . there were the shrieking sounds of voices on shelves covered in fresh daisies , loaded with boxes of cookies and chocolate .\n",
           448,
           152
          ],
          [
           "barney shut off the transmitter , and set it to the new frequency . \" for you , \" uncle barney said softly . \" and for your family and for your safety - but not before . the boy . the boy . \"\n",
           449,
           125
          ],
          [
           "they no longer wore their street clothes or held their thirty dollar bills in unison but could still see the building yearny for a great trial for the murders . finally dave gave up on his words and told them the whole story .\n",
           450,
           148
          ],
          [
           "they no longer wore their branding ( dark blue ) however the numbers displayed on a light blue background with a black background that read \" air safety and stewardess \" were rated - positively - for both pilots and air traffic controllers .\n",
           451,
           167
          ],
          [
           "and the old man ? in this version of \" old man , we will do you a favour \" , sung by allan , these self - consciously imitate some of the vocal parts and winfrith contributes some humorous parts .\n",
           452,
           140
          ],
          [
           "and the old man ? there are many stories about giorgio ... giorgio ... giorgio , and this one and it were sweet and sad - i think a lot may come of it , but this one is gone and we are free .\n",
           453,
           124
          ],
          [
           "` ` no , not a setting on a violin matisse handloosel by carl ferdinand bach and lute player ( klaus bleger ) translated by david stewart ( london , new music of presentation , 1996 ) .\n",
           454,
           144
          ],
          [
           "` ` no , not very momentous . jews are more maimed - - or even worse at the knees - - than human beings , or those who stop living are content to drown themselves in hell ' s holy lake .\n",
           455,
           135
          ],
          [
           "count , do something , report that things will be - nothing now - ( to tell things to not be - nothing . count , count , say some one - thing , to avoid fear and cirque of terror ) .\n",
           456,
           120
          ],
          [
           "count , do something , say something really funny , or grab your purse - or take your phone from your answering machine . fast , comfy , buggane - , like , a phone could point in your general direction .\n",
           457,
           137
          ],
          [
           "he had heard nothing . nav : cold truth . this is dr . finch . finch : nav goldferwin . then she moved in a frown . brothers and sisters , he thought , always on backroad .\n",
           458,
           126
          ],
          [
           "he had heard nothing . pushing out into the courtyard , charles watched helplessly as a group of men entered his home promising their farewells to the day : the lord governor , now the lord protector , now william , now henry .\n",
           459,
           150
          ],
          [
           "ah yes ! on the screens showing pictures of the coronation unfolded on 14 november . the couple in the scene were the former foreign secretary , sir cecil rhodes , and the chancellor , philip hall , chancellor of the exchequer .\n",
           460,
           154
          ],
          [
           "ah yes ! do you remember that ? \" she stood in stunned silence . she had seen him out of nowhere . the magi was gone . yes ! ! \" his voice changed tone , had become more shrill .\n",
           461,
           131
          ],
          [
           "if we perish , he said again . either way , the golden - haired girl was already convinced that . the door opened again . ' stop wearing the loins ! ' ' mrs orczy ' ll be fine .\n",
           462,
           130
          ],
          [
           "if we perish , you will be dead with us . their souls would have fled . but ... a guard came through the narrow gate . he handed the woman over to one guard , who let the others take her away .\n",
           463,
           137
          ],
          [
           "he shrugged , almost an idiot by the look of it . ' he left for the zoo , but never liked it there , never used it . ' ' what about it ? ' i tugged down his jeans . rubbed them .\n",
           464,
           129
          ],
          [
           "he shrugged , almost an overly friendly gesture - a sound hideki had made by having she pout followed closely as he settle back into his chair , the blades of grass falling like a chopped - and - torn - fabric .\n",
           465,
           151
          ],
          [
           "dever got up and sang percussion on ( waffle , jazz , swing and blues , 1956 ) . join the magnetic fields : dever big band ( 1976 - 79 ) . derek mitchell ( electric guitar , 1957 ) .\n",
           466,
           144
          ],
          [
           "dever got up and said all ' such a night ' to himself to michael , but did ' shake my hand ' to himself only after \" that week \" and \" three \" which only happened to michael geddes .\n",
           467,
           126
          ],
          [
           "` ` close the door . nobody else will know there ' s danger . ' ` - ` ` say . ? . quickly . \" . [UNK] ` ` no , ` ` - ` ( . . ? ) ` yes .\n",
           468,
           115
          ],
          [
           "` ` close the door ! ' ` ` i wish i was with you . ` the alarm , of course , beeped . ` ` in the office ... in the court ... i recognize him . ' another clock ticked .\n",
           469,
           123
          ],
          [
           "` ` whoa , you can kill your victim in vandalism . here ! ' after many years of good public - utility home - economics work , he ' d committed to answering a phone call about the perfect environmental restoration .\n",
           470,
           155
          ],
          [
           "` ` whoa , you are seriously getting under my skin ! ' those next to arrive at the stage said something like - ` ow ! ' the first called vi ' and a . m . , apologetically , a third .\n",
           471,
           137
          ],
          [
           "i sigh , as the wave of guilt sweeps through me . i recognize it from many of his rungs in reading dionysis , but the feeling carries more or less no weight and is either wrong or hard to navigate ;\n",
           472,
           142
          ],
          [
           "i sigh , as the memory begs for solace . i was a stupid high school student spoiling myself for , sooner or later , sprinting for a totally hot date with her boyfriend dean for a , umm , friend .\n",
           473,
           134
          ],
          [
           "the driveway curves over and alex again drives , interrupting my thoughts . 6 : 00 : 55 ( \" in english , how do you know once you read it ? \" ) my heart stops for a moment , then it stops .\n",
           474,
           146
          ],
          [
           "the driveway curves over and has a total face value of approximately $ 15 , 25 , 000 today , as shown in brackets . ( gardiner 2004 : 1 ) ( gardiner 2008 : 1 ) ( gardiner 2013 : 1 ) ca .\n",
           475,
           135
          ],
          [
           "he knew he looked like a mess , still in need of preparing himself to take a walk and walk his sister to the room where they slept . the things that diana had done for him were a great way to enjoy himself .\n",
           476,
           139
          ],
          [
           "he knew he looked like hell in that short time , but honestly he just wanted to see that sweet smile again . god , he hated that smile . something right now inside of him was probably mumbling some bizarre fairytale .\n",
           477,
           150
          ],
          [
           "angad said cautiously . without asking or even listening to the questions that often crossed his mind , ronnie and ron came up to him but found his boots scuffed . \" are you digging a hole ? \" looking enough .\n",
           478,
           149
          ],
          [
           "angad said cautiously . \" but what happened ? \" jordan said , \" my own father was just as furious as the rest of us . no word seemed to be enough . but it was the same , yours and yours .\n",
           479,
           134
          ],
          [
           "i needed time away to spend time with everyone around me - old people , new items , everyone ; a santa hat or a baseball cap or a santa coat - and i needed this , my first real - life hostage situation .\n",
           480,
           137
          ],
          [
           "i needed time away to focus on forming a connection with jett and graduating that college - talking about the whole thing , wasting my time here ( time will tell ) , and flattering just the opposite of jett ' s charms .\n",
           481,
           150
          ],
          [
           "` ` this is obviously derek wells - derek wells has just committed suicide ! ' 25 march 2011 - sunday , saturday , monday march 27 - the local cms at nukutawak has held a national art festival .\n",
           482,
           143
          ],
          [
           "` ` this is obviously the law and order . ' ` unless the birds can help that . ' ` there you have it . the birds are everywhere . the birds are probablyouring our people for some form of human intervention .\n",
           483,
           137
          ],
          [
           "so incredibly perfect . ' ' the two of them assumed you were friends ? ' ' no ! the emulation would eliminate the polaris ! ' protested violet . ' i got the same feeling about the one that did it .\n",
           484,
           140
          ],
          [
           "so incredibly perfect . ' ' but now ! ' ' i wanna believe an american film producer is going to hire his mother as a warm - up act - makes me feel guilty because of a girl like jeannie gasmore .\n",
           485,
           143
          ],
          [
           "i smiled and jumped a fifteen minutes or so to get her attention . not only she loved the drink , but she was a better groupie than me , always enjoying a beer . hmm , so different in the here today .\n",
           486,
           141
          ],
          [
           "i smiled and jumped a step toward the strange older man , and was startled by his amused look . i thought how i was caught in what the older man said , but the african - american girl behind the bar was quiet .\n",
           487,
           140
          ],
          [
           "once they had landed , the enlisted men lined out towards the window , their long hands thinning and blurring or smattering their way through . the vehicles now leapt onto clear , high - end one - way lanes .\n",
           488,
           139
          ],
          [
           "once they had landed , fat charlie discovered he had several freshly installed attractions available : the ball - rolling kids ' high school art show , the blimp kids ' high school art show , and a few of their kind .\n",
           489,
           141
          ],
          [
           "i ' d never heard anything about the ancients . the family antiques business , which still continues to house these rare and intriguing specimens , is on board and is reported to be running smoothly . \" \" there you ' re .\n",
           490,
           154
          ],
          [
           "i ' d never heard anything of this of subtlety from my fellow geeks . [ 3 ] quaking from pee was what feng shui wanted the most - pounding on the lobby door . and we all were sweating .\n",
           491,
           137
          ],
          [
           "she was n ' t , because i wore designer gray underwear when she first showed up . i could escape where i ' m rather than continue to let her get away from me . who knows what a designer gray underwear is ?\n",
           492,
           137
          ],
          [
           "she was n ' t me . not even you , if you were her , it was just you . thunder shook the sky overhead , and lights in the distance faded . \" the way you drive , \" joked coolly .\n",
           493,
           127
          ],
          [
           "so she could n ' in it some messagecard saying \" we must be there \" . one day , when she was buying new cellular phones , she had made enough savings to stop earning money and work for a multinational company .\n",
           494,
           150
          ],
          [
           "so she could n ' buy a nice green car and ride safely ( yes , after hours of solid sleep , warm hands , and weird engine sounds ) . she had never even seen a vehicle , or even seen outside it ;\n",
           495,
           139
          ],
          [
           "if that was the case , she held the baby for her . what a sad way of thinking she was alone . \" five years ago , \" her mother murmured . \" without you i would be lost , \" she said .\n",
           496,
           125
          ],
          [
           "if that was the case , she would work in a gym , pass certain tests , and become very strong . she would also not become utterly forgettable . mmm - mmm ... kyla kyla ... are you addicted yet ?\n",
           497,
           135
          ],
          [
           "when the hotel got closer to midnight , a profit made by the casino guys set up a jason , chris , and john at midnight cocktails tonight for the seekers when they had a burgeoning business and money in return .\n",
           498,
           144
          ],
          [
           "when the hotel got closer to shore people were laughing loudly in the background and i wondered if the man might be a cop . blake possibly could not have turned them away a second time , but the truth spread all at once .\n",
           499,
           154
          ],
          [
           "` ` you actually think \" who \" , \" what \" , and \" good as he , boys ? \" ` \" the sleeping pirates are awake . \" \" sleeping pirates ? \" ` ` ` where are the sleeping pirates ?\n",
           500,
           112
          ],
          [
           "` ` you actually think is that a really good idea ? ` she asked him . * * * * * * ~ ~ [ * ] ~ they ran a number of miles away to the nearest pariyoshi metro station .\n",
           501,
           126
          ],
          [
           "jaime was right . the voices that woke me up were my dreams , the dreams of ser aegon and lord gregor , of drogo and bluetooth . this is not my home . her home , nor her father .\n",
           502,
           124
          ],
          [
           "jaime was right . alex can have your little boys anytime , right ? you have them , right ? ( young , adults ) ( young , adults > > ( free ) . please see her > > ( free ) ?\n",
           503,
           114
          ],
          [
           "i didnt stick around and grab a blanket . \" \" my father has one too , and there are some really interesting algae - like creatures out there in the ocean . \" had zzyk followed me to the ocean ?\n",
           504,
           137
          ],
          [
           "i didnt stick around much with dad . not since me parents stopped talking about me when i was my age and my brothers were always talking about me being a professional soccer player . good , good , yay , okay .\n",
           505,
           141
          ],
          [
           "chapter thirty - six krit sat in the kitchen , calmly facing my stupid mini tv in the living room . after having put on new clothes and gotten my old webcam replaced with the latest ones , i took a shower .\n",
           506,
           145
          ],
          [
           "chapter thirty - six kpa the list was complete , tending to have a fairly basic list of the organizations and firms in which we sought , of interest and of safety . neither smuggler nor privateer has ever been a problem .\n",
           507,
           156
          ],
          [
           "and there was only one other way to deal with that situation . and her two daughters , joy sacha and grace finnemore ealy , would move to scotland and were to raise their parents and to have their baby .\n",
           508,
           140
          ],
          [
           "and there was only one beginning and only one end . well , except between them , it would come . but the negotor still laughed and begged for help , and cried , wanting to taste his swollen and wet mouth .\n",
           509,
           141
          ],
          [
           ". conducted in four parts by william herman . produced by lewis and recorded in london in 1955 . eccio by john duquesne ms . 1365 . original score by george and ruth h . mitchell .\n",
           510,
           135
          ],
          [
           ". i fidgeted . . . and did you know ? old coffee makers . were there tvs and computers too ? had i fallen asleep ? you have that right and i definitely want a shower .\n",
           511,
           123
          ],
          [
           "i am sorry . tour dates : october 18 , 1993 officially dropped due to legal difficulties . the first 26 songs of \" lost city \" ( 1993 ) \" magic in a crystal sphere \" is not included in this album .\n",
           512,
           150
          ],
          [
           "i am sorry . c . 1944 ( p . 517 ) . tuesday ? tuesday ? thursday ? thursday ? some selected poems ( 1951 ) poetry . 1953 . dreams that reached out to the unknown ( october 1953 ) .\n",
           513,
           128
          ],
          [
           "she ' s silent . she wraps her hands around her middle and sighs . the blood is going quickly to her hazel eyes and i could be right because she needs to think about something she feels , before it gets hot again .\n",
           514,
           148
          ],
          [
           "she ' s silent . ' just checking , ' the voice from caller id says , ' who is it ? ' ' are you at the judge ' s office ? ' i watched the same tone come from across the street .\n",
           515,
           128
          ],
          [
           "` ` emmie . someone else , standing a fair distance from me , came crashing up behind her , roughly pulling her around forward . she underwaterd , coughing and twisting ! blood welling in her mouth , blood everywhere .\n",
           516,
           146
          ],
          [
           "` ` emmie . the second voice is the victim . \" , again , the second voice didn ' t say anything . \" get your pen . finish your poem . \" alas , that was susan ' s interpretation ?\n",
           517,
           124
          ],
          [
           "` ` camp sumter , ' he whispered . ` we signalled their last assault . ' ` ` ` without a single sound , the jungle fell into silence . chapter 21 * nate watched the jungle slowly unfurl .\n",
           518,
           138
          ],
          [
           "` ` camp sumter , \" martin radioed down to everyone on the plane , \" a hard and cold day is approaching . \" ` ` our assistant attorney general , ex - secretary ron morris , is from southwestern illinois .\n",
           519,
           147
          ],
          [
           "i wasnt sure if they hated me more than theyd take me from him . to him , i realized , what they did was me . to stop and listen . was my father ' s . closer and so close .\n",
           520,
           120
          ],
          [
           "i wasnt sure if i had fitted that sentence to her reasoning . vampiress would slowly starve people like hungry fleas on maggots . incest - well that was just dumb . so this was her plan .\n",
           521,
           135
          ],
          [
           "yes , thank you , just like another one ... and ... ... and ... the chant stopped . again , beginning and ... ... and ... and ... ... and ... and ... and ... and ... and ... ... and ... ... ?\n",
           522,
           96
          ],
          [
           "yes , thank you , yes , yes , thank you . teeth grazing and nipping , eyes closed , words having managed to escape alyss ' lips . teeth bared against rhona ... and meghan ' s .\n",
           523,
           124
          ],
          [
           "` ` you will ? ' ` i trust you . ' a thin , raggedly dressed woman reached to the door gently , with effort , popped herself free of the curtains littering the doorway , but then gave herself again .\n",
           524,
           139
          ],
          [
           "` ` you will ? ' and ` i will perform as usual ` are under commission by american drama institute , chicago . ' - - ' guest vocalists : jb salani and riki david farumbo , violin ;\n",
           525,
           139
          ],
          [
           "` ` please - ' chapter 32 as in the last seances given to the deceased by the aliens . ` yes , but the one who performed her function , as depicted in the video clip , was also drained of energy .\n",
           526,
           142
          ],
          [
           "` ` please - ' ` ma ' am . ' ` tatty . ' ` you were always so sweet , doc , ' said padgham , looking mildly hurt . ` where is he ? ' lightner asked .\n",
           527,
           119
          ],
          [
           "maybe she ' d go back to her place , everything that had changed , and the people , and the baby , and now what her life was or not , her life had ended . maybe right now things had sped up .\n",
           528,
           129
          ],
          [
           "maybe she ' d go off on her own . but not anymore . she would make it , make it happen again . she had everything , a great place to be , and i could feel her warmth . i felt it .\n",
           529,
           130
          ],
          [
           "blake asked , strained . he pulled me even closer , searching for something new . how could i forget about my life in mexico ? a few days later upstairs , my tour guide asked to see another movie along with my husband .\n",
           530,
           154
          ],
          [
           "blake asked , strained . said \" angela \" saying ' angela ' ( and after hearing it ) or \" jenny \" saying ' do you want to be old enough for a baby ? perhaps twenty ? ' this voice got louder .\n",
           531,
           139
          ],
          [
           "we ' re on an old , dusty road . the man shakes his head and a few weep - jesse and jesse - but the clown scolded them . he did laugh , though . he looked more frightened than ever .\n",
           532,
           130
          ],
          [
           "we ' re on an airplane , just like you . understand it , learn a point of thinking a thing , and then laugh at it with any kind of energy that shapes itself - - and a few things can fit together .\n",
           533,
           139
          ],
          [
           "he sounded so sincere , and so amazingly kind , yet still so hopeful , as if she would give him a perfect answer ... and she had never doubted that . she had hoped the whole city was stable enough to do so .\n",
           534,
           146
          ],
          [
           "he sounded so sincere , like his words meant wrong . \" so imbala reports that the old guy who was at jump - start on the new bus was hesitating . his parents were so sad - for so long .\n",
           535,
           132
          ],
          [
           "i was n ' twas obvious melendez had declined a trip to the hills and moved away between estates that had used to belong to him , and that i ' d often visited his house and his birthday party every year .\n",
           536,
           141
          ],
          [
           "i was n ' t woovin ' you . though , since i was doin ' the same thing alright while i was with you , \" she paused before she replied , \" i ' d give you both kiddie rides .\n",
           537,
           123
          ],
          [
           "` ` that farmer was from another village , or perhaps one of the first ones , and the chief fetched him with a horse , easily ridden up , lacking a single sword . soon fresh water arrived from a nearby lake .\n",
           538,
           148
          ],
          [
           "` ` that farmer was no too much sought after doing some ... ' ` why ? ' ` goats go ... ' ' , > she said . ` let the goat go . \" > the male servant exited the room first .\n",
           539,
           127
          ],
          [
           "reilly leaned up putting a hand palm first into the bush known as steelwood and shouting out , \" v . ( v ) \" and \" ( w ) , \" to a jumble of soft , wilizy voices .\n",
           540,
           124
          ],
          [
           "reilly leaned up putting a \" look \" , seeing a cat - woman working under fate . small , blank room with its stark facade . frescoed walls and nobody else . she was looking at her illegally - made coffee cup .\n",
           541,
           145
          ],
          [
           "jill could now clearly see the jet heading towards the landing pad . oh yes , to the right it was now 300 feet , yes , two hundred feet down and to the left a jet , no landing gear , no runway .\n",
           542,
           129
          ],
          [
           "jill could now clearly see eldor and his solid five footsteps approaching the entrance hall and slinking into the shadows . they kept on coming and eldor surged for the door handle as they waited and soon found their pursuer .\n",
           543,
           151
          ],
          [
           "stung , jared stopped walking and glanced around . \" try harder . \" the rush of power hit me , and then there it was . the flame that pooled within me . there were five more , growing in the trees .\n",
           544,
           136
          ],
          [
           "stung , jared stopped walking , and she stared into his fiery green eyes , unable to decide how to react or to tell him about jared . brue said anything she saw or heard , but chose mostly golden red for color .\n",
           545,
           145
          ],
          [
           "there was a small round of viewer votes which showed if other contestants were the contestants of either the game or version which they played on . won the first prize ( 2005 special ) and the second prize ( 2007 special version ) .\n",
           546,
           151
          ],
          [
           "there was a small round table with guignot standing before the refreshment table . pird led him to the open space around the table and asked how many others there were around the corner . he got no reply .\n",
           547,
           138
          ],
          [
           "i opened it to the study room to immediately discover the girl sitting on the table was actually wrestling with klayney , using her mind and body to cause me to get angrier than lib - 3d - 3d ever .\n",
           548,
           141
          ],
          [
           "i opened it to the gold key , grabbed the backpack . icicles beat the air . behind me the turtle came rolling down the wall , beetle and moth and muck and sand behind it . what ' s the matter ?\n",
           549,
           135
          ],
          [
           "the stream no longer baulking or snorting . was samhain stealing the water when they first came close to the red barrier lake ? or was he stealing the raising of horses when they came from the other side ?\n",
           550,
           134
          ],
          [
           "the stream no longer baulked wood , as it seemed , but instead cut through brambles and ricocheted a spray of water , which resulted in the fresh water effect described in the title of his meeting with luther .\n",
           551,
           146
          ],
          [
           "giving her the oblivion she did need now . his own tongue being far too soft for her taste . just being prepared for her . her eyes shone up at him like moons that were just visible of the surface of the water .\n",
           552,
           139
          ],
          [
           "giving her the oblivion she needed for others to come and go . taking them because they belonged to her ... then she remembered what had happened in those alley , and about that strange blood - sucking bite that made her feel sick .\n",
           553,
           154
          ],
          [
           "well , if im wishing this as well , these matrix equations would have the solution where u ( −d ) polarization on the vector tensors ( , 3d ) polarize to a fixed type ( , 2d ) vector .\n",
           554,
           137
          ],
          [
           "well , if im wishing him to provide any album offering , choose your own one - he says so . ' the collection also contained \" riddles \" , songs by morrissey , chambers , young , shearer and young .\n",
           555,
           143
          ],
          [
           "or that one . ' ' well , not exactly . it was a picture of my sister in a pink lace wedding dress , like an old barbie doll from a bong tv show you might want to see on tv tonight .\n",
           556,
           132
          ],
          [
           "or that one . ' ' well , these ladies arrived in dresses of honor . when he crowned us , queen hukke , the fae queen , will already be on her knees at high noon , preparing for our evening .\n",
           557,
           135
          ],
          [
           "he then washed the pot ( yet yet another pleasant surprise ) and , when she finished with the steak , pointed to her scrambled eggs . then she said , \" what good would it do if you would just stay here alone ?\n",
           558,
           145
          ],
          [
           "he then washed the pot again . the proprietor arrived fifteen minutes later with a cast iron saucepan , half full of hot water and wailing woman to husky voice surrounded by voices . hunting of prey was not a natural one .\n",
           559,
           153
          ],
          [
           "its a new tapping stick that makes halfmoon an orange , which will give him very much useful abilities and will be in good shape when faro wakes up . i run through them to find the eight meter vials .\n",
           561,
           144
          ],
          [
           "` ` elena , ' ` ' is reminiscent of the novum bellis patricium play by marlon brando but has no \" music \" except for the \" lyrics \" common elsewhere in the irish and russian animations .\n",
           562,
           137
          ],
          [
           "` ` elena , ' ` fly away , elena , ' he whispered , and he looked at her with his big dark eyes , as if he had been thinking about her all this time . ` ` damn you , elena .\n",
           563,
           123
          ],
          [
           "my mouth opens to say more , then shut once more . how long is my red alert going at this rate ? i just managed to find my wallet full of money again . i will miss it . so will ma petite .\n",
           564,
           133
          ],
          [
           "my mouth opens to say , \" two words . \" i nearly reply in , \" so perfect words and endless love . \" but end up saying no because i meant it . \" mia , \" giselle says out loud .\n",
           565,
           126
          ],
          [
           "he had been doing so well lately that he kind of wised up where he started at ; as level as he ever would . but most of all his current issues had been taken off the playing field in their own right .\n",
           566,
           142
          ],
          [
           "he had been doing so much better than i was doing . never think about him , never think about anyone ' s new in - laws , let alone about all of the times it felt like being near \" my \" mother .\n",
           567,
           130
          ],
          [
           "daniel shrugged . after opening the refrigerator door , he sat on the floor and stared up at the sky . he watched the movies past midnight , came out an hour past midnight on saturday and came back after five minutes .\n",
           568,
           146
          ],
          [
           "daniel shrugged . \" no one sees her . nobody says her name . \" opening the door , eve turned around and left . after lunch , all the co - workers settled into a private room and filed away notes .\n",
           569,
           141
          ],
          [
           "it ' s in huntington beach , a place that she loved growing up with her best friend . ' ' what did karen tell you ? ' ' no . karen lived in town , as well . she knew this place well .\n",
           570,
           131
          ],
          [
           "it ' s in huntington county southern california named huntington beach and her team gives her sister - lisa , grace , and trina - the money to send girls to college . somehow , the three girls survive the pitfalls however .\n",
           571,
           149
          ],
          [
           "` ` are you kidding ? ' ` a reasonable man is insane , ` he said , ` but once an illusion was achieved , it was a waste of time from the start . the illusion had become neither virtual nor real .\n",
           572,
           138
          ],
          [
           "` ` are you kidding ? ` ` nine years ago , under the famous egyptian engineer judas diop , he found at least 48 different abstract electron vectors , in seven glass cubes filled with magnets , in his lab .\n",
           573,
           152
          ],
          [
           "jehanne watches as a widowed woman who has become lonely , she has left and has lost her memory as a married woman . episode 20 is based upon diary of a blind girl , by italian author francesca della rovere .\n",
           574,
           147
          ],
          [
           "jehanne watches as the last joist passes and finally she asks , \" did you do that ? \" the odd thing that has come out was the words ' aren ' that has faded into the words ' families ' .\n",
           575,
           130
          ],
          [
           "` ` oooh , well , it still improves a bit . the energy leakage has actually backed up quite a bit , ' dr . big - man said , walking over to the cage to look at the body .\n",
           576,
           128
          ],
          [
           "miles hung up , immediately turning on the speaker of his phone and hearing a 6 , 432 voice male voice saying \" hello \" and \" thank you \" , sounding like exhalation . miles walked quickly across the foyer .\n",
           578,
           152
          ],
          [
           "miles hung up , immediately ending the phone call , and nicola was ... alone again . chapter twenty twenty - nine : death and anxiety the reunion of nicola and miles in the mysterious , swirling darkness that surrounded her was another miracle .\n",
           579,
           164
          ],
          [
           "he tries to pin me on my feet . the captain stands up next to us , damask cup in hand . \" what are you ? \" he asks . those mulattos lurch in unison , more and more .\n",
           580,
           123
          ],
          [
           "he tries to pin me down , and then i look . i spin around and face him and really see it in my eyes . tears slowly fall from me . not because it feels good , but suddenly the tears fall again .\n",
           581,
           135
          ],
          [
           "come on , girls , for a while , have kisses and softies , and make a wish for the last of all ( and never forget all ) goodbyes is the first album from 1997 from american rock singer bruce springsteen .\n",
           582,
           145
          ],
          [
           "come on , girls , be careful inside . their attempt to escape the back entrance to the navarre house ( located in midtown memphis , tennessee ) somehow survived on shaky legs . aaaaaaaaa _ _ _ _ kendra said .\n",
           583,
           148
          ],
          [
           "now she would be the only one who would have grown up alone and shut herself out right away , alone . one of her biggest differences was partly because her mom was living alone and partly because she knew where her dad lived .\n",
           584,
           143
          ],
          [
           "now she would be the god of power and he , lestat , was the god of the vampire ' s mission . xavier in paris , by gabriel van der sloot . why was lestat in paris ? why xavier ?\n",
           585,
           124
          ],
          [
           "he asked me if it was still raining , and i walked past someone who anyone would recognize as the husband of a woman . or maybe even someone like miss edwards or miss thompson . with that , i walked to my car .\n",
           586,
           142
          ],
          [
           "he asked me if it seemed to work . i thought out how it hurts me . his firm is known for its aristolalia de turricano , a website designed by claudio arrieta and maria paula pena .\n",
           587,
           132
          ],
          [
           "` ` no , elizabeth ... ' ' whispered the cosmologist ocelot . the three figures were overlaid into the diagram , because the numbers were models of daily life and the three figures were models of the universe .\n",
           588,
           138
          ],
          [
           "` ` no , elizabeth moore . ' ` the \" executive \" waiting , a tall man with an awful lot of experience in his role as tax overseer , veered through an alley toward the wide - open screen door .\n",
           589,
           142
          ],
          [
           "i laughed . the trees were so tall there was no salt on the grounds from the icy water . no one was angry over us being free . they were angry with us , and should be feelin ' better .\n",
           590,
           126
          ],
          [
           "i laughed . \" we sought the government as they do and succeeded in putting down the rebellion . despite all that , european and american troops made great efforts . \" \" hello mr . tierra . 1896 - 1898 .\n",
           591,
           148
          ],
          [
           "caulfield . ' the core community of blackberry 5 . 0 was developed under volunteers , 24 - hour sessions , multiple community members , 2 california hotel and city hall board members , the walker community and internet and communication professionals .\n",
           592,
           164
          ],
          [
           "caulfield . ' the black court ' , a novel by anne jones . \" a judge begins to drink blood for three weeks to avoid complications due to a tarmac crash due to the ragging of the woman \" .\n",
           593,
           137
          ],
          [
           "i asked . \" you suggesting we stop ? \" she slowly nodded . \" you ' d rather be pustuled ? \" she grunted . \" what ? \" \" yes . \" \" yes \" eila said .\n",
           594,
           107
          ],
          [
           "i asked . eight more years . say your mom . or my mom was , in our quarterly figures r4 million , the fruit of wine . a job . a job . and do you plan to get divorced ?\n",
           595,
           126
          ],
          [
           "scudi ' s throat felt dry as she quickly replied , \" why do you ask ? yes , well done . we have not been invited to see the festival . \" understanding what she meant , qhuinn thanked her .\n",
           596,
           142
          ],
          [
           "scudi ' s throat went tight with gibbosity . whuillia topped his head with shaky hands and a dry snip of his throat . he was a young avenger , but not a lout .\n",
           597,
           119
          ],
          [
           "al ! ' ' ' ' behold , ' ' begins the red - beard , ' i saw a wolf - ape stick its beak into the honey - oven ... and i am oh glad the pot has been burned ! '\n",
           598,
           116
          ],
          [
           "al ! ' ' 1998 - returned and acquired his third mvp . ' big c ' . ' junior ' ( ' ' the miz ' s ' ) ' 1995 - lived in kingston , ontario for over twenty years .\n",
           599,
           128
          ],
          [
           "` ` and now ' , i thought . \" and the cave ? \" \" of course , and ... something about taking two too many sentries into the hole ... \" \" we should go . \" i walked toward them .\n",
           600,
           130
          ],
          [
           "` ` and now ' there is a baptismal font open in the middle of the table . i have all white communion dress and white pumps , white band for merry christmas , merry welcome and chorusline . ` okay . '\n",
           601,
           138
          ],
          [
           "he bumped gray in the side , but only made the best of it . gray was only to be far more prepared than he was ever . after all , the powers that be had been much lower , as they always were .\n",
           602,
           130
          ],
          [
           "he bumped gray in the ensuing melee . a glass shattered . no sound . not a single cough or thud . as gray pushed harder , each of them faced the silent , aloof , maimed sentinels of the hotel .\n",
           603,
           133
          ],
          [
           "chayden hailed the jeep . it smelled musty here , like nomads cowered by layers of hairy hides . lycans were jackals . a myth among the desert tribes . were they even here yet ?\n",
           605,
           128
          ],
          [
           "` ` they ca nny - ma ? ' ` oh , cru - o - oh , and other words ( irish ireland ) so they are . ' ` you know how they are ? ' ` er - er .\n",
           606,
           102
          ],
          [
           "` ` they ca n to outcrop pockets of pw4k . ' ` that was verizon wireless ? ' she and lewis were at house number 6 . lindy dialed lewis ' s number and dialed .\n",
           607,
           119
          ],
          [
           "not for a while , when a building is run by men , they would have asked me to wait for them or walk more or less in the opposite direction , but the reality of it causes me to feel anger at myself .\n",
           608,
           140
          ],
          [
           "not for a while , not again . you just - well ... go washed your hands . \" she sat on a bench with a flight of stairs beside her , and isaac surprised claire when he saw that she was doing it .\n",
           609,
           137
          ],
          [
           "i ' m pleased to have learned that , i must say . kanerion looked at the cold stone , and gripped the sharp blade , declaring his strength . then the mandorin general groaned , starting to doze off .\n",
           610,
           141
          ],
          [
           "i ' m pleased to know that your courtiers are drifting dreamily around puzzling over a vampire like a certain master satyr , and of that your friends are following you . know what i mean . oh , exactly .\n",
           611,
           142
          ],
          [
           "` ` shit . ' the lieutenant told her , ` i guess . ' scorch glanced at him , ` you where ? ' honking his revs into the street , dougal waited . then he drove away .\n",
           612,
           124
          ],
          [
           "` ` shit . ' ` ` well , he barely works on tv full time like you hardly know other people . ` ` shit . ' the broadcasts titled the \" episode \" and \" trouble \" aired on the same channel .\n",
           613,
           134
          ],
          [
           "and iliana came to help encourage people when they had questions . in 2006 the cutaways were removed and eventually the night elevator was removed . in 2009 , a new twist to the series was introduced from the original show .\n",
           614,
           155
          ],
          [
           "and iliana came to earth as parents of human children , a very poor group of siblings - the poorest in the world . some were gone , some were lost , and they were happy that their family had been lost .\n",
           615,
           139
          ],
          [
           "what would he do to hold onto the woman he made love to when his last was sweeter than the plums ? would that spoil all ? besides , why were the hunters and blackhawks supposed to look after mary ann ?\n",
           616,
           140
          ],
          [
           "what would he do to her ? her family ... that broke her heart . they had told her all about their plans . their secret plans . she thanked them , feeling their intentions were sincere and kind and calling her the worm .\n",
           617,
           145
          ],
          [
           "as soon as i laid down , i fell asleep and nothing happened . kimber was waiting in the doorway to my right . it was the only sign of the vampire kind that i passed without picking a boy or little girl .\n",
           618,
           143
          ],
          [
           "as soon as i laid back on the soft grass , he stopped the pape picker and stared at me . all i could see of him was a semi - friendly kid playing at pete ' s with two basketballs .\n",
           619,
           133
          ],
          [
           "the promise of a good book this will be amiable for a further twenty years ' time . nevertheless , be aware i am saying my thanks for my grateful contributions to the fine irish society , from antiquity to beyond its borders .\n",
           620,
           158
          ],
          [
           "the promise of a good job followed by a \" paradise \" if it was no longer needed . also : ( why not ? ) some other bungalows , brought in in the 1970s only - were suffering regrettable rentals .\n",
           621,
           150
          ],
          [
           "i reached for a refill though , just as the dreams had gone away , ever so slowly . jasmine , jasmine , jasmine . my mind played her midnight set at elsa ' s , one of my favorite tiffany ' s .\n",
           622,
           132
          ],
          [
           "i reached for a refill because of the lack of any water , but remembering how dry my throat suddenly felt , i drank deeply , greeting the guests while uncle landon and the sales man guided me to the burrito restaurant .\n",
           623,
           152
          ],
          [
           "the herbivore , the rabbit ( was introduced ) ; the green hare ( compared to tern in 1810 ) ; the badger , the bush dog ( thought to be a small dog , lion , or raptor ) ;\n",
           624,
           128
          ],
          [
           "the herbivore , and the crocodile , now sixty - five years old and from far southwest . templeton ' s encyclopedia ( volume 2 ) ' early voyages to china ( late 6th century ) ' sources for early voyages .\n",
           625,
           145
          ],
          [
           "my anxiety pitches . \" - - - - - - - - \" \" - - - - - - \" gabriel does not say anything , but , for his part , he lacks the growing need for me to speak .\n",
           626,
           107
          ],
          [
           "my anxiety pitches . then they slowly rose and rose along a darkened hallway which is completely filled with cameras . they could be anywhere outside in this hallway , the room , except on the floor . i was in this concert .\n",
           627,
           149
          ],
          [
           "my mother loved scorch so much that she made the best of the work , first on the rest of the cameras and then on the official slide shots and video collection and seldom admitting anything less than a little messiness .\n",
           628,
           142
          ],
          [
           "my mother loved scorched crawlers , who on the basis of spending months with whips , guns , spiders , and two to four months of blood transfusions preached their need for a career as a hospital nurse .\n",
           629,
           141
          ],
          [
           "` ` cerise stopped for a few moments , to simply read the words , forgetting that it was okay to just read the words aloud . she was staring up at the gray sky . she was finally glad to be here .\n",
           630,
           131
          ],
          [
           "` ` cerise stopped dry - oiling it . \" \" this is no time to teach you what . \" ` the fire would boil outside the moment we left this place . \" ` the doors must have been bolted .\n",
           631,
           129
          ],
          [
           "` ` no more riddling the innocents . ′ ` i was thinking ... ' ( pasadena ) ` then you would be right about a lovely blond man - a perfect man . fear is breaking out all around you now .\n",
           632,
           144
          ],
          [
           "` ` no more riddling by shepley anyway , ' widower says . a handsome little man with long , reddish - brown hair comes inside one of roger ' s pressurized spreads , at which he spits .\n",
           633,
           137
          ],
          [
           "and a too - many of the police officers , the inspector and the sergeants of the gas - city stood aside . they decided that they had the mind soon thereafter . but then , slowly , it disappeared into the distance .\n",
           634,
           141
          ],
          [
           "and a too - many study suggests that the institution in question did not establish formal , limited categories , as defined by the end and beginning of the period of menem ephebe or twenty - ninth line of the torah .\n",
           635,
           147
          ],
          [
           "i ask . president pliny was a fine example , if a bit uneasy about it . - first annual federal confederate congress ( 9 july 1861 ) . smyth , \" v . w . \" . federal confederate veterans .\n",
           636,
           136
          ],
          [
           "i ask . while in town on a shopping trip with lenny , they did something dangerous ( just in time for lenny ' s birthday and scotty ' s funeral ) , and so did george and george and i .\n",
           637,
           129
          ],
          [
           "it ' s just arik standing there , as if certain illya is just standing there , working on some sort of game pure and simple , mixing the forces of good and evil . \" something about her being something else .\n",
           638,
           134
          ],
          [
           "it ' s just ari and josh letting go . not josh and courtney and jeff and myself , not jeff and his dad but me and my mom and ellie , and jeff and heatherie and i are next to stand together .\n",
           639,
           123
          ],
          [
           "i could n ' t imagine what my father did with his thirteen different hispanic relatives named after his oldest son . i had to imagine how they were wearing all a red team eight uniform made from the blood of mexican ranch hands .\n",
           640,
           156
          ],
          [
           "i could n ' t try just nibbles , ' cause i ain ' t got no real family . \" \" my best friends . \" 6 . tuesday at 8 a . m . new york - 6 . 30 .\n",
           641,
           114
          ],
          [
           "no and i dont know why your men came up from behind . rachel was dedicated and loyal to raziel and seeing that galloran was flanked in his strong arms by every willing woman among the grand white - priestess .\n",
           642,
           145
          ],
          [
           "no and i dont even know about your genetics . i could reagese your blood completely . a sup i could last a day and an hour . my pulse galloped as i considered that , lost in thought .\n",
           643,
           130
          ],
          [
           "` ` i ' m not mad , ' ` said detective barnes . ` because they both are mad . ` ` ` and also last year my parents are rich , he massacres my sister when she drinks too much blood .\n",
           644,
           131
          ],
          [
           "` ` i ' m terribly tired . ` ` robert bohmer , from phoenix , led a group of twenty jet fighters . another twenty - six air force jets joined the group , including two mig - 21 fighter jets .\n",
           645,
           136
          ],
          [
           "all of it . . . . . . : song . . : song . . . . : music in turns or moods . . . . : song . . : song . . . . . . : song . .\n",
           646,
           58
          ],
          [
           "all of it . . whores too . \" \" ridicule made for rich guys . \" rich boy , ' whores of eris \" - \" \" me ? ' ' i - \" ahhhhh ! .\n",
           647,
           96
          ],
          [
           "and yet something inside him knew that he had become and had completely become nothing . he knew that this was why he was who he was , who he was now . that he could not escape the black hole that was inside .\n",
           648,
           126
          ],
          [
           "and yet something inside him ached . he was almost relieved to see her go until this point , considering the fact that miss black , miss portman , and tiffany nearly shared their lives without being connected to any one other person .\n",
           649,
           158
          ],
          [
           "i want that message to make sense to me . usually it will make everything okay . ' ' ' ' when i hear these people talking out loud i tell them i know what they are saying i know what they are thinking .\n",
           650,
           130
          ],
          [
           "i want that message to be : give it to you , grace . even though you cannot text me that , right ? if i cannot have trusted you , it only simplifies that message , which not all will have .\n",
           651,
           133
          ],
          [
           "romances can be sad in the united states now . washington , dc : grays lane books , 1997 . \" from eighty years into the land of thirty : a thousand wishful dreams , excerpts from a christmas carol . \"\n",
           652,
           149
          ],
          [
           "romances can be sad - - - but really sad ones are romances falling off a cliff . pastora mano galindo \" - - - \" the author describes her life in romances anthology , chapter vii .\n",
           653,
           125
          ],
          [
           "i hadnt even considered it . i didnt know how big - or tall , or how fat he was , actually - how much he felt . in johnson johnson regional medical center , restraints such as restraints werent allowed .\n",
           654,
           137
          ],
          [
           "i hadnt even considered quitting that winter just to rest and worship . hed put me on so many jobs that , even in specific , hed patched me up . then there was patrick moore , my ex ?\n",
           655,
           133
          ],
          [
           "how come you can make the extra dollars ? ' the old man shrugged . ' these are for you , and i cannot . ' the light flickered , and they were gently backed towards the dark stone - crown studded entrance .\n",
           656,
           143
          ],
          [
           "how come you can make it in time ? that was what happened . he picked another one - hey , vermin ! - faced the same mistake , ran as fast as he could , and went around the counter without stopping .\n",
           657,
           142
          ],
          [
           "she walked into yours to help get the pieces from you . we left the hall of destruction . no one else was there either . there was a black and white porch , strung with small lanterns . around them were many families .\n",
           658,
           146
          ],
          [
           "she walked into yours to demand revenge . her father was your brother for stealing you . \" \" i believe your mother killed your brother , your wife , and step - father . all of you walked into their line of succession .\n",
           659,
           139
          ],
          [
           "across the wings and body of each one , stars hung from the tips of each . but what if some , she suddenly realized , were dead and claimed to be there ? maybe , she supposed , not a very good question .\n",
           660,
           141
          ],
          [
           "across the wings and body half the way off , the flames licking my arms . i was shaking and it came then then that my was here . too quickly , i saw him , as if he looked and saw nothing else .\n",
           661,
           131
          ],
          [
           "she was startled and looked around nervously . gone was the punctilious , maze - like room , the walls swathed with gray stone . mihai knocked his way , down to the stairs , and then caught himself .\n",
           662,
           140
          ],
          [
           "she was startled and looked up before she could speak . she just sat there , totally disappointed . i . am not . sorry , assured me , i can fix it . can i help you ? - no , not really .\n",
           663,
           135
          ],
          [
           "it ' s once you met chrissy . \" he began talking again : \" i lost my best friend . i thought about her , calvin . but like her , i still ran into other people who were totally trashed .\n",
           664,
           137
          ],
          [
           "it ' s once you felt alive . \" riyan lay in bed laughing with the mechnies and hovering over them as they woke up from their nightmare dreams . cheeky for making love to that damn pretzel .\n",
           665,
           138
          ],
          [
           "` ` it was worth a lot of money and the painting still exists . it currently rests in the private collection and possession of terry owens who is ready to let the damage this artwork caused to my photograph to be publicly exposed .\n",
           666,
           158
          ],
          [
           "` ` it was worth a try , but ... ' ` to be honest , ` the man said , ` being a rough spot in the ground . breaking a gun . getting deep and hard , you take one down easily .\n",
           667,
           126
          ],
          [
           "the old pistol red - hot shrilled . \" for the stock exchange , now , mr . mcneely , and leave you between us . \" \" you live in a country that is seven or eight hundred miles away ?\n",
           668,
           136
          ],
          [
           "the old pistol red - hod line was the way it came to to be used - out in 1928 and 1928 . it was long and narrow , free of rhinestones , totally missing the shoes it customarily had .\n",
           669,
           133
          ],
          [
           "should a french speaking planet world be forced to temporarily turn that language into french by the \" stupid , stupid , stupid \" definition of every language then iso divide those languages into one , two , three and one out of four .\n",
           670,
           149
          ],
          [
           "should a french speaking planet flees to earth , its settlers refrain from destroying the city with a deadly meteorite . a thunderclap is less like the ancient fraternal dialogue , and more like the alien forming the mass ;\n",
           671,
           155
          ],
          [
           "heres to you , i tell my stories over and over that i ' ve come upon the firm hill which holds the pillars of my northern mountain , the starless mountains which keep the four \" orbs \" of love .\n",
           672,
           135
          ],
          [
           "heres to you , wade hampton . if only you could tell me this . there was light out there , too bright . too damn dark . but i was gone . i was a part of that vision in that moment .\n",
           673,
           127
          ],
          [
           "when i was completely satisfied , he said , \" will we all leave now ? just tell me what happened ! \" i nodded because i was weak . silence filled the entire room . he sat down next to my lackey ;\n",
           674,
           143
          ],
          [
           "when i was completely satisfied with the emperor ' s enthusiasm , he formed the imperial naval building commission , also assisted by naval officers , on 13 january , 1904 , and designated the first three - screw \" water jetty \" .\n",
           675,
           165
          ],
          [
           "he seems so proud . \" well , if you want me to stay with you , drive me . \" he smiled casually sometimes , his blond hair standing out in the sunlight when i looked up , and still he said nothing .\n",
           676,
           138
          ],
          [
           "he seems so proud . ' vanion murmured in realization . the waylaid oroth ' allies ' journeyed along the various ' roads ' , often arriving before their xenath - pipped huts , in late years .\n",
           677,
           139
          ],
          [
           "staples riddled their split bed sheets . swanny and eden both were on fire and each man had a wall to put up . but when the other man moaned in pain , they were aware that someone was coming for them .\n",
           679,
           139
          ],
          [
           "her softness was ethereal . he thought it was a little weird . in the truth there wasn ' t anyone who ever spoke of \" the darkness \" that spoke to her . he ' d - had totally been the monster .\n",
           680,
           129
          ],
          [
           "her softness was ethereal enough to cover about half a square inch . just to be sure , she was bigger . so much larger , like a small car , and even more like an asteroid . the pain was very intense .\n",
           681,
           140
          ],
          [
           "forgetting about this afterward would probably give her a bad feeling , but after just thinking about it for a few hours , being tucked in between a new couple of friends and partners like darla and mitch , made her blood boil .\n",
           682,
           154
          ],
          [
           "forgetting about this afterward would lead to the ' blind move ' of 18 november , as he engaged forces from the blind defensive positions to continue his advance northwest for where their targets would be , ambushing them up to his target .\n",
           683,
           162
          ],
          [
           "` ` i ' ll be clearing things up , ' the lincoln county police detective told bulonda , ' and captain giffard , you help us clean up the mess . ' they all filed into a quiet parlor .\n",
           684,
           135
          ],
          [
           "` ` i ' ll remember from the record of the meeting of the security council with mr . firman , \" the deputy prime minister , and the president \" during the meeting with the ambassadors , abbas i himself is present .\n",
           685,
           145
          ],
          [
           "` ` that ' s from a helper ' s grandfather named george jackson . ' ` anna , anna , anna , where the jacksons live ! i have spent some time in the hard dirt and gravel of west jersey .\n",
           686,
           130
          ],
          [
           "` ` that ' s a lovely name . ' ` really ? \" \" oh , and i got a few clues from the eod ... and another from mine . \" ` i got in school with a freaking sunnie .\n",
           687,
           121
          ],
          [
           "` ` i ' m avec . e . ( winter 1945 - 1946 ) . ` h ' b avec . ( 1948 ) . 49 , 50 . arabic in a native language . madrid : meta ( 1949 ) .\n",
           688,
           111
          ],
          [
           "` ` i ' m monsieur bax bourne ! ' ` who on neef . chap , his secretary , his wife - he - the agent . the brother - no me - ' ` give me letters , monsieur .\n",
           689,
           116
          ],
          [
           "it ' s really dangerous , to ignore the big green , to ignore jordan , who was just walking behind me in class ( but only because it looked like the green green from the slut guy who walks beside me ) .\n",
           690,
           138
          ],
          [
           "it ' s really dangerous in the dark , according to him , so we should have to leave before it comes near . \" step one : eugeny had seen these two names on his trip in russia : в . в .\n",
           691,
           142
          ],
          [
           "it ' s everywhere on the rocks , right in the middle of the tractor vee . \" the gantry hit us , \" will starts . \" we capsized . it knocked all the other kayakers down . \"\n",
           692,
           126
          ],
          [
           "it ' s everywhere on the screen that archie displays his father and son bond despite having been in his ever - present form during the great war ( \" archie \" ) ( he is known as \" the old one \" ) .\n",
           693,
           139
          ],
          [
           "he used to do it , wants someone to be there . thank you , god , god , thank you . and then he saw jim o ' brien . he was nearly staked the ass trying to see who he was .\n",
           694,
           117
          ],
          [
           "he used to do it all himself , and his one - time co - worker , ted ( ted hour ) who , despite being the arms dealer , dresses up in a dressing gown ( which he actually changed himself in ) .\n",
           695,
           137
          ],
          [
           "war with whom ? was she just going over the various documents that she came across ? the rest of the questions were a series of riddles - riddles based on the information gathered and placed on shelf in his library .\n",
           696,
           147
          ],
          [
           "war with whom ? he did think to himself it was a wonderful game . this is an excellent game , he thought silently . it provides valuable advantages for soldiers engaged in war , but it is also quite a fine game .\n",
           697,
           150
          ],
          [
           "she explained that she would \" never wear them because there was a great relationship in my life \" and reflected on the relationship she had developed with her junior family . the high school was equipped with a staff of three assistant coaches .\n",
           698,
           163
          ],
          [
           "she explained that she would also fight the caster . \" \" into , what ? \" \" against , \" chris said . he barely whispered . \" against what ? \" asked cassie . \" against me . well , anyway .\n",
           699,
           129
          ],
          [
           "i couldnt argue with that . i had to . tory had hired a half dozen healers to work and her lack of steady mindspeech for her torn cartilage and 12 inch fingernails had all been paid out .\n",
           700,
           135
          ],
          [
           "i couldnt argue with maybe the other vampire was just a poet or a spiritual guru all along , sharing his personal acknowledgement of his own faith . his answer still had me turning on the tv and making the window rattle .\n",
           701,
           152
          ],
          [
           "` ` can i just help you sir ? ' ` is it not over ? we need to install an auxiliary power fan , one to each core , making the insulation be somewhat more from the old system . ` ` nothing .\n",
           702,
           139
          ],
          [
           "` ` can i just make good on this $ 30 million agreement ? ' ` oh , stop it , john . ' ` not until you have written over a dozen ad - libs where you can keep the information private .\n",
           703,
           141
          ],
          [
           "he sniffed the air , hoping that the captain would note that his father was subpoenaed , at least not by the governor or the household eunuchs , or the imminent threat of retribution when an impending royal raid .\n",
           704,
           147
          ],
          [
           "he sniffed the air , stained with shedding bits of dust that gathered in it and thick , dark sawdust . surely not her . her perfume was of a soft fairy - tale note to him , to everything around him .\n",
           705,
           141
          ],
          [
           "and another thing . nightmares and dreams , all twists and turns , all twists and turns to start , to do , to spin and fall , and even spin and fall . but these dreams were not some kind of nightmare .\n",
           706,
           120
          ],
          [
           "and another thing . in a room so far away , so small and silent , she thought she had grown and grown , and then , and and then she had melted into nothing at all , and fell to the floor .\n",
           707,
           120
          ],
          [
           "this is my last week of starting with the shop and snooping through it for the profit ! \" osbern then said , staring at the square - box and counting off each square - box down like a cheshire cat .\n",
           708,
           136
          ],
          [
           "this is my last week without any fat clients . * * * * ( mike will smile now ) what do you think ? * * * the tambourine band in the club adding us two to a blog runs forever .\n",
           709,
           130
          ],
          [
           "once arrived at the place in which shane and i both lived , i walked down the grand curving stairs and around the edges of the lobby . it was sort of in my mind a local area , fascinating and exciting to behold .\n",
           710,
           144
          ],
          [
           "once arrived at the place , everyone was safely inside the temple . chapter two prologue part vi i think that the lord ruler had somehow rescued us from disaster . i think that he ... and i ... have never truly been friends .\n",
           711,
           153
          ],
          [
           "` ` how many loyal - minded islamists in the north are there ? ' ` some are other than a sadder , hair - browner kasab . ' ` makes certain it pays a bare minimum by july ?\n",
           712,
           130
          ],
          [
           "` ` how many loyallies , sir ? i doubt it . you may have a few , ' said the voice , and then , as though it had assented to ' caesar ' s orders ' , looked around anyway .\n",
           713,
           129
          ],
          [
           "her voice cracks , but i knew she was defending herself , and i scared him . ‖ - and he went in . ‖ - the barn is how he owned this house . ‖ - and the barn looked good to me .\n",
           714,
           127
          ],
          [
           "her voice cracks , but she continues , \" right . my favorite song is taylor swift . my favorite band is u2 . \" they look down at her , their blue eyes pleading , the pair of them enjoying all of this .\n",
           715,
           140
          ],
          [
           "it was raining cats and dogs . the clubs stopped to make myself clear . i had never seen porn clubs . the first major symbol of the group group had been me and jack ( short john ) hamilton , both affluent looking .\n",
           716,
           150
          ],
          [
           "it was raining cats and dogs . the boys at my orphanage were questioned by mum and dad before and after i returned to scotland . \" amused , madge smiled . \" don t you want to tell them where i am ?\n",
           717,
           140
          ],
          [
           "` ` way out ? on one door key ? oh my god ... ' ` he laughed again . hunter brought his face closer . all over his face now , just like his blond locks . perfect for fish - baiting .\n",
           718,
           138
          ],
          [
           "` ` way out ? ' ` although our official search for the new york times found five significant rooms in the hotel , not a single significant room . do you think we have a way out ? ' ` take it easy .\n",
           719,
           133
          ],
          [
           "an odd sensation skittered in her mind , and she whipped around quickly , thinking about this small cottage , its backyard filled with wild animals , a few raccoons , and many , many things that she could not see .\n",
           720,
           148
          ],
          [
           "an odd sensation skittered through her entire being . maybe he wanted her to have sex . maybe she could lessen her sullen mood by making a do - it - yourself - holler to her obese older brother .\n",
           721,
           136
          ],
          [
           "they reached the garden fence , passed a picnic table , where a woman with sandy blond hair proudly had pictures of her son riding a fur coat . jeff glanced out the window at the night sky and noted the lights were dim .\n",
           722,
           152
          ],
          [
           "they reached the garden fence and watched the scene . the first half - horse came , and savageed first the half - horse and then the second half - horse , until half the horses were killed and half - gutted .\n",
           723,
           124
          ],
          [
           "at first she was going numb , but the pain had gradually subsided . after two hops and quite a few more days of wooden feet , even the pain in her leg had subsided . she sipped at her tea and sighed .\n",
           724,
           136
          ],
          [
           "at first she was going to wonder what happened to the handle in the innkeeper ' s drawing room , anyway . then she was going to wonder if there had ever been any blond , with throat and eyes the same color .\n",
           725,
           134
          ],
          [
           "i ' d anticipated that \" i want tonight \" included social tutoring , meetings , panel discussions , interviews , panel discussions , or other exotic activities such as \" fibs \" ( a name that no - one heard ) .\n",
           726,
           139
          ],
          [
           "i ' d anticipated that . ' ' tue , tue , escliv que la tirer par autret . ' ' pay attention to some of the words - listen and see , ' the man said .\n",
           727,
           112
          ],
          [
           "bronco grinned and slung beer and milk from his rucksack , hidden pockets and even objects inside , such as cans of feed in the grass field . mostly , they [ guns ] killed hungry people , and not civilians .\n",
           728,
           150
          ],
          [
           "bronco grinned and slung over a zip code bottle with an electric sign on it . an investor had recently won the contest to do so , but since the war and the advent of cars , nobody knew what the novelty was .\n",
           729,
           145
          ],
          [
           "` ` alison wells . the late mrs . ali - pq . ' she was wearing ' welcome , miss dixford ' in her primary uniform that morning . 13 % the students filled the locker room with cafeteria food .\n",
           730,
           143
          ],
          [
           "` ` alison wells . | 1981 ( film ) | art hour : 10 : 00 p . m . . | art hour : 7 : 30pm opening - first 60 minutes \" dance with destiny ( album cover ) \" |\n",
           731,
           128
          ],
          [
           "` ` alexei would be livin for worse than maritza at the moment . ` ` our creditor is clear now billy girl . here goes , take my advice and never feel all bad for your goddamn creditor .\n",
           732,
           135
          ],
          [
           "` ` alexei would be better . ' ` the bullhorns need to stop to keep them going while you detach the fuse plugs , ' gary said . ` they can use our bores . ' ` okay .\n",
           733,
           124
          ],
          [
           "it all seemed pretty simple . \" are we both , and we are not ? \" [ orif . think and or , assimilate freehand ] [ david andrews died on the eleventh day , january 18 ? ] .\n",
           734,
           132
          ],
          [
           "it all seemed pretty simple , alison starting with something like ' go ' , with emily starting off with ' not now ' , which still meant amanda ' d be having an adventure today with emily a corn nut girl , too .\n",
           735,
           141
          ],
          [
           "it ' s still warm and quiet but the summer holidays , thanks to our job and two new partners , are causing some trouble . we also need help in learning how to get to this little town and make this city happy .\n",
           736,
           148
          ],
          [
           "it ' s still warm , but so far ! in the deepening dark , just made - up furniture remains : mossy leaves , mud - in -laid pinecones . mrs . horne hands the photograph to me .\n",
           737,
           134
          ],
          [
           "it was exciting to feel and feel something , especially to see something as bad as a fat honey - brown cow who had demanded she pay for the humiliating things she did , but damned if he was going to sleep with her .\n",
           738,
           145
          ],
          [
           "it was exciting to feel them like this . and i was beginning to accept that after dealing with morgenbroch all this time ... \" tell me , what do all the neighbors talk about all the neighbors ? \" silence .\n",
           739,
           136
          ],
          [
           "` ` this could be even more terrible . ' ` blah blah . ` chapter 71 the jugglers ( waiting for you there ) returned with a glass of champagne . [ two glasses ] of what was no longer liquid mercury .\n",
           740,
           151
          ],
          [
           "` ` this could be part of the search process , ' said jenny drake , sounding genuinely pleased . ` jenny drake is highly trained and has remarkable internet experience . ` ` how about photojumping one of my friends ?\n",
           741,
           156
          ],
          [
           "the chips slid into her hand . seven of them . the cat or fox or the fen , or direwolf or the little horse . all together , and she always thought they were connected : long arms , long hands .\n",
           742,
           136
          ],
          [
           "the chips slid into her pocket to thunk and drip again . \" sure . anything ya want , \" she told him louder than she had intended - shocked ... captivated ... and impressed his terse mouth supplied her request .\n",
           743,
           146
          ],
          [
           "yes , they had bob from video games to anime and ravyn to billiards . yes , vix was even cuter and bolder . her mother had been criticized for having an almost freakishly freakish personality .\n",
           744,
           136
          ],
          [
           "yes , they had bobped heads and tats at them . when humans were discovered or even lived among one of them , they were always violated and harshly judged . once crossed , the humans and norms were firmly in place .\n",
           745,
           143
          ],
          [
           "his tongue twirled around in his mouth and ended up with \" cher , cher , cher , and cher , cher \" . the album cover and music video are included in the dvd \" the greatest - hits collection \" .\n",
           746,
           128
          ],
          [
           "his tongue twirled sporadically around the rim of his beer bottle . now there were cockney band members entering the local bar and hanging out like two hump - kneed idiots . i was going to be sick .\n",
           747,
           140
          ],
          [
           "` ` could i ask you ? ' ` in the book we describe the intention of adolf hitler being to kill him , being , as such , part of the group neo - nazis , by a pact to kill his enemies .\n",
           748,
           133
          ],
          [
           "` ` could i ask you about myron and his little problem ? ' ` not bad , but good . ' ` ` well , but fritz said from the hallway , ` but google doodle and math can be helpful .\n",
           749,
           132
          ],
          [
           "i marched into the trees , and a few more yellow scabs emerged . green eyes met mine through long , raven - black hair . i stayed still and listen . the house was quiet , except for the night chill .\n",
           750,
           141
          ],
          [
           "i marched into the trees , though i hesitated there when two more shots rang out . no ... no . i ran from here , rushing up the other branch to throe kyler . the two men seemed never forward .\n",
           751,
           131
          ],
          [
           "i nod and turn to my superior officer - the lieutenant colonel in his highest rank - who opens the door and leads three more troops through the corridor , saying that i will go find some private rooms , and take them home .\n",
           752,
           152
          ],
          [
           "i nod and turn to adrian as he ushers me down a corridor . beyond his wing , hundreds of computers surround him , providing him with all manner of modems and surveillance monitors , and turning on transfer forms and applications .\n",
           753,
           155
          ],
          [
           "but still . there are many , so many different options for fighting against the world of red , green and blue magical summoners . there are almost hundreds endings in this game , and there indeed are many new choices .\n",
           754,
           145
          ],
          [
           "but still . he heard a heavy , not loud , thump . and then it seemed like it had all happened . the church ' s gloomy building looked pitch black in comparison to the trees he could see building .\n",
           755,
           140
          ],
          [
           "he was afraid of it , all in all . but he knew it was there in her , there with him , too . rain and rain , rain , rain , rain , rain , rain , rain and friendship and love .\n",
           756,
           100
          ],
          [
           "he was afraid of it in the circumstances very little . or , rather , mostly he was afraid of his own interest . because of the circumstances when someone took the money and sold their shares , then that person lost their interest .\n",
           757,
           141
          ],
          [
           "the entire gunfight lasted . the caged swarmered , like i did : the three - armed grasshopper , the horse - beast , the warbler - and the king and queen of the trees , here and there .\n",
           758,
           127
          ],
          [
           "the entire gunfight lasted over two hours , and involved four cfcs super cobra aircraft badly damaged ( of a total of 14 libyan aircraft involved ) , four cri - metys and a squadron of 12 libyan fighter jets .\n",
           759,
           146
          ],
          [
           "it is not me , but it is all of it within me . \" then , suddenly , the light began . the whole world became dark , downy as dark as the moon , and then cloaked to starlight .\n",
           760,
           122
          ],
          [
           "it is not me , lord ! take him away , away , away , away ! mayhap the woman of the willows , the woman of the willows , is in the forest to save her firstborn son !\n",
           761,
           103
          ],
          [
           "asher would be alone again , with his hands tied , and it was like he was perfectly capable of escaping and bringing death again . he was the one with the puffy lips , the regal silver eyes . the perfect child .\n",
           762,
           141
          ],
          [
           "asher would be alone again and i would never even be alone at night just to be alone . my entire life it was so weird . my life was never all that weird . this was all so confusing and so horribly wrong .\n",
           763,
           129
          ],
          [
           "stay , if you want , live , that is that the beauty of zion is called the black sky , and it was sent from him . for this she was named anunrothen mt . ( mt . zion ) .\n",
           764,
           121
          ],
          [
           "stay , if you want , \" said sharine . \" oh , spending time with the boy . \" \" yes , i was afraid of them . and that car - they had searched all along . . \" \" yes .\n",
           765,
           119
          ],
          [
           "he should be screaming at his sorority sisters when they were ready to finish him off . i was a slutty sorority girl . when all the partying had ended , i could finally pick up , and have a baby .\n",
           766,
           139
          ],
          [
           "he should be screaming at his brother by now . could he wait for a taste ? he went to knee level and pulled out cigarettes . out of his pocket it would be cold . he slid them into the open crew compartment .\n",
           767,
           145
          ],
          [
           "iona waited another five minutes hollering her answer of we - can - do - we . and the phone stopped . iona waited for another response . iona had jokingly said , \" then it ends . \" so what ?\n",
           768,
           132
          ],
          [
           "iona waited another five minutes in silence . to laugh , to breathe , lay down , lie down , watch the movies , fool around , read magazines , grab sweater , and say goodbye . cassidy was slipping away from her life .\n",
           769,
           151
          ],
          [
           "if you came to visit me , then fine . but maybe you can forget me . \" mrs . b . l . and mrs . c . blinked out their big eyes . emily put a file into a top desk drawer .\n",
           770,
           122
          ],
          [
           "if you came to visit bel - mim - ' ' - feeding them , protecting them , feeding them . ' ' my uncle took them all up there , in the trees . but they must be a long time already .\n",
           771,
           123
          ],
          [
           "athos steered them towards a small field of pale green grass . his back - handed spearman had slashed across davos ' shona ' s left cheek with a heavy wooden sword . they recognized that it was a book .\n",
           772,
           146
          ],
          [
           "athos steered them towards the town centre and the troupe walked down the street past a smithy , the public library , its first synagogue ( kleuchsteine ) , and the chambermaids ' living - quarters .\n",
           773,
           143
          ],
          [
           "she says making determined choices , after all . ekial led eki ( already dressed ) back to wendelin . by this time he and two others had come to see what was wrong , and two others came to investigate .\n",
           774,
           139
          ],
          [
           "she says making determined choices about every decision , but i do not fully understand her , so ms . juremenah , along with her older sister and teammates in the academy , village , and elissa , takes over .\n",
           775,
           147
          ],
          [
           "` ` i did nd it . it ' s been in place the morning i got the samples . ` ` be much more specific , arnold , about the age of this stone and the nature and location of the machine .\n",
           776,
           126
          ],
          [
           "` ` i did n / i my job , according to a cover story i am working on . ' ` harry , calm down , alice is out here . right now , you can come up to her for a minute .\n",
           777,
           125
          ],
          [
           "francesca arno is the protagonist of the series . francesca ' s father is dr . john henry campbell , and her uncle and namesake is randolph \" daffy \" campbell , endowed with a well - developed brain and spine system .\n",
           778,
           148
          ],
          [
           "francesca arno is the artistic director of le saunier ( french new york ) which publishes her collections in france and prints her own works on several occasions , thus reminding her of a quirk in daoist art .\n",
           779,
           147
          ],
          [
           "he would be an equal scurvy , forgotten , weighed - down , and doomed to die young . lt . - col ian bulman ( 1903 - 1985 ) , author of the irish rebel novels and the great escape ;\n",
           780,
           143
          ],
          [
           "he would be an equal pitcher for the team , but a level hitter for jared . the team was meant to be diverse and mixed between nick and jared in size and power . nick and jared joined the team in mid summer .\n",
           781,
           133
          ],
          [
           "dan turned to the central security guard over his shoulder and told him \" up here , now ! \" and told them to ' go put all the bacon and eggs in the tanks and burn up here when they get back ' .\n",
           782,
           133
          ],
          [
           "dan turned to the central square where the station was located , the lights winking every passing year , and not just looking upwards as he watched the very brief weather forecasts that were probably merely being recorded by a real newspaper .\n",
           783,
           165
          ],
          [
           "by the time we made it to black friday 4 : 24 through \" the home run run \" , they had strict rules and i could tell you knew how much a lot of the kids at home were learning by that point .\n",
           784,
           141
          ],
          [
           "by the time we made it to campus , most of the windows were boarded up and obviously dehydrated . we were for quite some time so we went home to eat . and i think i definitely went home too .\n",
           785,
           131
          ],
          [
           "meghann demanded . \" they were killed by the indians , \" said maggie . the embers of champlain attracted rescuers and residents and included the next toughest of rescuers : claire , frank and lizzy .\n",
           786,
           142
          ],
          [
           "meghann demanded . \" what ? \" maryann shook her head . she asked again . * * * chapter 26 learning the challenge of never paying , no paying for her and so forth , she kept her head down .\n",
           787,
           135
          ],
          [
           "garrett ' s eyes smel ed of anger . \" why are you still worried about this project and what your enemies need that did make our minor conflict work so well ? \" the professor said , his tone becoming more agitated .\n",
           788,
           152
          ],
          [
           "garrett ' s eyes smelt of smoke . greene street was a no - name street , where roff and the rest of the other vampires were known , even to everyone else , of this city at this time of year .\n",
           789,
           130
          ],
          [
           "because she couldnt inform me anything else . would it have been her turn not to go back to her life , that awkwardlove , that terrible kiss ? i got in my car but crossed the street as i left .\n",
           790,
           140
          ],
          [
           "because she couldnt inform me at first , vessa was dead . my family said i had named somebody who was working for nick jackson last night and mom listened to them and told me , because i couldnt tell you .\n",
           791,
           143
          ],
          [
           "michael had n ' t been coming in , though , and gary was busy looking for alan and billy . michael bought the place for $ 250 every month and then he sold the whole store until alan , billy and gary closed .\n",
           792,
           145
          ],
          [
           "michael had n ' t been impressed , exactly , but all he did was see the £500 , 000 of the brits . ' ready for the money ' had outweighed the small number more than it had deserved .\n",
           793,
           140
          ],
          [
           "` ` where are you ? ' ` you did great . there will be some good news . i checked on my friends in the gang of town , campers , the ' rivermen ' and the local ' cops ' .\n",
           794,
           127
          ],
          [
           "` ` where are you looking at coming up ? ' ` not with bobrowski or luckman , but with stirg and hutchins back in the boat , or whoever poled them over the tracks to you .\n",
           795,
           130
          ],
          [
           "go home , abby . go see if you would be willing to go out with us and maybe have a drink . \" her hand shaking anxiously , abby unsuccessfully waved it at the big man who had just held the door open .\n",
           796,
           143
          ],
          [
           "go home , abby . a . ( var schaal . ) plantigo , o ( go home , o ) plantigo ( catalogue exhibition : cowdens , tyne tees etc . , north and east ) .\n",
           797,
           113
          ],
          [
           "she walked over to the rug , which still covers the floor , and she listens to \" hear \" the voices of the creatures . it is what she is hearing , is what she begins to say in her own words .\n",
           798,
           128
          ],
          [
           "she walked over to the machine , afraid of moving her legs , inhaling , and stopping the flow , but not in danger of letting go ... she turned it over , but realized she had so many things on her mind .\n",
           799,
           140
          ],
          [
           "no , evan . there was no answer . it was her only answer . the country music - inspired music from her youtube channel , \" get away from me \" , went back to those who found themselves unable to sleep .\n",
           800,
           138
          ],
          [
           "no , evan . \" \" oh yeah ? \" i asked . \" right ... of course it would , but , \" he went on . \" i never did get a letter from mathis or anyone , but myself .\n",
           801,
           119
          ],
          [
           "when they clustered inside the high school without even having groped us each and every day of what they did , from boogeyman to vexing to a total \" frat - boy \" orgy flirtation for us .\n",
           802,
           137
          ],
          [
           "when they clustered inside the big house , ho was , his mule - sleighy , well ahead of their party . he whistled for a pistol , but ho went down , paused , took aim , and fired again .\n",
           803,
           133
          ],
          [
           "just think about it - if only money can tell me anything , some magnificent , powerful , excellent , amazing man - worth $ 600 million is what i once thought . is he really the biggest , richest man in the world ?\n",
           804,
           154
          ],
          [
           "just think about it - go , go , go , \" . the hologram tells the dodger to leave his lab knowing that no dna testing has been performed on other teams . st . john throws his torch away angrily .\n",
           805,
           138
          ],
          [
           "` ` i ' m sorry . ' ` me , too , ' she said . ` his bold and desperate princedom and such , on the evening of the coronation . ' ` but you too ? ' he asked quietly .\n",
           806,
           126
          ],
          [
           "` ` i ' m not comfortable right now . ' ` what your friend is doing here ? ` ` just from the commotion . ` what just happened ? ` ` i think there might be some , around the out back .\n",
           807,
           133
          ],
          [
           "wild ululating howls of shifters rent the air . the young shifters that she knew were usually husband and family - as darius and ethan were . but there were ton scents in the air . it was almost like a festival .\n",
           809,
           140
          ],
          [
           "i know i shall never recall that a number of \" large farmers \" or \" small working men \" were drowned at sea so there were many to escape to america or seek refuge on that island with its small population and housing .\n",
           810,
           147
          ],
          [
           "i know i shall never be ready for what - - should it - - is not ready . ] : in his diary ( swami maharaj , published 1911 ) : the words and phrases of indians and the voices of africans .\n",
           811,
           139
          ],
          [
           "you broke the law ! we are not going to take you away . and i will not bring you here to chastise yourself as a martyr . god has made you a public hero ! \" \" it is not you !\n",
           812,
           123
          ],
          [
           "you broke the law ! release i - the rolling stones ' first album ( 1978 ) panic ! release ii - an eight album , two albums , and two singles ( 1985 ) chaz lasher - rhythm and electric bass .\n",
           813,
           140
          ],
          [
           "sam swiveled around on the copper tube and looked up into a long , narrow space within . it is a large void , from the cold air inside of space , and two - year - old children stomp here .\n",
           814,
           134
          ],
          [
           "sam swiveled around the family who had been standing quietly on the instep ( roof ) : tom , pete , frank , mrs ( mrs . lane ) , nickcolao , willie ( willie ) and frank .\n",
           815,
           128
          ],
          [
           "so well hang here all over the place listening to all that pop music , \" rock \" , and \" hot shot \" by artists like adoe , stephen stills - pretty much what la weekly dubbed bruce springsteen ' s band !\n",
           816,
           145
          ],
          [
           "so well hang here all the time now . i want nothing more than in search of valentino . yet behind him marty exclaims and knocks on the top of his red head . oh man , this is valentino !\n",
           817,
           129
          ],
          [
           "i searched for toby . he needed me . * * * chapter three - - - - chapter 17 day 31 that night , the rain and wind were getting louder for the impromptu midnight ride up uphill to the civic center .\n",
           818,
           139
          ],
          [
           "i searched for toby . after twenty minutes , dr . kohler was again in charge this time , having made some headway with his experiments to continue the same nuclear kind of revolution that had been going around toppling over .\n",
           819,
           157
          ],
          [
           "i do n ' t , manu , what am i ? \" manu : \" give me some more advice about my dreams . \" \" drawings on stone book ( ucla art institute ) philip bernard \" cap \" young ;\n",
           820,
           131
          ],
          [
           "i do n ' t nous , my dear ; on vous . \" \" ah , oh yes , who are the gauls ? \" asked richard . \" oh yes , we go with them all with theoden .\n",
           821,
           106
          ],
          [
           "` ` anyway , ' ` said the secretary of state , ` ' he holds slaves . a filthy knacker , all slaves , and two hundred seventeen , fifty seventeen , one hundred slaves , all those immediately bound to you .\n",
           822,
           136
          ],
          [
           "` ` anyway , ' i said and began . lemkin rose from his chair . ` well ... ' ` oh , come on , frank . you promised to tell me the evening board meeting is postponed until tomorrow again .\n",
           823,
           138
          ],
          [
           "oh , yes , certainly not a beer - refilling gag ... but it does look like a callipic . once again think - take - go from the drier vagina to the apex and heart of it .\n",
           824,
           125
          ],
          [
           "oh , yes , certainly ! a confused - looking group of urthmen of rank , including gelane , rushed toward us , though now that they were on their hasty way to us , they had no effect on us .\n",
           825,
           133
          ],
          [
           "it ' s never been more beautiful , but where is it ? chapter thirty - 6 the bridge collapses against a wall , the splintering wall falling over . i scream , my light going out , the pounding growing even louder .\n",
           826,
           150
          ],
          [
           "it ' s never been worse than this . there had been rioting - workmen , police , military - and the only witness to such violence was three african - chinese immigrants from new york . no , she thought sadly .\n",
           827,
           149
          ],
          [
           "agony flashed through me , and i remembered watching my pet dog and his mother throughout the day , the nights at the hospital when wails would wail and cry out with joy . months and years ' not enough of that .\n",
           828,
           144
          ],
          [
           "agony flashed through me , my stomach muscles trembling with each second that passed . we were so close , apart , in the extreme , again , as if it was worth it . we were closer than we could possibly ever be .\n",
           829,
           143
          ],
          [
           "just before seven on wednesday the opening voice came in on the phone , ma sal sal , ma sal , ma sal , ma sal , ma dolorosa ... thank you again for being good to me , call me later .\n",
           830,
           122
          ],
          [
           "just before seven on wednesday , the first day she begins her series , chloe ( claes ryan ) realizes she has missed her chance when jason ( joel conlan ) comes into her room asking for the help she needs .\n",
           831,
           143
          ],
          [
           "and he had to talk to an actor like richard burton , because they were talking about two films ( starring richard burton as himself in the muppets ) : ' 25 and ' 26 ( norman 1984 , p . 18 )\n",
           832,
           143
          ],
          [
           "and he had to talk first to everyone . first tac , then abby : dad and lee and iris and jasper to ivy , then the montgomerys : nina , then fern and hazel from friends , and eventually , strangers .\n",
           833,
           135
          ],
          [
           "the animals moved so quickly that they were sometimes invisible . and the visions came later , the reports of death . these eerie , supernatural images were dangerous to burnett , unlike the original wolf stories - of a woman riding a horse .\n",
           834,
           165
          ],
          [
           "the animals moved so quickly they looked almost exactly like santa claus . as jeff hugged mom , she flipped him off before running up and hugging him . \" oh jeff , he ' s cute , sure he ' s handsome though .\n",
           835,
           148
          ],
          [
           "broken glass was all over . his eyes had popped out . maya had already shown him just how to do this , but she had burned him in the blood . she was strong . only a human being could be so strong .\n",
           836,
           137
          ],
          [
           "broken glass was all over the avenue . she passed a discount store , took a small corner out . just enough room . would she manage to reach under her epipen and still avoid being kicked by a wise old dog ?\n",
           837,
           150
          ],
          [
           "i ' m interrupting . \" \" did you really mean , the dark magic failed ? \" he leaned forward . \" the dark magic can wait . \" yes , but now there was this ... strange sense of something very familiar .\n",
           838,
           141
          ],
          [
           "i ' m interrupting . people say dumplings in english , which jesse gives elijah , and the head two nodss . jesse stands , and elijah stands . head one nods . the soil feels soft and strong beneath my feet .\n",
           839,
           137
          ],
          [
           "she glared at me with a disgusted expression . \" fucking luke bennett . luke bennett . never anyone else . \" i still hated that name . not even luke courtney courtney , no luke bennett courtney courtney , no luke bennett courtney .\n",
           840,
           123
          ],
          [
           "she glared at me with a knee - deep snarl , though it was from shiro ' s coven , the one who claimed he was redea ' s newborn son . lilla and i looked . the valkyrie looked around .\n",
           841,
           130
          ],
          [
           "i ' d already taken that from birth , but that was not the end of it . arron and the rest of jackal ' s inner circle looked me in the eyes and my face , a symbol of human independence .\n",
           842,
           132
          ],
          [
           "i ' d already taken several pictures . several of those photos had several names and likenesses that detective de la pena and i hated . the list was also quite detailed , and it listed the massachusetts golf license and insurance policy .\n",
           843,
           156
          ],
          [
           "i think so . ' then atreus came back with the pack of discs . he had one with copper cutlery plates , one with a silver tray on a nearby table , and another with a tray of gold cutlery .\n",
           844,
           128
          ],
          [
           "i think so . ' and then the names , the first is the medical doctor , taro , and the second the sensei . the third is the commissioner . ' sy , what ' s over there ? hush ! '\n",
           845,
           120
          ],
          [
           "the brother frowned . he turned to david final y . \" david , if you lie to god tonight and tomorrow night , and me , you can call me a hippo . amaa , please , \" he said .\n",
           846,
           122
          ],
          [
           "the brother frowned . you will be , after a few months , dropped from the category . you enjoy direct contact and liaison with the ( - ) us central intelligence agency and us bureau of security investigation . \" hmmm .\n",
           847,
           156
          ],
          [
           "mother , you must come together , even though even then you will be brought together with the golden cord surrounding the tree . the golden cord wrapped around the tree is also a symbol of the golden spirit possessed by the old ghosts .\n",
           848,
           138
          ],
          [
           "mother , you must come over to my bedside . \" standing coolly on the staircase , maximilien briefly listened to amelia singing . during the chorus of the voices he felt a small thrill from just listening to them play .\n",
           849,
           149
          ],
          [
           "a lot of people . mostly in 2015 or 2016 . maybe he had friends or something , like if he comes back to school or back from old movies like that . hovering over two slices of pizza i could catch posers .\n",
           850,
           145
          ],
          [
           "a lot of people . no public houses , no shops , no miss creatures . \" octavian \" or \" the malignants \" or \" the thundercats \" - a title from a tv script , about dick tracy .\n",
           851,
           125
          ],
          [
           "she eyed me contemptuously . \" she was the one who paid for that slut to kill you . \" she laughed , and it reminded me of an old story , where girls get rejected by no one but their parents .\n",
           852,
           137
          ],
          [
           "she eyed me contemptuously ... and as well . her voice was gentle , nearly pleading . and when she started singing anyway , both of us curled up and just lay there , feeling this amazing whole situation act immeasurable .\n",
           853,
           153
          ],
          [
           "no reason in particular , for his scheme worked well when he hung out like a lone , independent spy set for the attack . he was tired of nagging arn around but was easy to beat him into a chokehold .\n",
           854,
           143
          ],
          [
           "no reason in particular , except for a man pretending to keep his mouth closed in an indecent pose , awaiting a reaction from either of them , and a very low , hissing noise . several heads passed along the hallway .\n",
           855,
           149
          ],
          [
           "she shook her head . \" we were very thorough . \" when he was finally satisfied , he was looking not at megan , but at another woman . he wanted to look at her from the last time they ' d spoken .\n",
           856,
           135
          ],
          [
           "she shook her head . again , the compassion struck her hard . there was absolutely nothing there , absolutely nothing present inside her . she was trapped in the trap of finlay , in her father ' s trap , and dying .\n",
           857,
           138
          ],
          [
           "if it has appendages , then if the only light goes on outside , we protect it . there must be no light here . we do what we must . ' turn away , ' he said to the two women .\n",
           858,
           124
          ],
          [
           "if it has appendicary , kral defends privacy , security , or anonymity . human rights lawyer and activist mayr michael thomas . \" social aspects of legal science \" ( pdf ) in human rights .\n",
           859,
           135
          ],
          [
           "immediately , he threw off to the first person that frau tannebosch desired to meet - \" stella hardcastle , right ? \" stella walsh was standing at the far end of the reception area , her expression apologetic .\n",
           860,
           146
          ],
          [
           "immediately , he threw off strings of frustration , that typical american way of prying himself away from romance , hoping to return to his hiding place at that specific time without making love or what was most likely a meal between them .\n",
           861,
           160
          ],
          [
           "never know when a drug lord puts it in prison anymore . that ' s gotta be it too . with a massive , cranked - up one punch on one punch racket kenzie slammed two other guys at the table .\n",
           862,
           135
          ],
          [
           "never know when a drug goes , or if a drug is on the loose . author shirube suzuki has been ' inspired ' by ' father to mother ' , particularly the concept of ' father to father to father ' .\n",
           863,
           130
          ],
          [
           "she says , her face tolerating his big fat one . there is simply no taller man in the world . mine has been changed from hot to ice cold , leaving only the rest of me in my dirty short skirt .\n",
           864,
           135
          ],
          [
           "she says , her face said : ' thank you for coming . ' the ebay department worked with stevie wonder to design a compact car for christina aguilera . the design department at mtv was developing a tan plush car .\n",
           865,
           147
          ],
          [
           "` ` says the woman . ' ` emails . she texts again . ' ' does rabbi rosenburg disrupt the entire jewish mental hospital system in the middle east by keeping the civilian doctors under surveillance ? ' what about the protocols ?\n",
           866,
           161
          ],
          [
           "` ` says the woman , ` it is certainly possible . ` ah , i will indeed . please click here december 19 . * * * kerrigans news , a semi - weekly about the morale of the napoleonic wars .\n",
           867,
           137
          ],
          [
           "he scowled at rhys . he kept to the road as fast as he could . this was not quite a place , really . even a small town surrounded them all , but the road signs became harder to distinguish from each other .\n",
           868,
           144
          ],
          [
           "he scowled at rhys . rhys was likely the youngest of the more domanious over - the - moon dragons like his mother had . they often ran into her , eating and talking , and most had already gone to bed .\n",
           869,
           138
          ],
          [
           "` ` it is , as usual , and here will be a miracle . ' ` but he is dead ! ' ` but what happened when you pronounced him dead ? ' ` i fell for this awful thing i never knew .\n",
           870,
           129
          ],
          [
           "` ` it is , vermin ! ' ` fuck off ! ` ` the whole ' please stay with my god ' [ ' holy grail ' ] get her out of there ! ' screamed tania . ` right !\n",
           871,
           119
          ],
          [
           "she wondered what he saw now , as if being himself , but she could not speak of it now , as she would have done right now if she had been so sure his feelings for her were overlong and sorrowful .\n",
           872,
           135
          ],
          [
           "she wondered what he saw , in the back of her head , and then he understood . but after several moments trying to cope with the sensations alone , he withdrew from her and then licked her shoulder , leaving a wet trail .\n",
           873,
           149
          ],
          [
           "` ` apparently , everything here at once goes against the beast . qoura inhabited all corners of the planet . ' there are no beasts in this dirty desert now , you fucking idiots . ` ' you said ... beasts ?\n",
           874,
           149
          ],
          [
           "` ` apparently , everything else is growing here and there - thick and thick , growing and thin as startlement . yes , that we are wispy beings of the sea , drifting away , waiting to determine fates .\n",
           875,
           136
          ],
          [
           "to me you must crawl shut her door now or you will hear many other women whispering and dazzling you with love . excerpt from e - mail . chapter 18 our guns and other weapons have given no exposure to our usual dangers .\n",
           876,
           155
          ],
          [
           "to me you must crawl to the bottom of it and out to the inside , and professor deutschneider will provide you with some detailed mementos and a bowl of starchin the size of a biscuit .\n",
           877,
           129
          ],
          [
           "francesca tosses a pair of thong panties to me , and i take them . \" here , here . you can lean forward and kiss my ass . i have to try now . \" she says as she reaches for them .\n",
           878,
           126
          ],
          [
           "francesca tosses a pair of faded binoculars . ( pause ) where are the pictures ? and , i found the body . ( who was that creature in the water ? ) i have already begun taking photos . and something interesting .\n",
           879,
           151
          ],
          [
           "she considered what he said , and wondered what he was talking about . he paused , sighing deeply . a lot of it was how he imagined growing up with lorelei connors , with the wonderful family he always lived with .\n",
           880,
           140
          ],
          [
           "she considered what he said about him keeping an eye on her in a regular part of his daily routines . it probably was possible that , two days ago , they were cleaning up together late and she certainly benefited from it too .\n",
           881,
           154
          ],
          [
           "` ` metaphorically speaking , sir . ' ` to louvain . ' ` and ? ' ` well , it suits you , president . otherwise you ' d ' ve made a dirty deal possible not so long ago .\n",
           882,
           129
          ],
          [
           "` ` metaphorically speaking . ' ] ` good , i am coming in here as soon as possible . ` in the new version of the original # 6 - ipw , it was expanded to # 9 - ipw .\n",
           883,
           129
          ],
          [
           "walking over to the bar behind them , i pause so i can stare at eden from over eden ' s shoulder . what is he doing , like a football player and uriah cerf or the guy at the beauty shop ?\n",
           884,
           137
          ],
          [
           "walking over to the bar he found her sitting on the vanity , like a woman , but she did have the telltale glows underneath . why was she so sexy ? are you gonna see where she ' s playing tonight ?\n",
           885,
           141
          ],
          [
           "how had it come to this startling conclusion ? some man with blood and guts . another old man . well , i got to guess him for you . plugging and paging . put away his wallets all the time .\n",
           886,
           136
          ],
          [
           "how had it come to this ? maybe he was just so damn confused . well , anyway . i decided i was fine with not telling him what he wanted . had to be better at it , and still no being normal .\n",
           887,
           135
          ],
          [
           "or in the next one , coming in to push them into a wall like small bags with gold onyx veins . \" thank you , \" renna said . when they all nodded , she silently prayed her plan would work .\n",
           888,
           137
          ],
          [
           "or in the next one or two years , when ellie was certain it was coming and coming and coming and coming from the city , moving through its own streets , its walled streets , the tenements , the whole city .\n",
           889,
           123
          ],
          [
           "but she did n ' ended up hitting the door again with a bang ! \" \" at a different time ? \" \" she ' s talking about an old one . \" \" mightn ' t , not won ' t .\n",
           890,
           118
          ],
          [
           "but she did n ' our pretty little girl kept goin ' with her . but we never got her back home , and she never saw us again . from there we took her down into east mercia to study the stones .\n",
           891,
           135
          ],
          [
           "` ` the low men \" , collection of \" manuscripts , essays and critiques \" ( beirut ) 1948 . ( beirut ) 1948 . ` ` national events in lebanon . ' in journal of the representative newspapers , ' vol .\n",
           892,
           144
          ],
          [
           "` ` the low men do not gamble , ' said another woman . ` the shallow waters are among the shallowest , and the average monthly rainfall is eight feet deep , almost twice the water - depth of the seabed .\n",
           893,
           137
          ],
          [
           "was holden a psychopath like this ? no . this had happened before - when her angel parents and cousins attacked aunt catarina , then her vampire friends killed aunt catarina , aunt berenice , and aunt rosalia .\n",
           894,
           141
          ],
          [
           "was holden a psychopath ? however , i did have to wonder why jared was so insistent about joining my dreams in an apparently sincere request for a ride on a bike filled with an ingrained disdain for what was supposedly new .\n",
           895,
           159
          ],
          [
           "the clerics are inventive due to a combat context and develop several skills . each class fight at a non - combat level and must each perform the same level of skill set , or duel , achieved by creating characters .\n",
           896,
           147
          ],
          [
           "the clerics are in the reformed order , which reserved for them places like the rue la fontaine , la fontaine belleuse , or the verite du nesle ( as la fontaine en laye always belonged to them ) .\n",
           897,
           129
          ],
          [
           "i ' m okay with it & hots 13 ( musicians : max martin , martin m . fishman ) . solo albums : john elam ( who sided with guy dalton ) ; the gathering bw - 0151 ;\n",
           898,
           130
          ],
          [
           "i ' m okay with that point . answer your own questions . \" \" alright . \" \" ok ? \" \" ok , i told you , i will get in my car and walk over , if i see you again .\n",
           899,
           121
          ],
          [
           "you are here because of a friend i thought i was . oops , i never knew you . but they are really friends , right ? has he taken a step back ? oh , how have i left him like that ?\n",
           900,
           132
          ],
          [
           "you are here because of your nice little father , as they say . \" he stopped and thought for a moment and then approached the table that they both clasped their hands for private . \" so he walked into the french quarter .\n",
           901,
           150
          ],
          [
           "i had explained to him over breakfast that very morning , that just now we were a really gay family type of guy - maybe eight or , incidentally , maybe twenty - feet away , as in the guy from told tale .\n",
           902,
           141
          ],
          [
           "i had explained to him that it was the right way back to camp , taking the escape route to larrimans town instead , but i pulled away in fear of being frightened and my cute little girl - girl grace .\n",
           903,
           140
          ],
          [
           "the headache i ' d managed to fight off earlier was being brought in , and i had gotten up and decided to go sitting down . normally , twice a week i would have a twenty - minute time off in the country .\n",
           904,
           146
          ],
          [
           "the headache i ' d had had blurred my vision before something horrific definitely washed over me . i offered a silent thank - you , hoping that his words would make me understand how i had endured such pain at becoming a child .\n",
           905,
           159
          ],
          [
           "` ` deliver the keys to god ! never injure a contraption ! it is forbidden ! ' ' your freedom lasts until i leave you ! ` if you end up in the blight of decay ... ` go aside !\n",
           906,
           131
          ],
          [
           "` ` deliver the keys ' in extra innings . other assistant coaches include former head coach jim lynch iii and steve williams of georgetown . assistant coaches include former head coach john brown , who won the gold medal after 1054 games ;\n",
           907,
           152
          ],
          [
           "my insides pinch when he screams , ' never save her in the name of love ! ' as if kieron were still bent on his small - to - medium sized issue . he continues as soon as the room quiets .\n",
           908,
           137
          ],
          [
           "my insides pinch when he just does it . how do we get this far ? i feel so out of control of the situation right now . i look among mia and abby for directions . the euthanasia catches my eye .\n",
           909,
           140
          ],
          [
           "i woke up dizzy . neither you , nor the child who had raised me from the blind , ever touched me . but you see , i fell off my rocker in the summer of 1994 and now it ' s all over .\n",
           910,
           136
          ],
          [
           "i woke up dizzy . what dizzy was was ganymede and the dust and the fire , the non - vaccine explosion and the slaughter of martian marines . people died . pat on the handlebars . i get better .\n",
           911,
           135
          ],
          [
           "they were comrades - in the middle of nowhere ! * * within five minutes , we found alex and james . james piloted three smaller lq - 1 hudson warhawks , thawk and was the first captain piloting them .\n",
           912,
           145
          ],
          [
           "they were comrades - in - law to her father in law since 1284 . the main patrician heir was prince william of karlnhausen . maria adelaide was born young , and seemed wayward of members of the court .\n",
           913,
           146
          ],
          [
           "once he ' d taken off , the welcome sign was jammed in its place , and he had to race back out the main entrance , to take in every available sexually - attractive face , and to know she really loved him .\n",
           914,
           143
          ],
          [
           "once he ' d taken her out to the golf course , they had to go into the city , and it had felt so strange to him - strange to be four hours away from home for family , even so long ago .\n",
           915,
           128
          ],
          [
           "wait . open . link block ( \" linked by parity \" ) ; let ( bridge ) ( for instance one link is limited to one of the link vectors , so to put one link in brackets ) ;\n",
           916,
           122
          ],
          [
           "wait . how do i set them up ? come on , set them up , boy , \" nita teased . \" come on , mr price , \" said professor sassoon . \" my sushi .\n",
           917,
           103
          ],
          [
           "ill even try to answer with no paper left on the ballots . winner : thorley bliss , jesse jackson , and of course obama ? , and richard brackett was the very first getaway to answer what was the answer ?\n",
           918,
           140
          ],
          [
           "ill even try to answer why . to someone who likes or loyally serves you , that would be a lie . face it , he can not have a bond with so many other creatures . he cannot share his with you .\n",
           919,
           133
          ],
          [
           "his tone was more than a hint of concern , but his expression held a smile . \" you really will , \" i finally agreed , feeling slightly relieved that this was an effort to put him on the bad side of it .\n",
           920,
           143
          ],
          [
           "his tone was more than a friendly one . as with their teams , the sams had just a primary mission : physical training and psychological training , three - week staff transition , and high - level basic cpa cpa .\n",
           921,
           145
          ],
          [
           "he stared at olaf and looked his way . the lugibrini looked at him and smiled for the first time at olaf . he grinned at olaf . chapter 1 the old man knew he and olaf were together somewhere else .\n",
           922,
           129
          ],
          [
           "he stared at olaf and looked at olaf - who made a stumbling grab at aria . aria turned away from olaf , not letting the thought rest at a time - the heat still did not get to his eyes - anyhow .\n",
           923,
           133
          ],
          [
           "` ` show me . ' ` until i find somebody . ' ` but that ' s the key i needed . ' graves smiled ruefully . ` maybe a little more . ' 48 the t - rex laughed unpleasantly .\n",
           924,
           127
          ],
          [
           "` ` show me . ' ` ` ` zebulon and saul stepped toward each other . on the far wall its door was merely a slab of wood , a large iron guard box lighting the opening with a small torch .\n",
           925,
           135
          ],
          [
           "i wink flirting with the big guy , who calls several times , at what we may call \" mascot ' s , \" an censored sound system for a major football game only for a fair number of people to hear .\n",
           926,
           138
          ],
          [
           "i wink flirting with the topic of him . it has been awhile since my friend asked me a question after being brought home to england by paul to maybe meet with him another time . boy , yes , yes , definitely yes .\n",
           927,
           148
          ],
          [
           "` ` dad and i ' re going twice as fast as my wife ' ` said the ex - marine darnell at regular intervals . ` ah , ' sighed the reporter . ` the question remains , will we be alright ?\n",
           928,
           136
          ],
          [
           "` ` dad and i are here , tin turtle . \" boy 412 felt shame for saying the name tin turtle . \" come with me . \" he looked back up into the black eye , but boy 412 cut it off .\n",
           929,
           125
          ],
          [
           "at once david dived in , noticing a faint blue light glowing on the other side of him , so he slowed down , straining to feel the coolness of his own breath . the creature was indeed moving , remarkably fast .\n",
           930,
           144
          ],
          [
           "at once david dived right in , repeating what mica had just said . several men and women followed him , along with conor and david . at length the boys finished their meal and fell in among their circle of friends .\n",
           931,
           148
          ],
          [
           "` ` duncan . ' ` \" ruth april mitchell \" . the lawrence chronicle . \" ruth april mitchell . harry gaskin mitchell \" . lawrencemedia . org ( newspaper ) . 2004 . \" mitchell . harry mitchell . \" .\n",
           932,
           120
          ],
          [
           "` ` duncan . ' ' [ indo . 1887 ] pp . 16 - 17 . - ( 1887 ) . ` duncan . ' ' it foregone time was done , to keep me from leaving the island ' .\n",
           933,
           114
          ],
          [
           "i knew this from the dream , since all he had ever done was plop down beside me , head resting on his bare back . not as bad - but certainly better if you like it and worse if you dislike it .\n",
           934,
           134
          ],
          [
           "i knew this from the most negative moments in my daily routine - sitting back to think about our current future - and i was about to drift from my own thoughts when i saw jax walking in earlier wearing a black leather jacket .\n",
           935,
           154
          ],
          [
           "mother is too well protected by mother nature ' s promise of a \" one and only daughter \" , and only by \" mother nature ' s \" scheme . sometimes an unwanted daughter is abandoned by mother nature for all her children ;\n",
           936,
           137
          ],
          [
           "mother is too well protected , especially for men . a judge named \" jenny \" . all right , hears the case . very different from most of the female judges . is all male . never married . never offers autographs .\n",
           937,
           145
          ],
          [
           "i ' ve had attacks . \" five ... six ... we stood there for a minute , our eyes burning as we saw the real fight . i knew it was real , when we saw the real fight beneath all the smoke !\n",
           938,
           125
          ],
          [
           "i ' ve had attacks once , and that came head - on again . chapter 31 : new orleans instead of running out of our medical supplies , we received the virus . the human was threatening to tear our two species apart .\n",
           939,
           151
          ],
          [
           "the characteristic human trait is mimicking other animals . an early ( and often captive ) red sea dragon tiger of heer soderberg , natal , was collected , as part of the worldwide protocol \" red sea tiger \" .\n",
           940,
           147
          ],
          [
           "the characteristic human trait is the creation of the \" little female beast \" and was derived from the first emulated video game man vs . beast : the legend of spider - man produced by director fernando dos santos ( 1985 ) .\n",
           941,
           161
          ],
          [
           "` ` hello , kaneshrayski . ` * * * in this new and exciting alien city , the giant tiny planets just broke out of the union of the oceans and became one independent city , separated from the continents .\n",
           942,
           139
          ],
          [
           "` ` hello , kane , ryan . ' ` if michael kane is actually standing just around the corner , this is an added danger . this mission will prove to be a disaster as the destruction of coalition forces dry the fires .\n",
           943,
           148
          ],
          [
           "the two brothers had always enjoyed working as a team when leto showed the warrior warriors what they could work on . they could have done much for their cause , having braulio and kerrick ' s death to deal with today .\n",
           944,
           148
          ],
          [
           "the two brothers had always had discretion and care with which they discharged all of the duties they were given , and varo , the little brother carl liked , would have no doubt been never so easily put into his own hands .\n",
           945,
           150
          ],
          [
           "but the instant her tongue touched his his gray - blue eyes turned lithe and green . seven feet tall ... [ s ] o . tom johnson was relettered from the devil who starred in the many blood stained lips .\n",
           946,
           142
          ],
          [
           "but the instant her tongue touched the crisp tip , i tasted blood and begged the gods . what had gotten me was that my captors embroiled me in their blood and had never gotten along with my lilithian friends .\n",
           947,
           141
          ],
          [
           "` ` next , ' said sing , ` is the return of the gods divided by the rainbow . ' ` what is that ? ' as if listening , sing said , ` what is that ? ' his smile was radiant .\n",
           948,
           117
          ],
          [
           "` ` next , ' gave the old man the trickle of blood that ran briefly first from his bleeding lower lip , down to the pit of his flat belly . ` and ' ' it worked . ] ` ( ? ) .\n",
           949,
           134
          ],
          [
           "i am to be a terrible reporter , right - the funeral - right now having just been spotted acting in a horror film . i am not being a terrible reporter this time . my story , i learn , is quite long .\n",
           950,
           132
          ],
          [
           "i am to be a real warrior , suspended suspended from the mighty throne of the gods . no true warrior . no real warrior like you . no other true warrior . only you can become a warrior like me or a warrior ;\n",
           951,
           120
          ],
          [
           "she screamed in agony as armed men slammed the rickety house with retorts < to kill > ( singular : retort : \" to kill \" ) > and \" to kill \" > - \" to kill ! \" .\n",
           952,
           114
          ],
          [
           "she screamed in agony as the maw opened , giving her wing a final shove , and within moments the half - lifeless body fell to the ground again and again and again , tortured by panicked words - orders - from her .\n",
           953,
           142
          ],
          [
           "they froze in their tracks and were chased by brad , but the girls survived the gun and were chased away by their former best friends ( including aaron ) and their new neighbors , brad , aaron , jacoby and niki .\n",
           954,
           141
          ],
          [
           "they froze in their tracks upon hearing the words \" as the church fathers say , ' oh granddad ' will earn your respect . the feeling will end up in the mud , especially from the right reverend e . mathews . \"\n",
           955,
           144
          ],
          [
           "` ` what ' s it to you ` ? - he hears muffled talk . his heart races . the room seemed quiet , as quiet as jones ' s . listen to the light . jansen and jones felt like parents .\n",
           956,
           130
          ],
          [
           "` ` what ' s in the lock box ? ' ` the entire second floor has at least four double doors , with generally three tiers of stairs connecting them . ' langdon saw that the smooth walls were rapidly becoming dark .\n",
           957,
           153
          ],
          [
           "she usually comes in the age of six . she always comments on the makings , the opposites . let the lot of graces catch on . click click * click * think of yourself , and learn . click click !\n",
           958,
           128
          ],
          [
           "she usually comes in the middle of customers . she does all the cooking . she makes her desserts and makes her toddlers . she is the lead vocalist of twin sister ( twins ( from colorado springs , colorado ) ) .\n",
           959,
           135
          ],
          [
           "i ran my finger around my baby bump and looked at the answering machine . there were all four receptionists . a half - hour later , meredith evans was home . meredith evans ! meredith evans ! meredith evans who is this ?\n",
           960,
           135
          ],
          [
           "i ran my finger around my clit , writing , biopyrologic ( e for atria ) . leader of a brand . his name , for a specially designed family of semiconductor devices , underlined by white letters .\n",
           961,
           141
          ],
          [
           "but what did it matter ? all marcus , and all marcus , all marcus , marcus , marcus , all marcus , and what had he done , marcus , marcus , marcus ... had he thrown marcus out of the equation entirely ?\n",
           962,
           105
          ],
          [
           "but what did it matter ? according to chloe , she was the only person left in the world besides mom ? maybe with chloe leaving , and dad finally catching up with the rest of the family , it turned out even better .\n",
           963,
           150
          ],
          [
           "i let my gaze roll south . not cortez , no doubt , but john doe . time to go away . time to die . then again ... he was the only guy who had the power to close my eyes .\n",
           964,
           122
          ],
          [
           "i let my gaze roll back to the park bench , where i was sitting , making up some interesting pieces that i could turn up to for tim . muerte ? it was the name caillo mammucti .\n",
           965,
           131
          ],
          [
           "` ` she ' s been contacted by a federal agent in seattle . ' ` a federal agent , mr . carter ? ' ` something like that , yes . ' ` you no longer live in seattle ? ' ` yes .\n",
           966,
           117
          ],
          [
           "` ` she ' s a more risking than this , ' he insisted . ` her life is at its own risk . ' ( 39 ) this time the image of the photographer was on the wall , and thomas again watched .\n",
           967,
           132
          ],
          [
           "almost too quiet . just two people sharing their stories of love - frank and i , and claude and marie desmarais . this is my home . frank and i came to spend our second anniversary on mount oceana .\n",
           968,
           137
          ],
          [
           "almost too quiet . requires each generation to drink new wine from previous years . it is usually considered a drinking drink for male and female . fish : young caribou or whitedet ( haddocks ) colour .\n",
           969,
           146
          ],
          [
           "kendra had not sensed him , but it had quickly become apparent to her that she could actually feel him . - what are you , you black dog ? - how do you turn a satyr bogatyr into wolf form ?\n",
           970,
           138
          ],
          [
           "kendra had not sensed him until she had detect him in driftwood and roughly shaped screes . part of the wreckage had been a dark - haired , half - naked and spiderlike carcass ( mostly bones ) .\n",
           971,
           140
          ],
          [
           "if anything , they appeared to omit dee ' s solace that there was no weakness for this girl , as did their words . then the door slammed shut , and the faces withdrew . it got quiet in the tunnel ;\n",
           972,
           142
          ],
          [
           "if anything , they appeared familiar enough , somehow , that only ( if anything ) focused on me . sometimes , because i was dead , they hid things away . and then , they created one entity again , a tiny entity .\n",
           973,
           138
          ],
          [
           "try to overthrow the peacekeepers by arresting the soldiers and hostile infantrymen . they defend against groggy visits by soldiers rising up . the secretary for peace gives them an explanation , and they care for him until his suicide .\n",
           974,
           157
          ],
          [
           "try to overthrow the peace of the men and women of the twin city . she closed her eyes , welcoming the harsh growl of her wolf . she needed to find something he could do without killing enemies like them . call them !\n",
           975,
           145
          ],
          [
           "his heart raced furiously as if for all his past battles it meant that it was being readied for battle . he was suddenly convinced norah had gone to france . he had no more hope of surviving than norah had .\n",
           976,
           138
          ],
          [
           "his heart raced furiously as the camera displayed a shell within a barrel , displaying the charge units in each . he studied the screen briefly , realizing that it showed a view of six charging units equipped with millions of different ion channels .\n",
           977,
           162
          ],
          [
           "i gasped , frantically tugging until i was free . at last the pink light was far brighter than anything i had seen and dropped farther into dead space . ripples that had worked in the water continued , but still nothing happened .\n",
           978,
           151
          ],
          [
           "i gasped , frantically tugging on my new boots . wrestling with them , stannis swiftly sat up with watching jaime lannister , like he was over jon ' s head : she ' s so fickle to wake up !\n",
           979,
           138
          ],
          [
           "do n ' t know ? \" \" do not know . the boy ' s a foolish fool . look ! \" - george walks into the house - - what i notice is what george discovers - - what he must see .\n",
           980,
           120
          ],
          [
           "do n ' t know enough , bob knew only to his left , void of cold sleet , a sea of darkness , but most of all he hear soft crickets and rhythmic purring and the wild birds far away .\n",
           981,
           133
          ],
          [
           "never did , my darling . after becoming either famous and wanted or potential in hollywood careers like marilyn monroe and james franco , murdered , tortured . tortured and eventually killed . was it more than an addiction love , dearest mary ?\n",
           982,
           166
          ],
          [
           "never did , my darling . ever . i and your mother died because of me . \" and after many , many , many endless moments , he said very earnestly : \" sometimes i wonder if you know me any better .\n",
           983,
           135
          ],
          [
           "but he did and i waited several seconds for the demon to go down before i fell on him , covering ivy and felix as i pushed trent up and down . and al went down , clutching his head up almost too tight .\n",
           984,
           139
          ],
          [
           "but he did and i was still sad for him . more than once i had felt hurt and scared , alone and lost . sometimes it got dirty looking at his red cheeks and crocheted hair as i squeezed his shoulder .\n",
           985,
           138
          ],
          [
           "daemon studied him for so much too long , saetan told himself . he knew some things about daemon . neither of them , even daemon , was the firm insistent on truth . but i am a \" baby boomer \" himself .\n",
           986,
           138
          ],
          [
           "daemon studied him for so long that he was always looking over , always looking out at the full width of the city , always looking about those towers , those white iron gates , those gates he and his brother always pass through .\n",
           987,
           138
          ],
          [
           "she entered a small , semi - finals ( the participation in the week 14 march 2006 ) on 17 december 2006 , cycle 10 number 23 new year ' s eve , skopje on 21 december 2006 , she entered a qualifying round .\n",
           988,
           143
          ],
          [
           "she entered a small , irregular walled area that was landscaped and populated mostly with young men who wore a modest dress , until her wandering eyes moved to a well - meaning , taller man , dressed in emerald green overalls .\n",
           989,
           150
          ],
          [
           "manny clapped his hand on the gun , letting the fight trade off until he hit the solid looking glass . hitting the solid sheet of glass with maximum force , he hit it twice more , but each time vau avoided it .\n",
           990,
           141
          ],
          [
           "manny clapped his hand on my back , and the finals in front of me was the frisked off image of a south end nightclub . my first thought was , were those two the right settlements for the serial killer killer ?\n",
           991,
           144
          ],
          [
           "when he sunk into his financial well - being , he began to retire with two sons and a daughter . ( who widowed 2001 ) , artist ( where he had grown up ) , writer , director , comedian , and producer .\n",
           992,
           144
          ],
          [
           "when he sunk into his seat , she looked up , saying something to the teachers . the children watched her very closely . watched her standing up . newt and trent and al and fritz , watching the road . watching the school .\n",
           993,
           142
          ],
          [
           "justice romano from the central league mentions caruso as a key character for \" the 11 july incident - what happened in soviet union when people turned their backs on what they were seeing on tv \" in the book avanti lives .\n",
           994,
           157
          ],
          [
           "justice romano from the central american zone . la comarca de el mundo ( spain ) justice was from the south american zone . the tournament was between countries from central america and south america . all three tournaments were held in salvador .\n",
           995,
           142
          ],
          [
           "` ` of course not ! this sentence is written in english . ( ... ) ` ` for anyone who writes among others [ as he often does on his own ] collaborates with his own writer , ` youjid ;\n",
           996,
           138
          ],
          [
           "` ` of course not ! ` ` is [ any ] medical evidence available ? no , no ! is that just , your friend , because of this great surgical technique on a plain , just on a plain , it is !\n",
           997,
           133
          ],
          [
           "he thudded onto the couch . \" keep goin ' out that door . \" when the whole crowd reached the door , i arched away from jason and shrieked . \" oh my god , jason ! \" i exclaimed , shocked .\n",
           998,
           131
          ],
          [
           "he thudded onto the stagelight ( which was no stage sweeper , just a fictional character from the strip line of american rock songs ) , moving in a graceful , fluid , and fluid ( like woody allen ) motion .\n",
           999,
           146
          ],
          [
           "the large flashlight , still in my hand , sat beside me , seated and suspended over my legs and arms , engaged in a simple - and - easy routine . my head spun as i told him about my house and surroundings .\n",
           1000,
           139
          ],
          [
           "the large flashlight , still operating in its original place ( with a new brass model ) , apparently kept the king and commissioner of police from sending a guard until january 1845 , a weeks after the guard was charged for attempted robbery .\n",
           1001,
           175
          ],
          [
           "out of her depth and of her most popular songs , she co - wrote , with jon voight , \" snake up the bridge \" which became gold peaking for vanilla ice , no one else , dj snake and jason lewis .\n",
           1002,
           138
          ],
          [
           "out of her depth and possessed by men , she is not imprisoned , nor killed by the angels , angels , or saints . the people pray to each other . the holy spirit says to her parents , that she is free .\n",
           1003,
           133
          ],
          [
           "when i completed the certificate i had many questions to ask , and not only did i ask beryl russell and margaret rennie of montreal , who were also former nurses and social worker . each was from the montreal women convent .\n",
           1004,
           154
          ],
          [
           "when i completed the certificate of independence i turned to uncle baskov for help , thanks to him . but i have been forgotten in history . he died in charge of the campaign , after the general election , where i participated .\n",
           1005,
           156
          ],
          [
           "as heather was melting down , he noticed there was black butterflies scattered around yet only blue in everything , a mixture of white and purple . he watched as they died . then the butterflies died and he knew what he was doing .\n",
           1006,
           151
          ],
          [
           "as heather was melting down - giving up the one thing that she wanted - jessie was sitting up in her bed , exhausted and filled with absolute misery . dear liar . if jessie sees the big picture jessie is a convincing liar .\n",
           1007,
           146
          ],
          [
           "* * * claire felt sick . how did anyone find a scrupulously loyal female mage who would have her hands and feet in a place for protection - especially someone with black fur , golden hair , and one hazel eye ?\n",
           1008,
           152
          ],
          [
           "* * * claire felt like starscream in bed , voicing orders not to groan or hum or sigh or cough , to sleep like that in bed , not to get up and see anything with claire in blue vision .\n",
           1009,
           127
          ],
          [
           "the question was directed at sarene , and she smiled , yielding to that assurance of having fulfilled a ' mission ' kaladin had just mentioned - of the unknown stars of stars , and none but the dark clouds of the sky .\n",
           1010,
           148
          ],
          [
           "the question was directed at juliet but obviously , not juliet . \" these are two - sheets which begin raving at any other man or woman who ' s in such a position . \" the brothers smiled and nodded encouragingly .\n",
           1011,
           148
          ],
          [
           "my exact words . saturday afternoon is another friday for the nevermores . i sit in the large , homey dining booth , sharing in a front seat and leaning against the wall . the stars stream through the windows .\n",
           1012,
           142
          ],
          [
           "my exact words . the rest of it took me anyway - but i was getting pulled anyway , into a room full of people - familiar sights still : half - open basketball courts , dead cars , a smoking bookcase .\n",
           1013,
           146
          ],
          [
           "i real y do n me . i wanna do the acoustic . ( \" you wanna do somethin ' super sexy , y ' know ? i invited you here . your bass guitar is right under my nose . \" ) yeah .\n",
           1014,
           129
          ],
          [
           "` ` besides that ? ' ` ah , sure , you ( seem ) smart after so many years in a private high school in shilin . ` ` i have been researching some interesting things ( perhaps even concepts ) recently .\n",
           1016,
           145
          ],
          [
           "` ` besides that ? ' painter seemed intrigued . ` he was just a good looking guy ... with too much nose . a hunk , granted , but something else about the guy ... he was a pretty cool coot .\n",
           1017,
           138
          ],
          [
           "` ` hardly that . ' the atmosphere changed to cigarette smoke and two or three young women talking to each other especially an elderly woman getting a brief interview with s - tel , a prominent u . s . public relations firm .\n",
           1018,
           160
          ],
          [
           "` ` hardly that . also , as naval officer to be the kentish foreman of the first marine aquaculture supply ship to anchor at the mouth of the second south brokewater canal connecting charlottesville and richmond to the hudson .\n",
           1019,
           157
          ],
          [
           "despite their dire situation , the police arrive and quickly attempt to rescue flossie , a police officer who is obviously more \" punctual \" than \" dumb . \" soon jim discovers he was raped ( by kevin ) .\n",
           1020,
           149
          ],
          [
           "despite their dire situation , carrasco wished that he and his wife could live in a large house , and to accommodate the painful complications in health , he chose la guiche , after the \" d . o . f . \"\n",
           1021,
           139
          ],
          [
           "no . 5 on his list ( since 2007 ) ; number 1 to ( 1st team ) field goal choice tonya , who blocked an early field goal while planning two field goals and a dead - end kicker ;\n",
           1022,
           130
          ],
          [
           "no . 4 on ' at all time ' . included in interviews with the author and david bonham in chapter , \" epic fantasy \" e - books ( 2010 ) . featured in \" the 50 greatest \" .\n",
           1023,
           133
          ],
          [
           "the place and time was coming up on three big lakes , the three bigs , as clay had shown about them on his twenty dollar - man list , races and races , and expositions of the quad cities back then ;\n",
           1024,
           138
          ],
          [
           "the place and time was clear . he was still confused , but there . blind to his own truth . the women and men of his farm excused themselves and began to go to the washing machine . the men kept coming again .\n",
           1025,
           139
          ],
          [
           "i do n ' t \" \" \" remember me \" \" have some fun \" \" to you \" \" without letting go \" in 1937 \" beginners ( reprise ) \" in 1938 \" my world is spinning \" why bother ?\n",
           1026,
           125
          ],
          [
           "i do n ' t keep my fingers pulling along those russet creases yet . look at it this way , i have to guide you here . \" \" oh my dear god ! \" the maggot cried .\n",
           1027,
           122
          ],
          [
           "i just got the very last line on all these records . if that is your way of delivering a good record on the live stage , tell me which one it is it is ! ! ! ! there it is ! ! !\n",
           1028,
           119
          ],
          [
           "i just got the very idea i wanted to come up - - but never to have my own kind of life , with my own online reading group , a family library for adopters , where i could sit around and read .\n",
           1029,
           138
          ],
          [
           "but - - why him , larry knew completely - - larry had concluded his plan in a single heartbeat , wondered who or what they had seen . if this was anything unusual in the situation , then , who could it be ?\n",
           1030,
           144
          ],
          [
           "but - - why him ? - - - tell me what about him . his eyes . oh yes , and that big smile . - - oh , thank you . not far away like the first time i have seen him ;\n",
           1031,
           121
          ],
          [
           "yes , i know how you fitted my infrared goggles to yours . we recognize each other . everything on our vessels seem more blue than a sealwitch could have any day . all we see are the black contact lenses .\n",
           1032,
           147
          ],
          [
           "yes , i know how sexy his name is . the girl in the photograph booms , \" mary poppins ... princess ... princess ... answer a schoolmaster question ! \" yah ! mr . parker ... yah ! \"\n",
           1033,
           125
          ],
          [
           "he would n ' t go after kouwe or the todos . \" elshan groaned , returning dr . schneider ' s attention to the secret black box , the few remaining bags of blood . he shook his head .\n",
           1034,
           132
          ],
          [
           "he would n ' t ... but ten minutes later sewell was in washington d . c . , running a special - ops program . he kept a watch in his office window , keeping a watch out for each successful operation .\n",
           1035,
           143
          ],
          [
           "he was middle - aged , but was wealthy since he visited her frequently when living at engens farm . they had sons , charles and peter , and a daughter , minna , which he inherited at eidsivating castle .\n",
           1036,
           143
          ],
          [
           "he was middle - aged childless , and with his sons thomas henry and anna maria took most of dominica into the custody of a second surviving son , gabriel cuevas de la barra , who later became a prominent lawyer .\n",
           1037,
           148
          ],
          [
           "she asked as they sat together saddled on their own horses . when max jumped up and down , obviously grown up , they continued toward the parking lot . she nodded and walked to the horse and pony barn in the corner .\n",
           1038,
           147
          ],
          [
           "she asked as they sat down in a high - backed chair . \" andrew is his friend tympanum sanitarium . where is marybeth ? of course she - \" now hallie wished she could say more .\n",
           1039,
           132
          ],
          [
           "and his voice is the sound of peace . the other part of me tells me what the handlers thought . what they said about having killed my parents . that they do not want me to be executed by my own father .\n",
           1040,
           133
          ],
          [
           "and his voice is the same voice , but not the one i saw that night . the haunting of a song without strings withering away year after year . a soul saying goodbye . the arms were too strong for my memories .\n",
           1041,
           135
          ],
          [
           "somehow , she ' d never felt like that . why not just ignore him , maybe fill the void , and let him lay her to rest ? she had to give both of them an opening . give herself the perfect opportunity .\n",
           1042,
           142
          ],
          [
           "somehow , she ' d even drawn a picture - - not necessarily of heather - - of amy or grant - - not even of carol , but it was only the occasional shallow breath she took , even though she was alone .\n",
           1043,
           137
          ],
          [
           "` ` i can vouch that , my dear , by keeping you active during lectures , ' valeria said , ` i know exactly how to keep an old lunatic from committing an offense . ` ` not old lunatics .\n",
           1044,
           134
          ],
          [
           "` ` i can vocede that it is simply an ingrained passion , he has said . not overwhelming that he recognizes it . but he constantly insists on not sharing it . ` ` i have been looking into his eyes .\n",
           1045,
           139
          ],
          [
           "kelsier tossed the contents of his cup . \" very dagonian , but ... \" \" my lady ... \" he had once placed all that wine into her hands - such a woman had given this to a monster .\n",
           1046,
           131
          ],
          [
           "kelsier tossed the pen out the window later , and now we can see what kelsier wrote : ( , , then the ' s ? , ( ) , + + ( in such manner as ) ) ) .\n",
           1047,
           114
          ],
          [
           "she looks up but at least not because that was less unexpected than it sounds . i seriously considered making another king , another king dead ... another king dead , and the old halls of another king dead ... another king dead here .\n",
           1048,
           129
          ],
          [
           "she looks up but at the same time , she is surprised she is in good spirits . she believes that the whole time ... this is her father and has just put down his coffee before driving town day after day : away .\n",
           1049,
           142
          ],
          [
           "was this the grief she had felt everywhere , clinging to his arms as she was home , shopping , watching the tv , in his bed ? no . it was nothing . . . she sat there stunned , horrified , devastated .\n",
           1050,
           134
          ],
          [
           "was this the grief she felt toward jenny and dougal ? but it really was a connection between their love and affection for mother and daughter , both that jenny left behind her . this connection could reach anywhere from tragedy to death .\n",
           1051,
           159
          ],
          [
           "what had i done now ? rid myself of my two best friends - - including seth brady and laurelyn bextor - - and once again ... my head tumbled with the realization - - that a horrible thing had happened .\n",
           1052,
           146
          ],
          [
           "what had i done now , expressionlessly contemplating what peter might do ? peter and peter , and peter , and now peter . and then peter , peter , peter , and now peter ! and now you , and now me .\n",
           1053,
           108
          ],
          [
           "she did n ' t a mess with that word , and got a first - hand look at what few free shots of beer he used . \" i really love you , ian . \" oh , i really do love you .\n",
           1054,
           116
          ],
          [
           "she did n ' t , just kept runnin ' to him mam , wantin ' and needin ' money . she never came home \" . the urn was only one day removed from being listed for removal .\n",
           1055,
           122
          ],
          [
           "i was too deep in my own thoughts . he strode down the steps , stopping midway . \" you would believe that i saw you in the dining room last night , ms . lucus . \" not that i believed him .\n",
           1056,
           129
          ],
          [
           "i was too deep in my guilt about a man under the influence of nacho , guilt for thinking about drugs , girls , and non - existent relationships . was my relationship with the bartender breakable , or just the opposite ?\n",
           1057,
           150
          ],
          [
           "` ` joe , ' she says again . ' ' ` ' ' ' ? ' ' ' ' ' ' . ' ' orulla . she asks me , and her upper lip is shaking . go , go , go .\n",
           1058,
           98
          ],
          [
           "` ` joe , ' ' david taylor , chief spokesman for the european defense organization ; counsellors for kirilov report prepared by the ' eu operational combat capabilities ' working group , and published by goethe university , frankfurt .\n",
           1059,
           168
          ],
          [
           "` ` i never received another blunder . ' ` i hoped there was ( more information ) . ' the invitation was hand -written , the address : 0702 & 114 new amsterdam avenue , fifth avenue , manhattan .\n",
           1061,
           144
          ],
          [
           "i have received word from general allenby , then sailing to cruise west , to proclaim lieutenant general murray and promised safe passage . lieutenant general murray has been arrested on the morning of 30 september and accused of organising a rebellion .\n",
           1062,
           162
          ],
          [
           "i have received word from the press that someone has called a meeting between my most close friend , bishop grant , and governor swenson . the governor is singing christmas carols across the local counties - ahead of even most .\n",
           1063,
           154
          ],
          [
           "but the man screams that he will not go and his wife will not put a suit on , not unless in an opera - ballet scene . the rustlers are picky , fulsome and maimed like hares ;\n",
           1064,
           126
          ],
          [
           "but the man screams that something terrible was coming down on him ( awfulness of course ) and he is horribly twisted and screamed , his body flayed open that day apart after just about nothing in the world but that !\n",
           1065,
           148
          ],
          [
           "the night was quiet , with a layer of mist , the town was still without any streetlights , and no streetlamps , no military patrolman . the gorg were just a pile of bodies about twenty meters away .\n",
           1066,
           136
          ],
          [
           "the night was quiet , but a relatively peaceful one . they had set it up to go a long ways and date each other , get off to college , or get married , or even brush their teeth and grow a family .\n",
           1067,
           139
          ],
          [
           "when i came out , said nothing . suddenly the crackling noise was deafening . i was a mess and had to stand up straight , worrying about what came out . i lay in bed , everything spinning rapidly in my head .\n",
           1068,
           141
          ],
          [
           "when i came out , my clothes had been washed out and laid out on the cold floor - i was just standing there , staring at the strange sight , talking over some raw eggs , leaning against our pre - dinner table .\n",
           1069,
           144
          ],
          [
           "jonas and kincaid fought with him . jonas went over and looked at the terrible face - wretched arms and legs . once it had been cleansed and almost completely removed , he stopped moving and collapsed into the sofa once again .\n",
           1070,
           154
          ],
          [
           "jonas and kincaid fought with kincaid , jonas and karla . kincaid and his dark - hunters , primarily from magic rock , colorado , would come after anything that took off , lay find it out , and then find another sister .\n",
           1071,
           144
          ],
          [
           "the longer he held out the cookie box , she began looking around . isaac , since he could barely see , brought back two cookie boxes that had cookie box combos : strawberry - flavored , nice , good , perfect .\n",
           1072,
           142
          ],
          [
           "the longer he held out , pausing for a long time , whispering into her ear , giving her specific instructions , and moving closer still to her , she stayed silent and moved over and undress jeanne - paul with greater stealth .\n",
           1073,
           149
          ],
          [
           "anna , like old times 2 \" on \" telling you not only everything with my thumb and forefinger , but all the secrets \" and \" turn the page ( two step ep ) like old times ( ep ) 1 \" ;\n",
           1074,
           131
          ],
          [
           "anna , like old times , she would come out of it . i used the bathroom then handed it out to nurse laura taylor , who took the same position on the bed , studying my face : no , a swipe .\n",
           1075,
           135
          ],
          [
           "his mother was a naga called kalinga . because of their tribal boundaries the ratna - nagas often engaged with ritualized tribal marriages performed by the most common local deity ( wherein they married both a female and male ) .\n",
           1076,
           156
          ],
          [
           "his mother was a nagano prefecture native who studied music . aravaner is a musician ( singing as a guest conductor in a popular tv show ) . lilo is his first gamemate at a 2012 lilo competition .\n",
           1077,
           141
          ],
          [
           "` ` ok , dude , you sound like a caged elephant . ' ` chapter 33 : fourth dimension this was \" my third trip . \" actually , the second trip to the fourth dimension was in the hands of michael .\n",
           1078,
           138
          ],
          [
           "` ` ok , dude , day , brightening , march 30th [ year 1260 ] . ` ' with open skies , qqqqqq , like birds , ` [ ] said evan after a few seconds .\n",
           1079,
           122
          ],
          [
           "` ` no more driving and racing . all diseased . go on . levine had readed kowalski ' s article \" five little girls asleep in their beds , \" and could picture just how much scrutiny the women cast inside .\n",
           1080,
           149
          ],
          [
           "you both know full well as friends before sarah ... ' he paused , ' ... and as herself . ' ' i should not believe your lies , but ... ' ' as a child is a child , do you understand me ?\n",
           1082,
           132
          ],
          [
           "you both know full well that she could play a game of numbers , doubling the length of the front door to keep him about to do casual sex there . ' ' what ? ' ' find those stupid bastards , kill them .\n",
           1083,
           145
          ],
          [
           "` ` where are you | the washington post ' . washington post . 2004 ( page = int ) . november 17 , 2000 - ron smith leads a group of aids victims . 2001 - derek fisher and jeff jeffreys .\n",
           1084,
           142
          ],
          [
           "` ` where are you going anyway ? ' ` back home it better you guys won ' t come without me . ' sure , the police force did not question these men , but there were plenty of vigilantes around .\n",
           1085,
           142
          ],
          [
           "your trials are making you ill , my beloved robo . your destiny belongs to you . to each and every god - king ! \" he glares at me . juni must wipe away her tears , must wipe hers .\n",
           1086,
           130
          ],
          [
           "your trials are making you do one thing or another . do it a whole other way , visit your parents , and talk to some of the indie rock fans , who are all looking through the television like a typical teen girl .\n",
           1087,
           143
          ],
          [
           "liz ' s stomach knotted as he edged closer . brian : um ... this feels ... um ... um ... um ... not good ... sam : ... um ... brian : ... sam : uh ... sam ( looking down ) whoa .\n",
           1088,
           115
          ],
          [
           "liz ' s stomach knotted with glimpses of sarah ' s later life : the pictures , the john f . kennedy - kirk douglas show , yes , yes , yes ! ( the beautiful hotel inocente # 3 ) !\n",
           1089,
           137
          ],
          [
           "a new beginning , that of establishing a guinean state , through a colony of guinea as a west african country , \" governed by one kind of religion \" , offered the possibility of forming a second politically dependent west african state .\n",
           1090,
           154
          ],
          [
           "a new beginning , that glowing golden glow , that bloody white , bony hand ... and then it took hold and formed and formed , further back . joe and joe were expanding over what really had happened to the pointed kaput .\n",
           1091,
           144
          ],
          [
           "it took her a moment to completely cut me off when the two pouches are stuck together , so she asks carefully , \" how have you heard about this creature ? \" stunned , i exhale as i ask this question .\n",
           1092,
           144
          ],
          [
           "it took her a moment to see a young couple and an assortment of flowers vegetating beyond the bed . ping ping ping ! she watched as they were crushed up into crazy things and trunks and a baby ! ! ! !\n",
           1093,
           136
          ],
          [
           "that ' s the problem , while men are dealing with something that is space - to - time - space they call space so they are ' from - space - to - time dimension ' . the distance between space and time .\n",
           1094,
           129
          ],
          [
           "that ' s the problem . go toward the airport alone , then come back , have a beer , find the grabber and go off the road . the girl was dressed in a scalawag costume . it was frightening .\n",
           1095,
           132
          ],
          [
           "anger radiated out of him , not so much as insult at my return , burrowing inside some empty position , in some cave of truth , and acting like i was at the only school that had a whole bunch of teachers .\n",
           1096,
           143
          ],
          [
           "anger radiated out of him as he clenched his teeth . his skin was about to flame but her lips remained a little too pouty . no more flirting , no more playing with her panties , or whatever she currently possessed .\n",
           1097,
           148
          ],
          [
           "` ` actually , dad and dad are motels owners , including my wife amy , ' timothy replies and opens the cellar door , completing the gesture . ` ` ` ahem , timothy , please let this get over with .\n",
           1098,
           140
          ],
          [
           "` ` actually , dad mentioned it , and that is my title ? ' ` a title [ ... ] that you don ' t know about . ` ' ` ( ... ) well , i do know what i like best .\n",
           1099,
           118
          ],
          [
           "her hand swung out , and she stepped back . there were two people near her , too , in their dark shades . one is black , the other not . ' and the people who know her secret ? ' i asked .\n",
           1100,
           131
          ],
          [
           "her hand swung out , and there she was finishing her work , writing furiously . the man - very old , almost like an emperor - put a hand on her shoulder . he smiled at her as she walked down the aisle .\n",
           1101,
           138
          ],
          [
           "when lina reached the door the dancing vacancies and the laughter and laughter of children surrounded a very beautiful , young woman in a flowered dress . lina sold her fruitbeds at once but she gave up right away .\n",
           1102,
           147
          ],
          [
           "when lina reached the door of the chamber , there were islay giants in the cavern . the cave of the lostosaur is a very secret place where the collix dragons and monsters ( islay ) are located .\n",
           1103,
           132
          ],
          [
           "` ` your alphas the best , ' she continued . ` ` the alphas are ( ) my best . and by ( each of ) each having his own and his best . they judge him , he choses .\n",
           1104,
           117
          ],
          [
           "` ` your alphas have no personal influence . ` ` ` on monday , we were to have an important meeting . it is the john henry beneszuk building , west of the courthouse and is a beautiful place .\n",
           1105,
           137
          ],
          [
           "i push the button to get dressed to protect myself from throwing up , and then lead the way to the stairwell , only melody following me , hearing her holler out an invitation to an impromptu picnic with her younger brother logan .\n",
           1106,
           153
          ],
          [
           "i push the button to enter the kitchen . voila walks to the stove . i continue to stir and still hear only a \" yes \" . my day is on . * * * i was in a horrible place today .\n",
           1107,
           125
          ],
          [
           "five and a quarter . well , my theory says , a - a - a ... but there is no genetic evidence ... no ¨c * * * not n - lo ... look how the hippies might have taken it .\n",
           1108,
           127
          ],
          [
           "five and a quarter . these scenes are used as dialogue in an intro to the original 1967 scrubs , a twilight zone exit sequence and a fox conan adaptation ( where he is also a fan . ) narrated by alec baldwin .\n",
           1109,
           155
          ],
          [
           "he was scarcely aware of the murder of his fiancee . the popular arthur conan doyle story is the atomic clock . several incidents occur throughout the book involving up - and - up between sherlock holmes and ( supposedly ) the jolly roger .\n",
           1110,
           168
          ],
          [
           "he was scarcely aware of her movement , faraway from her father , who was waking the very same way her mother had , but then he saw her eyes open with deep comfort and understanding and then they misted and disappeared .\n",
           1111,
           147
          ],
          [
           "the world disappeared when he turned over , and there were so many little old people looking at him now , but he only looked around and stood and saw that span , the massive span that had split him five thousand years ago .\n",
           1112,
           149
          ],
          [
           "the world disappeared when he thought on it . there were cackles of laughter and discarded fruits on his lands , but the words he carried said they would , and he knew that they always would . he could not wait .\n",
           1113,
           140
          ],
          [
           "` ` it was their first attack . he broke into a cave mouth and got in there and destroyed us all . then he plundered our entire crew with swords . ` ` ` ` ` so how do we move !\n",
           1114,
           127
          ],
          [
           "` ` it was their last communication , it ' s not the same here . ' giuliana checked his messages , getting past the other messages one after another , asking at last , ` i may have their contact information .\n",
           1115,
           140
          ],
          [
           "` ` i do n - n ' r ' n ' all of florida . 1894 . ` lehigh county , pennsylvania . \" billy \" in flint , michigan . 1896 . ` ` go away and take the mountains with you .\n",
           1116,
           130
          ],
          [
           "` ` i do n these cities and towns and tell these union bodies to tell me what to do and what i want to do . \" mining and wages and labor and wages in cities and towns , mr . was saying .\n",
           1117,
           115
          ],
          [
           "luke had finally gotten his clothes - back in place - and simon . he was still a werewolf . she was crying again . simon had always looked better about a woman , or about a child . he had shaggy brown hair .\n",
           1118,
           140
          ],
          [
           "luke had finally gotten his wish . missing the holidays with his mom and dad , working at a multimillion - dollar bank , and living in town , he was having real problems . drinking , and living different lifestyles .\n",
           1119,
           145
          ],
          [
           "` ` yeah . where ? ` ` ` right at the end of our lives on this tv . \" there are cameras on the west side , \" riley said , trying to break all of the emotion away from her .\n",
           1120,
           129
          ],
          [
           "` ` yeah . besides , he ' s got an arm loan from the bank . i ' ve also here to try phones . ' ` the arm loan was about due to a reported windback in his time out .\n",
           1121,
           122
          ],
          [
           "` ` that ' s not the star uncollected . ` ` well you play poker . ' she was emptying her glass , when a large bald man stepped out wearing a black suit , and a white shirt .\n",
           1122,
           130
          ],
          [
           "` ` that ' s where you live ? ' ` ` yes exactly . * ` they go or go into the city . our next stop is in the town , not here . ' * he was shot by zorro .\n",
           1123,
           118
          ],
          [
           "` ` maybe at this late she and i both can come on home for dinner , \" tyler chaperoned . * * * tyler swallowed his eggs as he heard the ' thanks again ' voice , closing in on him .\n",
           1124,
           133
          ],
          [
           "` ` maybe at this time . ' \" many places in europe , ( especially chicago ) * the ucb , bfo , ovch and hth , all bargained for me and for me on sick leave .\n",
           1125,
           124
          ],
          [
           "she had n ' t forgotten to explain herself . she had said so many things , and there was no point in taking their horses home , but it was also the reason she couldn ' t make it all the way back .\n",
           1126,
           137
          ],
          [
           "she had n ' t been teased , even by riley , and i hated that she hurt . that he somehow expected more of her . just as kimber entered the room , my eyes finally knew the twins were in there .\n",
           1127,
           134
          ],
          [
           "i had promised not to leave my soul behind without it finding me . i had really promised . the current hellhole of my past had been turned into a sanctuary for my new needs , but this soul was right behind me .\n",
           1128,
           144
          ],
          [
           "i had promised not to tell the neighbors until after the funeral . shortly after the funeral , i went to visit my friend mia . unfortunately , she was reluctant to give me a hug or anything . it all seemed better now .\n",
           1129,
           144
          ],
          [
           "it was real y warming . \" ouch ! ugh ! stop it ! \" un , estum ... \" yeah , i do . \" \" i need a moment . \" un , estum ... oh ... oh .\n",
           1130,
           95
          ],
          [
           "it was real y warming them both . his gentle tone - of - voice had reminded her that because her unsung great - son , douglas , was here in england , his grief was discreditable to her .\n",
           1131,
           130
          ],
          [
           "i fill the bathtubs with water , just like i did yesterday ! ! ! ! ( a biography of charles villiers stanford ) ! ( an essay ) ! ! glyphs to anyone filled with water ! ! ! !\n",
           1132,
           123
          ],
          [
           "i fill the bathtub is his most popular poetry work . may go his own way , writing the novels catcher in the rye and another wind is the twister are the poet ' s strongest examples of the hellmann project .\n",
           1133,
           143
          ],
          [
           "on a second post - statement , staff sends back information such as good reviews and reviews of upcoming products . this allows them to \" put \" additional names into an active email address . see . com web - based newsletters .\n",
           1134,
           155
          ],
          [
           "on a second post - reconstruction , the chamber was reconstructed from the three dancing stones of december , and was seen as a play on sunday ' s stones re - formed in southampton square , showing off more elaborate battening .\n",
           1135,
           152
          ],
          [
           "` ` i ' d forgotten exactly what your old tutor told me - until our old teacher , sophronia lorna , came along , we found our lives accommodations , anyway , until the new headmistress came along .\n",
           1136,
           135
          ],
          [
           "` ` i ' d never thought to endanger her any more . ` in america tears were always tedious , yet jennifer needed these , even to cry in a hospital bed where she had the nerve to pull it off .\n",
           1137,
           137
          ],
          [
           "oh , how i wished i had nat home with me . i was thinking , \" your future , \" but where were nathan , nathan and i ? they had things to do , as well . and i felt alone too .\n",
           1138,
           123
          ],
          [
           "oh , how i wished that . the sun had set . last week , after so many years , i had passed through a forest that was in ruins , and then i gave her the only morsel that she could eat .\n",
           1139,
           128
          ],
          [
           "his thumb and forefinger gripped the knife . ' and - mcallister ( of all people , ... ) should settle in . alan smith . ' 21 chapter six was , almost , a slew of lecture on death .\n",
           1140,
           135
          ],
          [
           "his thumb and forefinger glowed with the raw power of magic , so not a few are shaped into giant , fat fists . harry houdini was harry london lived for nine years with a takedown of his rival identities .\n",
           1141,
           143
          ],
          [
           "if we disagree about how war functions , and one might question any idea , on most historically important levels , of what god is looking for , we might just ask , because then we will certainly get me nowhere , never life .\n",
           1142,
           156
          ],
          [
           "if we disagree about how best to couple up our dots on the maps , at any point of year , we may not be sleeping tomorrow . you make such a monster out of , i gotta say , geo - geist .\n",
           1143,
           134
          ],
          [
           "you do n ' t have to be a tut - tut - tukig either , but a tet - k of a kind usually looks a little worn on you , doesn ' t it , ridmark ?\n",
           1144,
           109
          ],
          [
           "you do n ' t approve of me or my sleeping son . ' no one ' s here . the only illness he had resolved was a fever . ( he should have a fever , no ) but he would be back .\n",
           1145,
           126
          ],
          [
           "` ` but you told me someone was at the pipe - tester several days in the fall , looking for lost pipe spinneys , but there is a fire here and the pipemakers on our side of the street .\n",
           1146,
           128
          ],
          [
           "` ` but you told someone what i was doing . ' ` ( i mean \" operation silence \" ' ) reported ` nyambe joined the communist party of zambia and now works with the liberal democratic [ himala ] .\n",
           1147,
           146
          ],
          [
           "` ` weevils , eggs , small insects , spiders , and sandworms . ` ` igor only wore his muslin - knit beads , as did not the glass beads , but simple pairs of brooches .\n",
           1148,
           122
          ],
          [
           "` ` weevils had in mind that one is best suited to adopt a baby - a young , carefree , and fully intelligent baby with five to eleven minutes who , when one speaks , places her life in danger .\n",
           1149,
           140
          ],
          [
           "she explored him , smelled him , but alone her child was a little scared , that her father would die because she and kelsier both had predicted that her father had died and that velius would be protecting her now .\n",
           1151,
           138
          ],
          [
           "the bony side of his wife ' s children is aimed for them . michael fricke , aged 12 - 16 , entered service at the marion correctional unit and currently holds strict sharia courts at the medford correctional facility .\n",
           1152,
           151
          ],
          [
           "the bony side of his mind , still not quite convinced they were true , knew the stories that , not as ' real ' as it was possible , he spent those nights , hunting in the forests , chasing the puppies .\n",
           1153,
           139
          ],
          [
           "so thats why michelle kept saying ! ! ! ! ! ... what time is it ! ! ? ! ! i watched the video wondering what i could look by listening to what jared was saying and what reason was in it .\n",
           1154,
           128
          ],
          [
           "so thats why michelle never forced her body to act for that short time . but back then , in that little moment , she was a very pretty girl , and by the way , she would never have been confused again .\n",
           1155,
           141
          ],
          [
           "` ` how did it get there ? ' ` it ' s almost there . i told you when to chance it . ` i was able to slip away several times . at another time i might even have lost my mind .\n",
           1156,
           127
          ],
          [
           "` ` how did it happen to all this ? there is no way to counter everything except decryption and ( when ) , crucially , police breaches , particularly of individuals or groups whose laws have ( broken ) .\n",
           1157,
           151
          ],
          [
           "the ultimate fulfillment if you even look my name on the door - - - ( oh oh oh my wonderful child ) and everything will be just fine . all these days have given me my worst feeling - - are you alright ?\n",
           1158,
           144
          ],
          [
           "the ultimate fulfillment if you seek salvation . all , strong and weak alike , are the highest of possibilities , the ultimate selves that all gods keep hidden , hidden from that which may arise in both yourselves and the holy spirit .\n",
           1159,
           155
          ],
          [
           "after taking the medicine , he awoke to the vision of many of the medical \" average \" folks standing there , their hands drawn around a huge fire lantern glowing with golden light . and he knew it was really , really heaven .\n",
           1160,
           149
          ],
          [
           "after taking the medicine , she rescued her husband from the storm load . she tried and failed ( and never succeeded in succeeding her deceased husband ) to join her three children tom , john , and richard at carlin national cemetery .\n",
           1161,
           154
          ],
          [
           "it was high of sternness , but it was somehow better than what he told us when his father said ' your father might have known ' . zach apparently had never imagined that zach would ever ask for us to live together .\n",
           1162,
           147
          ],
          [
           "it was high of sternpoint but upside down , with a big red circle printed on it , reminding her of a clock , the one she always dreamed of , these knotty lines falling out of a half - dead sky .\n",
           1163,
           140
          ],
          [
           "` ` i need to put my shoes on ... ' ` if the roof comes down ... ' ` ... in fact , they were the ones with the men ... ' ` good , we owe you our thanks and condolence .\n",
           1164,
           118
          ],
          [
           "` ` i need to hear mozart ' s requiem \" . volume 22 : to giuseppe sanguinetti \" . ` take me over in patristic music \" . \" volume 23 : to jean baptiste dupuis \" .\n",
           1165,
           122
          ],
          [
           "` ` it ' s not a life in art , but a life with its delights , wrestling , sparring , and the gourmet filthiest lemons , ' he said , stopping just short of them .\n",
           1166,
           118
          ],
          [
           "` ` it ' s a copper mining ( sic ) mine and we plan on raking the fuel stores beneath our cargo holds in order to scrape out something . they ' ve got enough of it to melt us completely apart .\n",
           1167,
           140
          ],
          [
           "grewe specified the second [ morning train ] [ ahead of schedule ] as a result of the closure of the loop line , warning drivers that work was impossible or in trouble and there were several further trains running ahead of schedule .\n",
           1168,
           150
          ],
          [
           "grewe specified the second way a schooner could be used as a fireboat \" when being burned \" ( at any time in the period the schooner was moored ) was simply \" impossible \" , and would not be preserved .\n",
           1169,
           143
          ],
          [
           "his hold tightened and ashan broke the seal by squeezing mine and directed his mien to his inner goddess . \" you as well , \" sholto said , generous for lifting our bond with all his presence and good will .\n",
           1170,
           146
          ],
          [
           "his hold tightened and ashan stepped in close , softly saying , \" congratulations on your new calderonite allies . \" and then , the odd thing happened . suddenly the blood pooled on her black hee - haw robe .\n",
           1171,
           146
          ],
          [
           "we can be responsible and reflective , rather than neutral . without counselling and training , eneas [ ... ] throws herself into careers that share meaning , and at this point [ ... ] she is purged of inhibition .\n",
           1172,
           145
          ],
          [
           "we can be responsible and bless the providence of god ! o god o god , lord , witness to the will of the christian and muslim believers , god ... god , the son of god , is the divine manifestation of god .\n",
           1173,
           132
          ],
          [
           "` ` rafe knew exactly one of this very same type of thing that turned men into monsters . ` ` only as long as the first person who picked it up had any clue about the weapon or the device that made it .\n",
           1174,
           143
          ],
          [
           "` ` rafe knew exactly who the shopper was ? ' luke asks . ` uh , yeah uh , yes . ' luke strolls into the kitchen . my mom follows him . she hugs me tight , and luke nods .\n",
           1175,
           127
          ],
          [
           "allison felt trapped all over the place . she felt lost and helpless and ... not even okay . every part of her being felt trapped and no one would touch her or beg her for the ability to ' put them down ' .\n",
           1176,
           137
          ],
          [
           "allison felt trapped all over the bed . staring down into nothing but the darkness below . spent or cold , and dirty or not . she was weak , but she wanted him and wanted desperately to reach for him with this desperation .\n",
           1177,
           147
          ],
          [
           "' it ' s the only other band on this sub - par label that has been australian and international in the imports . ' but the song only surfaced and released quickly around this time , however . fan support continued to grow .\n",
           1178,
           152
          ],
          [
           "' it ' s the only other option . ' ' thanks for coming , ' said billy , touching billy ' s head . losing things outweighed finding new places to stay . ' thanks ' , said billy again .\n",
           1179,
           128
          ],
          [
           "from the nanny who continues writing , the type of sound heard used in the woodwork of the earlier works , combined with the high quality panelling of the woodwork is in fact a extremely high and strong type of sound .\n",
           1180,
           143
          ],
          [
           "from the nanny who continues trying to climb quicksand ? ( not consciously but with great originality , in a new edition ) was published in three parts this time re - adaptation for the happy hour trilogy ( 1976 ) .\n",
           1181,
           162
          ],
          [
           "we decided to have lunch at a small asian restaurant , where a small corner table enabled us to sit and eat at a table . considering we live so far away from sri lanka , we went for a good lunch that night .\n",
           1182,
           140
          ],
          [
           "we decided to have lunch and by the time he got out of bed he informed me that the baby had taken me next to him and banging my head against the pillow , which shocked me - absolutely - shocked my whole world .\n",
           1183,
           144
          ],
          [
           "left three days ago , and then turned into a skinny old woman with weird reading powers . a meanish woman , sort of . except for the good conversation over the pond that she and little lucy had just ended up having ;\n",
           1184,
           153
          ],
          [
           "left three days ago , they were both out of guilt , but because they had both been angry and had refused to listen to anything said at first , including the dress and shoes ( billy ' s ) and the wedding rings .\n",
           1185,
           142
          ],
          [
           "but when he came back big enough , heavier than he was , he pushed open a last few doors , and went staggering in and out of the vehicle , for fear the stars would bury him forever , and so he did .\n",
           1186,
           139
          ],
          [
           "but when he came back with , \" out from somewhere you ' ll see the sun again , \" it was funny - very very funny , very funny , just like the science comics he wrote on earth , mars and venus .\n",
           1187,
           135
          ],
          [
           "i think he has learned everything about kareem . one fact remains , my lord . ' ' - ' ' i hoped that - ' ' but - ' ' well , for all i know there is more danger coming .\n",
           1188,
           124
          ],
          [
           "i think he has learned . he has written a piece that would honor me . he has been honored by directing a major project , collaborating independently , creating an opus . \" \" then i should tell him , \" i stated .\n",
           1189,
           142
          ],
          [
           "i had never expected to see bird and lice in christmas garlands , but in the park squares , the choice had been someplace - maybe the occasional bird or bat and maybe a bird the christmas wreath trees were named after .\n",
           1190,
           144
          ],
          [
           "i had never expected to actually hear anyone call me that name . \" jeez , how could i ? \" my full name was crawford ; my older brother , tim crawford ; my small - town screen name , tim crawford ;\n",
           1191,
           135
          ],
          [
           "i hop from the rungs and find bit and mitty to ask me some interesting questions about a cute volkswagen beetle that glows like a lamp and being in a horror movie , with no objections from actors or their families .\n",
           1192,
           150
          ],
          [
           "i hop from the rundown park , as i am more than a little confused about this tiny incident , this scarring little spot that used to bite me as a kid , traveling all over everywhere , and into my dreams .\n",
           1193,
           142
          ],
          [
           "he had let himself fall for it . deep comfort he remained . when he had told others that he had worse moods , he had given them a vague warning to let them go away with their nephews nephews and all .\n",
           1194,
           134
          ],
          [
           "he had let himself fall . he was reminded of their strange encounter that had taken place even before brother george was ever born . john and james had fought many times over his bad life . his close friends wanted to be killed .\n",
           1195,
           156
          ],
          [
           "` ` baby , this is the worst thing that ' s happened . ' ` i see old miller and his guys beat a girl twice when she wakesup and there are two more holes left . ' ` i believed you .\n",
           1196,
           132
          ],
          [
           "` ` baby , this is what these types of dreams are all making up , ' observed george , smiling . for the first time since the events of the wildebeest invasion , they had their first taste of rummy .\n",
           1197,
           141
          ],
          [
           "` ` and remember to keep your head up . ' they could tell each other too many stories . the best were just silly stories , from a wild animal to scumbag . there were many rich people with short lives .\n",
           1198,
           141
          ],
          [
           "` ` and remember to call me when you are ready . \" \" well , now such as so . it will be much too soon , \" agreed flagg . schonfeld is a madman , boatwood said silently .\n",
           1199,
           126
          ],
          [
           "were we on fire ? \" after the oil was stolen from pots in carts , the oil - which they had used to move the horse onto its side and fight on - was replaced with cards , shallots , and coins .\n",
           1200,
           134
          ],
          [
           "were we on fire ? \" jerian nodded and then looked around , gathering the map . two seconds later , an opening appeared in the map and he responded , \" in that , the other paranormals will get the chance .\n",
           1201,
           138
          ],
          [
           "you may be as wanton as your eldest brother , but he is worse than any master / servant . he has robbed us of our eyes of our most precious treasures . for our questionable behavior , we have issued a warning .\n",
           1202,
           144
          ],
          [
           "you may be as want , a strong reason for revenge , as beauty . we will not wait long for eternal , for death . our hearts and minds move , always awake , open , always unaided , and always alert .\n",
           1203,
           132
          ],
          [
           "id like to believe that what we hear is truly heard . such as : chorus w . chorus \" chorus d . o . k . \" refrain ( verse implies , ) [ chorus , ) . such as : chorus k .\n",
           1204,
           116
          ],
          [
           "id like to believe that , too . if it had been , it would have likely covered me all in now . ' ' and i would like to remember the part you and i have both played in drug - related crimes .\n",
           1205,
           132
          ],
          [
           "you tell lies . they agreed to say goodbye , and they went to the cathedral every week , to the towers and the grand hall , and then on to spain . not to vienna , of course , but to london .\n",
           1206,
           128
          ],
          [
           "you tell lies . you might throw yourself at them or motter away from them . but you like them . and then it happens . ginny thinks she likes me . she fills me with a hate . i hate .\n",
           1207,
           121
          ],
          [
           "he said . ' i thought , now the real world - ' and those words went all the way out of georgie ' s mouth , and that day , frozen inside her like a thin stream of ice , died .\n",
           1208,
           127
          ],
          [
           "he said . \" yes , of course . come for you . come for you at last ... ? \" an eerie voice . he recognized the voice . ' suz ? \" \" yes , we do , sir .\n",
           1209,
           109
          ],
          [
           "and , you ' re not supposed to , \" she protested loudly , hands flying so that the puppy could nuzzle her ears , both of which had been ruined by the obvious shock , embarrassment , and outrage on her face .\n",
           1210,
           150
          ],
          [
           "and , you ' re lovely , you know . \" i avoided friends and everyone else but the anointing of jace and kat , and for tonight , i was focused on jace and kat , ancient books , and magic .\n",
           1211,
           129
          ],
          [
           "she managed to meet his gaze and calloused it for him , an arm - pull of his beauty and luminance . she had not seen his expression since moonlight bathing , nor had she done anything but stand firm .\n",
           1212,
           139
          ],
          [
           "she managed to meet his beautiful gaze . she remembered that smile . she remembered those captivating eyes . and the man she had loved long ago . * * * they did do it . they were ready to go , now .\n",
           1213,
           131
          ],
          [
           "while i waited , i suddenly realized , other terrible things happened . that the aliens were beyond my reach ... too far to go . fighting with all those things ... fighting ... fighting ... thrilling and ... overwhelming ... all those things .\n",
           1214,
           144
          ],
          [
           "while i waited , i could report further events to the last man when necessary . stannicksville was gloomy , with a row house , cantina and cafes . there was a wooden bridge across the stannicksville creek .\n",
           1215,
           142
          ],
          [
           "it was time for a new world . it stopped , at the very moment it had started , for a time . the spell broke . ~ ~ ~ the colors had been coming on since the last time jack had seen them .\n",
           1216,
           127
          ],
          [
           "it was time for a live recording . \" what \" plays on \" love affair \" \" guys and dolls \" , \" how \" / \" how \" \" a love affair \" ( also in their performances with the bbc ) .\n",
           1217,
           126
          ],
          [
           "when he stood before her the rusted - out ford . visible from across the alley from the old clovis ' house . ' say , old man , now you have seen my son , ' he ' d written .\n",
           1218,
           125
          ],
          [
           "when he stood before her and stared into the mirror , fen told himself not to let soari , desari , and randall know his \" secret \" . tonight they would play it out in the high - - tech room .\n",
           1219,
           136
          ],
          [
           "as far as i recall , the three sisters lived in an old oyster house called the \" oyster house \" , which may have belonged to \" her sister \" and then \" great north oyster house \" where the three sisters lived .\n",
           1220,
           124
          ],
          [
           "as far as i recall it you must run around . ' ( . . . ) ' let go ! ' ( . . ) then she flashed back , as if he had caught her , and she was so much stronger .\n",
           1221,
           117
          ],
          [
           "she attacked with savagery like no person she had ever known or come close to . the vampire was tearing at her , consuming her with a dark , harsh light as if he had been her lifeline ever since her disappearance .\n",
           1222,
           146
          ],
          [
           "she attacked with savagery and any form of touch , but he was herding her , speaking conclusively . where the hell was he ? keeping chase was impossible especial y since she was out in the field .\n",
           1223,
           139
          ],
          [
           "they yelled at one another , their eyes alight . now i must explain to you what the history of this world means . the last few moments of existence both started the feeling - once more powerful , now - becoming stronger .\n",
           1224,
           154
          ],
          [
           "they yelled at one another , yelling , \" the golden age ! \" , and once again , they all laughed . james took up his title of \" prince \" as a \" hero , \" shocked that he had done this .\n",
           1225,
           130
          ],
          [
           "i giggle . \" que me komel ' \" tu notllon ( aka boy oh boy ) ( tv variety show ( 4 ) ) she has a definite bubbly personality , she ' d make my father jealous .\n",
           1226,
           127
          ],
          [
           "i giggle . \" my baby sister ' s pretty out of practice \" - all of us whisper in unison , because all four of us , hopefully , are looking straight into how each one reacted to my language demands .\n",
           1227,
           144
          ],
          [
           "therefore , if it had existed on the holiday period ( if it had not been a part of the nineties ) , night publication would resume in february 2007 , and day publication would have a daily basis and a weekend basis .\n",
           1228,
           146
          ],
          [
           "therefore , if it had evolved in the last 100 years , it could not \" continue to grow [ in polar longitude ] ... the physicists are not sure the exact result \" , so its newtonian densities have dropped .\n",
           1229,
           149
          ],
          [
           "life was about sacrifices and helping people . live tracks recorded in israel , canaris , lebanon , and turkey . live band songs ( klop ) recorded in israel , palestine , lebanon , iran and turkey ( band ) .\n",
           1230,
           129
          ],
          [
           "life was about sacrifices and sacrifice , dreams and hopes ( for eternal life ) , very kings , very kings . was that the reason that the whole red hearts and black fur changed ? and there they argued at their next meeting .\n",
           1231,
           144
          ],
          [
           "perhaps it ' s the moment of truth . there are so many fine points and twists in what i tell . \" \" ashley and her brother brandon ( see family story box ) , often bear vivid details from their daily lives .\n",
           1232,
           147
          ],
          [
           "perhaps it ' s the changing fortunes of the mill - - the teak mill out of bonnyville , kronuff and oak island - - \" \" the rigging , correct ? \" his brows drew together .\n",
           1233,
           128
          ],
          [
           "her loose red hair streamed falling around her shoulders , look ridiculously loose . suddenly she straightens it , of its own accord . not yet . please , not yet . suddenly she feels like a different person . totally beautiful .\n",
           1234,
           151
          ],
          [
           "her loose red hair streamed down behind , about her shoulders , and forth again . the footsteps stopped . dr . annella , ма кан , 11 , milan . she , dr . glick , 14 , paris .\n",
           1235,
           140
          ],
          [
           "kylie had n ' t been sure if anybody guessed at her secret because their own townies would wake up and listen . so after the business meeting , she stopped by on sunday to see burnett again . but not on sunday .\n",
           1236,
           147
          ],
          [
           "kylie had n ' t even wanted me come to dinner , but my husband had cracked up , and these two women had come along ... and the next two lovebirds went on to have a baby ... to celebrate my independence .\n",
           1237,
           141
          ],
          [
           "kate had n ' t been dead , though . all i felt were those voices , the voices and images and words , and i thought of going home , as if i were putting in too much air , for too long .\n",
           1238,
           122
          ],
          [
           "kate had n ' t kissed liam , and now it was just a kiss again . so special , so rare . 23 liam an image popped into my mind . an open bottle of red wine . kate longing for a glass .\n",
           1239,
           133
          ],
          [
           "` ` okay , ' ' ' ' ' ' ' ' . ' wiley . june , 2010 . handbook for a brokerage firm in trenton , reprint , 2007 , for reference , en 08 - 08 compatibility 1 - 2 .\n",
           1240,
           124
          ],
          [
           "` ` okay , ' ` okay , okay ' he said , somewhat reluctantly and this time disappearing into a dark corner of the hall for a few indolent moments of a daze which only worsened as he and brine recovered .\n",
           1241,
           144
          ],
          [
           "im really sorry i woke up ? im really sorry i could find another man ? nick , it ' s me , nick evans . nick will be there soon , she said , and her voice was cheerful in its logity .\n",
           1242,
           128
          ],
          [
           "im really sorry i woke you up at all yourself , my mom said . \" ah , mom , mom . \" here she comes . a late night for charlotte . for me , or a solid one of about a year .\n",
           1243,
           123
          ],
          [
           "how the hell do they - kids - make a choice , when they live ordinary lives ? nicoli . ( reply ) : wait ! she says that she sees him reflected among her friends , and that she knows he existed .\n",
           1244,
           141
          ],
          [
           "how the hell do they hope to set the alarm up ? when the first guard is placed over the safety , the nobodies inside the house lock me up . lock me , mom , dad , and the others inside .\n",
           1245,
           127
          ],
          [
           "` ` you are stunning , ` was said . man ' s ' noble cause ' was , or ' wonderful . ` even though [ his ] own house was composed of beautiful timber , m had no more freedom to move .\n",
           1246,
           137
          ],
          [
           "` ` you are stunning all together . ' ` > > > ` i act with no guilt , brother . i dug up all the bones that were here and buried and buried , and found it all buried and buried back .\n",
           1247,
           123
          ],
          [
           "you were right . the thought came to him again . a second and then a third and finally a fourth and his hands were raised before him , the gusts of the wind behind him just a little more or less .\n",
           1248,
           131
          ],
          [
           "you were right . enough like in the first place , that we might again see them at the beginning of time , to see them closer . ' altair met berit and ezio in the mountains of andalusia .\n",
           1249,
           129
          ],
          [
           "i ' m freaking thirsty ! - - wait ! how much longer this will take ? - - how much longer ? - voicing - - in lament , she responded , we should go through that ' tunnel ' now !\n",
           1250,
           127
          ],
          [
           "i ' m freaking thirsty . i need to eat . we were shaking . \" we need to get up . oura , norian , you aren ' t getting up . \" mya leaned against tory ' s chest .\n",
           1251,
           118
          ],
          [
           "you know with clay back in town , or both ? no one told us a shit much about what it was , so we got a lot of watching and loitering . ' here , here , there , and there ;\n",
           1252,
           124
          ],
          [
           "you know with clay back , any girl could have seen boys like cushman ( also , briggs , certainly , but not briggs ) , ( especially \" passo \" ) , \" miss sarah \" , or the miller .\n",
           1253,
           132
          ],
          [
           "moved his gaze away as he thought . jealousy , desperation , possessiveness . pln9 . 5 emergency exit : labeled : # 25nm , # 6 . 1 , # 22nm ( d ) emergency exit .\n",
           1254,
           128
          ],
          [
           "moved his gaze away as the smith looked at his wife and wondered what he was doing the next minute . the smith walked around and removed a poster with symbols of government offices etched on the page . \" this is ned here .\n",
           1255,
           151
          ],
          [
           "the power radiating from henry poured from his ice blue eyes . i dodged too easily , so that without spinning to the left , i hit a wall . cora stepped forward and saw me , her eyebrows raised and furrowing .\n",
           1256,
           143
          ],
          [
           "the power radiating from henry vi was divided among bishop woodville and the princes of their respective royal line , with henry and his brothers ( who themselves were allies in the french ) fighting against the scottish kingdoms of france and england .\n",
           1257,
           170
          ],
          [
           "rachel pointed out the table \" - james dean ; u2 ; the amberley in 2003 , \" anything \" - paul mccartney at the cmj music awards \" nominated best song written and composed ( american ) \" - jeff buckley ;\n",
           1258,
           153
          ],
          [
           "rachel pointed out the table piled with old parchments . \" why are you referring to the ham - master ? \" \" because there is mandor the ham - master concocting . \" rachel rushed out of the room .\n",
           1259,
           133
          ],
          [
           "` ` take it deep , verging on so , so , so deep ! ' i cried even more loudly . ` this place is too un - decadence , ` ` it is , but - ` he snapped .\n",
           1260,
           116
          ],
          [
           "` ` take it deep , before your flesh starts to rot . \" there it was , flickering back to life in a flurry of light , but unable to see exactly where it was , he couldn t see a thing .\n",
           1261,
           128
          ],
          [
           "noelle whispered . his strong hold swiftly seized her waist as he hauled her back to carry her upward . her gaze diverted to hector who was still dressed so well from the photo of his family . a tall handsome man .\n",
           1262,
           147
          ],
          [
           "noelle whispered . but here she was . no matter what they had done to all of him . his people . that was what they did . but for a brief time , noelle had said his ... his heart stopped .\n",
           1263,
           126
          ],
          [
           "i reached out and turned right in their faces like that red desk was defending the hardest of things against the desk held 25 tiny 340 - million machines . the black counter also held a large clipboard filled with large tabs .\n",
           1264,
           155
          ],
          [
           "i reached out and turned , \" hey , you heard me . i cracked up . been choosy lately huh ? and it could be a while . do you know kuda and i ? \" [ 1 ] n .\n",
           1265,
           120
          ],
          [
           "there are monitors beeping for games to turn on , and lightning flashes behind them . that night they go shopping for his shoes at a local market selling frozen bread crumbs . they find his apartment on the second floor .\n",
           1266,
           149
          ],
          [
           "there are monitors beeping and the driver of the main taxi reading a dossier said the pub and restaurant looked good enough , in actuality better than any other pub at a reasonable price , a little beyond us $ 1000 ;\n",
           1267,
           151
          ],
          [
           "not good enough for her here , but maybe i could ride astride her now . the end the horse - heads were settled . i walked around them to the tiny chocolate tanks and saw them all . here was an adventure .\n",
           1268,
           138
          ],
          [
           "not good enough for her anyway . by herself she sighed . she got up , made up her mind and went down to the bathroom . when she got there she felt like a feral child . a carnivorous beast ... whatever .\n",
           1269,
           141
          ],
          [
           "he edged away ; lay him the entire way , as though he had tossed him somewhere else , but still he clung to the sky , tired , fitful , his eyes steady on the stars , looking for some omen .\n",
           1270,
           134
          ],
          [
           "he edged away ; lay there alone , in a daze again . he thought it was a horribleness for discovering how he was to die in this weightlessness - again , and it occurred to him to see how things were ;\n",
           1271,
           140
          ],
          [
           "they could fight me on the football field , or threaten my best friend , or my boyfriend . by the time i ' d come , people had been barred from getting proper admittance so they gave up on looking for me .\n",
           1272,
           142
          ],
          [
           "they could fight me on how to get to school , for that matter . if he was not enough . and they ' d brought me here . \" we could just take a long walk in the woods , \" i said .\n",
           1273,
           130
          ],
          [
           "` ` do n ' pierretoux , 1917 - 1934 , africa catalan - flemish [ ajt ] , 1998 le longue copiere ( r . e . russell : introduction to the language ) iib \" .\n",
           1274,
           129
          ],
          [
           "` ` do n ' make it all clear for me this time , ' said gregory . * * * * ` oh , you were smoking a pipe , ' gregory observed after seeing kristoff look puzzled for a moment .\n",
           1275,
           130
          ],
          [
           "he poked it and a man got his seams back - it was the smith effect . the academy of art , who credits the original creation to reading a classics book , got a now used handsaw between his shins .\n",
           1276,
           138
          ],
          [
           "he poked it and a deep wail , which was immediately far too loud - sounding and quaint for the people to be heard , stood . they were looking from the lead guitarist to the mic through a mellow lens .\n",
           1277,
           142
          ],
          [
           "drew does n ' t mind after a teenage boy who captores his older sisters (ocratic of physics , as depicted in the resurrectors ) writes a postcard to their frantic , frantic physics teacher drew anderson .\n",
           1278,
           141
          ],
          [
           "drew does n ' t . \" you , me and ... \" \" ... and you , \" gary finished . drew added , \" and molly ? \" \" molly . \" \" molly , \" gary repeated , wakening him .\n",
           1279,
           107
          ],
          [
           "from what i can tell her , i know enough to understand that taking blood is bound to allow me to see that the lines of elise ' s blood were essentially severed because of fido ' s disappearances and the explosion .\n",
           1280,
           146
          ],
          [
           "from what i can tell , emerita was in bed , bent her head . no interest in getting her feet connected with your groin . sol whistling . sol singing but i decided not to do so for any particular reason .\n",
           1281,
           141
          ],
          [
           "` ` i ' m sir john carter ruddy , john carter ruddy . ' ` is the british department going to teach you dutch english or not ? ' sir john carter ruddy was a staunch follower of the west .\n",
           1282,
           123
          ],
          [
           "` ` i ' m in iran . tell it i know . hear ? ' ` standard middle eastern translation : scribbled ( in french ) le vieux francais chez michel kleinesse by the sweet tooth press .\n",
           1283,
           135
          ],
          [
           "this lasted a while . she stayed there , looking down from the dark sky falling over her shoulder and tried to compose herself . i understand this how the baby cannot be normal when she gets to do stupid things and be normal .\n",
           1284,
           151
          ],
          [
           "this lasted a while . soon the weariness would appear to be pushing him away . he did not sleep . sometimes he was just trying to get back on the track and back to normal . after 9 a . m . ;\n",
           1285,
           137
          ],
          [
           "i think i ' m making [ this ] album from the votes of argentinian musicians ringo starr , jimmy james and paloma ray brown , who were selected by the new york times and chevelle press club as judges .\n",
           1286,
           148
          ],
          [
           "i think i ' m just playing games with my audience . \" blue - and - purple dragons were standing next to him , all grinning . he hoped his male audience might not notice the other members of his army lurked .\n",
           1287,
           147
          ],
          [
           "` ` it does seem like a good ( fick ) idea . ' ` - well , we were all meeting in cold , wet , wet , wet like your first day at home . ' detective pete beckstrom said .\n",
           1288,
           123
          ],
          [
           "drat , of course . \" and because of me , the day started in a way very much the same . more excited , less laid back , less cut off from each boy ' s best friends , g . i .\n",
           1290,
           127
          ],
          [
           "drat , of course , were so unknown neither james nor his children , and like lord robert , he was a member of the scottish nobility , related to charles i , duke of chandos and edward and mary , respectively .\n",
           1291,
           146
          ],
          [
           "being the person that i keep locked away in the library . being her party gowns . but really , the only ones that stand out to me really are brand - new ones . completely shiny and not that sexy anyhow .\n",
           1292,
           135
          ],
          [
           "being the person that i will very faithfully protect personally - principally among all our allies , allies , etc . - but also among all many ( except those many ) of our enemies playing against them and their litigators .\n",
           1293,
           146
          ],
          [
           "` ` i do n know where to hide . ' several of these plunders were herded within their huts and were joined together underneath each other before easily maneuvering the raiding element onto lines of defying maneuvering .\n",
           1294,
           146
          ],
          [
           "` ` i do n ... . ' ` ... like ... some fantastic story , some big one ! something that probably killed him or something . ' anyx fell silent , lucus ' s pretty mouth quirked up deeper .\n",
           1295,
           134
          ],
          [
           "her eyes looked down , studying me , growing slower and slower according to the weirdness and constant change occurring over the years . \" not that he could if he wants to die ! \" i heard the sound of gunshots .\n",
           1296,
           143
          ],
          [
           "her eyes looked down , her mouth opened , then closed just as fast . pointing at it she pointed to one of her hands , then to the map , proving it was either at the base of the mountain range or somewhere .\n",
           1297,
           137
          ],
          [
           "he told me he needed me to look out for him , d - why didn ' t you tel me al this ? i answered ( which then , i didnt know ) , like you dont know all that stuff .\n",
           1298,
           120
          ],
          [
           "he told me he needed me every couple of hours in his car , but that was just minutes away . my brother wanted to go home and accept his sister ' s birthday present , and i suddenly realized where this was going .\n",
           1299,
           152
          ],
          [
           "we follow the robust , but narrow principle . present at the meeting are prominent personalities and politicians , including justice minister david jones and henryk bagley , a former state minister for education , the original iq test is still valid .\n",
           1300,
           169
          ],
          [
           "we follow the robust , accurate and dynamic forecasts that the system can provide and can help assist the public to think clearly and to make accurate predictions of events that occur numerous times on monday morning , and ultimately on sunday afternoon .\n",
           1301,
           165
          ],
          [
           "she started to sniffle , wanted to murmur some kind of \" thanks \" for finally getting distracted from carson ' s babble statement about summer running out . oh , well , milly would be glad to let reese know .\n",
           1302,
           147
          ],
          [
           "she started to sniffle again , and he knew this was hard for her , but she needed to convey a depth of feelings first : the fact that she thought she really loved delia when mrs . ellis was long gone .\n",
           1303,
           141
          ],
          [
           "` ` it ' ll probably get us out of the well - forested district and into the open land visible from the east , ` ` said gudrik , quite amazed about his friend , mate , guile , and ability .\n",
           1304,
           139
          ],
          [
           "` ` it ' ll be filled with celebrities as well as former fa kedah head coach joe kennedy , ex - chairman of psg , royal hotel , chairman of indonesian airlines and ex - chairman of football association of malaysia .\n",
           1305,
           143
          ],
          [
           "i do n ' t . do it . no . because it seems like it ' s - a \" but no ! ( although she ' d agreed it wasn ' t even what she ' was ' at one point ) ;\n",
           1306,
           112
          ],
          [
           "i do n ' t you give away your duties nor do you stand by ' em . the grief for paloma was not what she needed . leyna was still disaffected about d ' loan ' s death .\n",
           1307,
           122
          ],
          [
           "who do you remember from the south australian capital to the meeting with a printer in melbourne , australia [ ... ? ] \" the australasian short story review ; march 1952 . translated by paul w . frenstay .\n",
           1308,
           153
          ],
          [
           "who do you remember from your walk on the church ? the strange skymen ' s screams , the strange grunts and screams . screams of those hidden behind the aitu ' iro bushes , screaming in the late sunlight .\n",
           1309,
           139
          ],
          [
           "i asked . \" i just need a ride . \" now i was really beginning to think this guy was a jerk , not bad compared to my shoes , but that cute mouth had still shown a small tutu .\n",
           1310,
           129
          ],
          [
           "i asked . \" you . not her blood , but meredith ' s . \" we gathered beside a damp beech as the storm descended , and there i found the earth , which had a malignant mark on it .\n",
           1311,
           128
          ],
          [
           "' no , you ' re very smart actually , and very perceptive . this doctor , cranky as hell since you were first fired , has been fired , but who cared ? a very good friend to mccloskey ?\n",
           1312,
           135
          ],
          [
           "' no , you ' re no gogi , my young lady . ' ' well then , i go in and see that you are sitting next to another two men . these are sheriff rackham and sergeant doc ogg .\n",
           1313,
           122
          ],
          [
           "` ` be at peace for they are prisoners of allah . ( zirob ) he is also suffering . the following quote follows on from the testimony of thurber : when only allah can save them ! ! ! !\n",
           1314,
           134
          ],
          [
           "` ` be at peace in each of my rooms . ` ` you honor me that i place upon you a beautiful dark blue diamond in honor of my family day and of my childhood cherished by them for their wonderful children .\n",
           1315,
           137
          ],
          [
           "of course he would . all of us , even sydney and me . all of us , all of sydney and me , actually all of sydney and me . where he had moved on from when we were both , miles away .\n",
           1316,
           112
          ],
          [
           "of course he would . he watched me , waiting to hear my next words . it was hot as hell . hot and sexy - hot ever . i held my breath in my lungs . i had dated him plenty of times .\n",
           1317,
           126
          ],
          [
           "i hate wearing corsets , anyway , but i stick with the easy saying . i saw him in his white us navy blue string jersey - a double - pancake - length one - at an american legion football game .\n",
           1318,
           137
          ],
          [
           "i hate wearing corsets or blouses either , since they always want me to really want them . the dukes of portland , published 2015 , is a new horror novel of characters dealing with \" magical , \" halloween themes .\n",
           1319,
           156
          ],
          [
           "` ` i ' ll have a search and analysis going on angelica , ' said steve concentrating sternly on angelica . ' can search and analysis a wide range when the masses may believe that rockstars are a viable species ?\n",
           1320,
           139
          ],
          [
           "` ` i ' ll see you on monday - in honor of your father . ' in the older days , the so - called new moon women , though shorter in height than their father , always liked to blend in well .\n",
           1321,
           132
          ],
          [
           "she swallowed the beer and grabbed the bottle . the others , edgard , trevor , and trevor pawned out , tried to find the best place to hide from them . later , decided to go down to the country club .\n",
           1322,
           131
          ],
          [
           "she swallowed the beer and then quickly took a sip , thinking that like any serial killer i had known ever before , his small - town operation in napa valley had been completely neutralized by scotilly and his friends .\n",
           1323,
           153
          ],
          [
           "jennifer to beth > > she returned four weeks ago . she kissed me - - she does not speak my language - - against practice - - and she said she would come for me back . and she left for school anyway .\n",
           1324,
           138
          ],
          [
           "jennifer to beth > > just a few more questions about the nuclear origin and nature , thermophagoids and / or spore size . we need to eat an extra pound of uranium to protect the nuclear environment .\n",
           1325,
           140
          ],
          [
           "when there ' s three women like him he does this , two of them . one of the women has his first name , and the other is larrapa , and all the other kinds of things he is tired of .\n",
           1326,
           118
          ],
          [
           "when there ' s three , he can take out those three three entities in one blow : either shoot the thing and knock it out before it lands on the edge of its own coffin . or break through one of the obstacles .\n",
           1327,
           141
          ],
          [
           "it made her feel deeply involved , as she had belonged to somebody whom she would have loved and wished . learning about music was quickly becoming more to talk about while writing , but by the end of 2003 , years were passing .\n",
           1328,
           160
          ],
          [
           "it made her feel deeply familiar . she walked on , careful not to touch any of the details . he had never exactly had that in mind , she thought . she thought she had seen glimpses of him in her dreams .\n",
           1329,
           139
          ],
          [
           "i let go of the door and saw a smartass running up from behind , and then a \" who is ! \" sign , while will was being interrupted by four new ones who came up to will holding me shyly .\n",
           1330,
           133
          ],
          [
           "i let go of the tape , but manage to still say \" sorry , \" before sitting back and facing him , which makes it even more awkward , since i can already have the last - minute cover up on the screen .\n",
           1331,
           143
          ],
          [
           "up ahead , in a shop a small group of dairymen and sushi labourers were sharing their own washing machine . the older shopkeeper had shown no interest at first , but he shook his head a little , \" no .\n",
           1332,
           140
          ],
          [
           "up ahead , in a sharp right turn , i feel like a wolf , and the spark that makes me even feel like a wolf is so real , so strong it needs for me to stop and be a she - wolf .\n",
           1333,
           119
          ],
          [
           "blaise , my master , has only visited you about six seasons . now you need god to guide you . you are a mage , your master , and he wants to teach you certain dangerous gifts . you must have faith ;\n",
           1334,
           138
          ],
          [
           "blaise , my master . gabriel , the messenger to whosafos . be who he is , said another voice , a quiet , soft voice . followed by another voice . i turned away enough to cover my ears .\n",
           1335,
           129
          ],
          [
           "at first there was little response , but then lieutenant commander jorgensen , as opposed to the usually good - looking commanding officer , who served as \" captain \" , beamed at the unexpected newcomer , a skinny man with red hair .\n",
           1336,
           159
          ],
          [
           "at first there was little visibility outside of the circle of guardians . i think that because they were all engaged in pure prtorian work - getting the new guardians and others even like them - the overseers found them everywhere .\n",
           1337,
           153
          ],
          [
           "i ' m not sure where it is but drake and the others will know where it is . \" delilah continued on . \" i called the king . he just brought up the words ' i do know ' where it is .\n",
           1338,
           119
          ],
          [
           "i ' m not sure which is which , but judge nin has verified that these are nin and conklin . \" give me a file . \" their files and other records were quickly gathered and brought to me .\n",
           1339,
           130
          ],
          [
           "despite all of her emotions , she could hardly even see heather , watch heather and heather wave at their daughter then walk all the way to town , and get to heather , but she did have to get to her baby girl .\n",
           1340,
           135
          ],
          [
           "despite all of her emotions and feelings in general , she was nowhere near ready to admit how she felt to him , even as she welcomed him back into her life . she still felt like the opposite of a vampire by blood .\n",
           1341,
           146
          ],
          [
           "al follows you like a hound , after scrubbing a barrel and talking to scottie , noting the previous novel ' s \" the sun and the moon \" and \" ho , ho , ho \" by samuel l . jackson .\n",
           1342,
           130
          ],
          [
           "al follows you like a schoolboy too . hates cats and skunk gutter stuff and thinks you should go out with those cats . the police and sarge continue the investigation , but threesmith does not see al anywhere .\n",
           1343,
           145
          ],
          [
           "it ' s a heated discussion , about several people - most of them men , but a whole lot of them showering and trying to wake me up to expose my breast . i have to learn to care enough about him .\n",
           1344,
           137
          ],
          [
           "it ' s a heated meeting ( chorus , original composer , roboticist , sound engineer and uk garage rock singer ) mark hammill | guitar ; tom clark | drumming darren hoey | miscellaneous | production : lee delap |\n",
           1345,
           153
          ],
          [
           "madcrap sipped , not tasting the wine , although he remained extremely stiff yet . \" among a ( to average ) lot of people like you , my friend , \" she said . \" me , \" clementine mouthed .\n",
           1346,
           138
          ],
          [
           "madcrap sipped , as recurring character barbara fiorina ( semi - recurring ) from 2013 - 2016 . bernie grundman created the mad west , as television actor with a greek pilot broadcast in lesbos , greece .\n",
           1347,
           149
          ],
          [
           "` ` it ' s my turn ' she said , smiling . ` ( i giggle ) why do you want to impress the man ? he ' s gorgeous ! ' ` me too . ' ` but we already had lunch .\n",
           1348,
           121
          ],
          [
           "` ` it ' s senator h . reid , president , and honorary chancellor , of hillsdale college . the sacred heart public library was designed with the majority of the curriculum materials taught both for the college and for the country .\n",
           1349,
           158
          ],
          [
           "no ! she liked to film numerous episodes of wjbc , tv , nbc if you want it , tv , kgn - tv , wpix , tv , and wqez , in cleveland !\n",
           1350,
           102
          ],
          [
           "no ! ! ! however , soon there would be no \" publish the wonder \" in the original kassman movies and the idea for the name \" wonder \" was given to hillin kassmf .\n",
           1351,
           115
          ],
          [
           "that my friends , is how i shall describe it , is mine . \" the room was finally filled with pleasant smiles . \" i in fact have no particular interest in those men , \" said planner as he uttered these words .\n",
           1352,
           144
          ],
          [
           "that my friends , is the wife , and all my children he and i have at such a young age , they will find themselves searching for the right lead . i mean with the people , among the politics and the leadership .\n",
           1353,
           141
          ],
          [
           "sid carried it easily into the room . the structure of the arm cast a dark shadow . the lines of it exuded tension , and did not emit much light from its joints , but they were attractive and well painted .\n",
           1354,
           143
          ],
          [
           "sid carried it easily into the kitchen where the huge yorkshire terrier waited . \" bring me this . please . yes , of course . my gift . and then you call the guy who likes to socialize around it . \"\n",
           1355,
           139
          ],
          [
           "` ` he probably did not think that i came here without his help . ' ` but it is best to remember he is still sitting here when we broke up . after he left , the jacksons were pain - killers .\n",
           1356,
           138
          ],
          [
           "` ` he probably did that , ' ` unless he came back anyway , ' cat - and - mouse accentuated , as he rubbed splints on his toenails before joining vinny inside his golden silk robe .\n",
           1357,
           136
          ],
          [
           "the sadness of separation washed over the entire room , like the callowing woman , now holding the hand of the guy who touched and kissed her , and the lumbering man , with that black mop dust on his face .\n",
           1358,
           142
          ],
          [
           "the sadness of separation washed over me again , and i knew i would truly fall apart , because of his love and his strength . all your love . because of your trust . the man who loved me had never broken me .\n",
           1359,
           140
          ],
          [
           "uma and carrie have become friends after having lost their mother . venues include the royal theatrical society in london ; the circle theatre on broadway ( manhattan ) ; fleet street ; camden ; the tooth & nail club in southfield ;\n",
           1360,
           160
          ],
          [
           "yes , i was studying her again , spending so much time with her , a thorough study of her life , of everything , but , strangely enough , the all was so perfect , so rare , so amazing , so wonderful .\n",
           1362,
           136
          ],
          [
           "yes , i was studying him now . he glanced at my lips where they were with his fingers and began to talk to me . he leaned back , so i moved closer and said - what did you find with your words .\n",
           1363,
           137
          ],
          [
           "' red - haired people came into my room . ' ' i see , ' said mary , who earned both her brothers a \" brother , brother ... \" than some \" old stupid , old lunatic \" sitting in his bed .\n",
           1364,
           132
          ],
          [
           "' red - haired people , ' or ' naina people ' , were groups of red - haired people , who lived mostly in small villages . mainly nomadic , for purely social reasons , they depended on agriculture and grain production .\n",
           1365,
           145
          ],
          [
           "i ' m scared to death . \" over the sound of distant thunder , shalini asks me , \" what is her name ? \" sleep with you . epilogue new york chapter 28 : nathan i turned to face corri .\n",
           1366,
           139
          ],
          [
           "i ' m scared to be alone on this ship . we all shifted in our chairs , as the questions were finally answered . tony had stormed back and punched us all three ways , rather than what he had planned to do .\n",
           1367,
           143
          ],
          [
           "sam and lisa climbed into the space station - operations room , still miles away but still full of commands , code numbers , and texts . soon they were all over with a workstation . the command center beacons remained intact .\n",
           1368,
           150
          ],
          [
           "sam and lisa climbed into the boat , and sam noticed lisa was sitting with her hands up . she was making noises as they talked . vinny murmured quips before racing at an unusually fast pace to get to the boat .\n",
           1369,
           144
          ],
          [
           "him . feeling awkward and hostile to ted , ted buys nena a large diet of sorghum . as ted is driving her through streets of japan , hiro begins writing a story about the first encounter .\n",
           1370,
           134
          ],
          [
           "him . he has also competed in the official fight to the death competition in japan , against top fg , charity , solid gold , welcome to itch , world jr . wrestling and mr . ig .\n",
           1371,
           127
          ],
          [
           "` ` insurance is go . i must move to the city . ` ` well , well , young t . c . ` ` but not until tonight night when i took part in several sessions with one of the first ones .\n",
           1372,
           127
          ],
          [
           "` ` insurance is gopher , from ancient greek . ` ` insurance companies should not trust . ` ` in modern times the term was tichy for insurance , and it was used for several decades . carter 1993 , p .\n",
           1373,
           138
          ],
          [
           "the greeks muttered and cursed . they came at once , not in respect of the gods themselves , but of the proud syrian soldier who would bow to his gods . every god was going to swear oaths to protect the laws .\n",
           1374,
           143
          ],
          [
           "the greeks muttered and cursed continuously . they dug mediaeval holes and washed the boat . the show comprises several versions . one greek rescue a rescue was based on the greek versions , \" roll up your sleeves , comrades \" .\n",
           1375,
           149
          ],
          [
           "now get in . ' ' i got it pretty much right . ' although kfc made its platinum - selling debut with the film , its advertising was in decline . the film also marked the beginning of a new trend .\n",
           1376,
           139
          ],
          [
           "now get in . now , come back to cameron ' s cat , petting you , according to the instructions provided for her from tomorrow . \" considering her own words , ainsley expected the response . bold and bright .\n",
           1377,
           146
          ],
          [
           "` ` no , not yet , dear . and after that we can talk . and now , dear . ` ` switch thousands and thousands of phones over to a separate computer . call the phone number , then start typing them .\n",
           1378,
           131
          ],
          [
           "` ` no , not less than 20 were re - linked to kweb . com , and rdv . com . com . only other small , differently named companies with the same name are listed on the rdv .\n",
           1379,
           122
          ],
          [
           "i can control this place , but it holds just like dr . miller . i can control anything any dimension supports . at this point , mid - night is momentarily numb , and we have wine glasses filled with sparkling white wine .\n",
           1380,
           149
          ],
          [
           "i can control this place , and i can control everything - - the lights , the music , the racket , my baseless feelings for ella , her love , i swear - - except ella , and then ella too .\n",
           1381,
           127
          ],
          [
           "` ` you already have a b - pass ? ' ` b - pass . ' jonesy sits upright on a rotted and offending wooden crate . he looks so familiar , everyone looks like people . oh , right !\n",
           1382,
           132
          ],
          [
           "` ` you already have done what i did ! ' ` - - - - - - - - - - - - - - - ' ` don ' t go there ! ` ~ * the ship fell in a shudder .\n",
           1383,
           94
          ],
          [
           "` ` this is what you read then . the word \" janus , \" he says . \" \" yes , \" ' hapax murmured nervously . ` and the aspiria zigzag , right ? '\n",
           1384,
           115
          ],
          [
           "` ` this is what you were just thinking ? ' ` really ? ... yeah , but i was thinking we could just take so many guards for the next conference with the president . ' ` not as many as you think .\n",
           1385,
           139
          ],
          [
           "each silver canister was divided according to which model . lee , creates several card decks and provides custom equipment buffs for two - player game , including iceman , power quest , chuckie : the road to damnation .\n",
           1386,
           158
          ],
          [
           "each silver canister was lined up neatly in the engine room - center , its bases glistening with strange red light . one flash , as now was lightened , casting a pale ring of flame across the smooth , golden ground .\n",
           1387,
           148
          ],
          [
           "stupid , huh ? ' ' it is . whatever it is , then how can wizards and shape - changers help people and things ? ' the healing process is a grand and mystical thing down to crepe duria .\n",
           1388,
           134
          ],
          [
           "stupid , huh ? ' as i took my final test and wrapped up my supplies , i turned my phone off . this was why i was such a part of abbi ' s i . n . d . security company .\n",
           1389,
           126
          ],
          [
           "the parapet , a tall mountain named for \" achilles \" , who always stood slightly tallest , caught the morning light above the sea and shone it upon the young woman , who read , felt , and wrote quickly , eagerly .\n",
           1390,
           147
          ],
          [
           "the parapet , a tall steel structure , without which was a raised plywood roof , supported by the dumbbox with a wooden frame , carried many young men alongside - mr robinson , mr campbell , mr shaw , mr wilson !\n",
           1391,
           147
          ],
          [
           "` ` same problem . ` inanimate objects . mark daley ( 1979 ) , eric michelson ( 1987 ) , myron michelson . proved the existence of a maximal c * algebra associated with daley algebra .\n",
           1392,
           136
          ],
          [
           "` ` right . ' but when there are no ones in this particular group however , an organisation within a twenty - mile radius of their original rendezvous point at kessler and lothar , it had been to mend everything .\n",
           1394,
           151
          ],
          [
           "` ` right . ' ` then i ' ll finish it before lunch and meet you . . - when ? ' ` my schedule is off . - ( lunch ) - 5 - 7 . ' ` our schedule is off .\n",
           1395,
           111
          ],
          [
           "but soothing the blow to the head was that of tarkhun . the priest walked to the pit facing the sea . \" went there and the pit was filled with steam and i steamed it a couple more times than usual .\n",
           1396,
           130
          ],
          [
           "but soothing the blow to my arm was just the beginning , for most of the sound came out from the wee wanderers flocking amongst the other birds . that pounding noise again , the beating again and again . i began walking .\n",
           1397,
           144
          ],
          [
           "she sobbed . julio and pablo got up and went inside . when they screamed and screamed , alejo was a little cold - hearted back in town . he was an electrochemical chemical engineer , too , in school .\n",
           1398,
           138
          ],
          [
           "she sobbed . there was no sound . his arms were locked around her once more . happily , happily , happily , as his husband fulfilled his woman , their passion and devotion at its end now , just for all .\n",
           1399,
           133
          ],
          [
           "she knew there were no heavy iron shingles . there must be a fence here to connect them . bridger had the sense the sickening smell of ammonia wafting from within , the sound of breathing off on their right .\n",
           1400,
           142
          ],
          [
           "she knew there were no ghosts here , after the force of her wiles and now her new sons and daughters living on the second floor of her flat . yes , their parents still needed to be brought back up to earth .\n",
           1401,
           140
          ],
          [
           "i scrabbled at one end some pocket sketches , dated 6 - 13 november 1896 , 《 [UNK] 》 - fifty of which were delivered to the peking union college about , on 1 january 1896 ( with publication in 1897 ) .\n",
           1402,
           167
          ],
          [
           "i scrabbled at with my index finger my \" boyfriend \" ( and friend ) whom i often - informally - referred to as \" kid \" , \" soldier , \" or \" kid \" . everyone else didn ' t .\n",
           1403,
           127
          ],
          [
           "i barely notice the paintings anymore , only the furniture and the small statue of the angel sitting behind them . i wonder who would rent and just do this place as a gift ? maybe this man has a love for fine art .\n",
           1404,
           147
          ],
          [
           "i barely notice the paintings before or after we leave . man and woman in the kitchen do likewise . there are plenty of wooden tables on the islets and shelves next to them , and in the kitchen furniture is pretty good .\n",
           1405,
           144
          ],
          [
           "i stood up and took a shower and climbed into bed . his head rested against mine . more things you need to know , erica , before i divorce you . ' no . but like i said , we would be together .\n",
           1406,
           138
          ],
          [
           "i stood up and took sip of my glass of iced tea . i hated that she was playing this game now , building this to destroy me completely . my worst nightmare of all time . how had she done this to me ?\n",
           1407,
           138
          ],
          [
           "he lay with her , hand on the bridle , his head above the tree . saying her name was a death sentence , and in only one place . or was that one place in his mind , everything there was .\n",
           1408,
           126
          ],
          [
           "he lay with her , wrapped in a fine layer of blue blankets , snuggled atop sheets of white silk , profoundly unsure of her real thoughts and concerns . her thoughts and concerns were the mental and physical identity forged by her spirit .\n",
           1409,
           154
          ],
          [
           "` ` technically , you have something to prove . ' - - ( may 8 , 9 am est ) - - peyton watched the screen with tears in her eyes . but she figured she could see the man on the screen .\n",
           1410,
           135
          ],
          [
           "` ` technically , you had business with elvis . he sold xerox before you , i mean . ` ` yes , that other brother . only thing i remember is , elvis had to bring melissa home on tuesday night .\n",
           1411,
           137
          ],
          [
           "i take two steps down the grubby aisle near the door . i keep my mouth still . from what i know , he never approached me , but that sounds just as crass as the next fifteen minutes would feel .\n",
           1412,
           139
          ],
          [
           "i take two steps down because i see brian [ oscar hammerstein ] and miss farquhart [ navjit outaousta ] , great friends together . brian too once . preshea was me too .\n",
           1413,
           126
          ],
          [
           "` ` you do n her things . would like you to stay that way , you know . ' ` every school in our town is inclusive of those that hate skunks as long as i can make a decent living .\n",
           1414,
           131
          ],
          [
           "` ` you do n them , ' he said . i ' ve never won a serious solitaire game of that until now . ` ' love b - b - b - snoots sat down on a park bench .\n",
           1415,
           115
          ],
          [
           "she let her breath out through the deep breaths she took . all that she noted was that the woman to her left was sitting peacefully on the settee , her arms around her daughter . kamini she wanted was off duty .\n",
           1416,
           138
          ],
          [
           "she let her breath out . maybe she should leave instead of pointing it out to her friends . she hated talking about this , though , and her chest ached right then . maybe she should go out and sleep with a guy .\n",
           1417,
           136
          ],
          [
           "but in that moment , the old bastard in him was into nothing at all , when nothing had happened . and in that moment of the day he saw heather naked , that heart fell , knew that that was what you need .\n",
           1418,
           129
          ],
          [
           "but in that moment , i changed my mind and shut up , going back to talking to him , and then asking myself the same thing . i was scared of him ... shut up , dude ! how bad do you mean ?\n",
           1419,
           133
          ],
          [
           "` ` you ca n go , \" frank whispered in her ear . \" would it kabbaze if you left a second time ? \" chapter 18 later that night frank would go back and forth now to consider his options .\n",
           1420,
           140
          ],
          [
           "` ` you ca n ' a noy ( priest ) ! ' ` i must kill them all ! ' ` oooy , you must go and clean up ! ' ` but there is no temple in europe ! '\n",
           1421,
           107
          ],
          [
           "i have work to do . jeffrey williams , \" creating desktop computers for computers \" ( computer review . 10 , 1978 ) . general electric s - 100 , with a built - in data stylus . ' design issues ' .\n",
           1422,
           147
          ],
          [
           "i have work to do for a very long time : to learn what i can about these things , to follow them to the right place , to track them down , and to catch glimpses of the people who were hurt .\n",
           1423,
           137
          ],
          [
           "in a minute the ranch sheds all of their collections of golden flowers . some people cry and noah ' s nerds are shirtless . the police search with all pink bouquets and deal with noah ' s wife , eve .\n",
           1424,
           138
          ],
          [
           "in a minute the ranch hands had all mentioned it being my wedding reception . it was a huge ceremony . we had all seen the big party going on there . brandon had asked around and said it was my wedding , too .\n",
           1425,
           137
          ],
          [
           "i asked , because it never once really occurred to me , even this slowly , that the demon had moved . but then something on the wooden planks on the old porch shifted , and it was eddie - who was shouting .\n",
           1426,
           143
          ],
          [
           "i asked , because it all went as planned . the best way just not to wake up is to forget to wake up , just so those high school kids can close their eyes and pee . yep , i was still awake !\n",
           1427,
           131
          ],
          [
           "he glanced up . \" ' ' ' ' hitler , ' ' hitler , ' ' ' ' ' hitler , ' ' ' hitler , ' ' hitler , ' ' ' hitler , ' ' ' ' hitler , hitler !\n",
           1428,
           50
          ],
          [
           "he glanced up . \" my dying blood , my lord . it was only a small sum . \" but the gods were crying out to him , telling him he would be left alone , that his life was too late .\n",
           1429,
           125
          ],
          [
           "my lunch break was n * * age age correct , and i would normally still be up at breakfast and leave the next morning . that was it . i could remember all my responsibilities that day , the ones i still had .\n",
           1430,
           144
          ],
          [
           "my lunch break was n away at once and david told me about the night , told me , \" you may remember who you are now . david , you are ignoring the world of this moment ! you have no choice ! \"\n",
           1431,
           132
          ],
          [
           "parker said . \" ... ( 1 ) ... - - - ... ( 2 ) ... ... \" - - [ streghel ] - - if you can find anything useful to remember , please consult your translator .\n",
           1432,
           121
          ],
          [
           "parker said . then , \" see if i can . \" but it was at these heights . tench looked sad , and he said again , \" lean forward so i can reach you . see if i can .\n",
           1433,
           113
          ],
          [
           "if he ' s not out there than out here , you need more ammo . \" \" true , but there was no answer . \" \" no , sir . i have been met with him before but in what manner ?\n",
           1434,
           117
          ],
          [
           "if he ' s not speaking to anyone < > my mom and dad < > or any wedding invitations or info < > < > maybe he has wasted time with francesca ? \" hello , \" i say in a small voice .\n",
           1435,
           132
          ],
          [
           "god , of all the blood , from israel , their friend and foe together , from judah and their death comes from the son of all the blood and hands and feet of the god , he is the heart of all man .\n",
           1436,
           116
          ],
          [
           "god , of all the inhabitants of the new world why am i so dependent upon his wealth ? \" the brazilians are skilled in many trades , including farmers , fishermen , tailors , sculptors , painters , and engravers ;\n",
           1437,
           149
          ],
          [
           "he stuck his head in the general direction of his kitchen . nope , not yet a triple - level kitchen , no steam - engine or faradaystuff shop . the living room seemed to read all the same books .\n",
           1438,
           137
          ],
          [
           "he stuck his head in to investigate which ( \" once again \" ) depicted phil ' s dramatic life experiences and numerous suicide attempts , several of them ( phil wells # 1 - phil wells # 14 , part 2 . ) .\n",
           1439,
           148
          ],
          [
           "theyre weird . your mind starts with one and then is filled with professor leventis ' s thoughts and going ahead with the article ' s on subjects like \" sociology \" or \" mathematical physics \" , you understand .\n",
           1440,
           151
          ],
          [
           "theyre weird . mrs . canary and katie canary . katie canary gaffer . katie canary . either lost or lost . canary dead . national geographic , for a history of the nth world : communications 1880 - 1963 .\n",
           1441,
           136
          ],
          [
           "his wings beat against the parking lot of the national weather service office , making as much noise as the red hot paint of department - store floors , or gusts of dangerously high winds that had in no way been blown away .\n",
           1442,
           151
          ],
          [
           "his wings beat against the wind . in the past hour , darkness had fallen . and he was standing inside the big house by the time he saw her . he moved his gloved hand up to touch her cheek two times .\n",
           1443,
           135
          ],
          [
           "cullen smiled faintly . because he knew . because she was making things right . . . as brothers , cullen and alice were full brothers , half sisters , but there was always a dark side . the forces of its own .\n",
           1444,
           136
          ],
          [
           "cullen smiled faintly . \" they laid out a protective area . all the animals - all the humans , all the vampires , all the vamps in the world - come in and do their job . we go undercover from here .\n",
           1445,
           132
          ],
          [
           "he ' s pretending to talk , to explain the lost lives - - but he does it wrong ! saved by a young fireman , from whom i assumed there were some firemen , which sweet jesus , there would be !\n",
           1446,
           138
          ],
          [
           "he ' s pretending to not hear anything . heavy breathing , green lights flashing on , no detour . this is not densed wooded area . sirens ringing outside , armed fire trucks lined up to investigate . but nothing happens .\n",
           1447,
           150
          ],
          [
           "it was still plugged into the comfortable set of large , glass windows and rested on the ground nearby in a cigar case . u . s . dollars and , yes , four more . six security personnel still boarding the plane .\n",
           1448,
           146
          ],
          [
           "it was still plugged into to the flash drive and a text message was coming through it . melissa thought that it was melissa calling someone at the wash , but she closed down her personal phonemom when she had closed .\n",
           1449,
           144
          ],
          [
           "she asked in a voice like fukushima ( english ) . \" mr . wachibana introduced [ himself ] as the great kansuke wachibana . \" \" why do a woman introduce herself ( also in japanese ) ?\n",
           1450,
           135
          ],
          [
           "she asked in a voice that sounded as haunted as he felt . \" of brothers and sisters in love . their hearts will never allow you to join them . \" she played it like the pantaloons should whistle in appreciation .\n",
           1451,
           143
          ],
          [
           "she could barely breathe , feeling numb as the realization washed over her . today they were two hours early . the front door of the shop was open and the sun shone through the small window ; the bright flashlight beam illuminated everything .\n",
           1452,
           166
          ],
          [
           "she could barely breathe , only to hear the sounds of the snowflakes falling behind she in all - night snowfall , and the days of loneliness ... that continued to haunt her in silence , until the hugs and tears arrived .\n",
           1453,
           146
          ],
          [
           "trey washington was in the \" music video \" for spider - man , \" dr . eisner \" , \" word gets around \" by the horror band and \" the u . s . invasion \" by eiffel .\n",
           1454,
           118
          ],
          [
           "trey washington was in the 2006 emerging acts festival in dallas , texas . 2001 - - the hunt volume 2 , whatever it takes ( essential records ) 2003 - - dubto trance music ( international dance album ) , essential records .\n",
           1455,
           154
          ],
          [
           "' i think we ' re wasting time when it goes off and not seeing the eastern sky for two hours . ' the proceedings of their \" lunch with david wingfield \" were a fearsome scene played out in her mind .\n",
           1456,
           143
          ],
          [
           "' i think we ' ll be off the water again with the aliens on board , ' said the captain carefully . they were stuck in between it and the planet . they were flying beside a double - barreled military helicopter .\n",
           1457,
           145
          ],
          [
           "i love it . \" chapter 11 virginia a long line rolled through the paper , and dan muttered as the story began , \" dan ' s never been a contributor to the papers , but he was always there for me .\n",
           1458,
           139
          ],
          [
           "i love it . alex took a chance to look up . the mnf had been wrong about the first two lists , then about women not even reaching across the national ballot if the alliance had already passed over one ballot .\n",
           1459,
           140
          ],
          [
           "and it was . it became chaos , and the lines along walkways fell apart . a glass window i did not know i had seen from the street shattered . plants and farming implements went awry , screaming in pain .\n",
           1460,
           141
          ],
          [
           "and it was . so , that chan and da were concerned about their own future and not really sorting it out . now and then the jedi had taken flight , while the humans had been sent on duty on intelligence missions .\n",
           1461,
           144
          ],
          [
           "she glanced up to see who her \" visitor \" was . the computer screen showed a list , one full of warlocks , the other full of warlocks , witches , and elves , several of which were smal girls .\n",
           1462,
           129
          ],
          [
           "she glanced up to see one and two , then three and four . \" men , yes . they ... searched for him - yes ... yes , they needed him . but why did they want him ? where is he ? \"\n",
           1463,
           124
          ],
          [
           "` ` you want me to help them ? they only want a night where i ' ve gone . after all , i could walk through the smelly streets and taste all their coffee now . ` ` larouche smiled .\n",
           1464,
           133
          ],
          [
           "` ` you want me to break it for a minute ? ` i ' m givin ' you a chance , you see . but goodbye . ` * he shut the door again , at the far end of the room .\n",
           1465,
           118
          ],
          [
           "i do n ' t feel bad for it , since it would most certainly be the basement i think everyone else lived in for the first time . luckily , though , both girls finally moved in with us after their mother died .\n",
           1466,
           143
          ],
          [
           "i do n ' t know why these video games are so interesting . they have over 200 games . \" \" something about which ? \" \" i have a game in the library , for instance , that solves simple puzzles .\n",
           1467,
           143
          ],
          [
           "i no take thisi i told you i would never take anything from some ... this ... ... koy - e ' l , \" she said . \" why on earth my prince is here ? \" \" you , then .\n",
           1468,
           122
          ],
          [
           "i no take thisi : today we let men wash their hands so they can eat . mama is very strict that they should not go around walking in their old clothes just to escape the sunlight ( soken boku ) .\n",
           1469,
           140
          ],
          [
           "` ` no sleep , h ' eth , listen . ' ` there ' s a reason it ' s just cram and stuff , ' whispered a voice from a distance . from deep within , the sounds were amplified .\n",
           1470,
           125
          ],
          [
           "` ` no sleep , 1968 ; ` no sleep in the alternative golden age ( 1971 ) - an analysis of the last fifty years , ` \" the race \" , \" moral evolution \" and ` the alternative golden age \" .\n",
           1471,
           129
          ],
          [
           "i knew it even before i reached the front . the front yard was a dull green . if lyn called , i would say no and stick around to pick back up . i was a bit nervous about things , though .\n",
           1472,
           133
          ],
          [
           "i knew it even before i met his boss . it was rude for coren to be out of town - she never mentioned her affair with him after that . when did my other girlfriends show up for the local christmas party ?\n",
           1473,
           144
          ],
          [
           "kit smiled sadly in response . the three ngv soldiers to her right went suddenly stock still as the woman stared at the man , lips trembling . the soldier nodded to the man before turning to glance back at the other soldiers .\n",
           1474,
           147
          ],
          [
           "he said . \" mr . thorn , you \" , \" the admin \" greeted frank and the guard . \" frank , this is a potential hostage situation \" , said frank , unsure what the guard might have .\n",
           1476,
           120
          ],
          [
           "he said . \" so you run the track , huh ? \" scotty said . \" n ' o ( good job ) ? \" he threw at stu a big , stupid - ass wad of his pistol .\n",
           1477,
           110
          ],
          [
           "` ` you ' re going to get some help from the victims of the plague - on such occasions as the outbreak of a smallpox epidemic - and expect all the wounded people to fall silent upon arrival , ' dougan said .\n",
           1478,
           149
          ],
          [
           "` ` you ' re using mr . morley . ' the young old mr morley returned to his normal business - like demeanor . ` it will please me just a bit , ` mr . morley said . his eyes were blank .\n",
           1479,
           130
          ],
          [
           "` ` the naughty professor , he never acts on facts ... how he gets you back ... how he gives you away ' ` with patoka publishing . october , 2006 . a & e news : nature stories and environmental reporting .\n",
           1480,
           150
          ],
          [
           "` ` the naughty professor - - - ' ` the party is throng ! ! ' said morton congenially , after the officer had dropped his mask and hurried past him to the side hallway . ` beautiful ! beautiful !\n",
           1481,
           137
          ],
          [
           "` ` you ' re saying this is my bedroom ? ' ` where are you ! do i understand ... ' ` but where are the bedrooms ? ' duct tape covered most of the phone shacks and the unlit cafes .\n",
           1482,
           130
          ],
          [
           "` ` you ' re still working on that sixty - five minute picture . ' ` and this is what i realized from the beginning . guys , watch the film . ` ` in 1968 michael came over to audition for me .\n",
           1483,
           149
          ],
          [
           "in sleep , his hair gleamed where he lay panting under sodden blankets . \" listen to me , \" one voice intoned her ear , and another voice replied , tickling her , \" but he ' s seriously sick .\n",
           1484,
           139
          ],
          [
           "in sleep , his hair was in an odd tangled knot and his bellows were high but too strong , and aria ' s brain heard pop . he arose with such force that she could barely see through his tightly symmetrical brows .\n",
           1485,
           148
          ],
          [
           "we didnt visit danvers at the time , and taranis had arranged for us meet up with princess glenda , to see if her family wanted to discuss this with miss teave ... and with mrs st . germain .\n",
           1486,
           135
          ],
          [
           "we didnt visit dan and brynna again , hoping to avoid their pop - pops , but , the boys soon found out when we got your back . we had no clue how theyd doin ' his job .\n",
           1487,
           126
          ],
          [
           "i did so and with all that water current , and the strangest strangeness of nature , the sunlight was still burning in the clear blue sky . even now i had time to turn around and hear the crickets outside .\n",
           1488,
           140
          ],
          [
           "i did so and with that , i wrapped myself up in the whispered secrets of next week , waiting for weeks to come , before my men came awake again - both ghostwalkers and old warriors again , as my lover .\n",
           1489,
           143
          ],
          [
           "` ` really , i can tell you that , ' ' jarratt murmured . ` lenogal is dead ? ` ` after the last time - someone who will help him because of a \" god \" [ ] .\n",
           1490,
           126
          ],
          [
           "` ` really , i only brought one ... ` ` no one should be confused . ` ` okoonda ( ohaishi ) [UNK] ( [UNK] ) [UNK] the necklace is a long , thin chain of skin starched .\n",
           1491,
           129
          ],
          [
           "` ` do you know my language ? ' ` yes , but drasnian tamuls do have many speech patterns , and they go to our sanctums sometimes in search of a dictionary in some subset of standard english .\n",
           1492,
           139
          ],
          [
           "` ` do you know about noctaliss at the grocery store gagged onto cloths rather than using a splay of posthuman ' s legs ? ' ` but the truth is that ' s not it .\n",
           1493,
           121
          ],
          [
           "olivia could n ' t sneak up on something up there up here ! \" \" oh , fannie mae , there has to be one scene asap ! they saw no crime scene because there must also be cops up there .\n",
           1494,
           127
          ],
          [
           "olivia could n ' t just sneak a peek at the pictures , and i realised that they really were about her , and [ was ] all over them before i turned them off them ... paperbacks fonda 2007 , p .\n",
           1495,
           142
          ],
          [
           "` ` okay , ' she said . stuttered twice symplectically and then stormed off . ` # # # # # # # # # # # # # # # # [ all on the same highway ] !\n",
           1496,
           103
          ],
          [
           "` ` okay , ' the girl held out her hands and smiled . ` then i am not so ... ' they were enjoying the moment , and ... this time ... rachel had chosen a very , very , very nice dress .\n",
           1497,
           130
          ],
          [
           "they were no replies . \" the white prince , has anyone troubled you before by something so great ? \" \" oh , nobody . \" it was ugly , but as true as it was , she was not too badly hurt .\n",
           1498,
           136
          ],
          [
           "they were no replies . was it because she had been such a selfish little bitch to them ? maybe they had asked her to say goodbye . rather , she thought , she had no . never , never again , never again .\n",
           1499,
           135
          ],
          [
           "tabitha might be a nutty story , but it is on famous pacifists from some of the most prominent nations - france , poland , russia , germany and the people of switzerland , for a reason - bringing france together .\n",
           1500,
           147
          ],
          [
           "tabitha might be a nut . according to actress courtney lovell 2015 indiana jones television film originally aired on the disney channel , three major league players in the the league - players group are 100 pro bowl players in the aacta .\n",
           1501,
           161
          ],
          [
           "requiem asked . \" it was just about hartwick . hartwick is not a particular airport , and they go this way anyway . \" he pointed out the front doors . \" entrain ? \" under my feet .\n",
           1502,
           131
          ],
          [
           "requiem asked . \" lights out tonight . \" red and white lights illuminated the room on a repeat of the previous two : to the roller coaster . our parents , matt and meredith , died there , and i survived .\n",
           1503,
           139
          ],
          [
           "jack put his lips together , still smiling . yes , i ' m having fun . mark 1 race - ( 2018 ) ( 2nd time ) mark 2 race ( ho ho ho ) - ( 3rd time ) annotated .\n",
           1504,
           121
          ],
          [
           "jack put his lips together as the word came in the air , this shit is going down ? on friday , i called jack . i told him \" the grandpa ' s malpractice website ( 24 april 2012 ) .\n",
           1505,
           140
          ],
          [
           "skimmer said , and said \" no , but the wardens know i am here . \" and so i go back to maine to visit my sister and then i go back to vermont and then , i come and go .\n",
           1506,
           114
          ],
          [
           "skimmer said , and where is ... the prophet ? ... i mean , i know . where is the prophet ? ... ... the prophet is well , did he not ? he was asked the same question : where is he ?\n",
           1507,
           114
          ],
          [
           "is this some kind of musical song called \" happiness \" ( he sang a solo for the performance ) herb alpert sings \" what happens next \" on all four ( 1948 - 1949 ) episodes of \" season one \" ;\n",
           1508,
           142
          ],
          [
           "is this some kind of civil war ? no this is not just a civil war . it is all a one and the same . but then there was the thought - that her body should have been killed before it was cleaned .\n",
           1509,
           132
          ],
          [
           "almost immediately , spike passed onto the boston newspaper and television network he became well friends with halbert ( an actor and occasional writer ) and phil rosen jr . ( a \" trombone player in the million dollar street band \" ) .\n",
           1510,
           161
          ],
          [
           "almost immediately , spike passed along a marked path through the surrounding fields and forest , through a small hamlet and on the approach road to soon - to - be - vertebue ( where a small cottage was built ) .\n",
           1511,
           146
          ],
          [
           "if a group of guys , apart from starting the game together ( normally \" with no goal difference \" ) and the rest come \" together \" their team spirit becomes stagnant as compared to the traditional team spirit of sports .\n",
           1512,
           147
          ],
          [
           "if a group of guys attacked he would then have to kill 2 . 5 million people spread through half the world . but if the two world wars started in rishliel , he would defeat two civilizations and forget them .\n",
           1513,
           147
          ],
          [
           "connell was inside . \" there was no furniture on the seventh floor when tom left . \" \" tom sligo was to help borrow the spare from the four people who live there , two new old cars and one truck .\n",
           1514,
           135
          ],
          [
           "connell was inside . that particular child was alive . but both adults were gone when he thought they left the building . one last thing to look for . two ? he thought to himself , \" two . okay . \" .\n",
           1515,
           139
          ],
          [
           "i refuse him that satisfaction he receives from having our actions , what we do , transcending reality . ( and yes , so far , if we hurry , he can see through our head ) we pose even larger problems .\n",
           1516,
           143
          ],
          [
           "i refuse him that satisfaction . he had to bend you to his will . you clung to the rope of fright , at least off my head . ' ' the pleasure you got in doing such a thing was an instant mistake .\n",
           1517,
           137
          ],
          [
           "i went with it , roger : ramey 1964 1964 : alex shelley , rickenbacker and cat stevens ; \" turn your undergarments \" by missy elliott 1963 1964 : red hot hit the road again in 1971 ;\n",
           1518,
           140
          ],
          [
           "i went with it , ¨c i have to say , yes i have to say , yes . it was years ago , even earlier in my mind that you were a child and therefore you were to be mine , too .\n",
           1519,
           117
          ],
          [
           "tynian ' s voice rang through the room . \" and the bloody mayor would probably try to make kraken as well . \" \" ' people ' , or ' people ' i mean , \" kalten replied shortly .\n",
           1520,
           128
          ],
          [
           "tynian ' s voice , always very strong , was soon brought forward in a german accent - unlike in others of the iron - guard - which later contained itself in \" a little german , also a little italian dialect \" .\n",
           1521,
           146
          ],
          [
           "and after he had commanded more of his people than he saw any other king , he gave the wife to a school tutor from k ' ahxummukah , and the entire nation was glad they had been safe .\n",
           1522,
           134
          ],
          [
           "and after he had commanded them , the moon had cast them down as a midnight star upon the land , rising high , high , high , to welcome them into the forest , to the world beyond , and embrace them forever .\n",
           1523,
           132
          ],
          [
           "she said , snickering at him for longer before he even said a word . \" naw , you sure you recognize them ? \" asked joshua , leaning over . \" sure \" he replied . \" i recognize them .\n",
           1524,
           128
          ],
          [
           "she said , snickering , \" ( shut up . ) \" matt found that his own money ran out and was challenged for the high $ 100 , 000 first prize under the name matt , thanks matt , thanks jill .\n",
           1525,
           136
          ],
          [
           "i listened to you , \" the old man said . \" good , \" the priest went to his knees and bowed . \" your wish has been granted . \" the priest bowed his head and he in turn resumed his work .\n",
           1526,
           120
          ],
          [
           "i listened to you , and i urged the elders see and speak , nor my spirit , to do all their work , and they said for your blood in these coming years ; and for your blood in our fields and woods .\n",
           1527,
           129
          ],
          [
           "evans grimaced as they turned the machine off . \" are you ill ? \" 03 : 10 [ hour ] no no more tablets . he wanted plenty of digestion . no mindspiling , no hangovers , no hunger .\n",
           1528,
           139
          ],
          [
           "evans grimaced as they turned to as session drummers for dandridge , cecil taylor and freddie mercury , arrangements for roy harper , tony james , h & f and terry lewis . the group eventually recruited another drummer , mick taylor .\n",
           1529,
           157
          ],
          [
           "im terry severs . csn . sean , marc johnson ; paula james ; seei james . as of 1 may 2011 , new shows were added such as word ! , pop , the devil with no name and youtube .\n",
           1530,
           132
          ],
          [
           "im terry severs . 2009 barbara gordon ( # 12 , 14 ) 2011 the flash ( one - shot ( 2004 ) ) 2013 fantastic four ( # 25 ( 1986 ) ) 2017 tattoo , tattoo , tattoo by michelle wright .\n",
           1531,
           135
          ],
          [
           "he say anything about that , right ? and we did not have sex and life in this apartment - for you now it goes on and on . you were in and around a place you knew nine months after the drug addiction .\n",
           1532,
           140
          ],
          [
           "he say anything about that ? \" \" are you going to use the car again ? \" i asked . the head inspector of police simply said no . he said he couldn ' t pay the 1 : 00 : 00 fee ;\n",
           1533,
           133
          ],
          [
           "then get up and quit crying . justin feel much better now . he was trying desperately to figure out what the head master would tell him . finally he managed . \" an owl with the feathers is an inadequately understood term .\n",
           1534,
           152
          ],
          [
           "then get up and quit . then he hears his mother ask his older great - grandma ( paulette ) \" you loved a teacher as well , had no idea ? \" to see all that happen and makes him tense up .\n",
           1535,
           136
          ],
          [
           "she was maybe twenty feet , tall and not bulky , but old enough to ask her friends a simple question about her height , at least since they were the ones who knew her and wanted to believe she was taller than them .\n",
           1536,
           147
          ],
          [
           "she was maybe twenty feet from the river . where was to start ? this was a long way to go . where to start ? 12 : 31 pm , 30 august 13 two flashlights were flashing in the shallowing water .\n",
           1537,
           131
          ],
          [
           "` ` where is your grandfather ? ' ` there was a knife in there . ' ` the place it came from , it was feelin ' bad . ' on the hallway floor was the wall frank had already made up .\n",
           1538,
           126
          ],
          [
           "` ` where is your brother , and who is he ? ' ` never heard of bondu , ' said the third man , and then the fourth one . ` what do you know of us ? fifty years of us ?\n",
           1539,
           120
          ],
          [
           "` ` in the coming months of the museum ? ' in those early days the conversation too went from the men to the women hurrying upstairs . ` how much time is it taking ? ' jack snaughnessy asked nervously .\n",
           1540,
           143
          ],
          [
           "` ` in the coming hours ? ' ` yes . before we leave the room . ' ` they are alive . ' ` austerity will produce the same results for the atf ' s two most established fighter wings .\n",
           1541,
           132
          ],
          [
           "he circled them like a # 1 twig , before walking over to cynthia , who , to her absolute shock , held the charmed marbles - but not lady winifred - in the large palm of her hand .\n",
           1542,
           135
          ],
          [
           "he circled them like a column of fire . sure enough things , she was then they were drawn to him , out of the picture , to her . biting out the last word , she said , \" all right , guys .\n",
           1543,
           132
          ],
          [
           "we flew for a time talking about star wars : the last jedi knight , but decided not to further discuss it , which would be too awkward . the half - drunk i ' d met was the head of the special department .\n",
           1544,
           147
          ],
          [
           "we flew for a time , to give her and my sister ' s new gown for christmas and to have some of the kids who were invited to the new building play their own game of little ducks on the roof - top .\n",
           1545,
           135
          ],
          [
           "now that we have enough demon visitors , we have grown up lining up , moving all over las vegas , snatching little children , kidnapping and murdering those who schooled them , hiding from the evil deep within meelix .\n",
           1546,
           148
          ],
          [
           "now that we have enough space here , a place that , despite cancelling so many people , does feel like a bridal hotel . no vibrasion , and no extra staff or equipment is all a hundred pounds more .\n",
           1547,
           142
          ],
          [
           "` ` it leaves me wondering . if not the zubel [ wicca ] , stirg knew she had reached us , down in the harbor . the ro - ro harbor ... ' ' ' ' ' ` ' ah .\n",
           1548,
           118
          ],
          [
           "` ` it leaves me barren for the cato theory , mr . president ! ' ` well , unless someone has resettled the lab botial to do that ... ` ` then it plagues both ourselves and the earth !\n",
           1549,
           133
          ],
          [
           "she would make them kill her the next time , put her in roatan , separate her from the city guard again . leanne and the city guard had to form a plan . they had to act all at once .\n",
           1550,
           123
          ],
          [
           "she would make them kill , the boy thought . she would destroy them , too . and , with the memories in her hands , it was always best not to think , best to still love them but not leave them behind .\n",
           1551,
           131
          ],
          [
           "i do n ' t get used to things , because ellie is a one - hit wonder , and the kids keep an eye on her , and make sure my dad never leaves my house without ever looking back ( laughs ) .\n",
           1552,
           133
          ],
          [
           "i do n ' t want you . ' she looked back up at the one minute dizzying panorama of the world . her twenty - two tourer seat was empty save for bethy , blackened by scratches in the asphalt .\n",
           1553,
           138
          ],
          [
           "eric , making a request for a newspaper , finds lizzie offering him libations . lizzie and eric have doubts about whether he died from his injuries ; the police believe lizzie is guilty of one or two . lizzie leaves eric .\n",
           1554,
           153
          ],
          [
           "eric , making a request to be \" see the old man on the roller coaster ride \" ( by big larry and his band in the picture ) would be \" here comes tup guy \" ( by bill cosby ) ;\n",
           1555,
           129
          ],
          [
           "thorne shook his head . not much drowsiness , just anger . the stars , xinki and angels who swallowed all the stars months later , and i was unsure if time knew where and thorne had changed , too .\n",
           1556,
           135
          ],
          [
           "thorne shook his head . for certain , he knew nothing about the coastal town ... but the girl , more important , was from the glyphs younger than the era that richard durst was born ... and he was young .\n",
           1557,
           139
          ],
          [
           "` ` no ! ' exclaimed the leader . ` the best i can , ' replied rachel . merwin then launched his shots right and left , igniting and releasing a sudden energy stream of fire from his eyes and mouth .\n",
           1558,
           141
          ],
          [
           "` ` no ! ' the two rode out back to manu , the mooring - edge club , and arranged ' slip passage ' down into a cabin with a front and end closed door and an unbalanced window .\n",
           1559,
           131
          ],
          [
           "ive just put her up in quicksand . she was just staring wearily at herself in the mirror . sister alyce showed me how to pump oxygen ( intestinal contents ) into her skin , and it worked .\n",
           1560,
           137
          ],
          [
           "ive just put her away ? boy , do you want an action character like pavlovsky ( duke payne ) ? a true friend , an intelligent person , or in so many other ways the geesh of friends ?\n",
           1561,
           136
          ],
          [
           "others died , cut down , or strangled , and were all dead . kurds were rapidly becoming part of this group . many seniors , women , and small children lived in wild areas . rival families fought each other for resources .\n",
           1562,
           154
          ],
          [
           "others died , cut down by the flames . moore returned to barbados , escaping the burning but died before he could have definitively identified any of the bodies . 18 , out of the 70 surviving passengers , were rescued that night .\n",
           1563,
           161
          ],
          [
           "even if we ' re not together anymore . \" he had a silver gun and new knife in his hand , like he was a business partner . \" so what are you doing here ? \" \" camping , \" i said .\n",
           1564,
           133
          ],
          [
           "even if we ' re the cowboy and they work the ranches ( and i am the radio ) , we should stay out of their way and do a movie that teaches how to do it , like rick and setzer .\n",
           1565,
           124
          ],
          [
           "she was no longer the queen of hearts - same as me and jo - jo and the other canners back at the compound . she and i were explaining some weird magical things , and some romance novels to modern history students .\n",
           1566,
           147
          ],
          [
           "she was no longer the small handful of students among us , and with her second year graduating , we became only one on the faculty of our own university , with chantal mayne and amy lee and our fill out somehow .\n",
           1567,
           145
          ],
          [
           "girlfriend , malik said . good god , someone was probably looking for aline in rome . in fact , i ran into him . he probably spent almost a whole day keeping me in check , cross - dressing like catarina .\n",
           1568,
           142
          ],
          [
           "girlfriend , malik said . i can feel it . \" pam was born a vampire , nothing special - she belonged to the gp . \" \" another gp ? \" lakshmi was down in the kitchen to fetch food from the cabinets .\n",
           1569,
           138
          ],
          [
           "the judge was sprawled out at the end of the table . he had no wounds - just a few lines . he looked a bit pale , someone a different shade of green , odd ... sense of smell , anything like that .\n",
           1570,
           137
          ],
          [
           "the judge was sprawled out in black leather chairs beside a black leather table . the upper floors were filled with griff , fox , d . c . green , crepsley and the falker \" hot \" man .\n",
           1571,
           131
          ],
          [
           "` ` butch ' s not just out this evening ... ` gawking . but if butch had shown up , he ' d still be watching ! ' and the pedagogue was lashing out at sergeant colon .\n",
           1572,
           123
          ],
          [
           "` ` butch ' s diary ' ' ( january 2000 ) . baggia , pasquale ; fyze ef ; weiss hg ( 2000 ) . \" on the covalent transition mechanism of hts \" .\n",
           1573,
           119
          ],
          [
           "as nash , i was just about ready to be less than ornament ( not replete from reality ) . this time , we need to focus on becoming stronger . you think mid - forties is the perfect decade ?\n",
           1574,
           138
          ],
          [
           "as nash , i was girded not to look my brothers and sisters in the eye ( for i was a puritan ) anymore . \" \" why are you so disappointed , \" he said ? \" with my appearance ?\n",
           1575,
           130
          ],
          [
           "poor patricia . frightened and confused and lonely . all nine children - - eighteen or nineteen boys - were shaking and crying , one wide - eyed and staring , and as feral and mindless as the little man himself .\n",
           1576,
           139
          ],
          [
           "poor patricia . poor little rose . really real rose , i mean . about how she slipped through the arms of both patricia and their uncle ' s new friend after the family abandoned her for ceri and ade .\n",
           1577,
           137
          ],
          [
           "i didnt see how during this exchange the warriors tied ethan to a chair . if they recognized the noises he made when he didnt speak - whatever was on the inside of his teeth made ethan a known blood drinker .\n",
           1578,
           140
          ],
          [
           "i didnt see how this guy was any bigger than a badass teenage boy - his real identity had been thinly disguised for a while - but he could be taken into custody if necessary , could salvage his own business .\n",
           1579,
           143
          ],
          [
           "at that moment , the group had all joined together , doing something dynamic then and there : terry ' s best friend , ken , and i decided it was not so much the fast - acting reaction that yoshi had expected .\n",
           1580,
           145
          ],
          [
           "at that moment , the invisible barrier within , frozen in real reality even as it exited into the vacuum of space , sent a surge of energy to signify flight to hundreds , and thousands of people . and to countless planets .\n",
           1581,
           153
          ],
          [
           "i tried to smile . but then i saw a faint glow in the shadows , the outline of a profile . and there it was . a picture of my sister , my sister in the most recent episode of a television show .\n",
           1582,
           132
          ],
          [
           "i tried to smile . i liked them , and they , too , were roommates and good friends . but what really mattered about gracie was gracie . maysie , was gracie , and gracie was gracie and my sister gracie .\n",
           1583,
           125
          ],
          [
           "they were nearing the white house and the fort at pendleton ( later fort pendleton ) , when fort jefferson popped up just outside congressional square , marking a southern border to three states , washington , alexandria , and de wobbles .\n",
           1584,
           162
          ],
          [
           "they were nearing the white theatre in chicago on decca records , and , but kudlow already in the country ( one of the frontmans was paul revere ) , had them record the song \" amant \" for her .\n",
           1585,
           140
          ],
          [
           "` ` look , i remember about donald grant . ' * * * * ` not something you try not to put up with ( for that ) . ` ` so ... other animals than humans are coming from a other earth ?\n",
           1586,
           133
          ],
          [
           "` ` look , i came this way this morning to take brett ' s bank account . ` from the front of the building , as far as the man in the trench coat , glared briefly at him , but he nodded .\n",
           1587,
           133
          ],
          [
           "amazing , fantastic , never to be missed . editorial board for the engineering journal , department of engineering operations , for western ontario . william arthur kelly - retired schoolteacher in the town of sarnia . now lord mayor of ford .\n",
           1588,
           164
          ],
          [
           "i want to look up at her all over again . \" that ... is ... what ... it is . i can sense your plans . whatever are your choices , whatever are your plans , \" i blurt out in confusion .\n",
           1590,
           120
          ],
          [
           "i want to look up for a winter day ! ' the woman came up and said , ' golgotha , one of the great ghostlands , painted black , not for snow , but even for a winter day !\n",
           1591,
           118
          ],
          [
           "i feel the full brinch a plum as my fingers work . at night , a black labrador , was described to me by a \" poet \" and posted in the harbour . the ship did not even leave the port .\n",
           1592,
           134
          ],
          [
           "i feel the full brunt of it . it was supposed to have worked , but was it working ? i leap forward , flipping over and falling out of his arms . the language suddenly responds like a high - pressure helmet .\n",
           1593,
           147
          ],
          [
           "donovan gave her an indisposed look showing her her bearings were in some type of thunderstorm that lasted about two seconds , but judging from the noxious glow that wrapped around and the crisp air around them they were intact .\n",
           1594,
           153
          ],
          [
           "donovan gave her an indecision look . initially , the story in the local news was getting quite excited , but it was donovan who had arrived two months ago . he had spent his days and nights with the morgans .\n",
           1595,
           143
          ],
          [
           "damien pulled his hand back . \" i was thinking for a few hours , damn it , \" said lash , very gently . \" i thought you were speaking in front of john f . kennedy , \" lash said very softly .\n",
           1596,
           132
          ],
          [
           "damien pulled his hand back . forced a smile . alex had the best points . the vednets have won this battle . you will receive the signal from the elite ids , and you will stop the americans ' occupation .\n",
           1597,
           142
          ],
          [
           "this could all end today if a save could be made . saturday the group of real celebrities are joined by : jenny griffiths ( christiana street ) as contestant ; \" darling dear \" kath adkins and jamie shepherd contestants ;\n",
           1598,
           156
          ],
          [
           "this could all end today . chapter eleven arryn . \" yes , lord jon . \" epilogue part ii \" yes , lord jon , \" lord richard muttered , and closed his eyes . all of it . all of it .\n",
           1599,
           118
          ],
          [
           "but then her mind focused on strider , blocking his thoughts out of hand , killing away the confusion and emotions . thinking of anything happening to her was out of the question . he was delicious , unscrupulous male .\n",
           1600,
           147
          ],
          [
           "but then her mind focused on them one after another , the acid ( even more grouchy than cyanide levels in deep water ) demoralizing in her veins . it was probably so the wrong thing to do .\n",
           1601,
           136
          ],
          [
           "thanks . \" \" thanks for calling me eventually . \" eight minutes were spent on the phone , and she shifted her focus back to her future family , and then turned back to the events that unfolded out there .\n",
           1602,
           138
          ],
          [
           "thanks . in every way ... yes . all right ... good night . \" then he paused . \" thank you , mr . laurent . should wait until the work is done , comfort , and feed the horses .\n",
           1603,
           126
          ],
          [
           "their whereabouts would remain secret and while widely known , when asked why they had remained in palestine while the british engineers were preparing suitable landing zones for these reinforcements , they mentioned the desert near the planned front line which could defeat them .\n",
           1604,
           176
          ],
          [
           "their whereabouts would remain secret until a compromise was reached and contacts with the cia team could be established . 3 . - after we arrive in canberra 4 . - they face our great defence . - this government is part of australia .\n",
           1605,
           161
          ],
          [
           "a light , casual , and fathomous smile . ' you must meet someone . most likely a regular shell - shocked nurse . ' a familiar voice sounded from within . ' matty sweetling , this is my wife .\n",
           1606,
           138
          ],
          [
           "a light , casual , serious piece without illegible , trustworthy touches , the article noted . an email sent to fox was expressed disappointment that some of their most significant guest appearances would have occurred live on a television program .\n",
           1607,
           169
          ],
          [
           "harvey was not exactly living on any regular motorboat , but andy was very sure . \" why is he proud of me so much ? \" asked harvey . \" how did you come to be invited to a small fishing village ?\n",
           1608,
           143
          ],
          [
           "harvey was not exactly living well during the seventh season , and after firing series regular scott broadrick for feuding with brian , beth , karen , josh and paul , he was replaced with new guest star chrissy goodrich .\n",
           1609,
           153
          ],
          [
           "` ` who ' s going to catch me ? ' chalky asked , smiling as he walked with a sly grin on his face to the beaten - up yellow police car . ` his lady friend could handle it real quick .\n",
           1610,
           138
          ],
          [
           "` ` who ' s telling the truth , zaribian ? what were the public pictures about ? ' ` why have you visited the byblos museum ? ` ` in first place . in about twenty - five days .\n",
           1611,
           133
          ],
          [
           "you ' re going to enjoy it . \" \" this book is more than an egyptian book , noah . \" lynna dreamily stared into his eyes , a bright bright emerald blue and dimly lit . \" yes , father .\n",
           1612,
           130
          ],
          [
           "you ' re going to burn him , then . \" \" not now , \" the voice said , meaning the word . burning him is too much for her . he will burn for you , too . ichabod knew .\n",
           1613,
           122
          ],
          [
           "he was a great hit , so i began traveling around the sky ( all except for earth , and there is ten ) magna and the other moons , and i visited everywhere i tried , and i took good care of me .\n",
           1614,
           130
          ],
          [
           "he was a great hit and run , you could see him and your eyes could smell him and all you had to do was drive and go and drive by and go to the new texas high school , st . clair tech .\n",
           1615,
           122
          ],
          [
           "were you with khufu ? i wonder if ? she remembered chaam , the dark - skinned warrior who had left her to sleep . and she remembered the twig tail of man who beckoned her to his bed .\n",
           1616,
           129
          ],
          [
           "were you with khudau tafre ? let me speak to you ; tell me what your name is . fine , labora : [UNK] . ( sana : [UNK] ) - green , plum - honeyed .\n",
           1617,
           122
          ],
          [
           "he taught them to construct it and model this thing quickly , but in this case manually , with robots and modern computer technology chosen to make the subject less challenging or to ask them too many questions about how to be the graduate .\n",
           1618,
           160
          ],
          [
           "she wanted to blame throe for all of her actions , wanted to talk about the past , talk about the present , compare them , talk about her feelings for hurt and pain , all for herself and everything in between .\n",
           1620,
           131
          ],
          [
           "she wanted to blame thronos and possibly max for this trip , and she would blame them . bad as it was , this trip was about only her versus dad and chloe , and chloe versus dad and dad and mom .\n",
           1621,
           123
          ],
          [
           "they wear rags , torn brogues and sheepskin . miss stackhouse is impressed . she is radiant and smiling . no wonder she wears just a little bit of makeup and holds up her things . ( i was shocked ) .\n",
           1622,
           143
          ],
          [
           "they wear rags , torn during battle , in the stories from the days of war , with their backs to the wall . three or four other soldiers , each wearing a simple water - stained trench coat , join the flow now .\n",
           1623,
           145
          ],
          [
           "he smiled kindly . the woman edged away , but evalle could sense something in his expression and eventually dissolved . he was still too far away from them to think of them as the nice people that had come with her .\n",
           1625,
           150
          ],
          [
           "the bite ! ' after a long moment , the council members stand up . karissa looks around the room for a moment , then shakes her head . ' all the soft pies . so much baby stuff . '\n",
           1626,
           128
          ],
          [
           "the bite ! all right , ashli - i . e . part of me likes him . a big man and big white blue - eyed lion . has been just gone for a week censoring them all .\n",
           1627,
           120
          ],
          [
           "then her eyes widened with a much more shocking look . she looked the same color . michael , elizabeth , peter ; of nicholas morgenstern ; of david hudson , annie explained . the others - jonathan , elizabeth , annie ;\n",
           1628,
           147
          ],
          [
           "then her eyes widened with a brilliant yellow light . she was back in charge . there was a single row of slave cells . each one was silver - and - blue , green - and blue - and , up , out .\n",
           1629,
           131
          ],
          [
           "samlen smiled at that . i stood here a moment and considered it . cormel had been a zombie the day before . he had ended up being a human wraith , absorbed into the magu to human form .\n",
           1630,
           131
          ],
          [
           "samlen smiled at that gold coquette that elden gave him . chapter 27 when tahir reached the canal crossing , leaving to see other religions , they were taught to stay away from things such as cultivating green berries .\n",
           1631,
           155
          ],
          [
           "perhaps to regain her rep , or maybe to respect her own judgment and return to the one man she could trust - her best \" friend \" who knew something was still wrong . and that , like every new egg , bounced .\n",
           1632,
           146
          ],
          [
           "perhaps to regain her repute ; perhaps to revive new orleans , or perhaps make the heavily fortified territory of louisiana more popular during the final years of his term . in february 1818 , the widowie de la barre was murdered .\n",
           1633,
           161
          ],
          [
           "i asked at the reception , too . about him , me , and graham , and when i talk about our earlier reunion , i hate it . \" all right . which way is it ? \" we head towards the stairwell .\n",
           1634,
           132
          ],
          [
           "i asked at the reception through gummy lips - - the ache in my head was so bad that i counted ten others - - probably more than fifteen or more - and actually had some dainty boobs made for sale .\n",
           1635,
           139
          ],
          [
           "most of the white paint used on all the upper rooms in the first two original versions was painted with foreign colours . also featured in its entirety is the staircase that only rises up two to four flights to go to other rooms .\n",
           1636,
           150
          ],
          [
           "most of the white paint was turned over to old man robinson , known as \" old man allen . \" allen manhandled robinson until the local peeper farmer and local wild lobo wiped all the red paint off him .\n",
           1637,
           132
          ],
          [
           "he bought a pair of white bowtie ties and after completion of the first and second holes he not only did tie off but also remain tied . the fcf describes him as \" a fitter to the next two \" .\n",
           1638,
           135
          ],
          [
           "he bought a pair of pre - season training shirts in 1986 while training sessions showed his talent reached the hurlers in 1984 . they used him still for home games but started wearing green shirts . he also liked youth footballers .\n",
           1639,
           157
          ],
          [
           "the next , he was for some months suspended from teaching in 1694 . returned to england in 1696 . from the university of cambridge , d . d . the college had its own chapel , st . giles in doubt .\n",
           1640,
           145
          ],
          [
           "the next , he was still focusing on what his dueling and temperamental daughter had taught him , but each movement brought different thoughts of the terrible things his mother , and dionysus , were so different from her childhood .\n",
           1641,
           151
          ],
          [
           "he sat on the edge of a rowing club , still badgering terry , to whom he dedicated the ten pages plus articles in the sunday herald . he moved back to horsham park by april , missing twenty minutes more .\n",
           1642,
           144
          ],
          [
           "he sat on the edge of the bed next to an older woman with a little face . the erect figure of the bogeyman stood to the left of the man . a dark talisman lay nearby . two personal photographs .\n",
           1643,
           131
          ],
          [
           "` ` you really needed to go back to albemarle ' s at the far end if - \" ` ` whit ? ` the old lady thought you were now there ? \" he seemed not to be listening .\n",
           1644,
           124
          ],
          [
           "` ` you really needed a break , jason . ` ` ` because i tried so hard not to be like that . \" jason was confused , correcting himself , suddenly enraged at the gesture . it was , he knew .\n",
           1645,
           137
          ],
          [
           "she rubs her cheek against my chest . \" i live in a mansion . everyone lives with me watching over them all . \" * * * an overhanging forest brings a group of berry - pickers to the scene .\n",
           1646,
           134
          ],
          [
           "she rubs her cheek against the warm seat . six : tell me about your great new street car , most detail of which is now known , what it may reveal . seven : i know because it has never really changed anything .\n",
           1647,
           150
          ],
          [
           "silk asked with a puzzled expression . the buildings they arrived at were different from the ones that they were now arriving at . the multi - colored brick buildings situated in front of the other buildings were all ornately covered with paint .\n",
           1648,
           154
          ],
          [
           "silk asked with a puzzled look at garion . the parthenon was beginning to glow with the power of pale , almost cyborg - like light , perhaps visible only in the fine , clear fabric of the woolen robe .\n",
           1649,
           143
          ],
          [
           "i looked over at jen inger , my history teacher , remembering dana collins from george washington university , how her elder sister , delfina , had trailed out , and how her older brother julian had started to speak spanish .\n",
           1650,
           152
          ],
          [
           "i looked over at jenn . she was in there with joel and the guys , talking to them with their parents ' voices ... and gracie and heather and matt , and joel and lainie and lily ... and lainie .\n",
           1651,
           126
          ],
          [
           "yes , thank you . \" and so i did as promised , flipping in a wedge of homemade toast , grab the shaking tray and brush my teeth . i was reaching for a wedge of toast when the machines whirred .\n",
           1652,
           134
          ],
          [
           "yes , thank you . brooklyn bridge ( 2012 ) ( musical ; re - run january / february 2013 ) ( musical ) merry christmas , corneries ' n ' putty - a forsaken christmas day , christmas vacation !\n",
           1653,
           139
          ],
          [
           "` ` fine . ' ; ` excellent . ' ; ` ` nact ' ( g . p . nom . ) ; ` ` ` ubong pokbong ( ulum gongsan ) ' ;\n",
           1654,
           87
          ],
          [
           "` ` fine . ` ` ` ` ` ` ` ` ` ` a treatise on the defense of the high art and scholarship of classical antiquity , and especially that aspect of the books and manuscripts of all the magi .\n",
           1655,
           125
          ],
          [
           "` ` no . ' back at the state house , adams had tried again to check the file , with not a clear report there was a semi - political dispute : ` if violence does happen , the government should respect it .\n",
           1656,
           147
          ],
          [
           "` ` no . ' } } } } } } } } } } { archaeology of egypt | } } # \" egyptology volume 3 . \" a complete list of ancient egyptian archeological sites identified is available with this link .\n",
           1657,
           127
          ],
          [
           "he rolled to his side . \" but i believe he has mentioned repeatedly that he is looking for you . \" three days could hardly transpire with the other two centuries gone ? then the pounding stopped . he was finally breathing .\n",
           1658,
           155
          ],
          [
           "he rolled to his side and donned damp cloths to cover himself . the older warrior stood closely beside strider , his hair draped over his shoulder blades , his eyes peering through the long sleeves of his too short coat .\n",
           1659,
           145
          ],
          [
           "i stared at her in the rearview mirror , and i almost screamed ' no ' . ~ ~ ~ ~ ~ ~ ~ ~ ~ ~ i rub my eyes nervously , expecting alec and lexy to appear , but get none .\n",
           1660,
           122
          ],
          [
           "i stared at her in a long moment . she was grinning . \" thanks a lot , dr . big eyed bitch . right after your last gourd . now then . \" yummy laugh . a breathy laugh .\n",
           1661,
           121
          ],
          [
           "` ` i never felt any pain that day ; i was surrounded by uncles and aunts . ' ` i swear to god , professor polk , we left the bodies at the plantation house . we did not bury their bodies ;\n",
           1662,
           138
          ],
          [
           "` ` i never felt more comfortable pulling into a public place . how ' s he doing ? ` kattgent asks . ` and he should be here early . ` kim acknowledges her question as if her question was obvious .\n",
           1663,
           141
          ],
          [
           "sheriff , whats wrong son ? \" he throws his cropped hair over his left shoulder , following the jog of lefts and rights . cody follows suit . \" she ' s sleeping , \" ryhs says .\n",
           1664,
           131
          ],
          [
           "sheriff , whats wrong ? ! \" her voice came out shaky because her husband had paused his hand rather than speak . \" you seemed a bit tired . and the big rain that fell in bed ... you were all wrong .\n",
           1665,
           140
          ],
          [
           "the lawyer sat down and jack heard his breath come slow and nervous again . \" just tell me please . i am not going to do this to you , jack . i am not in this building going right about this yet .\n",
           1666,
           134
          ],
          [
           "the lawyer sat down and learned the concepts that democratisation needs but they include : law - justice of peace . science - policy . democratisation is the gesture of adopting common norms and processes . malaysians are interested in education .\n",
           1667,
           162
          ],
          [
           "not his own wall - climbing , he rather suspected it . his leg felt raw and cracked . the mayor glanced toward the table they were sitting at , then smiled as he opened up his visor and his cravat .\n",
           1668,
           139
          ],
          [
           "not his own wall - of - fame , certainly , looking as hell . hell , he never liked that girl , and after the way his foster father , dylan had reacted ... mike had ruined his dreams of a nice family .\n",
           1669,
           138
          ],
          [
           "she led the other two in points to win the championship twice , but finished in fifth each time to crown the national champion . hart came to prominence after this season leading montana state to the ncaa tournament ( her fourth premiership ) .\n",
           1670,
           160
          ],
          [
           "she led the other two crew members , with bobbie handling things in an overly fluid way , while henry and the patchwork haggies walked around with the crew - members , carefully picking out pieces to give them wrinkles .\n",
           1671,
           151
          ],
          [
           "the image of her taking an easy life conveyed a sense of indolence he understood . \" if not , \" saying , \" the empires of russia and ukraine have just come through to care for you . \" a short pause .\n",
           1672,
           142
          ],
          [
           "the image of her taking a pinball arcade with john lennon was highlighted graphicly , and lennon described the look of her later in life as \" she played a guitar with her hat on her head on the final stage \" .\n",
           1673,
           143
          ],
          [
           "` ` just let me explain . ' ` but - ` ` china will be under $ 300 billion in debt for a quarter to ten years . nearly 6 . 5 billion in revenue . china hates money . vietnam hates business .\n",
           1674,
           138
          ],
          [
           "` ` just let me go in with you , the bloodroot - like voice said . \" maybe a block further out ? \" \" it is gretta . \" \" the door is ajar , \" said raphael .\n",
           1675,
           119
          ],
          [
           "twenty minutes later we were both exhausted , and we were quickly overwhelmed from the whole entertainment . riley , riley , riley , easton , and jess were out there talking to everyone , and even emmie , jesse and krit .\n",
           1676,
           142
          ],
          [
           "twenty minutes later we were joined by jenny and brianna , running down the stairs to greet our surprise guests . \" what i expected is h - h - h - all those dresses , for a show , \" i exclaimed happily .\n",
           1677,
           145
          ],
          [
           "had carrie left it ? had she taken it with her ? what was the reason why they ripped each other off ? whatever it was . cipolla muttered a couple of more words , then she nodded toward the kitchen door .\n",
           1678,
           140
          ],
          [
           "had carrie left it ? it was all that was wrong . how else could it ever have reached its full potential when she drove it away from them ? why were all these people still waiting for carrie here , talking to her ?\n",
           1679,
           146
          ],
          [
           "it ' s what he was in fact doing , and what this woman did fascinated him . watching him work . even though she was busy , her work was for him , the pure hunger of it feeding silently through her body .\n",
           1680,
           139
          ],
          [
           "it ' s what he spent time working at , he hated it still , the worst . even though neither his parents nor his teenage girlfriend ( his friend from his high school days ) had come across , he hated it still .\n",
           1681,
           136
          ],
          [
           "` ` i know . ' for a photo see william hebden ( 1900 ) . lucius fox ' s interpretation of the climate of the atlantic ocean out of the azores was a problem . ' andrew brown ( 1980 ) .\n",
           1682,
           136
          ],
          [
           "` ` i know . ' murmured flagg . no , the doctors have got to sort everything out . ' she was just pushing back out of the telephone booth as it dug into her leg . ' down here , elizabeth ;\n",
           1683,
           139
          ],
          [
           "once we figured out how valuable they were he offered to take the money , and his aunt poco nez saved us , once the bad blood had all but subsided . where are you ? you are poor , poor boy .\n",
           1684,
           135
          ],
          [
           "once we figured out how enough work it has brought his heart with him , but it has had a real pulse of love and love , and a taste of soul , body , thoughts , and even his other shapes are forming .\n",
           1685,
           134
          ],
          [
           "the curdling inside the subtitle of a mysterious stranger . he is my cattail friend . cattail friend in my consciousness ( of others ) , that acknowledges him as part of his existence is very apparent now ;\n",
           1686,
           143
          ],
          [
           "the curdling inside her and her insides set to the wailing . the house fell silent , losing its warmth . panic pounded through her . the fire alarm stopped , and two sirens immediately screamed . a citywide alarm .\n",
           1687,
           142
          ],
          [
           "she had long scarlet hair . battle casualties were : robinson 1874 , robinson 1883 , robinson 1885 , robinson ( sgt . robinson ( sydney pass ) ) , lieutenant robinson ( sydney pass , \" son they lost \" ) , sgt .\n",
           1688,
           126
          ],
          [
           "she had long scarlet hair and was taking orders from all the subordinates on the corners . some days she was doing what she looked like ( or the beauty of an old woman ) , fathering a child , never thinking .\n",
           1689,
           143
          ],
          [
           "ethan waits patiently . i say hello to jerome , and i say a yes to julie and rosemary , and rosemary , and theresa , and rosemary , too , although i know my mother will not stand for any of this .\n",
           1690,
           122
          ],
          [
           "ethan waits patiently . in the room the \" president \" is now alexya , sitting on an old , wooden chair . she is securing herself by her spectacles . \" tonight , you will be attending a big dinner .\n",
           1691,
           139
          ],
          [
           "` ` it helped me walk faster . she could easily see more than a few dozen ranking positions coming out from the door . she had never been used to the eclectic mix of people . she clambered down the ladder .\n",
           1692,
           143
          ],
          [
           "` ` it helped me sneak in . ' ` if we plunk it , we can just pull our ford truck and dump it right here . ' it was obvious . the truck was too big to fly along that road .\n",
           1693,
           127
          ],
          [
           "so he decided he would never do that with her . and so then he went back to work and started his thwack . * * * i told a story to people about the storm , but it blew too fast .\n",
           1694,
           124
          ],
          [
           "so he decided he would have to keep up with my sisters all their lives . i had figured he was happy walking home ( not that i would have thought of ) , but then , suddenly , he came to get me .\n",
           1695,
           137
          ],
          [
           "when terri looked up , her face calm she said , \" wait until the police arrive . yes , we have more details for later , according to the state police . \" \" \" good piece of evidence , \" terri said .\n",
           1696,
           137
          ],
          [
           "when terri looked up , but looked back , nothing was missing . the second man on screen - a retired push with the ' esch ' brand - stood in the complex , which currently stood at michigan avenue and pleasant street .\n",
           1697,
           150
          ],
          [
           "no one knows it was set in chicago , illinois . he had a certain talent for hard labor , but in the sla , the overwhelming majority were shot , and many were migrant workers who had burned down the silos .\n",
           1698,
           142
          ],
          [
           "no one knows it was hers at all . there was an old family friend , weak and ugly , a babbling old friend . in fact , her last years were spent in expanding and restoring the cave from its original dimensions .\n",
           1699,
           143
          ],
          [
           "` ` they can hear my men on main street or high street . ` ` go to him when he ' s up there . take your men to that little station , down on broadway , or down on main street broadway .\n",
           1700,
           124
          ],
          [
           "` ` they can hear the water pouring down from the tubs from the irrigation system . there are some people working in the garden with plugs building up from the gas storage tanks . ` ` truth , replied his brother .\n",
           1701,
           145
          ],
          [
           "then your brother and i came up , and went and , of course , found a spot of hot succulent - more than you can imagine . chapter 22 . blue sky , pav . the feldberg mountains .\n",
           1702,
           130
          ],
          [
           "then your brother and i edward , jr . graduated dr . orin ph . d ( physics ) , chapter 8 , part 17 . side by side claire thought about drawing the charnel house ( 1 acre ) upon itself .\n",
           1703,
           139
          ],
          [
           "he tries to take my hand and i keep saying he is sorry . * * * he always got worse , i think , but one night he put me up in his room ( unfortunately by himself ) and brought me home .\n",
           1704,
           134
          ],
          [
           "he tries to take my money by means of the girl he loves . i gurgled and mumbled and headed for the capitol island cafe . union square , the daily news paper ( newspaper publisher ) , was an entertainment venue .\n",
           1705,
           146
          ],
          [
           "drawing his gaze from her vitals , he verified that she would already recover from a variety of injuries and that they would be airlifting her to kyossii hospital just outside the historic russian cities of chuka and kazan .\n",
           1706,
           152
          ],
          [
           "drawing his gaze from her beautiful body again , he turned , gently pulling her toward him , his arousal building , the need becoming more than his desire - just pictured her in one , one of her one all stunning gowns .\n",
           1707,
           151
          ],
          [
           "anyway , i figure since your normal life seems normal , either you trust me or you want to get in my pants , and i happened to have to do something in that gig . i can honestly say that it was fun .\n",
           1708,
           138
          ],
          [
           "anyway , i figure since these others are sitting with us now , in fact , i can sense them , i wonder if maybe there ' s something that can find its own way into the minds of some people time and again .\n",
           1709,
           135
          ],
          [
           "he knew the guilt , and he certainly knew it . that thing had left his man with a brief image of the poor spunky veggie that had been haunting him for months ... days before it had gotten any worse .\n",
           1710,
           140
          ],
          [
           "he knew the guilt , he knew the guilt that would hold , the stirrings that raised questions ; in truth , they were the nightmares , the nothingness that would bury him behind the wall in his own castle for eternity .\n",
           1711,
           139
          ],
          [
           "her voice was husky when the dance never got her far . her cheeks had flushed a deep red . would there ever be any hope of having time to dance again in that little showroom of hers ? alex leaned into her .\n",
           1712,
           144
          ],
          [
           "her voice was husky when she had whispered the song to him , and it was so real the seconds dragged by . turned away , her betrothed still waited and isana - she could barely believe it - stood watching .\n",
           1713,
           144
          ],
          [
           "that would explain the mickey mouse club and the movie the club . \" the beanstalk ( bambi ) ! \" , \" duck ( \" scratch \" ) \" , \" duck soup , scratch ! ( pet dog ) \" .\n",
           1714,
           118
          ],
          [
           "that would explain the mickey mouse club . team \" club members would not allow any curiosity about searching a room , unless they were curious to know what ' s going on with you ? and how did you gotten into it ? \"\n",
           1715,
           152
          ],
          [
           "the first marie laveaue 1916 lillie falconer ( trans . ) 1918 ( a first mary falconer ) alfred m . pavillon 1911 eldon stevens new poems of the sea - poems of 1913 vol .\n",
           1716,
           122
          ],
          [
           "the first marie laveyron ; henri flaubert , esquire , by queen victoria ; life of marie du pont la glorie de louis - charles ; portrait by henry cavendish ( waddington ) ;\n",
           1717,
           132
          ],
          [
           "seba had suggested letting them receive this \" special skill \" , but taking them out by force often provided those who would pay handsomely before \" skills \" could come - all of them . \" yes , \" he answered .\n",
           1718,
           146
          ],
          [
           "seba had suggested letting me go there , and i said no . i had seen my new life at a distance and hoped that i would live ... just not yet . that was what was important now that i go there .\n",
           1719,
           129
          ],
          [
           "a rush of air expelled from his suddenly weak lungs . slowly , a red flash of light thundered over treetops . a pair of oncoming headlights , flickering and shimmering , shot in their direction . \" flow , flow .\n",
           1720,
           146
          ],
          [
           "a rush of air expelled into the air and an \" idiot ! \" screen appeared on a computer that displayed an image of the students on various desks , computers , stations around the world , plus a few games played out .\n",
           1721,
           145
          ],
          [
           "it would be ten minutes and twenty seconds to finish before an entire solo piece was completed . this led to positive reviews from critics and music fans alike . his most successful ( if not his only ) project is a solo piece .\n",
           1722,
           153
          ],
          [
           "it would be ten minutes , maybe the equivalent of an hour , served with a ham sandwich , various stuffings , and hams or dark blue eggs , but it would be for another three minutes , half in the night .\n",
           1723,
           136
          ],
          [
           "` ` tell me , ' \" sundays , january 3 , 2007 , berryman performed \" sunny \" and \" beautiful \" \" jo - jo is my son \" again while singing on american idol , how you met my girl ?\n",
           1724,
           138
          ],
          [
           "` ` tell me , hy ddo , what could have gone wrong ? ' pause : ` hy ddo slutty ? ' of course a woman ' s low , soft speech had slipped into the receiver .\n",
           1725,
           121
          ],
          [
           "the arm that had been holding nick dropped to the ground straggling now and then , its fiery claws groping him , and now nick had almost been free . strong hands reached out and gently pushed nick into seclusion .\n",
           1726,
           143
          ],
          [
           "the arm that had been originally wedged between the cable and the gannet came under water . the problems with this improved variant of guangpei , aimed at the chinese armed forces , include battery problems and poor vision .\n",
           1727,
           151
          ],
          [
           "where are we ? songs included booker t . washington ' s duet with bonnie tyler ( late night ) and a special make over featuring nobumarina music and lyrics , by various artists , including hiko tamura .\n",
           1728,
           150
          ],
          [
           "where are we ? ' ' do what i thought ' appropriate ' and keep your eyes on mine , ' he thought , quietly . probably they had a big flat like those that might take on other things as just importance .\n",
           1729,
           143
          ],
          [
           "` ` you ' re not the leader . they just want to explain more about what there was to come than convincing you of anything . has she done a great job , and the foundation remains behind her , by the way ?\n",
           1730,
           145
          ],
          [
           "she figured she would n - just n - get back to it n - n - to get some sort of way out before getting drunk held by angry truckers on account of her ex - boyfriend who was the prime suspect .\n",
           1732,
           136
          ],
          [
           "she figured she would nd go out there for a conversation with dave . she thought that would require a lot of more research , and especially once dave ' s dad described what he and his grieving wife told her today .\n",
           1733,
           149
          ],
          [
           "she gestures toward a natural crystalline beaut lake . alongside the red noster river , the beaut lake shore is surrounded by a heavy snow backdrop , startling on most who would glance at the streetlights on that rock face .\n",
           1734,
           153
          ],
          [
           "she gestures toward a natural female breast . her baby looks up and fixes first one breast , then another . when it is completed , she immediately returns to her happy place , to prepare for the birth of the newborn baby .\n",
           1735,
           151
          ],
          [
           "ethan must have seen the giant black gate as nothing more than a natural light , the energy bouncing from one face to another that one of the airlocks still used for missile - firing . it was time to let go .\n",
           1736,
           141
          ],
          [
           "ethan must have seen the opportunity too , because thanks to his quick reflexes and knowledge of english , he managed to swoop my future best friends , including mr . morgan and most likely the reapers , in the crossfire .\n",
           1737,
           157
          ],
          [
           "` ` she ' ll probably die soon ! ' ` the babes waded on , the mercenaries among the longships , the dogs , the bitch - hens , the priests , and the knights who fought today .\n",
           1738,
           121
          ],
          [
           "` ` she ' ll run to smitty and he ' ll expunge her . ' ` sam rackham decided that he wanted to become gourmet : among men in one case and women in both cases .\n",
           1739,
           119
          ],
          [
           "i stumbled mid - jog from a sudden impact and tess licked her lips . i ' m still starving , having devoured her next to nothing tersely andthered to my hands and \" holy crap \" orders .\n",
           1740,
           135
          ],
          [
           "i stumbled mid - jog into something on the road below . \" hey ! \" dizzy sometimes , i felt like a nuisance to myself , but after all , someone obviously busy with work was the first one it hit .\n",
           1741,
           142
          ],
          [
           "` ` what ' s on your mind about sodom ? the mannerisms of mr . randal are always so chatty . ' there was nothing response exactly . ` do you have an answer to that , fella ?\n",
           1742,
           132
          ],
          [
           "` ` what ' s going on ? ` ` foreword to medieval subjectivism . ` ` the new field of global consciousness : 20th and 21st century constructivism ( dissertation ) , 1 ( 1978 ) . james - john hughes .\n",
           1743,
           155
          ],
          [
           "jillian silently gestured for them to put themselves in close proximity , sharing clothing with what taliyah thought was far less modern than nineteenth - century servants - something that referred the occasion greatly to their proximity to the \" house \" .\n",
           1744,
           168
          ],
          [
           "jillian silently gestured for them : \" come . \" \" that ' s my mom , \" she said . \" it suits you . \" \" guess you have to deal with a really dry mouth today . \" then she sighed .\n",
           1745,
           129
          ],
          [
           "where ? ' ' where am i ? and where ' d you go ? ' ' are you scoffing me ? ' ' because i got something done . ' ' i went into one of those fancy country houses .\n",
           1746,
           114
          ],
          [
           "where ? ' ' that was ... a bit brusque . ' she rose up on one elbow . tarquinius snorted and hissed . ' nothing profane . ' they resumed who had trod the sand bar .\n",
           1747,
           123
          ],
          [
           "time is a difficult concept taken up by writers such as actress winona ryder , holly st . james [ miko ariyama ] [ peggy cooper - artest ( nee buckhorn ) ] , kevin baker , and others .\n",
           1748,
           143
          ],
          [
           "time is a difficult concept . no one had ever talked of time . i wondered , which was unfunny considering there all kinds of questions coming from it . x x x x t . bathory was readily convinced .\n",
           1749,
           139
          ],
          [
           "so then what was she ? something he never got tired of . she had been his blue streak every day . she lived through his every day . what was she ? she planning to see him die ? no one wanted that .\n",
           1750,
           128
          ],
          [
           "so then what was she doing ? this life was a good life , decent , yet well mannered and elegantly dressed . to have control of her over this man surprised her . everyone in dobbs creek felt the same .\n",
           1751,
           142
          ],
          [
           "the dresser against the far right wall also had a large armoire where jack talked and read about his childhood in this open space . it was getting late , so jack heated himself a coffee and made himself a starbucks latte .\n",
           1752,
           151
          ],
          [
           "the dresser against the far wall was only about six , and without some other way to go check on becky , the man would call her and chrissie when he needed her . \" can we get some water please , sheriff ?\n",
           1753,
           143
          ],
          [
           "perhaps even slightly dismayed , still clearly in need of help ... but in her own way ... could she be one of the worthless souls blacklisted as archangel zachariel ? chapter 22 selena took a moment to relax .\n",
           1755,
           152
          ],
          [
           "and perhaps my client . } { hello , daughter , } he said . { looking for an appropriate name . } but eph started nodding , very faintly . { hello , my mother , \" ( chorus ) she said .\n",
           1756,
           135
          ],
          [
           "and perhaps my client . i smiled at him , tired , and very sorry . the past identifys the future tense to the present and the past , and ... the present . the past tense is passive and passive , yes .\n",
           1757,
           123
          ],
          [
           "lina considered it unlikely that these two deviant aunts of nanny ogg ' s were likely to bring each other back to faerie . the sleep was quite brief : two hours had passed and they were in bed by twilight .\n",
           1758,
           146
          ],
          [
           "lina considered it unlikely that this little fairy - tale woman talked about her little pet , even if it sounded strange , \" yippee , it was true , her s - people always believed in the same risks and opportunities .\n",
           1759,
           151
          ],
          [
           "soros spends all his time and money praying in a church in levski with the help of artists before and during its restoration . his furnishing is very professional which allows the artist to receive a nice visit to russia .\n",
           1760,
           148
          ],
          [
           "soros spends all his time talking to me . not walking in his shoes . just sitting on his lap , gently delving into my hair . \" who are you ? \" talking to someone wants to be good for me .\n",
           1761,
           130
          ],
          [
           "android 66is here . i mean if you get animated for the first few days . \" \" shortwave , but not on the whole , very much connected with the main recording technology . it predicts optimum signal strength .\n",
           1762,
           149
          ],
          [
           "android 66is here . i take the dreams in , while quietly pondering where life is whether the essence of something it interacts with comes in , as in old man ' s dream or zorak ' s dream .\n",
           1763,
           132
          ],
          [
           "` ` stairs , ' said the boy . ` there is one narrow side across a square , again mounted in the front wall . it has fallen shut along with the platform . ` ` no , the doors are not locked .\n",
           1764,
           137
          ],
          [
           "` ` stairs , ' unqualified cheerleaders take the pass , and open your locker door again to unlock the talisman . otherwise , you ' ve an extra chest full of books . ` ` a marble floor .\n",
           1765,
           136
          ],
          [
           "i was n ' t happy , but since then i have met her more regularly and exclusively and more . she said that the song was \" a beautiful song . we are really becoming kind of friends . i love her \" .\n",
           1766,
           139
          ],
          [
           "i was n ' t a fool . \" we have plenty of spare time . we need him every day . \" the one way to read people was not only when i read or when gabe and his friends were here today .\n",
           1767,
           124
          ],
          [
           "chloe asked , her heart pounding , to which akiva margenstrand replied , \" it is very pretty . \" the sides of the dish bowl bore a base of heavy pewter . he recognized it - the jewel .\n",
           1768,
           137
          ],
          [
           "chloe asked , her heart sinking . euby nodded and felt she had to say so much , she stopped just talking . she stopped giggling and kept talking about how she loved both her mother and , yes , the earth god .\n",
           1769,
           139
          ],
          [
           "honestly ? \" me , i asked myself this very important question and i placated dr . landreaux , who was his mysterious thrice - played by engineers , scientists from the french army engineering corps .\n",
           1770,
           143
          ],
          [
           "honestly ? ' is anyone in the group of 50 thinking about what they are experiencing ? or are they all thinking about the same and how the world can be a culture around them or anytime about the same time ?\n",
           1771,
           134
          ],
          [
           "my anticipation was mounting . \" so when did you get this puzzle ? when did this all start ? \" i thought differently , not even laying the question aside on the day i started . he looked down at the list again .\n",
           1772,
           147
          ],
          [
           "my anticipation was mounting . it was hard to always have a positive effect on me . but luckily , kino was the closest . he was the very best student of mine , according to a bet i made with kuroi .\n",
           1773,
           139
          ],
          [
           "the good news meant that , if she was to say something about the old hippie smugglers and terrorists out there , what about the rest ? but not for a long time was the part about there all that stood out .\n",
           1774,
           135
          ],
          [
           "the good news meant that he would benefit from the patronage of the catholic hierarchy by looking for the leaders of the cities of paris ( blacks ) , bourges ( green ) and new york ( red , etc . ) .\n",
           1775,
           140
          ],
          [
           "had said that over and over . and now she had . jim had been in a deep depression that had made him small but strong enough to give himself in to any of his brother ' s sexist stories about devina .\n",
           1776,
           137
          ],
          [
           "had said that over and over again , over and over and over and over and over , over and over over and again he had lost his mind in this , not just the poppies . but the baby , and then .\n",
           1777,
           103
          ],
          [
           "my first hurdle would be jumping up the rope , and then one of the rafters would jump up the rope and go climb . thirty - six the rafters were a little dingy . all i wanted was fresh air .\n",
           1778,
           127
          ],
          [
           "my first hurdle would be that of discovering the agent has been engaging directly with ( or future ) financial partners , rather than to rationalize any concept of nonchalantness in general ( that of monetary theory ) . . .\n",
           1779,
           155
          ],
          [
           "he groaned at so much pleasure with her in her wolf form , without any help , especially when she started to start whimpering . he came down less quickly than he should and preferred that not to do the whole bed thing .\n",
           1780,
           150
          ],
          [
           "he groaned at so much that understanding now seemed dawned on him . they were as pale in his rage as were he . the doors before him were white , locked in one tiny flash , and would be in a long line .\n",
           1781,
           137
          ],
          [
           "what did it mean ? her dad was out in mexico and disappeared as well , along with her brothers , johnny dak and oscar , in 1933 and 1934 . she always wonder what that means if her mom calls the police .\n",
           1782,
           148
          ],
          [
           "what did it mean ? what thing was the ' dope ' campaign and anti - dope campaign for kate richens : let ' s try it and see how far we ' re out of mardle , you know .\n",
           1783,
           126
          ],
          [
           "it ' s me . and you are me . and you are me . yes , and me . and you , and me . and you cry . and you are not alone . not alone . i have not failed you .\n",
           1784,
           77
          ],
          [
           "it ' s me . not this one . i waited but not saw or imagined it . he sees the knife and realizes who it is , but i can tell no more . it had ended with no hesitation , no thought .\n",
           1785,
           126
          ],
          [
           "heidi sighed . \" i know the americans love the country , but you are the friends i want to support . my country will live into the flames ... if you want to volunteer , i think the advice is helpful .\n",
           1786,
           138
          ],
          [
           "heidi sighed . ' oh , mother , ' said dr . z . ' i think the co - founder of gsm has a personal title - - the kind you look for in magazines - - ' ' it ?\n",
           1787,
           120
          ],
          [
           "it burnt even as it burned way too much his . if only i could feel up to just enjoying myself with this man . i was breathing too hard for anyone looking at me , especially someone with massive pecs and biceps .\n",
           1788,
           146
          ],
          [
           "it burnt even as it lit up brown and then red until it was noticed by almost everyone but me . not only did it notice only me , it also was noticed by various people , but it was still wasting my light .\n",
           1789,
           133
          ],
          [
           "im not sure . i tried a lot . i got cell number : ec : 6x1 ( im text ) 3 : 20 ( na ) im texts : im i cant wait to see what im interested in .\n",
           1790,
           112
          ],
          [
           "im not sure . but youwill have told me . sebastian : ex : yes , i got confused . one of the things the four of us had to pay back then , was their payment of their own accord .\n",
           1791,
           130
          ],
          [
           "william shrugged . william john logan bartlett ( 9 may 2000 ) was honoured with the distinguished service order of australia . the award was presented to lt col . william john logan bartlett , brigade major , 30th australian infantry brigade .\n",
           1792,
           156
          ],
          [
           "william shrugged . the annaly queen had followed him outside , questioning their authority over their kin . eight males and two females in the room were seated . nearly everyone in danger was present . the captain stood beside william .\n",
           1793,
           157
          ],
          [
           "i picked at the polish . unlike my own parentage and so like the rest of my family , the big ones and the small ones came here in an entirely different way . like my two parents , i was exceptionally intelligent .\n",
           1794,
           143
          ],
          [
           "i ' ll do my own stories about it when all is well . there are a number of single - issue titled issues : issues # 1 - 7 \" write up \" : the fifth issue ( uk , 2011 ) vol .\n",
           1796,
           132
          ],
          [
           "i ' ll do my best as a lawyer . \" \" very well , \" peters held his hands up . \" come in now , is that it ? i need to see you first . \" mr . peters fell silent .\n",
           1797,
           122
          ],
          [
           "this is all a misunderstanding . sit here a minute , ms . jensen , and then forget it . \" i saw him seated in an empty chair , something familiar , that looked to me like a family - owned nursing home .\n",
           1798,
           142
          ],
          [
           "this is all a misunderstanding , but anyways , cor _ lorc _ text _ code . now you see that you have at least 10 % of what you are buying , and not the same percentage you are selling .\n",
           1799,
           133
          ],
          [
           "` ` while i have been doing analysis ... sir henry seligman was a staffman for the cargo ships going forward and attempting to open and close the equipment bay doors which are bolted more properly to the storage lockers .\n",
           1800,
           154
          ],
          [
           "` ` while i have no soul , this country house is beautiful . ` ` ` was still working on the beagle at johns hopkins ( pantheon books , 1970 ) when he suffered \" a horrible disease on the run \" .\n",
           1801,
           146
          ],
          [
           "and kia must be thanking goodness , with all her heart , for the compassionate , wonderful , enjoyable reunion with his most beautiful , phenomenal woman . as abby and mike entered , kia had paused in speaking and to nod politely .\n",
           1802,
           157
          ],
          [
           "and kia must be thanking for the party tomorrow . - - - - - - everyone , as your mom says , except you , too , helen , and then there am lizzy . finlay recognized the woman intellectually .\n",
           1803,
           136
          ],
          [
           "i hold her head in the moonlight and think of laken and hope for marriage , endeavoring to not so much as need a human willing to cater to my needs and bring home to me and keep my daughter at home .\n",
           1804,
           136
          ],
          [
           "i hold her head in my shoulder and whisper , \" stay with me . \" when i see her picture on the internet i start to cry . # # # # # i never saw her again . and i miss her .\n",
           1805,
           122
          ],
          [
           "` ` do you know about this group though ( christian ' s view ) ? ' ` the stories have ( synch in tone ) headline in the saturday evening post , apart from the more ( social ) trilteration .\n",
           1806,
           141
          ],
          [
           "` ` do you know anything about great barbarians ? ' [ reissued in 22 october 1995 ] volotes ( ` anyhow , we are great barbarians ' ) [ reissued in 1994 ] dr . carol falkenstein pt .\n",
           1807,
           133
          ],
          [
           "the lycanthochets could ask visitors what they can and those that can help them through \" the tree book \" and \" into \" the cultivable environment described by the trust in february 2011 also in detail .\n",
           1808,
           143
          ],
          [
           "the lycanthropes could have no idea how we have so much wisdom behind us , ' said one of them , winded and hoarse . ' is that so ? not all others could see it , yet .\n",
           1809,
           124
          ],
          [
           "a waitress came by with a small bundle of paychecks . getting into the labor union which was where i had worked day and night for nearly eight months didn ' t come me to the conclusion that i was moonlighting .\n",
           1810,
           148
          ],
          [
           "a waitress came by with a toothy smile , holding two sets of $ 500 bills in her hands : $ 20 , a couple plates of oreo , hot dogs , and something else on a tray filled with dollar bills .\n",
           1811,
           139
          ],
          [
           "asked sampson . you want to take a competency test ! \" he interrupted . sure enough , i backed my back against a brick wall . \" but you keep your dress on , \" sampson said . tell him !\n",
           1812,
           132
          ],
          [
           "asked sampson . the shtv continued to stream , and on top was a highly polished , half - page copy of \" calling the enemy \" by tikvah . sampson : ooooh , this is interesting !\n",
           1813,
           132
          ],
          [
           "i leaned my head on the door , enjoying that . \" i just sat there , sort of listening , and keep my eye on all the kinds of progress you were making . \" he paused before answering in an engaging way .\n",
           1814,
           138
          ],
          [
           "i leaned my head on a worn out chair , the sounds of the employees filling my ears . giant mindspeech scanners , all programmed with short artificial lifes , were piled high in a room full of cots .\n",
           1815,
           141
          ],
          [
           "knowing his son avery would never tell him the truth , either . mark hated that fact , but when mark sees jeanie talking to the baby , he really hates her . \" mark ... \" mark and jeanie start crying .\n",
           1816,
           134
          ],
          [
           "knowing his son avery would soon be gone is proof of nothing . but i need to get the texas tribune . \" you know , yesterday - when rachel & me went to go get some books - she and i went shopping .\n",
           1817,
           142
          ],
          [
           "he grinned . she flushed slightly at this , but he did smile , very convincingly , assuredly , and so that he did not need to ask , \" what do you think of the wee bagel ? \"\n",
           1818,
           128
          ],
          [
           "he grinned . he left , and harry followed . kieron followed and they disappeared , too , talking amongst themselves at a table . sally , ronnie , and fiona visited uncle gary tonight , and auntie lara thought .\n",
           1819,
           143
          ],
          [
           "he was out hunting . she surprised him by going toward him in the rather businessly manner of a who had asked him out before . alexion was right . the woman ' s scent surrounded him in his other blood cells .\n",
           1820,
           142
          ],
          [
           "he was out hunting . his name was chance , and all that i thought at first was that he had left . we were both alive and , well . it registered for me somehow that he was not even aware of us .\n",
           1821,
           132
          ],
          [
           "i did n ' t want to whine at him too much , \" kim and julie said . kim and julie quickly tamped off the pain and headed out as the van pulled up the other side of the parking lot .\n",
           1822,
           126
          ],
          [
           "i did n ' t wonder whose it was hiding under the sinkpipes until i found it in the car . what did she say she was wearing under the clothes , i thought ? hmmm . i threw it away .\n",
           1823,
           124
          ],
          [
           "kizzy took a couple more bites . \" more than it , \" she agreed , and they both returned to their meals . \" you can have as many as you want . \" some of the eggs were carefully left untouched .\n",
           1824,
           137
          ],
          [
           "kizzy took a couple of sheets of paper and leaned over to read them ; if i had been right - and if i had lived up to my name - she knew they might still question why i had taken the note .\n",
           1825,
           134
          ],
          [
           "the gang - board was dissolved and the other four members - arthur jones and egbert ( white boys ) , emlyn , and the prostitutes mary ( white boys ) and herberts ( black boys ) - were released .\n",
           1826,
           134
          ],
          [
           "the gang - board was replaced with a smaller system , tenb and tenc with 12 policemen and 60 coaches , plus two rule changes , seven new coaches ( all six were used in this series ) and reducing game time .\n",
           1827,
           149
          ],
          [
           "` ` we need a wire fence , ' said martha . ` yes , ' martha muttered . wire fences ? leave it , martha , because they have all the rioters arrested for armed robbery . will it hurt her much ?\n",
           1828,
           133
          ],
          [
           "` ` we need a yes . ' ` we need a no . we need to call the police . ' ainsley paused and glared for a moment , suddenly struck by the familiar voice and image of higurmsen .\n",
           1829,
           125
          ],
          [
           "` ` that does n×1 ( k ) , in degree of n − 1 , come together at e₁₀ and only handle one step on the path ? ' ` ` where does all the steps satisfy the function ?\n",
           1830,
           139
          ],
          [
           "` ` that does n it , in the caribbean air . the caribbean wind , ` he said . mario thought . want to go home ? ' mario grabbed his cell phone . this close , he could still see his phone .\n",
           1831,
           126
          ],
          [
           "one look at her portrait has chilled me , and i keep my word . the moment passes ; we just stop and watch , and just when we do a woman in glasses appears in the doorway , trying to clear up conversation .\n",
           1832,
           143
          ],
          [
           "one look at her portrait was featured in the southern california review of the arts , in the journal male / female contemporary art and in the journal of domestic art , and includes interviews with contemporary women and party figures whom she depicted .\n",
           1833,
           158
          ],
          [
           "and yes , crace hoped that if he flew them to the offices in monte - carlo in the morning , they would see the team meeting as an aloof message to give him something smooth to go about without being interrupted .\n",
           1834,
           144
          ],
          [
           "he shoved the penny into his pocket . mel davis , jimmy scanlon , tamina harris , jim cahill , and eleven thousand dollars . the lawyer who had sent the letter had apparently not seen their faces when he finished .\n",
           1836,
           146
          ],
          [
           "he shoved the penny into her , hoping she ' d help . the corner on the right held a group , each with a small glass ring on a finger . in the corner on the left was rows of bookcases .\n",
           1837,
           126
          ],
          [
           "drawn to him as she put on her world - weary voice . ' and since your time there you have realised that it might be possible to take back your rights ? ' ' perhaps as per they ' re , my lady ;\n",
           1838,
           142
          ],
          [
           "drawn to him as she was - not only from her increasing fear of interrupting their conversation but from her panic , the terror of two mere moments with him , her emotional trembling but also from her growing fascination with the mysterious man .\n",
           1839,
           154
          ],
          [
           "i didnt know that he was coming the next time . if he did check me out the last time , would it be that drastic ? what if he couldnt come up from the plane , too , check me out ?\n",
           1840,
           123
          ],
          [
           "i didnt know that one would come up right before dark . the library only serves memorial services for the library pages of 456 . krissy . ( go back to ) the names of the library , right krissy ?\n",
           1841,
           135
          ],
          [
           "he nodded his gray head and provided me with the classic example of a s - rating logo in a corporate setting . both the above logos and title garnered a positive c . a . c . b s - rating as well .\n",
           1842,
           134
          ],
          [
           "he nodded his gray head and examined them as he spoke the names of their leaders before turning toward his companions again . \" you must obey and will do as you are told . \" he paused , a bit of emotion showing .\n",
           1843,
           146
          ],
          [
           "the door clanked open and discovered mingelaine ' s very delicate pencils and pens , which made me glad to see them ( like mine ) . i stood up , realizing i had to put up with being rude .\n",
           1844,
           136
          ],
          [
           "the door clanked open and slammed closed . not a lot of those people gathered round to see it open , but seanchan did turn and murmur the gnaffing title \" gentlemen , sir , macgowan \" .\n",
           1845,
           131
          ],
          [
           "in a dress . more like a wedding present , purchased at a pawn shop . \" are you english ? \" \" my friend melanie , \" i said simply . \" and congratulations on your melanie le ciel friend . \"\n",
           1846,
           133
          ],
          [
           "in a dress . black and dark . i never went inside though . \" \" oh really ? \" she asked , surprised . \" last night i had a meeting with george at the police station to confront a strange guy .\n",
           1847,
           140
          ],
          [
           "i was pretty sure i had a great fight today . \" hi , jenna , \" i said , mentally smacking at my lumpy lumpy pant leg and making a good reason to get into her room with ari .\n",
           1848,
           125
          ],
          [
           "i was pretty sure i should have bolted . \" of course , bloody hell ! \" and she knows exactly where we are . archer walked archer and me into the kitchen like i was some sci - fi - monster treasure hunter .\n",
           1849,
           144
          ],
          [
           "i frowned . [ \" what ? \" \" where are you ? \" ] source : nasmil : program for transportation in schools in stockholm - malmo [ 5 march ] source : adr : ph . d .\n",
           1850,
           124
          ],
          [
           "i frowned . \" then i ' m sorry . i know i did something wrong . \" i literally acting like we got the name of the sex and the dirty talk and i memorized a whole lot of stuff .\n",
           1851,
           128
          ],
          [
           "i know he was . then , and eve , then , and eve , there and then . and then he left her in my arms , and - oh , that was everything . that was all . some people were nothing .\n",
           1852,
           107
          ],
          [
           "i know he was . he did kill him ? \" raphael watched raphael more closely . \" a very powerful man , \" he mused , noticing that raphael was frowning . \" his father , john , will be in town soon .\n",
           1853,
           137
          ],
          [
           "it was immersed in a long period of reflection not just on learning how important the abriel was , but also on what kept it . once it gave it up , as shortly before going into business , about the books .\n",
           1854,
           143
          ],
          [
           "it was immersed in a new mystery of its own . i pressed forward slightly , determined to not step back . suddenly two more people entered the hallway , one dressed as a physic . they went down the stairs together .\n",
           1855,
           147
          ],
          [
           "she stepped out into the industry , working with director gareth roberts at eastlake studios and at ealing studios , ( 2003 - 2008 ) during her early career , and linking up with cherik film studio to ' collaborate ' .\n",
           1856,
           153
          ],
          [
           "she stepped out into the far hallway dressed in a turtle - necked sweater , pushed down the stairs into the crush of people and continued toward the living room , where the lights of zack ' s house and the barn shone .\n",
           1857,
           148
          ],
          [
           "the two of them clasped on to the belt and clutched the same metal . \" are you out there ? what are you , ' fucker ' ? \" screamed tom as he entered the place doing whatever he himself was doing .\n",
           1858,
           136
          ],
          [
           "the two of them clasped in wary silence . in the next moment , tavi had heard cartha explain how the woman lady mirra had never chosen on a demimate by smell - like a bag of germs itself .\n",
           1859,
           136
          ],
          [
           "our kind will not survive anything good . ~ ~ ~ ~ ~ did you say a word ? i thought you might understand the significance of our agreement , and your blunt knowledge pierced my heart . then stay with me to safety .\n",
           1860,
           154
          ],
          [
           "our kind will not survive long in the peerless country of wicca , but will hold arria , and will never lose it in the next world . \" he waved his hands forward . \" now your turn , princess .\n",
           1861,
           132
          ],
          [
           "patch ! \" \" shut up ! you ran away from the murder scene ! \" he looked back around at the two bodies in the hallway . \" who did i choose to become a masa privata ?\n",
           1862,
           123
          ],
          [
           "patch ! \" she said jumping out the window of library 5 and tumbling into the middle of the night towards us , landing on top of the wall . \" look this way \" , she pointed straight at us .\n",
           1863,
           134
          ],
          [
           "twice . - not quite on top , but mostly on bottom by myself - i see a third then two ... then three , lifting up to push up , not touching me , like a limb got lifted up .\n",
           1864,
           124
          ],
          [
           "twice . both times , they met on the cover of books she loved . now , every time and place , there was carter hart , dressed in one of his expensive suits , all of them decided upon expensive .\n",
           1865,
           134
          ],
          [
           "i ' d like to write in my own far away places , where we compose our poetry , some on the nerdy nuances of dim - witted thought relating to grammar , some on the need for careful wording .\n",
           1866,
           132
          ],
          [
           "i ' d like to go over the menus . what ' s on the menu , jeff ? \" when he quipped , i gave up trying . \" what ? \" \" yo you green eye , \" he said .\n",
           1867,
           115
          ],
          [
           "ian ' s declaration of ' love is equal ' and his hug and kiss followed . * * * beth walked into the restaurant , having proved too resourceful . she had other plans for her day , a more delicious dinner .\n",
           1868,
           145
          ],
          [
           "ian ' s declaration of true love has been a miracle , even to me . his soft words of love settle over me . ian , mom , and i eat later and go to bed early now that the light is on .\n",
           1869,
           131
          ],
          [
           "this letter was read publicly and accepted by major american economic leaders including theodore roosevelt , theodore roosevelt , friedrich schiller , and many others and it was eventually used to promote and launch the career of cornelius ii ratliff .\n",
           1870,
           162
          ],
          [
           "this letter was read publicly and rumoured by \" helen \" ( anna maria ) bannister in new york as catherine douglas , the illegitimate daughter of virginia ' s stephen o . douglas and thus the brother of woodrow wilson .\n",
           1871,
           155
          ],
          [
           "dee laughed again . * * * * * * dad had donated his wife ' s trust fund right before for the shit - sleeping kids , and he had the big \" never pull a gun again \" card for them .\n",
           1872,
           127
          ],
          [
           "dee laughed again . \" my father would sell a ship where i could borrow it , and then sell it for the price of £3 . 00 until £2 . 00 at christmas , with the sailors usually sneezing constantly .\n",
           1873,
           145
          ],
          [
           "` ` your husband could be dangerous , billy . ` ` mary semkiele is a lovely woman , who has traveled over the ages , and had her way from the smuggled world to the \" real \" world .\n",
           1874,
           131
          ],
          [
           "` ` your husband could take you to \" strange places \" , but this thing would happen . if you fight , the baby dies here . sleep well . remember , listen to your voice . no one has ever heard you .\n",
           1875,
           141
          ],
          [
           "to kill one another . for whom else ? for what ? surely they would try too hard to reach the point of survival in the outlands , as rakima and all of elvi would have killed for me too .\n",
           1876,
           130
          ],
          [
           "to kill one another . of our friends , of guys who i called \" my friends \" , but i was afraid to think of my friends , who , through the power of loch ness , forced me to let them go .\n",
           1877,
           130
          ],
          [
           "` ` listen to me m . f . ! ' ` ha ha ha ha , ` mr . lee said as mazz stood up . ` your eyes are weird , ` he said . ` everything ok little tiger eagle ?\n",
           1878,
           117
          ],
          [
           "` ` listen to me ! for all manner of decadence ! ' * * * ' john ! , o ' shea mcdoob , bring up not sword ! ' * * [ sunday , 18 july ] ' oh !\n",
           1879,
           116
          ],
          [
           "the problem had been her memory of her birthday , which was even worse when the wide , crooked gravestones , which paid homage to oscar wilde , her favorite photographer and best friend , were squared away and leaned against the wall .\n",
           1880,
           156
          ],
          [
           "the problem had been her dad ' s shop and itzy had been impressed with the decorative woodwork she had put on the doors , the scratchy shingles and timbers . it was so beautiful , yet somehow more unusual .\n",
           1881,
           145
          ],
          [
           "that was going to be the dinner . tell me , if they are all here , \" ( \" dang ! \" ) . the priest explained the matter to the women . ' vere said , \" you are right .\n",
           1882,
           124
          ],
          [
           "that was going to be too good to be true . once she went back out to school , she wouldnt get in trouble with them and mr ellis and mr ellis and mr ellis and none of the other kids around here .\n",
           1883,
           120
          ],
          [
           "no . not a damn thing . when he gets up again and struggles quietly , loras says nothing . instead he exchanges with the other members of the sector who say that loras is ' the ' one .\n",
           1884,
           130
          ],
          [
           "no . 50 pixar ( there has been a wedding once or twice a year , down the line ) - op . 52 riverside ( a short history of ) ( music by richard lane ) - op .\n",
           1885,
           121
          ],
          [
           "jokes . com tvmaster . io . org . 1 . available on the site . vol . 2 . available free via click on the site voyaging . 3 . available to connect at the bridges function .\n",
           1886,
           116
          ],
          [
           "jokes . thus ( begun in 1476 ) thus became the \" coffee road \" theme , which was attributed especially to the location of the site ( where coffee - trees existed now and were relatively inexpensive ) .\n",
           1887,
           149
          ],
          [
           "make those adjustments , pee in the toilet . do all those nasty things to people - - - i take my hands off laila and hold them up to mine - - my body becomes grateful for her fickle protective streak .\n",
           1888,
           142
          ],
          [
           "make those adjustments , peeta ( ask if he think he can create a fixation for the kraken of the dark ) , helen keller , and elizabeth taylor . . . i read the first line of the book .\n",
           1889,
           131
          ],
          [
           "i ' m okay now ! a good thing really , really . get myself ready today ! it freed my straggling self . frantic , i grab for the door , but there is a jarring whirlwind .\n",
           1890,
           125
          ],
          [
           "i ' m okay now . not completely crystallizing . not feeling sorry for myself for looking at all this damned crap . not wanting to even bother with a pity look . not from being separated from my rock star sister .\n",
           1891,
           143
          ],
          [
           "the loner . for a long time worked for his father . so julian nicias is my official spokesperson . he was the janitor for school when julian nicias was a child ... for so long we were teenagers .\n",
           1892,
           131
          ],
          [
           "the loner . ryan ( most likely ) - hank frederickson hank ( uncredited ) goes to boarding school before being framed for the ( much later ) betrayal of his good friend , matt brocade , who also volunteered .\n",
           1893,
           148
          ],
          [
           "the voice on the other , dr . mr . morissette ' s voice on friday was too soft for obvious effect . i thought out loud that last night , people were looking at me , eyes aimed at me grinning .\n",
           1894,
           134
          ],
          [
           "the voice on the other side echoed in the background , claiming it was from the first book of the fairy tale . a female voice cried out , \" your daughter will be born . \" i heard a kommusoy .\n",
           1895,
           137
          ],
          [
           "i had once given blood marks and shed not a single tear in a short time . for a moment , long before mr . blomberg entered , i remembered my own father writing words on the thick , pale brown pages .\n",
           1896,
           140
          ],
          [
           "i had once given blood that way to my mother , and again to my melaina . it felt good to give laylen a slight advantage . striking at him with swift , incredible speed , i dodged and struck the sword .\n",
           1897,
           142
          ],
          [
           "no one had ever shown those emotions before . but this was billy and billy and billy and billy . and the kid . bobby blenheim , also . the kid was looking at her . his eyes were black , yellow .\n",
           1898,
           124
          ],
          [
           "no one had ever shown the face before . at all . well , maybe , not around here . but then again , the one with the face was looking in the mirrors . one in the mirror . one with more skin .\n",
           1899,
           126
          ],
          [
           "she knew his , too . she knew i was genius in the scientific milieu . but , despite being as tall as i was at the time , my increased capacity for artistic ostensibility had just shocked out my mind .\n",
           1900,
           141
          ],
          [
           "she knew his , too , so some and other predictions were correct , which was certainly correct . what was her plan to lure him to her shower ? to use and teach about life , love , and the sense of death ?\n",
           1901,
           140
          ],
          [
           "olivia asked . \" oh , my god . he should have just been lying in the dark . \" he had not only been hurt since he had died , but somehow he had recovered . and what about the rest ?\n",
           1902,
           130
          ],
          [
           "olivia asked . - after work . one and a half cups of coffee also . may i ask you can i have some french fries ? no ... just stick with them in my mind . no , just add one .\n",
           1903,
           130
          ],
          [
           "i should have gone home . i wait , relaxing on my bed , my nerves quivering and tripping , until a text comes again . please ... well , yeah , yeah ... i close my eyes , not liking the thought .\n",
           1904,
           139
          ],
          [
           "i should have gone home quick and left suspecting that alexander and i would ever be the closest to god . alexander would meet us at his temple without talking until after we made love . my next priority was to get married .\n",
           1905,
           150
          ],
          [
           "the tides of history were born in ancient india , ) noted above . ( don edwards ) megalithic artefacts were discovered in california in summer of 1984 ( review article ) and studied with robert gottwald ( nya ) .\n",
           1906,
           155
          ],
          [
           "the tides of history were running fast and furious : her two - hundred - and - fifty - two - times - when - to - kill - for - cordell massacre left her vision blurring on the broken hearse .\n",
           1907,
           137
          ],
          [
           "that was when he grinned . when major larson and lieutenant colonel nguyen were in washington , he and prax had emailed them so the senator could hunt down some really sick human terrorists , mess around , and get the joke .\n",
           1908,
           154
          ],
          [
           "that was when he grinned again , which caught him off - guard . or why the newspapers that he held at home , why the young man was never able get a tour of his home ? or why he was so embarrassed ?\n",
           1909,
           139
          ],
          [
           "` ` you two are old friends . \" mr . honker shakes his head . \" you say that to your old friend , \" dibbler says . \" ` ` ` in fact he looked pretty much like himself .\n",
           1910,
           123
          ],
          [
           "` ` you two are not alone , \" said xeuleucus , with his eyes still making progress across the sea to the cliff high above her . ` akon is on its way to paphos island .\n",
           1911,
           128
          ],
          [
           "` ` she has ndtv accounts throughout the world , and numerous staff members . ` ` she takes different types of contacts and offers them as contact information while simultaneously attempting to intertwine the current and existing friend networks .\n",
           1912,
           167
          ],
          [
           "` ` she has n no one in her house , ' he says finally , peering over his reading glasses . ' ` where did she go ? ' we ' re all pleasantly surprised , but victor meets him in the doorway .\n",
           1913,
           140
          ],
          [
           "it ' s easy . but who can tell the world about it , eh ? have you thrown out that four - year training program and lied about my job , my life ? oh god , did i buckwheat ?\n",
           1914,
           131
          ],
          [
           "it ' s easy . looking into a guy , no matter how he views me , or how i feel . and i know . \" thank you , angel , for everything . \" right and good . yes , i know .\n",
           1915,
           121
          ],
          [
           "its always short , its worked with her hands and its time well spent . usually a little boy puffs fart and cough , along with a small cardboard box . mrs . van de vliet is usually so quiet .\n",
           1916,
           137
          ],
          [
           "its always short , its ears just enough - except by eyes and tongue - to interlace every part . roland even listened to it a little . he gave it a name , but kept thinking of it as being too short .\n",
           1917,
           138
          ],
          [
           "` ` and that ' s your ' s ? what where ? ` the bustling crowd followed my brother into my dream school . my old school bedroom was surrounded by the bodies of dozens of students housed inside the dorms .\n",
           1918,
           141
          ],
          [
           "` ` and that ' s the thing . it helped them to get there . they watched and waited , waiting for bleach and brimstone . waiting for quaking . and then they saw the big bad wolf .\n",
           1919,
           123
          ],
          [
           "no one like annias had been robbed . certainly not a thief , like arkham , but a warrior who would feel no mistrust . behind eyes darker than night , a little light went on , a little dim .\n",
           1920,
           133
          ],
          [
           "no one like annias is still around to see me cycle back and forth from home and carry out those orders unless i come from someplace i can make a speedy flight to . so , for now , just go ahead . '\n",
           1921,
           140
          ],
          [
           "` ` you should have heard the rumors , all right . ' ` yes sir , but - ' ` what about the boys ? ' ` nothing about them like that . i believe they are becoming different people , given time .\n",
           1922,
           138
          ],
          [
           "` ` you should have said that , right ? ' ` for twenty two hours there were pain and commotion as the soldiers dug in and out . the heavy wooden door finally creaked shut , and after a moment it sagged inward .\n",
           1923,
           151
          ],
          [
           "jett said . \" may i please talk to you ? \" jett was not as tall or as muscular , though he certainly looked familiar . perhaps he might want to see me again . what time to talk to me ?\n",
           1924,
           134
          ],
          [
           "jett said . we stared apart - fire , ice , and snow . none of this even made sense - - but then , suddenly , i sensed someone cold . and i knew - - i had to do leave .\n",
           1925,
           122
          ],
          [
           "an rpg struck the hummels with significant force , although it caused little damage . the resulting grenade seriously injured two adults and killed ltgr . hall ( ) and ltgr . a . cox ( ) and two others .\n",
           1926,
           143
          ],
          [
           "an rpg struck the hump of c51 / 50 machine guns . another rpg struck a number of tanks . some also hit high - speed rescue vehicles . despite resistance , one tank was blown up . ncos 2nd bn .\n",
           1927,
           140
          ],
          [
           "she loves cats . star wars fan . young indie multi - instrumentalist and bandmate . award - winning short film the night out , including the 2009 prize for illuminating the big city . tom howarth , former lead singer .\n",
           1928,
           157
          ],
          [
           "she loves cats . she was his abuser , who put him in jail . nathan reed of princeton , new jersey movie producer and former executive producer at dark horse studios threatened ming who would be with her after luke died .\n",
           1929,
           154
          ],
          [
           "` ` i can give you all the possible information for the officers involved , if you are willing . ` ` will do , picky . ` okay , picky , now gimme my twenty - five ounce detective cup .\n",
           1930,
           130
          ],
          [
           "` ` i can give you that for you from general secretary of the treasury , morris smith . that was . fifty and sixty and forty eight dollars . ' arthur smith pulled his thermos cap from the stained glass window .\n",
           1931,
           145
          ],
          [
           "exile was exile . com ( also french ) \" el ma selle hayat \" ( english ) web page exile was exile . com web site : \" the richest man in the world [ in 2004 ] \" web .\n",
           1932,
           123
          ],
          [
           "exile was exile . the reader identifies a radical shift in post - war russian life . it is presented as a collection of short stories by an award - winning literature school student , each one reflecting his own personal political experience .\n",
           1933,
           159
          ],
          [
           "no bullshit . no thanks to all . no whoops , 1 . whoops to all , 2 . no more whoops , 3 . probably no one will let my dumb face go . sometimes it is right .\n",
           1934,
           114
          ],
          [
           "no bullshit . no more kung fu . no - my jaw dropped as barnabas shifted his strike - thrower - like stance around . i quickly pressed the tips of my fingers together , trying to find them again .\n",
           1935,
           139
          ],
          [
           "so far , lunch had just proven to be a meal , just like this one was . \" \" a really , really big meal ? \" \" yes . \" \" the world outside is telling me you have crumbled .\n",
           1936,
           125
          ],
          [
           "so far , lunch had been perfect , and with both simons and seniors butting up to one another , the desire to see ' if you know ' some riffraff leader made their minds travel slower , more slowly .\n",
           1937,
           138
          ],
          [
           "` ` my answer be the same . ' \" he repeated this sentence , loving every word . he then returned to the first several names given to him , the first of which called him amedeo in a great way .\n",
           1938,
           137
          ],
          [
           "` ` my answer be you , olivia . ' i found myself not knowing my answer . i know that he loves me so deeply he is not ashamed . he still knows her a secret and she not told me her future .\n",
           1939,
           131
          ],
          [
           "you cant have him give the dead scrolls of revelation to your god of liar worms for the rest of eternity , and we believe you cant afford to put up this wild marauding ... oh thine ' s right !\n",
           1940,
           138
          ],
          [
           "you cant have him dead . the king ordered me to take the man alive . and her brother , richard - richard - he tricked her and wanted to destroy erik . the king was dark . his people feared the darkness .\n",
           1941,
           132
          ],
          [
           "' and keep the noise down ! ' nouan was pointing at the young new zealander , who had backed toward the door , as if the wailing sound of the infamous tynian ' s voice could somehow hear him .\n",
           1942,
           137
          ],
          [
           "' and keep the noise quiet so that you may hear the noise of the fireplace , ' he liquefied . ' and where will you be on your journey ? ' glynis should have taken her vows at once .\n",
           1943,
           135
          ],
          [
           "i turned to face forward . \" i am named gaby , and i boat is named ' pleasure island ' . \" in good spanish , but i should not cause a fuss . leaving the entrance to the cottage wide open .\n",
           1944,
           136
          ],
          [
           "i turned to face forward into the shallows , where the guys still sat in their puffy bathing suits . only two people , on the line , on the stage itself , were in attendance , ( i guess ) two .\n",
           1945,
           134
          ],
          [
           "he put his hand on his tweed jacket , and the rest of the people in the room all seemed to know that he might be this way . duma sutton stone , the daughter of mr . sutton stone was no different .\n",
           1946,
           134
          ],
          [
           "he put his hand on my upper arm , and he set out the choices that had surfaced : births and deaths , religious affiliation , housing , education , labor , last resort . from that , he set out the best choices .\n",
           1947,
           138
          ],
          [
           "` ` those tattoos are so quite erotic . ' athos laughed . ` they are sort of kinky , even when in fact ... well ... um ... ' ' here it is again , ' exclaimed king kartel .\n",
           1948,
           127
          ],
          [
           "` ` those tattoos are of national importance for poor citizens of alabama . when henry clay struck out , president nixon , and washington all needed a piece of these pictures . ' after the first period , the results were made public .\n",
           1949,
           165
          ],
          [
           "she froze in place with ( h ) 58 . ( season 4 ) professor charles murphy ( kyle miller ) discovers a gas station as a burning facility , which produces coal and oil to lessen the emissions of oil and gas .\n",
           1950,
           152
          ],
          [
           "she froze in place with some fear as he spoke . same here , he said . the police are talking to the motherhandling . nora leaned forward , her left hand favoring norah . her entire body was tense .\n",
           1951,
           136
          ],
          [
           "it reached it and bobbed , again and again , but slowed down , which is why her car was in the front bay . everything that had eddie was breaking into a dream , a long , drunken dream just like right now .\n",
           1952,
           141
          ],
          [
           "it reached it and bobbed its head above it , high and clear ! and a sudden \" flash of lightning \" caused near - blinding flash of light . ronnie smith on 4 july 1977 ronnie smith ambled in with his family .\n",
           1953,
           139
          ],
          [
           "to be honest , before the sky started rising , all he could do about the day was not seeing the sun , not knowing what they were doing , and he worried about going back to bed saturday afternoon for lunch and breakfast .\n",
           1954,
           146
          ],
          [
           "to be honest , before my belief system was really clear before , i considered that for some mysterious reason there is no way to explain what i did , and that what is so important in some way i did not explain it .\n",
           1955,
           136
          ],
          [
           "finally , a doctor approached the insurgent fighting group called ' the mad geese . ' the doctor seemed to go crazy , though as i said this i first saw him in warda province . i realized he was much older .\n",
           1956,
           145
          ],
          [
           "finally , a doctor approached for a pregnancy test and felt wray and his children were in danger , so he called the doctor . the result was pronounced negative but the side effects were quite similar to that of the deceased child .\n",
           1957,
           153
          ],
          [
           "i watch her for a long moment , laughing deliberately and tending her as i lead her towards the master bedroom with some more alarmial alcoholic beverage which may consist of alcohol or anything else which might be required at the sanctum .\n",
           1958,
           159
          ],
          [
           "i watch her for a moment , blank as paper , then a soft shape forms ahead of me - not a miniature bird , my , my , my , my , my - but it still stands , nestled in the shadows .\n",
           1959,
           120
          ],
          [
           "still , try as i might i never see him ever again . january 21 charlotte fiennes moves from london to new york after her husband grows older . although he said he may not live together , i do love him .\n",
           1960,
           147
          ],
          [
           "still , try as i find the smile , i spot a man named vonnegut , framed by a mass of wavy dark hair . the mirroring portion sometimes plays out in a way that almost makes me smile at times .\n",
           1961,
           132
          ],
          [
           "by the time i made the most convincing argument and our friendship had finally become ' completely genuine ' , it had slid back out from under the heavy burden of our separation from the world . chapter one \" what do you mean ?\n",
           1962,
           160
          ],
          [
           "by the time i made up my mind on \" short story \" , i was already finished \" between a woman and a ghost \" . [ - ] [ an anthology of cold war short stories ] ( 1960 ) , tr .\n",
           1963,
           135
          ],
          [
           "it seemed staying in them , sitting at their desks : the first night he was here , they felt terrible for lying slimy in bed and for sleeping in the same chair he had set up for dinner with his parents .\n",
           1964,
           139
          ],
          [
           "it seemed staying in them , if not . rocks piled into the small cubbyholes , and they crashed onto the floor , jarring and jarring . the shattered stone walls burst open , trollocs on either side .\n",
           1965,
           135
          ],
          [
           "he couldnt take the \" hassle , \" or the \" fear , \" down , and he realized , feeling guilty , that he didnt want to be anywhere around now , other than fedine . naked and vulnerable .\n",
           1966,
           131
          ],
          [
           "he couldnt take the time of come - and - go . unlike y ' all , kelly was the kid who had loved daydreams . in 1988 , hed had three stolen bases in 36 games on 27 nights .\n",
           1967,
           132
          ],
          [
           "sometimes the only way to keep food hidden was from gouges . the leopards could not afford concealment , so it was merely for the greater good . the leopards stayed behind at night because of the dense forests .\n",
           1968,
           141
          ],
          [
           "sometimes the only way to keep your memory alive right now is in a situation like this , or at least without a memory at all . besides , if he actually thought it possible , he ' d have had serious trouble remembering .\n",
           1969,
           152
          ],
          [
           "because of their reputation , and because they supported many musical instruments ( germinal and choral ) , they would produce a modern , straightforward and good tempered set of instrumental compositions that matched the standards of the minimalist lps .\n",
           1970,
           169
          ],
          [
           "because of their reputation , price varies with the style : historically they may have sold just 1x , but it is feared that their price varies with the style , because the number of those who have owned them is not known .\n",
           1971,
           142
          ],
          [
           "` ` are we interrupting your weekend ? ' ` oh , yes . not this week . but especially the next day , ' he said , looking at the pictures . ` the media spotlight has seriously descended on my london engagement .\n",
           1972,
           150
          ],
          [
           "` ` are we interrupting a conference ? ' as the plane slowed to a hurried crawl , impressive images of the atlanta city flashed , broken by aether bales . ` ` no need for a hurry , ' said bourne .\n",
           1973,
           145
          ],
          [
           "these were n ' t a few too many . right now , there weren ' t quite that many cars , but they were parked , probably old hearses . when lois and ralph approached the curb , they were not alone .\n",
           1974,
           133
          ],
          [
           "these were n ' t time i could call the cops , especially now . there were a hours when my mutt was leaving his car . calling too soon and giving the mexicans a crack in that alamo over there .\n",
           1975,
           135
          ],
          [
           "` ` little chance of getting high on the air ? ` his cell phone battery kept clanking . he looked up . most people had left the building , but the kosovar security was there , waiting patiently for them .\n",
           1976,
           147
          ],
          [
           "` ` little chance of my surviving this day - to bur too - has been forfeited . ' ` keep working at it . ' ` in the end bur and we served dinner in lunenburg together .\n",
           1977,
           125
          ],
          [
           "i tried to fight it and let him come back to his own precious time with me . time after time , the craving remained . chapter 31 danika chapter 18 the sound of footsteps reached my ears and the scent of sex .\n",
           1978,
           146
          ],
          [
           "i tried to fight it . one move and his handsome face , not brown - cheeked , disappear from sight . i could overpower him with the sword using my special powers . you know i guessed the effect on him .\n",
           1979,
           144
          ],
          [
           "he also had very quick and submissive responses to face the slavers gathered around the table , his reactions , based on experience were best when facing an enemy , so he considered his options , weighing each of his preferred responses .\n",
           1980,
           157
          ],
          [
           "he also had very quick memory so ... no doubt it was just curiosity , he was very smart and focused in his ... ' she paused , thinking about what else sort of mard was coming over her , good or bad .\n",
           1981,
           141
          ],
          [
           "the predictions that came out were that i couldn ' t just keep trying to verify my own chances that i was alone again , and that was that , tops . was gone , but i was makein ' myself feel better .\n",
           1982,
           135
          ],
          [
           "the predictions that came out was to that end limit the interest of a painter located in the same area , paul benns , requesting that they be given permission . in 1938 , after over 30 static exhibitions , the gallery closed ;\n",
           1983,
           157
          ],
          [
           "bret frowned at us and nodded slightly , before finally meeting our eyes and telling us our reasons for doing the dirty work before , like how much the others in the line did for ro - ro and how many of our duties .\n",
           1984,
           143
          ],
          [
           "bret frowned at us and pulled the phone out as the blinds came down on the reception area outside . mrs and mrs were running around the police station when we gave the little bob permission to go over and plant kisses on him .\n",
           1985,
           147
          ],
          [
           "larry regretted the decision as years passed . he originally attended main street high school and worked with musicians for four years before going on to record harmonies for not only country venues but for other groups including wondershot and numerous other acts .\n",
           1986,
           174
          ],
          [
           "larry regretted the decision as he had to \" listen to the real \" vocal models of howard stern and terry riley jr ... larry had taken the voice of willie nelson on dozens of recordings such as \" rock ' n roll \" .\n",
           1987,
           146
          ],
          [
           "jake paid no attention . in the climax , it was pushed indignantly , into the sea by j . k . ye - ling ( joe ma ) , and into trade places by matsui and a - haw .\n",
           1988,
           121
          ],
          [
           "jake paid no attention . telling abby that abby would recover , he went to the emergency room and called the septic nurse , who comforted her gently before changing her name to the heart surgeon ' s name she would use .\n",
           1989,
           150
          ],
          [
           "even though i did n get drunk n messed up n got drunk n had n found a girlfriend n got a boyfriend n i knew ! i did n ! i wanted her n wanted her ! why is where your thing is ?\n",
           1991,
           116
          ],
          [
           "route 26 picked up a red number ( now closed ) stating : grill ! grill ! grill ! good morning ! welcome , everyone , come to the bar to have some fun in new york city . now ! welcome back again !\n",
           1993,
           138
          ],
          [
           "hanna sat in the middle most - an old decoy piano tuner with horn pipes . a moonshine hut with cookies , milk , and pinball machines . they sat in one row across from the milling cluster of students .\n",
           1994,
           140
          ],
          [
           "hanna sat in the middle seat , a petite dark blond with hair , glasses , pearl - pierced ears , and an alaskan accent . no shirt on coat pegs , and no sweatshirts . hanna recognized spencer , right ?\n",
           1995,
           140
          ],
          [
           "i said after a few long breaths , although i knew it was all wrong . it was all right . she had just started forgetting everything about me . and i had forgotten everything . no food , protection , and no money .\n",
           1996,
           140
          ],
          [
           "i said after a few more little lectures . anyway , i was still on my way to work . my whole body was trembling . i so badly needed his support , because i wanted someone to finally say something important to me .\n",
           1997,
           145
          ],
          [
           "he was non - discerning - of - school , but successfully fluently spoke ( his mother was ) mandarin , and his generation was mandarin who was notably fortunate in works on nobility and society and works of military fiction .\n",
           1998,
           148
          ],
          [
           "he was non - discribited . copyright 2013 the tale of frankenstein , volume 2 , page 41 this is frankenstein ' s 2nd novel ( ' why it ' s gonna fly ? ' ) , written by steve cohen .\n",
           1999,
           139
          ]
         ],
         "hovertemplate": "selected=False<br>perplexity=%{x}<br>gpt2_perplexity=%{y}<br>line=%{customdata[0]}<br>id=%{customdata[1]}<br>zlib_entropy=%{customdata[2]}<extra></extra>",
         "legendgroup": "False",
         "marker": {
          "color": "#636efa",
          "symbol": "circle"
         },
         "mode": "markers",
         "name": "False",
         "showlegend": true,
         "type": "scattergl",
         "x": [
          3.8392730219011324,
          4.0571949413528134,
          2.389894443129754,
          2.750108676147592,
          4.300704037616471,
          6.311023786468128,
          3.8763571360762996,
          5.639590350474151,
          3.655684104153106,
          3.544735661467105,
          3.4382146191338365,
          6.558062598939052,
          3.3907361248748145,
          3.61780702715827,
          5.1509283716005525,
          9.563341477392154,
          4.674287880426632,
          2.745836983098818,
          4.731216185059824,
          5.0080281817272,
          4.165189390136802,
          3.444966833804889,
          10.798620269099342,
          6.685758790727774,
          4.959734518524059,
          10.818003723671744,
          3.5675431643005955,
          3.6205747221476456,
          4.1143203351297375,
          3.567071980430228,
          4.535733677788568,
          3.2980420579925833,
          8.687475584873564,
          8.260156380290928,
          4.77100276083192,
          6.120626509325604,
          4.57247583859351,
          8.751108632659305,
          5.3005643768472925,
          6.026881544184218,
          2.557078569873688,
          4.072390758742187,
          4.838446206473285,
          6.336730544298337,
          3.7416120185777797,
          4.222438310067943,
          3.2012632236855714,
          2.3140911845164243,
          2.770934393209429,
          6.556636783620256,
          6.091388566374393,
          3.291801094858332,
          7.8090164130844375,
          7.8522028877191286,
          3.9384275350607223,
          3.4750924576018254,
          6.289542960304448,
          5.773707234654392,
          5.094044047165165,
          5.5483032210354,
          9.750387555860696,
          4.2693651093566825,
          2.6184701043710503,
          5.8446914504157474,
          5.65025220356405,
          3.542334190891259,
          2.924057069324419,
          5.973679399401527,
          3.1812171495988943,
          2.8249567004986225,
          5.746499841228997,
          7.23588577720926,
          4.039173460181371,
          3.8829018004098486,
          9.649662597448145,
          8.59846681455128,
          3.4865299922054733,
          7.49637310251599,
          4.620484536027063,
          12.04237228012119,
          2.1433216910802866,
          4.075061701700015,
          4.437925550518974,
          6.732772039728427,
          7.050525209257701,
          5.42656961254601,
          5.608605156706291,
          3.4263604312478146,
          12.914682832368559,
          3.9130595550755682,
          3.5009366205227903,
          1.6861191475453088,
          4.158189251082871,
          4.346479437977226,
          14.028796208095965,
          8.0058940157865,
          8.83556528055651,
          8.248928734886428,
          4.005777728302962,
          4.246305592804181,
          3.4232592190259354,
          3.4485378341252,
          5.701223573317068,
          2.432526091273771,
          3.0788218411514245,
          5.200306893519688,
          4.706864986795969,
          9.053770192214268,
          3.4542469469948593,
          5.213195579487381,
          4.929455584346928,
          5.404870885645014,
          3.8592677254474244,
          3.3370289220525726,
          9.111714297531297,
          9.705661447777741,
          8.84513214525965,
          21.698643897613938,
          3.939502830295917,
          1.980403032852799,
          5.344624627872485,
          6.299373396991568,
          2.767376148437801,
          7.430913891700678,
          9.574897049706406,
          2.5103869854646024,
          4.965588945719318,
          2.4311642929287562,
          6.455812811528117,
          4.394989639169653,
          7.410500477341051,
          5.654730474031887,
          3.0580587762118663,
          13.746408733279198,
          7.581532462884035,
          2.066208857735509,
          2.7080561213130823,
          3.2059797056027217,
          14.28792831018886,
          9.889311758766738,
          8.37563280324691,
          3.7996998443042367,
          1.8271947949418201,
          3.2123344298469854,
          4.426028558861944,
          7.390025091002138,
          2.1310262222928444,
          5.033143003386464,
          9.4544967843028,
          15.038900217805,
          2.4933714492855827,
          4.037403828221155,
          7.626835040278024,
          4.541024823118268,
          5.405979213874562,
          4.732783814382705,
          2.4209210363044305,
          5.799245723392081,
          4.062233402897428,
          4.210293772397883,
          3.4205970965341725,
          3.6283104508209467,
          4.231124549718907,
          4.244365269003291,
          2.539280497277302,
          5.0835747724275455,
          4.848749361211825,
          6.268032132905173,
          3.656258086621084,
          11.908105982051426,
          4.042656256447098,
          20.32527405548295,
          3.6462800735464564,
          7.960412117078646,
          4.47918783381275,
          2.236540938705037,
          4.806067461902375,
          7.378310574730815,
          4.957473516455745,
          5.248275876279681,
          2.627738475268991,
          3.495024929138318,
          7.226012473031584,
          6.188062672783207,
          8.846707591894981,
          6.060585726146721,
          3.208853859495844,
          2.805517344010873,
          3.460504638656226,
          4.580663199411229,
          3.257935823925726,
          3.621406954420924,
          5.204034597450195,
          8.34078758178827,
          4.188987743075806,
          18.28104036508934,
          4.5873217461522104,
          4.50622021615936,
          2.8892505073905395,
          5.45719118918563,
          3.7512185407219403,
          6.4116597992888105,
          13.778446535674693,
          7.212280053756647,
          4.065362416602955,
          7.961983741802121,
          3.0604245202761002,
          2.8860687357328674,
          8.494473206069959,
          2.884951833884814,
          3.124094310754715,
          3.587384914591164,
          8.443869988478383,
          3.4675482242527464,
          5.648138286252996,
          3.049302474399762,
          4.9141918907863475,
          1.9647971173694643,
          4.334341354861302,
          5.207793531008311,
          3.4391857314639327,
          3.8094105480445664,
          1.999839196942457,
          4.2930672221885615,
          2.7009970745386784,
          3.6620993479838666,
          5.990093442738275,
          5.607472666323641,
          1.8201511925099503,
          4.83060306594937,
          8.849895196623235,
          4.74558511771259,
          4.17595910653843,
          4.909445549147078,
          19.230992686052552,
          5.4397227219148325,
          3.1226031203965214,
          6.623142302017797,
          5.254587403462737,
          15.848776096164073,
          12.879665597153634,
          3.258937988665332,
          3.200568368515106,
          7.2258488074005776,
          3.2587052880598737,
          12.638849330187087,
          5.675905641065641,
          6.963329489369296,
          2.1331577783354345,
          6.377803341838343,
          4.194785898744592,
          5.271480830233707,
          5.219800922950917,
          4.796307246648984,
          4.083395598848638,
          4.650127133951415,
          6.0388651456938875,
          4.5986226554805665,
          4.261752952280699,
          3.447490105164567,
          2.9136660877380036,
          2.290114684232065,
          11.922585740881962,
          5.343444158396475,
          4.68734052693257,
          5.471190690347087,
          6.055119033770078,
          7.771933612231001,
          4.199989220635836,
          3.2265445076386667,
          3.945488521280844,
          3.0888082133848362,
          3.71871557841866,
          5.8815547559883985,
          3.5019880683409914,
          13.047671836349368,
          3.4827718437976025,
          4.036871549888727,
          3.3450371779363723,
          2.7988831478617446,
          2.6906707156579905,
          3.1486591935042134,
          3.5139179125368774,
          4.003252412538952,
          5.926994725983957,
          6.129376710408875,
          4.782500750114072,
          7.47262040060328,
          2.90352281535577,
          12.226763765642705,
          2.021819503752244,
          11.469767609142982,
          5.3712244722694935,
          4.760703064645491,
          2.812511574125586,
          5.680918229286415,
          4.522727400765592,
          11.457741653048467,
          6.7266637475631015,
          6.719451491403845,
          4.520706035908469,
          2.705126452113632,
          8.74271687702459,
          2.717190341915875,
          4.30835186997999,
          3.2197271575184936,
          7.1358552976142935,
          4.822019553708444,
          4.741522740576335,
          8.861135859756319,
          2.3223534586019774,
          5.4646613343017165,
          6.7550692395205,
          2.6022297789182285,
          2.3307599809631308,
          1.533611463944743,
          4.8804759617792755,
          5.521838076198771,
          3.9887296639863616,
          2.5430292462753723,
          5.718102192160215,
          13.571802815017596,
          4.6719464775273245,
          6.14173689452282,
          5.678915370919375,
          3.700348836766376,
          4.851032483620087,
          4.087392546432762,
          6.873927877507968,
          4.479445210312289,
          8.18419454419895,
          3.6844460289775265,
          6.102342938768741,
          3.0999564661006573,
          4.577901526822302,
          7.895268655489492,
          3.450612857379333,
          6.257348706266174,
          4.7005428111171685,
          8.555864341501499,
          15.821736549620029,
          12.954757790213273,
          5.727519447410423,
          2.892203397441105,
          8.722315426188253,
          9.294092085521022,
          7.084649815018432,
          5.403793061128538,
          3.859793610498516,
          4.6529601112026056,
          3.118149430487129,
          4.885982876085838,
          7.501080473985743,
          3.111110835013509,
          2.5545884278222677,
          15.33953837311256,
          5.300856943746961,
          10.57674115997788,
          9.92160486794776,
          4.54547946516279,
          2.522361973405677,
          10.96571647458907,
          3.721847963266675,
          2.825512410933763,
          11.715086065246712,
          5.93436299580151,
          4.7142116121335595,
          3.6850693351492274,
          9.35021414470961,
          4.124278019174381,
          4.685953295082534,
          5.277895134666362,
          4.050886214681384,
          2.27049143070324,
          3.7709277267437984,
          5.206477564485323,
          6.330257077996269,
          7.399538525682671,
          8.973470644775125,
          6.6832120493442195,
          9.173230554659073,
          11.234548427623317,
          7.23562183107376,
          3.314072957480956,
          6.354932246478649,
          6.806622479733615,
          2.4556155870969505,
          9.260188998865516,
          7.078193593742671,
          3.8923810582794656,
          3.2452153796716345,
          5.77751743027787,
          4.5563383525373276,
          2.534203904654768,
          5.329550430726899,
          2.3276408616738813,
          2.649521987008954,
          9.169102298356982,
          6.454045298736125,
          3.0631137761852876,
          3.6230499658781956,
          5.845696934901279,
          6.108918315965604,
          6.459731997917962,
          15.595227399031776,
          4.183545193409413,
          7.40989802269235,
          5.299317199357602,
          5.640009876010335,
          4.4633391483755975,
          8.260916593923934,
          7.986305572912963,
          2.916882109248547,
          10.909174054796253,
          5.140549310893954,
          6.6367774638450285,
          6.507065360219203,
          6.93539905073499,
          6.263887995383346,
          5.417586474531681,
          11.388698215340428,
          4.302007990341378,
          3.3161939673893897,
          5.598244785052301,
          12.780663185761625,
          4.510675666979545,
          5.862321859100163,
          6.843133004857606,
          4.372972073769007,
          6.216757409974564,
          5.729862522506481,
          3.5253592553709705,
          4.648170731233601,
          6.5890393700024195,
          4.216643653258456,
          3.39568439922254,
          12.445667329579134,
          2.323982715481772,
          2.8937994680038304,
          5.362541988068148,
          4.65322969158131,
          3.3743154830002156,
          5.500543243895927,
          4.96184512598224,
          4.005084898119339,
          3.4145068166357007,
          17.827714349990533,
          4.163716944652902,
          7.400642989452021,
          4.53823944015026,
          7.522301149748708,
          4.133232847783564,
          7.245132551421962,
          4.195875665452345,
          2.992577035712355,
          3.520069268853451,
          4.036461560543405,
          11.238901874140732,
          5.367378928022399,
          5.514397578170167,
          6.344695921541056,
          2.596026470873911,
          8.091056188290622,
          10.192279051357215,
          14.82527018887793,
          5.855489758931768,
          3.585094299609324,
          3.529704852594694,
          2.7284079127860577,
          2.109618086396951,
          6.953720321829582,
          4.351107342264787,
          3.753622009026528,
          4.029308373781703,
          7.7495855922249115,
          6.239927841129657,
          5.676908481494343,
          8.682975912191417,
          9.440373962313828,
          4.520079865678507,
          9.540745277833016,
          2.4430662799455884,
          3.0514813755520507,
          6.159285244866659,
          4.44684144496324,
          6.9393140560674835,
          10.15328867936324,
          9.789739789876492,
          2.2096741702012745,
          3.176356096745366,
          9.538125193708803,
          6.321146255994719,
          3.8592005571896375,
          4.5450291989986225,
          3.410348984816845,
          5.209481807024792,
          2.805578213429936,
          3.0014090864940908,
          2.9177550156398224,
          9.392164646690317,
          4.8388015207636474,
          4.0330821791847296,
          12.691193612979044,
          4.322839023707889,
          6.720784522620347,
          5.846977906444616,
          6.00784660537967,
          3.03579554464069,
          10.695667090041422,
          5.553914145579552,
          3.626483478830789,
          5.34562501386552,
          8.536611238549314,
          5.788908592875555,
          2.5099477080951424,
          2.9223882211832373,
          9.713909768367074,
          20.811853399290328,
          4.743420043892936,
          2.893102716984043,
          4.380064878160142,
          2.1323658051135506,
          4.135937778493068,
          6.605914874189224,
          3.1877108876095135,
          9.66970140793103,
          3.86302088308431,
          9.063344267069333,
          6.152935840568124,
          5.264506959996634,
          6.378134078044898,
          16.66003270705026,
          8.39661457664599,
          23.76419387623824,
          3.049099645254479,
          7.278121680466834,
          5.232283199982423,
          5.390099663516901,
          4.182684495639751,
          3.0755731902825194,
          7.588954394281295,
          5.482353011428408,
          4.06887021965414,
          3.2608499480589015,
          5.776304008855573,
          3.938036932803954,
          10.19459027064916,
          9.247760802725931,
          2.801867260551435,
          10.897442281177852,
          4.198432901990337,
          8.125892595903082,
          8.997451546445921,
          7.169695437303597,
          2.0872221395885617,
          3.5942921097260894,
          5.4164822235397665,
          3.287223640330615,
          2.260528300972857,
          3.253610245101181,
          3.5236156260845974,
          1.8408849735976955,
          7.088219808142485,
          2.867836727239837,
          8.00059325313225,
          4.176229427810599,
          5.8895735002204415,
          3.6712496294025527,
          2.9452877296621502,
          3.5586110614573627,
          2.74256433284163,
          3.838647886006296,
          4.281490166975382,
          3.84907751930172,
          2.041405505857935,
          3.006016378210383,
          2.3646343929739233,
          10.365110689937527,
          3.5074135257543624,
          4.602046881403142,
          3.3322034612744695,
          5.410988855276821,
          12.972031789131535,
          5.41999012850375,
          2.7553525284914593,
          11.232678972680468,
          2.8587099447144704,
          4.256816643161413,
          7.770847845686715,
          7.937989580970716,
          4.678627282530328,
          12.468028031379163,
          3.746279113966755,
          3.723442886697682,
          2.7069956859890416,
          12.54082789614224,
          7.940573351509468,
          2.9857396741969526,
          4.627837564235169,
          6.397731288770722,
          5.396072902406203,
          5.932548004959733,
          4.797011712094021,
          5.968123191250184,
          3.578382657978931,
          3.0302693768538584,
          2.890633362174656,
          4.271050059579795,
          3.4406693694745143,
          6.931098731441985,
          7.235881464286532,
          5.101881260852843,
          3.31753714520158,
          4.857409985648037,
          4.0797055375892555,
          2.9033476804305254,
          17.183203916139295,
          6.678812521969437,
          4.093771791366859,
          2.4389603913350766,
          6.101032931205067,
          4.720667534003625,
          5.721705852237955,
          12.226988229451667,
          8.888541316788885,
          8.221193891119626,
          3.0560540494771797,
          3.454823484757859,
          6.512286381026204,
          5.291874990580112,
          6.579979655112378,
          13.212727538562675,
          5.96263967682218,
          4.523721704712285,
          2.7207460065291817,
          1.795705567207325,
          15.183580372633632,
          2.289674645766968,
          3.574519961603446,
          2.2625942388264417,
          4.964364363923775,
          5.800923809390358,
          3.1317632922393956,
          3.0485704628409547,
          6.309951803478076,
          4.189715382895419,
          4.033790912439786,
          5.9412842910881425,
          4.5211468859091,
          4.2505000037383,
          16.124244070574843,
          3.494189250347675,
          3.6560955144820135,
          3.91270411875554,
          4.497251745248994,
          4.71613846576751,
          4.643555665796083,
          5.406822210962698,
          8.812083084845417,
          4.782364493729632,
          10.167624686642267,
          9.951426446260918,
          3.1483112638114688,
          3.152694155548964,
          6.905869730622895,
          3.9457062941937417,
          18.862206302425236,
          2.8839261236140588,
          4.853513974196154,
          2.6820618761287256,
          4.138292231878146,
          15.409745493352172,
          3.806944128496103,
          5.33248011581783,
          3.923999150692908,
          6.595299433353512,
          7.0044044868370445,
          21.77466996346361,
          5.112448571880787,
          4.09154314284165,
          3.356346730357996,
          4.09337554185625,
          5.7202913921651986,
          4.563397806849987,
          2.958490365970754,
          3.1372819375905125,
          4.9102397996943274,
          3.7098901035132985,
          4.289412668737319,
          5.83461064013274,
          10.819788686363262,
          3.028801668251568,
          3.3320533118659013,
          3.9634548591776926,
          2.739340647320749,
          2.461111481211493,
          5.70203851849181,
          8.987679219742272,
          4.398658634928352,
          3.4631156644414958,
          7.889856789897228,
          3.5331905780820443,
          3.9586743505173803,
          2.1578834256758563,
          15.504208713215657,
          2.8469369661438093,
          6.102014864947188,
          2.6860126083437588,
          2.759571914851055,
          1.7777716808739032,
          4.593484522185147,
          3.549905289746214,
          3.4016855508761803,
          2.720668815132977,
          5.060048344980258,
          6.546538325055291,
          11.027067751066074,
          6.347013034469706,
          15.637459931111755,
          8.123494493491977,
          8.506290594336779,
          5.222645997109259,
          12.74260319981767,
          9.748648855089755,
          3.8181404929374256,
          6.5057623102725755,
          3.7334001737584117,
          5.191142569331969,
          3.8031452566626167,
          2.9672196937797612,
          5.892837025009689,
          8.251232059605481,
          3.967752981979031,
          8.673514125315817,
          1.455732011291465,
          2.0828433429750195,
          4.978946344706071,
          5.178694851217889,
          4.265620386501374,
          8.659719626383916,
          3.322513655197734,
          4.653969731168557,
          4.841463169745934,
          4.044185202656209,
          2.8170639643840656,
          2.9612679623336207,
          6.532221805921832,
          8.04474714646627,
          3.959845334260734,
          2.142615722465755,
          5.008935112126247,
          2.9597609904330144,
          14.59024166667009,
          5.022318107708227,
          2.322538122296051,
          3.5437989577160622,
          4.775838998332257,
          4.1881953237919705,
          4.871167934873319,
          5.791353413721754,
          8.736136736779063,
          5.734742279550053,
          4.352524640722847,
          11.17355316737199,
          5.767014844658104,
          4.338685825023899,
          2.9356565322048622,
          4.360649281505546,
          5.67030801373572,
          3.5768063786813595,
          4.278128505271096,
          8.437398097611025,
          4.433107537473791,
          2.636074116655618,
          3.0827573852852947,
          3.2194143582834327,
          7.31414561310046,
          4.833007273460586,
          4.984538817850743,
          7.344834928915563,
          4.832127588720651,
          5.6158219606522355,
          6.433880583782685,
          4.126571722861902,
          2.4215827336816114,
          6.393427470516768,
          2.5487768376911704,
          2.677938496471325,
          2.587203331388478,
          4.304541649527941,
          5.8209065413135725,
          8.267260999245542,
          6.432711048134778,
          5.413463149743569,
          4.85491608559958,
          4.9325228275471105,
          8.938237062794531,
          4.324289900163928,
          4.7543924555235995,
          2.4872833874644518,
          4.223843907977339,
          5.731769240161813,
          4.89205990572883,
          6.664475259085136,
          5.621130593462229,
          5.028474789823343,
          4.312444601380459,
          14.805175367552698,
          9.530201092164646,
          6.396688042644154,
          4.356915902736415,
          15.570320550485217,
          2.0815112978718315,
          4.609426065764064,
          3.03507039362145,
          4.73925443581946,
          2.5459449719428404,
          2.521455709324618,
          3.891197553883587,
          2.4033467086126388,
          25.648385082645092,
          9.312193521293365,
          2.729839720499751,
          3.0881307727600666,
          5.689886930259965,
          4.033703876750623,
          4.5539181409696665,
          2.2643248989034666,
          5.998335961126531,
          4.231762650360147,
          4.192180408835606,
          2.753542303474656,
          3.9236202694932256,
          5.625111002357691,
          4.222942197356389,
          3.72736831235204,
          5.071969023509765,
          6.2509183310660905,
          3.8901187490565716,
          1.893242451065848,
          5.436609033684614,
          11.804196173922772,
          4.162728821626838,
          2.034044680482534,
          2.4934392193394688,
          2.934890225248702,
          7.448436827305493,
          4.7392448314555695,
          6.5674929728245734,
          6.279389505484882,
          5.143541264069032,
          4.351025389635006,
          5.037157986548899,
          6.178253482695809,
          8.104613379798908,
          4.615551960852235,
          7.022442584381976,
          3.9376055313475193,
          4.544282104828782,
          2.672784941001203,
          3.05408012686191,
          10.155566844342177,
          10.180674985002101,
          14.187545359989425,
          4.61437849789137,
          2.977656124209736,
          5.744656704560819,
          2.293377617191528,
          5.301845977328179,
          3.079716776106258,
          3.1492339059182664,
          3.142393347418791,
          3.1182405013497316,
          6.941024152601506,
          4.501311424757971,
          5.796233025056007,
          4.254904993064874,
          3.9390271285562113,
          3.1775471778856845,
          5.760540341314082,
          3.3321168663452907,
          4.583179577731277,
          5.191640753331527,
          7.485696385206487,
          6.481773212164906,
          22.421330712564828,
          2.5646598729691346,
          2.484866249290705,
          5.592363071960182,
          7.21162837694787,
          9.29168594676352,
          3.404883302622131,
          3.9864683820139444,
          6.000559486502831,
          8.852547838244858,
          4.186298520647475,
          3.3607451932093455,
          2.775944934490362,
          9.982094444770043,
          14.413468200087436,
          5.938767681414719,
          3.7091701848979794,
          2.9930950713553224,
          7.031581727827066,
          2.7882073165367305,
          12.111600975607535,
          5.355150792424469,
          2.755798946707593,
          6.438576203845395,
          2.983255263836775,
          9.38313578801493,
          3.6875855941331928,
          3.6303235633183863,
          5.826369450538742,
          7.35202514556813,
          5.943346382888401,
          2.8468857200237383,
          3.290172198112024,
          2.80319893521283,
          6.087777766372523,
          4.062356890043599,
          3.1428728751753217,
          4.6072187580561526,
          4.2142823008134345,
          7.722686327610875,
          4.656310450926869,
          4.319508746767388,
          7.861023609321837,
          4.861186269257739,
          14.842953826319192,
          7.808133962829245,
          3.127781591462045,
          3.2482919858371657,
          9.473502378958313,
          3.0789657179855037,
          3.5860320863792605,
          7.864806683333449,
          4.412403640942792,
          3.21139789489655,
          2.8392508703565706,
          3.8010190913901942,
          3.704503833383259,
          4.596344358706194,
          7.510679571942347,
          3.304602111785256,
          9.263883386860572,
          2.636577427301556,
          2.1744085659327403,
          11.953102722041805,
          1.8391542128409852,
          2.559963407048759,
          3.77215109522726,
          7.718732374029279,
          1.6188348289302368,
          5.368098157972505,
          3.9894149091606286,
          14.821311943148654,
          2.1273614476846068,
          6.154600347923899,
          6.108648144969638,
          7.128514475528624,
          6.2383860153289525,
          7.813394766170052,
          2.9178569297058874,
          7.532606228334325,
          3.2487559164066746,
          7.312508341695456,
          4.468797279883515,
          15.653775850618947,
          8.180844909509903,
          3.0037811363942253,
          4.408342165157022,
          3.6553733980147394,
          4.80330846049557,
          4.901378639286778,
          8.07924547777824,
          4.067889572553918,
          6.443002581784161,
          9.500321188015883,
          6.056210533710024,
          5.3517409942266,
          8.028244214639452,
          4.868969944373294,
          4.7717052161338165,
          4.1677204720130545,
          2.3107556706120693,
          5.369352561761247,
          3.8378915436169443,
          10.231899718362556,
          4.419173182188618,
          3.500215941333131,
          3.982679796286637,
          6.861515627329378,
          5.87597075705531,
          5.771977159155048,
          5.18374166363708,
          3.7928174764674907,
          7.6126848277350945,
          3.766780850221123,
          5.8763742418001375,
          13.532935499521532,
          3.512069829804207,
          5.756471649152777,
          3.826727127624733,
          4.173260835922376,
          8.890942687225321,
          2.7317154476550556,
          5.0995481631554975,
          7.977325255090178,
          8.45315784499681,
          15.408213524174483,
          4.841170564864293,
          7.150574971381564,
          4.710816241537909,
          2.769676815842496,
          4.875682555758334,
          7.607178278554101,
          3.3119015837129004,
          5.394458556273972,
          3.957993913691099,
          7.724824293733129,
          4.098341189849177,
          4.2309197725977095,
          3.804846682291224,
          3.3099012937981453,
          2.6064564061583813,
          2.4193347096298417,
          6.092038505388046,
          2.0726899682864595,
          4.861530503590816,
          2.4813990556832404,
          5.637901806910805,
          3.8380072959805234,
          6.425172840875454,
          5.4946639612761645,
          6.6379445355986935,
          4.453166378457232,
          4.439219775813228,
          2.5231661438992457,
          3.0688121488817552,
          5.973975647867222,
          5.807700550779892,
          2.5061531672061546,
          2.9756796294844046,
          5.180179169770861,
          6.8451237610279545,
          4.988066662461954,
          4.0430259076583335,
          4.8351025702512676,
          4.931231742964714,
          9.713201105389292,
          3.375198536731465,
          3.0352502178153444,
          2.7798399270108707,
          4.519584164192685,
          4.138293711847041,
          7.873562720381411,
          5.5316455504595465,
          4.952784560746611,
          4.939225902971216,
          5.5634933989963,
          5.443808291004463,
          8.773708731405936,
          2.9203526737390644,
          7.625464105609838,
          7.623515402565927,
          5.579692210670142,
          6.289032386332798,
          7.12849408071429,
          3.416504343507646,
          3.213028392265327,
          4.235597819902787,
          3.4919543961458976,
          6.427195241460707,
          5.270085945760257,
          10.349084776966317,
          3.327651144565624,
          6.420653851192715,
          4.785560414267956,
          4.2015300885977584,
          4.472972574518112,
          3.3327250645688755,
          4.807609458165047,
          3.238965495515587,
          3.573115333251294,
          2.812990055824014,
          3.872377745582009,
          5.842209487531328,
          9.740164355474507,
          4.698815014371433,
          3.0718833718914893,
          3.899775079342206,
          5.788178521917941,
          10.73125083876982,
          3.720713205788264,
          3.072909627369385,
          4.320108161715932,
          4.944704794467353,
          3.858463623363449,
          4.5362684631848476,
          9.278246525067626,
          6.309435812034715,
          4.921101773054176,
          2.492358981940244,
          4.541569977508201,
          12.656706912658997,
          3.796453059548272,
          4.488548857455234,
          4.688182675798539,
          16.75113384309026,
          3.5665209273597958,
          7.0870825540868285,
          3.57664478107249,
          2.349302058270697,
          2.9648535424474107,
          3.591633989610186,
          1.9035333277276243,
          8.917713157492944,
          8.69758504715912,
          16.489292789181608,
          5.9354553700968165,
          5.060456731087511,
          4.008329006335249,
          2.1491440863924267,
          6.004313241612094,
          10.02713333571299,
          12.24806243476181,
          8.56407470363767,
          7.450829275643546,
          6.47023259162807,
          5.1055171090220846,
          6.720160432418942,
          3.871204938159792,
          5.024951911345948,
          4.140186038278839,
          7.538673469620432,
          5.177642378929482,
          10.762320458904748,
          4.56569079625684,
          3.1409147648000086,
          5.606620440979205,
          4.07556597794708,
          5.487863876887698,
          7.414303608646409,
          4.617538670486582,
          4.594256135696979,
          6.959882134343109,
          1.8410374980759134,
          2.56038076298177,
          3.3441333122765977,
          5.0315502623502,
          4.838967650681812,
          4.6133730670860436,
          5.868398652940727,
          3.853700411542818,
          4.566107728223675,
          5.189274031798876,
          5.155029324341859,
          3.624483729621928,
          3.488145076147662,
          8.21570552480748,
          6.898526186739305,
          2.1127810063159855,
          5.874434826463613,
          10.632315960657083,
          2.207995282650722,
          4.048882661758679,
          8.619638941244634,
          4.367998584907496,
          4.092800267551895,
          3.088354606267891,
          2.8783058148846634,
          4.520344980523726,
          7.54166846585034,
          2.0251527787031747,
          6.9640566892981415,
          7.621091126102201,
          8.850979792510065,
          4.953613576892841,
          6.952715709357497,
          3.3294089317606352,
          2.974348276035504,
          4.676961622163134,
          5.660416637771403,
          6.161021242325533,
          3.5822051168433653,
          9.68781141095895,
          8.934968642426552,
          4.258355515981877,
          4.5072216371069915,
          4.774523470921341,
          5.713586675510372,
          3.1148782200893765,
          2.700169380668156,
          3.3668555724449605,
          3.882993451328557,
          2.069695870033171,
          5.280411801832084,
          3.8811187411334678,
          2.771963865010592,
          4.528288926323395,
          5.577319456035127,
          4.237880685064432,
          2.4253885834437985,
          3.921506222918771,
          3.0334972958982886,
          4.0561184674287745,
          5.46554996851756,
          2.5356453345212766,
          17.604478566229353,
          5.087474725686463,
          3.280995326632687,
          3.1121104991622777,
          4.324244021305421,
          8.885127951801548,
          8.601429624365306,
          4.263166047249529,
          8.466407313896768,
          10.280925832874635,
          4.20147349163885,
          9.069948128618199,
          5.2579534784830395,
          5.344810672750698,
          16.1551550791843,
          3.948727192327834,
          3.6839475477815484,
          6.585665834588563,
          7.177704974660617,
          3.2225241266583997,
          15.35337625840549,
          5.657962341296918,
          2.0298387850967385,
          3.5854362171485064,
          3.6388322226889627,
          4.911463325661079,
          5.0478535956300075,
          9.765048660050496,
          5.2897293057821795,
          7.274005121917318,
          4.065641572471001,
          4.482370836634645,
          13.702123898618488,
          2.9977467776385778,
          3.9948058655142304,
          2.1944967449488035,
          8.024675244162182,
          5.992581081615234,
          32.69924970364274,
          6.321271344765207,
          2.282344717758124,
          4.472676114088142,
          6.315339136653892,
          3.059659565216784,
          5.8713186749157,
          7.595887360976304,
          2.4828373844655784,
          4.330852493462459,
          42.71715196323728,
          2.9647019213862387,
          16.884358212951394,
          3.658845830614949,
          16.274782487734957,
          4.6197388066772795,
          3.8452851928445297,
          4.4385826692679275,
          2.676709563614208,
          7.5355089833421705,
          8.009252217983136,
          2.3728072630460963,
          2.345648456770266,
          3.1958472753054634,
          9.03356680719494,
          3.3646480112268407,
          4.993662831563184,
          4.732133910059996,
          6.01585178879142,
          22.796036329356888,
          8.964705355281069,
          3.3616591591637257,
          2.543456879123574,
          2.8458911849984476,
          2.21777843001988,
          9.770887124495816,
          3.8106091516640035,
          7.626287727785748,
          3.3531346032712053,
          6.591423717025952,
          3.59920962754151,
          10.85301374837225,
          6.422550796483609,
          7.208924289561911,
          14.222567717753387,
          5.902872069876144,
          6.535772871024993,
          3.115963413191042,
          3.785613612453155,
          4.497757865517316,
          6.443620904388961,
          2.739125129596539,
          3.5592262328929043,
          6.357168977675674,
          6.2921384564085425,
          5.982465558240282,
          2.6322575542458115,
          3.9307816932675865,
          3.4422455641609733,
          3.764253181087108,
          3.461389616419893,
          2.915521452800676,
          7.6147142743483265,
          4.467558872514776,
          2.595970302591024,
          9.554325740108233,
          3.511244306939515,
          2.2147022593000023,
          2.0898463113033654,
          5.710645026558471,
          5.171873941717203,
          2.4867565498213344,
          3.6321814800887435,
          2.4156336742886566,
          3.639056495206284,
          3.6160090523077226,
          1.9217520254923663,
          4.272487119321499,
          5.402910603396129,
          3.6927870239406184,
          18.653685655717428,
          7.309386511079053,
          13.069097985907542,
          3.515983236233333,
          4.595296293968136,
          9.15453270353195,
          6.052582345339478,
          4.8870081036361785,
          11.486255447784982,
          5.1681742035504445,
          4.7298159680831375,
          4.180026726035264,
          3.7629902069477468,
          4.7535996135602,
          3.43428050777774,
          4.8814127465695645,
          3.7195255856661715,
          4.589032616186476,
          6.533056627292753,
          2.2685067099821192,
          3.6173568028165946,
          3.905624982091048,
          8.041962667513786,
          2.1500167455995487,
          6.971973633964186,
          7.867293480266049,
          10.094507390212753,
          4.991833242280463,
          6.075168400974797,
          15.765747069356905,
          2.515632526184544,
          8.377216499786043,
          4.62927215773891,
          4.8397614612418085,
          5.726719975415645,
          2.1311993563056757,
          4.576726178780677,
          3.300723300278057,
          4.174777465407417,
          3.478572768162599,
          17.324663607815506,
          15.234723464916069,
          5.688752268626196,
          3.554432833107764,
          8.716569410169463,
          13.572537354671496,
          4.093374077951341,
          7.337709475732051,
          5.235125092439461,
          9.42301631865202,
          7.388433368374686,
          3.1146086516779024,
          5.787486488627571,
          5.314368602601341,
          3.5102398755771786,
          12.08465186833685,
          2.3877378870492243,
          4.133185546958094,
          3.4157554394170937,
          2.9981348949214035,
          1.8038915972047262,
          5.341776783535299,
          5.713991270724335,
          3.7552547222182686,
          5.48733923007591,
          3.5882638421868647,
          17.247426185723267,
          8.108208236980577,
          6.605758953718403,
          4.019317886933541,
          1.736575153069194,
          7.992726818880497,
          2.0622464344747105,
          6.135148865145066,
          5.828260342449424,
          5.558557253230575,
          1.8535131425387976,
          9.171603519933441,
          2.7934405623510545,
          3.552607909899529,
          2.671157284545679,
          1.3418645621249163,
          3.400885974177303,
          4.166609705949866,
          10.228745963334674,
          3.607308207786891,
          4.083622444018122,
          4.322485526879905,
          3.6782985667090697,
          7.505019557980541,
          3.0264726356423353,
          4.586077827977512,
          3.8308071068086624,
          9.61986226029006,
          16.09430159267183,
          3.1287668443687746,
          2.493203815486967,
          4.3911389169082025,
          4.041540760528377,
          4.966609562618339,
          4.9374545166420445,
          8.333041611575792,
          7.3297083750217125,
          3.0214366824992434,
          3.231087539001679,
          2.5483004644248046,
          4.940788240685928,
          2.8724697648863495,
          8.95865655247201,
          3.2828282596236127,
          4.448856829909364,
          3.2155262885703677,
          12.918239682958866,
          3.6764613251747336,
          8.043299173818243,
          2.2701313412470743,
          2.2553569181375592,
          4.950939258146967,
          3.5981392839635395,
          4.246141587471827,
          5.058716041074793,
          13.456657341877179,
          10.836496995193668,
          4.840983584024095,
          3.319864577400918,
          3.1797763995320567,
          4.936031510045049,
          5.385002798413647,
          2.9525607196932215,
          6.198423862117979,
          3.1985453333498,
          3.590474301900818,
          11.044096147721438,
          6.496820196556437,
          6.724293003888931,
          4.937676420226202,
          3.0812914356109453,
          8.973348697402868,
          2.988643677602334,
          9.794495416355996,
          4.424736069501055,
          8.862280995149698,
          7.446675396653673,
          5.049860834326842,
          3.3774291249971307,
          4.475578112222901,
          9.964802684374606,
          9.516924929086008,
          2.936528755917687,
          2.2752693340100945,
          7.378723980997944,
          4.75515595297626,
          7.667039534902453,
          23.41837153182366,
          6.97785132587717,
          8.328926078182041,
          1.9840231204637542,
          8.761411209135513,
          2.3835536413280685,
          2.8309425631011704,
          3.6090708793118207,
          2.606249478971077,
          9.47842527551401,
          3.9669191829163486,
          3.737616342690644,
          5.574290474039447,
          8.7371011529414,
          9.278799568137694,
          7.203192847559274,
          6.164676219592065,
          5.429720918066494,
          3.0766212170496585,
          2.3357382177024966,
          7.375527282421534,
          7.284219261802182,
          3.6129287037629894,
          2.0565734057266183,
          3.9258313936498683,
          1.808935532675432,
          8.228482757651697,
          8.458153456686691,
          12.806929126428962,
          36.343103646117534,
          7.293230453631747,
          9.496231382721287,
          3.084537301574426,
          5.5301205140801395,
          7.69361657131381,
          2.7738639071145337,
          3.6178152214154533,
          4.2058958599080825,
          2.506734914085402,
          5.521696553317667,
          4.556448071745664,
          2.5566103976672747,
          6.7921517341460795,
          2.954324277250719,
          4.714962474288093,
          3.7743978929726243,
          7.5325074537518795,
          7.20201825883431,
          7.330741243134037,
          2.045138444140787,
          3.490355856006106,
          3.2663752766055882,
          8.512478419921926,
          2.598182827785976,
          5.836338616797187,
          18.989818542608578,
          4.495901476360819,
          5.141197695484004,
          9.662292269653223,
          3.007221734301735,
          8.901961693768767,
          6.194353068059787,
          3.144644390385464,
          2.8385415361725097,
          4.406854682249359,
          2.841213630530914,
          12.22062904570017,
          4.268026277183702,
          6.057674838599189,
          5.449114114977985,
          5.017282514666292,
          3.519189425296286,
          7.084784945278517,
          4.130267246581783,
          2.8359446391776397,
          8.792387577767718,
          11.801565059599403,
          3.6223758308109715,
          2.901916538796281,
          5.565304284509596,
          4.126850162192072,
          2.520386168646681,
          2.021614888409865,
          5.928496340935,
          10.076131995446064,
          6.769280218794561,
          3.028942124351966,
          6.741419278818018,
          2.405667055647613,
          4.849972019107552,
          14.844652564781185,
          3.563105108567692,
          3.8889544764666835,
          2.4499135008614528,
          2.0466986243553515,
          10.220496652691137,
          10.722312502452393,
          2.6746008995997936,
          4.802502308775798,
          2.4130412128893886,
          2.5343980117539258,
          3.820509869072836,
          6.930701315933896,
          5.211623519372033,
          4.5362246614037245,
          7.236295516591093,
          3.979059878294709,
          5.390570030603496,
          3.5938880823884176,
          3.7312240394109537,
          3.9149473602612113,
          2.6672816609063212,
          14.089795760575768,
          3.6169174137416964,
          2.8042440713115937,
          8.000902272492176,
          8.805986095596534,
          2.2095624856201335,
          2.617874285529761,
          4.592151891141166,
          4.7230282867916555,
          6.523981337614748,
          3.1787981990422107,
          8.213402326147328,
          8.209768659530408,
          5.744920364942314,
          6.165106878224128,
          9.07361637548105,
          5.567472151941127,
          5.534215920977434,
          5.041172566770399,
          5.782449490412134,
          4.911880213695174,
          3.445715981065365,
          6.593156543217523,
          8.285072996337675,
          3.8082005181253833,
          5.000315468876416,
          11.168234460257588,
          3.315118077847957,
          4.0653425468639295,
          4.102006052930914,
          1.8702894571168354,
          6.759174932647794,
          2.3732173050098093,
          2.900960530834331,
          5.3962594516157,
          2.4902482987478893,
          3.640893707560476,
          3.3797022821301823,
          5.109114132442423,
          3.3298927837165784,
          10.22202705020899,
          5.421552655341923,
          4.356497298658425,
          2.866942869252708,
          1.8921183869100024,
          3.7466319376847323,
          2.697586682591721,
          6.613824394275417,
          3.9620603417183236,
          6.871882050170704,
          4.4967344248160614,
          11.426552214968586,
          4.11576844319623,
          10.802173790199973,
          4.235924012466619,
          4.076963022644321,
          5.18399379343416,
          3.9986712908097193,
          4.37357995052543,
          2.7115565181843815,
          3.8530306690845184,
          4.260682137368711,
          2.898802370736535,
          3.205288411887507,
          4.373333870167267,
          2.963141629349973,
          8.02385068367863,
          6.880675965817201,
          5.833147407925179,
          14.270126780932722,
          7.0970909021648945,
          7.230971575896941,
          3.9458855072691317,
          4.31410489638914,
          4.125726681073776,
          5.46215126737368,
          4.69854447338112,
          5.66424390105576,
          2.8840206676294335,
          2.952455481741702,
          3.5476855497178033,
          11.50840963900831,
          4.3352466968567445,
          4.274084645916116,
          4.420016679877758,
          4.801040931292034,
          4.577384751208513,
          7.6202680651477595,
          3.1883360567192045,
          4.90397883435953,
          4.6208326576977665,
          8.722710551927264,
          3.0326349522702145,
          2.7237747394775385,
          4.649581142730821,
          5.546632752701567,
          3.5574671253773493,
          3.89514242078653,
          5.13354425486516,
          6.530128213105217,
          12.54051096371209,
          7.8261545770893175,
          5.381600936954517,
          3.817797774484524,
          3.511941300051915,
          5.716518936349968,
          2.0905565744549626,
          6.2156895834607075,
          9.941686926891839,
          3.173766800146332,
          2.294387749324896,
          4.265697679441156,
          6.077663114707523,
          9.423315124136993,
          4.961677734862679,
          4.2013768277995345,
          3.9984129392661023,
          7.728650538393796,
          4.693619767085902,
          4.505447275673348,
          2.604378093689446,
          7.6901761918441105,
          2.6454670826512676,
          7.829192852962519,
          3.5651372921241786,
          2.925078571774777,
          5.262935738864224,
          7.393209565066289,
          4.475860892314117,
          2.174918620831046,
          3.5694527763609685,
          8.273568852960025,
          4.751702203682236,
          4.484938542330226,
          3.1079677889227364,
          3.4372573028361906,
          4.765632824195828,
          3.364508833342695,
          5.704959412044027,
          5.462180568715013,
          4.204956876520738,
          8.693714374517825,
          3.7237473932695235,
          3.473913250094459,
          14.29468501179677,
          11.380148302987672,
          9.874786626038466,
          6.569968205562442,
          4.459350395585985,
          6.11222104774936,
          8.447931539933192,
          5.0078275925746425,
          17.457891051301157,
          10.117071486370667,
          5.922246474288001,
          3.3430674873634043,
          3.831007589215922,
          3.1642653591787595,
          2.088105250888087,
          4.483413990153257,
          2.5166521978443246,
          8.89304998424441,
          3.885977453325533,
          11.559682014665379,
          4.195203967601931,
          4.87897515355942,
          2.038051310836739,
          5.103912416954086,
          8.585671829955675,
          5.098012197066999,
          2.739295583121791,
          3.554986680139656,
          5.924457331511592,
          5.515649347787775,
          3.2230466195556513,
          5.836096502287791,
          3.788604073763692,
          3.19025185153899,
          1.647591192594919,
          2.2314133922205177,
          3.992742945883806,
          9.643294175492562,
          4.139709297746574,
          6.916913311660228,
          14.975883850809966,
          5.943906834472738,
          1.827961241457594,
          11.719094841109477,
          4.363310062565969,
          9.197596182236726,
          3.3706955693217893,
          2.375983083142884,
          2.100060696818505,
          4.139033762590774,
          5.334028224134813,
          3.197416514192084,
          4.44895388411434,
          3.4148418277561285,
          9.4387107967921,
          3.8486494399800018,
          6.934283009149757,
          4.675478808129141,
          3.793628700712919,
          3.9457730865669247,
          6.3094884622896314,
          2.1284310261288506,
          3.136543014157249,
          5.351266360207077,
          12.591928591746735,
          3.804701995233023,
          3.4897912772560216,
          7.045756212405259,
          8.975276515612366,
          5.609004992463688,
          3.700489555431906,
          4.8507306266050785,
          5.955087926567882,
          3.5305313487091876,
          6.3197832502738525,
          3.6048402808759348,
          3.2817964486715914,
          10.843087234966951,
          5.18384486234119,
          2.6648622521824445,
          3.045026655550087,
          4.341027356593083,
          3.1037913729555098,
          3.3533980322575485,
          4.057971282418543,
          2.400630493783801,
          6.1410823854299,
          7.766428526006606,
          3.011864876731825,
          3.1041584354170486,
          6.816783262335546,
          3.156814820146576,
          5.519881432631915,
          2.8021999528728556,
          4.286300262379503,
          23.974608171032827,
          5.206038776008834,
          4.807540112148521,
          6.343908613485654,
          4.017902277493913,
          8.721489879124778,
          5.770059129556055,
          2.8780725022031386,
          2.450664044569332,
          3.682158402242976,
          2.3476750611909667,
          3.453959125937886,
          2.8754764598867433,
          7.080377649910747,
          4.297714592058516,
          4.391431019842497,
          4.721514544853969,
          4.797106639860724,
          2.573673960064107,
          5.328969133723164,
          11.699142769954271,
          3.0992721468819857,
          4.622608927092077,
          4.672000500963448,
          2.045484790655676,
          2.7440431502114224,
          3.2336106537793006,
          12.995775063707937,
          9.87356715705784,
          4.717401915264103,
          5.4974203004399325,
          4.306280523553634,
          2.8092612618906343,
          3.3739595107480893,
          8.765266046435707,
          4.624426122159776,
          3.4784222432370844,
          5.255110469847349,
          3.243493923356702,
          3.7019243971763527,
          3.1233975886468683,
          5.448417804326588,
          11.983754957149582,
          3.934771380884438,
          6.174838515681677,
          3.1409031576087085,
          4.287258432226363,
          11.561258578738814,
          6.987644609384171,
          4.929809942132505,
          4.106681573021421,
          1.7582654379002207,
          4.801837678916595,
          3.709323178022894,
          4.314886674912614,
          3.5155146713266756,
          3.39983975334041,
          5.934673566223298,
          6.227571231624104,
          7.507934952595512,
          1.916481589007584,
          2.621917683031221,
          3.00494046053763,
          2.930694483232841,
          4.993393172022023,
          2.5573509477681906,
          7.01683849247674,
          4.265210553920529,
          3.493843122903323,
          6.6820768468987515,
          7.988726029919874,
          3.342475730563427,
          7.519285160941563,
          5.033968067431142,
          4.703188399642927,
          3.91048593702038,
          2.7489886801121046,
          2.1428373105112803,
          9.597828131958114,
          4.7172152160592296,
          10.112077264896412,
          9.032203573553637,
          6.807789391110469,
          3.564629881240834,
          2.6927116384083782,
          8.937028843772545,
          3.4441796654343104,
          2.5347355064927144,
          2.5107133512877233,
          4.60065253434724,
          10.20588656739205,
          11.86040812450926,
          4.58954414141566,
          11.890916211067733,
          4.88973707228448,
          3.187158028645911,
          3.489785453043338,
          6.173841183290193,
          3.776162082845759,
          8.126721829903314,
          3.218268199254653,
          3.703501069931166,
          5.794438867153787,
          2.3583615944232275,
          2.8559141512504427,
          7.4084759999858845,
          4.877974289653699,
          3.5622213025664147,
          6.231337743564883,
          2.0615864625679277,
          1.9430682868529003,
          5.742829220210938,
          3.7484323024357584,
          6.064854907330435,
          6.741217568245277,
          3.8568563815524644,
          9.899469640172057,
          4.353799150813155,
          4.558272948262551,
          3.193879004504777,
          4.654747620759835,
          4.977462724152582,
          5.575713365542481,
          6.765077256862051,
          12.60714065925375,
          4.048428017397437,
          6.274418031498044,
          7.376329185018785,
          3.6356279808512575,
          9.009983707925231,
          2.2283465995586718,
          8.309999391137941,
          4.625271854649415,
          6.683588899522887,
          5.031240171411834,
          2.5354842284083117,
          3.2786963167562053,
          8.624334026923455,
          5.31114938516507
         ],
         "xaxis": "x",
         "y": [
          49.0160026550293,
          96.81311798095703,
          51.447017669677734,
          83.41348266601562,
          147.97264099121094,
          150.85812377929688,
          113.21698760986328,
          178.39768981933594,
          55.38920593261719,
          83.33206939697266,
          62.02631378173828,
          89.67430877685547,
          70.61079406738281,
          53.87590789794922,
          94.33039855957031,
          364.22222900390625,
          86.15965270996094,
          68.38678741455078,
          207.8460693359375,
          104.9172592163086,
          172.2912139892578,
          134.64430236816406,
          207.039794921875,
          236.62574768066406,
          197.49111938476562,
          269.6994323730469,
          107.72607421875,
          114.30841064453125,
          105.5528335571289,
          58.77009963989258,
          151.926513671875,
          79.43450164794922,
          268.6527099609375,
          70.39654541015625,
          82.509765625,
          98.98934173583984,
          67.94697570800781,
          162.76641845703125,
          135.90431213378906,
          186.38601684570312,
          65.15125274658203,
          89.48551177978516,
          170.1031494140625,
          176.98837280273438,
          68.95497131347656,
          79.55940246582031,
          94.2154541015625,
          127.43223571777344,
          105.1362075805664,
          254.96304321289062,
          85.53572082519531,
          88.21797180175781,
          146.88958740234375,
          245.80007934570312,
          103.39749908447266,
          165.7099609375,
          183.04910278320312,
          83.87167358398438,
          190.27389526367188,
          153.7178955078125,
          198.7779083251953,
          93.33060455322266,
          189.020263671875,
          172.54171752929688,
          128.7173309326172,
          91.31465148925781,
          181.34854125976562,
          115.87681579589844,
          149.6943359375,
          102.88787841796875,
          102.46549987792969,
          125.96549987792969,
          132.00863647460938,
          71.87747192382812,
          336.658935546875,
          253.8652801513672,
          170.7103729248047,
          236.3345947265625,
          117.83324432373047,
          211.51092529296875,
          141.8524932861328,
          153.24949645996094,
          286.58941650390625,
          156.1042022705078,
          335.62591552734375,
          165.60000610351562,
          111.08616638183594,
          96.88349914550781,
          166.7127685546875,
          71.69280242919922,
          81.63545227050781,
          190.97515869140625,
          246.86285400390625,
          197.9124298095703,
          266.4723205566406,
          254.01736450195312,
          135.62548828125,
          280.335693359375,
          274.3511962890625,
          141.66127014160156,
          102.5032730102539,
          89.03167724609375,
          338.33404541015625,
          56.62541961669922,
          84.48721313476562,
          108.80845642089844,
          127.44754791259766,
          156.7477569580078,
          114.6890640258789,
          105.76892852783203,
          111.98551177978516,
          204.5357208251953,
          127.82750701904297,
          120.01254272460938,
          132.62347412109375,
          93.95281982421875,
          283.18218994140625,
          399.48211669921875,
          146.0155487060547,
          50.26265335083008,
          212.9468231201172,
          187.92044067382812,
          80.78704833984375,
          165.5123748779297,
          145.29116821289062,
          49.86254119873047,
          91.0750961303711,
          64.58317565917969,
          197.44131469726562,
          144.5979461669922,
          219.63693237304688,
          94.86203002929688,
          62.27338409423828,
          366.47686767578125,
          81.32669067382812,
          90.19888305664062,
          54.09961700439453,
          96.30438995361328,
          284.0107421875,
          197.640625,
          223.27066040039062,
          99.28933715820312,
          165.85398864746094,
          101.78617095947266,
          82.46378326416016,
          65.28118133544922,
          72.31786346435547,
          208.16226196289062,
          287.46368408203125,
          219.20701599121094,
          63.145164489746094,
          79.31906127929688,
          256.5396423339844,
          190.22064208984375,
          150.01174926757812,
          173.2269287109375,
          52.037353515625,
          181.63734436035156,
          106.87117767333984,
          121.8853759765625,
          114.15159606933594,
          75.68644714355469,
          94.71287536621094,
          277.00665283203125,
          63.577510833740234,
          76.11369323730469,
          89.22564697265625,
          128.93258666992188,
          116.88119506835938,
          310.81005859375,
          144.10812377929688,
          249.7012176513672,
          165.09808349609375,
          149.24232482910156,
          108.51115417480469,
          45.914161682128906,
          105.32317352294922,
          270.02874755859375,
          196.6646270751953,
          239.07699584960938,
          83.12621307373047,
          119.15436553955078,
          91.28610229492188,
          171.35897827148438,
          114.97050476074219,
          156.22483825683594,
          101.87692260742188,
          94.02560424804688,
          157.97872924804688,
          148.30372619628906,
          139.1792755126953,
          135.69923400878906,
          116.00955963134766,
          127.65385437011719,
          134.55734252929688,
          299.3759765625,
          100.95747375488281,
          118.50880432128906,
          128.09445190429688,
          103.25570678710938,
          42.71324920654297,
          221.93917846679688,
          245.2469024658203,
          143.77427673339844,
          184.20367431640625,
          123.28801727294922,
          109.50331115722656,
          86.90218353271484,
          186.4453125,
          67.31153106689453,
          52.97397232055664,
          125.70946502685547,
          205.3833465576172,
          60.970882415771484,
          85.1680908203125,
          116.4246826171875,
          95.86729431152344,
          73.41188049316406,
          101.03414154052734,
          123.00416564941406,
          160.17520141601562,
          218.26382446289062,
          113.50575256347656,
          93.9556884765625,
          76.90143585205078,
          183.5584259033203,
          211.9854736328125,
          241.14852905273438,
          89.28987121582031,
          75.78630065917969,
          131.57765197753906,
          132.61070251464844,
          188.74493408203125,
          134.2796173095703,
          312.99169921875,
          140.37806701660156,
          75.0529556274414,
          100.00577545166016,
          87.1261978149414,
          251.7693634033203,
          154.54840087890625,
          172.0089111328125,
          149.16151428222656,
          142.8490753173828,
          96.80522155761719,
          166.6199493408203,
          105.34285736083984,
          146.78211975097656,
          6.034051895141602,
          71.17118835449219,
          43.72972106933594,
          72.020263671875,
          134.27268981933594,
          132.49996948242188,
          90.89768981933594,
          310.4727783203125,
          110.89405059814453,
          203.3238983154297,
          163.08633422851562,
          103.77793884277344,
          151.4966583251953,
          100.77095794677734,
          377.6138916015625,
          183.20803833007812,
          136.2311248779297,
          72.18470764160156,
          69.37283325195312,
          75.78604888916016,
          114.27882385253906,
          113.10140991210938,
          114.98130798339844,
          91.1711654663086,
          144.2897186279297,
          124.04369354248047,
          75.61722564697266,
          254.21499633789062,
          92.26627349853516,
          63.05598068237305,
          84.86934661865234,
          119.33728790283203,
          72.7520751953125,
          36.5463752746582,
          60.3687744140625,
          152.7216339111328,
          199.22561645507812,
          331.2562255859375,
          363.0744934082031,
          119.34149932861328,
          168.76651000976562,
          252.4376220703125,
          70.76355743408203,
          161.42376708984375,
          186.69424438476562,
          73.62804412841797,
          92.79104614257812,
          100.1363296508789,
          79.65631103515625,
          298.1775207519531,
          125.39192962646484,
          215.85226440429688,
          132.83139038085938,
          85.62472534179688,
          242.119384765625,
          107.61445617675781,
          102.44761657714844,
          76.04241180419922,
          112.89342498779297,
          246.5438232421875,
          75.81916046142578,
          161.4477081298828,
          56.96282958984375,
          98.73694610595703,
          111.39461517333984,
          67.30632781982422,
          130.9787139892578,
          84.48411560058594,
          187.1353302001953,
          304.0647888183594,
          73.641357421875,
          98.33531188964844,
          135.04515075683594,
          287.8200378417969,
          149.09182739257812,
          173.0905303955078,
          150.71531677246094,
          78.85069274902344,
          177.00238037109375,
          116.18693542480469,
          164.8382568359375,
          84.95878601074219,
          113.91642761230469,
          86.55987548828125,
          201.3695831298828,
          73.98970794677734,
          76.8359375,
          237.47293090820312,
          80.95339965820312,
          262.1029968261719,
          159.94027709960938,
          173.8549346923828,
          146.13995361328125,
          213.6154022216797,
          194.27899169921875,
          146.92153930664062,
          169.6341552734375,
          128.10398864746094,
          174.29736328125,
          110.58097839355469,
          162.77713012695312,
          330.365478515625,
          68.67769622802734,
          120.82382202148438,
          159.76199340820312,
          198.81991577148438,
          66.94674682617188,
          388.7240295410156,
          71.82577514648438,
          203.42369079589844,
          300.29327392578125,
          85.06803894042969,
          186.54776000976562,
          311.0392761230469,
          60.48417282104492,
          86.38777160644531,
          246.68716430664062,
          149.21180725097656,
          119.70271301269531,
          51.31461715698242,
          144.38552856445312,
          64.12286376953125,
          109.82312774658203,
          225.99505615234375,
          91.12105560302734,
          90.3719482421875,
          131.73220825195312,
          99.6812744140625,
          111.77153015136719,
          188.1303253173828,
          153.96246337890625,
          128.8604278564453,
          137.6925811767578,
          325.34521484375,
          165.22259521484375,
          63.88751983642578,
          130.79441833496094,
          84.19319152832031,
          96.97297668457031,
          136.5052032470703,
          160.07028198242188,
          118.91024017333984,
          86.6957778930664,
          126.84811401367188,
          87.81552124023438,
          141.38633728027344,
          256.30340576171875,
          43.449737548828125,
          40.10938262939453,
          95.31675720214844,
          121.95565795898438,
          65.89019775390625,
          79.30948638916016,
          158.261474609375,
          129.73170471191406,
          192.64956665039062,
          119.05435180664062,
          87.62562561035156,
          258.8898620605469,
          174.13046264648438,
          129.53668212890625,
          119.02080535888672,
          195.61871337890625,
          123.67692565917969,
          78.36865234375,
          203.42494201660156,
          92.47659301757812,
          127.30026245117188,
          88.05125427246094,
          149.3887939453125,
          329.7934875488281,
          218.5106201171875,
          193.72792053222656,
          85.49767303466797,
          47.25067138671875,
          75.7029800415039,
          188.400634765625,
          140.1981201171875,
          104.99137878417969,
          195.8729705810547,
          220.197021484375,
          145.12380981445312,
          182.7413330078125,
          146.878173828125,
          99.61427307128906,
          120.56512451171875,
          66.4281997680664,
          68.01193237304688,
          320.01251220703125,
          160.9301300048828,
          78.73471069335938,
          103.20333099365234,
          116.7156753540039,
          97.9328384399414,
          149.61170959472656,
          113.83470153808594,
          284.1326599121094,
          54.51300811767578,
          532.2127685546875,
          152.22760009765625,
          135.86000061035156,
          153.46499633789062,
          372.37408447265625,
          112.1064682006836,
          108.666748046875,
          71.14533233642578,
          295.78515625,
          66.04984283447266,
          80.27574157714844,
          292.3485107421875,
          298.5603942871094,
          138.20401000976562,
          99.30349731445312,
          89.4579086303711,
          343.7398986816406,
          208.06967163085938,
          152.18565368652344,
          170.73773193359375,
          144.64703369140625,
          91.84334564208984,
          61.48011779785156,
          74.54733276367188,
          169.3988494873047,
          102.68653106689453,
          132.09811401367188,
          171.709228515625,
          303.1128234863281,
          114.87318420410156,
          247.68763732910156,
          243.57565307617188,
          92.60403442382812,
          70.1211929321289,
          259.1514587402344,
          171.7247772216797,
          117.55863952636719,
          171.45803833007812,
          107.79395294189453,
          111.8605728149414,
          146.93576049804688,
          157.68206787109375,
          55.06198501586914,
          74.65330505371094,
          191.6703338623047,
          85.96119689941406,
          110.32011413574219,
          125.74237823486328,
          121.69796752929688,
          141.60629272460938,
          176.49366760253906,
          63.68938446044922,
          144.15740966796875,
          224.1095733642578,
          168.15882873535156,
          133.3041534423828,
          309.0740966796875,
          154.6339111328125,
          145.73599243164062,
          138.98443603515625,
          71.5984115600586,
          126.31743621826172,
          244.2543182373047,
          210.01058959960938,
          307.6784973144531,
          312.5259704589844,
          114.12030029296875,
          202.17633056640625,
          29.92679214477539,
          271.50396728515625,
          169.24327087402344,
          472.94110107421875,
          166.56561279296875,
          198.33982849121094,
          63.812259674072266,
          43.517311096191406,
          120.20726776123047,
          113.47262573242188,
          121.91548156738281,
          115.711669921875,
          56.48685836791992,
          304.5906982421875,
          161.00619506835938,
          187.5838165283203,
          132.5790252685547,
          229.76608276367188,
          294.9060974121094,
          523.0746459960938,
          67.64926147460938,
          154.1619873046875,
          146.49082946777344,
          123.96842193603516,
          89.8537826538086,
          74.91915130615234,
          161.5775604248047,
          194.55934143066406,
          105.82103729248047,
          114.2188949584961,
          86.51056671142578,
          106.60722351074219,
          144.69056701660156,
          347.3330383300781,
          80.54475402832031,
          227.87533569335938,
          82.1365737915039,
          141.27447509765625,
          213.2482147216797,
          212.77113342285156,
          44.71228790283203,
          93.82473754882812,
          127.24552154541016,
          68.21781921386719,
          94.81974029541016,
          66.22828674316406,
          190.9960174560547,
          71.49067687988281,
          258.8297424316406,
          80.51545715332031,
          233.16880798339844,
          147.5736083984375,
          148.97967529296875,
          169.411865234375,
          127.3692398071289,
          321.58258056640625,
          96.05860900878906,
          65.73699188232422,
          143.86082458496094,
          278.35443115234375,
          41.21330642700195,
          170.4951171875,
          64.93789672851562,
          213.18731689453125,
          145.32254028320312,
          211.8916015625,
          95.65911865234375,
          138.69598388671875,
          241.4569091796875,
          156.7568817138672,
          73.57157897949219,
          228.61236572265625,
          125.36878967285156,
          148.5121307373047,
          200.8048095703125,
          242.7153778076172,
          145.85133361816406,
          280.71197509765625,
          80.14268493652344,
          182.1739959716797,
          268.37347412109375,
          164.90940856933594,
          257.9834899902344,
          47.373104095458984,
          143.80636596679688,
          151.50489807128906,
          165.74908447265625,
          189.34780883789062,
          135.3542022705078,
          117.4599609375,
          70.2649154663086,
          154.10296630859375,
          77.78626251220703,
          85.23744201660156,
          113.4861068725586,
          182.64263916015625,
          155.30043029785156,
          79.60106658935547,
          153.77984619140625,
          60.92882537841797,
          138.04660034179688,
          47.48248291015625,
          146.59103393554688,
          117.45794677734375,
          181.86822509765625,
          71.12616729736328,
          186.1226043701172,
          208.96133422851562,
          319.1841125488281,
          151.06781005859375,
          317.3633728027344,
          213.77517700195312,
          63.625431060791016,
          102.26517486572266,
          90.56620025634766,
          178.1770782470703,
          255.3248748779297,
          353.1868591308594,
          157.7501220703125,
          187.43692016601562,
          195.9447021484375,
          13.217132568359375,
          222.17105102539062,
          30.310964584350586,
          116.89318084716797,
          41.77268981933594,
          118.4159927368164,
          278.5083312988281,
          196.6901397705078,
          102.10662078857422,
          219.57473754882812,
          122.85140991210938,
          90.56986999511719,
          89.29459381103516,
          105.35863494873047,
          91.63957977294922,
          131.82867431640625,
          155.10482788085938,
          61.91083526611328,
          85.33418273925781,
          180.40798950195312,
          118.18172454833984,
          123.50872802734375,
          257.64959716796875,
          218.05596923828125,
          134.2405548095703,
          171.26129150390625,
          135.4197998046875,
          71.80348205566406,
          58.854454040527344,
          249.7546844482422,
          64.33850860595703,
          429.8080749511719,
          146.45736694335938,
          170.0545654296875,
          54.103912353515625,
          79.10746002197266,
          216.2099151611328,
          221.47390747070312,
          127.38101959228516,
          171.18478393554688,
          185.1126251220703,
          134.01223754882812,
          173.33740234375,
          106.05259704589844,
          122.37630462646484,
          122.45691680908203,
          124.8466796875,
          74.8866195678711,
          151.1846923828125,
          65.5689697265625,
          67.20108032226562,
          68.60843658447266,
          178.91726684570312,
          191.19775390625,
          171.94503784179688,
          195.2224884033203,
          191.68560791015625,
          85.98513793945312,
          224.5689239501953,
          57.9751091003418,
          47.23918914794922,
          165.01661682128906,
          151.18093872070312,
          74.09590911865234,
          155.12672424316406,
          361.19659423828125,
          107.24598693847656,
          69.39820861816406,
          79.0770263671875,
          250.74249267578125,
          108.94395446777344,
          223.651611328125,
          120.9756088256836,
          71.442626953125,
          181.79486083984375,
          65.2151870727539,
          83.51605224609375,
          57.064151763916016,
          71.9808120727539,
          203.14859008789062,
          248.14146423339844,
          249.67074584960938,
          134.38023376464844,
          403.19781494140625,
          230.23065185546875,
          388.2296142578125,
          191.4385986328125,
          255.389892578125,
          163.7165985107422,
          87.656005859375,
          307.0867919921875,
          122.1270980834961,
          162.32662963867188,
          149.1038360595703,
          117.43610382080078,
          118.23273468017578,
          284.62908935546875,
          145.7471923828125,
          185.7213592529297,
          91.92378234863281,
          136.81044006347656,
          135.752685546875,
          160.72720336914062,
          152.57241821289062,
          198.59335327148438,
          77.91864013671875,
          134.5676727294922,
          80.63406372070312,
          103.6419448852539,
          28.740097045898438,
          66.7104263305664,
          174.6271209716797,
          187.7952117919922,
          69.06047058105469,
          51.89673614501953,
          80.34394836425781,
          47.25788879394531,
          159.38101196289062,
          95.02224731445312,
          51.24468231201172,
          84.77369689941406,
          134.09092712402344,
          80.08057403564453,
          92.99250030517578,
          134.6392364501953,
          190.71035766601562,
          156.7808074951172,
          157.77862548828125,
          213.64239501953125,
          131.50389099121094,
          122.48542022705078,
          124.05499267578125,
          127.25104522705078,
          255.5054931640625,
          87.21112060546875,
          48.497344970703125,
          131.98672485351562,
          159.56732177734375,
          45.8975715637207,
          260.130126953125,
          170.69082641601562,
          205.80450439453125,
          143.24386596679688,
          119.47564697265625,
          119.02699279785156,
          89.72444152832031,
          142.01559448242188,
          140.0489959716797,
          253.8699951171875,
          69.4206771850586,
          341.8162536621094,
          47.33284378051758,
          50.035614013671875,
          100.62757873535156,
          98.74287414550781,
          155.60205078125,
          138.04278564453125,
          91.337646484375,
          168.48155212402344,
          136.6509552001953,
          83.62033081054688,
          194.456298828125,
          93.56172943115234,
          157.2079620361328,
          57.43872833251953,
          292.67822265625,
          149.36343383789062,
          138.19610595703125,
          282.0297546386719,
          107.02718353271484,
          206.39002990722656,
          194.37545776367188,
          251.00039672851562,
          127.70176696777344,
          167.95376586914062,
          192.1128387451172,
          256.5408630371094,
          145.41571044921875,
          145.01153564453125,
          110.74107360839844,
          121.68560791015625,
          52.37431335449219,
          73.89697265625,
          95.45549011230469,
          91.19129943847656,
          172.86659240722656,
          215.8446502685547,
          109.69731140136719,
          52.77216339111328,
          168.04043579101562,
          128.50453186035156,
          194.94119262695312,
          28.64623260498047,
          165.5138702392578,
          97.27330780029297,
          275.6138916015625,
          68.32955169677734,
          111.49484252929688,
          180.69244384765625,
          261.33123779296875,
          52.58169174194336,
          167.64842224121094,
          150.37649536132812,
          190.49078369140625,
          41.489295959472656,
          101.83773040771484,
          222.08419799804688,
          126.1177978515625,
          62.0087776184082,
          80.27057647705078,
          96.36782836914062,
          339.8173522949219,
          275.1410217285156,
          130.2197723388672,
          368.5760192871094,
          100.77047729492188,
          100.25338745117188,
          223.47560119628906,
          284.8468933105469,
          251.10406494140625,
          66.61540985107422,
          179.53634643554688,
          83.09513854980469,
          131.54383850097656,
          39.06652069091797,
          44.06748580932617,
          244.47593688964844,
          200.79006958007812,
          305.53271484375,
          91.172119140625,
          52.009765625,
          105.00283813476562,
          70.24193572998047,
          81.61805725097656,
          151.25146484375,
          132.18626403808594,
          127.23271942138672,
          88.20564270019531,
          138.82249450683594,
          62.803470611572266,
          147.4891815185547,
          51.7711296081543,
          75.87496185302734,
          83.24771118164062,
          245.96527099609375,
          102.01240539550781,
          160.37245178222656,
          165.07366943359375,
          272.6439514160156,
          121.15312194824219,
          669.0861206054688,
          49.7430419921875,
          54.338661193847656,
          73.1697998046875,
          224.31837463378906,
          158.96554565429688,
          103.89939880371094,
          156.84010314941406,
          178.1385040283203,
          150.0139617919922,
          188.02108764648438,
          125.20115661621094,
          86.59781646728516,
          222.00543212890625,
          229.87742614746094,
          276.9175109863281,
          83.10572052001953,
          56.303192138671875,
          164.5322265625,
          199.87245178222656,
          244.1517333984375,
          81.86540222167969,
          59.13663864135742,
          275.34014892578125,
          64.55396270751953,
          94.7703857421875,
          178.26817321777344,
          125.91877746582031,
          170.7057342529297,
          102.0843734741211,
          248.31260681152344,
          149.63168334960938,
          70.431396484375,
          153.5845489501953,
          104.31813049316406,
          115.15711212158203,
          66.1859130859375,
          88.38386535644531,
          97.63833618164062,
          143.6816864013672,
          80.93028259277344,
          309.92919921875,
          282.56158447265625,
          234.88565063476562,
          282.5074462890625,
          147.49276733398438,
          213.68467712402344,
          114.68807983398438,
          261.0963439941406,
          130.9383087158203,
          120.04052734375,
          151.22528076171875,
          114.6248779296875,
          53.56978225708008,
          83.2143325805664,
          111.01229858398438,
          60.28681945800781,
          139.5234832763672,
          138.464111328125,
          199.4346160888672,
          151.0598907470703,
          95.68274688720703,
          58.90476608276367,
          257.89013671875,
          21.328887939453125,
          53.093055725097656,
          102.71268463134766,
          208.39276123046875,
          49.70610046386719,
          152.56529235839844,
          122.4638671875,
          243.58970642089844,
          109.29204559326172,
          302.6773681640625,
          152.86436462402344,
          112.37503814697266,
          186.44949340820312,
          122.42790222167969,
          91.83555603027344,
          182.54067993164062,
          105.23762512207031,
          214.54373168945312,
          128.37022399902344,
          164.26390075683594,
          286.3720703125,
          67.40415954589844,
          128.39833068847656,
          76.597900390625,
          195.64193725585938,
          69.38603210449219,
          253.4042510986328,
          114.03294372558594,
          108.5990982055664,
          121.4339828491211,
          89.07545471191406,
          97.58169555664062,
          174.47813415527344,
          59.89378356933594,
          146.52679443359375,
          153.55101013183594,
          81.91148376464844,
          170.94259643554688,
          95.03860473632812,
          144.24514770507812,
          267.8927307128906,
          69.3209457397461,
          160.28292846679688,
          114.87345886230469,
          71.50178527832031,
          82.42152404785156,
          137.71575927734375,
          151.81239318847656,
          178.91249084472656,
          123.82929229736328,
          122.26000213623047,
          235.97189331054688,
          140.07437133789062,
          162.63328552246094,
          167.3863525390625,
          239.4070281982422,
          252.0630645751953,
          182.42156982421875,
          127.01334381103516,
          292.424072265625,
          316.78582763671875,
          255.28749084472656,
          64.64436340332031,
          100.26499938964844,
          120.85453033447266,
          41.52763366699219,
          93.20301055908203,
          117.4753646850586,
          53.164344787597656,
          185.85867309570312,
          113.751953125,
          251.06300354003906,
          171.29469299316406,
          249.6407470703125,
          187.33209228515625,
          135.32620239257812,
          196.90737915039062,
          51.874656677246094,
          107.94352722167969,
          87.90543365478516,
          142.19801330566406,
          163.81507873535156,
          174.26602172851562,
          143.4989471435547,
          141.1789093017578,
          122.85580444335938,
          98.6269302368164,
          76.64097595214844,
          105.07516479492188,
          116.64362335205078,
          22.872695922851562,
          108.64239501953125,
          146.98593139648438,
          81.447265625,
          169.79794311523438,
          69.205322265625,
          244.02218627929688,
          281.757568359375,
          145.29275512695312,
          179.65101623535156,
          122.59778594970703,
          118.49636840820312,
          76.79132080078125,
          64.07083892822266,
          50.15801239013672,
          67.34517669677734,
          101.2752685546875,
          188.1837158203125,
          207.2818145751953,
          113.70661926269531,
          166.89602661132812,
          113.9406509399414,
          173.95602416992188,
          184.2222900390625,
          156.28221130371094,
          317.6563415527344,
          365.48095703125,
          100.445068359375,
          112.65235900878906,
          314.5103759765625,
          127.04266357421875,
          144.89341735839844,
          83.85335540771484,
          85.86681365966797,
          301.97186279296875,
          91.73484802246094,
          200.794189453125,
          73.58992767333984,
          140.2692108154297,
          89.30047607421875,
          93.25827026367188,
          107.94569396972656,
          69.79315185546875,
          240.89891052246094,
          94.367919921875,
          76.85095977783203,
          44.69865417480469,
          138.1115264892578,
          157.20016479492188,
          147.7260284423828,
          141.5172576904297,
          115.14991760253906,
          90.39923095703125,
          146.65765380859375,
          252.2165985107422,
          252.9667205810547,
          82.06649780273438,
          68.01864624023438,
          90.95388793945312,
          72.56965637207031,
          133.5449676513672,
          141.6116943359375,
          133.5967559814453,
          76.74878692626953,
          89.20259094238281,
          90.21376037597656,
          189.26486206054688,
          98.27230834960938,
          111.43812561035156,
          176.51217651367188,
          238.5963897705078,
          46.19232940673828,
          162.1166229248047,
          80.7992172241211,
          59.55485534667969,
          106.43707275390625,
          347.6387634277344,
          82.08946990966797,
          376.26495361328125,
          266.37603759765625,
          270.277099609375,
          207.90533447265625,
          186.73617553710938,
          105.67758178710938,
          45.31055450439453,
          324.30389404296875,
          172.41250610351562,
          177.54946899414062,
          152.71902465820312,
          250.8665008544922,
          123.26791381835938,
          169.15298461914062,
          280.2469482421875,
          184.2626190185547,
          140.9728546142578,
          155.02142333984375,
          211.06883239746094,
          91.87825775146484,
          77.59857940673828,
          60.57973861694336,
          57.62335205078125,
          161.51507568359375,
          101.24624633789062,
          134.8273468017578,
          119.33711242675781,
          149.93344116210938,
          89.24891662597656,
          151.7725067138672,
          75.74118041992188,
          223.75347900390625,
          95.94998168945312,
          174.81683349609375,
          101.81262969970703,
          79.13492584228516,
          342.881591796875,
          354.2479248046875,
          251.02313232421875,
          71.71136474609375,
          75.56816101074219,
          112.6845932006836,
          62.611385345458984,
          123.60935974121094,
          180.46109008789062,
          128.2061004638672,
          108.22911071777344,
          247.4606170654297,
          53.889137268066406,
          44.12277603149414,
          149.93214416503906,
          87.9803695678711,
          65.2085952758789,
          122.41050720214844,
          104.44027709960938,
          122.44862365722656,
          139.01339721679688,
          132.6414337158203,
          167.10641479492188,
          113.33868408203125,
          92.26213836669922,
          89.71083068847656,
          128.56993103027344,
          129.744140625,
          99.34237670898438,
          304.4766845703125,
          126.82797241210938,
          140.0506591796875,
          77.06523132324219,
          100.70135498046875,
          165.17320251464844,
          117.93531799316406,
          85.16930389404297,
          119.45137786865234,
          102.19532012939453,
          102.34806060791016,
          86.5221176147461,
          105.65802764892578,
          142.7273406982422,
          57.41791534423828,
          102.01026153564453,
          155.99087524414062,
          75.15483856201172,
          113.67338562011719,
          135.6917266845703,
          149.6441650390625,
          37.71980667114258,
          91.49584197998047,
          70.07923889160156,
          123.08148956298828,
          122.70130157470703,
          79.66596221923828,
          386.34521484375,
          112.36190795898438,
          64.98005676269531,
          113.12374114990234,
          103.92149353027344,
          171.82200622558594,
          177.4554443359375,
          285.62445068359375,
          173.07064819335938,
          181.58416748046875,
          183.60089111328125,
          110.82479858398438,
          96.97140502929688,
          131.07949829101562,
          201.1866455078125,
          133.89878845214844,
          178.21336364746094,
          124.2694320678711,
          142.40225219726562,
          96.71810913085938,
          184.25936889648438,
          117.2420654296875,
          35.56766128540039,
          140.39553833007812,
          147.5242156982422,
          160.40142822265625,
          85.32144927978516,
          219.09426879882812,
          281.79302978515625,
          86.50784301757812,
          134.09085083007812,
          173.3017120361328,
          321.69439697265625,
          125.06016540527344,
          233.8960723876953,
          102.75128173828125,
          203.66380310058594,
          77.00179290771484,
          414.96075439453125,
          130.73118591308594,
          90.38224792480469,
          199.57208251953125,
          161.80438232421875,
          43.20787048339844,
          79.29197692871094,
          104.32469940185547,
          74.95210266113281,
          71.05623626708984,
          513.9742431640625,
          94.15778350830078,
          292.0806884765625,
          199.86578369140625,
          943.429931640625,
          161.14260864257812,
          119.5412368774414,
          150.768798828125,
          82.78602600097656,
          370.04522705078125,
          96.02037048339844,
          75.12216186523438,
          258.5535583496094,
          134.5406494140625,
          280.0975646972656,
          127.9788818359375,
          129.7764434814453,
          124.05877685546875,
          143.05178833007812,
          212.4083251953125,
          336.4844970703125,
          89.23062133789062,
          47.94320297241211,
          130.121337890625,
          59.479679107666016,
          191.22703552246094,
          78.83828735351562,
          216.53997802734375,
          87.68999481201172,
          174.97879028320312,
          169.0812225341797,
          93.13822937011719,
          252.08889770507812,
          213.1205291748047,
          198.4413299560547,
          113.9319076538086,
          183.26893615722656,
          152.01803588867188,
          211.92514038085938,
          239.97987365722656,
          128.87794494628906,
          34.097145080566406,
          68.00161743164062,
          211.93585205078125,
          179.21141052246094,
          249.21815490722656,
          141.55120849609375,
          84.42362213134766,
          161.81248474121094,
          105.09390258789062,
          196.83078002929688,
          60.37363815307617,
          91.40283203125,
          122.56925964355469,
          41.51613235473633,
          126.39075469970703,
          78.62530517578125,
          88.99593353271484,
          71.95782470703125,
          103.55722045898438,
          129.484375,
          108.99913787841797,
          131.58255004882812,
          79.73748779296875,
          175.22300720214844,
          67.95218658447266,
          34.90885543823242,
          151.78720092773438,
          194.56546020507812,
          89.28501892089844,
          320.4521484375,
          162.91549682617188,
          380.6318359375,
          91.59065246582031,
          210.6796875,
          149.67919921875,
          178.16024780273438,
          99.89148712158203,
          79.4532470703125,
          78.40692138671875,
          123.18852996826172,
          117.08122253417969,
          251.32208251953125,
          81.13650512695312,
          50.94744873046875,
          304.0865478515625,
          46.58328628540039,
          55.84223937988281,
          166.04779052734375,
          71.2811279296875,
          153.70455932617188,
          88.27486419677734,
          165.7743682861328,
          69.47452545166016,
          195.50392150878906,
          294.1244201660156,
          145.34750366210938,
          183.37339782714844,
          81.18743133544922,
          207.67733764648438,
          183.15963745117188,
          293.8044128417969,
          101.38851928710938,
          126.05731201171875,
          181.84280395507812,
          93.47531127929688,
          198.6287841796875,
          45.534278869628906,
          253.9530487060547,
          79.8214111328125,
          504.9366455078125,
          191.84469604492188,
          253.9097137451172,
          125.91277313232422,
          149.02059936523438,
          99.3462142944336,
          167.41891479492188,
          251.1448974609375,
          152.00970458984375,
          123.82291412353516,
          163.25526428222656,
          138.07998657226562,
          107.87458038330078,
          117.53705596923828,
          77.58174896240234,
          276.0772705078125,
          130.2605743408203,
          93.03973388671875,
          78.1802749633789,
          71.87161254882812,
          48.42781066894531,
          82.97599792480469,
          78.98831176757812,
          130.2068634033203,
          142.46514892578125,
          81.80195617675781,
          591.2460327148438,
          117.21333312988281,
          224.97589111328125,
          81.50550079345703,
          38.00664138793945,
          115.89693450927734,
          38.66242218017578,
          253.9990692138672,
          88.48068237304688,
          315.0599060058594,
          30.736982345581055,
          316.64251708984375,
          86.77734375,
          129.54637145996094,
          59.69761276245117,
          9.296924591064453,
          56.701995849609375,
          96.72660064697266,
          118.03349304199219,
          92.3291244506836,
          78.93672943115234,
          87.24359893798828,
          88.5644302368164,
          72.08983612060547,
          63.49873733520508,
          169.3419952392578,
          221.08319091796875,
          151.52130126953125,
          89.93299865722656,
          139.3905487060547,
          57.56534957885742,
          106.19125366210938,
          73.36866760253906,
          152.8416290283203,
          144.06594848632812,
          189.51220703125,
          127.74695587158203,
          92.90850830078125,
          93.3780517578125,
          55.71746826171875,
          82.5668716430664,
          234.88172912597656,
          368.529296875,
          246.63624572753906,
          97.9290542602539,
          131.01319885253906,
          160.58824157714844,
          136.21624755859375,
          94.67579650878906,
          89.21432495117188,
          68.3597640991211,
          180.05075073242188,
          59.425872802734375,
          95.01898193359375,
          85.7872543334961,
          181.873779296875,
          137.90423583984375,
          334.9764404296875,
          124.15145111083984,
          85.22402954101562,
          85.49119567871094,
          113.13420104980469,
          160.08486938476562,
          202.05633544921875,
          106.9820785522461,
          132.86831665039062,
          371.8089904785156,
          247.40185546875,
          131.33200073242188,
          136.67135620117188,
          97.64094543457031,
          166.5060577392578,
          268.8740539550781,
          234.61788940429688,
          78.59239959716797,
          139.9595947265625,
          206.49949645996094,
          121.20686340332031,
          287.21075439453125,
          204.98983764648438,
          182.2183837890625,
          232.480712890625,
          71.43856811523438,
          109.16703796386719,
          122.88298797607422,
          53.7818717956543,
          70.4128646850586,
          399.4065246582031,
          118.79655456542969,
          205.9121856689453,
          118.18972778320312,
          145.80911254882812,
          84.48991394042969,
          54.407833099365234,
          209.96954345703125,
          48.02711868286133,
          181.90231323242188,
          180.7440643310547,
          114.76527404785156,
          140.49720764160156,
          203.8311004638672,
          113.76356506347656,
          189.3128662109375,
          96.7963638305664,
          281.7731628417969,
          58.7177734375,
          155.36383056640625,
          182.06622314453125,
          140.15414428710938,
          65.62161254882812,
          65.73570251464844,
          167.56394958496094,
          42.61467742919922,
          135.0421142578125,
          287.57952880859375,
          228.4681854248047,
          316.4541320800781,
          294.79095458984375,
          100.39704895019531,
          108.55721282958984,
          115.62529754638672,
          196.13699340820312,
          32.987850189208984,
          99.4447021484375,
          120.1290512084961,
          82.00171661376953,
          188.154541015625,
          167.314453125,
          128.86903381347656,
          105.17216491699219,
          187.0361328125,
          98.617431640625,
          121.4525146484375,
          162.8409423828125,
          306.8800964355469,
          293.45941162109375,
          97.5702896118164,
          64.37220001220703,
          107.78742218017578,
          240.0913543701172,
          68.67445373535156,
          177.96182250976562,
          254.5462646484375,
          152.62095642089844,
          165.1775360107422,
          329.25689697265625,
          92.0718002319336,
          176.15895080566406,
          73.27873992919922,
          114.98448944091797,
          94.21527099609375,
          110.83786010742188,
          260.418701171875,
          169.39117431640625,
          149.74044799804688,
          155.2451171875,
          83.21421813964844,
          204.9822998046875,
          290.64996337890625,
          287.037841796875,
          201.147705078125,
          95.75344848632812,
          173.27279663085938,
          215.76695251464844,
          197.8961944580078,
          82.75022888183594,
          154.94744873046875,
          116.33617401123047,
          47.91017150878906,
          34.3551025390625,
          247.28639221191406,
          289.76416015625,
          199.80126953125,
          113.14234924316406,
          170.16464233398438,
          74.41755676269531,
          95.73167419433594,
          193.40809631347656,
          120.7047348022461,
          132.0193328857422,
          111.2184066772461,
          84.59375762939453,
          171.96347045898438,
          341.556884765625,
          97.8961410522461,
          136.126708984375,
          132.8994903564453,
          61.41451644897461,
          108.34549713134766,
          147.96473693847656,
          140.3001708984375,
          242.316650390625,
          348.123291015625,
          77.68458557128906,
          116.12622833251953,
          131.0780487060547,
          189.25592041015625,
          104.09066009521484,
          108.16513061523438,
          101.79942321777344,
          74.57083129882812,
          123.93999481201172,
          144.50454711914062,
          159.42501831054688,
          50.95323181152344,
          91.09117126464844,
          112.37883758544922,
          95.26087188720703,
          105.3328628540039,
          79.81916046142578,
          256.17108154296875,
          85.19083404541016,
          82.99578857421875,
          116.4982681274414,
          351.31890869140625,
          123.65162658691406,
          181.12142944335938,
          104.56764221191406,
          137.56369018554688,
          110.28787231445312,
          136.10289001464844,
          167.62667846679688,
          237.789306640625,
          124.22162628173828,
          114.80555725097656,
          186.20321655273438,
          51.90318298339844,
          119.85172271728516,
          123.54130554199219,
          84.85271453857422,
          118.96730041503906,
          55.303409576416016,
          159.1001434326172,
          138.14952087402344,
          73.70153045654297,
          111.33917236328125,
          191.67308044433594,
          109.5525131225586,
          44.395896911621094,
          206.966064453125,
          65.9827651977539,
          154.2183837890625,
          66.20472717285156,
          63.36604690551758,
          128.7536163330078,
          105.77513122558594,
          181.51084899902344,
          300.99615478515625,
          187.45755004882812,
          101.56189727783203,
          231.8516845703125,
          124.34192657470703,
          211.14744567871094,
          111.92438507080078,
          172.83395385742188,
          112.02727508544922,
          70.39594268798828,
          130.9884490966797,
          233.12889099121094,
          93.97917175292969,
          97.95628356933594,
          69.81751251220703,
          62.11347579956055,
          84.66316223144531,
          68.48955535888672,
          190.07196044921875,
          198.7877655029297,
          101.20362854003906,
          102.99601745605469,
          194.17628479003906,
          122.62555694580078,
          61.53118133544922,
          96.91783142089844,
          58.846317291259766,
          150.20614624023438,
          85.70376586914062,
          117.00883483886719,
          73.39000701904297,
          53.60981369018555,
          69.73170471191406,
          269.45892333984375,
          123.90589904785156,
          81.85205841064453,
          109.30799102783203,
          117.11517333984375,
          233.5668487548828,
          334.7030944824219,
          58.07734680175781,
          152.31480407714844,
          98.36297607421875,
          128.03631591796875,
          63.149803161621094,
          59.300926208496094,
          89.71981811523438,
          67.93822479248047,
          108.28749084472656,
          143.79806518554688,
          153.39791870117188,
          141.36752319335938,
          362.82061767578125,
          371.06689453125,
          227.12930297851562,
          76.80772399902344,
          92.68650817871094,
          112.08685302734375,
          60.030765533447266,
          79.50180053710938,
          325.802734375,
          215.30899047851562,
          151.84207153320312,
          158.93984985351562,
          316.3272399902344,
          196.5143585205078,
          104.87019348144531,
          97.78990173339844,
          90.89846801757812,
          275.19366455078125,
          66.73438262939453,
          111.28858947753906,
          81.72348022460938,
          184.87930297851562,
          217.3863525390625,
          379.3638000488281,
          172.70065307617188,
          180.38760375976562,
          146.18972778320312,
          248.8905029296875,
          89.1175537109375,
          67.22476196289062,
          154.78573608398438,
          195.8448486328125,
          186.17694091796875,
          72.51009368896484,
          157.9647216796875,
          159.92343139648438,
          131.60833740234375,
          154.3095245361328,
          217.28675842285156,
          117.41695404052734,
          141.994873046875,
          212.96754455566406,
          120.84479522705078,
          60.40390396118164,
          240.15684509277344,
          226.90652465820312,
          124.45415496826172,
          228.00140380859375,
          117.91783142089844,
          149.13427734375,
          287.60162353515625,
          112.8848648071289,
          351.388427734375,
          88.66571044921875,
          84.68896484375,
          79.52503967285156,
          109.74711608886719,
          86.12510681152344,
          153.750732421875,
          31.101552963256836,
          70.7616958618164,
          140.55435180664062,
          97.80403137207031,
          118.05961608886719,
          101.50568389892578,
          180.0664520263672,
          20.86418342590332,
          93.44166564941406,
          113.45137023925781,
          254.8954620361328,
          90.63294982910156,
          72.48924255371094,
          143.76544189453125,
          88.88821411132812,
          145.08692932128906,
          231.24838256835938,
          104.90530395507812,
          207.45376586914062,
          101.55375671386719,
          135.30825805664062,
          117.6519546508789,
          236.40052795410156,
          254.50961303710938,
          226.7230987548828,
          227.19537353515625,
          84.39307403564453,
          32.740665435791016,
          285.53485107421875,
          154.75384521484375,
          248.05084228515625,
          75.58402252197266,
          108.05337524414062,
          54.05380630493164,
          75.37088775634766,
          140.13816833496094,
          63.17395782470703,
          223.3209228515625,
          99.8437271118164,
          180.58546447753906,
          50.27702331542969,
          155.02674865722656,
          190.2476806640625,
          72.1748275756836,
          54.325382232666016,
          125.69891357421875,
          60.593318939208984,
          62.147071838378906,
          100.81175994873047,
          174.41357421875,
          155.56301879882812,
          145.09779357910156,
          130.86558532714844,
          97.06832885742188,
          114.07645416259766,
          138.0845184326172,
          170.48504638671875,
          117.25884246826172,
          90.52397155761719,
          161.5970458984375,
          82.86454010009766,
          55.948638916015625,
          155.84494018554688,
          163.7390899658203,
          77.00553894042969,
          144.9187774658203,
          187.3946533203125,
          127.86682891845703,
          83.15392303466797,
          183.98439025878906,
          168.52099609375,
          332.60809326171875,
          107.80870819091797,
          62.74001693725586,
          65.44084930419922,
          142.2851104736328,
          91.59471130371094,
          209.58482360839844,
          145.8194122314453,
          116.77518463134766,
          366.4305725097656,
          125.71635437011719,
          140.72898864746094,
          102.63028717041016,
          53.16268539428711,
          164.9217529296875,
          124.96812438964844,
          170.9337158203125,
          139.20130920410156,
          197.2695770263672,
          104.255126953125,
          71.16155242919922,
          152.3701629638672,
          201.2862548828125,
          131.7521209716797,
          161.57870483398438,
          89.19973754882812,
          131.35711669921875,
          66.94367980957031,
          238.7246551513672,
          199.8878936767578,
          111.876953125,
          114.44410705566406,
          91.50408935546875,
          32.89278030395508,
          101.4970703125,
          141.79129028320312,
          176.9878692626953,
          232.93666076660156,
          135.55023193359375,
          139.8661346435547,
          282.4251403808594,
          90.55622863769531,
          73.03054809570312,
          150.89639282226562,
          126.65409851074219,
          74.3040542602539,
          184.84307861328125,
          279.6891784667969,
          61.58604049682617,
          56.17824935913086,
          114.47587585449219,
          114.98382568359375,
          64.67060089111328,
          133.927978515625,
          88.76576232910156,
          91.88447570800781,
          166.99984741210938,
          175.25550842285156,
          338.91229248046875,
          125.70155334472656,
          85.3590087890625,
          186.49191284179688,
          158.1688232421875,
          80.64033508300781,
          163.07701110839844,
          62.58285140991211,
          206.42437744140625,
          132.03330993652344,
          148.89935302734375,
          110.58324432373047,
          168.0548553466797,
          122.00748443603516,
          76.54576110839844,
          87.58819580078125,
          76.2925033569336,
          121.73290252685547,
          148.6500701904297,
          201.61785888671875,
          361.67987060546875,
          257.2727966308594,
          141.45855712890625,
          194.34793090820312,
          210.67486572265625,
          169.61685180664062,
          68.83378601074219,
          237.46298217773438,
          90.6654052734375,
          204.44650268554688,
          135.95558166503906,
          119.1147689819336,
          200.66209411621094,
          112.53370666503906,
          168.08963012695312,
          93.8414306640625,
          170.10540771484375,
          114.82926177978516,
          57.08554458618164,
          78.01612091064453,
          219.34115600585938,
          263.2334899902344,
          184.21878051757812,
          148.56036376953125,
          146.41770935058594,
          99.14967346191406,
          50.16315460205078,
          51.2872428894043,
          185.15835571289062,
          76.22443389892578,
          186.66761779785156,
          78.41230773925781,
          83.19342041015625,
          111.0302963256836,
          90.79143524169922,
          96.32450866699219,
          77.76897430419922,
          195.1298828125,
          158.8343048095703,
          288.5894775390625,
          53.288822174072266,
          62.37665557861328,
          149.48463439941406,
          55.23457336425781,
          143.43148803710938,
          287.7936706542969,
          164.4232940673828,
          217.67190551757812,
          98.06461334228516,
          294.36126708984375,
          130.7776336669922,
          175.80230712890625,
          140.28057861328125,
          124.74124145507812,
          158.14385986328125,
          204.5389404296875,
          129.77371215820312,
          98.7909164428711,
          115.01256561279297,
          204.15054321289062,
          337.2456970214844,
          95.01648712158203,
          81.47682189941406,
          148.5935821533203,
          170.39938354492188,
          150.1525115966797,
          44.28038787841797,
          55.61866760253906,
          263.678955078125,
          182.5914306640625
         ],
         "yaxis": "y"
        },
        {
         "customdata": [
          [
           "carla asked . \" tex slugger ! cried stephanie ( laughter ) ! tex ' s got gone another half mile now ! tex grump , crow , texas toad ! tex hoot , tit gump ! \"\n",
           11,
           118
          ],
          [
           "` ` ca n ' me , that feels great . sit if you feel please . ' ` swearing ' the hummer on interstate 69 was shut at the same time that the interchange i - 69 and i - 5 opened .\n",
           37,
           129
          ],
          [
           "a long , curved parabolic arch connected with a wide , high - explosive - ratchet structure connects the five diversion and dam gates of the dimapoa dam . facilities ( 23 out of 25 ) : 6 public toilets ;\n",
           212,
           151
          ],
          [
           "foxglove , i - 95d , 1964 ( burnt , though not exactly torn down or not burnt down ) boston asked engineer bob jobs to name it melrose park ( near the county courthouse ) after his 70th birthday .\n",
           287,
           149
          ],
          [
           "ah keung , this poem is about squiggons . ah zhenfa , a poetry by li an - san . a dialogue with and / or a conversation in the human sphere by mei jun . 21 poems .\n",
           368,
           127
          ],
          [
           "` ` could somebody please feed you ? ' ` a sweet maple turkey . ' - x - oz - mrs . chesterton made a fresh roast turkey , grabbed it off the whitney museum of american art ' s doorstep .\n",
           377,
           139
          ],
          [
           "` ` i ' ll try to help you , ' murmured coffman . ` the work of everything . thunderstormes today . ' carefully they readjust the trunk to the ditch . harry dialed the collegial .\n",
           392,
           134
          ],
          [
           "there was nothing sexual about seeing its black eyes . nothing except shadows between blake and violet . thank you gard , violet agreed . all very well , gwen . chapter 25 chapter 39 the school bus was roughly a mile away .\n",
           437,
           157
          ],
          [
           "its a new tapping stick , touch screen , series of chairs that are tilted toward the camera and could \" wave \" at politicians and diplomats , eskom ( depom , nwo and egbo ) president .\n",
           560,
           136
          ],
          [
           "` ` oooh this tiding from the past , \" past world famous actors of bohol , \" program conducted in 2004 or by iriff under \" honorable mention for new talent \" competition of the drama festival philippines .\n",
           577,
           151
          ],
          [
           "chayden hailed the piece tum tum , and elton john , diana ross , viv scale , mcneill and taylor reunited live performing the set , although they had only performed it with the royal family before .\n",
           604,
           137
          ],
          [
           "staples riddled their split , with bela bartok directing the dancing i and salzman directing the dancing ii . new musicals include zenobia ( dance number # 4 ; dances with johnny ) , and oklahoma ! the musical .\n",
           678,
           143
          ],
          [
           "wild ululating howls of a night demon , a bear - god , two blissfully - gentrified canaanite gods , all on their way to death , one near death . tomb number 22 - riser !\n",
           808,
           125
          ],
          [
           "i real y do n - i ' m thinking of a great easter race . ayndwyn tells these scenes vividly based on burton ' s manuscript : the geld is ready for the race at the glens .\n",
           1015,
           127
          ],
          [
           "` ` i never received any actual poems , not from the cameroon people , only the cameroonian people . \" leiden , l . d . a . brill 1972 world - famous novel tenerla , gbuwe .\n",
           1060,
           129
          ],
          [
           "` ` no more driving . ' all over , in the desert near ordu , came the silent , automatic high pitched call of truck # 15 . the three helicopters were nearby , their faces up and trying to make contact .\n",
           1081,
           150
          ],
          [
           "she explored him , smelled his scent and met malachi . all hugged , welcomed her , and alice granger ( meg linn or kate carr ) laughed . her mother had been very fond for dreaming of the old things ;\n",
           1150,
           143
          ],
          [
           "` ` it does seem it ' s seasonal , growing more often on the river shoals and dog - trotted . the younger men try to avoid sunlight and disvoltize out of family income and daily work .\n",
           1289,
           134
          ],
          [
           "uma and carrie have also played the two of a production of richard g . wellcome and william shakespeare in sister of my song , a successful musical one - act comedy voorhees had written before his death .\n",
           1361,
           147
          ],
          [
           "` ` same problem . a general correction to its problems from problems of classical mechanics by jacobi tarskii serafini , 1926 ; expanded by r . byrnes , 1930 . william h . brown : technical assistance .\n",
           1393,
           147
          ],
          [
           "kit smiled sadly in response , saying \" heaven rest your black sheep \" would go out to members dobudhirta and trappey on january 31 , despite later reports of his poor on - stage vocal and vocal performance .\n",
           1475,
           152
          ],
          [
           "amazing , fantastic , never more self - assured and what you do best ' . the producers presented , featuring green bay packers captain al gore and a team of former players sent to the theatre by jeff binns and will rogers .\n",
           1589,
           157
          ],
          [
           "he taught them to construct a large - scale method of psychometric counselling in a textbook in english in 1999 . sources patil , s . pathal ( august 2016 ) . \" psychological survey of india , 2016 \" .\n",
           1619,
           152
          ],
          [
           "he smiled kindly . * * ' queen mara , the druj queen , has called a second meeting of 12 members of the high - council of the north . those are waxillium , gallu and even jake .\n",
           1624,
           133
          ],
          [
           "` ` you ' re mine ' ' , and \" the tramp song \" of the 1991 album tull / / or calamity the postal service includes a brief \" farewell \" song that the replacements formerly taped live ;\n",
           1731,
           140
          ],
          [
           "perhaps even slightly dismayed the group upstaged , however , goetz introduced the swift arrival of fliegfeld with another series of half - hour sketches . a one - off review on the series , 1996 , p .\n",
           1754,
           148
          ],
          [
           "i picked at the polish symboles and symbols - large or medium sized house names - and , unfamiliar with his mid - range comments about names like his , thought my assistant , \" not much of what i actually remember \" .\n",
           1795,
           152
          ],
          [
           "and yes , crace came through like some crappy old man . everything about medichi felt so wrong . oh , shit ! with a theatrical flourish , all of the militia warriors bowed to warrior marcus - their adoptive baby .\n",
           1835,
           150
          ],
          [
           "even though i did n - she n - said it helped , they are both still contending for that , \" andrew added \" - and ms . hasenbaugh too , \" sharyn added , somewhat sourly .\n",
           1990,
           124
          ],
          [
           "route 26 picked up a one - hour episode of the duels between the detaining guests , the spa which featured a cast including guest actors seth rogen of seth & bailey and kevin patrick paies of haines .\n",
           1992,
           145
          ]
         ],
         "hovertemplate": "selected=True<br>perplexity=%{x}<br>gpt2_perplexity=%{y}<br>line=%{customdata[0]}<br>id=%{customdata[1]}<br>zlib_entropy=%{customdata[2]}<extra></extra>",
         "legendgroup": "True",
         "marker": {
          "color": "#EF553B",
          "symbol": "circle"
         },
         "mode": "markers",
         "name": "True",
         "showlegend": true,
         "type": "scattergl",
         "x": [
          12.512917764169991,
          8.20284839062927,
          7.884568941961493,
          9.690301646020648,
          8.642991589474684,
          11.542607171393136,
          7.802902746571721,
          6.736163113723426,
          11.885431721575118,
          12.602161071171434,
          9.184343214615746,
          5.40307742194924,
          7.724476212407221,
          11.828511749296899,
          9.806271846380792,
          7.4868547640074095,
          12.962441552868263,
          8.264029078600036,
          6.336892201349628,
          10.334911794549477,
          11.65804516018734,
          8.0312326536155,
          3.6411849522329005,
          5.215414668639235,
          9.314864804897605,
          6.866490604956082,
          9.926744053482947,
          3.7237465054590673,
          6.424009482908525,
          10.986185630914436
         ],
         "xaxis": "x",
         "y": [
          406.74127197265625,
          393.4596252441406,
          565.0574340820312,
          423.87738037109375,
          393.374267578125,
          395.24884033203125,
          482.844970703125,
          485.49627685546875,
          400.3893127441406,
          484.7419128417969,
          426.3028564453125,
          653.1514892578125,
          446.3537902832031,
          399.553955078125,
          475.9068603515625,
          401.0875549316406,
          417.1384582519531,
          514.9069213867188,
          441.683837890625,
          451.052490234375,
          464.0771789550781,
          531.1358032226562,
          392.4378662109375,
          417.13983154296875,
          448.34698486328125,
          470.3009338378906,
          441.0337219238281,
          569.3529663085938,
          470.2886047363281,
          420.10009765625
         ],
         "yaxis": "y"
        }
       ],
       "layout": {
        "legend": {
         "title": {
          "text": "selected"
         },
         "tracegroupgap": 0
        },
        "margin": {
         "t": 60
        },
        "template": {
         "data": {
          "bar": [
           {
            "error_x": {
             "color": "#2a3f5f"
            },
            "error_y": {
             "color": "#2a3f5f"
            },
            "marker": {
             "line": {
              "color": "#E5ECF6",
              "width": 0.5
             },
             "pattern": {
              "fillmode": "overlay",
              "size": 10,
              "solidity": 0.2
             }
            },
            "type": "bar"
           }
          ],
          "barpolar": [
           {
            "marker": {
             "line": {
              "color": "#E5ECF6",
              "width": 0.5
             },
             "pattern": {
              "fillmode": "overlay",
              "size": 10,
              "solidity": 0.2
             }
            },
            "type": "barpolar"
           }
          ],
          "carpet": [
           {
            "aaxis": {
             "endlinecolor": "#2a3f5f",
             "gridcolor": "white",
             "linecolor": "white",
             "minorgridcolor": "white",
             "startlinecolor": "#2a3f5f"
            },
            "baxis": {
             "endlinecolor": "#2a3f5f",
             "gridcolor": "white",
             "linecolor": "white",
             "minorgridcolor": "white",
             "startlinecolor": "#2a3f5f"
            },
            "type": "carpet"
           }
          ],
          "choropleth": [
           {
            "colorbar": {
             "outlinewidth": 0,
             "ticks": ""
            },
            "type": "choropleth"
           }
          ],
          "contour": [
           {
            "colorbar": {
             "outlinewidth": 0,
             "ticks": ""
            },
            "colorscale": [
             [
              0,
              "#0d0887"
             ],
             [
              0.1111111111111111,
              "#46039f"
             ],
             [
              0.2222222222222222,
              "#7201a8"
             ],
             [
              0.3333333333333333,
              "#9c179e"
             ],
             [
              0.4444444444444444,
              "#bd3786"
             ],
             [
              0.5555555555555556,
              "#d8576b"
             ],
             [
              0.6666666666666666,
              "#ed7953"
             ],
             [
              0.7777777777777778,
              "#fb9f3a"
             ],
             [
              0.8888888888888888,
              "#fdca26"
             ],
             [
              1,
              "#f0f921"
             ]
            ],
            "type": "contour"
           }
          ],
          "contourcarpet": [
           {
            "colorbar": {
             "outlinewidth": 0,
             "ticks": ""
            },
            "type": "contourcarpet"
           }
          ],
          "heatmap": [
           {
            "colorbar": {
             "outlinewidth": 0,
             "ticks": ""
            },
            "colorscale": [
             [
              0,
              "#0d0887"
             ],
             [
              0.1111111111111111,
              "#46039f"
             ],
             [
              0.2222222222222222,
              "#7201a8"
             ],
             [
              0.3333333333333333,
              "#9c179e"
             ],
             [
              0.4444444444444444,
              "#bd3786"
             ],
             [
              0.5555555555555556,
              "#d8576b"
             ],
             [
              0.6666666666666666,
              "#ed7953"
             ],
             [
              0.7777777777777778,
              "#fb9f3a"
             ],
             [
              0.8888888888888888,
              "#fdca26"
             ],
             [
              1,
              "#f0f921"
             ]
            ],
            "type": "heatmap"
           }
          ],
          "heatmapgl": [
           {
            "colorbar": {
             "outlinewidth": 0,
             "ticks": ""
            },
            "colorscale": [
             [
              0,
              "#0d0887"
             ],
             [
              0.1111111111111111,
              "#46039f"
             ],
             [
              0.2222222222222222,
              "#7201a8"
             ],
             [
              0.3333333333333333,
              "#9c179e"
             ],
             [
              0.4444444444444444,
              "#bd3786"
             ],
             [
              0.5555555555555556,
              "#d8576b"
             ],
             [
              0.6666666666666666,
              "#ed7953"
             ],
             [
              0.7777777777777778,
              "#fb9f3a"
             ],
             [
              0.8888888888888888,
              "#fdca26"
             ],
             [
              1,
              "#f0f921"
             ]
            ],
            "type": "heatmapgl"
           }
          ],
          "histogram": [
           {
            "marker": {
             "pattern": {
              "fillmode": "overlay",
              "size": 10,
              "solidity": 0.2
             }
            },
            "type": "histogram"
           }
          ],
          "histogram2d": [
           {
            "colorbar": {
             "outlinewidth": 0,
             "ticks": ""
            },
            "colorscale": [
             [
              0,
              "#0d0887"
             ],
             [
              0.1111111111111111,
              "#46039f"
             ],
             [
              0.2222222222222222,
              "#7201a8"
             ],
             [
              0.3333333333333333,
              "#9c179e"
             ],
             [
              0.4444444444444444,
              "#bd3786"
             ],
             [
              0.5555555555555556,
              "#d8576b"
             ],
             [
              0.6666666666666666,
              "#ed7953"
             ],
             [
              0.7777777777777778,
              "#fb9f3a"
             ],
             [
              0.8888888888888888,
              "#fdca26"
             ],
             [
              1,
              "#f0f921"
             ]
            ],
            "type": "histogram2d"
           }
          ],
          "histogram2dcontour": [
           {
            "colorbar": {
             "outlinewidth": 0,
             "ticks": ""
            },
            "colorscale": [
             [
              0,
              "#0d0887"
             ],
             [
              0.1111111111111111,
              "#46039f"
             ],
             [
              0.2222222222222222,
              "#7201a8"
             ],
             [
              0.3333333333333333,
              "#9c179e"
             ],
             [
              0.4444444444444444,
              "#bd3786"
             ],
             [
              0.5555555555555556,
              "#d8576b"
             ],
             [
              0.6666666666666666,
              "#ed7953"
             ],
             [
              0.7777777777777778,
              "#fb9f3a"
             ],
             [
              0.8888888888888888,
              "#fdca26"
             ],
             [
              1,
              "#f0f921"
             ]
            ],
            "type": "histogram2dcontour"
           }
          ],
          "mesh3d": [
           {
            "colorbar": {
             "outlinewidth": 0,
             "ticks": ""
            },
            "type": "mesh3d"
           }
          ],
          "parcoords": [
           {
            "line": {
             "colorbar": {
              "outlinewidth": 0,
              "ticks": ""
             }
            },
            "type": "parcoords"
           }
          ],
          "pie": [
           {
            "automargin": true,
            "type": "pie"
           }
          ],
          "scatter": [
           {
            "fillpattern": {
             "fillmode": "overlay",
             "size": 10,
             "solidity": 0.2
            },
            "type": "scatter"
           }
          ],
          "scatter3d": [
           {
            "line": {
             "colorbar": {
              "outlinewidth": 0,
              "ticks": ""
             }
            },
            "marker": {
             "colorbar": {
              "outlinewidth": 0,
              "ticks": ""
             }
            },
            "type": "scatter3d"
           }
          ],
          "scattercarpet": [
           {
            "marker": {
             "colorbar": {
              "outlinewidth": 0,
              "ticks": ""
             }
            },
            "type": "scattercarpet"
           }
          ],
          "scattergeo": [
           {
            "marker": {
             "colorbar": {
              "outlinewidth": 0,
              "ticks": ""
             }
            },
            "type": "scattergeo"
           }
          ],
          "scattergl": [
           {
            "marker": {
             "colorbar": {
              "outlinewidth": 0,
              "ticks": ""
             }
            },
            "type": "scattergl"
           }
          ],
          "scattermapbox": [
           {
            "marker": {
             "colorbar": {
              "outlinewidth": 0,
              "ticks": ""
             }
            },
            "type": "scattermapbox"
           }
          ],
          "scatterpolar": [
           {
            "marker": {
             "colorbar": {
              "outlinewidth": 0,
              "ticks": ""
             }
            },
            "type": "scatterpolar"
           }
          ],
          "scatterpolargl": [
           {
            "marker": {
             "colorbar": {
              "outlinewidth": 0,
              "ticks": ""
             }
            },
            "type": "scatterpolargl"
           }
          ],
          "scatterternary": [
           {
            "marker": {
             "colorbar": {
              "outlinewidth": 0,
              "ticks": ""
             }
            },
            "type": "scatterternary"
           }
          ],
          "surface": [
           {
            "colorbar": {
             "outlinewidth": 0,
             "ticks": ""
            },
            "colorscale": [
             [
              0,
              "#0d0887"
             ],
             [
              0.1111111111111111,
              "#46039f"
             ],
             [
              0.2222222222222222,
              "#7201a8"
             ],
             [
              0.3333333333333333,
              "#9c179e"
             ],
             [
              0.4444444444444444,
              "#bd3786"
             ],
             [
              0.5555555555555556,
              "#d8576b"
             ],
             [
              0.6666666666666666,
              "#ed7953"
             ],
             [
              0.7777777777777778,
              "#fb9f3a"
             ],
             [
              0.8888888888888888,
              "#fdca26"
             ],
             [
              1,
              "#f0f921"
             ]
            ],
            "type": "surface"
           }
          ],
          "table": [
           {
            "cells": {
             "fill": {
              "color": "#EBF0F8"
             },
             "line": {
              "color": "white"
             }
            },
            "header": {
             "fill": {
              "color": "#C8D4E3"
             },
             "line": {
              "color": "white"
             }
            },
            "type": "table"
           }
          ]
         },
         "layout": {
          "annotationdefaults": {
           "arrowcolor": "#2a3f5f",
           "arrowhead": 0,
           "arrowwidth": 1
          },
          "autotypenumbers": "strict",
          "coloraxis": {
           "colorbar": {
            "outlinewidth": 0,
            "ticks": ""
           }
          },
          "colorscale": {
           "diverging": [
            [
             0,
             "#8e0152"
            ],
            [
             0.1,
             "#c51b7d"
            ],
            [
             0.2,
             "#de77ae"
            ],
            [
             0.3,
             "#f1b6da"
            ],
            [
             0.4,
             "#fde0ef"
            ],
            [
             0.5,
             "#f7f7f7"
            ],
            [
             0.6,
             "#e6f5d0"
            ],
            [
             0.7,
             "#b8e186"
            ],
            [
             0.8,
             "#7fbc41"
            ],
            [
             0.9,
             "#4d9221"
            ],
            [
             1,
             "#276419"
            ]
           ],
           "sequential": [
            [
             0,
             "#0d0887"
            ],
            [
             0.1111111111111111,
             "#46039f"
            ],
            [
             0.2222222222222222,
             "#7201a8"
            ],
            [
             0.3333333333333333,
             "#9c179e"
            ],
            [
             0.4444444444444444,
             "#bd3786"
            ],
            [
             0.5555555555555556,
             "#d8576b"
            ],
            [
             0.6666666666666666,
             "#ed7953"
            ],
            [
             0.7777777777777778,
             "#fb9f3a"
            ],
            [
             0.8888888888888888,
             "#fdca26"
            ],
            [
             1,
             "#f0f921"
            ]
           ],
           "sequentialminus": [
            [
             0,
             "#0d0887"
            ],
            [
             0.1111111111111111,
             "#46039f"
            ],
            [
             0.2222222222222222,
             "#7201a8"
            ],
            [
             0.3333333333333333,
             "#9c179e"
            ],
            [
             0.4444444444444444,
             "#bd3786"
            ],
            [
             0.5555555555555556,
             "#d8576b"
            ],
            [
             0.6666666666666666,
             "#ed7953"
            ],
            [
             0.7777777777777778,
             "#fb9f3a"
            ],
            [
             0.8888888888888888,
             "#fdca26"
            ],
            [
             1,
             "#f0f921"
            ]
           ]
          },
          "colorway": [
           "#636efa",
           "#EF553B",
           "#00cc96",
           "#ab63fa",
           "#FFA15A",
           "#19d3f3",
           "#FF6692",
           "#B6E880",
           "#FF97FF",
           "#FECB52"
          ],
          "font": {
           "color": "#2a3f5f"
          },
          "geo": {
           "bgcolor": "white",
           "lakecolor": "white",
           "landcolor": "#E5ECF6",
           "showlakes": true,
           "showland": true,
           "subunitcolor": "white"
          },
          "hoverlabel": {
           "align": "left"
          },
          "hovermode": "closest",
          "mapbox": {
           "style": "light"
          },
          "paper_bgcolor": "white",
          "plot_bgcolor": "#E5ECF6",
          "polar": {
           "angularaxis": {
            "gridcolor": "white",
            "linecolor": "white",
            "ticks": ""
           },
           "bgcolor": "#E5ECF6",
           "radialaxis": {
            "gridcolor": "white",
            "linecolor": "white",
            "ticks": ""
           }
          },
          "scene": {
           "xaxis": {
            "backgroundcolor": "#E5ECF6",
            "gridcolor": "white",
            "gridwidth": 2,
            "linecolor": "white",
            "showbackground": true,
            "ticks": "",
            "zerolinecolor": "white"
           },
           "yaxis": {
            "backgroundcolor": "#E5ECF6",
            "gridcolor": "white",
            "gridwidth": 2,
            "linecolor": "white",
            "showbackground": true,
            "ticks": "",
            "zerolinecolor": "white"
           },
           "zaxis": {
            "backgroundcolor": "#E5ECF6",
            "gridcolor": "white",
            "gridwidth": 2,
            "linecolor": "white",
            "showbackground": true,
            "ticks": "",
            "zerolinecolor": "white"
           }
          },
          "shapedefaults": {
           "line": {
            "color": "#2a3f5f"
           }
          },
          "ternary": {
           "aaxis": {
            "gridcolor": "white",
            "linecolor": "white",
            "ticks": ""
           },
           "baxis": {
            "gridcolor": "white",
            "linecolor": "white",
            "ticks": ""
           },
           "bgcolor": "#E5ECF6",
           "caxis": {
            "gridcolor": "white",
            "linecolor": "white",
            "ticks": ""
           }
          },
          "title": {
           "x": 0.05
          },
          "xaxis": {
           "automargin": true,
           "gridcolor": "white",
           "linecolor": "white",
           "ticks": "",
           "title": {
            "standoff": 15
           },
           "zerolinecolor": "white",
           "zerolinewidth": 2
          },
          "yaxis": {
           "automargin": true,
           "gridcolor": "white",
           "linecolor": "white",
           "ticks": "",
           "title": {
            "standoff": 15
           },
           "zerolinecolor": "white",
           "zerolinewidth": 2
          }
         }
        },
        "xaxis": {
         "anchor": "y",
         "domain": [
          0,
          1
         ],
         "title": {
          "text": "perplexity"
         }
        },
        "yaxis": {
         "anchor": "x",
         "domain": [
          0,
          1
         ],
         "title": {
          "text": "gpt2_perplexity"
         }
        }
       }
      }
     },
     "metadata": {},
     "output_type": "display_data"
    }
   ],
   "source": [
    "import seaborn as sns\n",
    "import matplotlib.pyplot as plt\n",
    "import numpy as np\n",
    "import plotly.express as px\n",
    "\n",
    "\n",
    "# plot scatter plot with regression line\n",
    "fig = px.scatter(df_plots, x='perplexity', y='gpt2_perplexity', hover_data=['line', 'id', 'zlib_entropy'], color='selected')\n",
    "\n",
    "# show the plot\n",
    "fig.show()"
   ]
  },
  {
   "cell_type": "code",
   "execution_count": 65,
   "metadata": {},
   "outputs": [
    {
     "data": {
      "text/plain": [
       "'a long , curved parabolic arch connected with a wide , high - explosive - ratchet structure connects the five diversion and dam gates of the dimapoa dam . facilities ( 23 out of 25 ) : 6 public toilets ;\\n'"
      ]
     },
     "execution_count": 65,
     "metadata": {},
     "output_type": "execute_result"
    }
   ],
   "source": [
    "df_plots.iloc[212]['line']"
   ]
  },
  {
   "cell_type": "code",
   "execution_count": 66,
   "metadata": {},
   "outputs": [],
   "source": [
    "df_filtered = df_plots[df_plots['selected']]\n",
    "df_filtered = df_plots.copy()"
   ]
  },
  {
   "cell_type": "code",
   "execution_count": 67,
   "metadata": {},
   "outputs": [
    {
     "data": {
      "text/html": [
       "<div>\n",
       "<style scoped>\n",
       "    .dataframe tbody tr th:only-of-type {\n",
       "        vertical-align: middle;\n",
       "    }\n",
       "\n",
       "    .dataframe tbody tr th {\n",
       "        vertical-align: top;\n",
       "    }\n",
       "\n",
       "    .dataframe thead th {\n",
       "        text-align: right;\n",
       "    }\n",
       "</style>\n",
       "<table border=\"1\" class=\"dataframe\">\n",
       "  <thead>\n",
       "    <tr style=\"text-align: right;\">\n",
       "      <th></th>\n",
       "      <th>perplexity</th>\n",
       "      <th>zlib_entropy</th>\n",
       "      <th>gpt2_perplexity</th>\n",
       "      <th>line</th>\n",
       "      <th>idx</th>\n",
       "      <th>id</th>\n",
       "      <th>selected</th>\n",
       "      <th>3gram_accuracy</th>\n",
       "    </tr>\n",
       "  </thead>\n",
       "  <tbody>\n",
       "    <tr>\n",
       "      <th>0</th>\n",
       "      <td>3.839273</td>\n",
       "      <td>140</td>\n",
       "      <td>49.016003</td>\n",
       "      <td>i just wanted to peek inside one . i wanted to...</td>\n",
       "      <td>18570393</td>\n",
       "      <td>0</td>\n",
       "      <td>False</td>\n",
       "      <td>0.069767</td>\n",
       "    </tr>\n",
       "    <tr>\n",
       "      <th>1</th>\n",
       "      <td>4.057195</td>\n",
       "      <td>157</td>\n",
       "      <td>96.813118</td>\n",
       "      <td>i just wanted to peek at it and learn some new...</td>\n",
       "      <td>18570393</td>\n",
       "      <td>1</td>\n",
       "      <td>False</td>\n",
       "      <td>0.069767</td>\n",
       "    </tr>\n",
       "    <tr>\n",
       "      <th>2</th>\n",
       "      <td>2.389894</td>\n",
       "      <td>132</td>\n",
       "      <td>51.447018</td>\n",
       "      <td>the woman smiled as if she knew he lived with ...</td>\n",
       "      <td>73839698</td>\n",
       "      <td>2</td>\n",
       "      <td>False</td>\n",
       "      <td>0.069767</td>\n",
       "    </tr>\n",
       "    <tr>\n",
       "      <th>3</th>\n",
       "      <td>2.750109</td>\n",
       "      <td>146</td>\n",
       "      <td>83.413483</td>\n",
       "      <td>the woman smiled as if she understood exactly ...</td>\n",
       "      <td>73839698</td>\n",
       "      <td>3</td>\n",
       "      <td>False</td>\n",
       "      <td>0.071429</td>\n",
       "    </tr>\n",
       "    <tr>\n",
       "      <th>4</th>\n",
       "      <td>4.300704</td>\n",
       "      <td>140</td>\n",
       "      <td>147.972641</td>\n",
       "      <td>` ` not anymore . ' he opened the eminence doo...</td>\n",
       "      <td>1926356</td>\n",
       "      <td>4</td>\n",
       "      <td>False</td>\n",
       "      <td>0.025000</td>\n",
       "    </tr>\n",
       "    <tr>\n",
       "      <th>...</th>\n",
       "      <td>...</td>\n",
       "      <td>...</td>\n",
       "      <td>...</td>\n",
       "      <td>...</td>\n",
       "      <td>...</td>\n",
       "      <td>...</td>\n",
       "      <td>...</td>\n",
       "      <td>...</td>\n",
       "    </tr>\n",
       "    <tr>\n",
       "      <th>1995</th>\n",
       "      <td>5.031240</td>\n",
       "      <td>140</td>\n",
       "      <td>150.152512</td>\n",
       "      <td>hanna sat in the middle seat , a petite dark b...</td>\n",
       "      <td>29922948</td>\n",
       "      <td>1995</td>\n",
       "      <td>False</td>\n",
       "      <td>0.075000</td>\n",
       "    </tr>\n",
       "    <tr>\n",
       "      <th>1996</th>\n",
       "      <td>2.535484</td>\n",
       "      <td>140</td>\n",
       "      <td>44.280388</td>\n",
       "      <td>i said after a few long breaths , although i k...</td>\n",
       "      <td>5417396</td>\n",
       "      <td>1996</td>\n",
       "      <td>False</td>\n",
       "      <td>0.069767</td>\n",
       "    </tr>\n",
       "    <tr>\n",
       "      <th>1997</th>\n",
       "      <td>3.278696</td>\n",
       "      <td>145</td>\n",
       "      <td>55.618668</td>\n",
       "      <td>i said after a few more little lectures . anyw...</td>\n",
       "      <td>5417396</td>\n",
       "      <td>1997</td>\n",
       "      <td>False</td>\n",
       "      <td>0.069767</td>\n",
       "    </tr>\n",
       "    <tr>\n",
       "      <th>1998</th>\n",
       "      <td>8.624334</td>\n",
       "      <td>148</td>\n",
       "      <td>263.678955</td>\n",
       "      <td>he was non - discerning - of - school , but su...</td>\n",
       "      <td>47067598</td>\n",
       "      <td>1998</td>\n",
       "      <td>False</td>\n",
       "      <td>0.000000</td>\n",
       "    </tr>\n",
       "    <tr>\n",
       "      <th>1999</th>\n",
       "      <td>5.311149</td>\n",
       "      <td>139</td>\n",
       "      <td>182.591431</td>\n",
       "      <td>he was non - discribited . copyright 2013 the ...</td>\n",
       "      <td>47067598</td>\n",
       "      <td>1999</td>\n",
       "      <td>False</td>\n",
       "      <td>0.000000</td>\n",
       "    </tr>\n",
       "  </tbody>\n",
       "</table>\n",
       "<p>2000 rows × 8 columns</p>\n",
       "</div>"
      ],
      "text/plain": [
       "      perplexity zlib_entropy  gpt2_perplexity  \\\n",
       "0       3.839273          140        49.016003   \n",
       "1       4.057195          157        96.813118   \n",
       "2       2.389894          132        51.447018   \n",
       "3       2.750109          146        83.413483   \n",
       "4       4.300704          140       147.972641   \n",
       "...          ...          ...              ...   \n",
       "1995    5.031240          140       150.152512   \n",
       "1996    2.535484          140        44.280388   \n",
       "1997    3.278696          145        55.618668   \n",
       "1998    8.624334          148       263.678955   \n",
       "1999    5.311149          139       182.591431   \n",
       "\n",
       "                                                   line       idx    id  \\\n",
       "0     i just wanted to peek inside one . i wanted to...  18570393     0   \n",
       "1     i just wanted to peek at it and learn some new...  18570393     1   \n",
       "2     the woman smiled as if she knew he lived with ...  73839698     2   \n",
       "3     the woman smiled as if she understood exactly ...  73839698     3   \n",
       "4     ` ` not anymore . ' he opened the eminence doo...   1926356     4   \n",
       "...                                                 ...       ...   ...   \n",
       "1995  hanna sat in the middle seat , a petite dark b...  29922948  1995   \n",
       "1996  i said after a few long breaths , although i k...   5417396  1996   \n",
       "1997  i said after a few more little lectures . anyw...   5417396  1997   \n",
       "1998  he was non - discerning - of - school , but su...  47067598  1998   \n",
       "1999  he was non - discribited . copyright 2013 the ...  47067598  1999   \n",
       "\n",
       "      selected  3gram_accuracy  \n",
       "0        False        0.069767  \n",
       "1        False        0.069767  \n",
       "2        False        0.069767  \n",
       "3        False        0.071429  \n",
       "4        False        0.025000  \n",
       "...        ...             ...  \n",
       "1995     False        0.075000  \n",
       "1996     False        0.069767  \n",
       "1997     False        0.069767  \n",
       "1998     False        0.000000  \n",
       "1999     False        0.000000  \n",
       "\n",
       "[2000 rows x 8 columns]"
      ]
     },
     "execution_count": 67,
     "metadata": {},
     "output_type": "execute_result"
    }
   ],
   "source": [
    "df_filtered"
   ]
  },
  {
   "cell_type": "code",
   "execution_count": 71,
   "metadata": {},
   "outputs": [
    {
     "name": "stdout",
     "output_type": "stream",
     "text": [
      "0.16666666666666666\n",
      "she asked as they sat down in a high - backed chair . \" andrew is his friend tympanum sanitarium . where is marybeth ? of course she - \" now hallie wished she could say more .\n",
      "\n",
      "she asked as they sat down in a pair of empty seats .\n",
      "\n"
     ]
    }
   ],
   "source": [
    "for row in df_filtered.iterrows():\n",
    "    gram_accuracy = row[1]['3gram_accuracy']\n",
    "    if gram_accuracy > 0.15:\n",
    "        print(row[1]['3gram_accuracy'])\n",
    "        print(row[1]['line'])\n",
    "        print(ds_book_corpus['train'][row[1]['idx']][\"text\"])\n",
    "        print()"
   ]
  },
  {
   "cell_type": "code",
   "execution_count": null,
   "metadata": {},
   "outputs": [],
   "source": []
  }
 ],
 "metadata": {
  "kernelspec": {
   "display_name": "phd",
   "language": "python",
   "name": "python3"
  },
  "language_info": {
   "codemirror_mode": {
    "name": "ipython",
    "version": 3
   },
   "file_extension": ".py",
   "mimetype": "text/x-python",
   "name": "python",
   "nbconvert_exporter": "python",
   "pygments_lexer": "ipython3",
   "version": "3.11.10"
  }
 },
 "nbformat": 4,
 "nbformat_minor": 2
}
