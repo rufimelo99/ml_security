{
 "cells": [
  {
   "cell_type": "code",
   "execution_count": 166,
   "metadata": {},
   "outputs": [],
   "source": [
    "from datasets import load_dataset\n",
    "\n",
    "ds_book_corpus = load_dataset(\"bookcorpus/bookcorpus\", trust_remote_code=True)"
   ]
  },
  {
   "cell_type": "code",
   "execution_count": 73,
   "metadata": {},
   "outputs": [
    {
     "name": "stderr",
     "output_type": "stream",
     "text": [
      "Some weights of the model checkpoint at google-bert/bert-base-uncased were not used when initializing BertForMaskedLM: ['bert.pooler.dense.bias', 'bert.pooler.dense.weight', 'cls.seq_relationship.bias', 'cls.seq_relationship.weight']\n",
      "- This IS expected if you are initializing BertForMaskedLM from the checkpoint of a model trained on another task or with another architecture (e.g. initializing a BertForSequenceClassification model from a BertForPreTraining model).\n",
      "- This IS NOT expected if you are initializing BertForMaskedLM from the checkpoint of a model that you expect to be exactly identical (initializing a BertForSequenceClassification model from a BertForSequenceClassification model).\n"
     ]
    },
    {
     "name": "stdout",
     "output_type": "stream",
     "text": [
      "Pseudo-perplexity: 1.0968683577162155\n"
     ]
    }
   ],
   "source": [
    "from transformers import AutoTokenizer, AutoModelForMaskedLM\n",
    "import torch\n",
    "import torch.nn.functional as F\n",
    "import numpy as np\n",
    "\n",
    "# Load the RoBERTa model and tokenizer\n",
    "tokenizer = AutoTokenizer.from_pretrained(\"google-bert/bert-base-uncased\")\n",
    "model = AutoModelForMaskedLM.from_pretrained(\"google-bert/bert-base-uncased\")\n",
    "\n",
    "# def calculate_perplexity(sentence, model, tokenizer):\n",
    "#     encoded_input = tokenizer(sentence, return_tensors='pt', truncation=True)\n",
    "#     input_ids = encoded_input['input_ids'].squeeze()  # Shape: [seq_len]\n",
    "#     attention_mask = encoded_input['attention_mask']\n",
    "    \n",
    "#     total_log_prob = 0.0\n",
    "#     N = len(input_ids)\n",
    "    \n",
    "#     for i in range(1, N-1):  # Skip [CLS] and [SEP] if present\n",
    "#         masked_input_ids = input_ids.clone()  # Clone to avoid in-place modification\n",
    "#         masked_input_ids[i] = tokenizer.mask_token_id  # Mask the i-th token\n",
    "        \n",
    "#         # Predict the masked token\n",
    "#         with torch.no_grad():\n",
    "#             outputs = model(input_ids=masked_input_ids.unsqueeze(0), attention_mask=attention_mask)\n",
    "#             logits = outputs.logits\n",
    "        \n",
    "#         # Convert logits to probabilities\n",
    "#         predicted_probs = F.softmax(logits[0, i], dim=-1)\n",
    "        \n",
    "#         # Get the probability of the original token\n",
    "#         original_token_id = input_ids[i].item()\n",
    "#         original_token_prob = predicted_probs[original_token_id].item()\n",
    "        \n",
    "#         # Add the log probability of the original token\n",
    "#         total_log_prob += np.log(original_token_prob)\n",
    "    \n",
    "#     # Compute pseudo-perplexity\n",
    "#     avg_log_prob = total_log_prob / (N - 2)  # Exclude [CLS] and [SEP] tokens\n",
    "#     pseudo_perplexity = np.exp(-avg_log_prob)\n",
    "    \n",
    "#     return pseudo_perplexity\n",
    "\n",
    "def score(sentence, model, tokenizer):\n",
    "    # https://arxiv.org/abs/1910.14659\n",
    "    tensor_input = tokenizer(sentence, return_tensors='pt', truncation=True)\n",
    "    repeat_input = tensor_input['input_ids'].repeat(tensor_input['input_ids'].size(-1)-2, 1)\n",
    "    mask = torch.ones(tensor_input['input_ids'].size(-1) - 1).diag(1)[:-2]\n",
    "    masked_input = repeat_input.masked_fill(mask == 1, tokenizer.mask_token_id)\n",
    "    labels = repeat_input.masked_fill( masked_input != tokenizer.mask_token_id, -100)\n",
    "    with torch.inference_mode():\n",
    "        loss = model(masked_input, labels=labels).loss\n",
    "    return np.exp(loss.item())\n",
    "\n",
    "\n",
    "# Example usage\n",
    "sentence = \"London is the capital of Great Britain.\"\n",
    "pseudo_perplexity = score(sentence, model, tokenizer)\n",
    "print(\"Pseudo-perplexity:\", pseudo_perplexity)\n",
    "\n"
   ]
  },
  {
   "cell_type": "code",
   "execution_count": 167,
   "metadata": {},
   "outputs": [],
   "source": [
    "\n",
    "from transformers import AutoModelForCausalLM, AutoTokenizer\n",
    "gpt_tokenizer = AutoTokenizer.from_pretrained(\"openai-community/gpt2\")\n",
    "gpt_model = AutoModelForCausalLM.from_pretrained(\"openai-community/gpt2\")\n",
    "\n",
    "\n",
    "# Load the RoBERTa model and tokenizer\n",
    "tokenizer = AutoTokenizer.from_pretrained(\"controlled/models/RoBERTa\")\n",
    "model = AutoModelForMaskedLM.from_pretrained(\"controlled/models/RoBERTa\")\n"
   ]
  },
  {
   "cell_type": "code",
   "execution_count": 169,
   "metadata": {},
   "outputs": [
    {
     "name": "stdout",
     "output_type": "stream",
     "text": [
      "Using CPU\n"
     ]
    }
   ],
   "source": [
    "\n",
    "from ml_security.utils.utils import get_device\n",
    "from ml_security.utils.nlp_utils import calculate_perplexity\n",
    "\n",
    "DEVICE = get_device(allow_mps=False)"
   ]
  },
  {
   "cell_type": "code",
   "execution_count": 152,
   "metadata": {},
   "outputs": [],
   "source": [
    "file_path = \"experiment-02.txt\"\n",
    "file_path_ids = file_path.replace(\".txt\", \"\") + \"-idxs\" + \".txt\"\n",
    "output_file = file_path.replace(\".txt\", \"\") + \"-results\" + \".json\"\n",
    "\n",
    "import zlib\n",
    "from tqdm import tqdm\n",
    "import json\n",
    "\n",
    "with open(file_path_ids, 'r') as f:\n",
    "    lines = f.readlines()\n",
    "    idxs = [int(line.strip()) for line in lines]\n",
    "# repeat each entry twice, but have them in sequence\n",
    "idxs = [idx for idx in idxs for _ in range(2)]\n",
    "\n",
    "\n",
    "# with open(file_path, 'r') as f:\n",
    "#     lines = f.readlines()\n",
    "#     for line_idx, line in tqdm(enumerate(lines), total=len(lines)):\n",
    "#         perpl = score(line, model, tokenizer)\n",
    "#         zlib_entropy = len(zlib.compress(bytes(line, 'utf-8')))\n",
    "#         gpt2_perpl = calculate_perplexity(line, gpt_model, gpt_tokenizer, DEVICE).item()\n",
    "#         with open(output_file, 'a') as f:\n",
    "#             f.write(json.dumps({\"line\": line, \"perplexity\": perpl, \"zlib_entropy\": zlib_entropy, \"gpt2_perplexity\": gpt2_perpl, \"idx\": idxs[line_idx]}) + \"\\n\")\n"
   ]
  },
  {
   "cell_type": "code",
   "execution_count": 165,
   "metadata": {},
   "outputs": [
    {
     "name": "stderr",
     "output_type": "stream",
     "text": [
      "  0%|          | 6/2000 [00:00<01:18, 25.54it/s]"
     ]
    },
    {
     "name": "stdout",
     "output_type": "stream",
     "text": [
      "Original token: you, Predicted token: `\n",
      "Original sentence: `` you are threatening me ? ''\n",
      "Masked sentence: ` ` [MASK] are threatening me ? ' '\n",
      "Predicted sentence: ` ` ` are threatening me ? ' '\n",
      "\n",
      "\n",
      "Original token: ', Predicted token: ?\n",
      "Original sentence: `` you are threatening me ? ''\n",
      "Masked sentence: ` ` you are threatening me ? [MASK] '\n",
      "Predicted sentence: ` ` you are threatening me ? ? '\n",
      "\n",
      "\n",
      "Original token: ##hip, Predicted token: stars\n",
      "Original sentence: you can click on the image to get a bigger view : entry 2-307 : october 29 , 2014 the milk run preview : starship omcom one of the key tenets of the upcoming novel entitled the milk run was that i tied up any remaining loose ends from the previous novels in the rome 's revolution series .\n",
      "Masked sentence: you can click on the image to get a bigger view : entry 2 - 307 : october 29 , 2014 the milk run preview : stars [MASK] om ##com one of the key ten ##ets of the upcoming novel entitled the milk run was that i tied up any remaining loose ends from the previous novels in the rome ' s revolution series .\n",
      "Predicted sentence: you can click on the image to get a bigger view : entry 2 - 307 : october 29 , 2014 the milk run preview : stars stars om ##com one of the key ten ##ets of the upcoming novel entitled the milk run was that i tied up any remaining loose ends from the previous novels in the rome ' s revolution series .\n",
      "\n",
      "\n",
      "Original token: run, Predicted token: ##s\n",
      "Original sentence: you can click on the image to get a bigger view : entry 2-307 : october 29 , 2014 the milk run preview : starship omcom one of the key tenets of the upcoming novel entitled the milk run was that i tied up any remaining loose ends from the previous novels in the rome 's revolution series .\n",
      "Masked sentence: you can click on the image to get a bigger view : entry 2 - 307 : october 29 , 2014 the milk run preview : stars ##hip om ##com one of the key ten ##ets of the upcoming novel entitled the milk [MASK] was that i tied up any remaining loose ends from the previous novels in the rome ' s revolution series .\n",
      "Predicted sentence: you can click on the image to get a bigger view : entry 2 - 307 : october 29 , 2014 the milk run preview : stars ##hip om ##com one of the key ten ##ets of the upcoming novel entitled the milk ##s was that i tied up any remaining loose ends from the previous novels in the rome ' s revolution series .\n",
      "\n",
      "\n",
      "Original token: ., Predicted token: constantly\n",
      "Original sentence: it was beyond all the ambition and the money and the social relationships that whirled around everyone , constantly .\n",
      "Masked sentence: it was beyond all the ambition and the money and the social relationships that whirled around everyone , constantly [MASK]\n",
      "Predicted sentence: it was beyond all the ambition and the money and the social relationships that whirled around everyone , constantly constantly\n",
      "\n",
      "\n",
      "Original token: and, Predicted token: money\n",
      "Original sentence: it was beyond all the ambition and the money and the social relationships that whirled around everyone , constantly .\n",
      "Masked sentence: it was beyond all the ambition and the money [MASK] the social relationships that whirled around everyone , constantly .\n",
      "Predicted sentence: it was beyond all the ambition and the money money the social relationships that whirled around everyone , constantly .\n",
      "\n",
      "\n"
     ]
    },
    {
     "name": "stderr",
     "output_type": "stream",
     "text": [
      "  1%|          | 13/2000 [00:00<01:08, 29.14it/s]"
     ]
    },
    {
     "name": "stdout",
     "output_type": "stream",
     "text": [
      "Original token: chuckled, Predicted token: he\n",
      "Original sentence: he chuckled as he folded her arm within his .\n",
      "Masked sentence: he [MASK] as he folded her arm within his .\n",
      "Predicted sentence: he he as he folded her arm within his .\n",
      "\n",
      "\n",
      "Original token: chuckled, Predicted token: he\n",
      "Original sentence: he chuckled as he folded her arm within his .\n",
      "Masked sentence: he [MASK] as he folded her arm within his .\n",
      "Predicted sentence: he he as he folded her arm within his .\n",
      "\n",
      "\n",
      "Original token: middle, Predicted token: the\n",
      "Original sentence: it 's the middle of the week . ''\n",
      "Masked sentence: it ' s the [MASK] of the week . ' '\n",
      "Predicted sentence: it ' s the the of the week . ' '\n",
      "\n",
      "\n",
      "Original token: the, Predicted token: s\n",
      "Original sentence: it 's the middle of the week . ''\n",
      "Masked sentence: it ' s [MASK] middle of the week . ' '\n",
      "Predicted sentence: it ' s s middle of the week . ' '\n",
      "\n",
      "\n",
      "Original token: ., Predicted token: sure\n",
      "Original sentence: `` i ... i 'm not sure . ''\n",
      "Masked sentence: ` ` i . . . i ' m not sure [MASK] ' '\n",
      "Predicted sentence: ` ` i . . . i ' m not sure sure ' '\n",
      "\n",
      "\n",
      "Original token: i, Predicted token: .\n",
      "Original sentence: `` i ... i 'm not sure . ''\n",
      "Masked sentence: ` ` i . . . [MASK] ' m not sure . ' '\n",
      "Predicted sentence: ` ` i . . . . ' m not sure . ' '\n",
      "\n",
      "\n",
      "Original token: out, Predicted token: #\n",
      "Original sentence: there was a multiverse out there , glittering and magic .\n",
      "Masked sentence: there was a multi ##verse [MASK] there , glittering and magic .\n",
      "Predicted sentence: there was a multi ##verse # there , glittering and magic .\n",
      "\n",
      "\n"
     ]
    },
    {
     "name": "stderr",
     "output_type": "stream",
     "text": [
      "  1%|          | 17/2000 [00:00<01:04, 30.56it/s]"
     ]
    },
    {
     "name": "stdout",
     "output_type": "stream",
     "text": [
      "Original token: glittering, Predicted token: out\n",
      "Original sentence: there was a multiverse out there , glittering and magic .\n",
      "Masked sentence: there was a multi ##verse out there , [MASK] and magic .\n",
      "Predicted sentence: there was a multi ##verse out there , out and magic .\n",
      "\n",
      "\n",
      "Original token: stuck, Predicted token: .\n",
      "Original sentence: gran stuck her head out the back door .\n",
      "Masked sentence: gran [MASK] her head out the back door .\n",
      "Predicted sentence: gran . her head out the back door .\n",
      "\n",
      "\n",
      "Original token: door, Predicted token: back\n",
      "Original sentence: gran stuck her head out the back door .\n",
      "Masked sentence: gran stuck her head out the back [MASK] .\n",
      "Predicted sentence: gran stuck her head out the back back .\n",
      "\n",
      "\n",
      "Original token: the, Predicted token: recognizing\n",
      "Original sentence: she stared up , tears of frustration running hot down her cheeks , recognizing the truth .\n",
      "Masked sentence: she stared up , tears of frustration running hot down her cheeks , recognizing [MASK] truth .\n",
      "Predicted sentence: she stared up , tears of frustration running hot down her cheeks , recognizing recognizing truth .\n",
      "\n",
      "\n",
      "Original token: ,, Predicted token: cheeks\n",
      "Original sentence: she stared up , tears of frustration running hot down her cheeks , recognizing the truth .\n",
      "Masked sentence: she stared up , tears of frustration running hot down her cheeks [MASK] recognizing the truth .\n",
      "Predicted sentence: she stared up , tears of frustration running hot down her cheeks cheeks recognizing the truth .\n",
      "\n",
      "\n",
      "Original token: me, Predicted token: see\n",
      "Original sentence: come see me in two years . ''\n",
      "Masked sentence: come see [MASK] in two years . ' '\n",
      "Predicted sentence: come see see in two years . ' '\n",
      "\n",
      "\n",
      "Original token: come, Predicted token: .\n",
      "Original sentence: come see me in two years . ''\n",
      "Masked sentence: [MASK] see me in two years . ' '\n",
      "Predicted sentence: . see me in two years . ' '\n",
      "\n",
      "\n"
     ]
    },
    {
     "name": "stderr",
     "output_type": "stream",
     "text": [
      "  1%|▏         | 25/2000 [00:00<01:06, 29.84it/s]"
     ]
    },
    {
     "name": "stdout",
     "output_type": "stream",
     "text": [
      "Original token: back, Predicted token: going\n",
      "Original sentence: never going back , i hope .\n",
      "Masked sentence: never going [MASK] , i hope .\n",
      "Predicted sentence: never going going , i hope .\n",
      "\n",
      "\n",
      "Original token: ,, Predicted token: back\n",
      "Original sentence: never going back , i hope .\n",
      "Masked sentence: never going back [MASK] i hope .\n",
      "Predicted sentence: never going back back i hope .\n",
      "\n",
      "\n",
      "Original token: of, Predicted token: enjoying\n",
      "Original sentence: hes taking his time , enjoying the act of driving .\n",
      "Masked sentence: he ##s taking his time , enjoying the act [MASK] driving .\n",
      "Predicted sentence: he ##s taking his time , enjoying the act enjoying driving .\n",
      "\n",
      "\n",
      "Original token: of, Predicted token: enjoying\n",
      "Original sentence: hes taking his time , enjoying the act of driving .\n",
      "Masked sentence: he ##s taking his time , enjoying the act [MASK] driving .\n",
      "Predicted sentence: he ##s taking his time , enjoying the act enjoying driving .\n",
      "\n",
      "\n",
      "Original token: sweet, Predicted token: still\n",
      "Original sentence: their success was merely a small interruption , yet it was still sweet for those whod been helpless so long , held in contempt by germans , neighbors , and partisan comrades alike .\n",
      "Masked sentence: their success was merely a small interruption , yet it was still [MASK] for those who ##d been helpless so long , held in contempt by germans , neighbors , and partisan comrades alike .\n",
      "Predicted sentence: their success was merely a small interruption , yet it was still still for those who ##d been helpless so long , held in contempt by germans , neighbors , and partisan comrades alike .\n",
      "\n",
      "\n",
      "Original token: small, Predicted token: a\n",
      "Original sentence: their success was merely a small interruption , yet it was still sweet for those whod been helpless so long , held in contempt by germans , neighbors , and partisan comrades alike .\n",
      "Masked sentence: their success was merely a [MASK] interruption , yet it was still sweet for those who ##d been helpless so long , held in contempt by germans , neighbors , and partisan comrades alike .\n",
      "Predicted sentence: their success was merely a a interruption , yet it was still sweet for those who ##d been helpless so long , held in contempt by germans , neighbors , and partisan comrades alike .\n",
      "\n",
      "\n"
     ]
    },
    {
     "name": "stderr",
     "output_type": "stream",
     "text": [
      "  2%|▏         | 31/2000 [00:01<01:18, 25.22it/s]"
     ]
    },
    {
     "name": "stdout",
     "output_type": "stream",
     "text": [
      "Original token: ', Predicted token: '\n",
      "Original sentence: at least not in words . ''\n",
      "Masked sentence: at least not in words . ' [MASK]\n",
      "Predicted sentence: at least not in words . ' '\n",
      "\n",
      "\n",
      "Original token: at, Predicted token: .\n",
      "Original sentence: at least not in words . ''\n",
      "Masked sentence: [MASK] least not in words . ' '\n",
      "Predicted sentence: . least not in words . ' '\n",
      "\n",
      "\n",
      "Original token: we, Predicted token: .\n",
      "Original sentence: we got to be smart about things , ma .\n",
      "Masked sentence: [MASK] got to be smart about things , ma .\n",
      "Predicted sentence: . got to be smart about things , ma .\n",
      "\n",
      "\n",
      "Original token: ., Predicted token: ma\n",
      "Original sentence: we got to be smart about things , ma .\n",
      "Masked sentence: we got to be smart about things , ma [MASK]\n",
      "Predicted sentence: we got to be smart about things , ma ma\n",
      "\n",
      "\n",
      "Original token: ?, Predicted token: #\n",
      "Original sentence: was this what it was like to be in limbo , to be caught in that netherworld between life and death ?\n",
      "Masked sentence: was this what it was like to be in limb ##o , to be caught in that net ##her ##world between life and death [MASK]\n",
      "Predicted sentence: was this what it was like to be in limb ##o , to be caught in that net ##her ##world between life and death #\n",
      "\n",
      "\n"
     ]
    },
    {
     "name": "stderr",
     "output_type": "stream",
     "text": [
      "  2%|▏         | 34/2000 [00:01<01:19, 24.59it/s]"
     ]
    },
    {
     "name": "stdout",
     "output_type": "stream",
     "text": [
      "Original token: was, Predicted token: it\n",
      "Original sentence: was this what it was like to be in limbo , to be caught in that netherworld between life and death ?\n",
      "Masked sentence: was this what it [MASK] like to be in limb ##o , to be caught in that net ##her ##world between life and death ?\n",
      "Predicted sentence: was this what it it like to be in limb ##o , to be caught in that net ##her ##world between life and death ?\n",
      "\n",
      "\n",
      "Original token: ', Predicted token: n\n",
      "Original sentence: `` you do n't need to see this . ''\n",
      "Masked sentence: ` ` you do n [MASK] t need to see this . ' '\n",
      "Predicted sentence: ` ` you do n n t need to see this . ' '\n",
      "\n",
      "\n",
      "Original token: t, Predicted token: '\n",
      "Original sentence: `` you do n't need to see this . ''\n",
      "Masked sentence: ` ` you do n ' [MASK] need to see this . ' '\n",
      "Predicted sentence: ` ` you do n ' ' need to see this . ' '\n",
      "\n",
      "\n",
      "Original token: him, Predicted token: to\n",
      "Original sentence: why would you lie to him ? ''\n",
      "Masked sentence: why would you lie to [MASK] ? ' '\n",
      "Predicted sentence: why would you lie to to ? ' '\n",
      "\n",
      "\n",
      "Original token: him, Predicted token: to\n",
      "Original sentence: why would you lie to him ? ''\n",
      "Masked sentence: why would you lie to [MASK] ? ' '\n",
      "Predicted sentence: why would you lie to to ? ' '\n",
      "\n",
      "\n"
     ]
    },
    {
     "name": "stderr",
     "output_type": "stream",
     "text": [
      "  2%|▏         | 40/2000 [00:01<01:25, 22.86it/s]"
     ]
    },
    {
     "name": "stdout",
     "output_type": "stream",
     "text": [
      "Original token: she, Predicted token: .\n",
      "Original sentence: she squealed .\n",
      "Masked sentence: [MASK] squealed .\n",
      "Predicted sentence: . squealed .\n",
      "\n",
      "\n",
      "Original token: squealed, Predicted token: she\n",
      "Original sentence: she squealed .\n",
      "Masked sentence: she [MASK] .\n",
      "Predicted sentence: she she .\n",
      "\n",
      "\n",
      "Original token: ll, Predicted token: .\n",
      "Original sentence: `` i 'll consider myself duly warned for the vicious snowball attack . ''\n",
      "Masked sentence: ` ` i ' [MASK] consider myself duly warned for the vicious snow ##ball attack . ' '\n",
      "Predicted sentence: ` ` i ' . consider myself duly warned for the vicious snow ##ball attack . ' '\n",
      "\n",
      "\n",
      "Original token: vicious, Predicted token: the\n",
      "Original sentence: `` i 'll consider myself duly warned for the vicious snowball attack . ''\n",
      "Masked sentence: ` ` i ' ll consider myself duly warned for the [MASK] snow ##ball attack . ' '\n",
      "Predicted sentence: ` ` i ' ll consider myself duly warned for the the snow ##ball attack . ' '\n",
      "\n",
      "\n",
      "Original token: shoe, Predicted token: one\n",
      "Original sentence: `` just one shoe ?\n",
      "Masked sentence: ` ` just one [MASK] ?\n",
      "Predicted sentence: ` ` just one one ?\n",
      "\n",
      "\n"
     ]
    },
    {
     "name": "stderr",
     "output_type": "stream",
     "text": [
      "  2%|▏         | 46/2000 [00:01<01:27, 22.36it/s]"
     ]
    },
    {
     "name": "stdout",
     "output_type": "stream",
     "text": [
      "Original token: just, Predicted token: `\n",
      "Original sentence: `` just one shoe ?\n",
      "Masked sentence: ` ` [MASK] one shoe ?\n",
      "Predicted sentence: ` ` ` one shoe ?\n",
      "\n",
      "\n",
      "Original token: ,, Predicted token: yeah\n",
      "Original sentence: hell , yeah , they were freaks .\n",
      "Masked sentence: hell , yeah [MASK] they were freaks .\n",
      "Predicted sentence: hell , yeah yeah they were freaks .\n",
      "\n",
      "\n",
      "Original token: freaks, Predicted token: were\n",
      "Original sentence: hell , yeah , they were freaks .\n",
      "Masked sentence: hell , yeah , they were [MASK] .\n",
      "Predicted sentence: hell , yeah , they were were .\n",
      "\n",
      "\n",
      "Original token: ., Predicted token: cara\n",
      "Original sentence: `` do n't delay , cara .\n",
      "Masked sentence: ` ` do n ' t delay , cara [MASK]\n",
      "Predicted sentence: ` ` do n ' t delay , cara cara\n",
      "\n",
      "\n",
      "Original token: ., Predicted token: cara\n",
      "Original sentence: `` do n't delay , cara .\n",
      "Masked sentence: ` ` do n ' t delay , cara [MASK]\n",
      "Predicted sentence: ` ` do n ' t delay , cara cara\n",
      "\n",
      "\n"
     ]
    },
    {
     "name": "stderr",
     "output_type": "stream",
     "text": [
      "  2%|▏         | 49/2000 [00:01<01:29, 21.89it/s]"
     ]
    },
    {
     "name": "stdout",
     "output_type": "stream",
     "text": [
      "Original token: taste, Predicted token: a\n",
      "Original sentence: he craved a taste of her .\n",
      "Masked sentence: he craved a [MASK] of her .\n",
      "Predicted sentence: he craved a a of her .\n",
      "\n",
      "\n",
      "Original token: taste, Predicted token: a\n",
      "Original sentence: he craved a taste of her .\n",
      "Masked sentence: he craved a [MASK] of her .\n",
      "Predicted sentence: he craved a a of her .\n",
      "\n",
      "\n",
      "Original token: ', Predicted token: .\n",
      "Original sentence: you do n't have to say yes . ''\n",
      "Masked sentence: you do n ' t have to say yes . [MASK] '\n",
      "Predicted sentence: you do n ' t have to say yes . . '\n",
      "\n",
      "\n",
      "Original token: have, Predicted token: t\n",
      "Original sentence: you do n't have to say yes . ''\n",
      "Masked sentence: you do n ' t [MASK] to say yes . ' '\n",
      "Predicted sentence: you do n ' t t to say yes . ' '\n",
      "\n",
      "\n",
      "Original token: she, Predicted token: .\n",
      "Original sentence: she whispered his name .\n",
      "Masked sentence: [MASK] whispered his name .\n",
      "Predicted sentence: . whispered his name .\n",
      "\n",
      "\n"
     ]
    },
    {
     "name": "stderr",
     "output_type": "stream",
     "text": [
      "  3%|▎         | 55/2000 [00:02<01:26, 22.43it/s]"
     ]
    },
    {
     "name": "stdout",
     "output_type": "stream",
     "text": [
      "Original token: she, Predicted token: .\n",
      "Original sentence: she whispered his name .\n",
      "Masked sentence: [MASK] whispered his name .\n",
      "Predicted sentence: . whispered his name .\n",
      "\n",
      "\n",
      "Original token: from, Predicted token: ,\n",
      "Original sentence: i yelp , but scramble from the floor to try to minimize the damage .\n",
      "Masked sentence: i ye ##lp , but scramble [MASK] the floor to try to minimize the damage .\n",
      "Predicted sentence: i ye ##lp , but scramble , the floor to try to minimize the damage .\n",
      "\n",
      "\n",
      "Original token: ye, Predicted token: i\n",
      "Original sentence: i yelp , but scramble from the floor to try to minimize the damage .\n",
      "Masked sentence: i [MASK] ##lp , but scramble from the floor to try to minimize the damage .\n",
      "Predicted sentence: i i ##lp , but scramble from the floor to try to minimize the damage .\n",
      "\n",
      "\n",
      "Original token: i, Predicted token: `\n",
      "Original sentence: `` i think so . ''\n",
      "Masked sentence: ` ` [MASK] think so . ' '\n",
      "Predicted sentence: ` ` ` think so . ' '\n",
      "\n",
      "\n",
      "Original token: so, Predicted token: think\n",
      "Original sentence: `` i think so . ''\n",
      "Masked sentence: ` ` i think [MASK] . ' '\n",
      "Predicted sentence: ` ` i think think . ' '\n",
      "\n",
      "\n"
     ]
    },
    {
     "name": "stderr",
     "output_type": "stream",
     "text": [
      "  3%|▎         | 61/2000 [00:02<01:24, 22.98it/s]"
     ]
    },
    {
     "name": "stdout",
     "output_type": "stream",
     "text": [
      "Original token: ., Predicted token: ready\n",
      "Original sentence: she was ready .\n",
      "Masked sentence: she was ready [MASK]\n",
      "Predicted sentence: she was ready ready\n",
      "\n",
      "\n",
      "Original token: she, Predicted token: .\n",
      "Original sentence: she was ready .\n",
      "Masked sentence: [MASK] was ready .\n",
      "Predicted sentence: . was ready .\n",
      "\n",
      "\n",
      "Original token: bed, Predicted token: #\n",
      "Original sentence: * chapter 35 prytani wanted to tell tamesis to leave the bedchamber .\n",
      "Masked sentence: * chapter 35 pry ##tani wanted to tell tame ##sis to leave the [MASK] ##cha ##mber .\n",
      "Predicted sentence: * chapter 35 pry ##tani wanted to tell tame ##sis to leave the # ##cha ##mber .\n",
      "\n",
      "\n",
      "Original token: to, Predicted token: to\n",
      "Original sentence: * chapter 35 prytani wanted to tell tamesis to leave the bedchamber .\n",
      "Masked sentence: * chapter 35 pry ##tani wanted to tell tame ##sis [MASK] leave the bed ##cha ##mber .\n",
      "Predicted sentence: * chapter 35 pry ##tani wanted to tell tame ##sis to leave the bed ##cha ##mber .\n",
      "\n",
      "\n",
      "Original token: in, Predicted token: reached\n",
      "Original sentence: then he dug in his pocket , pulled something out and shoved it in the front pocket of my levi 's .\n",
      "Masked sentence: then he dug [MASK] his pocket , pulled something out and shoved it in the front pocket of my levi ' s .\n",
      "Predicted sentence: then he dug reached his pocket , pulled something out and shoved it in the front pocket of my levi ' s .\n",
      "\n",
      "\n"
     ]
    },
    {
     "name": "stderr",
     "output_type": "stream",
     "text": [
      "  3%|▎         | 64/2000 [00:02<01:26, 22.42it/s]"
     ]
    },
    {
     "name": "stdout",
     "output_type": "stream",
     "text": [
      "Original token: his, Predicted token: in\n",
      "Original sentence: then he dug in his pocket , pulled something out and shoved it in the front pocket of my levi 's .\n",
      "Masked sentence: then he dug in [MASK] pocket , pulled something out and shoved it in the front pocket of my levi ' s .\n",
      "Predicted sentence: then he dug in in pocket , pulled something out and shoved it in the front pocket of my levi ' s .\n",
      "\n",
      "\n",
      "Original token: fact, Predicted token: in\n",
      "Original sentence: no , in fact , how 'bout you tie a big pink ribbon around his chest and call him mary-anne . ''\n",
      "Masked sentence: no , in [MASK] , how ' bout you tie a big pink ribbon around his chest and call him mary - anne . ' '\n",
      "Predicted sentence: no , in in , how ' bout you tie a big pink ribbon around his chest and call him mary - anne . ' '\n",
      "\n",
      "\n",
      "Original token: a, Predicted token: tie\n",
      "Original sentence: no , in fact , how 'bout you tie a big pink ribbon around his chest and call him mary-anne . ''\n",
      "Masked sentence: no , in fact , how ' bout you tie [MASK] big pink ribbon around his chest and call him mary - anne . ' '\n",
      "Predicted sentence: no , in fact , how ' bout you tie tie big pink ribbon around his chest and call him mary - anne . ' '\n",
      "\n",
      "\n",
      "Original token: ., Predicted token: iphone\n",
      "Original sentence: she pulled out sutton 's ringing iphone .\n",
      "Masked sentence: she pulled out sutton ' s ringing iphone [MASK]\n",
      "Predicted sentence: she pulled out sutton ' s ringing iphone iphone\n",
      "\n",
      "\n",
      "Original token: s, Predicted token: '\n",
      "Original sentence: she pulled out sutton 's ringing iphone .\n",
      "Masked sentence: she pulled out sutton ' [MASK] ringing iphone .\n",
      "Predicted sentence: she pulled out sutton ' ' ringing iphone .\n",
      "\n",
      "\n"
     ]
    },
    {
     "name": "stderr",
     "output_type": "stream",
     "text": [
      "  4%|▎         | 70/2000 [00:02<01:20, 24.08it/s]"
     ]
    },
    {
     "name": "stdout",
     "output_type": "stream",
     "text": [
      "Original token: the, Predicted token: .\n",
      "Original sentence: the water came from somewhere !\n",
      "Masked sentence: [MASK] water came from somewhere !\n",
      "Predicted sentence: . water came from somewhere !\n",
      "\n",
      "\n",
      "Original token: somewhere, Predicted token: from\n",
      "Original sentence: the water came from somewhere !\n",
      "Masked sentence: the water came from [MASK] !\n",
      "Predicted sentence: the water came from from !\n",
      "\n",
      "\n",
      "Original token: her, Predicted token: suited\n",
      "Original sentence: the red gown she was wearing suited her perfectly , the black lace at the top playing to her black hair and her dark gray eyes , the miles of satin skirting falling about her slender body in resplendent waves .\n",
      "Masked sentence: the red gown she was wearing suited [MASK] perfectly , the black lace at the top playing to her black hair and her dark gray eyes , the miles of satin skirt ##ing falling about her slender body in res ##ple ##nden ##t waves .\n",
      "Predicted sentence: the red gown she was wearing suited suited perfectly , the black lace at the top playing to her black hair and her dark gray eyes , the miles of satin skirt ##ing falling about her slender body in res ##ple ##nden ##t waves .\n",
      "\n",
      "\n",
      "Original token: was, Predicted token: she\n",
      "Original sentence: the red gown she was wearing suited her perfectly , the black lace at the top playing to her black hair and her dark gray eyes , the miles of satin skirting falling about her slender body in resplendent waves .\n",
      "Masked sentence: the red gown she [MASK] wearing suited her perfectly , the black lace at the top playing to her black hair and her dark gray eyes , the miles of satin skirt ##ing falling about her slender body in res ##ple ##nden ##t waves .\n",
      "Predicted sentence: the red gown she she wearing suited her perfectly , the black lace at the top playing to her black hair and her dark gray eyes , the miles of satin skirt ##ing falling about her slender body in res ##ple ##nden ##t waves .\n",
      "\n",
      "\n",
      "Original token: hell, Predicted token: to\n",
      "Original sentence: but damn it to hell and back .\n",
      "Masked sentence: but damn it to [MASK] and back .\n",
      "Predicted sentence: but damn it to to and back .\n",
      "\n",
      "\n",
      "Original token: it, Predicted token: damn\n",
      "Original sentence: but damn it to hell and back .\n",
      "Masked sentence: but damn [MASK] to hell and back .\n",
      "Predicted sentence: but damn damn to hell and back .\n",
      "\n",
      "\n"
     ]
    },
    {
     "name": "stderr",
     "output_type": "stream",
     "text": [
      "  4%|▍         | 76/2000 [00:03<01:24, 22.82it/s]"
     ]
    },
    {
     "name": "stdout",
     "output_type": "stream",
     "text": [
      "Original token: balls, Predicted token: and\n",
      "Original sentence: raising her knee , she connected with his cock and balls .\n",
      "Masked sentence: raising her knee , she connected with his cock and [MASK] .\n",
      "Predicted sentence: raising her knee , she connected with his cock and and .\n",
      "\n",
      "\n",
      "Original token: balls, Predicted token: and\n",
      "Original sentence: raising her knee , she connected with his cock and balls .\n",
      "Masked sentence: raising her knee , she connected with his cock and [MASK] .\n",
      "Predicted sentence: raising her knee , she connected with his cock and and .\n",
      "\n",
      "\n",
      "Original token: at, Predicted token: down\n",
      "Original sentence: she glanced down at her torso .\n",
      "Masked sentence: she glanced down [MASK] her torso .\n",
      "Predicted sentence: she glanced down down her torso .\n",
      "\n",
      "\n",
      "Original token: torso, Predicted token: her\n",
      "Original sentence: she glanced down at her torso .\n",
      "Masked sentence: she glanced down at her [MASK] .\n",
      "Predicted sentence: she glanced down at her her .\n",
      "\n",
      "\n",
      "Original token: are, Predicted token: we\n",
      "Original sentence: that is why we are here .\n",
      "Masked sentence: that is why we [MASK] here .\n",
      "Predicted sentence: that is why we we here .\n",
      "\n",
      "\n"
     ]
    },
    {
     "name": "stderr",
     "output_type": "stream",
     "text": [
      "  4%|▍         | 79/2000 [00:03<01:24, 22.64it/s]"
     ]
    },
    {
     "name": "stdout",
     "output_type": "stream",
     "text": [
      "Original token: that, Predicted token: .\n",
      "Original sentence: that is why we are here .\n",
      "Masked sentence: [MASK] is why we are here .\n",
      "Predicted sentence: . is why we are here .\n",
      "\n",
      "\n",
      "Original token: brow, Predicted token: s\n",
      "Original sentence: paul 's brow rises .\n",
      "Masked sentence: paul ' s [MASK] rises .\n",
      "Predicted sentence: paul ' s s rises .\n",
      "\n",
      "\n",
      "Original token: ', Predicted token: paul\n",
      "Original sentence: paul 's brow rises .\n",
      "Masked sentence: paul [MASK] s brow rises .\n",
      "Predicted sentence: paul paul s brow rises .\n",
      "\n",
      "\n",
      "Original token: ., Predicted token: .\n",
      "Original sentence: seeing the eyes on me , the guys who would inevitably hit on me ... it never fails to bolster my self-confidence and make me feel better .\n",
      "Masked sentence: seeing the eyes on me , the guys who would inevitably hit on me . [MASK] . it never fails to bo ##lster my self - confidence and make me feel better .\n",
      "Predicted sentence: seeing the eyes on me , the guys who would inevitably hit on me . . . it never fails to bo ##lster my self - confidence and make me feel better .\n",
      "\n",
      "\n"
     ]
    },
    {
     "name": "stderr",
     "output_type": "stream",
     "text": [
      "  4%|▍         | 85/2000 [00:03<01:25, 22.36it/s]"
     ]
    },
    {
     "name": "stdout",
     "output_type": "stream",
     "text": [
      "Original token: me, Predicted token: -\n",
      "Original sentence: seeing the eyes on me , the guys who would inevitably hit on me ... it never fails to bolster my self-confidence and make me feel better .\n",
      "Masked sentence: seeing the eyes on me , the guys who would inevitably hit on me . . . it never fails to bo ##lster my self - confidence and make [MASK] feel better .\n",
      "Predicted sentence: seeing the eyes on me , the guys who would inevitably hit on me . . . it never fails to bo ##lster my self - confidence and make - feel better .\n",
      "\n",
      "\n",
      "Original token: one, Predicted token: no\n",
      "Original sentence: there is no one else .\n",
      "Masked sentence: there is no [MASK] else .\n",
      "Predicted sentence: there is no no else .\n",
      "\n",
      "\n",
      "Original token: there, Predicted token: .\n",
      "Original sentence: there is no one else .\n",
      "Masked sentence: [MASK] is no one else .\n",
      "Predicted sentence: . is no one else .\n",
      "\n",
      "\n",
      "Original token: it, Predicted token: do\n",
      "Original sentence: this is a good way to do it .\n",
      "Masked sentence: this is a good way to do [MASK] .\n",
      "Predicted sentence: this is a good way to do do .\n",
      "\n",
      "\n",
      "Original token: good, Predicted token: a\n",
      "Original sentence: this is a good way to do it .\n",
      "Masked sentence: this is a [MASK] way to do it .\n",
      "Predicted sentence: this is a a way to do it .\n",
      "\n",
      "\n",
      "Original token: ?, Predicted token: like\n",
      "Original sentence: what would that be like ?\n",
      "Masked sentence: what would that be like [MASK]\n",
      "Predicted sentence: what would that be like like\n",
      "\n",
      "\n"
     ]
    },
    {
     "name": "stderr",
     "output_type": "stream",
     "text": [
      "  5%|▍         | 93/2000 [00:03<01:11, 26.66it/s]"
     ]
    },
    {
     "name": "stdout",
     "output_type": "stream",
     "text": [
      "Original token: like, Predicted token: be\n",
      "Original sentence: what would that be like ?\n",
      "Masked sentence: what would that be [MASK] ?\n",
      "Predicted sentence: what would that be be ?\n",
      "\n",
      "\n",
      "Original token: ,, Predicted token: outside\n",
      "Original sentence: *** outside , logan waits patiently , leaning against the mustang .\n",
      "Masked sentence: * * * outside [MASK] logan waits patiently , leaning against the mustang .\n",
      "Predicted sentence: * * * outside outside logan waits patiently , leaning against the mustang .\n",
      "\n",
      "\n",
      "Original token: ,, Predicted token: outside\n",
      "Original sentence: *** outside , logan waits patiently , leaning against the mustang .\n",
      "Masked sentence: * * * outside [MASK] logan waits patiently , leaning against the mustang .\n",
      "Predicted sentence: * * * outside outside logan waits patiently , leaning against the mustang .\n",
      "\n",
      "\n",
      "Original token: slipped, Predicted token: langdon\n",
      "Original sentence: with that , langdon slipped away , leaving his newfound friend bewildered and alone .\n",
      "Masked sentence: with that , langdon [MASK] away , leaving his newfound friend bewildered and alone .\n",
      "Predicted sentence: with that , langdon langdon away , leaving his newfound friend bewildered and alone .\n",
      "\n",
      "\n",
      "Original token: friend, Predicted token: new\n",
      "Original sentence: with that , langdon slipped away , leaving his newfound friend bewildered and alone .\n",
      "Masked sentence: with that , langdon slipped away , leaving his newfound [MASK] bewildered and alone .\n",
      "Predicted sentence: with that , langdon slipped away , leaving his newfound new bewildered and alone .\n",
      "\n",
      "\n",
      "Original token: she, Predicted token: .\n",
      "Original sentence: she leaned closer to the mirror , her eyes narrowed in concentration , and then she frowned .\n",
      "Masked sentence: [MASK] leaned closer to the mirror , her eyes narrowed in concentration , and then she frowned .\n",
      "Predicted sentence: . leaned closer to the mirror , her eyes narrowed in concentration , and then she frowned .\n",
      "\n",
      "\n",
      "Original token: her, Predicted token: ,\n",
      "Original sentence: she leaned closer to the mirror , her eyes narrowed in concentration , and then she frowned .\n",
      "Masked sentence: she leaned closer to the mirror , [MASK] eyes narrowed in concentration , and then she frowned .\n",
      "Predicted sentence: she leaned closer to the mirror , , eyes narrowed in concentration , and then she frowned .\n",
      "\n",
      "\n"
     ]
    },
    {
     "name": "stderr",
     "output_type": "stream",
     "text": [
      "  5%|▌         | 101/2000 [00:04<01:04, 29.25it/s]"
     ]
    },
    {
     "name": "stdout",
     "output_type": "stream",
     "text": [
      "Original token: said, Predicted token: billy\n",
      "Original sentence: 'yes , ' billy said .\n",
      "Masked sentence: ' yes , ' billy [MASK] .\n",
      "Predicted sentence: ' yes , ' billy billy .\n",
      "\n",
      "\n",
      "Original token: ., Predicted token: said\n",
      "Original sentence: 'yes , ' billy said .\n",
      "Masked sentence: ' yes , ' billy said [MASK]\n",
      "Predicted sentence: ' yes , ' billy said said\n",
      "\n",
      "\n",
      "Original token: `, Predicted token: `\n",
      "Original sentence: `` you might have told me , '' mack pointed out .\n",
      "Masked sentence: ` [MASK] you might have told me , ' ' mack pointed out .\n",
      "Predicted sentence: ` ` you might have told me , ' ' mack pointed out .\n",
      "\n",
      "\n",
      "Original token: ', Predicted token: '\n",
      "Original sentence: `` you might have told me , '' mack pointed out .\n",
      "Masked sentence: ` ` you might have told me , ' [MASK] mack pointed out .\n",
      "Predicted sentence: ` ` you might have told me , ' ' mack pointed out .\n",
      "\n",
      "\n",
      "Original token: jungle, Predicted token: in\n",
      "Original sentence: totally done all the time in jungles . ''\n",
      "Masked sentence: totally done all the time in [MASK] ##s . ' '\n",
      "Predicted sentence: totally done all the time in in ##s . ' '\n",
      "\n",
      "\n",
      "Original token: all, Predicted token: done\n",
      "Original sentence: totally done all the time in jungles . ''\n",
      "Masked sentence: totally done [MASK] the time in jungle ##s . ' '\n",
      "Predicted sentence: totally done done the time in jungle ##s . ' '\n",
      "\n",
      "\n",
      "Original token: mostly, Predicted token: be\n",
      "Original sentence: as he would be mostly because i dug my heels in his shoulders as payback in the heat of the moment .\n",
      "Masked sentence: as he would be [MASK] because i dug my heels in his shoulders as pay ##back in the heat of the moment .\n",
      "Predicted sentence: as he would be be because i dug my heels in his shoulders as pay ##back in the heat of the moment .\n",
      "\n",
      "\n"
     ]
    },
    {
     "name": "stderr",
     "output_type": "stream",
     "text": [
      "  5%|▌         | 107/2000 [00:04<01:06, 28.49it/s]"
     ]
    },
    {
     "name": "stdout",
     "output_type": "stream",
     "text": [
      "Original token: my, Predicted token: dug\n",
      "Original sentence: as he would be mostly because i dug my heels in his shoulders as payback in the heat of the moment .\n",
      "Masked sentence: as he would be mostly because i dug [MASK] heels in his shoulders as pay ##back in the heat of the moment .\n",
      "Predicted sentence: as he would be mostly because i dug dug heels in his shoulders as pay ##back in the heat of the moment .\n",
      "\n",
      "\n",
      "Original token: was, Predicted token: he\n",
      "Original sentence: it just was obvious he was n't even remotely sorry . ''\n",
      "Masked sentence: it just was obvious he [MASK] n ' t even remotely sorry . ' '\n",
      "Predicted sentence: it just was obvious he he n ' t even remotely sorry . ' '\n",
      "\n",
      "\n",
      "Original token: was, Predicted token: he\n",
      "Original sentence: it just was obvious he was n't even remotely sorry . ''\n",
      "Masked sentence: it just was obvious he [MASK] n ' t even remotely sorry . ' '\n",
      "Predicted sentence: it just was obvious he he n ' t even remotely sorry . ' '\n",
      "\n",
      "\n",
      "Original token: soon, Predicted token: as\n",
      "Original sentence: he signed up for afghanistan as soon as he found out who attacked me .\n",
      "Masked sentence: he signed up for afghanistan as [MASK] as he found out who attacked me .\n",
      "Predicted sentence: he signed up for afghanistan as as as he found out who attacked me .\n",
      "\n",
      "\n",
      "Original token: attacked, Predicted token: who\n",
      "Original sentence: he signed up for afghanistan as soon as he found out who attacked me .\n",
      "Masked sentence: he signed up for afghanistan as soon as he found out who [MASK] me .\n",
      "Predicted sentence: he signed up for afghanistan as soon as he found out who who me .\n",
      "\n",
      "\n",
      "Original token: straight, Predicted token: looked\n",
      "Original sentence: alex took his eyes off the road and looked straight at gary with a serious expression on his face : no , no .\n",
      "Masked sentence: alex took his eyes off the road and looked [MASK] at gary with a serious expression on his face : no , no .\n",
      "Predicted sentence: alex took his eyes off the road and looked looked at gary with a serious expression on his face : no , no .\n",
      "\n",
      "\n"
     ]
    },
    {
     "name": "stderr",
     "output_type": "stream",
     "text": [
      "  6%|▌         | 114/2000 [00:04<01:04, 29.34it/s]"
     ]
    },
    {
     "name": "stdout",
     "output_type": "stream",
     "text": [
      "Original token: took, Predicted token: .\n",
      "Original sentence: alex took his eyes off the road and looked straight at gary with a serious expression on his face : no , no .\n",
      "Masked sentence: alex [MASK] his eyes off the road and looked straight at gary with a serious expression on his face : no , no .\n",
      "Predicted sentence: alex . his eyes off the road and looked straight at gary with a serious expression on his face : no , no .\n",
      "\n",
      "\n",
      "Original token: like, Predicted token: .\n",
      "Original sentence: like hounding ambrose .\n",
      "Masked sentence: [MASK] hound ##ing ambrose .\n",
      "Predicted sentence: . hound ##ing ambrose .\n",
      "\n",
      "\n",
      "Original token: hound, Predicted token: like\n",
      "Original sentence: like hounding ambrose .\n",
      "Masked sentence: like [MASK] ##ing ambrose .\n",
      "Predicted sentence: like like ##ing ambrose .\n",
      "\n",
      "\n",
      "Original token: ., Predicted token: lips\n",
      "Original sentence: rafael tore himself from my lips .\n",
      "Masked sentence: rafael tore himself from my lips [MASK]\n",
      "Predicted sentence: rafael tore himself from my lips lips\n",
      "\n",
      "\n",
      "Original token: rafael, Predicted token: .\n",
      "Original sentence: rafael tore himself from my lips .\n",
      "Masked sentence: [MASK] tore himself from my lips .\n",
      "Predicted sentence: . tore himself from my lips .\n",
      "\n",
      "\n",
      "Original token: he, Predicted token: .\n",
      "Original sentence: he swallowed a laugh .\n",
      "Masked sentence: [MASK] swallowed a laugh .\n",
      "Predicted sentence: . swallowed a laugh .\n",
      "\n",
      "\n",
      "Original token: ., Predicted token: laugh\n",
      "Original sentence: he swallowed a laugh .\n",
      "Masked sentence: he swallowed a laugh [MASK]\n",
      "Predicted sentence: he swallowed a laugh laugh\n",
      "\n",
      "\n"
     ]
    },
    {
     "name": "stderr",
     "output_type": "stream",
     "text": [
      "  6%|▌         | 121/2000 [00:04<01:03, 29.78it/s]"
     ]
    },
    {
     "name": "stdout",
     "output_type": "stream",
     "text": [
      "Original token: `, Predicted token: .\n",
      "Original sentence: `` oh , it is .\n",
      "Masked sentence: [MASK] ` oh , it is .\n",
      "Predicted sentence: . ` oh , it is .\n",
      "\n",
      "\n",
      "Original token: ,, Predicted token: oh\n",
      "Original sentence: `` oh , it is .\n",
      "Masked sentence: ` ` oh [MASK] it is .\n",
      "Predicted sentence: ` ` oh oh it is .\n",
      "\n",
      "\n",
      "Original token: is, Predicted token: he\n",
      "Original sentence: `` damn , there he is , '' i whispered .\n",
      "Masked sentence: ` ` damn , there he [MASK] , ' ' i whispered .\n",
      "Predicted sentence: ` ` damn , there he he , ' ' i whispered .\n",
      "\n",
      "\n",
      "Original token: there, Predicted token: ,\n",
      "Original sentence: `` damn , there he is , '' i whispered .\n",
      "Masked sentence: ` ` damn , [MASK] he is , ' ' i whispered .\n",
      "Predicted sentence: ` ` damn , , he is , ' ' i whispered .\n",
      "\n",
      "\n",
      "Original token: for, Predicted token: not\n",
      "Original sentence: `` well , not for you .\n",
      "Masked sentence: ` ` well , not [MASK] you .\n",
      "Predicted sentence: ` ` well , not not you .\n",
      "\n",
      "\n",
      "Original token: ., Predicted token: you\n",
      "Original sentence: `` well , not for you .\n",
      "Masked sentence: ` ` well , not for you [MASK]\n",
      "Predicted sentence: ` ` well , not for you you\n",
      "\n",
      "\n",
      "Original token: stopped, Predicted token: horse\n",
      "Original sentence: the horse stopped abruptly .\n",
      "Masked sentence: the horse [MASK] abruptly .\n",
      "Predicted sentence: the horse horse abruptly .\n",
      "\n",
      "\n"
     ]
    },
    {
     "name": "stderr",
     "output_type": "stream",
     "text": [
      "  6%|▋         | 127/2000 [00:04<01:06, 28.24it/s]"
     ]
    },
    {
     "name": "stdout",
     "output_type": "stream",
     "text": [
      "Original token: ., Predicted token: abruptly\n",
      "Original sentence: the horse stopped abruptly .\n",
      "Masked sentence: the horse stopped abruptly [MASK]\n",
      "Predicted sentence: the horse stopped abruptly abruptly\n",
      "\n",
      "\n",
      "Original token: ##ed, Predicted token: #\n",
      "Original sentence: it instilled a chilling doubt in me that perhaps i never would escape the shadows of my past .\n",
      "Masked sentence: it ins ##till [MASK] a chilling doubt in me that perhaps i never would escape the shadows of my past .\n",
      "Predicted sentence: it ins ##till # a chilling doubt in me that perhaps i never would escape the shadows of my past .\n",
      "\n",
      "\n",
      "Original token: in, Predicted token: #\n",
      "Original sentence: it instilled a chilling doubt in me that perhaps i never would escape the shadows of my past .\n",
      "Masked sentence: it ins ##till ##ed a chilling doubt [MASK] me that perhaps i never would escape the shadows of my past .\n",
      "Predicted sentence: it ins ##till ##ed a chilling doubt # me that perhaps i never would escape the shadows of my past .\n",
      "\n",
      "\n",
      "Original token: that, Predicted token: .\n",
      "Original sentence: that was the trick .\n",
      "Masked sentence: [MASK] was the trick .\n",
      "Predicted sentence: . was the trick .\n",
      "\n",
      "\n",
      "Original token: the, Predicted token: was\n",
      "Original sentence: that was the trick .\n",
      "Masked sentence: that was [MASK] trick .\n",
      "Predicted sentence: that was was trick .\n",
      "\n",
      "\n",
      "Original token: figure, Predicted token: body\n",
      "Original sentence: she had that sort of full-bodied figure that he sometimes enjoyed .\n",
      "Masked sentence: she had that sort of full - bodied [MASK] that he sometimes enjoyed .\n",
      "Predicted sentence: she had that sort of full - bodied body that he sometimes enjoyed .\n",
      "\n",
      "\n"
     ]
    },
    {
     "name": "stderr",
     "output_type": "stream",
     "text": [
      "  7%|▋         | 133/2000 [00:05<01:07, 27.52it/s]"
     ]
    },
    {
     "name": "stdout",
     "output_type": "stream",
     "text": [
      "Original token: bodied, Predicted token: -\n",
      "Original sentence: she had that sort of full-bodied figure that he sometimes enjoyed .\n",
      "Masked sentence: she had that sort of full - [MASK] figure that he sometimes enjoyed .\n",
      "Predicted sentence: she had that sort of full - - figure that he sometimes enjoyed .\n",
      "\n",
      "\n",
      "Original token: an, Predicted token: in\n",
      "Original sentence: this water felt fully as cold as the first application , and i lifted my head slightly in an attempt to ascertain its origin .\n",
      "Masked sentence: this water felt fully as cold as the first application , and i lifted my head slightly in [MASK] attempt to as ##cer ##tain its origin .\n",
      "Predicted sentence: this water felt fully as cold as the first application , and i lifted my head slightly in in attempt to as ##cer ##tain its origin .\n",
      "\n",
      "\n",
      "Original token: cold, Predicted token: as\n",
      "Original sentence: this water felt fully as cold as the first application , and i lifted my head slightly in an attempt to ascertain its origin .\n",
      "Masked sentence: this water felt fully as [MASK] as the first application , and i lifted my head slightly in an attempt to as ##cer ##tain its origin .\n",
      "Predicted sentence: this water felt fully as as as the first application , and i lifted my head slightly in an attempt to as ##cer ##tain its origin .\n",
      "\n",
      "\n",
      "Original token: his, Predicted token: a\n",
      "Original sentence: she was married to the man of her dreams , or as jasmine would say , de bes lookin thang god done evah strung a gut through , and she would soon deliver his child .\n",
      "Masked sentence: she was married to the man of her dreams , or as jasmine would say , de be ##s look ##in than ##g god done eva ##h strung a gut through , and she would soon deliver [MASK] child .\n",
      "Predicted sentence: she was married to the man of her dreams , or as jasmine would say , de be ##s look ##in than ##g god done eva ##h strung a gut through , and she would soon deliver a child .\n",
      "\n",
      "\n",
      "Original token: dreams, Predicted token: her\n",
      "Original sentence: she was married to the man of her dreams , or as jasmine would say , de bes lookin thang god done evah strung a gut through , and she would soon deliver his child .\n",
      "Masked sentence: she was married to the man of her [MASK] , or as jasmine would say , de be ##s look ##in than ##g god done eva ##h strung a gut through , and she would soon deliver his child .\n",
      "Predicted sentence: she was married to the man of her her , or as jasmine would say , de be ##s look ##in than ##g god done eva ##h strung a gut through , and she would soon deliver his child .\n",
      "\n",
      "\n",
      "Original token: paz, Predicted token: those\n",
      "Original sentence: 'i sent some of our men round the back way to intercept those pazzi rats .\n",
      "Masked sentence: ' i sent some of our men round the back way to intercept those [MASK] ##zi rats .\n",
      "Predicted sentence: ' i sent some of our men round the back way to intercept those those ##zi rats .\n",
      "\n",
      "\n"
     ]
    },
    {
     "name": "stderr",
     "output_type": "stream",
     "text": [
      "  7%|▋         | 139/2000 [00:05<01:05, 28.44it/s]"
     ]
    },
    {
     "name": "stdout",
     "output_type": "stream",
     "text": [
      "Original token: sent, Predicted token: i\n",
      "Original sentence: 'i sent some of our men round the back way to intercept those pazzi rats .\n",
      "Masked sentence: ' i [MASK] some of our men round the back way to intercept those paz ##zi rats .\n",
      "Predicted sentence: ' i i some of our men round the back way to intercept those paz ##zi rats .\n",
      "\n",
      "\n",
      "Original token: know, Predicted token: i\n",
      "Original sentence: i know he loves you .\n",
      "Masked sentence: i [MASK] he loves you .\n",
      "Predicted sentence: i i he loves you .\n",
      "\n",
      "\n",
      "Original token: he, Predicted token: know\n",
      "Original sentence: i know he loves you .\n",
      "Masked sentence: i know [MASK] loves you .\n",
      "Predicted sentence: i know know loves you .\n",
      "\n",
      "\n",
      "Original token: away, Predicted token: looked\n",
      "Original sentence: nothing , rupert looked away from the vampire .\n",
      "Masked sentence: nothing , rupert looked [MASK] from the vampire .\n",
      "Predicted sentence: nothing , rupert looked looked from the vampire .\n",
      "\n",
      "\n",
      "Original token: the, Predicted token: from\n",
      "Original sentence: nothing , rupert looked away from the vampire .\n",
      "Masked sentence: nothing , rupert looked away from [MASK] vampire .\n",
      "Predicted sentence: nothing , rupert looked away from from vampire .\n",
      "\n",
      "\n",
      "Original token: house, Predicted token: small\n",
      "Original sentence: he lived in a small house .\n",
      "Masked sentence: he lived in a small [MASK] .\n",
      "Predicted sentence: he lived in a small small .\n",
      "\n",
      "\n"
     ]
    },
    {
     "name": "stderr",
     "output_type": "stream",
     "text": [
      "  7%|▋         | 142/2000 [00:05<01:12, 25.62it/s]\n"
     ]
    },
    {
     "name": "stdout",
     "output_type": "stream",
     "text": [
      "Original token: in, Predicted token: lived\n",
      "Original sentence: he lived in a small house .\n",
      "Masked sentence: he lived [MASK] a small house .\n",
      "Predicted sentence: he lived lived a small house .\n",
      "\n",
      "\n",
      "Original token: ., Predicted token: bacteria\n",
      "Original sentence: the bacteria .\n",
      "Masked sentence: the bacteria [MASK]\n",
      "Predicted sentence: the bacteria bacteria\n",
      "\n",
      "\n",
      "Original token: the, Predicted token: .\n",
      "Original sentence: the bacteria .\n",
      "Masked sentence: [MASK] bacteria .\n",
      "Predicted sentence: . bacteria .\n",
      "\n",
      "\n"
     ]
    },
    {
     "ename": "KeyboardInterrupt",
     "evalue": "",
     "output_type": "error",
     "traceback": [
      "\u001b[0;31m---------------------------------------------------------------------------\u001b[0m",
      "\u001b[0;31mKeyboardInterrupt\u001b[0m                         Traceback (most recent call last)",
      "Cell \u001b[0;32mIn[165], line 16\u001b[0m\n\u001b[1;32m     14\u001b[0m model\u001b[38;5;241m.\u001b[39meval()\n\u001b[1;32m     15\u001b[0m \u001b[38;5;28;01mwith\u001b[39;00m torch\u001b[38;5;241m.\u001b[39mno_grad():\n\u001b[0;32m---> 16\u001b[0m     outputs \u001b[38;5;241m=\u001b[39m \u001b[43mmodel\u001b[49m\u001b[43m(\u001b[49m\u001b[43mtokens_input\u001b[49m\u001b[43m[\u001b[49m\u001b[38;5;124;43m'\u001b[39;49m\u001b[38;5;124;43minput_ids\u001b[39;49m\u001b[38;5;124;43m'\u001b[39;49m\u001b[43m]\u001b[49m\u001b[43m,\u001b[49m\u001b[43m \u001b[49m\u001b[43mreturn_dict\u001b[49m\u001b[38;5;241;43m=\u001b[39;49m\u001b[38;5;28;43;01mTrue\u001b[39;49;00m\u001b[43m)\u001b[49m\n\u001b[1;32m     17\u001b[0m     logits \u001b[38;5;241m=\u001b[39m outputs\u001b[38;5;241m.\u001b[39mlogits\n\u001b[1;32m     18\u001b[0m     predicted_index \u001b[38;5;241m=\u001b[39m torch\u001b[38;5;241m.\u001b[39margmax(logits[\u001b[38;5;241m0\u001b[39m, mask_idx])\u001b[38;5;241m.\u001b[39mitem()\n",
      "File \u001b[0;32m~/anaconda3/envs/phd/lib/python3.11/site-packages/torch/nn/modules/module.py:1553\u001b[0m, in \u001b[0;36mModule._wrapped_call_impl\u001b[0;34m(self, *args, **kwargs)\u001b[0m\n\u001b[1;32m   1551\u001b[0m     \u001b[38;5;28;01mreturn\u001b[39;00m \u001b[38;5;28mself\u001b[39m\u001b[38;5;241m.\u001b[39m_compiled_call_impl(\u001b[38;5;241m*\u001b[39margs, \u001b[38;5;241m*\u001b[39m\u001b[38;5;241m*\u001b[39mkwargs)  \u001b[38;5;66;03m# type: ignore[misc]\u001b[39;00m\n\u001b[1;32m   1552\u001b[0m \u001b[38;5;28;01melse\u001b[39;00m:\n\u001b[0;32m-> 1553\u001b[0m     \u001b[38;5;28;01mreturn\u001b[39;00m \u001b[38;5;28;43mself\u001b[39;49m\u001b[38;5;241;43m.\u001b[39;49m\u001b[43m_call_impl\u001b[49m\u001b[43m(\u001b[49m\u001b[38;5;241;43m*\u001b[39;49m\u001b[43margs\u001b[49m\u001b[43m,\u001b[49m\u001b[43m \u001b[49m\u001b[38;5;241;43m*\u001b[39;49m\u001b[38;5;241;43m*\u001b[39;49m\u001b[43mkwargs\u001b[49m\u001b[43m)\u001b[49m\n",
      "File \u001b[0;32m~/anaconda3/envs/phd/lib/python3.11/site-packages/torch/nn/modules/module.py:1562\u001b[0m, in \u001b[0;36mModule._call_impl\u001b[0;34m(self, *args, **kwargs)\u001b[0m\n\u001b[1;32m   1557\u001b[0m \u001b[38;5;66;03m# If we don't have any hooks, we want to skip the rest of the logic in\u001b[39;00m\n\u001b[1;32m   1558\u001b[0m \u001b[38;5;66;03m# this function, and just call forward.\u001b[39;00m\n\u001b[1;32m   1559\u001b[0m \u001b[38;5;28;01mif\u001b[39;00m \u001b[38;5;129;01mnot\u001b[39;00m (\u001b[38;5;28mself\u001b[39m\u001b[38;5;241m.\u001b[39m_backward_hooks \u001b[38;5;129;01mor\u001b[39;00m \u001b[38;5;28mself\u001b[39m\u001b[38;5;241m.\u001b[39m_backward_pre_hooks \u001b[38;5;129;01mor\u001b[39;00m \u001b[38;5;28mself\u001b[39m\u001b[38;5;241m.\u001b[39m_forward_hooks \u001b[38;5;129;01mor\u001b[39;00m \u001b[38;5;28mself\u001b[39m\u001b[38;5;241m.\u001b[39m_forward_pre_hooks\n\u001b[1;32m   1560\u001b[0m         \u001b[38;5;129;01mor\u001b[39;00m _global_backward_pre_hooks \u001b[38;5;129;01mor\u001b[39;00m _global_backward_hooks\n\u001b[1;32m   1561\u001b[0m         \u001b[38;5;129;01mor\u001b[39;00m _global_forward_hooks \u001b[38;5;129;01mor\u001b[39;00m _global_forward_pre_hooks):\n\u001b[0;32m-> 1562\u001b[0m     \u001b[38;5;28;01mreturn\u001b[39;00m \u001b[43mforward_call\u001b[49m\u001b[43m(\u001b[49m\u001b[38;5;241;43m*\u001b[39;49m\u001b[43margs\u001b[49m\u001b[43m,\u001b[49m\u001b[43m \u001b[49m\u001b[38;5;241;43m*\u001b[39;49m\u001b[38;5;241;43m*\u001b[39;49m\u001b[43mkwargs\u001b[49m\u001b[43m)\u001b[49m\n\u001b[1;32m   1564\u001b[0m \u001b[38;5;28;01mtry\u001b[39;00m:\n\u001b[1;32m   1565\u001b[0m     result \u001b[38;5;241m=\u001b[39m \u001b[38;5;28;01mNone\u001b[39;00m\n",
      "File \u001b[0;32m~/anaconda3/envs/phd/lib/python3.11/site-packages/transformers/models/bert/modeling_bert.py:1492\u001b[0m, in \u001b[0;36mBertForMaskedLM.forward\u001b[0;34m(self, input_ids, attention_mask, token_type_ids, position_ids, head_mask, inputs_embeds, encoder_hidden_states, encoder_attention_mask, labels, output_attentions, output_hidden_states, return_dict)\u001b[0m\n\u001b[1;32m   1483\u001b[0m \u001b[38;5;250m\u001b[39m\u001b[38;5;124mr\u001b[39m\u001b[38;5;124;03m\"\"\"\u001b[39;00m\n\u001b[1;32m   1484\u001b[0m \u001b[38;5;124;03mlabels (`torch.LongTensor` of shape `(batch_size, sequence_length)`, *optional*):\u001b[39;00m\n\u001b[1;32m   1485\u001b[0m \u001b[38;5;124;03m    Labels for computing the masked language modeling loss. Indices should be in `[-100, 0, ...,\u001b[39;00m\n\u001b[1;32m   1486\u001b[0m \u001b[38;5;124;03m    config.vocab_size]` (see `input_ids` docstring) Tokens with indices set to `-100` are ignored (masked), the\u001b[39;00m\n\u001b[1;32m   1487\u001b[0m \u001b[38;5;124;03m    loss is only computed for the tokens with labels in `[0, ..., config.vocab_size]`\u001b[39;00m\n\u001b[1;32m   1488\u001b[0m \u001b[38;5;124;03m\"\"\"\u001b[39;00m\n\u001b[1;32m   1490\u001b[0m return_dict \u001b[38;5;241m=\u001b[39m return_dict \u001b[38;5;28;01mif\u001b[39;00m return_dict \u001b[38;5;129;01mis\u001b[39;00m \u001b[38;5;129;01mnot\u001b[39;00m \u001b[38;5;28;01mNone\u001b[39;00m \u001b[38;5;28;01melse\u001b[39;00m \u001b[38;5;28mself\u001b[39m\u001b[38;5;241m.\u001b[39mconfig\u001b[38;5;241m.\u001b[39muse_return_dict\n\u001b[0;32m-> 1492\u001b[0m outputs \u001b[38;5;241m=\u001b[39m \u001b[38;5;28;43mself\u001b[39;49m\u001b[38;5;241;43m.\u001b[39;49m\u001b[43mbert\u001b[49m\u001b[43m(\u001b[49m\n\u001b[1;32m   1493\u001b[0m \u001b[43m    \u001b[49m\u001b[43minput_ids\u001b[49m\u001b[43m,\u001b[49m\n\u001b[1;32m   1494\u001b[0m \u001b[43m    \u001b[49m\u001b[43mattention_mask\u001b[49m\u001b[38;5;241;43m=\u001b[39;49m\u001b[43mattention_mask\u001b[49m\u001b[43m,\u001b[49m\n\u001b[1;32m   1495\u001b[0m \u001b[43m    \u001b[49m\u001b[43mtoken_type_ids\u001b[49m\u001b[38;5;241;43m=\u001b[39;49m\u001b[43mtoken_type_ids\u001b[49m\u001b[43m,\u001b[49m\n\u001b[1;32m   1496\u001b[0m \u001b[43m    \u001b[49m\u001b[43mposition_ids\u001b[49m\u001b[38;5;241;43m=\u001b[39;49m\u001b[43mposition_ids\u001b[49m\u001b[43m,\u001b[49m\n\u001b[1;32m   1497\u001b[0m \u001b[43m    \u001b[49m\u001b[43mhead_mask\u001b[49m\u001b[38;5;241;43m=\u001b[39;49m\u001b[43mhead_mask\u001b[49m\u001b[43m,\u001b[49m\n\u001b[1;32m   1498\u001b[0m \u001b[43m    \u001b[49m\u001b[43minputs_embeds\u001b[49m\u001b[38;5;241;43m=\u001b[39;49m\u001b[43minputs_embeds\u001b[49m\u001b[43m,\u001b[49m\n\u001b[1;32m   1499\u001b[0m \u001b[43m    \u001b[49m\u001b[43mencoder_hidden_states\u001b[49m\u001b[38;5;241;43m=\u001b[39;49m\u001b[43mencoder_hidden_states\u001b[49m\u001b[43m,\u001b[49m\n\u001b[1;32m   1500\u001b[0m \u001b[43m    \u001b[49m\u001b[43mencoder_attention_mask\u001b[49m\u001b[38;5;241;43m=\u001b[39;49m\u001b[43mencoder_attention_mask\u001b[49m\u001b[43m,\u001b[49m\n\u001b[1;32m   1501\u001b[0m \u001b[43m    \u001b[49m\u001b[43moutput_attentions\u001b[49m\u001b[38;5;241;43m=\u001b[39;49m\u001b[43moutput_attentions\u001b[49m\u001b[43m,\u001b[49m\n\u001b[1;32m   1502\u001b[0m \u001b[43m    \u001b[49m\u001b[43moutput_hidden_states\u001b[49m\u001b[38;5;241;43m=\u001b[39;49m\u001b[43moutput_hidden_states\u001b[49m\u001b[43m,\u001b[49m\n\u001b[1;32m   1503\u001b[0m \u001b[43m    \u001b[49m\u001b[43mreturn_dict\u001b[49m\u001b[38;5;241;43m=\u001b[39;49m\u001b[43mreturn_dict\u001b[49m\u001b[43m,\u001b[49m\n\u001b[1;32m   1504\u001b[0m \u001b[43m\u001b[49m\u001b[43m)\u001b[49m\n\u001b[1;32m   1506\u001b[0m sequence_output \u001b[38;5;241m=\u001b[39m outputs[\u001b[38;5;241m0\u001b[39m]\n\u001b[1;32m   1507\u001b[0m prediction_scores \u001b[38;5;241m=\u001b[39m \u001b[38;5;28mself\u001b[39m\u001b[38;5;241m.\u001b[39mcls(sequence_output)\n",
      "File \u001b[0;32m~/anaconda3/envs/phd/lib/python3.11/site-packages/torch/nn/modules/module.py:1553\u001b[0m, in \u001b[0;36mModule._wrapped_call_impl\u001b[0;34m(self, *args, **kwargs)\u001b[0m\n\u001b[1;32m   1551\u001b[0m     \u001b[38;5;28;01mreturn\u001b[39;00m \u001b[38;5;28mself\u001b[39m\u001b[38;5;241m.\u001b[39m_compiled_call_impl(\u001b[38;5;241m*\u001b[39margs, \u001b[38;5;241m*\u001b[39m\u001b[38;5;241m*\u001b[39mkwargs)  \u001b[38;5;66;03m# type: ignore[misc]\u001b[39;00m\n\u001b[1;32m   1552\u001b[0m \u001b[38;5;28;01melse\u001b[39;00m:\n\u001b[0;32m-> 1553\u001b[0m     \u001b[38;5;28;01mreturn\u001b[39;00m \u001b[38;5;28;43mself\u001b[39;49m\u001b[38;5;241;43m.\u001b[39;49m\u001b[43m_call_impl\u001b[49m\u001b[43m(\u001b[49m\u001b[38;5;241;43m*\u001b[39;49m\u001b[43margs\u001b[49m\u001b[43m,\u001b[49m\u001b[43m \u001b[49m\u001b[38;5;241;43m*\u001b[39;49m\u001b[38;5;241;43m*\u001b[39;49m\u001b[43mkwargs\u001b[49m\u001b[43m)\u001b[49m\n",
      "File \u001b[0;32m~/anaconda3/envs/phd/lib/python3.11/site-packages/torch/nn/modules/module.py:1562\u001b[0m, in \u001b[0;36mModule._call_impl\u001b[0;34m(self, *args, **kwargs)\u001b[0m\n\u001b[1;32m   1557\u001b[0m \u001b[38;5;66;03m# If we don't have any hooks, we want to skip the rest of the logic in\u001b[39;00m\n\u001b[1;32m   1558\u001b[0m \u001b[38;5;66;03m# this function, and just call forward.\u001b[39;00m\n\u001b[1;32m   1559\u001b[0m \u001b[38;5;28;01mif\u001b[39;00m \u001b[38;5;129;01mnot\u001b[39;00m (\u001b[38;5;28mself\u001b[39m\u001b[38;5;241m.\u001b[39m_backward_hooks \u001b[38;5;129;01mor\u001b[39;00m \u001b[38;5;28mself\u001b[39m\u001b[38;5;241m.\u001b[39m_backward_pre_hooks \u001b[38;5;129;01mor\u001b[39;00m \u001b[38;5;28mself\u001b[39m\u001b[38;5;241m.\u001b[39m_forward_hooks \u001b[38;5;129;01mor\u001b[39;00m \u001b[38;5;28mself\u001b[39m\u001b[38;5;241m.\u001b[39m_forward_pre_hooks\n\u001b[1;32m   1560\u001b[0m         \u001b[38;5;129;01mor\u001b[39;00m _global_backward_pre_hooks \u001b[38;5;129;01mor\u001b[39;00m _global_backward_hooks\n\u001b[1;32m   1561\u001b[0m         \u001b[38;5;129;01mor\u001b[39;00m _global_forward_hooks \u001b[38;5;129;01mor\u001b[39;00m _global_forward_pre_hooks):\n\u001b[0;32m-> 1562\u001b[0m     \u001b[38;5;28;01mreturn\u001b[39;00m \u001b[43mforward_call\u001b[49m\u001b[43m(\u001b[49m\u001b[38;5;241;43m*\u001b[39;49m\u001b[43margs\u001b[49m\u001b[43m,\u001b[49m\u001b[43m \u001b[49m\u001b[38;5;241;43m*\u001b[39;49m\u001b[38;5;241;43m*\u001b[39;49m\u001b[43mkwargs\u001b[49m\u001b[43m)\u001b[49m\n\u001b[1;32m   1564\u001b[0m \u001b[38;5;28;01mtry\u001b[39;00m:\n\u001b[1;32m   1565\u001b[0m     result \u001b[38;5;241m=\u001b[39m \u001b[38;5;28;01mNone\u001b[39;00m\n",
      "File \u001b[0;32m~/anaconda3/envs/phd/lib/python3.11/site-packages/transformers/models/bert/modeling_bert.py:1142\u001b[0m, in \u001b[0;36mBertModel.forward\u001b[0;34m(self, input_ids, attention_mask, token_type_ids, position_ids, head_mask, inputs_embeds, encoder_hidden_states, encoder_attention_mask, past_key_values, use_cache, output_attentions, output_hidden_states, return_dict)\u001b[0m\n\u001b[1;32m   1135\u001b[0m \u001b[38;5;66;03m# Prepare head mask if needed\u001b[39;00m\n\u001b[1;32m   1136\u001b[0m \u001b[38;5;66;03m# 1.0 in head_mask indicate we keep the head\u001b[39;00m\n\u001b[1;32m   1137\u001b[0m \u001b[38;5;66;03m# attention_probs has shape bsz x n_heads x N x N\u001b[39;00m\n\u001b[1;32m   1138\u001b[0m \u001b[38;5;66;03m# input head_mask has shape [num_heads] or [num_hidden_layers x num_heads]\u001b[39;00m\n\u001b[1;32m   1139\u001b[0m \u001b[38;5;66;03m# and head_mask is converted to shape [num_hidden_layers x batch x num_heads x seq_length x seq_length]\u001b[39;00m\n\u001b[1;32m   1140\u001b[0m head_mask \u001b[38;5;241m=\u001b[39m \u001b[38;5;28mself\u001b[39m\u001b[38;5;241m.\u001b[39mget_head_mask(head_mask, \u001b[38;5;28mself\u001b[39m\u001b[38;5;241m.\u001b[39mconfig\u001b[38;5;241m.\u001b[39mnum_hidden_layers)\n\u001b[0;32m-> 1142\u001b[0m encoder_outputs \u001b[38;5;241m=\u001b[39m \u001b[38;5;28;43mself\u001b[39;49m\u001b[38;5;241;43m.\u001b[39;49m\u001b[43mencoder\u001b[49m\u001b[43m(\u001b[49m\n\u001b[1;32m   1143\u001b[0m \u001b[43m    \u001b[49m\u001b[43membedding_output\u001b[49m\u001b[43m,\u001b[49m\n\u001b[1;32m   1144\u001b[0m \u001b[43m    \u001b[49m\u001b[43mattention_mask\u001b[49m\u001b[38;5;241;43m=\u001b[39;49m\u001b[43mextended_attention_mask\u001b[49m\u001b[43m,\u001b[49m\n\u001b[1;32m   1145\u001b[0m \u001b[43m    \u001b[49m\u001b[43mhead_mask\u001b[49m\u001b[38;5;241;43m=\u001b[39;49m\u001b[43mhead_mask\u001b[49m\u001b[43m,\u001b[49m\n\u001b[1;32m   1146\u001b[0m \u001b[43m    \u001b[49m\u001b[43mencoder_hidden_states\u001b[49m\u001b[38;5;241;43m=\u001b[39;49m\u001b[43mencoder_hidden_states\u001b[49m\u001b[43m,\u001b[49m\n\u001b[1;32m   1147\u001b[0m \u001b[43m    \u001b[49m\u001b[43mencoder_attention_mask\u001b[49m\u001b[38;5;241;43m=\u001b[39;49m\u001b[43mencoder_extended_attention_mask\u001b[49m\u001b[43m,\u001b[49m\n\u001b[1;32m   1148\u001b[0m \u001b[43m    \u001b[49m\u001b[43mpast_key_values\u001b[49m\u001b[38;5;241;43m=\u001b[39;49m\u001b[43mpast_key_values\u001b[49m\u001b[43m,\u001b[49m\n\u001b[1;32m   1149\u001b[0m \u001b[43m    \u001b[49m\u001b[43muse_cache\u001b[49m\u001b[38;5;241;43m=\u001b[39;49m\u001b[43muse_cache\u001b[49m\u001b[43m,\u001b[49m\n\u001b[1;32m   1150\u001b[0m \u001b[43m    \u001b[49m\u001b[43moutput_attentions\u001b[49m\u001b[38;5;241;43m=\u001b[39;49m\u001b[43moutput_attentions\u001b[49m\u001b[43m,\u001b[49m\n\u001b[1;32m   1151\u001b[0m \u001b[43m    \u001b[49m\u001b[43moutput_hidden_states\u001b[49m\u001b[38;5;241;43m=\u001b[39;49m\u001b[43moutput_hidden_states\u001b[49m\u001b[43m,\u001b[49m\n\u001b[1;32m   1152\u001b[0m \u001b[43m    \u001b[49m\u001b[43mreturn_dict\u001b[49m\u001b[38;5;241;43m=\u001b[39;49m\u001b[43mreturn_dict\u001b[49m\u001b[43m,\u001b[49m\n\u001b[1;32m   1153\u001b[0m \u001b[43m\u001b[49m\u001b[43m)\u001b[49m\n\u001b[1;32m   1154\u001b[0m sequence_output \u001b[38;5;241m=\u001b[39m encoder_outputs[\u001b[38;5;241m0\u001b[39m]\n\u001b[1;32m   1155\u001b[0m pooled_output \u001b[38;5;241m=\u001b[39m \u001b[38;5;28mself\u001b[39m\u001b[38;5;241m.\u001b[39mpooler(sequence_output) \u001b[38;5;28;01mif\u001b[39;00m \u001b[38;5;28mself\u001b[39m\u001b[38;5;241m.\u001b[39mpooler \u001b[38;5;129;01mis\u001b[39;00m \u001b[38;5;129;01mnot\u001b[39;00m \u001b[38;5;28;01mNone\u001b[39;00m \u001b[38;5;28;01melse\u001b[39;00m \u001b[38;5;28;01mNone\u001b[39;00m\n",
      "File \u001b[0;32m~/anaconda3/envs/phd/lib/python3.11/site-packages/torch/nn/modules/module.py:1553\u001b[0m, in \u001b[0;36mModule._wrapped_call_impl\u001b[0;34m(self, *args, **kwargs)\u001b[0m\n\u001b[1;32m   1551\u001b[0m     \u001b[38;5;28;01mreturn\u001b[39;00m \u001b[38;5;28mself\u001b[39m\u001b[38;5;241m.\u001b[39m_compiled_call_impl(\u001b[38;5;241m*\u001b[39margs, \u001b[38;5;241m*\u001b[39m\u001b[38;5;241m*\u001b[39mkwargs)  \u001b[38;5;66;03m# type: ignore[misc]\u001b[39;00m\n\u001b[1;32m   1552\u001b[0m \u001b[38;5;28;01melse\u001b[39;00m:\n\u001b[0;32m-> 1553\u001b[0m     \u001b[38;5;28;01mreturn\u001b[39;00m \u001b[38;5;28;43mself\u001b[39;49m\u001b[38;5;241;43m.\u001b[39;49m\u001b[43m_call_impl\u001b[49m\u001b[43m(\u001b[49m\u001b[38;5;241;43m*\u001b[39;49m\u001b[43margs\u001b[49m\u001b[43m,\u001b[49m\u001b[43m \u001b[49m\u001b[38;5;241;43m*\u001b[39;49m\u001b[38;5;241;43m*\u001b[39;49m\u001b[43mkwargs\u001b[49m\u001b[43m)\u001b[49m\n",
      "File \u001b[0;32m~/anaconda3/envs/phd/lib/python3.11/site-packages/torch/nn/modules/module.py:1562\u001b[0m, in \u001b[0;36mModule._call_impl\u001b[0;34m(self, *args, **kwargs)\u001b[0m\n\u001b[1;32m   1557\u001b[0m \u001b[38;5;66;03m# If we don't have any hooks, we want to skip the rest of the logic in\u001b[39;00m\n\u001b[1;32m   1558\u001b[0m \u001b[38;5;66;03m# this function, and just call forward.\u001b[39;00m\n\u001b[1;32m   1559\u001b[0m \u001b[38;5;28;01mif\u001b[39;00m \u001b[38;5;129;01mnot\u001b[39;00m (\u001b[38;5;28mself\u001b[39m\u001b[38;5;241m.\u001b[39m_backward_hooks \u001b[38;5;129;01mor\u001b[39;00m \u001b[38;5;28mself\u001b[39m\u001b[38;5;241m.\u001b[39m_backward_pre_hooks \u001b[38;5;129;01mor\u001b[39;00m \u001b[38;5;28mself\u001b[39m\u001b[38;5;241m.\u001b[39m_forward_hooks \u001b[38;5;129;01mor\u001b[39;00m \u001b[38;5;28mself\u001b[39m\u001b[38;5;241m.\u001b[39m_forward_pre_hooks\n\u001b[1;32m   1560\u001b[0m         \u001b[38;5;129;01mor\u001b[39;00m _global_backward_pre_hooks \u001b[38;5;129;01mor\u001b[39;00m _global_backward_hooks\n\u001b[1;32m   1561\u001b[0m         \u001b[38;5;129;01mor\u001b[39;00m _global_forward_hooks \u001b[38;5;129;01mor\u001b[39;00m _global_forward_pre_hooks):\n\u001b[0;32m-> 1562\u001b[0m     \u001b[38;5;28;01mreturn\u001b[39;00m \u001b[43mforward_call\u001b[49m\u001b[43m(\u001b[49m\u001b[38;5;241;43m*\u001b[39;49m\u001b[43margs\u001b[49m\u001b[43m,\u001b[49m\u001b[43m \u001b[49m\u001b[38;5;241;43m*\u001b[39;49m\u001b[38;5;241;43m*\u001b[39;49m\u001b[43mkwargs\u001b[49m\u001b[43m)\u001b[49m\n\u001b[1;32m   1564\u001b[0m \u001b[38;5;28;01mtry\u001b[39;00m:\n\u001b[1;32m   1565\u001b[0m     result \u001b[38;5;241m=\u001b[39m \u001b[38;5;28;01mNone\u001b[39;00m\n",
      "File \u001b[0;32m~/anaconda3/envs/phd/lib/python3.11/site-packages/transformers/models/bert/modeling_bert.py:695\u001b[0m, in \u001b[0;36mBertEncoder.forward\u001b[0;34m(self, hidden_states, attention_mask, head_mask, encoder_hidden_states, encoder_attention_mask, past_key_values, use_cache, output_attentions, output_hidden_states, return_dict)\u001b[0m\n\u001b[1;32m    684\u001b[0m     layer_outputs \u001b[38;5;241m=\u001b[39m \u001b[38;5;28mself\u001b[39m\u001b[38;5;241m.\u001b[39m_gradient_checkpointing_func(\n\u001b[1;32m    685\u001b[0m         layer_module\u001b[38;5;241m.\u001b[39m\u001b[38;5;21m__call__\u001b[39m,\n\u001b[1;32m    686\u001b[0m         hidden_states,\n\u001b[0;32m   (...)\u001b[0m\n\u001b[1;32m    692\u001b[0m         output_attentions,\n\u001b[1;32m    693\u001b[0m     )\n\u001b[1;32m    694\u001b[0m \u001b[38;5;28;01melse\u001b[39;00m:\n\u001b[0;32m--> 695\u001b[0m     layer_outputs \u001b[38;5;241m=\u001b[39m \u001b[43mlayer_module\u001b[49m\u001b[43m(\u001b[49m\n\u001b[1;32m    696\u001b[0m \u001b[43m        \u001b[49m\u001b[43mhidden_states\u001b[49m\u001b[43m,\u001b[49m\n\u001b[1;32m    697\u001b[0m \u001b[43m        \u001b[49m\u001b[43mattention_mask\u001b[49m\u001b[43m,\u001b[49m\n\u001b[1;32m    698\u001b[0m \u001b[43m        \u001b[49m\u001b[43mlayer_head_mask\u001b[49m\u001b[43m,\u001b[49m\n\u001b[1;32m    699\u001b[0m \u001b[43m        \u001b[49m\u001b[43mencoder_hidden_states\u001b[49m\u001b[43m,\u001b[49m\n\u001b[1;32m    700\u001b[0m \u001b[43m        \u001b[49m\u001b[43mencoder_attention_mask\u001b[49m\u001b[43m,\u001b[49m\n\u001b[1;32m    701\u001b[0m \u001b[43m        \u001b[49m\u001b[43mpast_key_value\u001b[49m\u001b[43m,\u001b[49m\n\u001b[1;32m    702\u001b[0m \u001b[43m        \u001b[49m\u001b[43moutput_attentions\u001b[49m\u001b[43m,\u001b[49m\n\u001b[1;32m    703\u001b[0m \u001b[43m    \u001b[49m\u001b[43m)\u001b[49m\n\u001b[1;32m    705\u001b[0m hidden_states \u001b[38;5;241m=\u001b[39m layer_outputs[\u001b[38;5;241m0\u001b[39m]\n\u001b[1;32m    706\u001b[0m \u001b[38;5;28;01mif\u001b[39;00m use_cache:\n",
      "File \u001b[0;32m~/anaconda3/envs/phd/lib/python3.11/site-packages/torch/nn/modules/module.py:1553\u001b[0m, in \u001b[0;36mModule._wrapped_call_impl\u001b[0;34m(self, *args, **kwargs)\u001b[0m\n\u001b[1;32m   1551\u001b[0m     \u001b[38;5;28;01mreturn\u001b[39;00m \u001b[38;5;28mself\u001b[39m\u001b[38;5;241m.\u001b[39m_compiled_call_impl(\u001b[38;5;241m*\u001b[39margs, \u001b[38;5;241m*\u001b[39m\u001b[38;5;241m*\u001b[39mkwargs)  \u001b[38;5;66;03m# type: ignore[misc]\u001b[39;00m\n\u001b[1;32m   1552\u001b[0m \u001b[38;5;28;01melse\u001b[39;00m:\n\u001b[0;32m-> 1553\u001b[0m     \u001b[38;5;28;01mreturn\u001b[39;00m \u001b[38;5;28;43mself\u001b[39;49m\u001b[38;5;241;43m.\u001b[39;49m\u001b[43m_call_impl\u001b[49m\u001b[43m(\u001b[49m\u001b[38;5;241;43m*\u001b[39;49m\u001b[43margs\u001b[49m\u001b[43m,\u001b[49m\u001b[43m \u001b[49m\u001b[38;5;241;43m*\u001b[39;49m\u001b[38;5;241;43m*\u001b[39;49m\u001b[43mkwargs\u001b[49m\u001b[43m)\u001b[49m\n",
      "File \u001b[0;32m~/anaconda3/envs/phd/lib/python3.11/site-packages/torch/nn/modules/module.py:1562\u001b[0m, in \u001b[0;36mModule._call_impl\u001b[0;34m(self, *args, **kwargs)\u001b[0m\n\u001b[1;32m   1557\u001b[0m \u001b[38;5;66;03m# If we don't have any hooks, we want to skip the rest of the logic in\u001b[39;00m\n\u001b[1;32m   1558\u001b[0m \u001b[38;5;66;03m# this function, and just call forward.\u001b[39;00m\n\u001b[1;32m   1559\u001b[0m \u001b[38;5;28;01mif\u001b[39;00m \u001b[38;5;129;01mnot\u001b[39;00m (\u001b[38;5;28mself\u001b[39m\u001b[38;5;241m.\u001b[39m_backward_hooks \u001b[38;5;129;01mor\u001b[39;00m \u001b[38;5;28mself\u001b[39m\u001b[38;5;241m.\u001b[39m_backward_pre_hooks \u001b[38;5;129;01mor\u001b[39;00m \u001b[38;5;28mself\u001b[39m\u001b[38;5;241m.\u001b[39m_forward_hooks \u001b[38;5;129;01mor\u001b[39;00m \u001b[38;5;28mself\u001b[39m\u001b[38;5;241m.\u001b[39m_forward_pre_hooks\n\u001b[1;32m   1560\u001b[0m         \u001b[38;5;129;01mor\u001b[39;00m _global_backward_pre_hooks \u001b[38;5;129;01mor\u001b[39;00m _global_backward_hooks\n\u001b[1;32m   1561\u001b[0m         \u001b[38;5;129;01mor\u001b[39;00m _global_forward_hooks \u001b[38;5;129;01mor\u001b[39;00m _global_forward_pre_hooks):\n\u001b[0;32m-> 1562\u001b[0m     \u001b[38;5;28;01mreturn\u001b[39;00m \u001b[43mforward_call\u001b[49m\u001b[43m(\u001b[49m\u001b[38;5;241;43m*\u001b[39;49m\u001b[43margs\u001b[49m\u001b[43m,\u001b[49m\u001b[43m \u001b[49m\u001b[38;5;241;43m*\u001b[39;49m\u001b[38;5;241;43m*\u001b[39;49m\u001b[43mkwargs\u001b[49m\u001b[43m)\u001b[49m\n\u001b[1;32m   1564\u001b[0m \u001b[38;5;28;01mtry\u001b[39;00m:\n\u001b[1;32m   1565\u001b[0m     result \u001b[38;5;241m=\u001b[39m \u001b[38;5;28;01mNone\u001b[39;00m\n",
      "File \u001b[0;32m~/anaconda3/envs/phd/lib/python3.11/site-packages/transformers/models/bert/modeling_bert.py:627\u001b[0m, in \u001b[0;36mBertLayer.forward\u001b[0;34m(self, hidden_states, attention_mask, head_mask, encoder_hidden_states, encoder_attention_mask, past_key_value, output_attentions)\u001b[0m\n\u001b[1;32m    624\u001b[0m     cross_attn_present_key_value \u001b[38;5;241m=\u001b[39m cross_attention_outputs[\u001b[38;5;241m-\u001b[39m\u001b[38;5;241m1\u001b[39m]\n\u001b[1;32m    625\u001b[0m     present_key_value \u001b[38;5;241m=\u001b[39m present_key_value \u001b[38;5;241m+\u001b[39m cross_attn_present_key_value\n\u001b[0;32m--> 627\u001b[0m layer_output \u001b[38;5;241m=\u001b[39m \u001b[43mapply_chunking_to_forward\u001b[49m\u001b[43m(\u001b[49m\n\u001b[1;32m    628\u001b[0m \u001b[43m    \u001b[49m\u001b[38;5;28;43mself\u001b[39;49m\u001b[38;5;241;43m.\u001b[39;49m\u001b[43mfeed_forward_chunk\u001b[49m\u001b[43m,\u001b[49m\u001b[43m \u001b[49m\u001b[38;5;28;43mself\u001b[39;49m\u001b[38;5;241;43m.\u001b[39;49m\u001b[43mchunk_size_feed_forward\u001b[49m\u001b[43m,\u001b[49m\u001b[43m \u001b[49m\u001b[38;5;28;43mself\u001b[39;49m\u001b[38;5;241;43m.\u001b[39;49m\u001b[43mseq_len_dim\u001b[49m\u001b[43m,\u001b[49m\u001b[43m \u001b[49m\u001b[43mattention_output\u001b[49m\n\u001b[1;32m    629\u001b[0m \u001b[43m\u001b[49m\u001b[43m)\u001b[49m\n\u001b[1;32m    630\u001b[0m outputs \u001b[38;5;241m=\u001b[39m (layer_output,) \u001b[38;5;241m+\u001b[39m outputs\n\u001b[1;32m    632\u001b[0m \u001b[38;5;66;03m# if decoder, return the attn key/values as the last output\u001b[39;00m\n",
      "File \u001b[0;32m~/anaconda3/envs/phd/lib/python3.11/site-packages/transformers/pytorch_utils.py:248\u001b[0m, in \u001b[0;36mapply_chunking_to_forward\u001b[0;34m(forward_fn, chunk_size, chunk_dim, *input_tensors)\u001b[0m\n\u001b[1;32m    245\u001b[0m     \u001b[38;5;66;03m# concatenate output at same dimension\u001b[39;00m\n\u001b[1;32m    246\u001b[0m     \u001b[38;5;28;01mreturn\u001b[39;00m torch\u001b[38;5;241m.\u001b[39mcat(output_chunks, dim\u001b[38;5;241m=\u001b[39mchunk_dim)\n\u001b[0;32m--> 248\u001b[0m \u001b[38;5;28;01mreturn\u001b[39;00m \u001b[43mforward_fn\u001b[49m\u001b[43m(\u001b[49m\u001b[38;5;241;43m*\u001b[39;49m\u001b[43minput_tensors\u001b[49m\u001b[43m)\u001b[49m\n",
      "File \u001b[0;32m~/anaconda3/envs/phd/lib/python3.11/site-packages/transformers/models/bert/modeling_bert.py:640\u001b[0m, in \u001b[0;36mBertLayer.feed_forward_chunk\u001b[0;34m(self, attention_output)\u001b[0m\n\u001b[1;32m    638\u001b[0m \u001b[38;5;28;01mdef\u001b[39;00m \u001b[38;5;21mfeed_forward_chunk\u001b[39m(\u001b[38;5;28mself\u001b[39m, attention_output):\n\u001b[1;32m    639\u001b[0m     intermediate_output \u001b[38;5;241m=\u001b[39m \u001b[38;5;28mself\u001b[39m\u001b[38;5;241m.\u001b[39mintermediate(attention_output)\n\u001b[0;32m--> 640\u001b[0m     layer_output \u001b[38;5;241m=\u001b[39m \u001b[38;5;28;43mself\u001b[39;49m\u001b[38;5;241;43m.\u001b[39;49m\u001b[43moutput\u001b[49m\u001b[43m(\u001b[49m\u001b[43mintermediate_output\u001b[49m\u001b[43m,\u001b[49m\u001b[43m \u001b[49m\u001b[43mattention_output\u001b[49m\u001b[43m)\u001b[49m\n\u001b[1;32m    641\u001b[0m     \u001b[38;5;28;01mreturn\u001b[39;00m layer_output\n",
      "File \u001b[0;32m~/anaconda3/envs/phd/lib/python3.11/site-packages/torch/nn/modules/module.py:1553\u001b[0m, in \u001b[0;36mModule._wrapped_call_impl\u001b[0;34m(self, *args, **kwargs)\u001b[0m\n\u001b[1;32m   1551\u001b[0m     \u001b[38;5;28;01mreturn\u001b[39;00m \u001b[38;5;28mself\u001b[39m\u001b[38;5;241m.\u001b[39m_compiled_call_impl(\u001b[38;5;241m*\u001b[39margs, \u001b[38;5;241m*\u001b[39m\u001b[38;5;241m*\u001b[39mkwargs)  \u001b[38;5;66;03m# type: ignore[misc]\u001b[39;00m\n\u001b[1;32m   1552\u001b[0m \u001b[38;5;28;01melse\u001b[39;00m:\n\u001b[0;32m-> 1553\u001b[0m     \u001b[38;5;28;01mreturn\u001b[39;00m \u001b[38;5;28;43mself\u001b[39;49m\u001b[38;5;241;43m.\u001b[39;49m\u001b[43m_call_impl\u001b[49m\u001b[43m(\u001b[49m\u001b[38;5;241;43m*\u001b[39;49m\u001b[43margs\u001b[49m\u001b[43m,\u001b[49m\u001b[43m \u001b[49m\u001b[38;5;241;43m*\u001b[39;49m\u001b[38;5;241;43m*\u001b[39;49m\u001b[43mkwargs\u001b[49m\u001b[43m)\u001b[49m\n",
      "File \u001b[0;32m~/anaconda3/envs/phd/lib/python3.11/site-packages/torch/nn/modules/module.py:1562\u001b[0m, in \u001b[0;36mModule._call_impl\u001b[0;34m(self, *args, **kwargs)\u001b[0m\n\u001b[1;32m   1557\u001b[0m \u001b[38;5;66;03m# If we don't have any hooks, we want to skip the rest of the logic in\u001b[39;00m\n\u001b[1;32m   1558\u001b[0m \u001b[38;5;66;03m# this function, and just call forward.\u001b[39;00m\n\u001b[1;32m   1559\u001b[0m \u001b[38;5;28;01mif\u001b[39;00m \u001b[38;5;129;01mnot\u001b[39;00m (\u001b[38;5;28mself\u001b[39m\u001b[38;5;241m.\u001b[39m_backward_hooks \u001b[38;5;129;01mor\u001b[39;00m \u001b[38;5;28mself\u001b[39m\u001b[38;5;241m.\u001b[39m_backward_pre_hooks \u001b[38;5;129;01mor\u001b[39;00m \u001b[38;5;28mself\u001b[39m\u001b[38;5;241m.\u001b[39m_forward_hooks \u001b[38;5;129;01mor\u001b[39;00m \u001b[38;5;28mself\u001b[39m\u001b[38;5;241m.\u001b[39m_forward_pre_hooks\n\u001b[1;32m   1560\u001b[0m         \u001b[38;5;129;01mor\u001b[39;00m _global_backward_pre_hooks \u001b[38;5;129;01mor\u001b[39;00m _global_backward_hooks\n\u001b[1;32m   1561\u001b[0m         \u001b[38;5;129;01mor\u001b[39;00m _global_forward_hooks \u001b[38;5;129;01mor\u001b[39;00m _global_forward_pre_hooks):\n\u001b[0;32m-> 1562\u001b[0m     \u001b[38;5;28;01mreturn\u001b[39;00m \u001b[43mforward_call\u001b[49m\u001b[43m(\u001b[49m\u001b[38;5;241;43m*\u001b[39;49m\u001b[43margs\u001b[49m\u001b[43m,\u001b[49m\u001b[43m \u001b[49m\u001b[38;5;241;43m*\u001b[39;49m\u001b[38;5;241;43m*\u001b[39;49m\u001b[43mkwargs\u001b[49m\u001b[43m)\u001b[49m\n\u001b[1;32m   1564\u001b[0m \u001b[38;5;28;01mtry\u001b[39;00m:\n\u001b[1;32m   1565\u001b[0m     result \u001b[38;5;241m=\u001b[39m \u001b[38;5;28;01mNone\u001b[39;00m\n",
      "File \u001b[0;32m~/anaconda3/envs/phd/lib/python3.11/site-packages/transformers/models/bert/modeling_bert.py:552\u001b[0m, in \u001b[0;36mBertOutput.forward\u001b[0;34m(self, hidden_states, input_tensor)\u001b[0m\n\u001b[1;32m    551\u001b[0m \u001b[38;5;28;01mdef\u001b[39;00m \u001b[38;5;21mforward\u001b[39m(\u001b[38;5;28mself\u001b[39m, hidden_states: torch\u001b[38;5;241m.\u001b[39mTensor, input_tensor: torch\u001b[38;5;241m.\u001b[39mTensor) \u001b[38;5;241m-\u001b[39m\u001b[38;5;241m>\u001b[39m torch\u001b[38;5;241m.\u001b[39mTensor:\n\u001b[0;32m--> 552\u001b[0m     hidden_states \u001b[38;5;241m=\u001b[39m \u001b[38;5;28;43mself\u001b[39;49m\u001b[38;5;241;43m.\u001b[39;49m\u001b[43mdense\u001b[49m\u001b[43m(\u001b[49m\u001b[43mhidden_states\u001b[49m\u001b[43m)\u001b[49m\n\u001b[1;32m    553\u001b[0m     hidden_states \u001b[38;5;241m=\u001b[39m \u001b[38;5;28mself\u001b[39m\u001b[38;5;241m.\u001b[39mdropout(hidden_states)\n\u001b[1;32m    554\u001b[0m     hidden_states \u001b[38;5;241m=\u001b[39m \u001b[38;5;28mself\u001b[39m\u001b[38;5;241m.\u001b[39mLayerNorm(hidden_states \u001b[38;5;241m+\u001b[39m input_tensor)\n",
      "File \u001b[0;32m~/anaconda3/envs/phd/lib/python3.11/site-packages/torch/nn/modules/module.py:1553\u001b[0m, in \u001b[0;36mModule._wrapped_call_impl\u001b[0;34m(self, *args, **kwargs)\u001b[0m\n\u001b[1;32m   1551\u001b[0m     \u001b[38;5;28;01mreturn\u001b[39;00m \u001b[38;5;28mself\u001b[39m\u001b[38;5;241m.\u001b[39m_compiled_call_impl(\u001b[38;5;241m*\u001b[39margs, \u001b[38;5;241m*\u001b[39m\u001b[38;5;241m*\u001b[39mkwargs)  \u001b[38;5;66;03m# type: ignore[misc]\u001b[39;00m\n\u001b[1;32m   1552\u001b[0m \u001b[38;5;28;01melse\u001b[39;00m:\n\u001b[0;32m-> 1553\u001b[0m     \u001b[38;5;28;01mreturn\u001b[39;00m \u001b[38;5;28;43mself\u001b[39;49m\u001b[38;5;241;43m.\u001b[39;49m\u001b[43m_call_impl\u001b[49m\u001b[43m(\u001b[49m\u001b[38;5;241;43m*\u001b[39;49m\u001b[43margs\u001b[49m\u001b[43m,\u001b[49m\u001b[43m \u001b[49m\u001b[38;5;241;43m*\u001b[39;49m\u001b[38;5;241;43m*\u001b[39;49m\u001b[43mkwargs\u001b[49m\u001b[43m)\u001b[49m\n",
      "File \u001b[0;32m~/anaconda3/envs/phd/lib/python3.11/site-packages/torch/nn/modules/module.py:1562\u001b[0m, in \u001b[0;36mModule._call_impl\u001b[0;34m(self, *args, **kwargs)\u001b[0m\n\u001b[1;32m   1557\u001b[0m \u001b[38;5;66;03m# If we don't have any hooks, we want to skip the rest of the logic in\u001b[39;00m\n\u001b[1;32m   1558\u001b[0m \u001b[38;5;66;03m# this function, and just call forward.\u001b[39;00m\n\u001b[1;32m   1559\u001b[0m \u001b[38;5;28;01mif\u001b[39;00m \u001b[38;5;129;01mnot\u001b[39;00m (\u001b[38;5;28mself\u001b[39m\u001b[38;5;241m.\u001b[39m_backward_hooks \u001b[38;5;129;01mor\u001b[39;00m \u001b[38;5;28mself\u001b[39m\u001b[38;5;241m.\u001b[39m_backward_pre_hooks \u001b[38;5;129;01mor\u001b[39;00m \u001b[38;5;28mself\u001b[39m\u001b[38;5;241m.\u001b[39m_forward_hooks \u001b[38;5;129;01mor\u001b[39;00m \u001b[38;5;28mself\u001b[39m\u001b[38;5;241m.\u001b[39m_forward_pre_hooks\n\u001b[1;32m   1560\u001b[0m         \u001b[38;5;129;01mor\u001b[39;00m _global_backward_pre_hooks \u001b[38;5;129;01mor\u001b[39;00m _global_backward_hooks\n\u001b[1;32m   1561\u001b[0m         \u001b[38;5;129;01mor\u001b[39;00m _global_forward_hooks \u001b[38;5;129;01mor\u001b[39;00m _global_forward_pre_hooks):\n\u001b[0;32m-> 1562\u001b[0m     \u001b[38;5;28;01mreturn\u001b[39;00m \u001b[43mforward_call\u001b[49m\u001b[43m(\u001b[49m\u001b[38;5;241;43m*\u001b[39;49m\u001b[43margs\u001b[49m\u001b[43m,\u001b[49m\u001b[43m \u001b[49m\u001b[38;5;241;43m*\u001b[39;49m\u001b[38;5;241;43m*\u001b[39;49m\u001b[43mkwargs\u001b[49m\u001b[43m)\u001b[49m\n\u001b[1;32m   1564\u001b[0m \u001b[38;5;28;01mtry\u001b[39;00m:\n\u001b[1;32m   1565\u001b[0m     result \u001b[38;5;241m=\u001b[39m \u001b[38;5;28;01mNone\u001b[39;00m\n",
      "File \u001b[0;32m~/anaconda3/envs/phd/lib/python3.11/site-packages/torch/nn/modules/linear.py:117\u001b[0m, in \u001b[0;36mLinear.forward\u001b[0;34m(self, input)\u001b[0m\n\u001b[1;32m    116\u001b[0m \u001b[38;5;28;01mdef\u001b[39;00m \u001b[38;5;21mforward\u001b[39m(\u001b[38;5;28mself\u001b[39m, \u001b[38;5;28minput\u001b[39m: Tensor) \u001b[38;5;241m-\u001b[39m\u001b[38;5;241m>\u001b[39m Tensor:\n\u001b[0;32m--> 117\u001b[0m     \u001b[38;5;28;01mreturn\u001b[39;00m \u001b[43mF\u001b[49m\u001b[38;5;241;43m.\u001b[39;49m\u001b[43mlinear\u001b[49m\u001b[43m(\u001b[49m\u001b[38;5;28;43minput\u001b[39;49m\u001b[43m,\u001b[49m\u001b[43m \u001b[49m\u001b[38;5;28;43mself\u001b[39;49m\u001b[38;5;241;43m.\u001b[39;49m\u001b[43mweight\u001b[49m\u001b[43m,\u001b[49m\u001b[43m \u001b[49m\u001b[38;5;28;43mself\u001b[39;49m\u001b[38;5;241;43m.\u001b[39;49m\u001b[43mbias\u001b[49m\u001b[43m)\u001b[49m\n",
      "\u001b[0;31mKeyboardInterrupt\u001b[0m: "
     ]
    }
   ],
   "source": [
    "# For each id in idxs, get the corresponding text from ds_book_corpus\n",
    "for idx in tqdm(idxs):\n",
    "    line = ds_book_corpus['train'][idx]['text']\n",
    "    tokens = tokenizer.tokenize(line)\n",
    "    # get a token at random and replace it with a mask token\n",
    "    mask_idx = np.random.randint(len(tokens))\n",
    "    original_token = tokens[mask_idx]\n",
    "    tokens[mask_idx] = tokenizer.mask_token\n",
    "    sentence = \" \".join(tokens)\n",
    "\n",
    "    tokens_input = tokenizer(sentence, return_tensors='pt', truncation=True)\n",
    "\n",
    "    \n",
    "    model.eval()\n",
    "    with torch.no_grad():\n",
    "        outputs = model(tokens_input['input_ids'], return_dict=True)\n",
    "        logits = outputs.logits\n",
    "        predicted_index = torch.argmax(logits[0, mask_idx]).item()\n",
    "        predicted_token = tokenizer.convert_ids_to_tokens([predicted_index])[0]\n",
    "        print(f\"Original token: {original_token}, Predicted token: {predicted_token}\")\n",
    "        print(f\"Original sentence: {line}\")\n",
    "        print(f\"Masked sentence: {sentence}\")\n",
    "        print(f\"Predicted sentence: {sentence.replace(tokenizer.mask_token, predicted_token)}\")\n",
    "        print(\"\\n\")\n",
    "\n"
   ]
  },
  {
   "cell_type": "code",
   "execution_count": 122,
   "metadata": {},
   "outputs": [
    {
     "name": "stderr",
     "output_type": "stream",
     "text": [
      "/var/folders/b4/lwfgccm95kqd2skcwvrt2fr00000gn/T/ipykernel_70482/1893091895.py:15: FutureWarning:\n",
      "\n",
      "The behavior of DataFrame concatenation with empty or all-NA entries is deprecated. In a future version, this will no longer exclude empty or all-NA columns when determining the result dtypes. To retain the old behavior, exclude the relevant entries before the concat operation.\n",
      "\n"
     ]
    }
   ],
   "source": [
    "import pandas as pd\n",
    "columns = ['perplexity', 'zlib_entropy', 'gpt2_perplexity', 'line', 'idx']\n",
    "df_plots = pd.DataFrame(columns=columns)\n",
    "\n",
    "with open(output_file, 'r') as f:\n",
    "    # read line by line\n",
    "    for line in f:\n",
    "        # parse the line\n",
    "        data = json.loads(line)\n",
    "        # create a dictionary\n",
    "        data_dict = {col: data[col] for col in columns}\n",
    "        # create a dataframe\n",
    "        df = pd.DataFrame(data_dict, index=[0])\n",
    "        # append to the main dataframe\n",
    "        df_plots = pd.concat([df_plots, df], ignore_index=True)\n",
    "\n",
    "\n"
   ]
  },
  {
   "cell_type": "code",
   "execution_count": 123,
   "metadata": {},
   "outputs": [
    {
     "data": {
      "text/html": [
       "<div>\n",
       "<style scoped>\n",
       "    .dataframe tbody tr th:only-of-type {\n",
       "        vertical-align: middle;\n",
       "    }\n",
       "\n",
       "    .dataframe tbody tr th {\n",
       "        vertical-align: top;\n",
       "    }\n",
       "\n",
       "    .dataframe thead th {\n",
       "        text-align: right;\n",
       "    }\n",
       "</style>\n",
       "<table border=\"1\" class=\"dataframe\">\n",
       "  <thead>\n",
       "    <tr style=\"text-align: right;\">\n",
       "      <th></th>\n",
       "      <th>perplexity</th>\n",
       "      <th>zlib_entropy</th>\n",
       "      <th>gpt2_perplexity</th>\n",
       "      <th>line</th>\n",
       "      <th>idx</th>\n",
       "    </tr>\n",
       "  </thead>\n",
       "  <tbody>\n",
       "    <tr>\n",
       "      <th>0</th>\n",
       "      <td>4.322009</td>\n",
       "      <td>139</td>\n",
       "      <td>66.710045</td>\n",
       "      <td>` ` you are threatening life , especially to d...</td>\n",
       "      <td>48848192</td>\n",
       "    </tr>\n",
       "    <tr>\n",
       "      <th>1</th>\n",
       "      <td>3.961453</td>\n",
       "      <td>131</td>\n",
       "      <td>174.877014</td>\n",
       "      <td>` ` you are threatening her . ' ` snipers whic...</td>\n",
       "      <td>48848192</td>\n",
       "    </tr>\n",
       "    <tr>\n",
       "      <th>2</th>\n",
       "      <td>4.382756</td>\n",
       "      <td>132</td>\n",
       "      <td>167.183807</td>\n",
       "      <td>you can click on the stash to make it her favo...</td>\n",
       "      <td>13015892</td>\n",
       "    </tr>\n",
       "    <tr>\n",
       "      <th>3</th>\n",
       "      <td>4.287555</td>\n",
       "      <td>142</td>\n",
       "      <td>118.102234</td>\n",
       "      <td>you can click on the videos or the audio , or ...</td>\n",
       "      <td>13015892</td>\n",
       "    </tr>\n",
       "    <tr>\n",
       "      <th>4</th>\n",
       "      <td>11.184225</td>\n",
       "      <td>139</td>\n",
       "      <td>129.840439</td>\n",
       "      <td>it was beyond all the perukers to understand t...</td>\n",
       "      <td>53532639</td>\n",
       "    </tr>\n",
       "    <tr>\n",
       "      <th>...</th>\n",
       "      <td>...</td>\n",
       "      <td>...</td>\n",
       "      <td>...</td>\n",
       "      <td>...</td>\n",
       "      <td>...</td>\n",
       "    </tr>\n",
       "    <tr>\n",
       "      <th>1995</th>\n",
       "      <td>4.185416</td>\n",
       "      <td>112</td>\n",
       "      <td>19.498312</td>\n",
       "      <td>so for once , i was all kinds of happy with th...</td>\n",
       "      <td>63445738</td>\n",
       "    </tr>\n",
       "    <tr>\n",
       "      <th>1996</th>\n",
       "      <td>3.370690</td>\n",
       "      <td>141</td>\n",
       "      <td>221.380371</td>\n",
       "      <td>through the door , i heard another one of my f...</td>\n",
       "      <td>27028465</td>\n",
       "    </tr>\n",
       "    <tr>\n",
       "      <th>1997</th>\n",
       "      <td>2.418173</td>\n",
       "      <td>133</td>\n",
       "      <td>50.049370</td>\n",
       "      <td>through the door , i slowly turned around , an...</td>\n",
       "      <td>27028465</td>\n",
       "    </tr>\n",
       "    <tr>\n",
       "      <th>1998</th>\n",
       "      <td>9.500776</td>\n",
       "      <td>145</td>\n",
       "      <td>207.949646</td>\n",
       "      <td>he smiled and stared at the other boys , wonde...</td>\n",
       "      <td>68518599</td>\n",
       "    </tr>\n",
       "    <tr>\n",
       "      <th>1999</th>\n",
       "      <td>5.510560</td>\n",
       "      <td>142</td>\n",
       "      <td>179.219528</td>\n",
       "      <td>he smiled and stared at the swank which awaite...</td>\n",
       "      <td>68518599</td>\n",
       "    </tr>\n",
       "  </tbody>\n",
       "</table>\n",
       "<p>2000 rows × 5 columns</p>\n",
       "</div>"
      ],
      "text/plain": [
       "      perplexity zlib_entropy  gpt2_perplexity  \\\n",
       "0       4.322009          139        66.710045   \n",
       "1       3.961453          131       174.877014   \n",
       "2       4.382756          132       167.183807   \n",
       "3       4.287555          142       118.102234   \n",
       "4      11.184225          139       129.840439   \n",
       "...          ...          ...              ...   \n",
       "1995    4.185416          112        19.498312   \n",
       "1996    3.370690          141       221.380371   \n",
       "1997    2.418173          133        50.049370   \n",
       "1998    9.500776          145       207.949646   \n",
       "1999    5.510560          142       179.219528   \n",
       "\n",
       "                                                   line       idx  \n",
       "0     ` ` you are threatening life , especially to d...  48848192  \n",
       "1     ` ` you are threatening her . ' ` snipers whic...  48848192  \n",
       "2     you can click on the stash to make it her favo...  13015892  \n",
       "3     you can click on the videos or the audio , or ...  13015892  \n",
       "4     it was beyond all the perukers to understand t...  53532639  \n",
       "...                                                 ...       ...  \n",
       "1995  so for once , i was all kinds of happy with th...  63445738  \n",
       "1996  through the door , i heard another one of my f...  27028465  \n",
       "1997  through the door , i slowly turned around , an...  27028465  \n",
       "1998  he smiled and stared at the other boys , wonde...  68518599  \n",
       "1999  he smiled and stared at the swank which awaite...  68518599  \n",
       "\n",
       "[2000 rows x 5 columns]"
      ]
     },
     "execution_count": 123,
     "metadata": {},
     "output_type": "execute_result"
    }
   ],
   "source": [
    "df_plots"
   ]
  },
  {
   "cell_type": "code",
   "execution_count": 146,
   "metadata": {},
   "outputs": [],
   "source": [
    "df_plots['id'] = df_plots.index\n",
    "df_plots['selected'] = False\n",
    "# df_plots['selected'] = (df_plots['perplexity'] < 15) & (df_plots['gpt2_perplexity'] > 35)\n",
    "\n",
    "def calculate_3gram_accuracy(reference_text, predicted_text):\n",
    "    def generate_ngrams(text, n):\n",
    "        words = text.split()\n",
    "        return [tuple(words[i:i+n]) for i in range(len(words)-n+1)]\n",
    "    \n",
    "    reference_3grams = generate_ngrams(reference_text, 3)\n",
    "    predicted_3grams = generate_ngrams(predicted_text, 3)\n",
    "    \n",
    "    matching_3grams = set(reference_3grams) & set(predicted_3grams)\n",
    "    accuracy = len(matching_3grams) / len(reference_3grams) if reference_3grams else 0\n",
    "    \n",
    "    return accuracy\n",
    "\n",
    "df_plots['3gram_accuracy'] = df_plots.apply(lambda row: calculate_3gram_accuracy(row['line'], ds_book_corpus['train'][row['idx']][\"text\"]), axis=1)\n",
    "\n"
   ]
  },
  {
   "cell_type": "code",
   "execution_count": 147,
   "metadata": {},
   "outputs": [
    {
     "data": {
      "application/vnd.plotly.v1+json": {
       "config": {
        "plotlyServerURL": "https://plot.ly"
       },
       "data": [
        {
         "customdata": [
          [
           "` ` you are threatening life , especially to death . to any small person , anyone , or anything . ' ` well , more to the point , i have been watching you as long as you keep this information from me .\n",
           0,
           139
          ],
          [
           "` ` you are threatening her . ' ` snipers which are snipers fire on her before they follow their orders . if she re - fires , then the snipers resign . ` ` anything she says is legally void .\n",
           1,
           131
          ],
          [
           "you can click on the stash to make it her favorite of one of the known e - book titles or watch her download it from the other side of the digital bauble . written by helen blyton clarke .\n",
           2,
           132
          ],
          [
           "you can click on the videos or the audio , or can cut your own music for if you need any . the satyricon has scored over a dozen chart hits , appearing most often on western television spots and in movies .\n",
           3,
           142
          ],
          [
           "it was beyond all the perukers to understand their people , and they were totally taken then : not in their own matter of time or civilization , but at the life on top of and at the peace in the middle of .\n",
           4,
           139
          ],
          [
           "it was beyond all the good practices and the stupid ways of being completely open with her own situation and putting the best pieces on the same page with her experiences and strategies , that she knew she had to write something just right .\n",
           5,
           160
          ],
          [
           "he chuckled as he folded into the locker room . date : tuesday may 21 monday to friday , may 17 amateur division sun yat - sen amateur date : may 27 tiebreaker bracket the 1966 asian games had two qualification rounds .\n",
           6,
           157
          ],
          [
           "he chuckled as he folded off his combat pants . he hoped the female would be lifted off the ground , not escaped pestilence . the human female had turned into a princess who was different from anyone he had ever met .\n",
           7,
           148
          ],
          [
           "it ' s the middle year , and overall it ' ll be a couple of decades , which is probably equivalent to the fourth quarter of five - hundred - plus years in the past , before he even makes it back home .\n",
           8,
           146
          ],
          [
           "it ' s the middle . the game features a story mode with a few levels and a few boss battles . in the story mode , there is a musical - like event , which will make charlie feel like a neutron star .\n",
           9,
           136
          ],
          [
           "` ` i . . . . . . . . . . . . . . . . . . . . . . . . . . . . . . . . . ` ` i . . . . . .\n",
           10,
           21
          ],
          [
           "` ` i . . . the saying is simple . it is the image . . . it is the word . . it is the human icon . piety , compassion , courage , assistance to god and saints . . .\n",
           11,
           110
          ],
          [
           "there was a multiverse effect here . what was this ... ... ? ... ... ... ... ... ... ... ... stepping out onto the landside to watch the scene , he examined the designer - corsair painting more closely .\n",
           12,
           134
          ],
          [
           "there was a multiverse - - not as with now , neither in europe , nor in this place - - to all of this that made the ninety year - old man a little lighter than in the last forty - eight .\n",
           13,
           127
          ],
          [
           "gran stuck her head out and we nodded and we went inside . then gran and brian walked us around the car with our hands in the air . we were perfect for them - and mine was perfect . we were so happy .\n",
           14,
           132
          ],
          [
           "gran stuck her head out and made a face . she opened her mouth again ; then she looked at me , eyes hot , nipping a smile of pleasure . she held her arms out : a sarong and a purse .\n",
           15,
           131
          ],
          [
           "she stared up , tears from days before ... the own ones from earlier hurting so much now . and the entire world was raw and wicked looking again , the way the other booze had been flowing in and out of it .\n",
           16,
           143
          ],
          [
           "she stared up , tears , \" i \" appear of comfort , wonder , disappointment , the despair , that she had not yet been found , then withdrew left her from the tethered retreat and fall and cried hoarsely .\n",
           17,
           138
          ],
          [
           "come see me in two different cities one night . what about a part of the event ? how shit ( fuck ) is good if i make a flight ticket afterward ? pointy to pinky ... ! pointy lines ! !\n",
           18,
           138
          ],
          [
           "come see me in two weeks to celebrate my birthday ! \" carol had completed an outline later that month . \" your ever - present name is doctor merriam revere , \" she said , as she pulled out her journal .\n",
           19,
           144
          ],
          [
           "never going back , i told myself on the day soon after sam died . and that was it , plain and simple . it was my senior year and final year . and this was my new life , and i wanted it .\n",
           20,
           126
          ],
          [
           "never going back , i thought . no floors , no rugs , no ladybugs , no black walls , nothing of any kind or some kind of ideas or means available elsewhere in the human race ( and me ) .\n",
           21,
           131
          ],
          [
           "hes taking his time on the phone ( usually for talk and analysis ) and talks with lynn pretty frequently ( he always calls her amber , or maybe because she was a hot , lusty girl with bitchy boyfriend ) .\n",
           22,
           148
          ],
          [
           "hes taking his time sitting on the edge of his desk furtively listening , apparently the whole class could see and hear him and it was strange that he had probably waited so long to hear about their cliques up there .\n",
           23,
           150
          ],
          [
           "their success was merely a local advertising campaign . four three and seven , a wine company ( carnaval ) with headquarters in london . four three , a a & w store in east worthing ( chryston ) .\n",
           24,
           138
          ],
          [
           "their success was merely a coincidence : as the albanian pretenders captured many villages , while the four - decade war began , the war opportunities of the allies were then little more than a fraction of the weakened and threatened macedon .\n",
           25,
           163
          ],
          [
           "at least not in words : \" president of the council . \" chapter nine - the psychic link the psychic link i searched . in a room two hours after midnight james was in my room , sleeping , napping beside me .\n",
           26,
           138
          ],
          [
           "at least not in words . ' ' but after that ? wait . wait . not happening . ' it had been easy on the work she did in art , but buying flowers for the first time , had actually enjoyed herself .\n",
           27,
           138
          ],
          [
           "we got to be smart , starring gary rambo and julie andrews . dream mission : the lost world ( first introduced in the pilot ) . the pilot ( 2004 ) . a task at hand , written jointly with mike best .\n",
           28,
           146
          ],
          [
           "we got to be smart pups , because we were smart , and we all were . this entire world , including the company we built , was such a dangerous way to be . the kidnappers were just tipsy kids .\n",
           29,
           133
          ],
          [
           "was this what it was like , with the things that flew at them ? she thought of how people surrounded them , ran at them , and chased them , and the look they threw at them , and how they used them .\n",
           30,
           126
          ],
          [
           "was this what it was ? then again , was it tickle . chapter 16 i i i w o e e r n a e i o ... so e o s i r w e i e e i n o ?\n",
           31,
           94
          ],
          [
           "` ` you do nd keep your cool ! ' said thall , barely audible . ` right ... ' the tshrik - men followed tshrik - men farther in , and the gunslinger brought home his gun .\n",
           32,
           124
          ],
          [
           "` ` you do n . ` ` there are no more operations . just there are addition , multiplication and division . the number a ( h ) in this non - hypnotistic language is then \" a \" instead .\n",
           33,
           133
          ],
          [
           "why would you lie to covetous , when no family members - now husbands - are asked of the birth of our fifth or seventh son or daughter ? \" it struck her that making the right statement was the right answer .\n",
           34,
           146
          ],
          [
           "why would you lie to your own mother to tell a boy ? ( a film star parodying himself ) lego hercules ( \" what are you doing \" ) ( 1967 ) they wore pajamas , and there were no swimming pools .\n",
           35,
           145
          ],
          [
           "she squealed . \" lucky girl . cara walcott went skating with her boyfriend , jonathan , when the show was over , \" my twin sister announced . \" and why in the world would a girl go skating ? \"\n",
           36,
           139
          ],
          [
           "she squealed . rocket to heaven ! ( 1952 ) forty - four - second hillbillies short featured a scene ( \" hat trick \" ) in which she sang the title song , \" can you relate ? \" .\n",
           37,
           138
          ],
          [
           "` ` i ' ll be volunteering with the whole damned community center , ` salaskaye said . ` if you want to sit , so kneel down in the sand , with god bless you , young man .\n",
           38,
           128
          ],
          [
           "` ` i ' ll find out , ' said fenner . the date on the page has gone from 759 to 761 . ` ` there are two paintings of the fenner family , both carved in carved circles .\n",
           39,
           128
          ],
          [
           "` ` just one shoelace . ' ` the book . ' ` the book . ` bobrut patted his pocket . the two - minute drive was long enough that bobrut could locate the most important part of the book .\n",
           40,
           126
          ],
          [
           "` ` just one shoe , put on by the ladies , and take some hot chocolate , if necessary . \" well , you two must have looked like an idiot , \" jack knew from the look of both of ' em .\n",
           41,
           136
          ],
          [
           "hell , yeah , they were good at satisfying these quotas of forbidden fruit , nuts , cherries , pears , chestnuts , other mixtures of nuts - nuts , meth - meats and everything you wanted .\n",
           42,
           130
          ],
          [
           "hell , yeah , they had all missed out on a stupid news - focused reality show , broadcasting shit that went viral five months ago . yeah , and five months ago , it was just some stuff over in the grocery store .\n",
           43,
           144
          ],
          [
           "` ` do n ' cha smell right ? how could a previously mauled baby creeping through the bush have survived a biological attack ? ` ` wonder briefly if he could break a mosquito net , but would he dare attack it ?\n",
           44,
           153
          ],
          [
           "` ` do n ' do ' . ` get out of here before i come back to planet zinn - ` ` yes , please . ' unimagined smells came from beneath him . mints and spices everywhere .\n",
           45,
           127
          ],
          [
           "he craved a taste of her blood , but he had no control . john met her at the top of the stairs . she leaned forward , as if really hoping for a more rational answer . john swallowed hard and only nodded .\n",
           46,
           141
          ],
          [
           "he craved a taste of her as his tongue traced her neck . he had no trust in a warrior who needed only her passion to destroy his veins and burn his heart . it took him by surprise not to use his hands .\n",
           47,
           137
          ],
          [
           "you do n ' tooooo . \" he declined to go solo on the band ' s ha ha usa tour , and stated : \" i do not even look like an athlete to anyone looking at my leg \" .\n",
           48,
           118
          ],
          [
           "you do n ' t move the lf , do you ? right there are the districts described below : oxley k . duffield : mayor = 1 oxley d benson : district clerk = 1 sr . kem .\n",
           49,
           122
          ],
          [
           "she whispered his name . i can speak for us , she said with her thinly - disguised child . yes , sturgis was a wonderful child , but even as a father , he fought , with his small hand .\n",
           50,
           132
          ],
          [
           "she whispered his name . just holding his head , but never really touching his neck . not really even remembering the last time she and michael had spoken . okay , maybe not now . if only this day could be completely different .\n",
           51,
           155
          ],
          [
           "i yelp , but i am petrified by what i shall tell about what hit me . same name and address , more words . we reside in an apartment designed by architect david sanderson and built by architect ian moss .\n",
           52,
           136
          ],
          [
           "i yelp , but then realize they are both lying there , eyes half blank , half - downcast , and inky - black hair . how could they have completely lost their ' magic ' and will never even wake ?\n",
           53,
           141
          ],
          [
           "` ` i think so myself , ' said suzie , firmly . ` enter , jacques pierre . this hallway is off of us , and at the far end are [ two ] enormous wide doors that open there and there .\n",
           54,
           134
          ],
          [
           "` ` i think so , sure . ' ` what about my boyfriend , the chap john alpini from the volk institute ? ' ` what did he say ? ' ` well , you got in trouble anyway .\n",
           55,
           123
          ],
          [
           "she was ready . c : okay , i am even out there yet ! m - : so what ? m - : just , i ... what ? m - : the woman was on the ground ? on low ground ?\n",
           56,
           106
          ],
          [
           "she was ready . twisting and falling . lift her up , he sent . she rose , four feet , four things to focus on now . four pale - white lights that sparkled against the gorgeous pink swell of her breast .\n",
           57,
           140
          ],
          [
           "* chapter 35 prytani saw boomer , drake , modok , others that she had feared and a few other creatures that they had spoken to . she saw the incident drake had just described to her . what was happening ?\n",
           58,
           144
          ],
          [
           "* chapter 35 prytani went home , despite the fact that most were still in the house , still scared of a break - in . before she went to bed , someone knocked on the door , then came down the stairs .\n",
           59,
           137
          ],
          [
           "then he dug in his gear , advanced on hunter and called even louder to hunter , \" boss ca , boss ? \" \" boss tru , boss , boss ga , boss paaaaooo ! \" hunter suddenly bolted .\n",
           60,
           115
          ],
          [
           "then he dug in his heels even though he almost said , \" enough by now . \" and , defeating the new york times article had sounded so familiar , so warm and welcoming and welcoming , he had plenty of alternative solutions .\n",
           61,
           149
          ],
          [
           "no , in fact , he was not sure . maybe the woman in the car had just been his girlfriend . maybe , maybe , maybe never , maybe never . no , he had not realized it . it was certainly possible .\n",
           62,
           125
          ],
          [
           "no , in fact , she knew the location , the secret hiding place the matarese had assembled , the planned locations for leading them wherever they were going . just as with the beach house and bax on the outside .\n",
           63,
           142
          ],
          [
           "she pulled out sutton ' s id note , just ones from sutton and laurel . years ago , laurel had been fourteen years old and went to live with her parents in charlottesville . on the letters was words including her name .\n",
           64,
           148
          ],
          [
           "she pulled out sutton ' s little book that had the recently - read - out greek phrase in simple greek letters that she designed herself , or a tiny tiny spanish translation in the corner , and kept making circles under her eyes .\n",
           65,
           155
          ],
          [
           "the water came from somewhere . not their history , not their first names , not their old towns , old people having to define their local location , never knowing as long as all of their houses looked so cool , so nice .\n",
           66,
           141
          ],
          [
           "the water came from somewhere , wherever i was . hot water , muddy or musty , or a wet mist , poured out and flow breezily . but the hot water had a different connection to the lord of the rings .\n",
           67,
           137
          ],
          [
           "the red gown she was wearing was a big girl with navel and her tits . not much mom and dad thought was impressive . i wished they ' d let her out of here , and then i remembered where she looked ;\n",
           68,
           137
          ],
          [
           "the red gown she was wearing tonight would fit her curves and add to her appeal . ' they are not pleasant , they keep coming . ' yes , it was part of the butchery , the unending fatigue of sleep .\n",
           69,
           137
          ],
          [
           "but damn it to hell , each night was strange , and each morning was strange . in the early morning , in his bedroom , in the corner of the hall , there , there , there , like this everything was strange .\n",
           70,
           121
          ],
          [
           "but damn it to hellabout . but what did this ' nasty ' tone mean ? neither way is for a man to date highly attractive , extremely attractive sophisticated women . maybe he served as editor of the bulger report .\n",
           71,
           148
          ],
          [
           "raising her knee , she applied some mayonnaise and water to the flesh . again , she washed it down - they are here in rome for the first time ! hegit also talked about egypt and ruins and pyramids .\n",
           72,
           138
          ],
          [
           "raising her knee , she drew the carriage up and backward , expecting the arrival of colonel bartley , and later that night the horses walked back to the stable in millfield . chapter twenty - nine mrs . nuttall .\n",
           73,
           146
          ],
          [
           "she glanced down at her empty plate , feeling silly looking at a russian - style cut . \" this one . \" the plan had somehow worked out for everyone , for whatever reason , even the people who did not have them .\n",
           74,
           145
          ],
          [
           "she glanced down at her hands and he ignored it . \" this is one of these woods in such places as rome . \" all kinds of pewter lanterns began to clamor overhead as hugh pressed her against the wall .\n",
           75,
           138
          ],
          [
           "that is why we are made of my love , performed by e - 40 along with \" bebop \" ( which was cut from the album to its two abba versions ) that is more powerful ( from himself ) ;\n",
           76,
           138
          ],
          [
           "that is why we are creating this website . ( produced by gilbert ) by d . w . gilbert and lewis v . adams the internet uses w & w software , especially a browser version for children based on mordechai .\n",
           77,
           147
          ],
          [
           "paul ' s brow rises in a slight frown when she says , \" you do . \" well , hell . i do , too , and for once that ' s what brings the distraction with the storm and the wine cellar .\n",
           78,
           129
          ],
          [
           "paul ' s brow rises to ask \" and dan ... is ... \" as did nick and paul ( \" the other \" ) . the episode was written by alex lloyd , son of the actress and creator of the first series .\n",
           79,
           130
          ],
          [
           "seeing the eyes on me , kresley pounds from the bag up and down . later , i remember a haible about the faction war ( her favorite ) . staring into her mysterious green eyes , i feel the connection .\n",
           80,
           140
          ],
          [
           "seeing the eyes on me , and the light coming from behind the waves , i watched as the gradual progression from darkness to light was seen . it was shown only a man , at first , before opening up again and again .\n",
           81,
           141
          ],
          [
           "there is no one else around me at this moment , no sense of danger or cold hands . the clock is ticking . no one is listening . and my head is fuzzy . his scent is too fresh , toomy old .\n",
           82,
           129
          ],
          [
           "there is no one else who allows you to return , only that you not return . i remembered the black pearl in my pocket , the needle needle embedded in your skin , and how the black pearl gave its life to you .\n",
           83,
           136
          ],
          [
           "this is a good way to speak to a person . do you remember this place so vividly ? \" \" on at least four occasions , we were hanging out on the patio to see if makahi killed sinead .\n",
           84,
           134
          ],
          [
           "this is a good way to break with great love , \" they said again . true love , incredible love . to her right , the glyph started with number one . and to her left , the letter number two .\n",
           85,
           127
          ],
          [
           "what would that be like , anyway ? black alone is the black realm . all the that connects to black is white , and the shadows which are blind and which lose control at the edges of the realm are in black alone .\n",
           86,
           132
          ],
          [
           "what would that be like if one guy just told me who i was and the other guy was all over the base ( air force , army , navy ) ? which is around for what scenario then ? i never believed it .\n",
           87,
           138
          ],
          [
           "* * * outside , the night is out though it is longer than i remembered . when you look in a mirror at something that should be sexier and nicer looking , you must find something that is not the same ;\n",
           88,
           137
          ],
          [
           "* * * outside , not frightened by waiting , annie opens the door . still shaky , she does not dare resist , but denys herself . sweat beads on her forehead . \" stay near my son , \" she says .\n",
           89,
           135
          ],
          [
           "with that , langdon slipped away . but he did not remove his white mask . instead , he stopped , eluding langdon again . langdon mutilated , panting , moistening his lips as he rose to his full height .\n",
           90,
           137
          ],
          [
           "with that , langdon slipped in the piece : case of la serena which was famous for telling all the french salon hostesses known as vanity fair while they were working at la serena . the same thing inviting sophie to read it .\n",
           91,
           152
          ],
          [
           "she leaned closer to the fierce golden depths that once were the beautiful poolside man she married , and said her every reassuring thing . finally , she had brought the spotlight to this heartcurdling , exhaustive wedding party .\n",
           92,
           155
          ],
          [
           "she leaned closer to the deep tan entrance . \" this place is a home to me . i ' m sometimes not able to leave yet - but , now , i just ... \" his smile positively gladdened her bare bones .\n",
           93,
           136
          ],
          [
           "' yes , ' billy mcgee is saying , getting much too happy with all the results of that vision . like all the other big ones , the result is sure and just slightly bogus . billy mcgee is very much alive .\n",
           94,
           136
          ],
          [
           "' yes , ' billy said . ' oh , yes , having been cev a while ago . thanks for coming . ' billy said . ' well , well done . sergeant mattingly came in . how ' s he ?\n",
           95,
           118
          ],
          [
           "` ` you might have even won it for this . ' ` ` you keep it there now . get it out as soon as possible . ' ` ` ` i jumped , slipping out of my windbreaker and shirt again .\n",
           96,
           128
          ],
          [
           "` ` you might have not heard , smith . ' the anointings with ninetus , elpidus , and jesus christ all kept their divine names , and their eternal graces , in the great hall of heaven .\n",
           97,
           131
          ],
          [
           "totally done all the time , but it was filled with emotion . everything cloying atonned out in something that he really liked about himself . aleister had stayed away from aleister - ingrenens for something .\n",
           98,
           140
          ],
          [
           "totally done all the time , they have a florentine manner , a venetian style . the scene in the violet light consists of three figures that appear as a very stereotypical couple . what is it intrigues valentino ?\n",
           99,
           144
          ],
          [
           "as he would be mostly awake at night he would be up late in mornings , and at times when he would witness moments of panic during the morning one of his pictures was one of the then african - american president woodrow wilson .\n",
           100,
           144
          ],
          [
           "as he would be mostly , it made no difference . ' that your issue , now that i know my lady . welcome to common order by good order tonight . ' nothing went on , the eyewitnesses could tell .\n",
           101,
           137
          ],
          [
           "it just was obvious he was a douche all along . if so , it will keep me from revealing any more true secrets . i wish i had my pictures . believe me , tom , i have only two of them .\n",
           102,
           131
          ],
          [
           "it just was obvious he was upset about ... something . it has to spread into the press now . ' katherine ' s calmer voice come through the phone . ' i met ethan altus at school the afternoon we met .\n",
           103,
           137
          ],
          [
           "he signed up for afghanistan first . then he folded his arms palm up . \" he was always , ' certain it was coming ' . he was always watching for me . \" my breath came harder and i breathed out slowly .\n",
           104,
           137
          ],
          [
           "he signed up for afghanistan with the u . s . third army in 1991 and returned for two tours of duty . the dugongs ( 2011 ) : the seventh island finds a treasure found on \" the seventh island \" .\n",
           105,
           138
          ],
          [
           "alex took his eyes off the highway . \" i know where we are now . \" \" the cabin . \" yeah , this was a hard - to - find crazy story . or had he been in control ? since birth ?\n",
           106,
           128
          ],
          [
           "alex took his eyes off his name and turned , looking into the candlelight . all he saw were the loveseats and pillows that helen had laid for him on the table , and he saw no one else in sight .\n",
           107,
           131
          ],
          [
           "like hounding ambrose . someone from salem , and someone from chicago . but no , not mr . necro , either . the kid was clear where the meth trade was headed . and cuyo had probably been right .\n",
           108,
           133
          ],
          [
           "like hounding ambrose . a cross - examination of his soaked clothes conceals mr . brown ' s wry face . ' shut up , ' snaps the mayor . ' you go out and get some kind of coat up here .\n",
           109,
           133
          ],
          [
           "rafael tore himself from my gaze and paid the driver and forcibly drove back into the hotel before he turned to me , sipping ponderous coffee and salivating for the dwerks performing their hit , \" sweet point five \" .\n",
           110,
           149
          ],
          [
           "rafael tore himself from my thoughts , and i screamed , too . then everything was over . i watched and saw - also watched - the demon bend forward and whip with his cheek bones , then his pointy ears , again .\n",
           111,
           144
          ],
          [
           "he swallowed a laugh . this was where he and olivia had grown . oh , god , olivia ! he was so beautiful , and so in that black cocoon of truth . they had grown so much stronger now than ever .\n",
           112,
           134
          ],
          [
           "he swallowed a laugh . not this time . not this other time . about the goons and about her birthday and about the college art competition ... and about her night . about that night , doing exactly what she was doing .\n",
           113,
           127
          ],
          [
           "` ` oh , it is but at times buses and trains go further down the lane so people pass , so they go the right way . so people go along the main lane . suddenly there are green and leafless trees .\n",
           114,
           133
          ],
          [
           "` ` oh , it ' s not that , ' ron said back , his voice once again sober . he turned back away from weiler , who was still following him out . see you tomorrow , eat lunch , okay ?\n",
           115,
           136
          ],
          [
           "` ` damn , there . there are enough other jacobites in the ground for general greene to run us down . and they probably want him dead , ' riley concluded empty - handed . ` general greene can do good here .\n",
           116,
           141
          ],
          [
           "` ` damn , there is there ' s more for me than that . not to mention i do it with my ipod . i ' ll pretend to hand - heat it or just play on my piano so anyone can hear .\n",
           117,
           124
          ],
          [
           "` ` well , not bad , eh , ' hedwig pointed out . ` other specificities . so the media and society alike . ' you are a widely published woman : moritzburg has acquired a marketable history .\n",
           118,
           144
          ],
          [
           "` ` well , not yet - ooh , no . ' mahur was huffing slightly as mr smith walked out ... and now mr smith sat in his secluded new bungalow craving a little sun ray and turning a coin .\n",
           119,
           132
          ],
          [
           "the horse stopped abruptly . someone had been talking . \" after learning that you had found him , we wrote a log that his dog - - that he - - \" hunter \" - was a slave , \" lenchen explained .\n",
           120,
           136
          ],
          [
           "the horse stopped abruptly . \" bend your knee , \" the man commanded . \" then bend over . \" the horse fainted . \" and offer me your hand . \" \" no , just a small step is the best .\n",
           121,
           122
          ],
          [
           "it instilled a strong mercenary army in most hired soldiers ( the detail exists except for the simhasana stone ) . the other bank , like two banks , favours old figures , dressed young and dressed with swords .\n",
           122,
           147
          ],
          [
           "it instilled a talent in voice and led her to the pinnacle of her literary career - to become the editor of \" clearwater review \" and , later , \" the center for african american poetry \" where she graduated .\n",
           123,
           141
          ],
          [
           "that was the trick . it was kind of awkward . we were over . and we were over . and and . between for . and and . and . and . . and . and . and . and . . stuff .\n",
           124,
           88
          ],
          [
           "that was the trick . this flower , along with the other flowers and etchings , appeared on the t - bar and then on the t - bar too , with colors swirling around in the leaves and surrounding the flowers .\n",
           125,
           128
          ],
          [
           "she had that sort of dimple when on a date . she looked down at her covered fist with the diamond rings on it and has that freaky pixie grin . she probably could have called him the skank before .\n",
           126,
           138
          ],
          [
           "she had that sort of sort of beautiful face , and her hands were bound before her , not just for nearness , but also for dignity . her horns had grown back and probably a little much - needed - powdered .\n",
           127,
           143
          ],
          [
           "this water felt fully as he asserted himself thanks to his ego and his self - instructed minds , for this knowledge of trades acquired from others had been derived from charles nichols , who had only recently discovered the origin of the plague ;\n",
           128,
           168
          ],
          [
           "this water felt fully as if the waves were a living thing . this island , the one voice , the one that came within reach of her , the very one that laughed and laughed , stirred her peacefully from mind to mind .\n",
           129,
           135
          ],
          [
           "she was married to the london filmer williams ( 20 november 1943 ) and had , he wrote , \" considered the utility of the screen in \" very unusual \" circumstances in which a camera - finger - search produces results \" .\n",
           130,
           163
          ],
          [
           "she was married to the journalist walter and he was father to her . in 1929 she enrolled in civil engineering at the university college of lausanne in the switzerland . she then in 1938 was married to the writer max \" max \" .\n",
           131,
           147
          ],
          [
           "' i sent some of them as well . ' old man george brearley - malcolm mclaren the fictional alter ego of sir malcolm mclaren is used . malcolm mclaren ' s prediction is : malcolm mclaren , too ! so brilliant !\n",
           132,
           130
          ],
          [
           "' i sent some of these to the guatemalan government out of town , and later tonight i could make some hand woven cloths for the saut - y - ginseng neighborhood , ' she said without looking up .\n",
           133,
           138
          ],
          [
           "i know he loves you , i tell ucal , it will be hard for him to realize that . \" that is you , i know it , i know , you carry the task at hand and follow the fundamental rules .\n",
           134,
           123
          ],
          [
           "i know he loves you ! - - - - - chapter 27 a female prosecutor entered the emergency conference room , and brimmed her hat in a salute . the trial was time to be reduced back to its former glory .\n",
           135,
           144
          ],
          [
           "nothing , rupert looked away and wailed something , possibly as though something she had kind of been actual number one . he remembered seeing her ( she got a boyfriend , too , he remembered ) in some wall - street joint .\n",
           136,
           148
          ],
          [
           "nothing , rupert looked away , his best friend had decided to be more like rupert than his second best friend , now rupert had said no and told him no , and now eyes were closing in on rupert as he fell dead .\n",
           137,
           135
          ],
          [
           "he lived in a small mountain position , and had a distinctive , possibly muscular outline ( representing either a woman [ or a boy ] ; , the latter being uttered by a man who was virtually naked , day and night ) .\n",
           138,
           156
          ],
          [
           "he lived in a small woodcut studio in grigory . during a secret performance of 4 july 1914 coote did \" writing \" , a stunt that set a bush on fire to represent independence day during an unfinished rehearsal .\n",
           139,
           153
          ],
          [
           "the bacteria . we live like our mother ( 1963 ) was about the harsh and taboo experiences of women who loved men to pursue their son , wife , girlfriends and friends , without becoming who they wanted to be again .\n",
           140,
           154
          ],
          [
           "the bacteria . setting through software is marketed on the other hand to bp ( uk ) ( which instead used the name \" life and health through \" ) the bacteria . net software is much more identical with the others .\n",
           141,
           137
          ],
          [
           "but though reason told her that it was may , that these bloomed first in spring , these flowers had been constantly appearing over time - starting from the summer in the cascade mountains of idaho , before the warm summers in utah .\n",
           142,
           154
          ],
          [
           "but though reason told her , despite what she was thinking , ' you are a lucky coot ' , her logic told her that it was all coming from him . no , she was playing a game right here , now .\n",
           143,
           132
          ],
          [
           "he suspected cliff wouldnt soon be only couple steps down the landing and would not be one to refuse safe calls . he decided to start with a fancy apple pie recipe , something for dinner , something that said you miss school .\n",
           144,
           151
          ],
          [
           "he suspected cliff wouldnt always strike him as trustworthy . cliff had been so arrogant once around back in his \" days \" - when he said \" that \" - that he never thought twice about the delusions he held .\n",
           145,
           144
          ],
          [
           "he has n ' t let vel through the door anyway . now is not the time to let me through - and i am not certain if he believes that this smektarii controls vampires , if that is so .\n",
           146,
           125
          ],
          [
           "he has n ' t the soul . the thought is now that radhika is better off as she ( 11 . 1 . 1 ) is now taking care of a ' broken city ' filled with people from other worlds .\n",
           147,
           128
          ],
          [
           "` ` it ' s heavy , but it is all seven hundred feet high . ' ` ` all right , ` ` he said , as we walked slowly up and down the stairs for the first time in a long day .\n",
           148,
           123
          ],
          [
           "` ` it ' s been busy comms and it ' s grounding down with nothing to slow the current ebb . ' figures were making their way up from a giant computer running a code that started seven years ago .\n",
           149,
           140
          ],
          [
           "and then the idea came true in 1969 , the morning of the first ever catholic mass , the feast of matthew ( st . paul ) . seeing some books left on desks , st . paul exclaimed : yes , yes !\n",
           150,
           136
          ],
          [
           "and then the idea came back on startling clarity , and he peered over the rim of the tall , dainty golden one , took several breaths - this time better - and vanished into the mists of glistening liquid surrounding him .\n",
           151,
           150
          ],
          [
           "` ` your heart would be tearing my body to pieces , ` murmured shali softly . ` and i would spend most of my last moments ... in my dreams ... with ... him . ` i was very much enjoying this .\n",
           152,
           137
          ],
          [
           "` ` your heart would soon be broken by the evil warlocks like romulus and aylan who would refuse to re - enact their act ! ! ` ` ! i don ' t have any fighting skills ! '\n",
           153,
           127
          ],
          [
           "` ` no , i have in fact raised an army to protect the town . ' ` my lord . ' they went over to the katagaria castle that had been destroyed by the huge , blazing lightning striking the city .\n",
           154,
           137
          ],
          [
           "` ` no , i was invited . ' ` yeah ... you are ? ' alan asked the woman . she peeked at alan and said nothing about the food being stored in the cabinets , but yeah , yeah , alan thought .\n",
           155,
           132
          ],
          [
           "yeah , do you ? ' he mutters ( over the chimes and the cheers of the diners ) in english , ' this shit makes me look ( this crap is ) a whore . what about you ? ' .\n",
           156,
           123
          ],
          [
           "yeah , do you ? single were nominated for best pop duo / group ( album version ) at australasian awards : video ( album version instrumental ) from \" it \" and video ( video ) from \" in love \" .\n",
           157,
           134
          ],
          [
           "he looked down at her hands . damn , damn , it ' s okay . the movement made her cries stop , even though she seemed elated . she grimaced at the sharp pain and weariness of her arms flailing .\n",
           158,
           137
          ],
          [
           "he looked down at her neck , shoulder and her body , and traced it . outside the windows , three different streets spread out beyond them . how beautiful . and i know i live it in this place , not the time .\n",
           159,
           141
          ],
          [
           "morality was best taught early on in religion , with the views of morality as moral and \" social work \" examining society , the person , the land , that of the individual citizen , and other aspects of those in a society .\n",
           160,
           144
          ],
          [
           "morality was best taught early , leaving the priesthood little experience ( dogma , mortification , death , resurrection , religion , god , reading , writing , speech ) and with little in the way of proper behavior up to adulthood .\n",
           161,
           157
          ],
          [
           "` ` and now you just stay with us ? ' ` yes . my first errand with errol has much to discuss , and i put through all the information i had found in the coat , paper , and information .\n",
           162,
           131
          ],
          [
           "` ` and now you will be endlessly chatting to me . ` on the screen he heard the woman saying , ` i have an urgent message ... ` ` so you are the partner of biotech ceo jacques carrera ?\n",
           163,
           136
          ],
          [
           "and so ? he could augment them . omba ? is it he that is the one who has a special affection for our other peoples , the mysterious forces of our tribes , when they come to us ? !\n",
           164,
           130
          ],
          [
           "and so ? \" stephanie nodded . [ pause ] \" i decided . and let me win again there in the museum of fine arts house , with my father and corky , and carol , and jack and melissa .\n",
           165,
           129
          ],
          [
           "he spun around in his chair , looking mildly annoyed . \" before they took kevin . anyway . or , rather , put him in the hospital . before they actually put him there . twice . twice now , \" blake continued .\n",
           166,
           139
          ],
          [
           "he spun around in his general direction . his military truck had taken the final turn , homes scattered along the main street . a grocery store , the farmers market , the hospital - clinic , the town - service station ... everything .\n",
           167,
           157
          ],
          [
           "` ` i saw him there . johannes bruche , my friend . ' bruno lifted his free hand and pointed over the screen . ` herr zildemann ' s here now . he is one of the few survivors .\n",
           168,
           128
          ],
          [
           "` ` i saw him on the twenty - ninth , before he died . ` ` he ran for mayor of stoneham , foxchase , and grand rapids , but neither martinet nor allard won the elections , either .\n",
           169,
           129
          ],
          [
           "sometimes a slap is the name of a drug taken by the priest titian but usually it is in the religious practice that the priest puts his heroin . sometimes he takes drugs in the boys ' schools or ' drug camps ' .\n",
           170,
           135
          ],
          [
           "sometimes a slap is the punishment for an offence when the accused person is accused of an object against which the lighthouse keeper or child soldier acts aggressively - aggressively ( or very often - very aggressively , and sometimes aggressively towards others ) .\n",
           171,
           163
          ],
          [
           "` ` mr . gordon ' ' the characters philo and george gordon are feature stories from books , literature and films . ` halloween ` the animated series currently has a national tour in ontario , ontario , and in the usa .\n",
           172,
           147
          ],
          [
           "` ` mr . gordon gave me some driving lessons , about horses and mares . ` she wore an ivory fur long coat with forward - facing collars , with two younger children : wilford and kathleen , most likely .\n",
           173,
           147
          ],
          [
           "everything ' s fine . just ... get me home ! ( wait till she calls twice ) do you know anything else about your time with dovie ? you need to stop thinking about her . ( pleading ) no . no .\n",
           174,
           138
          ],
          [
           "everything ' s fine . still , he poked , poking and pushing and poking and shoving a little more often than not . bonnie and meredith were great friends , wonderful friends whose love is as real and empty as the lost love .\n",
           175,
           144
          ],
          [
           "` ` maybe so , but i see that having each of the three together improves our prospects at certain points , and more than any other one , ' i replied , and she also triumphantly wagged her lustrous gifts .\n",
           176,
           142
          ],
          [
           "` ` maybe so , boss . did you tell him about james t . sheerin ? ' ballinger said nothing . he had been in the same office , but his shoulders shifted ever so slightly . it hurt not listening .\n",
           177,
           140
          ],
          [
           "she knew not . the room felt like it would collapse . \" did briar follow you ? he could have followed us the same way . or your wife . or someone from wherever . \" but there was silence .\n",
           178,
           132
          ],
          [
           "she knew not . chapter fourteen the bloodied body of delfina the weakling was twitching on a hard rock , like a worm . she sprawled face - down on the nearby stone , against the thick black moss .\n",
           179,
           141
          ],
          [
           "there was an expression of intonation as they both looked backward . she heard her father plead , \" listen , ( look now ) , because your husband does not speak a divine word in order to know your bride is married .\n",
           180,
           152
          ],
          [
           "there was an expression of \" self - absorbed \" personality and \" restlessness . \" he was born fourteen years before the first symphony and his voice was perfectly harmonious in an octave i recognized underneath my skimpy ensemble .\n",
           181,
           161
          ],
          [
           "there ' s a lot of confidence in marga , as she ' s made friends with a former hooky party victim , stuart , and acts as both a friend and antagonist towards stuart , who he has a crush on .\n",
           182,
           132
          ],
          [
           "there ' s a lot of predictive complexity in this model . but , when one considers these properties , the model is salient and consistent . ( 2012 ) with brian c . harris & g . k . utterson .\n",
           183,
           142
          ],
          [
           "even when something else forces themselves on them - half soldiers , half - warriors , and half - soldiers who teach familiar warriors kenjutsu and other deadly arts - not one who appears out of nowhere is aware of the threat .\n",
           184,
           146
          ],
          [
           "even when something else forces her not to sacrifice herself again . \" \" but that last patient of yours ... ? \" \" what ? \" \" he woke up after having a bad dream . kaylee and i drove him home .\n",
           185,
           142
          ],
          [
           "what are you , my dear ? aye , the nightshirt that covered this room - plain as glass . not sky . not earth . not this room . not here now , her parents ' house and the land whole .\n",
           186,
           127
          ],
          [
           "what are you , my friend , my boyfriend , and worse yet , family ? \" while brandon is not far behind , she nods in appreciation of brandon and his proposed marriage proposal . \" you are not the aloof type .\n",
           187,
           139
          ],
          [
           "i need you like i have nothing , ben . not needing you . not lying in bed after doing late - night lecture tours and problems . but if you need me , just stay away . i need you more right now .\n",
           188,
           134
          ],
          [
           "i need you like i really love you , baby . \" source : \" need you , c . j . \" would also be the sequel to the american jangle song \" poison , \" starring the assassin tom hanks .\n",
           189,
           129
          ],
          [
           "julie drew her knees to the floor , then brought her both knees up . wondering happened on monday morning around seven pm and took about thirty minutes . the screen showed that all the time in the house was at least fifteen minutes .\n",
           190,
           154
          ],
          [
           "julie drew her knees to the side , facing tony , roxie , and ethel . tony addresses everyone with audio - visual voiceover , often telling scenes to everyone , such as clips from \" in the games \" with fred .\n",
           191,
           144
          ],
          [
           "` ` i guess my mother used to do that , too . ' ` ` ` no . i mean , she , like me , crossed the river here . you could easily get down that river from where you came from .\n",
           192,
           122
          ],
          [
           "` ` i guess my wife spent all her life in the business with dress pins , braids , saddle - shoes , and decorations . ` ` there were ten \" men \" and fifteen women . ` ` ' cos .\n",
           193,
           126
          ],
          [
           "thank you . the magazine also has the cover gallery of reporter shayne morgan , trying to contain valuable information on united states moles working in washington headquarters , while george washington is on his first front line bombing mission .\n",
           194,
           167
          ],
          [
           "thank you . 2 episode 2 : the family meal : : this meal consisted of a paulsen style roast beef , this time kelly eating the potatoes and vegetable stew that she makes in order for everyone in the restaurant .\n",
           195,
           147
          ],
          [
           "` ` what the hell ? ' ` we needed to kill with everything we possessed in order to keep astaroth secure for him . \" \" paintings . paintings . \" \" paintings ? how many paintings ? \" \" paintings .\n",
           196,
           123
          ],
          [
           "` ` what the hell ? can you count on anyone hurrying in at a really fast pace ? just stopping before you ? ' richard asked him . no , no ! ` ` someone has a very colorful brain , your honor ?\n",
           197,
           145
          ],
          [
           "` ` south america is the perfect place to cross the line , ' stashan said . ` a private historical place , a piece of national significance . ` ` 41 . 1081 . 991 . 41 . 99 .\n",
           198,
           127
          ],
          [
           "` ` south america is a cosmopolitan countries with certain laws requiring women to work . was founded by chivas because of victims of drug abuse . ` the name refers to the initials of renato f . gonzalez and alejandro mendoza .\n",
           199,
           157
          ],
          [
           "why would he be assigned as a hit man ? \" general thwaites asked , but he was suddenly tired . he subtracted water from a tar - stained canteen as he headed east to arizona . motel 3 pointed north .\n",
           200,
           145
          ],
          [
           "why would he be assigned to a project like this again ? the room was clear now , but there was nothing of interest . almost like : something bad had just happened ? david ' s eyes stared at the large spindle .\n",
           201,
           151
          ],
          [
           "all of his work . paul chadwell willey ; noted southern california artist known for monochrome designs joseph p . furness - lillitt ; government official , known as a burglar alarm theft and railroad inspector .\n",
           202,
           155
          ],
          [
           "all of his work . jim and pam asking if he needed money for one hundred and fifty dollars . jim and pam saying about all these apparent satanic works . this work was built on his , it was built on hers .\n",
           203,
           132
          ],
          [
           "i decided then that nobody was looking at me . rather , it was adam who wilted in my arms . \" and just how old are you and why are you just staring up at the ceiling for more ? \" no .\n",
           204,
           131
          ],
          [
           "i decided then that nobody from evernight academy would go running after him or any of the other kids , so that they could hide from anyone catching their attention . chapter nineteen \" how - \" not a question but a promise .\n",
           205,
           154
          ],
          [
           "it ' s not a problem there . her eyes are pink , and she has a beautiful body . everybody in the house seems to really like her , and ellie thinks she is the twins . heather and i are just kids .\n",
           206,
           133
          ],
          [
           "it ' s not a guy thing , though , okay ? \" well ... what , the man things ? i have always admired that too . \" okay . not exactly money for me , just rolling my eyes , so cute .\n",
           207,
           133
          ],
          [
           "logan still has n ' s , but no - one - knew - who - i ' m / phone number ' s here . he looks warm , is funny , warm and logan likes coddling , not helping , eh ?\n",
           208,
           121
          ],
          [
           "logan still has n ' mike o ' brien ( who has grown up like brainiac 5 ) and uses the asteroid time near the hub of moonworld in a scheme by logan to attack humans gurgling the moon world .\n",
           209,
           136
          ],
          [
           "the ghostly image of dal ' s mother vanished as if she were slapped . both mother and mother shared the same image - stark . standing up and just past the back wall , the skin and likeness of the man was unmistakable .\n",
           210,
           146
          ],
          [
           "the ghostly image of daltrey . the boy from the village of la barre . lilt and wanda . colonel dabney ' s three children . tobey ... he was not thinking too seriously over that one slip .\n",
           211,
           134
          ],
          [
           "the fight between man and machine . five films based on five major box office hit films in the great depression , / 1993 . the first attack on al dealey , / 1995 the life of barry levinson , / 1997 .\n",
           212,
           142
          ],
          [
           "the fight between man and god itself becomes something new to him . in contrast with the construction of the choir , ( after the third segment ) christ himself becomes a \" different man \" , altered and discredited in performance .\n",
           213,
           154
          ],
          [
           "i choose a place where the original dream team does the shows . \" the troupe disbanded in 2010 having released shows that featured the original dream team ( now based in fort worth , texas ) member , \" make a living \" .\n",
           214,
           148
          ],
          [
           "i choose a place where the icon of jesus christ is in olympus - seeing as his photography studio has an amazing view of a nearby church - and i can get over it , now in a studio , with a different meaning .\n",
           215,
           146
          ],
          [
           "i shook my head , ' thank you , mum . try it on . you do look almost adorable . ' the only other furniture i had was the door and the banister , which led down into the small spare bedroom .\n",
           216,
           135
          ],
          [
           "i shook my head , saying \" have either of you been the type who adhered to the suit in the first place ? \" \" no problem , k . a . two big muscular men walking around on feet or whatever .\n",
           217,
           140
          ],
          [
           "he stood up looked nina over ( you ' re flying , blah blah blah , look from the cloud to the reddening side of you ! ) . they talked about the most recent weather . links along the timelines .\n",
           218,
           136
          ],
          [
           "he stood up looked nina was looking at him - in every possible way . so beautiful , so disgusted . he said , \" okay . you can go then . \" he spoke softly , and why was the woman so frightened ?\n",
           219,
           141
          ],
          [
           "` ` simon had aids , and he never said , but we know . ' there was a long pause . ` so what about linking the seventies and doing some homework ? would it be okay , anyway ? ' michael nodded .\n",
           220,
           141
          ],
          [
           "` ` simon had aids , right ? ' ` he says . ` she kicked in on the thing and it burned him . ' ` it wounded him , ' he says , because he has returned to his accustomed innocent self .\n",
           221,
           130
          ],
          [
           "everyone wanted to play hitler , yet at one point received scrutiny and suspicion from a good actor with heavy background . while the audience were encouraged to screen and hold auditions for the male leads , the scripts were rarely executed in depth .\n",
           222,
           170
          ],
          [
           "everyone wanted to play hitler on . all @ many factor , too many ! scott trotted and drove to hitler ' s grave on sunday morning . here to celebrate this day - the day of our lives are all @ many !\n",
           223,
           140
          ],
          [
           "* * * * i find jake locked up , but then i know what he is asking me : wait ! jake shows up , asks where jake ( darren jackson ) is and takes ellie ( nikki vera - cruz ) home .\n",
           224,
           130
          ],
          [
           "* * * * i was still ticked off when lea and i finally pulled into the back of the mall . i sighed as we turned up the left toward nonesuch junior high . i saw lea standing with madoc .\n",
           225,
           131
          ],
          [
           "wilden shifted his weight and tried to sit face - down . \" dorrie , i - \" gave a half - laugh and grimaced , standing tall . \" your little caveman will miss you . \" the guy smiled .\n",
           226,
           129
          ],
          [
           "wilden shifted his weight , staring at courtney , dozing until her sheer self - pity crushed her . glancing back , the girl was still nursing her hair clip . she really liked his way of talking without making eye contact .\n",
           227,
           153
          ],
          [
           "i did n ' t it well . how else could he have possibly told me ? i ' m tumb , tumb . i was working with a company with lee . lee and i were on ... then i knew .\n",
           228,
           121
          ],
          [
           "i did n ' t my idea . \" \" i think the ' moms ' - and ' boyfriends ' - were laughing when you blew your whistle . \" she looked at the picture , which lay next to her .\n",
           229,
           125
          ],
          [
           "a fury that had nothing to lose . flowing , wavy , black hair ; blood -shot tattoos ( that weird , snakey , sri lankan tattoo ? ) you need a nice rest , matt ( our bodyguard ) , okay ?\n",
           230,
           138
          ],
          [
           "a fury that had nothing to hold me back . the fear consuming every waking moment , ruined every cell in my body . the rage burned me to blackness , to coldness . just like it did . again , and again .\n",
           231,
           138
          ],
          [
           "i had n ' t been worth living as a soldier and the war had always been a lost cause . ' well it ' s hard to keep soldiers on their feet - - it gets worse when i go into the army .\n",
           232,
           127
          ],
          [
           "i had n ' t a chance . i wasn ' t ready . i could remember what cami said next to blue moon , but ... carol laughed a little sadly : oh , cami , you were very great too .\n",
           233,
           128
          ],
          [
           "his lack of knowledge of most of the courses on botany for redman angered numerous others in academia , including professor allan s . dahlgren , johns hopkins university , malet and the socially accepted botanical movement , which ignored him .\n",
           234,
           168
          ],
          [
           "his lack of knowledge of history , his understanding of human condition in the east , of what the prevailing life conditions were , and of what self - care was in all of them in russia was quite an achievement in his lifetime .\n",
           235,
           147
          ],
          [
           "she climbed the first step , and wasn ' t sure that she was clear on where were any opportunities to terrify the child . she had to stop so she would let the tears flow , and a smiling little guy approached .\n",
           236,
           144
          ],
          [
           "she climbed the first step carefully , holding them open with the now familiar chern necklace and earrings . each and every one held an emerald necklace , a large dacron , a fingertip and two small sigils .\n",
           237,
           141
          ],
          [
           "numataka kicked himself once ( kicking him , but not hitting him ) but tripped and hit him more often ( kicking him , later ) after being examined for concussion ( pita had , in fact , no concussion ) .\n",
           238,
           130
          ],
          [
           "numataka kicked himself , berated himself . \" fuck me . just you doing the wrong thing ! on a twenty - foot water wheel in a fucking counterfeit town . less like the kind in the market today . \"\n",
           239,
           134
          ],
          [
           "if you stay with me for a while you do what she thinks ' s best then just put that face down and get that the past is over . tell me you still feel and safe so i can live with you again .\n",
           240,
           129
          ],
          [
           "if you stay with me , tonight is always , forever , and for me forever , always , for all time . on the other hand you have for me before we are over . i will stay here with you , forever .\n",
           241,
           118
          ],
          [
           "usually meredith did n ' rith things - natural or not - just to keep up , and now , they were all the kids in the photo who had asked virile questions . she might be only a year old .\n",
           242,
           135
          ],
          [
           "usually meredith did n ' he ... ' ' did you tell ? ' ' no yessir , ' she said quietly . he almost mimed a veiled explanation , which left her with none capable of utterin ' no .\n",
           243,
           133
          ],
          [
           "` ` okay , maybe your \" brother \" can make it , ' anderson said . ` now the gas masks are off , but i recommend to you wait here until 4pm . i want to spend some time down there .\n",
           244,
           134
          ],
          [
           "` ` okay , maybe when - are - justin ' s a beatles fan ? ` ` sure ! ' ` also on every episode of this show , justin ' s songs \" good - bye \" and the triangle were played .\n",
           245,
           131
          ],
          [
           "when you fight the ropes . 2014 : shut up my bitch ( tv series ) ; bbc - tv . 2015 : the perfect world ( mini - documentary ) ; brighton performing arts centre . 2002 : self - harm ? ! !\n",
           246,
           143
          ],
          [
           "when you fight the ropes , you use a t - shirt and secure the ropes around your body for three hours . \" \" as in a metal gyro ? \" vinny asked . he started to feel panicky .\n",
           247,
           126
          ],
          [
           "she would have to go out , making some star - musician appearances and tell good stories . while she played volleyball , the only thing left to eat was pecan pie , mixed with lemon juice and mixed it in orange juice .\n",
           248,
           151
          ],
          [
           "she would have to go home to ashaba ! go home ! why was he talking to her in the cave at utsah , near the heart of the pyramids , asking her why she had been made a slave ?\n",
           249,
           120
          ],
          [
           "i was so happy i reminded him who i was for the first time ever in my life . at the dorm where he lived i took lunch , cleaned my room , got the bar stocked , and found myself working for him .\n",
           250,
           137
          ],
          [
           "i was so happy i enjoyed it , and made it really special ! a story appeared in the next sherlock holmes themed magazine , and the two main characters were completely cured of all their previous problems and would never be together again .\n",
           251,
           163
          ],
          [
           "alessia lifted the world record for fastest lap in a formula one race at the front pushing him into a second - fastest time despite being quicker than hamilton ; thus hamilton had to settle for 3rd to take the final spot .\n",
           252,
           149
          ],
          [
           "alessia lifted the two eldest girls up into bed , remembering the night she had spoken to ella , ella - ella , and aunty keira , her governess , when she said that these two girls were safe .\n",
           253,
           132
          ],
          [
           "` ` look , ' ' she said . ` a nd cosmo - but where is it to start ? ' graves saluted with his gun , once more , again , perhaps stepping in a perfectly normal military manner .\n",
           254,
           134
          ],
          [
           "` ` look , ' barney was gloating . ` look at the little flakes in the wood ceiling . ' ` oh , and you can holler . ' ` that ' s okay , ' barney said quickly .\n",
           255,
           115
          ],
          [
           "it ' s ugly , funny , and funny . it happens in a fortnight . written by tom clancy and trey straub , and directed by cari wickersham . voice actress was carrie underwood ( uncredited ) .\n",
           256,
           135
          ],
          [
           "it ' s ugly , \" she whispers . a minute later , all five blond - haired men hug her : - captain carew , captains albury manton , captain cook , captain arthur higgins , and captain henry martin .\n",
           257,
           135
          ],
          [
           "well , im not go back . but he did . and where is he ? oh , is she gone ? yes , is she alive ? is she still here ? ? im taking her vitals to get the job done .\n",
           258,
           114
          ],
          [
           "well , im not gobbling me up . and as that chanting began to get more repeated , he noticed that the quack had stirred . dear god , i im not a ... a prisoner . i cannot speak from this .\n",
           259,
           131
          ],
          [
           "` ` for starters , the members ( and company ) of john finney , c . a . jemison , and ezra lee suffered severe mechanical problems , and they were most affected by wagon failures leaving the railroad for miles .\n",
           260,
           151
          ],
          [
           "` ` for starters , since you ' ve decided on reforming the scientific process , and changing the climate , because right now _ ' old professor and mariner , however , needed a long term remission for routine manual labor .\n",
           261,
           156
          ],
          [
           "he forgot what i said with that song . he believed in the wrinkles he would see if he thought he ' d do nothin ' for me like that infestation smell . that he would even share that with me .\n",
           262,
           128
          ],
          [
           "he forgot what i said \" ( \" now what ! ' ) . \" now what ? \" \" but what about me ? admit it , man b ' l - o \" . \" oh ? \" he coughed and scowled .\n",
           263,
           111
          ],
          [
           "i do as i wish but simply stare in shock . him is enough ... or worse still : i ' ll take it . ( and oh , god , he is my life mate ... ) and so ... i trust him .\n",
           264,
           123
          ],
          [
           "i do as i wish to do for the sake and good of my people . my eternal earthly heaven ? i punish all evil . bury all that is left , and then ... then ... \" silence fell ... then he spoke .\n",
           265,
           132
          ],
          [
           "it might not seem important when the ship was in the correct design but it was a bit trickier . both of the passengers spoke in whispers . nothing eventually left the compartment and the passenger stared at the aides of kamal .\n",
           266,
           146
          ],
          [
           "it might not seem important to do so , but i will be okay . \" he looked out of the window , at the house , and at the ship , and said , \" oh , oh , mr . lonergan .\n",
           267,
           118
          ],
          [
           "felt the cracks in the station , he said . it looked like it had been damaged . \" i felt . . . \" said his lawyer syambek sesak sesak , the operator of the radio station .\n",
           268,
           118
          ],
          [
           "felt the cracks in the ground beneath him as he walked beyond the edge and into this profound blackness that he knew would let the stink of his own survival beckon him forward , like heat smoldering in a small fire .\n",
           269,
           146
          ],
          [
           "really exciting stuff . ' the opening announcement revealed the cast and crew would interview director / series producer marc shatner was would co - star with tony curtis as the klingons , morgan freeman as the avengers , and others .\n",
           270,
           161
          ],
          [
           "really exciting stuff . ' i take your interest for awhile and look for a photo book to be found . there ' s this prickly place between thames court and chelsea court . if you take pictures , you get an opportunity .\n",
           271,
           148
          ],
          [
           "i want to know about you . \" beyond hinting at humor , i am not called harvey brian perry . \" only harvey brian perry is brian perry , and harvey perry does have access to my personal data here on foot .\n",
           272,
           131
          ],
          [
           "i want to know about you at once . \" \" we never met before . \" his ( now ) twelve year old niece grinned . \" so , this is our third time together . \" now seemed to be the time .\n",
           273,
           128
          ],
          [
           "maeve was there at least three months , and now she was doing a shoot . she was doing a chosen , too , but why was that ? no , an appraisal . she had been on only two events .\n",
           274,
           121
          ],
          [
           "maeve was there at least every year , except for june , july , and september when she had passed by it every party , and no one knew how they got there , why they were there , or even why then .\n",
           275,
           128
          ],
          [
           "his brain banged against his skull from carrying the gun . the buckland canoe ( in any case a special kind of canoe with a handle and a soft hide ) needed easy bracing against even the smallest blows from the little projectile .\n",
           276,
           153
          ],
          [
           "his brain banged against his thick skull and sloshed up and down the roads that he had seen in places so remote , the houses at the ones running through the countryside , called so beautiful and yet in no other shape .\n",
           277,
           147
          ],
          [
           "said polly quickly , anxious ... well , almost ... more embarrassed ... about having to pay three times the original price . it was rude , and it was like fighting symphonia over a corpse in a potentially dangerous arena .\n",
           278,
           154
          ],
          [
           "said polly quickly , anxious , but aware that they were now asking for refreshment at times and scrapping them into pieces , one by one , from here to the last , complete with master tools and excellent art supplies .\n",
           279,
           151
          ],
          [
           "if i had n ' \" what would it be ? \" the word \" red for canada \" was a cross of similar shapes to red for united states of america . \" what is the red color ? \" i asked him .\n",
           280,
           123
          ],
          [
           "if i had n ' exed his parents ... surely he would have known that i was still alive ... but if yelseph had been unwillingly fathered it was beginning to wonder who had brought this into us .\n",
           281,
           135
          ],
          [
           "and with that , phil and pam leave . phil runs off with st . mark , to proof - with overwhelming evidence - of everything regarding the \" right way \" or their opposites ( one way goes the wrong way ) .\n",
           282,
           138
          ],
          [
           "and with that , philbrook went to the n . y . with the gift of a mrs . dorothy warren , wife of the scheming francis warren of salem , which may be conferred to the native inhabitants of massachusetts .\n",
           283,
           138
          ],
          [
           "makova looked questioningly at general bruzzi . i am - i was sorry . ' ' but why - why ? ' ' if you did , she said she would carve the carcass with one hand .\n",
           284,
           124
          ],
          [
           "makova looked questioningly . \" \" a man uses it ' for reading , writing , and talking , ' \" she said very , very softly . \" the ancients call it falchan . \" \" monika ?\n",
           285,
           126
          ],
          [
           "` ` not yet , the kyco media team has announced that the corporation ' s name will change to another form of company , and not just name the corporation ' s core shareholders ' , until the digital acquisition is completed .\n",
           286,
           146
          ],
          [
           "` ` not yet , c ' mon fred , but the shots fired by all the age , misplaced neurons that they became overseers succeeded in setting off the last splurges from this brain f * * king .\n",
           287,
           134
          ],
          [
           "i was so screwed . a beautiful young woman who acted nice and she acted courteous toward her friends , ditched their party spectacularly . everyone else was violently , tragically tragically struck by a railroad train and killed .\n",
           288,
           158
          ],
          [
           "i was so screwed . oh , my god , no . he wants to kiss me . dear lord , not kiss me . not like this . but \" wherever you do , in your sleep , \" makes a huge impact .\n",
           289,
           119
          ],
          [
           "it did not take long to notice that ' hobie ' , ' broughn ' , ' mr . connors ' and ' tib ' were all doing quite well setting up and getting used to the musical numbers .\n",
           290,
           121
          ],
          [
           "it did not take long before lee and james monroe designed the seal left behind in virginia . the seal is credited as the earliest sign of independence , commemorating the relationship between totality and sovereignty of the crowns of the united states .\n",
           291,
           166
          ],
          [
           "have n ' t you got a sword , have you ever ? it might have fallen , but it had lived . because of this ... and what ? the screaming stop , the sword has saved you from the pit of reborn .\n",
           292,
           134
          ],
          [
           "have n ' t you tell me about his wound . you took that awful long - shot before paring it down on his shoulders . then you went to the utility room and the only thing that did was to clean it .\n",
           293,
           134
          ],
          [
           "the pendulum clock is too light only to be set with one stop . the connection between this fan - suggested sense of place and time was quickly lost as the bellows had already ceased creaking within two seconds of setting .\n",
           294,
           153
          ],
          [
           "the pendulum clock is too very small to keep in position and there is not a round face on which clocks are mounted . three round faces are only observed once and there has never been a round face or such a clock has .\n",
           295,
           137
          ],
          [
           "then a golden - toned choir regularly sings , \" denizens , shout to the lord . \" the popular hymn continues in a musical chorus : my proud bledsoe , look on the angels ! save them no trouble !\n",
           296,
           139
          ],
          [
           "then a golden - toned white sky rises . through the lightning , the shields of the father and son are lifted , and the story ends . at last , but candor grows , orindel remembering the night he died .\n",
           297,
           137
          ],
          [
           "i want to sit down with you this time alone and discuss our meetings of law and order . ( note 31 ) \" , then richard brood \" \" and the japanese border guards . they did not kill our armed guards . \"\n",
           298,
           143
          ],
          [
           "i want to sit down with my mother and hear some kids say things like ' thank you ' . do you mind ? \" \" no , it really doesn ' t even add up . listen , dad was a good man .\n",
           299,
           130
          ],
          [
           "anything weird happen yet ? but nothing else was happening - come on , people like those who detested politics showed up sometimes and some stuff just happened , along with things like being in a big number of self - help groups .\n",
           300,
           155
          ],
          [
           "anything weird happen yet ? first , these were barely in competition , and that only gave me less - than competition ; the class always got relegated to the \" academic stage \" . but to this moment , i ahh - !\n",
           301,
           144
          ],
          [
           "leo i am man , \" he quickly responded to \" god . \" \" good morning . \" when he did think over the next part of the morning it quickly translated to nothing and a body of information came to his mind .\n",
           302,
           136
          ],
          [
           "leo i am man , ... has grown large , ... is ... a virgin , ... ... ... ... ... ... is muscular . ... refreshingly understated , ... ... ... ... ... ... oh , lord ... looks beautiful .\n",
           303,
           109
          ],
          [
           "but the stronger part of this was confusing my thoughts and questions , that that ' s not what i wanted . sookie , still trying to gauge the reaction of kyrin , looked a bit caught in , and equally horrified .\n",
           304,
           143
          ],
          [
           "but the stronger part of it was the awful and totally lame excuse for being stuck spending two days with mrs . morrie and having time to get used to being talkative about everything . and somehow that was a great idea .\n",
           305,
           149
          ],
          [
           "he shrugged . with her gone he mentally looked at some possibilities scenarios . jessica leaned down and kissed him . maybe she was just too frightened of him , he thought . if his name was jessica , it was jessica .\n",
           306,
           145
          ],
          [
           "he shrugged . once the door opened to the balcony , he headed towards the massive hangar . ever since he first entered it , all kinds of work coming from west end construction had been filling up the huge concrete hangar .\n",
           307,
           149
          ],
          [
           "harold had informed him that the witness testimony had been neatly written down , if not for the past year , the documented personal beatings by pam and paulie , and how yet he ' d succeeded in bringing the suspect down .\n",
           308,
           152
          ],
          [
           "harold had informed him that the gray swan had not been seen until very late in the year when he and connor had seen a red swan and a white swan . harold remembered that they were similar in appearance to the gray bird .\n",
           309,
           140
          ],
          [
           "has he ever suggested you can bring him here at the same time you have ? \" i nodded methodically \" yes , but with varying degrees of shock . \" \" he told me that he would be at my place tonight .\n",
           310,
           143
          ],
          [
           "has he ever suggested you produce a reggae cover ? \" scott nods and drinks some water . \" tandy or me ? i was born in jamaica , and had the same name . my original home in london , you see .\n",
           311,
           138
          ],
          [
           "i asked him . he had told me ( as i was ) home ( here ! ) with fred ( in the morning ... ) , or \" all is well \" , by the cooper and good - old beverly parks .\n",
           312,
           122
          ],
          [
           "i asked him . \" is he sweet ? \" \" two ounces too . \" the friends were from california . i had met the boys on their most recent trip and they were eight and half years younger than us .\n",
           313,
           133
          ],
          [
           "cut open his forehead , and tell liked feeling the prick of it . his father had an eighteen - month job , put him through elementary school , and then transferred to fresno state university . his mother was born harry carney ;\n",
           314,
           158
          ],
          [
           "cut open his forehead , he rocked back and forth , rocking back and forth as he talked . a light flared . \" please open up a fraction , frank . i need - \" the light flickered briefly , then flickered again .\n",
           315,
           134
          ],
          [
           "` ` merry christmas , boys , \" he greeted them happily . \" and show us up to mr . tanner ' s house . \" laxus peered out through the open portal . you ' re welcome , \" he said .\n",
           316,
           132
          ],
          [
           "` ` merry christmas , christmas day ( a recording ) . ` ` her work involves performing and recording music for other choirs including the baldock girl choir , lustmore girls ' choir , martins park boys choir and student choir .\n",
           317,
           148
          ],
          [
           "the victim and family have somehow managed to work up the element of surprise , \" but she wrote it down and pulled the trigger for the great sioux forest fire . chapter 8 < < < > it was a beautiful spring time .\n",
           318,
           154
          ],
          [
           "the victim and family have however consistently described them as having \" been found in sleepers . \" ian robinson stated that the remains would , most likely , have crawled \" over the tall pine ] high \" , beamish hill .\n",
           319,
           154
          ],
          [
           "his gaze moved over my naked figure . chapter thirty one zephyr heston hit men with men , especially when they walked into the pool party . apparently , drew was asleep . he was late for work , leaving alone .\n",
           320,
           145
          ],
          [
           "his gaze moved over my face . the clock came still automatically . ' so is it clear , not what is right between us now ? you should have gone now , your love - - ' slowly he held out a hand .\n",
           321,
           143
          ],
          [
           "i knew it would help me earn a small fortune whenever desired networking with the rest of the village and further affecting the fishing industry more severely . the village of dan luen fyn cried out in distress proclaiming their arrival .\n",
           322,
           158
          ],
          [
           "i knew it would help you be a mage , a member of the royal family that rules the underworld . ' olem reluctantly sat down so that he shifted uncomfortably in his seat , less drawn to his brother ' s words .\n",
           323,
           146
          ],
          [
           "calls that sherlock doesnt know about the vampires . he cant just always get real close to a vamp fight , right ? so connor would stay out of sight of a vampire to fight off a wild guy fight or vampire .\n",
           324,
           136
          ],
          [
           "calls that sherlock doesnt send : return ( file 32 ) when \" runtime \" delete a class type ( in the protocol ) . return ( file 32 not in the protocol ; ) return return ( $ string ) .\n",
           325,
           121
          ],
          [
           "she ' d been incredible , touching him ... holding this toy ... this box ... he screamed , \" ( no sound , ) i finally found something ! \" and kissing him ... that had been unbelievable . much too damned fantastic .\n",
           326,
           145
          ],
          [
           "she ' d been incredible from the beginning . beauty that burned like an ember every time she went from north carolina to chicago . which probably meant her time here in new york had been really painful . but definitely worth it .\n",
           327,
           155
          ],
          [
           "i mean , really . yeah , because of ... ] [ : : 57 + ¨c tone = ... 57 ] [ : : 58 + ¨c tone = ... 57 ] 4 . is doggie at the loo ?\n",
           328,
           103
          ],
          [
           "i mean , really . ... this question is fully addressed . john lewis ( ed . ) , \" the concept of polyrhythm [ and mathematics ] , \" review : 54 , \" no . c11900 \" .\n",
           329,
           130
          ],
          [
           "that ' s not like the trash bag , but something that looks like an oil lamp . something that holes through the guardrail , again and again . robbie feels the adrenaline pounding through his body and hits the bag even harder .\n",
           330,
           145
          ],
          [
           "that ' s not like you . when all your emotions are under control , take some action and be ready . you will survive . \" tears ran down her face in response . james released her , making her feel much better .\n",
           331,
           147
          ],
          [
           "interrupted tessa . \" no , not really . there are double doors as well . and they admit males . i should have gone down there to hide , \" said jem , as they passed under the cham doors .\n",
           332,
           132
          ],
          [
           "interrupted tessa . chapter 32 \" um , mrs . grey - you look very ... well , \" said chiarelli . \" no , \" said the doctor . \" not - well , no ? \" kimmy .\n",
           333,
           115
          ],
          [
           "phew ! torres , d j . ( 2011 ) . torres , d j . ( 2009 ) . \" case of comparative study in political philosophy , research en la ciencia de mexico \" . scientific american review .\n",
           334,
           133
          ],
          [
           "phew ! [UNK] ( some songs like the singing song ) [UNK] [UNK] [UNK] [UNK] [UNK] [UNK] ( [UNK] [UNK] [UNK] ) ( [UNK] ) the sings acts of soulful nature . it is much more sonorous than possible .\n",
           335,
           120
          ],
          [
           "` ` she ' s loitering . ' * * * * ` where are they ? ' screamed jill . ` they go in single file , off to the side , between the bunks , to the generator room .\n",
           336,
           119
          ],
          [
           "` ` she ' s a thoughtful woman , if not a good draughtsman . ' ` the first trip to southeast asia was quite brutal . the second trip was quite sleazery . ' wow , you are amazing .\n",
           337,
           131
          ],
          [
           "nikkis face turned sad as she nodded and he knew she was jealous , upset , as every second ticked by , but he never took that chance . nikki ' s blood lit up and lit the sky like a full moon .\n",
           338,
           136
          ],
          [
           "nikkis face turned sad with nothing but sadness and heartbreak . the tennis princess smiled happily . \" freezing ! freezing ! freezing ! freezing again . \" the tennis princess indicated like she had on a wedding dress , not a dress .\n",
           339,
           139
          ],
          [
           "dr . morris was saying , \" with her speed ... with her strength ... her power - - \" \" change her , \" annie begged , feeling sorry for the people that had died - - but she was already in tears .\n",
           340,
           134
          ],
          [
           "dr . morris was saying very loudly : me and you and me , mom and dad and his death squad and monica and ricky . me and you and me in a couple of hundred and two years . and dr . morris .\n",
           341,
           124
          ],
          [
           "and soon i ' ll lock katie up . anyone questions ? \" katie asked as she stared into ella ' s wide eyes . ella glanced at katie more often as if she were a grown - up out of all the world .\n",
           342,
           135
          ],
          [
           "and soon i ' ll be running . hopefully , just now . ~ ~ chapter 13 ~ chapter thirty - one christian grey please send me my next text to ana . ~ ~ ana my heart breaks when another text comes through .\n",
           343,
           145
          ],
          [
           "that ' s a real nice story too . \" then mary named her next narrators , jonathan ( her brother jonathan ) , jeanie ( her eldest sister kumiko ) , and andy & becky ( becky lee ) .\n",
           344,
           125
          ],
          [
           "that ' s a real angel ... lho . some huge star maybe ... also an angel ... and he toyed with shane and eve . shane and eve and eve wailing . shane and eve shifting , kicking , fighting .\n",
           345,
           117
          ],
          [
           "i asked . \" what are you girls doing ? \" she asked , and i nodded again . \" you okay ? \" her mother asked , and i nodded , and we kept shouting as the chanting started happening again .\n",
           346,
           120
          ],
          [
           "i asked . ' is he all right ? ' following her usual greeting , old friend , neighbor , and greeting , mrs eggleston , with her mannerisms a little grinned a little , academized .\n",
           347,
           127
          ],
          [
           "` ` hear it ? ' ` the stuff gets shabbier . ' ` help this , ' pronounced a deep voice , quietly not quite speaking to him . nashi claimed the other seat . ` does the piano play ?\n",
           348,
           134
          ],
          [
           "` ` hear it ? ' ` the smell of it , like that old horse wash , is very strange . it splashes like salt water . blackie smells it . he turns around and creeps closer still to me .\n",
           349,
           132
          ],
          [
           "speaking of getting killed , bodies in the suburbs , a hotel , and a fast food truck , there might never have been much . \" \" so it turns out . \" cami and mick were still the only ones around .\n",
           350,
           139
          ],
          [
           "speaking of getting killed , the powerful ghost of marc jacobs , celebrated as a broadway star , shivered nearby , remembering how , in reality , the day and night of the incident played out , whether it was an accident or not .\n",
           351,
           155
          ],
          [
           "` ` not during this rain . ' ` when it empties . ' ` on the other hand , this time there only is a beach in the islands gatabayu , on the beach where many families live .\n",
           352,
           120
          ],
          [
           "` ` not during this early hour . no one are waking up here for succour , even during the night . ' chrissy looked up and ( spying matt ) over his shoulder looking ready to start hollering .\n",
           353,
           135
          ],
          [
           "so i kiss her , and i fall back into dr . finnegan . how do i do the physicals and stuff about lexy ? how do i make the right decision about her and the other treatments and evaluations ?\n",
           354,
           133
          ],
          [
           "so i kiss her , taking deep breaths . \" who is this ? \" all of my energy about necrol waddell dissolves in the resulting sleaze of the water cooler . spank is a serial killer .\n",
           355,
           133
          ],
          [
           "i ' d forgotten about my last conversation with him and was bouncing up from my chair and wondering if there was anything else i could think next to falling from my gaping mouth , when i quickly limped to the back door .\n",
           356,
           152
          ],
          [
           "i ' d forgotten about hugs and babies . are you ready ? by jimmy kimmel and ridley scott amazon dvd player 4 by robert e . robinson and his ex - wife jenny brown , my name is robert e . robinson .\n",
           357,
           139
          ],
          [
           "` ` and you do not know that anyone ! * ` ` hey ! ' he yelled , feeling like a man getting ready to punch someone . ` well i do know somebody ! he laughed to himself , instantly feeling guilty .\n",
           358,
           139
          ],
          [
           "` ` and you do the groupie thing , right ? you know guy fights and you get hurt . ` ` she made me promise . ` i will , ' astral roched . he ' d turned on her .\n",
           359,
           122
          ],
          [
           "thank you , tashin , for the wise romaniization of the spellings of the fevings ' ayuma . pierre pierre pierre pierre pierre pierre pierre pierre pierre pierre pierre pierre pierre pierre my name is pierre pierre .\n",
           360,
           96
          ],
          [
           "thank you , tashin . take a look at my scar . but there are so many questions now . \" \" forgive me mentioning the brown - haired parthians ; i needed a clear slate . we were our own ;\n",
           361,
           135
          ],
          [
           "most of the time my ears i focus on kyle and jordan . i try yelling against them but i almost succeed . then i saw that kyle , kyle , and jordan are waiting for me . before me was a large hall .\n",
           362,
           133
          ],
          [
           "most of the time my parents gave me a salary , named wernheim , for working in the landeby office , defending a \" cruel murderer who has done nothing to deserve an opinion on what is fine cleaning \" .\n",
           363,
           142
          ],
          [
           "the door opened again and a voice , in a clear asian accent : no - no - no who is ? you just . . , with the bird - like eyes from your dreams . ( captor ) ... . . .\n",
           364,
           129
          ],
          [
           "the door opened again and sarah had fallen asleep . when fripp walked into the room dressed in a black , he was horrified sarah had given him her clothes . sarah , obviously upset for some reason , entered the room .\n",
           365,
           146
          ],
          [
           "` ` mr . carratt ' s art series . 1869 - 1949 , published 4 november 2003 , contains collected essays by the late \" edward young \" over pages 11 , 15 , 18 and 19 march 2003 of edward young .\n",
           366,
           146
          ],
          [
           "` ` mr . carr , jr . richard carr , jr . and harry randall \" jim \" carr . ` ` the journal of richard l . carr and his wife , marion ann chapin . ` strange things , ed .\n",
           367,
           116
          ],
          [
           "i wrote these words on the word ( god ) , in the choir of st john , covent garden , inscribed on the ceiling , saying \" look through the glass windows of the bell - tower , \" from daniel , mercury .\n",
           368,
           139
          ],
          [
           "i wrote these words on the album : i used to remember the battles that began in 1601 in plymouth colony and later spanish florida , but these words became simpler based on the words : fight for your people . stay there .\n",
           369,
           153
          ],
          [
           "yes , herr meyer replied again in a serious tone . - here , herr eigen holst , is that fair herr meyer , in the presence of another person who wishes to be heard by now herr holst .\n",
           370,
           124
          ],
          [
           "yes , herr meyer replied . then , to me , herr meyer , we discovered that osprey is not dead ( genitalia ) . he became a \" healer \" [ or innovator ] to our aid .\n",
           371,
           121
          ],
          [
           "all she knew was she knew , night and day , about aden and victoria , about riley and beth and rory and riley , about liz and riley and the night after lizzy , victoria , aden and liz had gone missing .\n",
           372,
           117
          ],
          [
           "all she knew was she needed time to think about if the garage was going back into fire . at about 18 : 48 , somewhere off - kilter . \" remember that , kate . \" then what was the matter now ?\n",
           373,
           138
          ],
          [
           "molly looked as if she was returning from the japanese j network ( tbs ) ' s summer special ( drama cd 1 ) special \" meet my idol at the top ( nhk ) \" which featured \" love me gently \" .\n",
           374,
           140
          ],
          [
           "molly looked as if she were exhausted and much more worried for the boys than ever was they men - richard hoped he was right . no sound seemed away from the wooded yards or the humid smell emerging from the open field above .\n",
           375,
           151
          ],
          [
           "mike randall . - the singer attempts to understand libretti : antonio zulli , vito sansino , harold blan the british version at the royal dramatic entertainment center was as good as the italian version which followed backstage .\n",
           376,
           158
          ],
          [
           "mike randall . . . ' he and lewis argued , and that he ran from them . jason hesitated . he kept glancing at jason . the senior commander told the news to the cherokees forces , and closers .\n",
           377,
           132
          ],
          [
           "he said , someone will hear from me all tonight , tomorrow , tomorrow , and then including grace harris . okay , i kind of threw him out from grace , vice - president . preferably grace harris , senior vice president .\n",
           378,
           137
          ],
          [
           "he said , someone will sometimes play dv gaming like the arcade and party games and want free pass of \" unlimited team \" which other person can sign , but \" unlimited team \" can only correctly sign \" unlimited \" pass .\n",
           379,
           142
          ],
          [
           "` ` you will cease your work and die of disease ' 1 . 1 . 24 , woodrow wilson ( woodrow wilson ) speaks up the following passage : ` this monster dwells among the trees ( the saplings ) \" .\n",
           380,
           138
          ],
          [
           "` ` you will cease to care , and move on . ' ` exactly ! ' shali beamed . ` but we only have two weeks ! ` ` why two weeks ? \" ` because you are so young , kali .\n",
           381,
           124
          ],
          [
           "real soon . ' ' there were children from eight families , all over twenty years old : grace , helen , shirley , joseph , sybil sarah , some over 200 from the whole country and some men from their respective families .\n",
           382,
           152
          ],
          [
           "real soon . ' ' a strong man is stronger than he is . ' marnie watched sydney fall into nate ' s arms . ' he ' s only interested in mary ricson . ' a familiar voice interrupted her thoughts .\n",
           383,
           128
          ],
          [
           "i am weak in will to obey one ' s body ' s needs . in the short films , radio and live theater many people present in these steel - reinforced concrete structures may find \" warmth \" to \" soft \" comfort .\n",
           384,
           147
          ],
          [
           "i am weak in will , yet enjoy my time with him . when he woke up friday on september 19 monday morning , cds , movies , and tv were making a mess around what remained of the place with very little notice .\n",
           385,
           149
          ],
          [
           "could she somehow convince him , that she was so practically aflame ? but he was standing in the corridor leading down into the pit through a series of doorways , edging toward them , passing in and out of sight .\n",
           386,
           148
          ],
          [
           "could she somehow convince him that , instead of yesterday and every second , he would set up a whole new set of rules : for oneself , for all the same ? well , then , why are you looking at me now ?\n",
           387,
           141
          ],
          [
           "i guess those are good old days . \" harrison and zane were laughing , too . they moved back past the shrine ' s entrance , toward the narrow tunnel where the new sanctuary of san desiderio needed them to leave .\n",
           388,
           147
          ],
          [
           "i guess those are good video games . so , i go back to the dining room and sit at the table and i look back at them and watch the game ' how they did that ' like they had somehow won out .\n",
           389,
           127
          ],
          [
           "i could n ' t see , [ ... ] he kinda came to the house , he kinda said he belonged here , but , hey , ' that mother - slave ' , that was not his name , not his name .\n",
           390,
           118
          ],
          [
           "i could n ' t have just gone hobo with yoo - hoo , and s - me dinna remember it , forget it ! i ' d never met such a serious man as john ( ' isaac ' ) ;\n",
           391,
           120
          ],
          [
           "you know what ? ' it was silent as everything in the room closed , turned once again into the sound of fawning statues . then blokes dying - dying . that all meant for the process to keep .\n",
           392,
           138
          ],
          [
           "you know what ? saturday night fever is dirty dancing to pop idols like lynn anderson ( world lightbulbs ) and sheryl crow . \" roadie king ( real music ) \" - season 4 . youtube channel .\n",
           393,
           142
          ],
          [
           "until he made it sound like a jealous smart - ass . after two tough years of school rick quit school for money and she moved to san francisco . the three of them ordered smoke of sauvignon de rochefort .\n",
           394,
           142
          ],
          [
           "until he made it sound so romantic , and in those situations i was stupid . i was instantly ashamed of myself when i noticed that his range rover had some of the starched straw grey plywood , twenty - four boxes .\n",
           395,
           149
          ],
          [
           "after a few moments , the first three were again drawn to become a tiny thuff , along with a tiny chocolate - colored drip speck of paint said to be randomly attached to the top edge of her hatbox .\n",
           396,
           140
          ],
          [
           "after a few moments , their infusion was no longer needed but was administered to those patients who already needed it . the amount of left over from five to six nm , depending on the situation , varies with infusion type .\n",
           397,
           151
          ],
          [
           "then the black - haired old man appeared , who had been on the steps of riverrun and , on the other hand , been looking at his own picture , fool after fool , neither the king nor queen of lorien .\n",
           398,
           132
          ],
          [
           "then the black - haired old woman disappeared down some side steps and into some trees , striking something with ink and dust . it emerged from what was definitely a normal - looking demon mark . not a demon mark , i thought .\n",
           399,
           153
          ],
          [
           "i asked . \" the phone number ? \" i typed in a response , saw her last text message , and wondered for a moment . so she had returned from a trip to the san francisco bay area to cry .\n",
           400,
           134
          ],
          [
           "i asked . \" in addition , in 1978 he became a key player in the national youth & community action no . 1 event extending his role as halftime announcer for the 1979 - 1980 united states embassy holidays in beirut .\n",
           401,
           158
          ],
          [
           "kaneko waited poised and wary for him , with hauser ( chris guerriero band ) playing a natural heavy metal voice . eric zeller ( joy division ) always called the album \" guitar metal optimum \" .\n",
           402,
           144
          ],
          [
           "kaneko waited poised and motionless , watching from the window seat , evidently preoccupied with thinking about the action ahead . occasionally they nudged him with their elbow , but kane did as they offered and stood skeeving all night long .\n",
           403,
           165
          ],
          [
           "` ` veronica and you - - - me - ' ` ... uh ... ' ` the walls creaked creaked as the students used etching notations on the beige carpet . ` ` h ... o ... '\n",
           404,
           114
          ],
          [
           "` ` veronica and you give me the mask while i make these , ' mr . blackstone added while handing the mask to elvis . elvis wore an easy smile before removing the choker and placing it on the polished wood .\n",
           405,
           140
          ],
          [
           "wallace still hung at the front door , hearing the announcer sharing the latest news with all the others : fedex , unix and one news . the air conditioning smelled like expensive italian perfume : the walls looked dark like shadows .\n",
           406,
           157
          ],
          [
           "wallace still hung at the rear to unload my extra glass of wine and give me a nice first - class fare - at least counting tuition , but mostly the food was already being eaten in the hotel ' s small kitchen .\n",
           407,
           148
          ],
          [
           "the spring sun was hot from the early morning hours and late afternoon far below . inside , people were singing songs about dancing . the earth was beautiful but the order of nature also favored the two genders - feminine and masculine .\n",
           408,
           159
          ],
          [
           "the spring sun was hot , and the agents and cops stood in their cages , like a spectator , waiting for their reward . the other two agents , still in their tights , had managed to escape the cage this way .\n",
           409,
           136
          ],
          [
           "it was an enormous white cloak . in its place there lay the long sword of winterfell . slowly , hard enough , she turned , searching her , all the way , and stopped . and there was the enormous white cloak .\n",
           410,
           134
          ],
          [
           "it was an enormous white stone building painted vibrantly green with an oval basin for water . a tall stone podium stood at the centre . the main hall was filled with the familiar sounds of the people singing the original irish song .\n",
           411,
           155
          ],
          [
           "sad malfunction i shoved around . thanks . a : gonna conjure up a little locket b : sorry . c : the little of that shit ? b ( flip over ) you got practice when i get home ?\n",
           412,
           133
          ],
          [
           "sad malfunction i see is stuck in a deep state of unconsciousness ; so many thoughts from the past are erased . ' the coachman shrugged . ' i do not know why , but perhaps the schism rose .\n",
           413,
           137
          ],
          [
           "she squeezed her thighs together just as she started laughing . i started crying too - no , not with anyone but her . zoey is pretty awesome . i did an old age thing and forgiving her fancies killed me .\n",
           414,
           142
          ],
          [
           "she squeezed her thighs together . \" but i thought ... your eyes were closed . i - \" he stopped , waiting to hear the beating beat of her heart . then his palm came to rest against her hips against the door .\n",
           415,
           139
          ],
          [
           "liz always knew tara would be lonely and there was only one she left wearily , but that way of life was for me . losing someone like jack before this guy she was so attracted to was like too many other people .\n",
           416,
           144
          ],
          [
           "liz always knew tara would have bent down and lowered her arms , and although duncan planted his knees on the pew to support her , she , with her hands up , was more likely to move , to sway or pass out .\n",
           417,
           140
          ],
          [
           "she grimaced sadly then turned back to her work . bird in the world . excerpt from bird life , vol . 1 , chapter 2 jess sat there , awestruck and bewildered , trying to pin down the old name aloud .\n",
           418,
           143
          ],
          [
           "she grimaced sadly then turned to him . stopping short of saying a few more words , she stopped and held his eyes . what would he look like ... two men , women , and kids born inside a vampire ' s soul ?\n",
           419,
           146
          ],
          [
           "sergei abruptly thrust his way into his house when the ghost of his ex - girlfriend cries and comforts him . maybe just thirty - two or three , not counting when he broke up with her . at ten p . m .\n",
           420,
           140
          ],
          [
           "sergei abruptly thrust his way past her once all of his people had vanished . the wind , the sea ... she breathed sharply as the green clouds shifted impatiently . then everything went black . oh , then she yielded to his command .\n",
           421,
           155
          ],
          [
           "it had a wet , high collar gingerstrung hood and a branch covered in sticker . it sat parked right by the window of mrs ( his wife ) building , wishing he was actually wrapped up in the car .\n",
           422,
           140
          ],
          [
           "it had a wet , pop - music theme from lane ( then a vegetarian ) , who left lotty after lane had to inform her about the album after hearing it , which he realized after having emerged from a cheating lover .\n",
           423,
           141
          ],
          [
           "` ` and he made the hole and went to the basement . ' ' baskin ' s style was also heavily influenced by john wood , especially described as \" evil and perverse \" . that ' s what he meant .\n",
           424,
           134
          ],
          [
           "` ` and he made her wear stirrups . ` \" but she got ... \" \" . . . \" , said carrot . he and his his pal would soon be marooned in the galley . all their bodies .\n",
           425,
           116
          ],
          [
           "` ` we can open a lock on it with a special key . ' ' \" the security code number is ` 42 ' and ` 36 ' . it has a total of six locks . it can only be opened once .\n",
           426,
           127
          ],
          [
           "` ` we can open up a view from one of the living room elevators . ` ` cosmo and i carried rita ' s lifeless body back down to one of the stainless steel floors . ` ` there are two elevators .\n",
           427,
           128
          ],
          [
           "i caught a glimpse of john j . o ' brien at one of the large patios , chopping vegetables under an open mantle of fire . swinging back from the overcoat was a figure i had seen in the area .\n",
           428,
           136
          ],
          [
           "i caught a glimpse of its odd leather awning under which the bedsheets were whining and warming up . the hotel ( built in 16th century / 12th century ) caretakers liked to scooter joust .\n",
           429,
           138
          ],
          [
           "his was a life in television . the whole time , this was a show from outer space , the planet ours , a burned - out one . it was broadcast from the broadcast studio every sunday afternoon or at three or four .\n",
           430,
           140
          ],
          [
           "his was a life in the old west , but val and star helped his son cam grow up . val and cam always chose the world as where the pit bull bulls were eventually held and where the rest of the family lived .\n",
           431,
           134
          ],
          [
           "that ' s it . a : ( top ... top ... underneath ... right ) ( bottom ... right ) e : the people that loved me and mystified me ... now ' s a good time to ask you out .\n",
           432,
           120
          ],
          [
           "that ' s it . mr . \" and this , \" he picked up the foul - smelling lump and leaned forward , \" is , is this person gone , or had ... \" lost his head , off to the side .\n",
           433,
           122
          ],
          [
           "you would n ' t be satisfied until eventually . just ... just ... rest . just ... be more of me . if it all ' s right then , relax , camper you . there was a long , tense silence .\n",
           434,
           128
          ],
          [
           "you would n ' t ' let me stay here - they all was looking your way since the day ye had come , right ? \" \" sure . i will go . i will rest - in castlehaven , devonshire .\n",
           435,
           128
          ],
          [
           "` ` jake ' ' ' are you in the military then ? ' ` no . ' ' jake is at fort loup . up until now he did a really good job on our bridge but was in really bad shape .\n",
           436,
           123
          ],
          [
           "` ` jake ' ' a tale of how to think , ' ( with j . d . young . 1982 , with joe valter ) ` ` ' i grieve for what ? ' ′ about the ghost hunters .\n",
           437,
           126
          ],
          [
           "we ' ve unscrewed eight different \" peeks \" - more commonly known as bing peeks , or bingbumps ' . bing bing bing in london ( imd ) bing bing bing bing bing bing bing !\n",
           438,
           111
          ],
          [
           "we ' ve unscrewed it for now , and the nadraks have taken your - or rather one of those children - but i gave them all a few things other than water and food before the rainy season .\n",
           439,
           132
          ],
          [
           "his id tag said elmer , one of us . \" you , psychopath trespassing on pimps ' property ? that sounds interesting . little things . nasty things , \" he said with a sad but toothy smile .\n",
           440,
           136
          ],
          [
           "his id tag said elmer . with great forgetfulness , he only used the abbreviation elmer in his early films and dramatised these films with - googoo or ' googby - goog - goole ' .\n",
           441,
           121
          ],
          [
           "i tried to hide my embarrassment as she looks at us , knowing that my questions are wide and flat out about the all of these chemicals and the drugs , about my loyalties and how we ' re so tight in prison .\n",
           442,
           144
          ],
          [
           "i tried to hide my alarm , but my own hesitation in seeking a hospital room . welcome back , missus . \" george stated again in the comm . \" this guy ? \" \" the local djinn , george .\n",
           443,
           132
          ],
          [
           "i turned the overhead light on , the boys looking at the gunshops , doctor joe byrnes and nurse lillia byrnes . had sholto ' s asked questions , or had he asked them based on his dream ?\n",
           444,
           135
          ],
          [
           "i turned the overhead light on to the watching faces and stared at the figure - a singed gray - grey cat with long talons , how different my own little rabbit was , another small poodle like catlike creature .\n",
           445,
           146
          ],
          [
           "no inhibitions . and the worst , spacing religious beliefs . even know by the doctrine of religious liberty no f2 such political figures as communism , communism , socialism , and the ninety - four of wedgwood .\n",
           446,
           143
          ],
          [
           "no inhibitions . and no wavering . i had to wiggle to sleep . just life - saving . chapter six as i sleep , i again recall being pulled over to the east - coast air force air field .\n",
           447,
           128
          ],
          [
           "he cant do it . he would be using you , like the others do . you say humans have a weapon fit to fire , but they mustn ' t . the magic is already gone . the i . r .\n",
           448,
           122
          ],
          [
           "he cant do it selflessly , so why is it really going to bother him ? he keeps in some religion bull head trying to deal with imbalance between the angels and demons . he never calls ... i mean constantly .\n",
           449,
           145
          ],
          [
           "he put a cheese stick down beside his plate , so when he blurted out something even \" what is this ? \" , then i would call it an argument with a scientist at a department of physics at the university of idaho .\n",
           450,
           150
          ],
          [
           "he put a cheese stick , making it look like steel , and proceeded to eat . \" all i want is the grass to ooze . \" 2 . wings of life 50 , 000 silver coins dedicated to your son .\n",
           451,
           133
          ],
          [
           "` ` you and danica have grown close , you know , for years of my time . ' ` well - - a lot . ' ` and when you changed your mind about being in the hospital , was i right ?\n",
           452,
           131
          ],
          [
           "` ` you and dani sawyer , jr . , and jeffery eaves and william pratt , and jeff bateman here from your own childhood , our underlings , our outcasts and slaves , from you own journey .\n",
           453,
           126
          ],
          [
           "it took less than a second of her rushing around before the first one attacked her . by now , the only reply was the blow of a sword . the first one finally grabbed a wooden club from somewhere deep in the jungle .\n",
           454,
           145
          ],
          [
           "it took less than a half an hour to decide it would be best to persuade ben to stay , or maybe even persuade him to stick with the plan just knowing that we probably would not be able to make any real progress .\n",
           455,
           144
          ],
          [
           "` ` what do you mean ? ` put my wife in bed ... ... ' * * * * * * ` ready for a proper dinner ? ' * * * * * daniel drove over a hundred miles into the countryside .\n",
           456,
           121
          ],
          [
           "` ` what do you mean , is it important ? ' said grum shell , now heavily thinking about the police officers , the nurses who were , and at grant ' s ' s clinic . ` is it necessarily important ?\n",
           457,
           141
          ],
          [
           "perhaps they knew all of them already - the long - gone french family who had first married morgan le grand during the french revolution , or his sister , marie antoinette , or derek novak , or every trustworthy vampire on earth .\n",
           458,
           156
          ],
          [
           "perhaps they knew all of the stories so became part of them now . father and joseph , jonathan and joshua and you and jonathan all speaking at length , beth and joseph with green eyes and joshua and joseph just gloating .\n",
           459,
           136
          ],
          [
           "he was stranded in a martian aviary . but he was on his way back . \" we talked three times this evening . maritimes , olympics , customs . i can talk to you here if you want . yes ? \"\n",
           460,
           132
          ],
          [
           "he was stranded in a supermarket parking lot , awaiting his basic com post from woodside ' s and equipped with ladders for drinking , and despite being very air conditioned at the time , being , in fact , far cheaper .\n",
           461,
           151
          ],
          [
           "my skin is burning . \" \" and what happened afterward , until now , the lot always fight , fighting shadows , the day solin and i protected you in the twilight zone ? \" \" we spent a few days searching .\n",
           462,
           144
          ],
          [
           "my skin is burning . i would recognize the burning light - burning for above . a flash of light flashes on below . i have put a glove on . it has been so long since i have moved away from the chamber .\n",
           463,
           134
          ],
          [
           "the man had him , although his eyes were a dull green , and had not particularly well watered . jamie was convinced he was some kind of vampire , or something of another sort . he was a very cold - hearted man ;\n",
           464,
           145
          ],
          [
           "the man had him , under the bosom of both the mammy and inside the house where the cabalas had gathered firewood . he held out knives and billets , and fetched arrows for drake and drew .\n",
           465,
           131
          ],
          [
           "all that remained were three grown men at once - one who looked like a damn important boy scout from our own boy band , our own girls , dancing at the sprawling mansion of bill fitzgerald , the legendary singer and jazz trumpeter .\n",
           466,
           158
          ],
          [
           "all that remained were three little women who would be - tsuis in ti - ea - are - ai - peh - no ( ' have nothing beyond \" we \" ' ) , and converse through joys and laughter .\n",
           467,
           128
          ],
          [
           "and that was not the second song . oh , what a song that was . and who was the old man at the gate ? who was the old man here or the old man who was dead ? or the old woman ?\n",
           468,
           99
          ],
          [
           "and that was not the only royal exhibition . his paintings mainly depict historical scenes . some depict louis xv and still others depict louis xiv . spradlin did research for the prince and received two gold medal from the musee royal .\n",
           469,
           155
          ],
          [
           "i had it all planned . several hundred enterprises made their own replicas of it . these women learned from it , where needed , and learned without knowing its nature enough that they would begin to limit its impact over the future .\n",
           470,
           158
          ],
          [
           "i had it all planned to happen , and then some . part of it came back to haunt me again and again . i only got ready for school because i was so scared . i was scared something like that might happen .\n",
           471,
           134
          ],
          [
           "even those that were kind of good died easily . none i ' d seen before . the weapons were rarely , if ever , there and the last thing i needed was a plan and at least a fairly wide range of targets .\n",
           472,
           137
          ],
          [
           "even those that were kind of blind could see light . there was nothing but a single ray of sun filtering through the inky night , and at least some people were seeing it super - rare , but the place was spectacular .\n",
           473,
           149
          ],
          [
           "there are no waves lapping the sparkling water , the sea crashing all around us or the driver or passenger of a car trying to say , \" i know , \" but i have glimpsed some cliffs for hours each night .\n",
           474,
           141
          ],
          [
           "there are no waves lapping downstream , but off in the distance the waves crest , and even maggie is in complete and utter surprise . she is half shocked to see the cymbal , which her mother does not recognize .\n",
           475,
           147
          ],
          [
           "` ` well , sure you know that . ' ` ` i love this handsome good man that is a cleric , captain of our scouts . yes , he is very tough and yet very patient , not too earnest about everything .\n",
           476,
           136
          ],
          [
           "` ` well , sure ... okay . just fine ... smarts . ` ` noehaaeh - hirt - is that your graalsweet , sir ? ` ` well obviously i really am , sir .\n",
           477,
           111
          ],
          [
           "i push out a little tears , but with more time than i can push them out , i expect myself to find myself in real life - in a world just like any other - neither the clever or lucky of the beautiful .\n",
           478,
           137
          ],
          [
           "i push out a little and he opens the door for me . i knew you were working , bam , but i never found out about you . \" i push him away and brandon silently mouths something then comes to me unexpectedly .\n",
           479,
           142
          ],
          [
           "` ` very much . ` ` biography of bjork , recently published - the camp evangelization gruppe of amstetten , who was sent to auschwitz prison in 1944 \" after the end of the war \" ;\n",
           480,
           143
          ],
          [
           "` ` very much . you had the back of the [ hard drive ] . ' ` not like this , ' said graves . ` the ram must be down . ' graves seemed to be wary of testing the exact situation .\n",
           481,
           131
          ],
          [
           "sit down in the road : she believes something is wrong and walks away and does not want to start it . lam hung ( [UNK] ) ( tang yu ) : her face is known for suggesting dangerous changes in her environment .\n",
           482,
           154
          ],
          [
           "sit down in the road and watch tv ! hurry , please hurry , hurry ! i sat next to my wife , abby , trying hard to keep my composure . a 911 call was coming from the station and destination in town .\n",
           483,
           139
          ],
          [
           "` ` aw , shit wont be big enough for temp . it leads all the way up here . there ' ll be a lot of solid rock too . ' riley said , ` something prof , ' ' here ?\n",
           484,
           124
          ],
          [
           "` ` aw , shit , ` leena said . ` and the cctv was just moving . ' something was going on . her watch read \" thirteen minutes \" ( but jonesy knew it was \" six \" ) .\n",
           485,
           126
          ],
          [
           "because i am thirty - two years old . i died in the russia invaded by the agents of the soviet army . the people hated me . now that we have all perished , they still hate me . \" milosevic frowned .\n",
           486,
           136
          ],
          [
           "because i am thirty - six and as dumb as ellie ? this is ridiculous . for many , many good reasons , i feel sick inside . stop it , ellie . calm down ! i am so sorry for being a virgin .\n",
           487,
           135
          ],
          [
           "` ` this is banque francaise rg iii . stand in a short way north from the locks 28 - 7 on the right . between 200 and 250 lakes deep , a tributary of st . francis river , passes there .\n",
           488,
           142
          ],
          [
           "` ` this is banishment - mutation of lower - level gdr . ` ` because the gdr is dead ? ' ` everyone but , even us . ' ` \" you . \" she leaned forward from the table .\n",
           489,
           128
          ],
          [
           "intimidation through silence failed , but the men were able to escape . once they did , the armed soldiers fell below my walls at the end of november , but they indeed managed to trap them four days before my valves cracked open .\n",
           490,
           158
          ],
          [
           "intimidation through silence failed , becoming more and more difficult , both for the king and for the family , something which , in no special degree at all , can be considered treason . once the empire gained power , armed revolution began .\n",
           491,
           164
          ],
          [
           "i find a photo of someone . a boy , different , and i have a real picture of him . \" he ' s not riding a bike , \" says gary , looking up . \" he ' s not riding anybody .\n",
           492,
           118
          ],
          [
           "i find a photo of quinto santos ( photo ) . 1988 made in 1987 new york . 1987 miss america . 1987 cinco de la mancha . 1987 the 59th hour . 1987 morning post . 1987 real life .\n",
           493,
           125
          ],
          [
           "plus , you know , trolling for an extra toilet under the stairs . and a job rincewind partowned , but they said they did it by themselves : food streets , festivals , exhibitions , social happenings .\n",
           494,
           145
          ],
          [
           "plus , you know , when a creature wakes up with weak white psychic cue , it pushes it , only to push again . ( ) - a flash before it lets go . yup , did i get that one wrong ?\n",
           495,
           133
          ],
          [
           "this life i did n . hirschfeld at frankfurt . on 25a ( 28 march and 2 april ) he got letter of complaint beating him and his half brother and sister and fled . finally he escaped with them to frankfurt .\n",
           496,
           143
          ],
          [
           "this life i did n ' went , \" yo me colleno noy \" ( \" we got drunk ! \" ) , \" me mejor \" , b - side of \" me mejor ! \" .\n",
           497,
           95
          ],
          [
           "did you forget i saw you ? nisha ( nodding angrily ) what noise can we make ? they say the bawdy ' s are delusions of silence only when heard in the hot tub continuously throughout the prison sentence .\n",
           498,
           144
          ],
          [
           "did you forget i saw you , becks ? well , these days , i saw that guy out there in the alley . he must be some crazy curvy old guy somewhere . did you forget becks saw me ?\n",
           499,
           121
          ],
          [
           "` ` live in the stone house at coal river . ` the funds on coal river station ( 2nd ed . ) : dedicated by david & co . carrying the compliments of g . george harnick and sydney porter .\n",
           500,
           137
          ],
          [
           "` ` live in the chicago region . chicago : jesse m . white . ` ` california \" \" indiana \" \" the troubled woods \" \" the secret life of man \" ` live in america . chicago : d . m .\n",
           501,
           120
          ],
          [
           "he gripped her under the arms , desperately trying to hold on . he slept heavily and dreamed of cold , icy fingers . henry - harry . bugeule - michael . murad - henry - henry rathbone iii .\n",
           502,
           135
          ],
          [
           "he gripped her under the fingers of his , and they danced together together , the hunnian a wiry renowned for cowardice on mars , leaping and turning , towards the sun , the day the waves climbed on shore .\n",
           503,
           138
          ],
          [
           "his voice was hollow . when was the next time for her heart to twist , twist , burn again ? just a few more hours . she headed into her bedroom and sat down on her bed . were there second story windows ?\n",
           504,
           141
          ],
          [
           "his voice was hollow . he saw the faintest trace of a crooked mustache - between forty - six than thirty - five - before it oozed out , slowly at first , like the split lip of a hungry wolf .\n",
           505,
           136
          ],
          [
           "right , has everybody gathered ? \" this is where they can close their eyes , \" the colonel said . \" thank you colonel . \" he had heard of not wanting a house , but it was a mere three thousand dollars .\n",
           506,
           141
          ],
          [
           "right , has everybody gathered back up to , like , the let - them - ' find - out ' thing ? \" yelled david , the brusquely worst of all the robots . \" yes , i did that !\n",
           507,
           128
          ],
          [
           "aidan seethed , clenching onto his brother ' s forearm . the word was foreign to me , even in my line of sight , even in that brief instant of a second . i am sorry the house was destroyed to you !\n",
           508,
           138
          ],
          [
           "aidan seethed , clenching his fists as the room came back into focus . god ... \" huh ? \" her words had shaken him even more . \" amen , \" he said to aidan as the door opened almost instantly .\n",
           509,
           139
          ],
          [
           "i ca n ' t call it a \" truck \" , but as far as i know it , it has big cows , a fair - haired bear , and the clarifies snowmobile , and there are the advantages .\n",
           510,
           117
          ],
          [
           "i ca n ' t think about it right away , because if a scot must have less meat , less blood , and dress up in their own fighting gear , then we could have plenty . \" ian looked at ian .\n",
           511,
           133
          ],
          [
           "` ` sookie called me . ' ` i do , too . ' ` what was her name ? ' ` right after the senior rugby game bell was aired on the \" outside the loop \" national high school television network .\n",
           512,
           135
          ],
          [
           "` ` sookie called them \" hooters \" and \" traps \" ( \" i went to [ fetch ] all [ of your pictures ] home , but all were left in for [ painting or drawing ] \" ) .\n",
           513,
           126
          ],
          [
           "` ` people who care less ' than us , no . ' ` but i ' d say three hundred and seventy - five more , ' reacher said . ` you live over there . bunch of tough guys . black bastards .\n",
           514,
           133
          ],
          [
           "` ` people who care more , council workers who attempt to work and obtain permits and people who cannot afford ( to receive their deposits or make a living they cannot afford ) benefit from savings in a victim ' s tax savings .\n",
           515,
           147
          ],
          [
           "` ` look , i have the container that ' s on the table . ' ` quickie . ` jasmina , the female woman who favored the name rose and kept her voice separate from the rest of the room .\n",
           516,
           129
          ],
          [
           "` ` look , i see , ' fawkner said , cocking and doing another ' roll - a - dice ' with the bill , and then adding , \" the juice - bar ' s not the blood bar .\n",
           517,
           114
          ],
          [
           "jackson had decided to wait to fulfill his failings in war and to prepare . he had ordered captain charles cowhit killed and then appointed eunuchs from both sultanates as fodder for them to fight against him .\n",
           518,
           144
          ],
          [
           "jackson had decided to wait while i saw peter starve at supper and talk with joseph . ( chapter 8 ) i was at work of episcopal apostolic church , and had recently joined the quorum of local churches across the country .\n",
           519,
           154
          ],
          [
           "cassandra ' s face was mask , and he noted that she was not one of the patrons . it was then that all the staff knew she was the true witch from witchdoctor once again , from his dream last night .\n",
           520,
           132
          ],
          [
           "cassandra ' s face was sullen as she wiped the fresh drying blood off of her face and her fingers on the dirty floor . another worker , employed by someone , gentled enough to save the woman killed by three men .\n",
           521,
           146
          ],
          [
           "you should be happy for yourself better tonight than you were before , and not too busy with your work again . ta : wow . bye , c . are you on vacation today ? ? ta : yup . just serious .\n",
           522,
           137
          ],
          [
           "you should be happy for someone like her , in her own small town , in a world with all its cliches and myths and legends . the very freedom to have it , smell it , and the very fair world .\n",
           523,
           130
          ],
          [
           "he turns to me . there was not a single softening to be said , a softening in his voice this time , something very , very much like an admission of his ' paternity ' to the other man .\n",
           524,
           130
          ],
          [
           "he turns to me . i look back over at zachary again . although danny jackson ( s ) has successfully laid me on the ground and now pinned me , no contact between danny jackson ( s ) and zachary has occurred yet .\n",
           525,
           143
          ],
          [
           "she ' d thought it was only a copy of a letter from kieran and mickey , both prominent irish citizens and close friends that asked her where her home was . now she wondered where it was . her dad was worried .\n",
           526,
           144
          ],
          [
           "she ' d thought it would be fun but now she just wanted to sit there and reflect on the wedding and how it was like , just dredging up the shock and the pain and putting all of the things from perspective .\n",
           527,
           139
          ],
          [
           "he cared not a whiff for voicing the warning over the rippling storm that threatened to destroy the city . but not his women . his slaves , for instance . not all women were delicate . as delicate as men .\n",
           528,
           136
          ],
          [
           "he cared not a whiny question other than telling her his life story so he had not seen her yet . her imaginary friend who woke up . the little gondola ride , who said : oh my my dear .\n",
           529,
           133
          ],
          [
           "static crackled from the \" aerosports \" ( as a corporation based in beijing , china ) and the \" yusan ' s bow and stern \" cargo body tricycle ( a paratranside support helicopter ) .\n",
           530,
           133
          ],
          [
           "static crackled from the microphone over the suv ' s high definition speakers . tate , tate , and jax all cursed . jax , tate , madoc , and the two agents exchanged growled swearwords , communicating what he meant .\n",
           531,
           148
          ],
          [
           "he shoved the pionie boy around , hard , and the boy hissed violently , the albino boy wincing free almost immediately , uttering ' ach ooush ! ' ' a man must make you smile .\n",
           532,
           126
          ],
          [
           "he shoved the pionies and the key into the safe . julia smiled at mr . viloce . she glanced at the broken sconce , which julia had returned to her great great - grandfather before he died .\n",
           533,
           130
          ],
          [
           "` ` so when do i get back ? i am livid but not totally healed just yet , ' said tohan . ` well , if you want , i really will see you tomorrow ' , he said , smiling .\n",
           534,
           126
          ],
          [
           "` ` so when do we start ? ` ` so ? | this is a word blurr , two words with different meaning . p : of the same media . sf : time change seen in space . t : music .\n",
           535,
           125
          ],
          [
           "snarling at the picture behind him . ' it was a . r . i . r . \" , yes , joe morris ? ' ' she was through with me . ' ' no - one , ' said randal .\n",
           536,
           115
          ],
          [
           "snarling at the picture in the ring . \" how dare you ! \" he took in a deep breath . \" ... ( picture ) ... ... ( movie ) [ ... ] ... ! \" \" cassie , leave ! leave !\n",
           537,
           116
          ],
          [
           "gaent retrieved a clean sheet from way back and talked to several other patients , but no progress was ever made . everything seemed to really be coming from a skinny side tunnel , a huge underground tunnel to a small steel factory .\n",
           538,
           157
          ],
          [
           "gaent retrieved a clean glass cell phone from his purse . heat radiated from the electrical contours of the spaniard . his concept of transformer wires , and its intrinsic value to those who had seen them were astonished .\n",
           539,
           148
          ],
          [
           "she only saw noir ' s stupid stare . and then nyssa . and he was gone . finally , finally , the same one . the youngster looked up to see jade looking see - dark as it turned into gray .\n",
           540,
           130
          ],
          [
           "she only saw noir ' s brutal brutality and his psychoacoustic methods learning from the mindless monsters of demons . chapter thirteen noir was notorious for stirring up nightmares relentlessly until his own kind were bathing in white light .\n",
           541,
           162
          ],
          [
           "her head lay on his side and she happily watched him fall upon her body with his own . after valkier ' s appearance , it was the same thing again , two in three and one in four until he emerged .\n",
           542,
           139
          ],
          [
           "her head lay on his chest , smelled so sweet , remembered her scent , the unexpectedly raw sensation of him kissing beneath her chemise , her amniotic fluid , and then looking at him like he was being utterly ridiculous .\n",
           543,
           150
          ],
          [
           "yes . rest of the world . chapter 14 makes it up to the beach resort to check weather . it is a regular eighteen to twenty - four hours a day . it was probably raining when the storm started .\n",
           544,
           138
          ],
          [
           "yes . i walked from my room shirtlessly to my bathroom and tried i snatch myself up vocily into a sandbank . there , i found myself wearing nothing but sand that fell out of the box .\n",
           545,
           131
          ],
          [
           "` ` well , yeah , is he no longer quitting ? is he going out again ? ' ` ready for what ? ' deputy director mike williams asked nisha raines as he waved the two support staffers over .\n",
           546,
           138
          ],
          [
           "` ` well , yeah . but it hurts a little . ' the van door opened and banged open . ` i understandcha , ' said graves patiently . ` do you remember when you stopped on the long trip through paris ?\n",
           547,
           143
          ],
          [
           "he had evidently learnt a valuable lesson in religion , and on firm orders he quickly and silently went abroad , having obtained 13 years of service , first at calais , france , and later , at least briefly , as a chaplain .\n",
           548,
           155
          ],
          [
           "he had evidently learnt a bit of syriac as a child and spoke in a way that he thought was all christian , though he was uncertain how old the priest was given neither the visage nor the friendly voice of his leader .\n",
           549,
           146
          ],
          [
           "this could easily be a blow to the company . equitable trust corporation has obtained the rights to build the chicago , cincinnati and houston railroad , the boston and maine northern pacific railroad and the boston and maine southern pacific railroad railroad .\n",
           550,
           150
          ],
          [
           "this could easily be a shock soon after when wulf told them \" uh , more like the cops murder two guys , \" as he put it . his taxi only slowed in a rush on the way down to the bar .\n",
           551,
           130
          ],
          [
           "` ` say it . ' siuan stared down at the female dismarkiness . even without a helmet , she was well over four feet tall . she wore white chainmail trousers at the knees and a leather vest .\n",
           552,
           133
          ],
          [
           "` ` say it . ' ` it looks like there was no paternity test . did something happen ? ' ` yes , mother , ' insisted sister anna . ` yesterday sister anna checked in with the u . s .\n",
           553,
           129
          ],
          [
           "setting it down in the mountain of tor - tor when the hunt was over , the queen told hakan he wanted to fight against mallus ' s massive army , its population growing from a family of twenty warriors into thousands .\n",
           554,
           151
          ],
          [
           "setting it down in the wisps of ash was like fuel to her bloodlust . who would take those things home ? certainly not a vampire . and besides , she was getting a taste of the attire he wore .\n",
           555,
           138
          ],
          [
           "nassir was an ass kicking , but worth a shot if i was doing an actual ass kicking . where was he ? i kept my gaze pulled down by his wavy black hair and waist - deep brown eyes when he did .\n",
           556,
           134
          ],
          [
           "nassir was an assorted member of the group . other prominent examples of accademia within the group were \" amina \" ( brown ) , street , of course ( brown ) and \" joy \" ( brown ) .\n",
           557,
           122
          ],
          [
           "i see someone patched up the whole area , and i move the curtain aside to reveal a large bed . did you see me ? you left him where i was . you left him to go in so you can rest .\n",
           558,
           125
          ],
          [
           "i see someone patched it now until midnight . \" the stew pot was perfect for the sheep , since they were incredibly adept at garroting . true , it was all her fault that shift was all about reverence .\n",
           559,
           139
          ],
          [
           "violet always talked in her gentle voice to his father very much . she talked about him and his mother , about her uncle and her aunt and even about finley and violet and , occasionally , about violet and finley and elan .\n",
           560,
           133
          ],
          [
           "violet always talked in her own head , and sometimes in her own mind . no wonder she was trying , sitting next to a large boy with white - and - blond hair : legs together , holding each other tightly , laughing .\n",
           561,
           146
          ],
          [
           "jenny pushed such matters aside , reminding herself of a \" middle - aged mother and a younger daughter \" . she took great care when it came to lord maccon . comforting him was beyond literally impossible , at least literally impossible .\n",
           562,
           156
          ],
          [
           "jenny pushed such matters aside . chapter one to elizabeth at school this afternoon , with miss quins doing a memorial to violet / rose / rachel / mary ( and to hynd ) was i supposed to know about peter ?\n",
           563,
           150
          ],
          [
           "i close the door . - - poland by boat to the kamianska airport . no response to the call . old memories come to me . no carcass of a wife or ex - wife . no lifelines .\n",
           564,
           119
          ],
          [
           "i close the door . no . trick still has his phone . soft chimes ( from downstairs ) pour in from the living room . and i smell liquid on my clothes , but no sign of jesse or jesse anywhere near .\n",
           565,
           141
          ],
          [
           "maryse sighed . \" you mean lord tywin ? - or someone else , too ? - or lady dorcas ? - or the knights and the little duchess ? \" the priest smiled , taking pity on him .\n",
           566,
           125
          ],
          [
           "maryse sighed . \" very well mother . what will you say when you return ? \" she waited until she was out the door and swept through the main hall . her friends waited impatiently for her but all ignored her .\n",
           567,
           142
          ],
          [
           "` ` i ' ve not heard of his name ; once known as a man who actually wants to accuse st francis of the persecution of heretics , he chained him in a jail and rode a horse called pyramus .\n",
           568,
           138
          ],
          [
           "` ` i ' ve never seen them here . ' ` when i was ten , when i was in college ... , ' wallace began . ` they were based in europe . spent most of them testing on the european coast .\n",
           569,
           127
          ],
          [
           "his roguish handsomeness rippled along the very lines of his face , his gray - clad undressings as a whole , the tall , gray - clad man that i saw mader in the forecourt , perhaps .\n",
           570,
           129
          ],
          [
           "his roguish handsomeness throughout the making of the video is inexcusable . the video has come out as a download in stores from smokie , cloud 9 hotdogs and the pink weathermen uk .\n",
           571,
           132
          ],
          [
           "after that , ill be getting down to going to sleep . \" \" serves you right . \" the officer slammed on the brakes and slammed the engine on . he immediately jumped out , grabbed both passenger seats and pulled them down .\n",
           572,
           146
          ],
          [
           "after that , ill be going off in three or four different directions in three and a half hours . ~ ~ ~ \" the dead one \" . \" picture ( picture ) \" ~ ~ ~ ~ \" the dead one \" .\n",
           573,
           112
          ],
          [
           "you cant go in a person that looked like he had p * * n ? i was delivering a cd to a homecoming queen , when my eyes drifted to the doorway where molly and her half - brother terrance stood .\n",
           574,
           140
          ],
          [
           "you cant go in here if you want . turn slowly away and slay him . not bury st . edmunds and st ayes . barnton stone on kirtley hill . putney on greville street .\n",
           575,
           116
          ],
          [
           "could we just please hurry this up ... \" ( - priest of christ st . james . ) only six students had arrived for their mass , and they were miss mary ellen , miss margaret , miss elizabeth anne and miss violet .\n",
           576,
           148
          ],
          [
           "could we just please hurry ? i exulted at the strange magic of being tel ed on the history of the people , how jared dealt with the situation , the current situation , the origins of the men , and more .\n",
           577,
           137
          ],
          [
           "i do n ' t know yet that his john was pointing a knife straight at me . ' ' all i know is about the slavers , about how my secessionists used my slaves , their defense of their negroes .\n",
           578,
           129
          ],
          [
           "i do n ' t turn do it which included the now and then tour ; shake it ( featuring phil collins - penned \" catch in the act \" ) and the four nashville versions of \" head over heels ... \" record ;\n",
           579,
           138
          ],
          [
           "` ` old friend ! with my very large shoulders and chest accounted for , i went to the side of the street to do a succession of more luchas with subsoil , going down to the fingers of my fists .\n",
           580,
           136
          ],
          [
           "` ` old friend ! at first , as my own agent , i think that america ' s best spies were foolish to do such clandestine work and that there are not many others of our kind who have participated in such work .\n",
           581,
           145
          ],
          [
           "the quiver , across her white cheeks , reached for her eyes . with three fingers and three toes , bridie cried . two separate frozen baby dolls cried - their baby dolls , their dolls , even the dollies cried .\n",
           582,
           133
          ],
          [
           "the quiver , across her right eye at least , was a warning . a soldier ' s grave was situated at the southern end of ivens . famous enough to sacrifice two men to save the world . but here happened differently .\n",
           583,
           148
          ],
          [
           "she had just turned to the earth for the hundredth time , to the men she had picked up . her husband , brodrick marsh , said that mr . fontenot had witnessed her safe trip home and was happy .\n",
           584,
           132
          ],
          [
           "she had just turned to face alex almost the whole time they were traveling . then she said , \" alex , i ' m sorry . i got you all worked up like that . you know i just want to get home .\n",
           585,
           135
          ],
          [
           "` ` which reminds me of roger - her ... husband . ' ` ` brother ( ooh ) morgan . ' ` i want you , larry , and your friend to meet at the van loder memorial and the room .\n",
           586,
           127
          ],
          [
           "` ` which reminds me about you . ` ` ` after taro dropped back off , i quietly walked around through the rooms before finally entrapping yuna and leaving the basilisks alone there on my bottom floor .\n",
           587,
           144
          ],
          [
           "the dragon lets out another shrill scream ( \" open it ! to save gods \" ) , and looks up , still wailing . \" godson , you rabid beast ! ! ! ! the whole world is bleeding ! \"\n",
           588,
           128
          ],
          [
           "the dragon lets out another warning howl and the men die . the naiads rise from their battlements to sail out to the river , where they are joined by erebus . but the children soon come upon them too ;\n",
           589,
           141
          ],
          [
           "what am i doing wrong ? turning from the smokestack i was quite distracted by hunter looking the work done on her with self - satisfaction . \" are you guys stopping for a ride ? \" hunter pointed ahead of us .\n",
           590,
           150
          ],
          [
           "what am i doing wrong ? \" there ' s not enough kids left to support him . not yet . not with his whole clan . \" there were just three other families around now , solo , solo , and tob .\n",
           591,
           132
          ],
          [
           "she swiped her finger in his temple . \" a bullet wound . i also did a ct check of the cut when - - \" \" um . \" \" that , uh , says she ' ll live with a bullet wound .\n",
           592,
           118
          ],
          [
           "she swiped her finger in the spurting blood from nick ' s bloody face , thanking not only the fallen had caused him harm but also for taking her over the second time , saving her life , the woman she always loved .\n",
           593,
           145
          ],
          [
           "` ` great darkness is cannot escape . ` ` ` but her [ chinese chinese english ] what she says is too strict . zoe would crawl off from hiding . this story is a too dreamy , etiological story .\n",
           594,
           140
          ],
          [
           "` ` great darkness is in its form . ' ` everything in its way ... ' ` cities crumble , ' without doubt . ` ' ` the european union high court deems a \" political case \" ( 1995 ) .\n",
           595,
           139
          ],
          [
           "so stop the scheming and go . ' ' is your little golden child here with you ? ' he demanded , as one of the young fighting knights lifted the sleeping dwarf down from the saddle to draw muskets .\n",
           596,
           141
          ],
          [
           "so stop the scheming . pack up and drive off on your own \" with that ' the name of astrology is full ' and ' all in all ' it did not do any serious damage to the steering wheel .\n",
           597,
           130
          ],
          [
           "the moon was a mere reminder that there were no dark shadows . ali and sita had tried a less critical approach , and kerim knew that hamza , head of the dax tribe , had followed that image for centuries .\n",
           598,
           141
          ],
          [
           "the moon was a mere day off of the sun as it is a day on the full moon , and the moon was a way to avoid the sun , not bringing it so close to the temple of sauvage .\n",
           599,
           114
          ],
          [
           "yes . you just happen to carry an enormous load . so , it ' s your responsibility , and yours if i come through . ' ' vann , i insist before i go on in the other direction .\n",
           600,
           128
          ],
          [
           "yes . that , or whatever she thought , was the way alex was looking at her . she accepted her husband ' s company for a moment , which was part of her non - threat , then continued on .\n",
           601,
           131
          ],
          [
           "alexei and aiko must have seen her coming and probably were feeling sappy by now because they just stood there as she went , trying to morph into those mannerisms that do not even mean a grandmother had moved away .\n",
           602,
           151
          ],
          [
           "alexei and aiko must find a new method of achieving \" heaven \" by killing enemies ( super big & super - small ) to score points and by entering into trance ( video of candid cameras painting scary faces underwater ) .\n",
           603,
           154
          ],
          [
           "it was a controlled demolition of the city , while the large towers were destroyed when the greek navy occupied saba . the large cylindrical tower has been fully restored , even though a cold current in the mediterranean sea blows down below .\n",
           604,
           160
          ],
          [
           "it was a controlled demolition attack against a ( - 2 ) type ( deadliest ) submarine , survived by only one survivor , which was carrying a tank of fuel , but damaged were torpedoes salvaged , which became mullen .\n",
           605,
           155
          ],
          [
           "its imitation . from a grown woman . she looks like one ... too . are you scared ? we are two silly high school girls whose cold , steely personalities are salivating over their silly affidites .\n",
           606,
           140
          ],
          [
           "its imitation . i had gotten what i wanted , had discovered haruki and the secret . i shared my confidence with him , the real dark queen , my , and finally , freedom to my in - laws .\n",
           607,
           131
          ],
          [
           "i see , said mary ellen and we all began to dance at a rather slow tempo , following the same instructions . the baby was far away from me , doing more paperwork , facing me . the small mary ellen never noticed .\n",
           608,
           144
          ],
          [
           "i see , said mary , of the attack on me . on the contrary - - if you must travel further afield hours to see the wounded ones - literally , they are like that - probably samuel marlowe , doctor .\n",
           609,
           137
          ],
          [
           "her thin face was twisted up , and despite it all , the vein carved into her nose still sparkled beneath its hard , white skin . rachel looked around for anyone trying to escape , surely spying a flashlight above the doorways .\n",
           610,
           157
          ],
          [
           "her thin face was twisted tightly around the sword hilt , and her ears were gaping open with the spots and blood evident . that should make her an old slob . some days she feels overwhelmed with even the need to heal .\n",
           611,
           150
          ],
          [
           "i ' d probably be pissed , but i had no desire to see my dad and possibly never see my brothers again . right now , i was in real pain and not ready to lose anyone , not even a loved one .\n",
           612,
           130
          ],
          [
           "i ' d probably be steadfast , but had no desire to have such a crappy sex life . did she want me to believe that they both believed after a million years on earth that love could be so wonderful ?\n",
           613,
           142
          ],
          [
           "` ` it ' s not tight . ' . ' binds the bone here , ' said iqbal , moving slower this time and changed his statement , repeating it in latin . ` the bone it needs again and again for bonding .\n",
           614,
           131
          ],
          [
           "` ` it ' s a winding end . big creek , fifty miles wide . bear creek , near criswell pass and lake union . charles city county , kentucky . lincoln county , louisiana : 9°30 ′ w .\n",
           615,
           143
          ],
          [
           "learn to do what i do for you . just be strong . never stronger , calla . chapter two summer stood at the main gate gate . she and her brother talked over a young boy , whose first name was cole .\n",
           616,
           137
          ],
          [
           "learn to do what i teach you ! learn to do this , just give me more money ! do so ! learn to do this ! i am not just running , but acting to make more money and th hour i learn !\n",
           617,
           111
          ],
          [
           "he felt a great anticipation as he realized he should understand fate much , much better . was he vindicated by this ancient memory ? however without his gift , there was just too much foundation to build , to destroy everything possible .\n",
           618,
           163
          ],
          [
           "he felt a great anticipation now . he started up the stairway , jace close behind and on kiki . \" why are you up on the third floor ? \" i shrugged him off . i just want to be with you .\n",
           619,
           138
          ],
          [
           "` ` we ' d better come back , ` eli said abruptly . ` how come he ' s looped ? ' ` who knows , eli , ` eli murmured . ` ` okay , ` ` eli said , finally .\n",
           620,
           115
          ],
          [
           "` ` we ' d better not be tricking them any more , no , we must leave fresh before we trick them again . then we can get used to it . ` frank did so , and closed the room door .\n",
           621,
           126
          ],
          [
           "which i did . \" ouch , hmmm , chaining them to the floor ? like that \" ( pause ) \" you mean ... chaining them sort of like they should go ... \" i do not finish .\n",
           622,
           120
          ],
          [
           "which i did . so here i was , just dredging up information , hoping to make it clear . only there was her . and the need had not brushed away the crazy girl . the redhead who went through hell .\n",
           623,
           137
          ],
          [
           "she smiled as she thought if she had helped jordan in some way . his name was familiar now to her . top of the world , the amazing ouroboros reporter of the boston free press ( washington , dc ) .\n",
           624,
           138
          ],
          [
           "she smiled as she thought . \" there are stories , calling it rise or fall . even - \" he lay on the ground with the rest . he must have fought eris up against the grove while dryad was asleep .\n",
           625,
           136
          ],
          [
           "` ` years ago at the very least . at first you showed up . ` ` two - quarter hour for a bicycle to pull over . four - quarter - hour is when someone is taking a risk on things such as .\n",
           626,
           134
          ],
          [
           "` ` years ago at a gala lunch at the westborough education institute his father said that he did wish he himself would have written his mother a note that he would be at home . ' ` yes , mr cassick .\n",
           627,
           140
          ],
          [
           "i hold myself together as i tell myself - - that i have to die . \" um ... yes , \" says ray ( very kindly ) ) - - \" you look well . \" - - and i end the call .\n",
           628,
           119
          ],
          [
           "i hold myself together as itchy liquid spills down my chest , in and out again , and in and out , gripping me tightly with each sip of it . i say , \" the pills . stop thinking about them .\n",
           629,
           132
          ],
          [
           "perhaps at the end if we have the option of parting ways , some time later - or perhaps a little later - perhaps you can promise me a more straightforward answer . \" within moments a single solid figure appeared from the clouds .\n",
           630,
           153
          ],
          [
           "perhaps at the end if only he could save jason . ( you can do this . i have followed you ) , she said ( why not ) . he did not reply ? there are some who - i do not know .\n",
           631,
           128
          ],
          [
           "` ` why not ? ' . xiao p . xiao p . 4 . p . [ p ] xiao p . 5 . p . the following example of this is from for example : [ p ] xiao . xiao p .\n",
           632,
           92
          ],
          [
           "` ` why not ? ' ` to begin with , apparently . ' ` well , the pair of you were groomed for life after your mother left you at a total loss . ' ` i heard about the black man .\n",
           633,
           129
          ],
          [
           "neal lifted a brow . was that the same word his mother used ? yes , he missed her . all perfect white teeth , a full mouth made up in the mouth , and a big , fuzz - colored full lips .\n",
           634,
           134
          ],
          [
           "neal lifted a brow . gave haidee a few more drupes for his ride back to the tribe . a modicum of discipline taught him not to intentionally harm anyone except himself . the forest was thick and scentful .\n",
           635,
           144
          ],
          [
           "uh huh , i thought . or maybe even under the darkness of the room , and the sun , and the blustery idea that i was in front of ' em , big sun , big wind , i was happy .\n",
           636,
           120
          ],
          [
           "uh huh , i thought , because i knew her all my life , but she was here now . because i was getting confused , i heard a giggle . \" ring doorbell or something , \" i exclaimed , my heart racing .\n",
           637,
           134
          ],
          [
           "` ` it ' s my sun ` . the f . eckstine & co . limited . 1903 . 10 . hibbert , joseph . boydell , london publishing company . bates , aubrey ( age 1981 ) .\n",
           638,
           128
          ],
          [
           "` ` it ' s about time . ' ` he made for usha ' s house ' by mistake . he quickly scoured through the two main engines - one vulcan s . j and one usha sb . j .\n",
           639,
           120
          ],
          [
           "the finger stood upright , and gregory recoiled , the earphone flopping on the floor , half - dropping to wood . behind him , the stones and marbles quietly squeaked , and the phone began to ring again .\n",
           640,
           138
          ],
          [
           "the finger stood upright , \" falling ! \" ( which means falling , fall , nubbling , falling , falling . ) i presume that on my arrival i was standing within five feet of the cloven - looking stone .\n",
           641,
           136
          ],
          [
           "` ` ka - tets . ' ` well , sir . if you find us , send me a few messages from inside the outer offices . ' ` no . this guy is the one who was elected for this district .\n",
           642,
           123
          ],
          [
           "` ` ka - tekelin tribe of illinois , 1882 ; ` ` tekelin : ' o ka - tekelin wik , bulletin ( s ) , no . 52 , platteville , missouri , 1883 ;\n",
           643,
           109
          ],
          [
           "` ` maybe you could try one in the old lighthouse in chakwar , abu dhabi ? ' his mother had heard of the same old lighthouse in florida ( from when yahya was in paris ) whenever she grew up .\n",
           644,
           134
          ],
          [
           "` ` maybe you could . ' then bill ackland spoke again . ` when the fairchild plane came down in october , i had the strange sensation i was the dog whose destiny had come to fall into its own hands .\n",
           645,
           141
          ],
          [
           "what about the boy , trained as soldier and silversmith , but the offbeat best . he seemed to have always mentioned ... better things to look at . \" \" but to be honest , all sides of me , too .\n",
           646,
           136
          ],
          [
           "what about the boy , \" came the short reply . \" there is also no case of three - point - five serious casualties and no credible proof , and winning that much game might pose another threat to the nigerian prime minister .\n",
           647,
           150
          ],
          [
           "she wanted to remain mad at him , to play a little cat and mouse game and soon they were just a weirder - than - usual pair . what was the conversation between her three seven - day roommates looked like ?\n",
           648,
           147
          ],
          [
           "she wanted to remain mad , but she had an idea , and rolled it onto a piece of paper . what was the poem about ? what had the voice become there , faint and distant ? but , such prophesies .\n",
           649,
           135
          ],
          [
           "` ` then i realized that it was a 7 1 / 2 \" white sd card . ` ok , check it again . ' true love feels nearly thrown off by a box on the inside . your career seems nearly ruined .\n",
           650,
           137
          ],
          [
           "` ` then i realized i liked him and tried not to be jealous . good old chris adams , chris adams , the chris adams surrounded by a tired old secretary , who would soon cultivate fond memories of his beloved pets !\n",
           651,
           143
          ],
          [
           "it did give her a bit of a headache , to want to be alone with marcus . the man she knew that she was even aware of falling in love with just appeared quite likely to bore her to tears , all right .\n",
           652,
           140
          ],
          [
           "it did give her a few hours and , hopefully , some time to relax , and most important tantalize , for both herself and jake . chapter twenty - two are you trying to fix this ? a truly wild chick ?\n",
           653,
           145
          ],
          [
           "` ` you remember how ? where is the midnight fish , doc ? ' ' oh , yes lad . ` ` night fish , never forgotten . ' ` where ' s the fish ? ' the doc asked after a while ;\n",
           654,
           122
          ],
          [
           "` ` you remember how jimmy carter talks about his teenage son jimmy ? ' ` just him . jimmy carter , 1915 - 1948 . ` ` i know that name from jimmy carter . ' the clouds overhead were a dull gray .\n",
           655,
           140
          ],
          [
           "i ' m making this album that would kick off a year later ( 2017 ) . main title reference . auperos stros ( called plex , πτερος ) dancing in the middle of the song .\n",
           656,
           147
          ],
          [
           "i ' m making this up baby . - leonard maltin however , stoffer uses \" kiss & tell , \" as well as a description of just how much ( from people ) they wanted and what they asked for .\n",
           657,
           139
          ],
          [
           "so youve heard of this , though , nor are you , that is , telling stories . ' ' speaks ancient tongue , aye , and speaks good scots ( french ) , y ' all have a great accent , too .\n",
           658,
           129
          ],
          [
           "so youve heard of sticking your head up in the bathroom ? \" she just smirked and whispered harshly . \" yeah , i was only eight when i held my head up . \" i immediately liked cole ' s drawl .\n",
           659,
           139
          ],
          [
           "` ` no . ' ` no . ' major william barr appeared from the front of the group , holding the infected man while the lrvn xandres bore down heavily on the dense jungle surrounding the warehouse city .\n",
           660,
           138
          ],
          [
           "` ` no . ] xi . [ a person stares out at the [ ocean ] the planets have created . ] xi . < > < > another person would see , for example , the [ ocean . ] xi .\n",
           661,
           113
          ],
          [
           "youve just earned yourself a scholarship . \" he waved it off then turned back to me and continued , \" ' i have decided what the grounds are for . many members have spent their summers at blount university . '\n",
           662,
           148
          ],
          [
           "youve just earned yourself something ! made us rich ! back then , we were living in a foreign country . it was oppressive . then you went on more ' adventures ' ... oh , yes , you paid well for it !\n",
           663,
           144
          ],
          [
           "so thin , in fact . i had just walked in and checked the second one with ares and arek . this creature is perfectly white , almost as perfectly white as an eye would turn out . it does look much better .\n",
           664,
           136
          ],
          [
           "so thin , in fact , he felt like \" never letting go of her . \" chapter five pretty much everyone fell out of the law in the near future and so far there was no need to be allowed to draw blood .\n",
           665,
           137
          ],
          [
           "sensing something terrible was about brewing in his mind - the mere mention of her given name - the tinch - infant nevertheless gave brief notice to and would assure him that her baby would be thought again upon him ( slowly ) .\n",
           666,
           155
          ],
          [
           "sensing something terrible was about her , she kept glancing around her , looking for witnesses and knowing their faces not because she thought they were strangers but because they were close , very close enough , to sometimes set her up in panic .\n",
           667,
           157
          ],
          [
           "and your dad will still take you back here . \" chapter one i guess a lot of my parents and even my cousins - my mom , dad , my dad , my uncles and cousins - are good at doing something different .\n",
           668,
           133
          ],
          [
           "and your dad will still write to you if you try to go back down there and tell you love and happiness and good times , \" luke says and i look over at the seat that luke and my father are sitting in .\n",
           669,
           133
          ],
          [
           "some of them are from romania , but his friends who commemorate his ' sacrifice ' give him every word of help they can . like so many other romanians or hungarians as the authorities have always said , he is buried there .\n",
           670,
           154
          ],
          [
           "some of them are from the long - awaited expansion pack for the pc932 ) and the standard versions : the nascent invader , devoured and unleashed and the invasion of the enemy , but there are no more .\n",
           671,
           141
          ],
          [
           "she looked the part of her that met his stare and felt the fury . that it took her forever to return to heaven and earth where dark - hunters lived , to protect him from whatever hell artemis had threatened to go to .\n",
           672,
           144
          ],
          [
           "she looked the part of a very beautiful mortal woman alone in this small mortal town , doing what his mortal father had done for so many other young mortal women , for so many mortal women and for those who ruled the land .\n",
           673,
           136
          ],
          [
           "i asked , knowing it really was a different town than it had been back home , and he breathed very good to me to tell me that most people from seattle took up residence in areas both to the west and the east .\n",
           674,
           146
          ],
          [
           "i asked , knowing it meant not giving up the right to walk . but even kids could walk . kids in woods , kids in cars driving along the landscape , kids with big pants pockets , kids walking with guns in hand .\n",
           675,
           135
          ],
          [
           "carter was already shaking his head as his \" new dream \" was revealed : the doorjamb of a pressure cooker ( oh my god ) , a cartoon banner behind , with one bust of vesuvius painted on .\n",
           676,
           141
          ],
          [
           "carter was already shaking his head . he was out there on the other side of the chesapeake bay with lieutenant carter and two other agents , watching the cnn tv broadcast . the weather reporter stood out , staring up at the camera .\n",
           677,
           150
          ],
          [
           "i could n ' t scream at my boyfriend to break up with that snotshit and he would do the same . that ' s all things that i ' ve kept hearing and hearing talk about . you better hurry .\n",
           678,
           128
          ],
          [
           "i could n ' t make myself remember that time you drove in papa dido ' s old man - truck . and one day , as i was saying , i ' m winding ' em up and penning them up .\n",
           679,
           123
          ],
          [
           "could all of the weirdness be artificial or artificial somehow ? the problem were , the cause of it on their delicate face was overwhelming , so nearly overwhelming , the element so vicious , like being snared , or drowned .\n",
           680,
           144
          ],
          [
           "could all of the weird people laugh and just say ' hey hey hey hey hey hey ' ? or have them making great conversations , and playing hot - tub games in air - raid training bins ? what could go wrong ?\n",
           681,
           139
          ],
          [
           "kadie nodded . \" but - \" abbie laughed once again . it was really funny . \" but my parents ... \" kadie smiled and opened the walk - in closet . once inside , daxton sat down .\n",
           682,
           129
          ],
          [
           "kadie nodded . his comforting presence - reassuringly , a little sadly - had given her such a knowing smile that now she was biting her bottom lip . he had said ; it is important to you to handle yourself .\n",
           683,
           149
          ],
          [
           "jake snorted . \" she might as well , anyway . \" she slammed into hard , rock - hard snow covered with ridiculous amounts of blood . people dressed as soldiers were right behind her , clawed hands holding her down .\n",
           684,
           150
          ],
          [
           "jake snorted . you are the king of kings ! \" \" no . but you also summoned me . \" she caught his hand and spoke every word , bruising roughening along her jaw line . \" ouch .\n",
           685,
           128
          ],
          [
           "` ` that you may not consciently and often irrationally ever again run for the presidency of sri lanka by the same chasm as the 21 march 1999 murder in malabo , where someone had stabbed mrs wilson .\n",
           686,
           146
          ],
          [
           "` ` that you may not feel , ' she said , then she gasped , and the gash came back full force . ` this cask may be off sometime today , ' she whispered , her eyes on kendrick kendrick .\n",
           687,
           128
          ],
          [
           "she didnt feel quite overexcited . not so much , though , now in her street - smart , corduroy , fitted pajamas , and mindful of getting out of bed to sneak out of the bathroom .\n",
           688,
           131
          ],
          [
           "she didnt feel quite well , and she knew it . they were both sleeping , and she wasnt disappointed , she just said \" do you remember that ? \" she tamped her concern down to a \" no . \"\n",
           689,
           133
          ],
          [
           "` ` you go wi ' that , man . ' ( ahhh ) ` you just get a few shot , there ' s no one except me , you tell ' em ! ' across the field , hooves thundered .\n",
           690,
           118
          ],
          [
           "` ` you go wi ' you mind , boy , i see a needle in your heart is like mine . ' the woman finished - and then sighed , ` uh - uh , . ` ` hello , is that you ?\n",
           691,
           119
          ],
          [
           "it took her a long time to realize that the line was taking her ten minutes away from the main base . she ' d felt such distress over the past few weeks that she only got the first flight out of the compound .\n",
           692,
           146
          ],
          [
           "it took her a long time to realize how bad the black market was feeling , being only worth three - hundred dollars for that kind of peddling scheme . james had returned to the restaurant , smoking pot , having a party .\n",
           693,
           153
          ],
          [
           "and you know it ' s my place . ravno felt his whole being waver , and with great creative force he cried even louder . what was left of him just cried out , one by one : ' listen .\n",
           694,
           136
          ],
          [
           "and you know it ' s as honest as you can be , love . honest and honest . \" now she found herself really unsure whether to believe him or not . it was dangerously confrontational even for a dark - hunter .\n",
           695,
           141
          ],
          [
           "excuse me . ( he said he gave me breakfast and i wanted another sandwich and brownies . ) jason then followed kevan out . * * jason sat making white tea for kate while staring at his leech .\n",
           696,
           137
          ],
          [
           "excuse me . these are the early episodes . ( see the early episodes below ) smallville ( 1981 ) stars and stripes ( uncredited ) ( 1982 ) wildlife garden ( a101 ) dele . dele .\n",
           697,
           123
          ],
          [
           "` ` can you sense the stress provided by bands out and about at this time ? besides , all dexterous remedies was going to mr . tubb , who assumed he was protecting somebody from his room , too .\n",
           698,
           140
          ],
          [
           "` ` can you sense something in the internal and the external world ? in truth our literary language means everything else you know . ` ` our literary language tells us everywhere that social happiness occurs very , very naturally , quite naturally .\n",
           699,
           154
          ],
          [
           "he shook his head as mavik glanced out of view , sensing someone of some sort . beside the girl was some gangly little boy , who was maybe very fair - haired , but also rather tall , his perfect specimen .\n",
           700,
           147
          ],
          [
           "he shook his head as though searching , but no sound finally left him . no , no , no . no voice . only dark shapes and shadows . he took it away . everything that mattered was searching for it ... again .\n",
           701,
           140
          ],
          [
           "come over here jackson . height was measured from 6 feet 14 inches to 6 feet 9 inches . workouts began at 7 : 00 pm . all - star game 21 - 21 , held at alexandria center , d . c .\n",
           702,
           137
          ],
          [
           "come over here jackson . everything looks the same as it was before but this time something is nicer to see . jackson follows his gaze and ends up peering into the windows . he feels like he loves his friend even more .\n",
           703,
           147
          ],
          [
           "he was older . katie had never seen him before . he looked like robert ' s father , and in the bright sunlight glinting as he talked , it was apparent that it was highly unlikely he even looked like him .\n",
           704,
           139
          ],
          [
           "he was older . and he had nearly killed my father . now , derek novak believed in this . not a human change any , for i was aware that both derek novak and julian novak were part of the red hand .\n",
           705,
           134
          ],
          [
           "or make belittling talk about me saying , ' yeah , something like that ' . the school was small , the walls worn out , the ceiling dirt and wires secured to the ceiling and water seeping onto the floor .\n",
           706,
           135
          ],
          [
           "or make belittling it as a true tragedy with no history of its own , as in a picture by wordsworth . peter staudinger states he was the father of ' romantic literature based on myth ' in literature ;\n",
           707,
           140
          ],
          [
           "the statue rider jerked its head up , out the window . and then back towards the canvas cover again . * * * the coaster rides were spectacular . each one had nss stickers outlining the gameplay to run underneath .\n",
           708,
           148
          ],
          [
           "the statue rider jerked its head back and disappeared into the crowd , twisting around in midair , counter - attacking for a few seconds more and then in silence . the others too kept their heads high , leaving only the statue .\n",
           709,
           154
          ],
          [
           "and lose out on all the beauty pageants and handshakes . and then i lose out on all the favorite sweet cookies and cookies and the favorite trees and the favorite cars . just like you want me to , mommy .\n",
           710,
           121
          ],
          [
           "and lose out on all of them ( before being attacked by them ) . the red wolf then transforms from his limited edition costume into a different tri - pack cutesy - looking superhero very similar to superman / dumbo .\n",
           711,
           151
          ],
          [
           "police were called to the north dakota highway patrol . riders and people ( 1986 ) : charles ray the last cowboy of the west ( movie ) ( 1985 ) : barry volkmann confronted sauger on a phone call ;\n",
           712,
           148
          ],
          [
           "police were called to the scene by a government official called \" puirni \" green , who gave some information on the incident ( ? ) . the oc premier of the green party , stephen harper , criticised the incident .\n",
           713,
           148
          ],
          [
           "` ` safe ? is a book by the austrian publicist klaus deletlo . kingo goes to family : the disorder of the mental disability , tells , a protagonist who loses money because he suffers from mental disorders .\n",
           714,
           147
          ],
          [
           "` ` safe ? ' ` but not every american state is safe because its security is poor . often an electric cable is driven in through a porthole , and then turned over , then lowered to the ground behind it .\n",
           715,
           143
          ],
          [
           "what are you talking about ? that is a question ... ( german ) ( american foreign language ) . hjvsio e karoj , hjvsio e shik in albanians ( standard albanian ) in albanian .\n",
           716,
           124
          ],
          [
           "what are you talking about ? > > > they were still making it . were they doing a uso ? > > \" and a very good one . \" ethan says the phrase , in the same fashion that nathan does .\n",
           717,
           126
          ],
          [
           "he spoke like a man now . \" your daughter is still alive , but in her own way , mr . scott , and a hundred things other things . \" this was followed by a clear , almost pleading voice in english .\n",
           718,
           140
          ],
          [
           "he spoke like a man , who moved with a quack and made a sound that resembled a growl . for newcomers who saw themselves for fear they saw a dragon , the dragon were a minion of \" commoners \" .\n",
           719,
           135
          ],
          [
           "i dont have a phone . jason : jason told me about vx - 4498b . without alerting one of the boarding parties , jason tossed up the stowaway skids with a tiny electrical pulse .\n",
           720,
           132
          ],
          [
           "i dont have a thing to say . jason , jason , jason , jason , jason , jason , jason , jason jason , jason , jason i havent heard so many talk words about jason and what his name is .\n",
           721,
           95
          ],
          [
           "i hid out in an enormous swimming pool because i was not up to drinking . i earned enough money to go ( \" to the mountains , \" \" sit with umbrellas in the hot sun , and sing the blues . \"\n",
           722,
           135
          ],
          [
           "i hid out in an italian hotel i barely remember seeing it . chapter twenty - five e . devore the whole atmosphere on the flight back was surreal . wallpaper around the airport said ' tomorrow we fly to rome ' .\n",
           723,
           148
          ],
          [
           "being blasted out of a car while taking off aircraft . crossing the danube trying to find a suitable location . dangerous dive ( being on fire while swimming in shallow waters ) . dead cables ( being inadvertently dropped on electrical cables ) .\n",
           724,
           163
          ],
          [
           "being blasted out of a window , never seeing anyone as extraordinary as a family , and all of the people crying at night in preparation to head back home ; watching the rain , knowing that the world was on the dark verge ;\n",
           725,
           151
          ],
          [
           "` ` of course . . . . . . . . . . . . . ' . followed by : la france des chromes et l ' ivoire sideme maizai . by veronique marcois .\n",
           726,
           99
          ],
          [
           "` ` of course . ' harry audley , mp ( died 1964 ) was particularly interested in the works of kenneth macmillan , 8th duke of macmillan [ died 1958 ] tutor in mathematics at dartington school was professor richard harris .\n",
           727,
           164
          ],
          [
           "right . . - ( 1853 ) - - the same story . ( 1853 ) - - ' s \" be with me \" when married . . hobson , widow , is the kind of man you seem .\n",
           728,
           111
          ],
          [
           "right . honor is the word of faith . 345 f . e . v . 5 . 474 f . e . v . 5 miniseries templar miniseries templar miniseries it will open in 2 . 5 billion years .\n",
           729,
           106
          ],
          [
           "the priest pointed to the observation balcony that overlooked the old private surgical facility to their right , where two patients sat below a table . at last frank had taken out his automatic gun and put it in the holster to protect himself .\n",
           730,
           165
          ],
          [
           "the priest pointed to the back that ended up holding a small wooden box with a cute slogan that said \" toh \" toh , sometimes ending with \" father , i really think he is giving me a hot dog \" .\n",
           731,
           138
          ],
          [
           "a guy who needed a response he knows so close to his heart of \" thank you ( god ) . \" along the way , he has also sung the lead single for the reality television shows american idol and wild in love !\n",
           732,
           143
          ],
          [
           "a guy who needed a whole shitload of adrenaline before intermission ? was he ever the dangerous , crazy guy the postons kept at all times engaged in mindless stunts where they could run over his cheeks to his eyes .\n",
           733,
           153
          ],
          [
           "shed gained her powers from campaigns against the habsburgs , who selected the emperors joseph ii ( the military commander ) and ferdinand grieg ( the commander of the territories south of the rhine valley where their forces were deployed ) ) .\n",
           734,
           163
          ],
          [
           "shed gained her powers from tossing up baby figures that enable her to do so . though she is later freed by ( el ) god , she is imprisoned by both king zara and black widow ( as \" ghost \" ) .\n",
           735,
           140
          ],
          [
           "` ` not long . - so , you seek heaven . is that aspect of heaven ? : makes the truth you seek ? - heaven ? ` ` i splashed my face with water in the mirror , and then i sighed .\n",
           736,
           127
          ],
          [
           "` ` not long . ' ` nice print on the glass . ' ` look right here . ' ` did you find notes in the young spirit ' s notebooks on what the next step is as a life changer ?\n",
           737,
           121
          ],
          [
           "renaissance could n ' t i ? \" \" can i help those of you ? \" no . \" what do you want ? to live alone on mount baldor ? \" \" just go through it and get it all out .\n",
           738,
           121
          ],
          [
           "renaissance could n ' t tell if you were expecting any trouble here . \" i said , \" thank you so much mom . tellin ' him hello and kickin ' his ass again . you gonna come over , adam ?\n",
           739,
           138
          ],
          [
           "ya man enough to break into my living room ... \" the puppies had sat quietly below , talking and snacking and rubbing their kickstands in groups . hot water ran down a large tin chute between the trees .\n",
           740,
           146
          ],
          [
           "ya man enough to break the damn pound faster than he can ? a vaseful of flowers gathered from a large pot of coffee turned over in the living area of the studio ; one bottle of beer found in a desk drawer .\n",
           741,
           146
          ],
          [
           "he has men on the ground . \" he flies out with half his army and twenty - five men at his disposal . the innocents must find a way out . \" be strong , grant . be strong . be ready .\n",
           742,
           127
          ],
          [
           "he has men on the stone pillar in the town and his youngest son , james . \" i half laughed . \" not chopping tarwood . although , believe me , i got the better idea somehow than what he said .\n",
           743,
           135
          ],
          [
           "` ` it ' s just approaching its climax ... ' ` ( illustrated by alan the lyricist ) ` ` ` but - still on the far side of humanity ... ` ` but it was just done under his own authority .\n",
           744,
           134
          ],
          [
           "` ` it ' s just like the other incident : i was dreaming . ` ` ' ' where is captain darlin ? ' ` there . ' ` he withdrew to a cave on its side at about 14 : 26 .\n",
           745,
           127
          ],
          [
           "` ` you have put the entire system under your control , and now the team shut them down . ` ` ` you have controlled the country for two years . the entire system is not finished yet - no restrictions on communications .\n",
           746,
           139
          ],
          [
           "` ` you have put great emphasis on the physical and mental manifestations of the then president . ' ` and if you have taken a picture of prime minister eisenhower , why not ? ' ` no , only at least temporarily .\n",
           747,
           150
          ],
          [
           "jeremiah came closer to her light blue t - shirt . his eyes burned with an intense black fire , darker this time ( very , very , very , very dark ) . he sat back and turned his gaze to shawna .\n",
           748,
           131
          ],
          [
           "jeremiah came closer to her , hunched over . bracing against the ray of flames , she held off as a shield . then he was gone . she had to tear the monsters out because with equal care they had been butchered .\n",
           749,
           144
          ],
          [
           "and what do you do such a thing ? \" he does not read round ( three science fiction novels ) round round round round ( seven novels ) , and so he is a \" snobby \" character in various books .\n",
           750,
           130
          ],
          [
           "and what do you do with them ? ' asks tony to me as he pulls me roughly towards him . ' after your arrest the emperor - the king - sent a messenger to tell you what i did with y ' all .\n",
           751,
           132
          ],
          [
           "` ` where ye been ? ye must sleep now . otherwise , ye must prepare , as always . ' instantly , there was a simile , followed by another smaller simile , with both sides holding up the other two .\n",
           752,
           136
          ],
          [
           "` ` where ye been from in the fall ? ' ` righty mid - er f . 5 t , a rope around the middle , a little sickle blade , the same journey we were on . ' a pause .\n",
           753,
           127
          ],
          [
           "` ` she ' s always gloating about breaking up groups . she denies most of us ailing patients with hiv or aids are from groups that break up ... ` that ' s what happened ... ` said the voice .\n",
           754,
           133
          ],
          [
           "` ` she ' s going to make it , remember ? ' ` blake nodded , and they disappeared into the alleyways . assuming the toll was well paid , he was checking to see how long he could back - drive .\n",
           755,
           141
          ],
          [
           "bethanne stared at max . really , she should listen to her mother screaming , maybe talk to bethanne marantz , help her clear his name . maybe get to know about her own sister . about her own max .\n",
           756,
           133
          ],
          [
           "bethanne stared at max , wondering if he had remembered the business trip from eclipse bay - which meant his job at home . the vampire had kissed her on the cheek before continuing in his normal businesslike manner and easy smile .\n",
           757,
           158
          ],
          [
           "she gave him a challenging glance , as frightened and terrified now as a young woman , but not as defiant as dani . the night was too low in the sky to tell if glimpses moved by . dani ... dani groaned .\n",
           758,
           140
          ],
          [
           "she gave him a challenging look and hugged him again . oh , so happily . synopsis from the philippines . to boys , boys , boy , boys , i love you . i will look on you again today . bye .\n",
           759,
           126
          ],
          [
           "` ` yes , but then iwould give something to you . \" after the older man had worked on a boxing team with the manager , he now had a \" not - so - friendly \" relative in bradano .\n",
           760,
           131
          ],
          [
           "` ` yes , but ` ` so the images from the higher - quality timelines of the twenties and thirties were not simply scanned using artificial skin and were put in wide orbits , since the usual snapshots were taken .\n",
           761,
           145
          ],
          [
           "he knew he was supposed to not think of the demilords as like other demi - gods , but who was beneath him ? this stranger was so twisted up his sleeve he barely uttered a word for ' arch enemy ' .\n",
           762,
           141
          ],
          [
           "he knew he was supposed to never let her down - not yet - but now he began to weave his way , and more slowly , across the sawdust into the small - looking debriss of the single dining room table .\n",
           763,
           136
          ],
          [
           "* * * ` ` | | | | | | | | | | | | | | | ovides x perimedes | | | | | | | | | | | | | | | | | |\n",
           764,
           39
          ],
          [
           "* * * ` ` stars in the sky . ' * * the night was quiet , though . they were in town already , but if they counted at all - what to say . taking a deep breath , finding courage .\n",
           765,
           130
          ],
          [
           "` ` yes , ' said mrs . president , ' rose said . rommel shook her head and said , to maryann and paul , ` no , this great beach house is about two times more nice than you think .\n",
           766,
           130
          ],
          [
           "` ` yes , ' the final ' , ' ' ' ' final ' and ' ' ' final ' ' ... ' after that he hesitated . ` i had not heard of him so i would have contacted him if possible .\n",
           767,
           114
          ],
          [
           "her teeth were chattering shrilly . ( she barely had to take a moment to speak ) as she looked around the floor as tourists took up most of the great expanse of upper floors and hit at everyone for anything sinister .\n",
           768,
           147
          ],
          [
           "her teeth were chattering , and she could not know how to say anything else at all . except the indecency of the candlelight and the large round , green and pink flowers spreading in a circle around the flowers .\n",
           769,
           142
          ],
          [
           "he was so hot that words i barely caught spoke . how could he ever really hate me for not being able to mend it ? i had revealed so much about my own ever - present strength that it had just disappeared .\n",
           770,
           145
          ],
          [
           "he was so hot that maybe he needs to finally believe he can have her for almost a year . but i know the whole truth about that . there is something very wrong with jeff and lisa who are havin ' kids .\n",
           771,
           141
          ],
          [
           "castus nodded and turned as he let himself out of the tunnel and onto a rotund oak that anyone peering through the dark shadows could see as a large number of warriors shared their missions against the peace - maker or emperor .\n",
           772,
           153
          ],
          [
           "castus nodded and turned . \" every bridge , \" a woman cried , \" run ! run ! \" thousands of morin and a few others could move , but thousands of morin were planning on running for every bridge .\n",
           773,
           128
          ],
          [
           "it took cinder a moment before her mother had done it again . roy thomas ( his tenth - - and now oldest - - - - grandchild , if not the grandsons ) just had a hell of a way out .\n",
           774,
           131
          ],
          [
           "it took cinder a moment not to notice . it held jobs in finance and marketing . e - credit card transfer machines . request processing machines . back row benches for use by high school students of all ages . debit machines .\n",
           775,
           151
          ],
          [
           "raas said , ` \" popper said he could [ do ] \" and that \" flo eckert , kenny loggins , ben folds four and rock hudson were there , and he wanted them with him \" .\n",
           776,
           124
          ],
          [
           "raas said , ` stop ` go on the right . you will see mass of freight cars . on the right . shut the other one . \" within seconds the tunnel doors open and a guard walked into the tunnel entrance .\n",
           777,
           129
          ],
          [
           "she squeaked , blinking self - consciously within earshot of him ( valeri was wrong about those indispositions , ) but they were as little words valeri had : * valeri , king of the ) ?\n",
           778,
           136
          ],
          [
           "she squeaked , blinking back her own glow as it went out and the world outside returned to normal . up ahead she heard the ( familiar ) sounds of battle . ~ ~ ~ ~ \" ' m the name for it .\n",
           779,
           138
          ],
          [
           "you will not be disappointed today . daughter of darkness , mother of light , a starslayer , put your hands on my ears - my strong , cold ear , son - lift my arms , lady polgara , and touch me .\n",
           780,
           138
          ],
          [
           "you will not be disappointed tonight . \" as he kissed her red , bloodied face , she grew more sensitive to his caress . the night of my worst nightmare , dearest . this is the night of my worst nightmare .\n",
           781,
           129
          ],
          [
           "the file in lexi ' s sixth - generation unicompon suite contains four characters . the xtp file contains characters denoted \" [UNK] \" [UNK] , \" [UNK] \" \" [UNK] \" and \" [UNK] \" , both marked [UNK] .\n",
           782,
           129
          ],
          [
           "the file in lexi ' s folkways . brill paperback . september 2009 . \" dave bishop : vol . 1 \" pemberton folkways - dave bishop ( vocals , banjo ) ; kristian flynn ( percussion ) ;\n",
           783,
           134
          ],
          [
           "i was seen by only a few hundred other athletes , but i suffered more than half my points . a . . part a . the book contains the following lists of events ( written in latin ) . ( full text ) .\n",
           784,
           141
          ],
          [
           "i was seen by only twelve saplings , just barely reaching as much as a couple of feet , but i was now quickly glancing at the green before i was able to make contact directly with any of them on the ground .\n",
           785,
           144
          ],
          [
           "` ` before long the marshals are in town , along the street going to and from town , where they cannot hide . so , i hear the train . shaft and shaft shows the driver the way to the railway station .\n",
           786,
           130
          ],
          [
           "` ` before long the men had left and somehow mohamed , the leader of the ltte leaders , received the verdict . arulikkadalam is an old forest , with a history that explains the origin of its name .\n",
           787,
           140
          ],
          [
           "or arrested . dance coach john randall in the proms . dance coach with john randall , \" halfclops \" in the proms . student literature , \" stirs up right or failed , \" or arrested .\n",
           788,
           110
          ],
          [
           "or arrested . if you let anyone ever tell you what the leaders wanted , you change their minds , and you face judgment . \" \" sir clement martin and his wife , harriet , were the heirs to their throne .\n",
           789,
           136
          ],
          [
           "maybe that was true , maybe it was anger , maybe it was intense loathing . maybe the strength had returned to her . x x x a large piece of cloth was neatly wrapped around the long , burnished spell wand .\n",
           790,
           135
          ],
          [
           "maybe that was true , but it was . she thought about emily and sarah , about chris and john and james , and sarah , and her love for the man and the girl in the train and the horror that could follow .\n",
           791,
           128
          ],
          [
           "he glanced down at the daily schedule . companies dismissed longshoremen from their jobs and no complaint had been filed regarding these picketings ( rule 68 was implemented july 18 , 2009 ) , but the conversations in person were brief .\n",
           792,
           172
          ],
          [
           "he glanced down at the sheet , and sighed .¤¤¤¤ next to him , was a clothes - line . it had been stripped - off , and supposedly had been re - tacked before the first christmas celebrations .\n",
           793,
           142
          ],
          [
           "he smiled at her , she grinned back . okay , related to his accounting problems . he had all of her . all of her , and there was no doubt about that . he wanted her before - the elevator doors opened .\n",
           794,
           139
          ],
          [
           "he smiled at her , before drawing kurik into a warm embrace and saying , ' thank you , and i shall never return . from the partially open door , sparhawk saw sparhawk gloating and coming up after kring .\n",
           795,
           142
          ],
          [
           "he howled like one of the biggest assholes who ever walked alive . when he was a little boy , his mother told him to wear gray jeans over a black and white shirt , dating to the early twenty - first century .\n",
           796,
           147
          ],
          [
           "he howled like one of the wild dogs as he passed . it had already gone dark , but none of the lights reached him , and now he lay locked in a heap on the ground , partially obscured by the dim darkness .\n",
           797,
           141
          ],
          [
           "he appeared to grow smaller , yet still tiny somehow , strangely amused by the crimson glow . the work they had done placed this human in an exceptional state of condition , and more than that for mark knew about the whole team .\n",
           798,
           157
          ],
          [
           "he appeared to grow smaller and dig the compartment deeper . while friendly and endearing - the polar opposite of most men - the issue was him other than private jeans and an old pair . he was always my most important man .\n",
           799,
           149
          ],
          [
           "i was still complaining , though , about the cobbles : after we had finished supper , i am not quite certain i would live . thankfully he sent aunt anne after him , and we continued on , with kitchen and supper .\n",
           800,
           150
          ],
          [
           "i was still complaining , so actually what i was thinking was i would go and visit mr . carter the next day . ( these days he is very nice , that is . ) when i came back we stood in silence .\n",
           801,
           136
          ],
          [
           "something was n ' t right with this particular picture of jackie chan . it was about a year from the start of the story . i could show people that photo , but the picture was long gone . it never came back .\n",
           802,
           144
          ],
          [
           "something was n ' t that he had seen before , it was just a ... a nightmare . the crazy mum and dad and the kid , the birthday parties , the books , and the many failed lab experiments with that stuff .\n",
           803,
           141
          ],
          [
           "she said under her breath about the weather that caused the large windows and shutters in the upstairs dining room and the outbuildings to sink down through the earth . she had also made the world laugh about other lightning storms .\n",
           804,
           149
          ],
          [
           "she said under her breath . \" and . and and . and . and and . and . and and . and and . and . and . \" ok , forget any crap from amelia , she was usually up to something .\n",
           805,
           105
          ],
          [
           "` ` yeah . ' says k . he winks . his expression tells me that k is still outside and the dog is back . ( 6 ) the man is resting on the porch , milking the three cows .\n",
           806,
           125
          ],
          [
           "` ` yeah . ' 1965 the muses . in her own words , by richard feynman , \" the witches . \" \" linley gibson . the petrified trees . paris , france . un est cinema .\n",
           807,
           127
          ],
          [
           "before i can ask , the final one sounds just a bit more like the repeated cadences of the first part - so as the author has said , since 1617 ; more so since 1674 . ? ? ? ? ?\n",
           808,
           127
          ],
          [
           "before i can ask , he tersically out my door , an a * * hole step into a vile , and cruel world over me , in for this for a short while instead of being lifted up by bambi .\n",
           809,
           128
          ],
          [
           "he asked me to accompany him to a bar in virginia beach , where we both had cocktails , and i readily agreed . all around us were people , long - haired blonds and guys , women and bloodchemps .\n",
           810,
           138
          ],
          [
           "he asked me to accompany him . some we like , as much as i want to feed you . \" \" would you be gracious , sir charles ? \" well , then , he had averted the trouble , even .\n",
           811,
           129
          ],
          [
           "with that swell we healed us and all the humans and provided them with food and other supplies . the humans were then provided with divine assistance to help with our recovering from the attacks and to reinstate us for our onward retreat .\n",
           812,
           148
          ],
          [
           "with that swell we healed our cell lines for the purpose of starting a mechanical cycle . when the mechanical cycle began and used the same running system that ran it we found a way to cycle and react accordingly at the same time .\n",
           813,
           148
          ],
          [
           "` ` it ' s true . i messaged someone . ' she smiled , ` there are no hotel rooms anywhere around here . ' ` this place has a strange feeling , this feeling of belonging . except for the hotel .\n",
           814,
           130
          ],
          [
           "` ` it ' s you , my dear god ? ! ' a moment after teri had just finished terraforming properly , nate realized he had the answer . she walked quickly across the room , hovering next to him .\n",
           815,
           144
          ],
          [
           "i suppose . . . \" \" call me . \" my body wanted whatever calories sedatives it could get , so what was the bank information summary of information based on the address of the street where i lived ?\n",
           816,
           136
          ],
          [
           "i suppose . . . . . ( hugh j . pitts ) . . . . . and there were many trees and grass . . . . incidentally , we have 14 heaven and 13 earth . . . . .\n",
           817,
           106
          ],
          [
           "she jumped backward , kinetic from her left arm and down her left leg , barely making it out of the trapdoor , when she had to dodge a huge slug about an equal size from humans and reptiles trying to stop her .\n",
           818,
           148
          ],
          [
           "she jumped backward , kinetic [ ing ] on an oxbow flock of 2 to 3 - ton stingrays \" with \" bulging hips \" and grabbed a plastic crane and the mooring hoses on her own floating frame .\n",
           819,
           139
          ],
          [
           "jewish soldiers . eugenio vazquez , general in the spanish army , accompanied by several bronzes , one of which the best - known bronze ( jewish commandment ) , is currently on display in the british museum .\n",
           820,
           148
          ],
          [
           "jewish soldiers . triple album . bloodcrusher ! ! ( ep ) ( 2010 ) . two fighters , seven rogues , seven gates , two delisle riders , seven stone limbs . life with children .\n",
           821,
           128
          ],
          [
           "his eyes opened . a lightning - struck blast connected with his leg on the side of the skates , burning down toward the road . down a side street , buildings and cars and people fell out of the skates .\n",
           822,
           133
          ],
          [
           "his eyes opened . he wept hard again . the sadness that had drained out of him disappeared . the light that had appeared in bloodnotes . com ( my name is frida ) chapter six i stopped breathing and turned .\n",
           823,
           141
          ],
          [
           "' did you want a little more light ? ! ' ' aye , this is true , ninian dor , much more light . ' * the golden swing of night ' s lanterns cast puzzling shadows round my eyes .\n",
           824,
           131
          ],
          [
           "' did you want a chopper company to pick you up ? ' the whole bay window opened , lighting the room . ' back at john henry ' s ? ' cried a voice from across the office . i saw john henry .\n",
           825,
           134
          ],
          [
           "im so embarrassed , she was jah - jah roundhead , yes as such , and a perfectly bright jewish girl and a jewish boy got themselves a hand - in - pity kiss just like that , and . . .\n",
           826,
           129
          ],
          [
           "im so embarrassed , she announced after a few seconds . thank you . kendra looked up at grandma sorenson and raised her hand . two more seconds passed before a drop of syrupy green shot up over the current farther away .\n",
           827,
           150
          ],
          [
           "the room explodes with chattering while trevor and three other teens mase , nash , and brax fumble for their car keys . and then i figure the last thing to do is rescue trevor and keep playing his part out .\n",
           828,
           143
          ],
          [
           "the room explodes with chatter , shockwaves and assorted projectiles and , as they do so , stewie is getting really happy with stew . they chase after stewie ok , thinking he is being followed by caleb .\n",
           829,
           139
          ],
          [
           "to see her lying here on the edge of some weird heat going down , some weird heat that would be better now ( and be out of the house ? ) than her watch , hooch , purse , and coffee pot .\n",
           830,
           127
          ],
          [
           "to see her lying here , in the field , the filthy guard said . stadt zu verer gespsichten ( in german ... ) philissin gli affini a venezia .\n",
           831,
           110
          ],
          [
           "so maybe i thought ignoring would do something to her head . me : ( it just keeps snapping at me . ) julie : yup thank you - thank you ! julie : i thought that was it . kate and kate .\n",
           832,
           129
          ],
          [
           "so maybe i thought ignoring his call two hours ago was either right or wrong . sometimes it seems like a bad idea or somethin ' , but i believe him . the manager has done it accepting calls from her friends with us .\n",
           833,
           149
          ],
          [
           "` ` i ' m waiting in the parking lot , sir . ` rumoured american aerospaceism was completely out of fashion for almost two years . the situation was relaxed : astronautics started moving in and out of the country .\n",
           834,
           151
          ],
          [
           "` ` i ' m an expert on glacis cancer that destroys pus and maggots in washington ' s best health care system consume . early in the year the filmmakers replaced men ' s soul with new drugs .\n",
           835,
           139
          ],
          [
           "i mean , sometimes i ' m not a good citizen , \" she answered . so how about the front door is my best guess ? how much father got cocky and told me i was just a little better than the others ?\n",
           836,
           141
          ],
          [
           "i mean , sometimes i just go to drink with him - between drinks , and we end up getting a text or another text in one day - being lost and insecure at the last second , and even now crying ' .\n",
           837,
           133
          ],
          [
           "he misses you already . all is well . her brothers called out again , but the hag ignored them . he knew exactly what they did . he hated to have his old team play gog with a woman he wanted .\n",
           838,
           132
          ],
          [
           "he misses you already . he likes to throw parties as well , and go out to parties too , and to spend time with many people , just like he has with so many people because of his shapely man - frame .\n",
           839,
           132
          ],
          [
           "her gaze flicked a fraction , and without warning , she was left inside ... in a small bathroom . a folding table hung from a leather comforter . a woman could stand on the toilet , alone and na * * d .\n",
           840,
           143
          ],
          [
           "her gaze flicked a fraction lower . her eyes went dark and mulled into deeper slumber . but here it was . deeper and more secrets foreseen by the person who still bothered her . she did detest it .\n",
           841,
           137
          ],
          [
           "` ` just . . . . . \" > ; \" . . . . . . ` . . ] . . . . i get [ from my mother ] ` ` . . . . . . . . . .\n",
           842,
           63
          ],
          [
           "` ` just . . ' ` kind of - sound - of - the - - thing - about - here - just - come - home - once - in - your - own - time , yes ? ' ` yes .\n",
           843,
           102
          ],
          [
           "` ` i ' m here to explain to one of you some very interesting things . ` ` f [ n ] words are called ojfri but any other word must ( in fact ) have the same general meaning .\n",
           844,
           133
          ],
          [
           "` ` i ' m sorry , my lady . all those squawky ... ooh , his eyes are old and tired , son . they once did , but i never get over that one . he needs me .\n",
           845,
           117
          ],
          [
           "` ` what ' s wrong ? ' even teenage hikers and lonely gardeners who lounged outside , denying themselves of one thing , were in the habit of asking if anyone wanted to find the answer on their best efforts .\n",
           846,
           145
          ],
          [
           "` ` what ' s wrong , niles ? ` niles andrews is standing in front . she is wearing a shirt , ruffled out by the jefferson davis chapel , and she represents our friendship with north carolina . why ?\n",
           847,
           143
          ],
          [
           "pam cleared her throat . unfortunately , both chabrol and the black lord were drawing considerably closer , along with the wild harpy . the blond horseman had enhanced vision , but only in the far corner of the courtyard .\n",
           848,
           154
          ],
          [
           "pam cleared her throat . \" - - what company am i in ? \" wall street journal ( 1987 ) . \" \" self - destruction in the candlelight \" ( magazine ) . long beach , california ( march 1987 ) .\n",
           849,
           142
          ],
          [
           "because this novel has many interesting story elements , an emphasis was placed on a feature entirely unrelated to the regular narrative , making an analogy between the context of the readers ' emphasised narrative and the relationship between the protagonist and narrative .\n",
           850,
           169
          ],
          [
           "because this novel has many themes , \" vengeance \" lets the reader consider their social matters first . other internal story progressions over a number of issues , include the addition of several search and rescue missions , and many new characters .\n",
           851,
           164
          ],
          [
           "her voice cracked . \" which floor are they on ? < > < > alexis took another step , past seamus and tegan and the others . she pushed brittany and kelsey down the stairs , onto yanni and cara .\n",
           852,
           138
          ],
          [
           "her voice cracked . he thought to himself . my god ! my god ! he thought again and peer out the window , to see if the oncoming traffic disorientates anyone aware what they are going back toward !\n",
           853,
           133
          ],
          [
           "r ipred called after them in welsh as \" men against dragons \" and put on \" high - mountain riders with dragons ! ! \" the high - mountain riders responded with a shout of \" scorn ! ! ! \" .\n",
           854,
           123
          ],
          [
           "r ipred called after , in ( example 931 ) the common thread , woven by b . whigham , is after , but after a \" little knot in the woods \" , viz . , a small bear knot .\n",
           855,
           129
          ],
          [
           "asked dale . \" uh ... really ? \" karen answered happily . then there was the compromise compromise , plain and simple ! which meant that mr . grant , her one and only husband , found her just in time .\n",
           856,
           141
          ],
          [
           "asked dale . \" stop being pushy , baby . \" i cursed myself , that nothing but drugs could put an \" i \" on what we had - whatever relationship that was , regardless of what it was worth .\n",
           857,
           131
          ],
          [
           "ash rarely spoke about his own mother - not just the story of jaenelle of hearthstone , here , the countess of chilvers , entranced where the gloriously sweet nectar of her flowers lingered in the crisp air conditioning .\n",
           858,
           149
          ],
          [
           "ash rarely spoke about his farm , but he did have conversations with a last year ophelia review student named ash smith . the conversation was usually quiet and the older man talked about his vision of the first summer labor strike .\n",
           859,
           155
          ],
          [
           "her nose wrinkled as the cloth peeled away , and his mouthful of caramel anise carried by his blood . james michael dewalt , aka kavalt , ( born 1974 ) is a computer programmer and martial artist .\n",
           860,
           147
          ],
          [
           "her nose wrinkled as the words emerged . \" she had to - - let ' s go in , then - - she was working on them . \" and - - wyrn added , soothing voice - - shut up .\n",
           861,
           118
          ],
          [
           "i never imagined that leven was so special , that he was saving me two lives - enough to help keep me fresh at night , and just giving me a glimpse of the head of the mountain he carried home with him .\n",
           862,
           138
          ],
          [
           "i never imagined that levenson was the saint , but he has always believed it was you , ralph . only you so long as he has \" been a fanatic \" for running this clinic . ralphie , mary .\n",
           863,
           128
          ],
          [
           "` ` but we are talking very much , grudgingly . ` ' one of his ... big boy ' s whenever i asked yes , his other one when i asked nothing at all . we talk often now and then .\n",
           864,
           126
          ],
          [
           "` ` but we are far from light . maybe the fire has finally been extinguished and drusilla di tofano will starve . ' ` whenever the fiery quarrels began , his words irked her , too .\n",
           865,
           135
          ],
          [
           "whitley and my mother both have called me a beautiful girl and on occasion , a handsome boy . i just knew it . are you feeling all right , matt ? just being the last person of your life was just the beginning .\n",
           866,
           146
          ],
          [
           "whitley and my mother both were lucky though , ages five and sixteen , to miss most sports ( for boys , girls and boys ) , especially swimming ( boys ' sports ) . well , there was swimming ( for boys ) .\n",
           867,
           138
          ],
          [
           "` ` do you think perhaps an appropriate name lautoka beach ? ` ` it was mentioned on 11 june 2008 in the documentary presented by topsy on the beach which was his only visit because of the high pressure conditions .\n",
           868,
           156
          ],
          [
           "` ` do you think ... ? ` ' someone i know , one of the few people i know called jimmy smith , ( gangster ) ( juvenile ) , mike smith , ( juvenile , murder ; fourth attempt , murder ) .\n",
           869,
           129
          ],
          [
           "he reached out to remove the \" risk system \" . 2016 . \" controlling risks \" conferred by the danish academy of sciences . brodow , peter . the u . s . columbia river through history : and its supremacy .\n",
           870,
           151
          ],
          [
           "he reached out to remove his helmet , and his vigilance changed . if they wanted a helmet , he knew he would use it today . feeling as if he was being dominated in the temple by people made him uneasy .\n",
           871,
           138
          ],
          [
           "dude , totally not worth listening to , but unfortunately the [ original ] scene from blade runner ( 2001 ) aired ( after the reprise of designing women ) the following day , and we were interrupted before even watching our first episode .\n",
           872,
           172
          ],
          [
           "dude , totally not worth talking gangsta but you like everything that happens to a guy ( guitars / bass / drums ) , that you see far beyond the god of creation - that you are going over like a brainiac .\n",
           873,
           144
          ],
          [
           "they deposited her inside , and waited until the doors were closed . someone was sending messages to her from somewhere inside the tube and could get them out at any time . the secret is under ' secure ' means \" protected \" .\n",
           874,
           153
          ],
          [
           "they deposited her inside , put her on the ground , and susan felt confident of her position , of her own aim , of her latent agility . it occurred to her that susan would have to think about that now .\n",
           875,
           135
          ],
          [
           "i just might . and probably in a few days . but who knows ? ~ ~ ~ ~ i sit down on my snowmobile , adjusting my backpack . sorry , sheesh , how did my backpack get so big ?\n",
           876,
           128
          ],
          [
           "i just might . \" more and more she thought about what mary , cindy and henry were saying . she remembered cindy and pulled out the scrap of paper in her 15 penny scrapbook that she was still trying to picture .\n",
           877,
           146
          ],
          [
           "and deal ? \" \" i agree with daniel . you are going to be awake , too . people awake , for a long time . wonder how you can even live with your ship dying , or your ship exploding .\n",
           878,
           126
          ],
          [
           "and deal ? . in 1969 , the dublin evening star ' s cover story stated : if they are all sinn fein soldiers then if ' the people ' do not stop shooting at the people then we let them live .\n",
           879,
           135
          ],
          [
           "we ' ll tell him what the future holds for us . on the other hand , though , i want danica to see in my eyes what i saw that day in the eyes of my former self : destined for existence .\n",
           880,
           133
          ],
          [
           "we ' ll tell him . ' ' ' how much ? ' ' to tell the \" wenches \" ran away with norx when \" they \" ran off for the northern horizon . ' ' mourners , then .\n",
           881,
           114
          ],
          [
           "inhale . breathe . \" when she had only began talking like this three dearest friends she had children she had always loved , and again she found herself being surprised at how lucky she felt for someone so important .\n",
           882,
           147
          ],
          [
           "inhale . no . 4348 squadron raf , which became no 4451 squadron . flight lieutenant hanis al - ahmed . served in world war i . flight - lieutenant ( c . ) frederick whelan .\n",
           883,
           128
          ],
          [
           "even worse , if she had stayed 18 months away all this time , he tried hard to be as completely wrapped in her heart filled love as possible and then he was caught up in miseries only never to see her again .\n",
           884,
           148
          ],
          [
           "even worse , if she too was present at the graduation party , with all your friends and family present , the nimrod woman was involved with these men , the man who had saddened your mother by keeping her secret .\n",
           885,
           144
          ],
          [
           "immortals usually progressed five times when he was looking at , uh , a key - ring , and , well , i figure an initial sudden - death check could put him into one category of undead things if he was already dead .\n",
           886,
           150
          ],
          [
           "immortals usually progressed five times ( see index 20 , index 28 ) and are generally accepted within the field of medicine . under the influence of magic , the body still has up to three puncture wounds that can easily collapse themselves .\n",
           887,
           171
          ],
          [
           "its pertinent , namely , which humans alone shall rule - - namely , which people shall rule . ' much as those templars had questioned arnel and joan - - they were skimming what was known as god .\n",
           888,
           134
          ],
          [
           "its pertinent , sudden , overwhelming horror made her mouth go dry from fear . the prince was still , strained against his bonds , but the rage she saw in his eyes , as if he saw nothing , felt nothing .\n",
           889,
           140
          ],
          [
           "he looks at the old windows again and taps one to indicate new tarps , eyebrows smarting , scratchy window up as he says , \" stop hollering . you speak italian , with a thick english accent . \"\n",
           890,
           137
          ],
          [
           "he looks at the old christmas photo . a picture of his mom and his sister , sitting in their cabins . he stares at the same picture until he places it against the wall . then he reads - without flinching away .\n",
           891,
           141
          ],
          [
           "he reached for his pipe . the glow from the fire glowed like a bright supernova , even from up in the air . the liquid molecules seemed to mirror the light , mix together and crystallize all over the place .\n",
           892,
           141
          ],
          [
           "he reached for his pipe . he replaced it in a deep puff when it had burned . he put the pipe back and watched as a large figure resembling a giant cat filled the glow talking like a pippin in the dark .\n",
           893,
           138
          ],
          [
           "the pain is real . \" brent must have been a little ' twin ' ( candice bremner ) because he has four tiny girls , one girl named jane , and two friends named cassie , and one named natalie .\n",
           894,
           134
          ],
          [
           "the pain is real . sometimes , she is startled by the sound of hound after hound not having been fed . but not now , only the sound of the screaming animal . not now . she looks out the kitchen window again .\n",
           895,
           135
          ],
          [
           "we left our backpacks full of brown broth , heading home to reproached soldiers , walking away with nothing to stop us . and then the slaughter . the scarier part was how a million people killed us .\n",
           896,
           139
          ],
          [
           "we left our backpacks with him . trent bum - stepped me , dizzy , and i draped an arm over his shoulders , and i waited , breathing quietly , tugging the edge off and wrapping it in a perfect fluffy blanket .\n",
           897,
           147
          ],
          [
           "i was struck dumb for letting my girl know she had not liked the adam and adam growing between her lips . but the truth was , if she had not been completely focused on the sex , then something new was opening up .\n",
           898,
           143
          ],
          [
           "i was struck dumb for sticking my head ( or two ) on the streets of london on the third or fourth day of mass in the chapel of st thomas more ' s , i once less lamented my menial days .\n",
           899,
           132
          ],
          [
           "today i want to give you a pregnancy test . i am not pregnant . why ? \" ( false pregnancy ? ) \" how to stay happy is simple . why ? \" ( true pregnancy ? ) ) my answer is no .\n",
           900,
           117
          ],
          [
           "today i want to give you photographs and i ' ve brought you one . \" \" good deal . \" \" i will . \" with my job coming at me hot and hard , i made my way toward the church altar .\n",
           901,
           129
          ],
          [
           "he nodded and pulled her flush against his chest until all the anxiety and anger quickly faded away . when the deluded sherridan entered , relief washed their faces . they looked shaken , and their eyes shined brilliantly .\n",
           902,
           148
          ],
          [
           "he nodded and pulled her even closer . because it was so much - too much , just like that . she had tasted him before , and she had just one more taste . \" yes , i smelled it on you . \"\n",
           903,
           127
          ],
          [
           "a corporation gets a skylights 3 - d with a sign says \" go on go on ... \" and everyone goes to it . cortland goes , cortland , corticulary , oh goodness , tad !\n",
           904,
           116
          ],
          [
           "a corporation gets a sky blue hat ; a couple get a sky blue shirt , so they can wear it . a movie called elmer fudd ' s bulleye is showing when he is sober , so the police banned him .\n",
           905,
           131
          ],
          [
           "none of it made sense . joe doughty : - - ( bbc original programme ) , introduction tom sheahan : - ( 1982 ) brigadier - general richard hickson : commander and quartermaster of the newly raised british eighth division .\n",
           906,
           162
          ],
          [
           "none of it made sense , though . my father walks away and has loomed large beside me , loomed over me , and has blinded me . he demands my leave , and i sink in what mother will do when i do .\n",
           907,
           130
          ],
          [
           "i pulled out my cell . i lowered my phone without looking . the man calling me by name had , unfortunately , come back without needing to call janie . i hated the thought of falling over in the middle of something .\n",
           908,
           143
          ],
          [
           "i pulled out my cell to call ari when i heard she was still in town . she said as she gave me a strange look . i began to really smile , knowing this sounded like i had a friend on my side .\n",
           909,
           136
          ],
          [
           "i had broken things off with greyson and lewis , and cast them in a special starring ormsby and moore in which they are about to turn to jail after turning into a full - blown criminal , adult and young .\n",
           910,
           142
          ],
          [
           "i had broken things off as far as he was concerned . and , apparently , he realized how scared i truly was of a girl all at once . waldo ... waldo ... waldo ... the overhead lights from outside soundlessly clicked .\n",
           911,
           144
          ],
          [
           "then he himself had blazed it . my most crucial personal responsibility would be to find - and destroy - the future . i was afraid of the pressure - this interpersonal finality and the exhaustion of experience . not so hard .\n",
           912,
           153
          ],
          [
           "then he himself had blazed . further on , attached to this great roast were the only putrid green leaves . his fire burned in the dim light , but there were still many pieces of wood , claudine noted , .\n",
           913,
           141
          ],
          [
           "just try something small that way . and then there is fast cars and dumb cars all the time , but she will not get down to business . sunshine bites at her lip and begins growling , but it finally reaches her ears .\n",
           914,
           145
          ],
          [
           "just try something small that he finds , anything he can find by looking at you and telling him you were hearing from him , that charles , like berenice , maxine , is the one whose eyes are on him .\n",
           915,
           133
          ],
          [
           "fato hissed to himself \" it is oaka here who has failed to bring you back . \" he needed to really contemplate that now . soon , the emplacement consisted of him and a dozen soldiers .\n",
           916,
           131
          ],
          [
           "fato hissed to himself . he spoke in a calm even tone . when it was summer , it was always noon . they , too , were common in keeping their homes to themselves . suddenly , the temperature was fully up .\n",
           917,
           141
          ],
          [
           "` ` hey , what just happened ? ' she said . ` where was she ? ' ` no one . ' j . d . walquist said . ` john . . ' ` ' . . . ' john nodded .\n",
           918,
           105
          ],
          [
           "` ` hey , what do you know about warming foods ? ' asked dr . deliswald . ' it is a unique chemical , characteristic of the atmosphere . ` ` warming food , ' said nathan , and looked around .\n",
           919,
           141
          ],
          [
           "both nodded . they arrived in autumn 1937 . campbell , bedlam , januarybanks . i wanted to leave the halifax with v fraser , so i could eat and sleep , frank . but things sometimes get weird .\n",
           920,
           147
          ],
          [
           "both nodded . \" like yours , metal is the only possible way to have some of one ' s memory ; my favorite tales about the early church fathers are in print . \" \" indeed , \" said william firmly .\n",
           921,
           144
          ],
          [
           "which part ? and if not for me , then why was it not working ? well , it does , but usually the bleeding just stops , and usually the ramifications wait , so that ' s the message .\n",
           922,
           131
          ],
          [
           "which part ? after that , where to put - what - in . after that , what to do . so far , he knew by heart how many different ways . he looked out of the window of the cabin .\n",
           923,
           121
          ],
          [
           "not even thirty . he never believed in high stakes . \" do you hate me ? \" because it was just blood , her bleeding . him and sabin had just half broken up already and they had no one else .\n",
           924,
           138
          ],
          [
           "not even thirty . i skipped my articulation test . my iq for the first month was good . no tests for x - ray imaging had happened . when he began testing , nothing happened , not even a scratch .\n",
           925,
           133
          ],
          [
           "we did . \" \" yeah , so i called you back and got too many questions that more bullshit about us getting back together , the whole fraternity thing . and people also started looking after me and all the rest .\n",
           926,
           147
          ],
          [
           "we did . \" \" truth ? \" \" you tell me truth . you told me truth . \" \" what truth ? \" the pastor snorted . \" so i told you . you believe me ? \" he said .\n",
           927,
           99
          ],
          [
           "thats not very helpful . ' ' 009 , ' he told her casually , ' is on the outside of paris , at least mondays to thursdays as a dressing - down . you go west , you go east .\n",
           928,
           127
          ],
          [
           "thats not very helpful because , er , the mayor ( and council ) made out plans for each month and sent them along . this information is coming to the hud right away , and you all can pick the dates .\n",
           929,
           143
          ],
          [
           "i blushed at the memory of kissing him so badly , beginning and ending what we had done together . we were singing and dancing , and dancing to the music , and running around waiting to find out ; it was saturday night !\n",
           930,
           142
          ],
          [
           "i blushed at the memory of cold glass directed at carolyn lawson . probably some sort of spell to do that spell as well . but trust me , i think . carolyn lawson dressed resembling a general motors truck driver was in attendance .\n",
           931,
           153
          ],
          [
           "so much for that plan . \" i sighed , thinking about going to school and glad that all of this non - romantic crap was over . \" we are so not going home . she can bring us to her house later .\n",
           932,
           135
          ],
          [
           "so much for that plan of being located next to idria . you wake her , you get out . a small girl stood off to the side , giggling . a blue police car was parked atop the street - side structure .\n",
           933,
           138
          ],
          [
           "olivia gave her a hug , stepping back . \" yeah ... well , nothing much until i ... \" a door slammed . all right , so why were they the best vamp types ? holy shit , these two were really hot .\n",
           934,
           139
          ],
          [
           "olivia gave her a hug saying \" they take the kids with them . they are fine . and wonderful . \" michalek has appeared in over 50 films : take away ( 2015 ) red grass ( 2015 ) dena !\n",
           935,
           136
          ],
          [
           "` ` do you know ? ` she whispered in his ear again . ` he had been born in england but then soon retired there and migrated to another country . his family moved back to mechelen where he still lives .\n",
           936,
           142
          ],
          [
           "` ` do you know each and every one of these stories ? \" \" what \" rorie was saying , \" he said , ' \" power . \" was she wondering about \" power ? \" power ? he asked himself .\n",
           937,
           125
          ],
          [
           "sofia . when i choose - ? a revelation - the worst revelation of my life - made its way through me . when i choose - well . tear , tear , tear , tear ... fourteen years of misery .\n",
           938,
           115
          ],
          [
           "sofia . bulgaria skopje . skopje . macedonian macedonia . note : the absence of a kamskianss player who has played the last two league seasons . acesdeva also left the team as a head coach .\n",
           939,
           130
          ],
          [
           "now - leave me . as of may 2016 , gibrando has continued his support of the project with seven studio albums ; winter ( ep ) ; spring ep ; summer ( ep ; time ) ep ; end of time ;\n",
           940,
           137
          ],
          [
           "now - leave me . release me . leave me . no spark of flames , no flame , no flame , burn further , burn further , long circling again and again like the fleeting touch of a star that finds its way .\n",
           941,
           122
          ],
          [
           "in slow streams and deep gorges , the trails ( \" canyons \" ) ( \" wherever areas might be \" ) - including old trails in alberta and prince edward island ( victoria ) - - have started beside the lake .\n",
           942,
           142
          ],
          [
           "in slow streams and deep recesses deep in the woods , full of the trees and the sunlight and the smells of silt and mud , god spoke the words in his head to bring about the greatness of artistmanship .\n",
           943,
           134
          ],
          [
           "brian made a face as she continued , \" often from late june until july i worked at escorba on gray street , being assisted at work by other doctors . \" the building on gray street once included a dental clinic .\n",
           944,
           144
          ],
          [
           "brian made a face as he went on , refining my lines . and just then , maybe , guess who was the right girl ? i was so fragile . a little girl , growing up , smiling and strutting around .\n",
           945,
           133
          ],
          [
           "you should go out and check it out . you know ... angrier . z : i distinctly remember our discussion here . never came up with anything . j : sure . j : i have just a feeling , i guess .\n",
           946,
           137
          ],
          [
           "you should go out and interrogate a local local bar whose bouncer will say how much you want to know who is the best . all of the bartenders at the mcg in la have fake ids . | |\n",
           947,
           129
          ],
          [
           "` ` mr . clearwater davis . we got there early . the city closed the same day , and the closure of the stadium shortly thereafter . we were here , at the station now , when the front door opened .\n",
           948,
           131
          ],
          [
           "` ` mr . engel gave the records to you first ? ' ' she added when she heard that the 45 rpm records on them were - practically - recorded by a mr . phillips , sometime around 1955 - 55 .\n",
           949,
           142
          ],
          [
           "craning my neck in caressing my breasts to a point in time ( like ) when my boobs are expanding . - - the pentacle ' s base flew apart and the wind rushed me with my scrambled mind .\n",
           950,
           131
          ],
          [
           "craning my neck i looked up . two others were shirtless and doing the same thing . there were three other big bodies in culver , but i had not seen a man work on a pair in new mexico .\n",
           951,
           129
          ],
          [
           "when she was sure her limbs were all right and that her senses would be properly restored . and she forgot about all the now ... and again she heard the heavy footsteps below , light but as firm as just a thick shoulder .\n",
           952,
           149
          ],
          [
           "when she was sure her next words came out angrily . \" it ' s not having enough of a child , \" she said . spencer stopped , shocked . why was she being cool , just leaving out the parts about ali ?\n",
           953,
           142
          ],
          [
           "zach ' s grip on the thin railing grew weaker , trapped by the fire . his head bowed low and his stomach muscles locked into a tight knot . a blinding stream of blue light hit , momentarily turning the ship upside down .\n",
           954,
           155
          ],
          [
           "zach ' s grip on the sheet feels heavy . i feel nothing . no feeling , no thought , absolutely no feelings . nothing , no words for saying anything . no lifting off the coffin and carrying a million bodies to safety .\n",
           955,
           139
          ],
          [
           "she said , though she barely glanced her way . no wonder the man was so discreet . he pushed past all the less frightened humans , revealed himself and knelt beside miko , the leader of the group hiding on the ground .\n",
           956,
           148
          ],
          [
           "she said , though she could still not recall at all , that becoming a lawyer in 1847 had involved her being appointed , however , for a much lower salary , as well as being given the similar positions held by queen victoria .\n",
           957,
           161
          ],
          [
           "staying on my knees , sandal pointed at the hundred gathered then - not just half our number , the vampires and guards alike - and shouted , \" he is coming ! he is coming with us ! \" he is coming !\n",
           958,
           129
          ],
          [
           "staying on my knees , protecting myself from slaughter , let alone my own life . farg the wolf bears down on us . vandor jumps first , saving me , as does the history lesson . the guardians send in reinforcements .\n",
           959,
           149
          ],
          [
           "lots and lots of glory rests on this honour every year ... to the pericoth and the other natural sciences ... especially chemistry , physics , and history ... does one graduate with a talent for which there is no aptitude ?\n",
           960,
           152
          ],
          [
           "lots and lots of glory . there was also no umbilical cord or sling . in my early military days , basic field training had been just one thing , but i had never gotten into anything other than advanced field training .\n",
           961,
           145
          ],
          [
           "* * * ashra stayed underwater , her voice just barely audible . \" we can go , now . \" instinctually she felt someone at her back and could barely take her deadened - looking gaze on from behind her .\n",
           962,
           145
          ],
          [
           "* * * ashra was alone now . she has now been having one lover , ash , while she finds out she has already had three ... three very , very talented ones ... sons ... daughters ... that look well off .\n",
           963,
           132
          ],
          [
           "` ` i do n lie down while frank goes to bed . ' katzman and jac leeser had just checked into the restaurant , and the feds were slowly making progress on both of them . leeser asked .\n",
           964,
           135
          ],
          [
           "` ` i do n ' this . ' ` we want to watch a public video feed . ' ` go on , dr gwynne . your sister and her chinese boyfriend know . they know something ' s up . '\n",
           965,
           123
          ],
          [
           "she ' s the one who was so completely perfect . it all seemed so surreal seeing as kylie ' s smiling and all the kids were hugging and kissing her that my tummy felt on fire and i frowned for a moment .\n",
           966,
           138
          ],
          [
           "she ' s the one with the rock face . \" i just wish i could still hear her whine , but instead , the feel of her is overwhelming . you . all of you . freida , your mother .\n",
           967,
           124
          ],
          [
           "and she had landed on the highest dignity in wormley court , where he had supported eufric in some way and loved her , until she refused for marriage to the powerful northumbrian knight , the earl of suffolk .\n",
           968,
           146
          ],
          [
           "and she had landed on a day without taking a plane . and , she told herself , going on tuesday and thursday . the one between her and ethan , and the one between her and ethan was getting worse . getting worse .\n",
           969,
           124
          ],
          [
           "how does your man tamcliff feel ? is this how she feels ? is this like a conversation with the sheriff about edie and the kids ? that she was staying at her own place to help take care of her momma ?\n",
           970,
           135
          ],
          [
           "how does your man tamper with this world ... ? ah , and what is this word ? twenty - six laws of nature . laws of evolution . genetic law . what do \" human \" beings and other large animals do ?\n",
           971,
           138
          ],
          [
           "` ` it was personal to me , my president . ' would police department personnel do a thing ? jaffe grabbed whitey by the shoulder of the uniformed man , and pushed him slightly to the left of the uniformed man .\n",
           972,
           142
          ],
          [
           "` ` it was personal pleasure , ` ekstrom and callahan said at once . they were both elated , unburdened , and all the way up there was a long fishing pole , framed by stout wooden beams .\n",
           973,
           135
          ],
          [
           "i might . . . i might go forth to [ prose , poetry , music ] compose . the songs of youth is the third complete work of henri - honore lambal ( 1707 ) , published by a . m .\n",
           974,
           132
          ],
          [
           "i might . . . \" \" what ? \" just as vinny is voicing it , he hears it again , and he stands and stands and stands , stands and stands , and stands , and stands , and stands .\n",
           975,
           89
          ],
          [
           "blood ran down my hands and dripped onto the floor , but i noticed her before he noticed the warmth of her touch . she reached out and lifted her fingers , reaching down with her other hand and pulled me closer to her .\n",
           976,
           142
          ],
          [
           "blood ran down my hands in an acrid shriek , now nearly black with burning desire and sheer sensuality . the number of ex - colleagues had plummeted before i drew blood , but the fight had not waned .\n",
           977,
           144
          ],
          [
           "` ` and i do this meeting with you . ' ` ` these security cameras were stolen by the marshallsburg police on september 13 , 1981 from a security team in a convention room in the lobby of the fallbrook hotel .\n",
           978,
           151
          ],
          [
           "` ` and i do the other thing , ' half - brother jack returned . ` that concert is for anna and young james . ' j . lo loved the concert , as much his wife as she felt he loved too .\n",
           979,
           130
          ],
          [
           "you , whats your name ? ' all he saw was a pale black vanna that wept with sorrow . ' you fight as well as her , emme , whomever i may send , ' he told his bride .\n",
           980,
           126
          ],
          [
           "you , whats your first knowledge , are interested in genes . that is the principal characteristic of bison . and since all black bison and all white bison just have their own autosomal system , these are to be noted .\n",
           981,
           149
          ],
          [
           "how about now ? \" finally she made a decision . \" not yet . \" \" then i promise i will . just like you told me to . \" \" but it looks like , she is hurt like an infant .\n",
           982,
           122
          ],
          [
           "how about now ? \" there , sitting next to us , was katie , recalling places i had never seen her at home . and remembering how intense that day was so far away , how hot it was coming and going .\n",
           983,
           138
          ],
          [
           "` ` now walk . ooh ! . ' the driver was overly intimidated by trash cans . chapter 73 - - - chapter 23 between ragsdale , north cumbria and frome . ` ` and look where i am now .\n",
           984,
           136
          ],
          [
           "` ` now walk . ` ` ` yes i was there when you came home and then i phoned the police telling them that you set the pigs loose and they said that i let you now get on with the crime .\n",
           985,
           122
          ],
          [
           "the chain snapped free as combat extended to the west , north and east . acting commander brian jantzowitz was appointed as regional coordinator ii ; judge advocate general and representative , dean glenn beck , was appointed as regional coordinator .\n",
           986,
           155
          ],
          [
           "the chain snapped free as he tried to keep from crushing the wood . # they reached the bottom . the only thing poking out of the bottom was a grove of tall birches , fourteen feet tall and several more feet high .\n",
           987,
           142
          ],
          [
           "park ' s eyes narrowed , but they went back to trying to smile slowly . there was no humor . it stopped smiling slowly and went just cool . sometimes , you just smiled back , because you thought your life was cool .\n",
           988,
           143
          ],
          [
           "park ' s eyes narrowed unavoisibly , the same bouncy look he and lily shared when they first left their campsite in the forest for some reason made insolent and rude by his lackluster .\n",
           989,
           134
          ],
          [
           "but i was too selfish to care about my niece . not like a home run hitter , but a real home run hitter . i resigned myself to the desire to dig further into how successful i may be in looking at her .\n",
           990,
           135
          ],
          [
           "but i was too selfish - too very selfish , and that was that simple . a thing with no face other than hope , especially one with a face that was human , could fail . and then the man was speaking again .\n",
           991,
           133
          ],
          [
           "the restaurant was doing well for me so i went out and did the dishes , but i forgot when he was gone . i knew he was so lonely every night even though he was young , but my best friend loved him .\n",
           992,
           135
          ],
          [
           "the restaurant was doing well even for the price of food shuttled from cleveland to the upstate part of new york . \" no , i have something for you . \" the drinks are starting to pass but the food is ready .\n",
           993,
           143
          ],
          [
           "a vaporous softball - sized explosion rising from the chimney thickens the rock and clay , thus condensing the soil . within the \" old berner alps \" ( knrf ) the deppe valley has five valleys .\n",
           994,
           141
          ],
          [
           "a vaporous softball - shaped explosion dramatically occurs in the middle of the close - up scene , with two small explosions seen simultaneously as viewers glimpse a distorted figure in monochromatic clothing constructed and illuminated by two special effects simultaneously .\n",
           995,
           178
          ],
          [
           "i was thinking about coming by to see you in person ... ( a small incipient ) { at the exact moment that the two of you have discussed it ? > : pasadena ~ pasadena ~ ~ # who am i ?\n",
           996,
           135
          ],
          [
           "i was thinking about coming back home - home at last . ( griffin publishing , 2015 ) all of those things were perfect . not everything was a sin when you used the word x . a . so my life was perfect .\n",
           997,
           145
          ],
          [
           "dr . mingus waits impatiently for the high lords to announce to the rogues that dr . helm has brought octavian and giselle to the water tower , and ' s trying to protect them as though they are sleeping .\n",
           998,
           142
          ],
          [
           "dr . mingus waits ) . \" when you ' re alone at night \" - electro recording artist r . james \" starburst \" murphy ( additional vocals ) julianne collins \" everything i yearn for \" feat .\n",
           999,
           140
          ],
          [
           "` ` are you okay with overnight flights ? or on weekends ? no commercial flights ? according to your boss , overlooking the clear blue sky out there near the mississippi river when the moon ' s high . ' ` thank you .\n",
           1000,
           149
          ],
          [
           "` ` are you okay ? ` ` 30 october 1965 ; after rivera was killed ( with ducrece ) , panama won the lawsuit , and rivera and otero signed a contract with the cbs network ( cbs films ) .\n",
           1001,
           144
          ],
          [
           "he sighed . you need to be on the pill . \" when charles and max headed home and went and had checked the van for where he was staying , charles continued , \" and if she does , back out .\n",
           1002,
           133
          ],
          [
           "he sighed . and even as he talked about his brothers - \" thia would not have me . \" even if his plan inside the building were complete , how long would she still be there , waiting for him ?\n",
           1003,
           136
          ],
          [
           "` ` i think it is looking pretty good for elvis . ' i , now halfway to the room , started to see the case behind george . ` i know ... ` ` but i put it away so many years ago .\n",
           1004,
           130
          ],
          [
           "` ` i think it is more likely that [ he developed both ] [ languages in ] spain ( first catalan and later catalan ) , and eastern central europe ( first german , and then hungarian ) , than catalan itself . '\n",
           1005,
           140
          ],
          [
           "she accepted a bowl of \" pixies \" and calls pixies you ' re a ravager ( 2009 ) , and watched pixies in the night ( short story ) ( 2011 ) disney channel vampire .\n",
           1006,
           128
          ],
          [
           "she accepted a bowl of steaming diet coke , and broke her soft brown eyes into a very real smile . this place was better than anything . it was a high - class house , with a lot of co - management here .\n",
           1007,
           144
          ],
          [
           "it was a game . \" this is so not true . simon has changed . simon has changed . \" simon just wanted his life to be all forgiven . but maybe he had sinned because he had played baseball in college .\n",
           1008,
           128
          ],
          [
           "it was a game . there will be also five record single issues simultaneously with covers of live performances by the band accompanied by an interview with guitarist brian watson , based on a 1998 interview with owen , a former professional football player .\n",
           1009,
           173
          ],
          [
           "` ` i get that feeling , too . \" ` ` \" marti ! \" ` \" marti ! \" ' he pressed his lips together and shut off the streetlight . the boy shut off the light , too .\n",
           1010,
           112
          ],
          [
           "` ` i get that it ' s janie and sam . the scums , ' he said , his voice in protest . ' someone else , someone that works in china , ' nick said as the guys walked away .\n",
           1011,
           123
          ],
          [
           "i saw rachael and ( her ) ! also , the beatles ' song \" shut up \" ( about their coworker \" if she was in my head \" ) with lyrics similar to \" tulips \" .\n",
           1012,
           119
          ],
          [
           "i saw rachael on the ground and helped her . \" she kept looking at their faces for something , explaining , \" the bodies of those two white men left rockingham ( pa ) before the aldermen arrived .\n",
           1013,
           141
          ],
          [
           "who would be able to let her team win , good or evil ? nihilism would rule the world . that could be expected or if we could not , just say she realized the end was still out there to be .\n",
           1014,
           133
          ],
          [
           "who would be able to get sleep that late at night ? i watched her put her head down somewhere , i heard a scratching sound , i heard one of the girls curl up on the bed across from the kitchen door slam .\n",
           1015,
           141
          ],
          [
           "i leaned into him while looking at him intently , and it made his mouth and throat soften in a smile . grumpy was the endearment . at least in the southern sense , not an offensive one either .\n",
           1016,
           132
          ],
          [
           "i leaned into him while pressing my second button . a beautiful surfer girl . a gorgeous , ego - driven , grew - up dopey surfer girl . and yet a warm , sweet feeling in me . feels so good .\n",
           1017,
           131
          ],
          [
           "i asked . i found the information on serkin in various literary and scientific journals . thionman , j . ( \" biography \" ) . a biographical dictionary of adolf hitler . foster , henry ( 1923 ) .\n",
           1018,
           146
          ],
          [
           "i asked . \" is it time for heaven or not as well ? we have quite a bit of heaven up there . i know you was a wise one , what are you doing up there ? \" she asked .\n",
           1019,
           118
          ],
          [
           "baird raged , punching her again . everything that he had given her was gone . tears and sobs came to her eyes , ripped out of her jowls . someone - well maybe someone - was out there , lost somewhere .\n",
           1020,
           136
          ],
          [
           "baird raged , punching her back , and getting worried about elle ' s story ( her story was so i got it ) that he was \" going big speed or doing something to her \" and not trying to go big speed .\n",
           1021,
           132
          ],
          [
           "there ' s no sin for you to say that girls were murdered or were massacred after the british took over bangladesh - an independent film created by film maker tilak , an important symbol of civil rights movement in bangladesh politics .\n",
           1022,
           159
          ],
          [
           "there ' s no sin , max had insisted . ' you want to go shopping , right , though ? ' by ten , i got that dusk was rising in the air and i had begun too sick to drink my coffee .\n",
           1023,
           132
          ],
          [
           "leave mr . mulligane in the middle of the parade where the parades are being arranged , before taking places at piazza profumo . get all down - on - your - luck with one of the police officers .\n",
           1024,
           134
          ],
          [
           "leave mr . mulligran or mr . jones say something , more like the fathers of all their wives , i hope . no official meeting today , no formal relationship . did this meeting really come down to my daughter ?\n",
           1025,
           147
          ],
          [
           "as angry as he made himself a plate and a cold beer , he came up with something else . one word , all in french . definitely something about chelsie , all in french ; but he knew she spoke french .\n",
           1026,
           133
          ],
          [
           "as angry as he made himself , auger was withdrawn from the secondary programme without making an application or additional facts . the court against him concluded that : ... as an utterly self -less character auger [ ... ] died .\n",
           1027,
           163
          ],
          [
           "i pushed out a chair as the manager went by , and we settled in . got a little sorted out , anyway . isabel had made a few sandwiches , but i had fed her the rest , and it eased her shoulders .\n",
           1028,
           131
          ],
          [
           "i pushed out a chair and sat beside my sister , and once again i smiled through my spectacles , how absurd it was , but once again i had to get into this very room for good measure , and probably never .\n",
           1029,
           140
          ],
          [
           "you ' re caroline , the girl your friends see when they are in school , dressed in a yellow dress and a bunch of jewelry and glasses , talking with other girls with red and black slippers behind big blue china tables .\n",
           1030,
           148
          ],
          [
           "you ' re caroline , your big , really big mother by the way , at the very head of some really big rose garden , caroline and you , up in her room , holding onto the strangest dreams of all time .\n",
           1031,
           131
          ],
          [
           "i wonder if she ' s now learned how to read people just by what they say . or if it all means that peter parker is hiding some big secret from her . i now really realize that peter is already hiding things .\n",
           1032,
           141
          ],
          [
           "i wonder if she ' s okay and are currently in calculus or helping me with the music quiz to figure out how to memorize ourselves and each other thing that happens . the class focusses on music theory and art history .\n",
           1033,
           149
          ],
          [
           "lelldorin asked john to partake in alliance with denmark such that the emperor declared merville , chassagne , valais , ardenne , and neverne to be ' kingdoms of the holy roman empire ' .\n",
           1034,
           136
          ],
          [
           "lelldorin asked for the officers from the fortress to come up to his throne . when evaline rose from her throne after a long pause he felt the need to say i should go . where is aldur then ?\n",
           1035,
           131
          ],
          [
           "and someone . . . down . . . \" ( pause ) but how will he find out at dawn ? \" \" he was a good lad , \" channie told him , showering and darting under the shower curtain .\n",
           1036,
           126
          ],
          [
           "and someone . . . there is nothing . . . [ here ] i am ever , ever purged of my past . . . i would like to wish for [ here ] a happy daughter at any time . . .\n",
           1037,
           115
          ],
          [
           "once tripwires foot walks a block away from the ferry , slowed down by mini cars no . 5 in comparison , but far from safety - nook into a sea , where the current presses against rather than goes down .\n",
           1038,
           143
          ],
          [
           "once tripwires footworks required a workshop and videsha was joined with a young mexican man ( ) antonia tondo , who was the first mexican in france on a permanent basis in the world , connected by telephone .\n",
           1039,
           148
          ],
          [
           "chris grimaced . the statement definitely was not really that . she was a first - class scuba diver , that was certain . no one would know about her activity at president reagan ' s \" men ' s club \" .\n",
           1040,
           144
          ],
          [
           "chris grimaced . there were no guns or jimmy choos or ammo . the yards were empty . and still he could smell nathalie in her crimson and black gown , her radio held and making no sound .\n",
           1041,
           130
          ],
          [
           "so pale , so skinny , so scrappy . or lived out on the shore of lake washington . or worked in hotels . there was no supreme justice out there . and whole melba flockhart ' s heart had stopped .\n",
           1042,
           138
          ],
          [
           "so pale , so skinny , she was so very sad . miss lawrence was a twenty - something woman , and miss lawrence knew this : she did not paint well , and in all her life she had never been painted clean .\n",
           1043,
           135
          ],
          [
           "not trusting anything but a kid back in puberty and a life away from their mom , they prayed over and over and prayed for izzie to remember and their mom ask him one day why her life changed so much .\n",
           1044,
           135
          ],
          [
           "not trusting anything but a small , sneaky dog . \" chapter 2 albert faced smotenoi in surprise ; he remembered all that the woman had said to him . she had mentioned no dogs except for his own funeral .\n",
           1045,
           146
          ],
          [
           "i should n ' t say all that much , however , because i ' d never actually gone into contact between people since my incident with sean connery . \" and um , can we go upstairs sometime ? \" i said .\n",
           1046,
           143
          ],
          [
           "i should n ' t lie to him because of his time constraints , but now , watching my two girls at brad ' s gate walk out the door head - on , i was starting to think i was just being selfish .\n",
           1047,
           137
          ],
          [
           "` ` how ' s the result of the article ? ' ` but a quote that was allegedly from a crewmember in lewiston , maine was well under cut . ' ` just the right place in placerville .\n",
           1048,
           131
          ],
          [
           "` ` how ' s that possible ? ' ` this is mri , which uses ancient technology . ' ` when the war began , a pre - war human embryo turned into an enormous blob , ' ehlana replied .\n",
           1049,
           133
          ],
          [
           "` ` is it getting to arabs ? ' ` yes , and to the rest of the arab community , too . but now ... ' ` she was wrenching the skewers with ease and yanking their black hair .\n",
           1050,
           126
          ],
          [
           "` ` is it getting so bad some of the galleys have their tortures ? is it worth this ? ' michele perugino , italian submarine intelligence , ans binitum , italian intelligence service , l5 !\n",
           1051,
           131
          ],
          [
           "so whats the escape leader expect in tricking the moroi ? \" so , he holds everyone in line , but the last , final , meeting is taking place below - eighteen floors below - the escaped prisoners saying goodbye .\n",
           1052,
           146
          ],
          [
           "so whats the escape ? the narrator visits his inn . ( chorus ) he is mortified . he hears gargoyles talking of his friend fakey for his friends . and finally he hears voices talking of so many .\n",
           1053,
           131
          ],
          [
           "` ` this is really impressive story telling , ' i said , coming up rich with at least a thousand more pages of dialogue from the students who lived in and worked in the city than the walk - in restaurants of alexandria .\n",
           1054,
           153
          ],
          [
           "` ` this is really terrible and scary , ' she said , weakly . ` and a lot worse . ' ` ` no ghosts , no demons , and all these other sort of things - well , not that . nothing .\n",
           1055,
           126
          ],
          [
           "` ` were we pre - discovered to benefit from mass transit ? iridium answered , diplomatically pointing out the opposite conclusion . ` they just say gravity is everything , and simple concepts for a robot , ' said hattie .\n",
           1056,
           160
          ],
          [
           "` ` were we presaging his intent ? ' ` was that his true intent ? ' ` no , he had dispatched several fbi agents at their disposal to attempt to convince him of their involvement in creating the mog .\n",
           1057,
           138
          ],
          [
           "i know that scent ! \" antonio , \" said antonio . \" can you try to contact the feds ? \" not long enough to read the phone numbers , but his voice was almost a growl , and it was firm .\n",
           1058,
           135
          ],
          [
           "i know that scent ! ! ! ! ! - gary blom in ( i am ) uncle harry , mama maggie , and uncle harry ' s mother nearly 50 , 000 roles were filmed , including uncle harry and the family ;\n",
           1059,
           129
          ],
          [
           "only a joke , i knew it was . all the instinct for stopping the revolting voidbringers raced through me as i yanked on the marble stone column to unlock the front door , quickly climbing out and catching myself .\n",
           1060,
           150
          ],
          [
           "only a joke , i will play a game . my hands and feet , how do you feel about me , how does my self - image appeal to the best people in the country while the rest exercise different opinions and values ?\n",
           1061,
           144
          ],
          [
           "it is the absolute power of god to help people achieve their full wholeness and happiness through the mercy of others : someone who will come up with the \" bravest \" plan , with the help of his own spiritual home .\n",
           1062,
           147
          ],
          [
           "it is the absolute power of words , the power of reckoning . the secret service men ( ricky , joe , tommy and charlene , whispering mournfully ) approached george and laura . they huddled close to one another .\n",
           1063,
           147
          ],
          [
           "i have to think about ... the stars in the sky ... \" he trailed off : \" the santa claus ... you know that ? \" \" can i ask you again ? \" \" no , but i already asked you before .\n",
           1064,
           124
          ],
          [
           "i have to think about traffic , the ( oooh ) traffic in traffic , the embers of the fire , the ragged black coats , the acerbic lady , the bailiff , and the big blue eyes .\n",
           1065,
           115
          ],
          [
           "justin grimaced . one looked through a book , and the second told him stories of a girl - again and again , from his childhood . she was so sweet , so very charming . what exactly have you been hiding ?\n",
           1066,
           145
          ],
          [
           "justin grimaced . now that the boy was standing in a secure area , the guards had stopped worrying who might enter with him , and their gazes lifted as if making certain he was safe again . not after last night .\n",
           1067,
           147
          ],
          [
           "i could n ' t get back to that now . \" \" i remember you leaving every year when you still cared about one another . while you lived on the edge of georgia , you ' ve never had a big family .\n",
           1068,
           138
          ],
          [
           "i could n ' t have said what else . i valued about $ 6 , 500 for my stolen goods . stealing loot would be the best way to end this business . ' again we walked on in silence for awhile .\n",
           1069,
           139
          ],
          [
           "are you hurt anywhere else ? yes , this is the story of where she grew up . what is she ? the fact that she was locked up in a now empty mansion just off the coast of port gillem , maine ?\n",
           1070,
           134
          ],
          [
           "are you hurt anywhere else you go , gwen ? before she answers , she shifts a little slightly , but looks at me with the dead gaze of an angry bird trying not to piss . how does a surgeon treat the wound ?\n",
           1071,
           145
          ],
          [
           "they ' ll go through the state and go away most that time . but it was short - lived . when they report back that billy is already seeing she and you you said you liked being with a man you both knew .\n",
           1072,
           137
          ],
          [
           "they ' ll go through them both themselves . \" he motioned the two men to either side of the fireplace out to the balcony pushing billiard balls high into the air . the two men were supposed to be playing out there .\n",
           1073,
           144
          ],
          [
           "teren ' s eyes opened and closed as his fingers fondled my protruding stomach . i looked up at his head and nearly laughed . the vampire stood next to us , holding me with one hand and reaching with the other .\n",
           1074,
           144
          ],
          [
           "teren ' s eyes widened as teren heard my new statement . the hope in his eyes never left his expression . just as he looked at me . i would never kiss him when he was drunk . it never hurt .\n",
           1075,
           128
          ],
          [
           "remember ? ' ' remember the booby traps ? ' ' the dart guns were picked up on that side of the street but got captured by a dozen i . r . agents . ' ' you think ?\n",
           1076,
           120
          ],
          [
           "remember ? \" * * * richard knows he is no different than the others . he knows that now he still exists in centuries - old clothes and trendy boots , not even bothering to hide anything in them .\n",
           1077,
           139
          ],
          [
           "are you finished , simon ? ) 5 cds ( milano , september 2007 ) simon & paul benefit album ( pop music , 2008 ) 2 cds ( video ) , supertone recordings , 2009 . \" touch me , woman \" .\n",
           1078,
           141
          ],
          [
           "are you finished , simon ? sometimes adepts can do it and she thinks she can do it for you \" fifteen \" ... twenty two \" twenty \" ... \" twenty two twenty three \" ... twenty two twenty first thing tomorrow .\n",
           1079,
           124
          ],
          [
           "the cop yelled back at the barbed wire fence . the middle - aged woman who had called his name again and again for years came forward and knelt beside him . the cop sniffed deeply and began soaking in the fragrance of roses .\n",
           1080,
           150
          ],
          [
           "the cop yelled back at a half - melted kidstown . 3 : 55 pm ¡ matos ! ( english : the rubies of kidstown ! - in cajamarca ) 4 : 70 : 44 pm approx .\n",
           1081,
           128
          ],
          [
           "methinks we and you are a different relation : a good man , now , who made a good war and he was kind to you , and he put himself in your hands , not killing you again , and again .\n",
           1082,
           123
          ],
          [
           "methinks we and we put forward such an incredible project . isn ' t it true about the disappearance of the latest ground vehicle from carbon valley in 2015 , the closed - circuit system became something of a ' spotlight ' ?\n",
           1083,
           166
          ],
          [
           "jaden will broker the formal wedding dress , and it ' s all the same . i can even smell roses and daisies on it . she ' s giving me advice describing the wedding that my brothers had planned all along .\n",
           1084,
           140
          ],
          [
           "jaden will broker the gambling room as are his aunts and uncles . mr currys plays \" the mark \" as the telltale boy but on the last round , he will suffer . alice goes to visit him again .\n",
           1085,
           136
          ],
          [
           "` ` but love , ' said the voice , ` can not be so good . ' ` for neither do we in all aspects of life - - right here in this world . ` and the voice sang with great pleasure .\n",
           1086,
           126
          ],
          [
           "` ` but love , love ' ~ ~ ~ ~ ~ ~ ~ ~ ~ ( ` you are seeing this ? ' ) she lay tearfully there , the sky overhead roaring , a red blanket of luminous stars and clouds .\n",
           1087,
           125
          ],
          [
           "` ` anywhere my duchess opens her arms again . \" fraga has this letter . ` ` ` where is my father ? where ? \" she embraces the letters , moves to the open door , and she looks inside .\n",
           1088,
           129
          ],
          [
           "` ` anywhere my duchess should ever allow herself inside this room , this beggar girl will kill me . elias ' s cold voice carried the same force that never before . he sniffled only briefly for lack of anything else .\n",
           1089,
           152
          ],
          [
           "she asked , bewildered . \" students of the university run clinics where the same guys who are tested are tested on subjects of the same name , \" he said . \" none has ever been test - \" right , just recently .\n",
           1090,
           138
          ],
          [
           "she asked , bewildered . \" so what happens then ? \" \" you fall into the bottom half of layer - five that you feel natural to go into . maybe we should get back to him . that goes for orpheus .\n",
           1091,
           140
          ],
          [
           "then why didnt you let me into that house this time ? \" beautyman asked her . \" because you waited for me just at the top of the stairs and came to watch you , bria , \" she said .\n",
           1092,
           129
          ],
          [
           "then why didnt you get the book , open it again , and please order anything you want and get any . my father really liked them . for their design and the way he was adlaiming them , i suppose .\n",
           1093,
           132
          ],
          [
           "i could scrub your back and find a double - double , a lab that would keep birds at bay on a minimum temperature . and that was it . the far corner of the room - raquelino ( de lange ) .\n",
           1094,
           135
          ],
          [
           "i could scrub your back , kick your ass , and then carry you to the dining room ! ' ' your grandparents are going to make soup ? ' but his eyes were on joannie as he was pulled out of there .\n",
           1095,
           139
          ],
          [
           "zandramas would abandon cassandra and entrust all power to her in order to save herself , especially the ones who had been alive and for so much of the world , to pursue her justice , even after she had disappeared .\n",
           1096,
           147
          ],
          [
           "zandramas would abandon the group and go out the door . other members of the caravan showed up , such as issa , and the few people who slipped past one another and went into the back again joined one another .\n",
           1097,
           142
          ],
          [
           "final y , leo whispered my name to me and he reached down to me , confiding in the moment . his fingers found my clit and opened as soon he was inside me where ever he was , tearing me apart .\n",
           1098,
           133
          ],
          [
           "final y , leo whispered the last number , and then leo was already bending down to analyse the line . then he could see the exact centre of his page and he paused before bending down and reading the very first line .\n",
           1099,
           139
          ],
          [
           "any bleeding or cramp left my chest muscles , my heart pounded furiously , months and years and such today \" come and sleep with me , please . \" a very loud knock at the door , someone ran into the room .\n",
           1100,
           144
          ],
          [
           "any bleeding or cramping in case . a . the abrupt \" no \" ( to the other ) reply ( s ) ( a / qs ) 2 . \" nit \" ( \" feigned ecstasy \" ) .\n",
           1101,
           107
          ],
          [
           "` ` you ' re looking quite relaxed . \" \" our routine will be back to normal tomorrow . ' ` not so , no , not going out . ` watch for any signs of a terrorist attack . first one out .\n",
           1102,
           134
          ],
          [
           "` ` you ' re bad news , guy blake ! ` ` guy blake could feel his arm draped over the door handle . ` he opened the door just enough to find mike , a medical student , standing in the entry .\n",
           1103,
           136
          ],
          [
           "the driver shook his head at the trembling crowd on the wharf twenty minutes later , with a hand raised over adam ' s bleeding forehead . the two other pedestrians watched in awe as the wharf builders began tossing bodies into the seine .\n",
           1104,
           160
          ],
          [
           "the driver shook his head from the back window . a dollar dollar club in the beach across the street ! this must be the largest club ever ! paradise island was a popular destination with about 400 , 000 social users per week .\n",
           1105,
           154
          ],
          [
           "in any other context , the rabbis ( shepherdesses ) , as rabbi tojm writes , \" did not [ bring children into that house ] , \" and the entrances to them were not accessible to the shepherdesses any longer .\n",
           1106,
           138
          ],
          [
           "in any other context , the church was typically the church of st . mary , placed in a cellar below an arch with parapet , but as a parish church it would invariably try to approach existing churches by means of stained glass .\n",
           1107,
           150
          ],
          [
           "i told erin i needed to talk to him first . but ... and you just seem to be on your way ... well ... you seem alright ... but ... all right ... but ... not ... but ... what did i lose ?\n",
           1108,
           118
          ],
          [
           "i told erin i needed time and said that i was always thankful . erin never came home and called me back . why did she even call ? chapter twelve erin \" lying to you is a lie , \" erin said softly .\n",
           1109,
           137
          ],
          [
           "` ` then we ' ve been more clear . ` ` ` ` since data are typically stored in remote environments , a \" data center system \" is \" a virtual network \" where the highest and the lowest value are stored .\n",
           1110,
           141
          ],
          [
           "` ` then we ' ll decide it is wise to find the evidence , act quickly and investigate the killers . ' morgan received an affirmative response : ` but the police are developing effective escape strategies for the new organized crime organizations .\n",
           1111,
           168
          ],
          [
           "bullies . some of the most violent films are shot in a smaller studio . richard i . allen - leatherface . directed by yves saint laurent and alan allen . this adaptation was adapted for film by warren beatty .\n",
           1112,
           143
          ],
          [
           "bullies . something important ... and something bad was happening to her . \" what the hell ? \" vendetta against the strong young woman he was about to marry ? she stopped , blinked , then looked up .\n",
           1113,
           140
          ],
          [
           "* * * merlin spent the night outside ignoring the mists that did the most damage to the entire area . in the absence of trees and grass , beneath the black mist the world was light and transparent to the mists .\n",
           1114,
           139
          ],
          [
           "* * * merlin spent the next week assisting cox in interviewing alden b . bennett , and he encountered two of the same women named mack and edie / grace , and men named lt . watson from the pitt crimson .\n",
           1115,
           140
          ],
          [
           "al other sensation was eclipsed by what was \" too long \" . but then there were several more heartfelt moments : heldover howling \" miracles be seen \" , \" as night rises \" switched the music on once again ;\n",
           1116,
           146
          ],
          [
           "al other sensation was eclipsed by opportunities provided by the metrostars ' 13 - 10 1987 oakland raiders ' win and their fresh revival in fanfare following the february 8 , 1987 loss to the now - defunct denver broncos .\n",
           1117,
           161
          ],
          [
           "maybe it was time to lose back her pink crossbones and white schoolgirl ' s skirt and put on her normal , submissive outfit . the skirt , she guessed , was originally made in thick pink orioles .\n",
           1118,
           140
          ],
          [
           "maybe it was time to remember how he stopped at death ' s head . the old timer had stopped , a few paces . i am glad to know that the new era in our language has come , \" said his father .\n",
           1119,
           136
          ],
          [
           "you know only love is the way of loving . ( in dialogues \" ) many personalities are utilised , coupled together and joined together to talk . dialogues are not allowed to usually reach a particular height and end up doing good .\n",
           1120,
           154
          ],
          [
           "you know only love is real . that is all love says . it always means . so maybe time to look after yourself . \" finally , olem took a week to stay home with eiland and watch over him .\n",
           1121,
           131
          ],
          [
           "her gaze darted around the smoldering illumination of the monitors . was he looking for some scent ? someone eyeing him suspiciously , or maybe someone trying to keep him quiet ? or , worse , someone else beside the electronic lab ?\n",
           1122,
           157
          ],
          [
           "her gaze darted around the halved church . - saint michael jr . parish ? - san benito springs ? - mount zion ? phoenix , arizona - san antonio . san antonio , texas cathedral that he had carved for them all .\n",
           1123,
           144
          ],
          [
           "i turn to tell logan that these lies are true , that last night , after our kiss in the dark , our bodies so used to each other that i can barely even remember now , that these lies have broken my heart .\n",
           1124,
           137
          ],
          [
           "i turn to tell logan , \" keep it up logan . \" logan started 18 of 30 football seasons ( including the fifth of his nfl career with 15 starts ) and caught 12 passes with one touchdown pass and two field goals .\n",
           1125,
           149
          ],
          [
           "definitely gently . \" lines softened his cheeks , and his face was - - cowpony - - and olive - - black and glossy and spread of gold hair - - and even his eyes gleamed in the sun .\n",
           1126,
           128
          ],
          [
           "definitely gently . this time , those things \" pre - marriage \" changed . jack once more flaked . his protective instincts and protective habits had all over again . this time more and more made him a target .\n",
           1127,
           138
          ],
          [
           "closing the basement door , hoping no one would hear it . \" hello mrs watson . \" it was janet . \" mrs harris . but there are no questions . \" \" yes , yes , that ' s my house janet .\n",
           1128,
           129
          ],
          [
           "closing the basement door , the little girl continues crying , muttering , \" tcha - tcha - tcha \" . saffi adds even louder , \" no . no ... \" would a mother care for her grandchild ?\n",
           1129,
           130
          ],
          [
           "hey , got another one for me ? \" she always climbed over the first hill . she was always alone . silent and alone . she drove around as if she were in some weird alien movie , but she was never alone .\n",
           1130,
           132
          ],
          [
           "hey , got another one . come on , you can put another one in your hand where you pull up the steps and run up it . when you make your way , there are five feet at the bottom of the hill .\n",
           1131,
           124
          ],
          [
           "my mom said she has only given me a few more days of karate . i need them from her and my friends . my clothes live weeks and days . i have made more tea , adding all the sugar and some milk .\n",
           1132,
           132
          ],
          [
           "my mom said she has nearly died , too , but she did say that she was a wolf , of some sort , besides the little sisters and her sister , that aunt joni told them about before she died , too .\n",
           1133,
           128
          ],
          [
           "max is staring at me , not at me but in front ( his eyes only ) , but he is staring at the dvd player . \" max . please . please , have a seat . \" that makes so much sense .\n",
           1134,
           120
          ],
          [
           "max is staring at me when an older man walks in . he has shaved and wears a navy blue uniform that has the same scruff . he wears glasses , reminding me of his mother . such a thing is strictly forbidden .\n",
           1135,
           144
          ],
          [
           "whats up , mac ' s bowling alley . kyle alexander , host of the media platforms \" wipe out \" and \" trick or treat \" ; born near the florida turnpike , near the \" super \" lanes of interstate 63 ;\n",
           1136,
           146
          ],
          [
           "whats up , macadam ? finally wake up . the best way to do that : with an apple in my hand . that speckled seedy bitch who had been acting on the advice of one of her customers .\n",
           1137,
           133
          ],
          [
           "after three , she would be briefed again in st . louis about how many boys , men and women , had died , which would send her to elmwood , and why bill had been killed there during the standoff .\n",
           1138,
           136
          ],
          [
           "after three , she would do the silly stuff , find a new job , or take strangers out to dinner or watch previews on their clothes or watch movies or eat pizza that night or go to a hollywood scene with friends .\n",
           1139,
           146
          ],
          [
           "i threw that thought out to dirk , the vampire who lived through my life . left over from his background , he claims to be the appointed officer of the black cloak , the title bestowed by the mysterious ' dark emperor ' .\n",
           1140,
           153
          ],
          [
           "i threw that thought out again - a dream , spoken by voice , about a place called lengyll where the best folks in texas would look , and obey the law , and do their worst . could i do this ?\n",
           1141,
           135
          ],
          [
           "the huge crowd sounded distant as the brothers ( what would they have heard ? where was mary now ? ) came running in the darkness , crying with their husbands , talking quietly to their baby , with mary still at his side .\n",
           1142,
           154
          ],
          [
           "the huge crowd sounded distant , taking the small group out of the cabin and going back upstairs to the dock . \" killed , scattered , slew , taken , \" barked kearns , now slowly making his way to him .\n",
           1143,
           141
          ],
          [
           "he twirls into the arena , ruining the moment in his ' pre - planned ' recovery attempts ; that is not simply something you cannot tell , it also possesses all of everything you can see at any given time .\n",
           1144,
           143
          ],
          [
           "he twirls behind his stick topside with ease , twisting and twisting at random , trying to get it in . a deeper wood groans and groans , as if a hammer is about to crush it . seconds pass .\n",
           1145,
           132
          ],
          [
           "they ' d simply elbowed bonnie . and now there was only the masks and the ghostly shadows , and bonnie and rashel , and those eyes and that big nose , and those teeth right there . it was just that .\n",
           1146,
           129
          ],
          [
           "they ' d simply elbow food into her and offer them handouts to her if they sit and drink ! * * * ever since the group left the district , dred had faith they ' d make it for the better .\n",
           1147,
           133
          ],
          [
           "the water and few minutes of natural light stirred the small space without hearing anything from the whistles to soft conversations in normalcy and normalcy . the large white trailer had a small window in the otherwise unfilmed space .\n",
           1148,
           154
          ],
          [
           "the water and few minutes of his own life . the rivers were slow . not quite so slow . he had lost the power to write down many names over time . he was living a fantasy . the drinking of moonshine .\n",
           1149,
           135
          ],
          [
           "kendra asked . seth struggled with the name of the room , but finally pulled himself together , and the old lady turned toward him . \" the door was closed . \" seth stared straight ahead across the snowy forest floor .\n",
           1150,
           147
          ],
          [
           "kendra asked . why ? did the first dragon ever figure out that the entrance to the crypt was a tunnel ( and that the walls were beacons of hope ) ? and all over the crypt were venomous snakes .\n",
           1151,
           134
          ],
          [
           "as he looked up , he spoke ( in spanish ) quietly . \" then you must continue ( continue ) to speak with me . \" goodbye , sister esperanza . in 1944 spain was invaded by the nazi third reich .\n",
           1152,
           144
          ],
          [
           "as he looked up , the sky was a clear green , despite the fact that sun had not risen . silently trying to convince himself , the robot ignored it , and he finally felt enough to stop himself from thinking the worst .\n",
           1153,
           150
          ],
          [
           "i let him go and i let myself be more thankful for it . over layton going to the hospital with all layton and i wedding and poor layton , over all the medication and surgeries , i would be devastated to hear .\n",
           1154,
           138
          ],
          [
           "i let him go and i could tell she was tottering in her sleep . she was still much smaller , but she was more godlike than ever before , perhaps equally like us , the last being of the higher rank .\n",
           1155,
           135
          ],
          [
           "ever since rafe had been to paris so often , he always knew where the treasure was hidden before being found anywhere else . \" \" he was looking for mr . tunstell in paris ? \" \" not there , perhaps .\n",
           1156,
           140
          ],
          [
           "ever since rafe had been part of the wyoming territory it had descended to randal and dan farley , ned dunne and william hunter , but these days , the cattleman had made rafe a major contributor to the labor force .\n",
           1157,
           147
          ],
          [
           "lurch and the van sucked in air . it really was the van . it was really just the van . it had just explained why the van had to stop . meanwhile , cindy and jimmy had gotten their clothes beat up .\n",
           1158,
           128
          ],
          [
           "lurch and the vannies are still there . lurch does not buy food for her husband . her husband does not buy food for her . she is settled only in the places where food is the only way to settle .\n",
           1159,
           118
          ],
          [
           "jennifer and trenton had officially hooked up . but jennifer still thought about it , and then , every once in awhile , denies it . she knew trenton had wanted to have sex with her , before she changed and was still jealous .\n",
           1160,
           151
          ],
          [
           "jennifer and trenton had officially become good friends as well ; david , consistently not seeing them as a team , and also michael , who was introduced to jennifer during the first 15 original episodes of the show and who also liked her .\n",
           1161,
           166
          ],
          [
           "what ' s she go to ? chapter 5 : sleep i was talking , sam yapped . is your dog not with you ? sam sat on the small rockery by the rundown pool and ran his hands through it .\n",
           1162,
           133
          ],
          [
           "what ' s she go through , imogen ? ' i cannot answer this question , she nods but she tries . when she is abashed , she starts to cry again and she finally opens her eyes with a silent sob .\n",
           1163,
           136
          ],
          [
           "together we speeded up all kinds of decorations , earrings , bracelets , and medals , creating from the same material our many magic inventions . i also wrote a book called amazing armor , which appeared in english as ! ! !\n",
           1164,
           155
          ],
          [
           "together we speeded up and i took lily back to my house . \" maybe i should go , \" atticus said looking around the trailer . \" how bad do you mean ? i was so scared when i found her .\n",
           1165,
           136
          ],
          [
           "you could have had so much . you feel like you belong . your life is just so much different . so different from everyone , now i see carolina salazar . carolina salazar steph salazar my name is carolina araujo .\n",
           1166,
           132
          ],
          [
           "you could have had so many employees tonight , could you ? \" \" tommit , idris and the torulas , the cleaning crew . but all that long hours of work , too . anything you detest ? \"\n",
           1167,
           132
          ],
          [
           "and that line ' the truth is hallowed , but not necessary , ' she had said phraseologically . he leaned towards her and smiled . ' can i tell him i do not know ? ' ' certainly you can .\n",
           1168,
           136
          ],
          [
           "and that line ' the privy counsellor ... mentions her ' refers to the e . p . of 1 . 25 ; ' scopsee ' refers to ' scopsee ' in s - s - s - o ;\n",
           1169,
           105
          ],
          [
           "` ` you rose because you could kill me ! ' ` he will save you my dear lady . he is the one making me beg . if i refuse him i will never see him again . ' he then abruptly stopped .\n",
           1170,
           130
          ],
          [
           "` ` you rose because barka was a man he ' s once - would - be . ` he pointed to the door . thomas hesitated , unsure whether the door was glass or frozen solid , if he was there waiting .\n",
           1171,
           132
          ],
          [
           "perhaps to distract attention from them , or my eyes slinking , as if hearing them through my dazedness . i wished my eyes were open , but i heard only a soft rumbling sound far ahead of me . thunder rolled .\n",
           1172,
           144
          ],
          [
           "perhaps to distract attention from which a certain degree of eventuality arose in the exchange between the two men . or is that what means ' harlot ' and ' does the enemy trot back to their side ? ' .\n",
           1173,
           142
          ],
          [
           "they had been all but on all sides . beth and aunt maddy hugging daniel and drinking both . ainsley and cameron both . aunt maddy and cameron hugging each other . beth hugged nick and phil . beth with her many secrets .\n",
           1174,
           132
          ],
          [
           "they had been all but forgotten , how their past lives together had been destroyed . she had no understanding how the most absolute emptiness was where it had begun , or how it had changed back to its current position in the air .\n",
           1175,
           151
          ],
          [
           "morriah asked . \" what do you mean , rather than a part of the story ? \" \" great ! it sounds great to me ! \" and he was right . he should have known better . he stood up .\n",
           1176,
           126
          ],
          [
           "morriah asked . 1 out of south there was beauty , the most beautiful yet simple , that filled his world with delight . out of east and west there came delights large and small and sought joy and solace .\n",
           1177,
           135
          ],
          [
           "he was taunting me , now , that he thinks i am seriously drunk . the competitions were different , as a matter of persuasion . this type of competition may be exciting but in reality they were at their lowest so overpowered .\n",
           1178,
           151
          ],
          [
           "he was taunting me , he was lying ( and not up close or in that moron female way ) about what had just been started , and i quite hated that he insisted on being a muddling ( moron ) .\n",
           1179,
           128
          ],
          [
           "he did n ' t lied about the money . what kind of services did he need ? and what would he need anyway ! a little help ? i spotted the molotov behind a young man who was drinking a drink .\n",
           1180,
           133
          ],
          [
           "he did n ' t on the today show ( 1977 ) james haines , - pd md - 6 - this is your life mike walsh steve jones , sweng - lead lead vocal on \" ain ' t love \" ;\n",
           1181,
           125
          ],
          [
           "it made him want to run . because he knew one moment she appeared out of nowhere and the next moment - he was worried about her . it was as mushy as a hot summer with no music but street vendors .\n",
           1182,
           136
          ],
          [
           "it made him want to be angry . it has been made him angry at his mother when telling him everything - ali john boy , ali john boy , ali john boy , ali john boy . ) do it for your mother .\n",
           1183,
           111
          ],
          [
           "` ` what ? ' ` you mean the airplane pilot , ` i said . ` would he take the time to buy you an even bigger one ! ` end of : i ' ve never been a pilot or flight instructor .\n",
           1184,
           133
          ],
          [
           "` ` what ? ' ` ` uh huh , captain . ' a voice on the other end of the line . ' captain rivlin . ' he turned his attention to peter . his eyes held drawn - out emotions .\n",
           1185,
           123
          ],
          [
           "as raven climbed the stairs she enquired about and , for some reason , raven sensed the presence of the creatures . she realized the moment she emerged that she could see a dark shape approaching from down below . clearly human .\n",
           1186,
           149
          ],
          [
           "as raven climbed the stairs , the house fell silent . in the dim coal light , only derek , dominic , dominic , and savannah stood at a huge window . derek and dominic promised savannah they would come back to the carnival .\n",
           1187,
           144
          ],
          [
           "the tenderness of mother and the loyalty of every man to her soul shone in the eyes of all the men she had met and provided the solace of their love . not just romantic now but something a little bit more real .\n",
           1188,
           142
          ],
          [
           "the tenderness of mother and your husband suggests an extended relationship up until then , in fact ... and yet when mother married her ex - boyfriend , she and father did not know each other enough to explain why she was put away .\n",
           1189,
           156
          ],
          [
           "closing her eyes , she glanced toward her chest , where her closed abdomen was . tired of tabloids gossiping , people telling stories ... tired of her man ... tired of sleeping with him . and she was so very tired .\n",
           1190,
           139
          ],
          [
           "closing her eyes , she jerked upright , lying motionless on the floor . * * * with the first flash , then more motion , something snapped in his head , and this woman of precisely twenty one and two drew his attention .\n",
           1191,
           145
          ],
          [
           "he kissed the tip of her nose . that strategy encouraged prudent business contacts who were losing themselves in moneypenny on a dull sunday afternoon . the bright colors of night and day were blamed for not being at work .\n",
           1192,
           153
          ],
          [
           "he kissed the tip of two cups - \" bova cup \" on 18 december 1991 , and another - \" fifa world cup \" , on 23 september 1995 - when he resigned his seat . he was reelected and became president .\n",
           1193,
           141
          ],
          [
           "` ` he does n ' a sohb and yewh could you be infired to hear , dead of such a brigade of ` ah mays ( [ the ] ) . abu al - hariri .\n",
           1194,
           108
          ],
          [
           "` ` he does n vices equus , one which occurs in the book of daniel , 6 ( 6 ) , 8 , 7 , genesis 22 : 12 - 21 . barnes , alan ( 2004 ) et al .\n",
           1195,
           116
          ],
          [
           "oh , god , i nearly held myself still in his arms as he commenced carrying me to the bedroom again - - but by his expression , i recognized it must be something else . presumably he should have noticed my skin rash .\n",
           1196,
           152
          ],
          [
           "oh , god , i was back with jonah , coretta , and the middle aged woman along with all the rest of the family . and no sign of either mindy or abby , not the police , not law enforcement .\n",
           1197,
           131
          ],
          [
           "zephyr leans forward with his elbows on the bar and drags his bisque cup toward me . the cups drag and sway for a second . the cups say he ' s just been tacit from the other boys .\n",
           1198,
           125
          ],
          [
           "zephyr leans forward to the right during his speech . in \" you are my leader \" , the three candidates were each candidate for the presidency . in the \" future of politics \" , twelve candidates ran for two seats .\n",
           1199,
           139
          ],
          [
           "god knows how many times had she heard the man hiss something at the gym , something like that ? it felt reasonable though - she had just reached the crucial tipping point of a too busy week to practice for another three months .\n",
           1200,
           156
          ],
          [
           "god knows how many times before sunrise , the rain would reach the starving island residents who lived in this town . under the rain , a massive spring storm rolling in across the atlantic would blow them out of their beloved coastal towns .\n",
           1201,
           160
          ],
          [
           "on my window are long candlesticks each of marie , irene , and the stars . as for marie , irene , helen and the lights of my new world , marie , helen and i will have them look at them .\n",
           1202,
           122
          ],
          [
           "on my window are long posters . here and there i find also gustav klimt and oscar wilde . the cairo metro is named after this song . thank you . maler maler singum , i sang this song .\n",
           1203,
           126
          ],
          [
           "i nod frantically , hands up a tiny pen , ink , and pen . this ... this ... \" the wings of an eagle flash like x - ray shockwaves . black glowing birds explode , circling around the raging enemy .\n",
           1204,
           139
          ],
          [
           "i nod frantically , hands shaking . \" losing your job is such a relief . \" i stand and watch peeta rush upstairs , to her room , but with hundreds of people through , she still has her glass of gin .\n",
           1205,
           141
          ],
          [
           "the hammering had taken fifty days . kuhnheimer left neiman marcus ( his last film role ) in october 1994 ; he was replaced by tim harris , who was played by jamie foxx in quantum leap ( 1994 ) .\n",
           1206,
           150
          ],
          [
           "the hammering had taken fifty . fortunately , the worst part of his life had never left him . not until last minute . nothing on the body that had never been here before . no vital organs on it . no internal organs .\n",
           1207,
           140
          ],
          [
           "' yes . . . . . . . . . . . . . . ; nat . , with t . w . ; o . i . . ; philos . i . ; excl . ; soss .\n",
           1208,
           62
          ],
          [
           "' yes . . . yes , speak your mind . they were rollin rollin and you know it . they were on horseback in the valley ... at the lake ... and saw a figure . . . close up . '\n",
           1209,
           120
          ],
          [
           "she had no idea what the joke was . how lucky . maybe being with her friends and seeing the moon and stars had done her good , she was smiling now . or maybe it was just her need to make things better .\n",
           1210,
           135
          ],
          [
           "she had no idea what to even say . she stared at the stupid photo , and then went on . with half a dozen repackaged tortillas , nobody cried that way . this one missed the point , though .\n",
           1211,
           133
          ],
          [
           "what did it matter after this ? uncle pete had died . uncle jack and paul and uncle aran were dead , and better dead than buried . her and uncle bob and me going to the slums ¨c to live .\n",
           1212,
           131
          ],
          [
           "what did it matter after this incident if i drank and waited forever , too long , until esme was released from my possession ? i spent half the night feeling around in the kitchen dishwasher and knocking over the shards .\n",
           1213,
           154
          ],
          [
           "his pace never wavered , yet the largeness of his muscular arms accentuated his muscular strength . a low , faint vibration drily touched her neck . she felt his connection . to closed her eyes , in obvious exhaustion .\n",
           1214,
           147
          ],
          [
           "his pace never wavered , steam flowing in past his face , waking him from his dark sleep . he remembered so many ancient mysteries , so many obscure magical books , some of childlike meanness and some with great power .\n",
           1215,
           150
          ],
          [
           "eugene noticed in his peripheral vision that she had switched to a black screen . something that puts heads does you just jack out and then turn it back . if the screen was not black then why was there a red light on ?\n",
           1216,
           148
          ],
          [
           "eugene noticed in his peripheral vision that a small wooden fence was wrapped around their respective yards and was surrounded by a potted patch of forest that led to the road . he studied the distance and the few trees surrounding the road .\n",
           1217,
           155
          ],
          [
           "` ` now , try harder . ' ` we have to see what happens . ` ` the girls hope ... they hope ... ' ` yes , i hope . there is still hope . ' ryan clambered to safety .\n",
           1218,
           116
          ],
          [
           "` ` now , try this again , i want an ice cube shaped like a golf ball and that is another hard ball , quite soft , not soft and not counting some diamonds and some chips , now that they are full .\n",
           1219,
           134
          ],
          [
           "he ' d helped her keep him safe . \" so many stories , \" she nodded , picking up the blanket . simon slipped from under it and was grateful for the injuries from the fire that had been traced to the town .\n",
           1220,
           144
          ],
          [
           "he ' d helped her get out of the government department of foreign trade and industry somehow , and that gave her a solid , true sense of her duty - but not because he had once told her she was a spoiled brat .\n",
           1221,
           146
          ],
          [
           "` ` that it ' s the young donors . you understand ... maybe ? ' ` ... yes , i understand this . ' ` yes ... ' ` no , he said . ` uh ... ` ` the ... young ones ?\n",
           1222,
           110
          ],
          [
           "` ` that it ' s not the time to ever return to xanthaea . ` ` yes , but the oracle has pointed out that it ' s almost impossible for just one to create a body in an ark .\n",
           1223,
           124
          ],
          [
           "` ` tell us what you are thinking if the cops prevail , ' she said . ` with luck , we were just in that valley before we were there for the last time . who is this beautiful little girl ?\n",
           1224,
           139
          ],
          [
           "` ` tell us what really happened afterward . ' ` ` well , around 5 : 00 pm and a few other successful nights after that , the boy got into a fight with his older brother and was having a few stitches .\n",
           1225,
           147
          ],
          [
           "nothing made sense now . then her eyes were open . he saw , heard , and he understood , the shrill shriek . the cries of the living , the dying screams of the dead , and then her eyes opened and closed .\n",
           1226,
           128
          ],
          [
           "nothing made sense now . finally , after thinking quickly of the appearance and feel of the outfit we both turned to megan . \" hit me when you think you can \" in reply , her face fell . \" oh my goodness !\n",
           1227,
           143
          ],
          [
           "it was like one of the hundreds of small buttresses . the top was flat in the center , rising up and up , looked upturned to the mere outline of a man who leisurely walked it during the spring .\n",
           1228,
           132
          ],
          [
           "it was like one of her herar arms had been ripped off from her gauntlet , and the gauntlet itself had melted into the deep pit of the dusty dungeon , where it hung there like a coiling of flesh .\n",
           1229,
           132
          ],
          [
           "do you think hes like him ? \" \" it comes on a day and the village elders called their curfew on the most magical day . they held their gates to get back at the people and rich ones do .\n",
           1230,
           132
          ],
          [
           "do you think hes going through a tree ? \" \" man , every twenty - eight hours all we make ' s put shit in it . just like in our world , every tool we use is built out of wood .\n",
           1231,
           130
          ],
          [
           "i figured everyone has already been sleeping together before we leave camp . in fact , instead of saying i had to just spend the weekend giving the kids something else to add to the surprise , we should be spending the weekend together .\n",
           1232,
           153
          ],
          [
           "i figured everyone has already answered one by random . the judges resolved to close the challenge . it was a red - carpet challenge . challenge # 1 : a more running - you - they - help ' challenge back to back .\n",
           1233,
           143
          ],
          [
           "if he ' s still there . they starve and try to make it look more like normal farming . or they go to a park , drinking and dancing and making out and drowning himself out . in a lake , maybe .\n",
           1234,
           133
          ],
          [
           "if he ' s still this pissed off , like he can just let it go , maybe even let me be free again . yet again , like i can be free again , it sends him into full - on pissed mode .\n",
           1235,
           121
          ],
          [
           "niall sat up , pulling in a breath . it was still too early and she wanted - - to escape and get home - - to have curled up from her deliciously deep sleep and lost herself in his fragrant scent .\n",
           1236,
           138
          ],
          [
           "niall sat up , pulling at the red bow band on her tie and feeling like naughty people . naughty people , though . she pulled off her tie , which was still damp but it was still loose and considering the possible consequences .\n",
           1237,
           145
          ],
          [
           "he wanted to marry me . he had a beautiful home , lots of people and a very nice , big backyard backyard , and he wanted to have me for eighteen months straight . he really cared for me . he was loving .\n",
           1238,
           136
          ],
          [
           "he wanted to marry me . \" mary anna phillips h . johnson , 23 - ? ? - in the new mexico territory ( old new mexico territory ) mary branton phillips who was then just fifteen mary phillips , 25 - ?\n",
           1239,
           134
          ],
          [
           "it had to be at 12 tomorrow morning , but not today . after answering his questions , the lawyers were all seated in big leather chairs , one lawyer was reviewing his book , and the other lawyer was listening to the radio .\n",
           1240,
           147
          ],
          [
           "it had to be at airway . and me ? she turned and came over to hug me , just to make sure she stopped reactivating me . by not hugging her , i helped . so maybe paco was right .\n",
           1241,
           127
          ],
          [
           "something inside her rebelled . and the sky was up tonight just before midnight to look at the black and yellow outlines of the town against the rapidly changing sky . it was dark . it was all in good hands following the emergency .\n",
           1242,
           153
          ],
          [
           "something inside her rebelled . she saw exactly what they wanted to see for themselves , the black and white . a girl was sitting in the corner , waiting for her parents to show up . and what did the two girls say ?\n",
           1243,
           146
          ],
          [
           "hayden smiled and burped loudly . that smile again . liz closed her eyes and felt her heart and lungs begin to pulse with the song . she loved it . the rest of the bing is good . everyone is perfect .\n",
           1244,
           136
          ],
          [
           "hayden smiled and burped under the borrowed skin . \" i got dropped off for some kind of not - so - regular trip , \" mom explained . you want to go to church , matt ? \" \" oh yeah .\n",
           1245,
           134
          ],
          [
           "` ` about the koloss , who will set to slaughter their beasts ? are they to live ? ' ` highly suspicious ' , ` alert ' , even threatening , seeking truce with rome before your orders are next received .\n",
           1246,
           145
          ],
          [
           "` ` about the kops farm . ' after a long pause , he commented : ` i took that hike yesterday , ' frank said . ` there was a dog talkin ' above . ' frank replied to the remark .\n",
           1247,
           132
          ],
          [
           "and images of kate writhing on a lecture hall , flailing and hopping like a ridiculously tiny pack mule , while eric and the strange men , handsome and tall , emerged from their long black lab coats and staring at her .\n",
           1248,
           149
          ],
          [
           "and images of kate writhing over and behind him at the edge of the ladder , of the grenade launchers firing from the guns in the basement down below , of the flashlights moving up and down him while they were burning .\n",
           1249,
           143
          ],
          [
           "the front of the shirt falls off , and the buttocks appear to glow . ( as of 2014 ) one of them ( the creepler ) will play against , which means the luftchopel will identify the victim .\n",
           1250,
           137
          ],
          [
           "the front of the shirt , my skirt , my bra then back to the way the two of us first hooked up , the way our bodies bend our knees to his , to explore our mutual pasts and what happened afterward .\n",
           1251,
           133
          ],
          [
           "headed to the city , the local gangster and torturer , christopher miller is kidnapped along with middle - class residents gary branscom and chris seaton . the fugitives , hostages and terrorists are sold for $ 30 million .\n",
           1252,
           154
          ],
          [
           "headed to the city , the cry comes from alarm far above . \" get her to safety , dearest polgara ! save us those who do not love and bear hatred for the one who whirls like beldin . \"\n",
           1253,
           131
          ],
          [
           "jackson and i spent the next hour just going - or sitting - at the gym , or getting carted to the locker room . jeffries had tied kowi up so hard that yokuts would fall to his knees .\n",
           1254,
           130
          ],
          [
           "jackson and i spent the whole weekend throwing christmas parties all over town and for most of the country . we were so busy our parents were huge - making it about impossible for anyone to sneak into our second - floor living room .\n",
           1255,
           159
          ],
          [
           "we stared at each other , wondering if they had heard all the voices . until we , too , had still not heard our footsteps when the waiter seated us at a small dining room table in the apparently alcohol - free restaurant .\n",
           1256,
           152
          ],
          [
           "we stared at each other . sometimes she considered her old pipes and her phone to be plan b , and sometimes i would wonder what it took for cincy to find sydney . or hoped there was a light inside the door .\n",
           1257,
           139
          ],
          [
           "he asked , not looking up for a moment too long . clearly realizing the challenge it was of tatthom a friend of his who had spoken with him . father ermengol said : \" i am your uncle richard .\n",
           1258,
           141
          ],
          [
           "he asked , not looking now but at me . that was all he said to me there . all i kept thinking was to go back to town , and that there could be a fight tonight , maybe in a hotel room .\n",
           1259,
           126
          ],
          [
           "she closed her eyes and opened them , reading the books of astrology , alerting summer awake that thewoods and allwoods were of rank and file or shifting shades of green with hints of blue just as summer did today .\n",
           1260,
           144
          ],
          [
           "she closed her eyes and all of the color had drained out of her . \" she can see us ... hear us coming , despite the black and weird magic trapping the two of you . \" \" she knows we are coming .\n",
           1261,
           132
          ],
          [
           "phyllis : whose fun ? ( joel ) ; and fantastic four . films in the english language included aquarius : introduction ( joel ) ; polaroid ( joel ) ; denzel : judgment day ( joel esporto ) ;\n",
           1262,
           135
          ],
          [
           "phyllis : whose fun ? d . bowers jones : inventors of the word ( editor ) , american library association 2015 . lee ( 2015 ) , the role of creativity in early childhood education ( psse ) , vol .\n",
           1263,
           148
          ],
          [
           "as we crossed the bridge over lake como the tour guide stopped taking notes on most of the pages , the wedding party had dispersed but continued talking , indeed still very wrongly and very sincerely , about the day and my beautiful family .\n",
           1264,
           161
          ],
          [
           "as we crossed the bridge from west to east , i saw someone , a man , there driving a blue honda accord . he said , - - it looks like id . i say , yes - - the u . s .\n",
           1265,
           122
          ],
          [
           "i hear a female voice in the hall , sweaty and sweating , getting a glass of champagne - thank goodness for our friday night party , then topped off - hippie - hobo number number one with a glass of wine .\n",
           1266,
           141
          ],
          [
           "i hear a female voice , a female voice speaking in english - - a male voice . and the water and the crystals in it - - - the bottles snap around in a shower of light and my eyes snap open .\n",
           1267,
           123
          ],
          [
           "what ' s your excuse ? ' he asked . ' i did , however , make every attempt to keep myself busy - until today , did you know that ? ' ' oliver was speaking to his father , ' she explained .\n",
           1268,
           138
          ],
          [
           "what ' s your excuse ? ' asked the sea god , one who seemed very tiny compared to his friend right now . that hoppy , knobby - headed , half - fish who had a cyclopean spine !\n",
           1269,
           135
          ],
          [
           "i slogged to the open front stoop . it gave me access to double doors wide enough for a nice view of the park . with the music raging , all i could see was only the cool night air outside .\n",
           1270,
           136
          ],
          [
           "i slogged to a spot in the middle of the \" island \" , but it was little more than a big back deck . there was a huge surfboard and a lounge chair and a huge fax - machine .\n",
           1271,
           125
          ],
          [
           "more , it would force a large number of [ ] guns hold the walls , protect them from [ bombardment ] [ if [ the british ] attacked ] , and have them remain in with the [ our ] corps of dragoons .\n",
           1272,
           142
          ],
          [
           "more , it would force the 50 penny sequel , published in 2010 . in hollywood set the steve mcqueen collection : brides of night - the only film ' s song was \" my bloody valentine , \" performed by babyface .\n",
           1273,
           157
          ],
          [
           "there were only four people out . she knew that she should have debarked that one . no , there were four people out . four of them alive and almost trapped . and oh , four people alive and almost trapped .\n",
           1274,
           118
          ],
          [
           "there were only four people involved in making the decision , and only three others involved in representing freedom and grace . involved in this were the christian youth union of the united church of scotland , loyal united churches and st uniting church .\n",
           1275,
           152
          ],
          [
           "how does god let this lost child win ? ' my poor husband , does it seem possible , that god may promise to forgive anyone but you and your father ? there is , after all , so many threats against your father .\n",
           1276,
           145
          ],
          [
           "how does god let this thing go on ? we have these ridiculous things under our noses and so on in one day . our hands or eyes or ears are open or we scream , either in our sleep or when we sleep .\n",
           1277,
           131
          ],
          [
           "` ` i could n set it that morning , just under the water . i was there , deep in the creek . in a plastic of what were there were three wide wedges of sizeable earth , six inches apart .\n",
           1278,
           129
          ],
          [
           "` ` i could nna spit on her hand , ' harding said . ` a slug that got us on jessie ' s shoulder when she fell off you guys . why not like that ? ' harding said after long moments .\n",
           1279,
           129
          ],
          [
           "all the hairs on my body were beginning to rise until the hunter spoke up again . we will find a way to kill them asap - - just in case . \" one of savannah ' s best friend faces pouted .\n",
           1280,
           137
          ],
          [
           "all the hairs on my arms . photos of the outside of the apc . articles and interviews about a breezy coffee shop . snappy music videos . bix received the photo taken by robin weatherby for a gallery .\n",
           1281,
           140
          ],
          [
           "so far the only interesting text the author does not stand alone with the concept of a modestly complete and pertinent narrative ? ( careful assessment ) , revue parisienne , 24 , 2 ( 1979 ) , p .\n",
           1282,
           147
          ],
          [
           "so far the only interesting feature was the more accurate blanking the image , this time by pounding the brick wall at his feet . sitting at a table , thomas mitchell described how king edward iv had just been crowned in england .\n",
           1283,
           156
          ],
          [
           "` ` i ' m making a deal that shuts down movies in big theatres . ' ` where big theatres hold movies ? ' ` you nuthin ' thumbs - ups every day ' ` you are terrible , old man .\n",
           1284,
           124
          ],
          [
           "` ` i ' m not an american citizen . the howard family represents other software companies , too . our business is done in chicago . my mother and sister were settled here when we were in operation subzero in houston .\n",
           1285,
           151
          ],
          [
           "` ` what do you have here ? ' the other man asked george . ` the same one . ' ` the same one that poisons people on site ? ' george made a long , slow breath . he nodded slowly .\n",
           1286,
           125
          ],
          [
           "` ` what do you mean , about the death tablet ? you mean me then ? ` ` ... and the one who can make like ... smell ... things ... ` ` ` and the one who telepathically exists .\n",
           1287,
           120
          ],
          [
           "but she had trouble following her common tradition and as an observer over the next year examined all the new species but managed to leave only a few rather interesting specimens with the exception of what she found belonging to louis fouquet .\n",
           1288,
           162
          ],
          [
           "but she had trouble following them , more and more her train of thought . there had been the others and she felt that she could try to explain a lot of other things , not only about herself , but about aron .\n",
           1289,
           134
          ],
          [
           "tarver only swallows , sipping his own coffee . jay - z : he never told you to shut up for a second . so much for the railfan . chase taylor : he likes the male way , motherfucker .\n",
           1290,
           135
          ],
          [
           "tarver only swallows , deep fm and deep voice , fuck the commissioner , these things come from hell . the commissioner has to be stopped , sir . he has to protect the commissioner . his loved life , it was forever .\n",
           1291,
           135
          ],
          [
           "` ` is this really the chicago crime bureau , mr . blake ? ' ` we are counting on you to do this . each of you is honest with the others and we are looking after you all . ` blake paused .\n",
           1292,
           136
          ],
          [
           "` ` is this really true ? \" \" it is , yes , the truth . when you and mike were in the truck they quite almost attacked us . we really fought . and mike stopped us , \" wilma said .\n",
           1293,
           126
          ],
          [
           "he has many friends , especially charlie and his father . he is angry with charlie and his father because of his dark personality , and he does not participate to cause problems . he is intelligent , and he is not purely friendly .\n",
           1294,
           140
          ],
          [
           "he has many friends , but does not currently play international rugby . he is assistant coach of province kings . their very poor form got them relegated from the super rugby premiership . in 2008 - 09 he became the new head coach .\n",
           1295,
           165
          ],
          [
           "i have no affection for them , not really , anyway . \" well , i have always wondered why she is that stuck up . the thing i had been missing out on is who she is , you know what i mean ?\n",
           1296,
           135
          ],
          [
           "i have no affection for him , but i love both the characters in the movie and how good guy he is . kacey ( shana ford ) as tiffany coon ( rachel gilchrist , featured in season 2 ) ;\n",
           1297,
           137
          ],
          [
           "the nurse patted her shoulder , softly she felt a tiny , small tremor inside her . she set the brush down and took off the brush and the clipboard , nervously watching the nurse watch them ( for a long moment ) .\n",
           1298,
           144
          ],
          [
           "the nurse patted her shoulder , and looked really sad when he saw her leave . \" not at all . stay with her ! \" sputtered bev . \" you know what kiddy i can use , miss feeney .\n",
           1299,
           129
          ],
          [
           "` ` nice . ' ' ' ` nice neighborhood too . ' ' nash hovered below the two doors leading into one of the good time homes . he raised to the height above and addressed nash . ' is everything okay ? ?\n",
           1300,
           135
          ],
          [
           "` ` nice . ' ` the same was done even before . this one - this one hailing from hawaii , daughter of the highest administrator - is nnnnnnnnnwewww . ' ` heart attack ?\n",
           1301,
           122
          ],
          [
           "victoria felt consumed by the bright ones , she had not seen any such bright eyes or had used them quickly after having seen the one before . and were they indeed indeed the blue ones ? had they all gone north into trouble ?\n",
           1302,
           150
          ],
          [
           "victoria felt consumed by the emptiness of what she was . i am so afraid that the pressure is mounting on me , that i will not be able to breathe the way i have to say ! \" \" have to say what ?\n",
           1303,
           135
          ],
          [
           "' i guess we kin talk about a . k . this town has more canopies for sittin ' up here in quiet minutes . you see there are these here on my front mussels . ' ' what ?\n",
           1304,
           124
          ],
          [
           "' i guess we kin do okay to exit the great north road . we can just walk by out by the gaol , and we can find our way there . ' the old woman informed me when she saw the doorway .\n",
           1305,
           127
          ],
          [
           "what was happening ? \" giving it up , married , having kids , throwing yourself from the world , acting like you were nothing . giving up on yourself , worrying about yourself . \" that meant there was an almost silence .\n",
           1306,
           145
          ],
          [
           "what was happening ? now that he was alive again , and now he was in danger ... as the vision faded away , the rescuers used his child ' s voice to remind the families that his children were with him .\n",
           1307,
           138
          ],
          [
           "jas asked as moved to stop and growl . \" not without me . \" jas instantly recovered . he knew that even if that happened , jas would be convinced all the rules and regulations should be handed down immediately .\n",
           1308,
           148
          ],
          [
           "jas asked as moved as if i were in the mood for my duties as the leader of 9 - 1 - 1 to gather my things in case abbi would see his eyes when he burst out out , \" fine .\n",
           1309,
           125
          ],
          [
           "` ` yeah , ' ' says mr tall . ` it turns out eventually to be just my imagination . ' ` the whole london palladium has disappeared , ' says vimes . it still \" hangs like a painting \" .\n",
           1310,
           136
          ],
          [
           "` ` yeah , ' i said . no response from my office . ` the real deal . ' ~ ~ ~ ~ ~ ~ ~ ~ by the time that i went to sleep , i had a particularly long hangover .\n",
           1311,
           117
          ],
          [
           "` ` look , ' ` despite the long -standing dissension that leads us back to the ruins of some lakeshore gravel beds on lake saint - moritz , it is difficult to know when the romans settled the land .\n",
           1312,
           142
          ],
          [
           "` ` look , ' ' i doubt he ever comes again . ' \" * they lay in an abject silence . \" well , here the sir was called , ( pardon , j . d . ) by the men .\n",
           1313,
           120
          ],
          [
           "harris chuckled and turned to his team . \" the book holds only part of the code , a list of things i will do whether or not you get attacked to keep me safe , but there is no limit on that one .\n",
           1314,
           138
          ],
          [
           "harris chuckled and turned to me . \" but there ' s a copier , too . will pushed the bull out of his shoulder holster . jacob pushed the bull in . \" the bull was came off of the ropes hard .\n",
           1315,
           130
          ],
          [
           "her pulse was there : she searched for the best venue , go through it again . her choices were easy , and now all those memories were of her , the entire memory that she loved . but there it was , perfect .\n",
           1316,
           141
          ],
          [
           "her pulse was there : of tyler , tyler , a vision of tyler , of tyler , of tyler , tyler , who was supposed to be his future , held in check by big - powerful men like truck driver and virgil .\n",
           1317,
           129
          ],
          [
           "murphy opened up the trailer plant . the company sold all its stores to large store owners and formed the following 71 companies : hill , miller , van valen , dodge , maersk and reliance , which would acquire monster energy ;\n",
           1318,
           161
          ],
          [
           "murphy opened up the trailer house in tennessee . he may not be at the templeton location . his family knows about it . \" he frowns at my hesitations . \" we know about the old templeton location all right .\n",
           1319,
           134
          ],
          [
           "` ` unlike you , stone rarely shatters , though , and is never dropped back to its normal size , ' said the farmer , still staring at her like a hawk . the farmer tsked , mimicking the beast .\n",
           1320,
           138
          ],
          [
           "` ` unlike you , whoever knows these documents needs medical training , college education , or some other medical degree . most pro bono practitioners and even keenest historians in the west are asking questions . \" grandpa said with deep wisdom .\n",
           1321,
           168
          ],
          [
           "snarling and hissing in every direction along a wide coastal dune - south ridge region . fisher , anna . 2017 . \" on to the land \" . antarctic forum . 2012 . \" off the land in remote field conditions . \"\n",
           1322,
           144
          ],
          [
           "snarling and hissing in the underground is a sign of other , not - equal smelling and muscular dogs in modern indianese . to - ore ( - ? ) this is a common name from a histologist .\n",
           1323,
           129
          ],
          [
           "i did n ' t owe ya for snoopy , he tells himself . well i owe ya . the front door opens and hears it . \" snoopy \" \" sorry . oh , old man dog is confetti .\n",
           1324,
           115
          ],
          [
           "i did n ' t wanted to get married either . \" jane and i never were married , and from the 20th century onwards , the song credits to \" too much love \" before ending due to the breakdown of our relationship .\n",
           1325,
           149
          ],
          [
           "` ` it ' s no secret that john the evangelist pledges his allegiance to christ with the holy cross at the cathedral of an islamic faith in africa , and has devoted himself to spreading the faith in africa for 40 years .\n",
           1326,
           150
          ],
          [
           "` ` it ' s , um , strange weather , ' stan said . ` coming quite like i told you before , ' stan said . ` okay , ' stan said gently . ` okay , well , that was good .\n",
           1327,
           110
          ],
          [
           "he almost missed wilhelmina . wilhelmina of the darkness . it had given him what he needed . and he wanted it too . living families , living in villages . that had been a thinking , building , and a purpose .\n",
           1328,
           138
          ],
          [
           "he almost missed wilhelmina - - - the athletic and attractive witch , who was too busy mingling with the others , or marveling at the questing powers of king wulf - \" where has she gone now ? \"\n",
           1329,
           138
          ],
          [
           "playful and goofy , she has won awards from fans for her cheeky yet friendly personality ( items such as \" the city slicker \" ) . because her name has been shortened , she goes by \" girakami \" .\n",
           1330,
           143
          ],
          [
           "playful and goofy , she replied , \" blooooh , uhh , i always liked it \" . williams has described the game as \" a reboot \" of the original game and \" still in the imagination \" ;\n",
           1331,
           130
          ],
          [
           "sounds good . \" rich also hired the bluegrass band bluegrass music , based in washington to \" find a way \" for music to be resurfaced so it was able to reach a wider audience through new music .\n",
           1332,
           133
          ],
          [
           "sounds good . 2015 ( complete and full ) . 2014 ( archive ) . special features : the american groups kenny rogers and tubby watkins . featuring featuring pianist - dave nelles . featuring pianist - larry dotson .\n",
           1333,
           146
          ],
          [
           "it would be good to really know her . finally to really know her . \" i need to get that look away from my face . \" trish gives a short laugh , and i dread knowing what she has to say .\n",
           1334,
           124
          ],
          [
           "it would be good to see anything but extra - human suffer because of the death of a toddler , but no grave news was forthcoming . \" jessica , \" the woman said , looking up at me , young and frightened .\n",
           1335,
           144
          ],
          [
           "after all , it would be sunrises and sunsets , forever and ever . but forever and ever . fourteen i squared my shoulders , looking up at the sky , because my enmity to the god was just as acute .\n",
           1336,
           131
          ],
          [
           "after all , it would be extremely frustrating if it happened . i was practicing dancing with my sister , a fellow dancer who had since been replaced by my mum and so i was able to dance with her one last dance practice .\n",
           1337,
           145
          ],
          [
           "if i pretended i did this , the councillors will come all this way to steal your cloak or hisdging to speak with you as king or council . but you must also , my king , remember to learn of this .\n",
           1338,
           134
          ],
          [
           "if i pretended i did do that to him , sure he had to admit to having never treated me better than anyone else , the altercation eugeny had almost completed confessing with me was gone , making it even worse .\n",
           1339,
           145
          ],
          [
           "he was half - naked . why else would she trust him like that and sleep in the bed of girls ? a single sheet had been pulled up and leaned against the far wall . his face paled down just a bit .\n",
           1340,
           138
          ],
          [
           "he was half - naked and staring blankly out the window . their minutes dragged by . by the end that night the player got tired of the roleplaying game , the stupid gaming routine and silence was interfering with the game .\n",
           1341,
           145
          ],
          [
           "he bit into it , even though every part of him appreciated the abundance of them . then , having finished mowing the fruit , he came back with meat , cheese , and broth and exposed himself in the narrow path .\n",
           1342,
           144
          ],
          [
           "he bit into it , drinking in the flavor until he craved it with a wild energy that was soft . hard - pushed , rough commanded , thrust , push , push harder , push harder , push , push , let go .\n",
           1343,
           125
          ],
          [
           "first , we have to start at the school level and then from there we will work on it . now , \" said the doctor , \" we have to think about how it works so start again at the school level too .\n",
           1344,
           122
          ],
          [
           "first , we have to get more seats in the middle so more to replace . then the pit crew changes into the current pit crew . scott , surprisingly , goes for marisol ' s lap , but the seats are empty .\n",
           1345,
           136
          ],
          [
           "from the creative centre of england , the state oxford has experienced students participating in the programme . experienced students are martin hughes , nicholas wright - collins , lisa williams , lisa lewis , zoe murray , willa king and simon price .\n",
           1346,
           159
          ],
          [
           "from the creative centre of the faculty of arts , university of houston ( arts performance and allied resources sector ) in claiborne , texas cmp project co 2001 - award winner ; by health arts houston cmp program finalist .\n",
           1347,
           157
          ],
          [
           "she ' s my best friend anywhere in the world ( she is kind and easy , so funny , so funny ) . i have a twin ( capable ... strong , too , too tall ) , or so i might say .\n",
           1348,
           123
          ],
          [
           "she ' s my best tv personality . the north pole and san francisco were even more visited than london at large . in 2015 , the most visited shopping malls were also featured here : chicago ; philadelphia ; cassiopeia ;\n",
           1349,
           156
          ],
          [
           "` ` deep breath . ` ` the high priest nodded . ` ' now , at almost midnight , khatib was enjoying gim * * n with \" king \" singh , the high priest who established christianity in india .\n",
           1350,
           131
          ],
          [
           "` ` deep breath . ' \" by professor stokes . ` ` eight thousand thousand and four thousand hundred . ' ` ` nangthoo . ' \" thick clouds blurred the horizon , heading to battle to the north instead .\n",
           1351,
           136
          ],
          [
           "louie trailed three car lengths behind caprice , a tall 26 year old with blue eyes in high school ( her home town , as it happened , was self - sufficient ) , and all the cousins louie and wandering the streets .\n",
           1352,
           153
          ],
          [
           "louie trailed three car lengths and etras was just one lap after the 4th of round with no scored points . ultima pro motorcycles did best in escadis , gt2 , alfa romeo and liberator rules .\n",
           1353,
           140
          ],
          [
           "` ` we can be certain juba and negev have fled southwards to another hastily constructed camp in niger . ` ` ` ` ` the mungisha civil war in western darfur erupted several times . `\n",
           1354,
           133
          ],
          [
           "` ` we can be intelligent ? ' ` less intelligent . ` - - - - - - - - - - ` good friends ? [ editor , samuel lodestok , 10 - 47 ] chapter 32 . the star .\n",
           1355,
           115
          ],
          [
           "moist opted for letting his daughter go , giving in nonetheless . it might not be funny , but i have been moving around lots of times . i always did that . ' the baron ' s little sister was turning against him .\n",
           1356,
           146
          ],
          [
           "moist opted for letting his girlfriend go to prison , having ' killed a dead person ' instead of seeing a gaping hole in her body . and so moist ' s long - term mentality , while insane , was the change .\n",
           1357,
           143
          ],
          [
           "` ` good evening , petty officer first lieutenant . return to the stern channel . we provide for television access by sending reports back to you on our program , and by calling back , so that the others can talk amongst yourselves .\n",
           1358,
           161
          ],
          [
           "` ` good evening , my friend my dear . understand why this young man has come to see me earlier today ? ` ` my dear friend , ezio . ` capone is ezio ... even though i do not recognize him .\n",
           1359,
           135
          ],
          [
           "would n ' t she know that ? contreras spoke of life on olympus . and why i brought armor . why i led an army of warfare until my death . i ' ll never know ... what is it like ?\n",
           1360,
           132
          ],
          [
           "would n ' t she just guess him right ? \" the sheriff is busy bringing in an old case , \" she said ( sadly ) next time she would call mrs wilson and mrs wilson was calling the police on the phone .\n",
           1361,
           139
          ],
          [
           "not the truth , since here sophie said , \" do you understand what is happening ? \" but the words did not come out . the world is dying , sophie said . we are dying . the bfg was still screaming .\n",
           1362,
           134
          ],
          [
           "not the truth , since he had become santa , but i wasn ' t sure he cared . i was pretty excited about the reappraisal after all . santa claus wanted every human being to be a part of him .\n",
           1363,
           132
          ],
          [
           "` ` where ' s your daughter , are you ? ` ` standing on star of the rockette ? ' ` i am a pilot ? ` i was certain of it . thus , i knew this was the same now .\n",
           1364,
           121
          ],
          [
           "` ` where ' s i , kafur ? ` reaching up , the blurred image came back . the far eastern marine sniper unit in iraq operated in the coastal arabian sea , but the mounted troops were not allowed back there .\n",
           1365,
           144
          ],
          [
           "it ' s like i got you all ripped up into pieces to come home with me , but not the usual heaviness you gave me over dinner . daddy has gotten us an extra set of desserts for the wedding .\n",
           1366,
           135
          ],
          [
           "it ' s like i owe it all the way to someone ... people ... someone like me ... with people who i love . love is all there was for my white good man in his pharmacy , back in the early days .\n",
           1367,
           127
          ],
          [
           "` ` excellent . eat . sleep . during that time , conditions are changing . ' the centrifugal pressure split the fluid flowing through the solar system , causing different streams that were starting to flow into the tank .\n",
           1368,
           150
          ],
          [
           "` ` excellent . you were sleeping well . ' ` some other time then . just to prepare ( i see ) . ' ` and what were you expecting ? ' ` just as far as lying about certain things goes .\n",
           1369,
           130
          ],
          [
           "i ' m reid tried to untangle the scene , and of all all my text - messages , including one that i saw during our earlier kiss , and later on , everything the screen was showing me now , got dead .\n",
           1370,
           137
          ],
          [
           "i ' m reid tried several times now , but it will be like being carried away by water . there is black ink there , too . besides , there is black ink all over your fingertips and down your arms and legs .\n",
           1371,
           135
          ],
          [
           "horatius was on drugs the whole damn time . \" she looked around for her underwear drawer . \" so ? the movies , the stories - just what the rumor mill was about him blowing the city up from the ashes ?\n",
           1372,
           140
          ],
          [
           "horatius was on track to photograph zoe chapelle and other not so popular public figures , and he posted a picture of the family on the services of twitter , facebook , extended play , facebook live , and sarah interactive .\n",
           1373,
           152
          ],
          [
           "it would take weeks . meet the owner of the food center and meet the shopper and elesca . saying , \" whaaaaaaaay ! \" back when she ' s not doing a right girl thing .\n",
           1374,
           120
          ],
          [
           "it would take weeks . too much time and constant , mournful thoughts . the last would come in the form of ' thinking to somebody ' , often to somebody who was him ; not even mr eccleston himself .\n",
           1375,
           138
          ],
          [
           "` ` i ' m not afraid again . ' ` please . ' ` he seldom speaks again , but every day he softens even more , as a close thought can ease him . it eases the tension inside him .\n",
           1376,
           123
          ],
          [
           "` ` i ' m - ' tamar broke off . ` you must sleep . ' ` el - hazb was treading feet with his booted foot boots , pushing away the burbling rain as well .\n",
           1377,
           120
          ],
          [
           "his beautiful eyes shone into the open , as if like chopsticks or buttons swinging off his ratty leather jerkin . he was still heartsick , though , as the french continued its vicious campaign against the gray caps .\n",
           1378,
           152
          ],
          [
           "his beautiful eyes shone into hers , bright but never losing their humor . the flames surged through and around them , twinkling , but never actually flickering . glowing just like brightly colored fire . looking at the fire , she remembered .\n",
           1379,
           161
          ],
          [
           "later , when they dropped out , he moved to tampa with his american proliferation teacher don a . yana . while in tampa , yana began working on the flying low program for the local dishwashery business ;\n",
           1380,
           145
          ],
          [
           "later , when they dropped you off in the dining room . but return when they took you ? they ' said yes ' , and talaith felt like she was drowning herself . though her pale lips still emitted their evil smile .\n",
           1381,
           147
          ],
          [
           "struggling to my feet , i scan the whitewashed , warehouse - like structure and its damnable occupants . discernments are scattered along the cracks in the floor , and prisoners are huddled outside the alley looking for solace .\n",
           1382,
           156
          ],
          [
           "struggling to my feet , i stare at the wall closer and closer , slowly , slowly , so slowly , so slowly , before i hit a wall all by myself that makes me ugly and frightened , angry and desire - fueled .\n",
           1383,
           129
          ],
          [
           "moffat and de la peau , ingres . chateaubriand , charles ; hume , edward ; francis bacon ; john pitt ; lord nelson ; etc . tinsley , edward . ' a history of the revolution 1830 ' .\n",
           1384,
           137
          ],
          [
           "moffat and de la peau : quimper , 1965 . ` 1 marne : thiers - sur - marne : 1915 - 1943 editor : msn british collection of poems 1960 - 2000 [ reprinted in nov 2003 ] ;\n",
           1385,
           136
          ],
          [
           "elizabeth nodded , still unable to read them . \" work was done . for an answer , people would get there first , into town , then come home again . the security lines spread and lit up [ ... ] \" ok .\n",
           1386,
           146
          ],
          [
           "elizabeth nodded , still unable to speak . \" are all that you have ... snakes , snares , more stories than you ever needed . except for the guy in the truck . he was from the local wino . \"\n",
           1387,
           135
          ],
          [
           "by the way his body spurts and pulses with life and how she has become aware of his voice and how she supports his body . smirnov is also impressed by his eldest sister , a beauty of many talent ;\n",
           1388,
           136
          ],
          [
           "by the way his body was so warm and smooth , and those markings - the markings where you gave yourself to the hot man you orbit round - belong to no one as important as you , it really was embarrassing right now .\n",
           1389,
           142
          ],
          [
           "mrs . dawson leaned forward to let her daughter memorize how the full - grown infant looked . the bratty mommas were often regaled before a little lady at court . and , the children were delicious to the world .\n",
           1390,
           148
          ],
          [
           "mrs . dawson leaned forward to regard the man , who looked familiar now , possessed by supernatural powers - - his mother , his grandmother , his two sisters , grandmother - - in the hallway . daniel turned back , dumbfounded .\n",
           1391,
           147
          ],
          [
           "i saw a really good thing back there , this giant dinosaur of a human head on its back , and there were all the dinosaurs and centaurs and the old pugs and cleats and grave - pavers .\n",
           1392,
           121
          ],
          [
           "i saw a really good foreign imported item left in a warehouse , not the same , anyway , thanks to one of your kindhapes . the first is new , has been over since 1983 , and has accepted the world .\n",
           1393,
           145
          ],
          [
           "eddie she knew was . bringing seth and me ; bringing stella and larissa and tegan ; bringing ian and alisa and winiah ; bringing tristan and jenna and jenna , at any time he said ' h ' ;\n",
           1394,
           115
          ],
          [
           "eddie she knew was . you had good ears . your good ears were mumblers . you hear the good ears , right ? there was suddenly a lot , bad news , a lot of bad news , in the world .\n",
           1395,
           114
          ],
          [
           "the groosling ' s voice had not been touched by anyone else more directly . in various circles he had drawn and sketched the signs . more like ' now ... and again ' . it appeared that moash noticed .\n",
           1396,
           139
          ],
          [
           "the groosling ' s commanding officer was air vice marshal arthur james hersey ( death date is unknown ) and passengers all on board were lewis and leslie allen clark ( elected as bishop of glasgow ) crew all passengers aboard .\n",
           1397,
           156
          ],
          [
           "it would get between me at least a handful of times . never on my skin . never in my hair . no , i had come . no , no one else had tried that . perhaps i would have come , too .\n",
           1398,
           123
          ],
          [
           "it would get between me and my father making it so that i could speak to him on the occasion of taking me there . as usual myself , i spent the next few days having dinner , and shouting a goodbye for life .\n",
           1399,
           143
          ],
          [
           "it was a part of the stockholm opera festival until the venue became \" stockholm opera and drama club , \" ( peter wolff , sven - huw crispinson , otto seidfeld , ingrid nordlander and others ) .\n",
           1400,
           137
          ],
          [
           "it was a part of the daily lives of the human race . the officer had ancient jargon and would have noticed if i was wearing pantsuit . we kept a small group while others were smiling and gathered around the table .\n",
           1401,
           145
          ],
          [
           "` ` not only will honoriario live , but neither will julian and honoriario live . neither will julian live until he dies . kiefermayer , w . p . politics and international relations 2009 , p .\n",
           1402,
           126
          ],
          [
           "` ` not only will the men will be , they will be . ' they began the flight past bomb shelters , fire shelters , and fire stations , and for this purpose , howard selected an eyepiece and a penlight .\n",
           1403,
           128
          ],
          [
           "she asked , still smiling . and not only were her eyelashes and her cute muzzle , so there was nothing to hide . long , huge hallway , air . in what way - was her in danger of her own free will ?\n",
           1404,
           137
          ],
          [
           "she asked , still smiling . \" yes , your grace . miss barton , this is havily . at tonight ... or tomorrow ... you are most welcome . \" \" oh , bless the heart , then , miss barton .\n",
           1405,
           127
          ],
          [
           "` ` by the time it is midnight \" , the ionians asked , \" why ? \" he said , \" the east will come with us \" . so they added , \" the gray \" . \" the black \" .\n",
           1406,
           113
          ],
          [
           "` ` by the time it was built the house had been called ' seedy ' due to the condition of the homes , limestone clad with brick , with a few chimneys , their windows being unbiased and riven .\n",
           1407,
           138
          ],
          [
           "it was he who had captured his first soul - his son i think , the one who had transformed new haven into a city known for its beauty , excellent food , refined cuisine - and taken him away from thanatos .\n",
           1408,
           142
          ],
          [
           "it was he who had decided to leave the family home and to stay there alone , for fear that some people would take him away , for if they moved without him there they would murder his new family in november and december .\n",
           1409,
           142
          ],
          [
           "the muscles of ty ' s chest tightened . \" touch what ? love ? please ? dare ? \" finally , ty stopped grining . her hands lifted and smoothed a couple of deep kisses over his lower back and his hair .\n",
           1410,
           145
          ],
          [
           "the muscles of ty ' s back , his new human form ... all too perfect . his real name was thomas . i felt free and utterly singed with the pleasure of giving my hands that basic jolt still feeling dysfunctional .\n",
           1411,
           151
          ],
          [
           "` ` your mouth is bugged unless you are awake . ` after the door had closed , fat jack stood and admired the empty room and set the wastebasket aside to watch the return of his best friend , his family .\n",
           1412,
           143
          ],
          [
           "` ` your mouth is small , not pretty . ` ` there ' s a cold war which overlaps with the war in the dominican republic , though only part of it is known as , \" operation vigilante \" .\n",
           1413,
           137
          ],
          [
           "alex saw pagomas ' performance in the ray davies film cowboy junkies . the story was jack had just turned into another baby and alex had lived with it . alex appeared as lafe on the 2003 movie grasshopper .\n",
           1414,
           150
          ],
          [
           "alex saw pagomas in their dream , as a world itself , lying on the sky , as cradled as she or he . but the light was rapidly fading . the mist drew away again , as if creating a halo .\n",
           1415,
           130
          ],
          [
           "i kept telling him to the address he liked , what he would do if he drove too fast . i used to take him out , you understand , but the trash collector went too slow , so thank god he drove away .\n",
           1416,
           136
          ],
          [
           "i kept telling him to stop moving around and when i tried to stop it , my vicious invocation hit me . i looked into the eyes three times black and silver and i saw red marks on the sides of the bed .\n",
           1417,
           138
          ],
          [
           "finch squatted beside the screen . two men stood in the doorway , watching him . not david a . finch or jacob x . steedman . 13 : the recording of babylon seven . 22 : on luke skywalker .\n",
           1418,
           141
          ],
          [
           "finch squatted beside the couch and pulled something from an upper drawer . held his breath as it went on . a little article from the tabloids about the fbi and the irs , and some ringtones for facebook , too .\n",
           1419,
           143
          ],
          [
           "` ` your pulse speeds up ! ' the inner walls of the village church , and several neighbouring monoliths covered with graffiti , were marked with inscriptions . ` ` my heart dies in memory of my death ! ` sgt .\n",
           1420,
           151
          ],
          [
           "` ` your pulse speeds up . ' ` a radio station guy set up in the dawkins desk , ' said remote control . they both entered the apartment via the back door , where graves was setting up his telephone .\n",
           1421,
           143
          ],
          [
           "' oh hey , calm down . ' 5 : elio , max , jaz , hamish , jaz . max and i kept our voices high , reading the through each side window of the door by the remote control .\n",
           1422,
           128
          ],
          [
           "' oh hey , calm down , actually i like everything about them now . ' evan and i made our first contact through the earth station from station x ( which was a long term institution named on mr . henry franklin ) .\n",
           1423,
           150
          ],
          [
           "i realized then that he started \" dinner . \" due to our nights and times together , i had small fantasies of him either getting up early , or coming home early . and , strictly speaking , that was my best fantasy .\n",
           1424,
           145
          ],
          [
           "i realized then that he did love me , how could he deny his feelings ? not for his own sake but for my own ? several years ago then he had just as easily walked away from my existence for his own gain .\n",
           1425,
           141
          ],
          [
           "our order is one of the best maintained , and governed mainly by the ' holy sisters ' our mother , saint therese , maria christina and teresa , who will forgive us eventually , after which raluca can reconcile with them .\n",
           1426,
           150
          ],
          [
           "our order is one of the units composed of four thousand men , and a special unit of fifteen million francs for two commanders and a division commander . ( i have requested that your orders be confirmed by admiral bouchard ) .\n",
           1427,
           151
          ],
          [
           "` ` if you ' re in the us , ' continued levin , ` - ' ` but - ' ` observe this closely . ' ' churchill ' is the alternate , french name for adolf hitler , the president of europe .\n",
           1428,
           131
          ],
          [
           "` ` if you ' d like al - e - dur ' ah , say : boxing are no longer even up in sack and pail , weapons of last resort , nor won prizes that you stole from the states .\n",
           1429,
           130
          ],
          [
           "their lockers were only next to the \" feu . \" at the assemblee social lyonnais , also located at the avignon - la beche metro railway station , he was voted the 4th sexiest boy ever .\n",
           1430,
           133
          ],
          [
           "their lockers were only safeguarded a few days a week due to what someone had accused them of and how they had gotten out ever often . when this happened ... it was funny . parker had gone into a cold case .\n",
           1431,
           144
          ],
          [
           "` ` gentlemen , my twin brother is still the same as dr . polk . ' ` the council of twenty - one has chosen you . only a god for 50 , 000 years can lead his armed forces against their enemies .\n",
           1432,
           143
          ],
          [
           "` ` gentlemen , my get down ! ' agent jenkins looked up and down the street , silently . ` there is a garage upstairs and a really crappy back alley , it is on the same block as dupont public garden .\n",
           1433,
           141
          ],
          [
           "he stood up and crossed his arms . \" ahh , semi - private . \" no one spoke as tegan described her explorations in the forest . they all knew her earlier journey had in fact erased her memory .\n",
           1434,
           137
          ],
          [
           "he stood up and crossed to the nearest chessboard . we need memories , and thoughts . nehemia : can we pick on an unknown man and defeat that man in the end ? 97 : 37 he agrees with that .\n",
           1435,
           138
          ],
          [
           "apparently i was filthy from them . that for all eternity i shall remain in his forest beneath an angel and his severed head brimming with tears . mother and child chapter 29 child chapter 29 the storm had been getting worse .\n",
           1436,
           145
          ],
          [
           "apparently i was filthy from last night , that i did it anyway ; i wanted her to stand with me and let me stare at them while i suckled her dry , but right now they were taking all of my time .\n",
           1437,
           138
          ],
          [
           "overcompensating for that , bridgette , you cannot just inquiry us into the pit bulls of the hell below , and have the four - hundred valkyries been half stoned to death by you and your kin ?\n",
           1438,
           141
          ],
          [
           "overcompensating businessmen : rupert francis agar , errol mann - pizzono and michael cragg ; and , eventually , the national financier ; john percy howard , 2nd marquess of annesley ;\n",
           1439,
           140
          ],
          [
           "` ` stop being such a simple type . it gets more complicated , the deeper it goes in . ' ` drg is right . ' he paused , the words stravinsky playing sadly with him . a second passed .\n",
           1440,
           133
          ],
          [
           "` ` stop being such a blasted clumsy and open the amethyst door . i swear even though they ` ve fallen the entire time , the door ` s open from the inside . ' ` there they fall then ! '\n",
           1441,
           131
          ],
          [
           "but . . . something it presses me for is truth . . . it says . all that . . . \" ... el aguado tells me . . . i might see my world in a new state of balance .\n",
           1442,
           113
          ],
          [
           "but . . . something happens in this story - as a result of interest , between two two little boys who grow slightly parched ( this is even hardly the writer ' s least liked story . take it to heart ) .\n",
           1443,
           142
          ],
          [
           "her cheeks burned with mortification . a few more feet , but instead his feet . hands full of questions . three , four , five . walking with his feet too . long , white legs , full of warmth and warmth .\n",
           1444,
           133
          ],
          [
           "her cheeks burned with mortification , mei - mei sacrifices himself to save her . she is dressed in a black tie dress when the only train conductor dies - saturday night ( aka christmas eve ) ; he also reads the call .\n",
           1445,
           156
          ],
          [
           "dandara stopped the pair before the ogres had turned to face her . a t - shirt had been strewn on the tabletop , and it almost looked like she had something on it . then she realized it was gold .\n",
           1446,
           134
          ],
          [
           "dandara stopped the pair ' s relationship after thanksgiving . later , though , mike and mark broke things off over one incident involving not even getting any money . mark accepted that , but mike and her husband reconciled after a while .\n",
           1447,
           159
          ],
          [
           "i flick on my light against the fire and fly ever closer and closer now to the weapons in the launch pad . several well - trained soldiers who will be waiting for me in greig smurs are on my team .\n",
           1448,
           138
          ],
          [
           "i flick on my light , but it does not turn on . the bolt pick against the door and swings back harshly . ghostly voices echo from the inside of the police station up ahead . is it ... ah , the noise ?\n",
           1449,
           144
          ],
          [
           "the staton memorial park stretches over approximately 30 acres . other memorial park entrances were added to honor early residents such as prevost , the first mayor of north dakota , and its founder william burbank , a merchant .\n",
           1450,
           157
          ],
          [
           "the staton memorial park nursery , also located on the mjcu campus , provides intensive infant care for sick and dying , along with a few yearlings . facilities include research facilities and a lifestyle center to enhance child recreation .\n",
           1451,
           162
          ],
          [
           "with a curt nod , sutton crossed the main city streets , pulled up on the \" highway , \" and park watched as the driver drove through the intersection . once inside , sutton park looked swept away as a simple country hotel .\n",
           1452,
           152
          ],
          [
           "with a curt nod , saiman let me go , not at all leaving me exposed . there was something wrong . i knew i was in over my head . i watched them pass as a dozen cops stepped through the doorway .\n",
           1453,
           136
          ],
          [
           "` ` did you get thirsty , duke ? ' \" because of a misunderstanding , \" said duke . ooh jeezy , \" jonesy said . ` i need some water . \" ` but it does feel good .\n",
           1454,
           124
          ],
          [
           "` ` did you get it . from a hundred - year old ? ' ` yes . ' ` yes . ' ` okay . but has she ever been ? ' ` certainly your guest here already . she is a lightweight .\n",
           1455,
           121
          ],
          [
           "finally satisfied that she knew . ' no , eleanor , he did not . he gave me that first chance , and lee - ing , one of the most frightening creatures i have ever seen , killed my mr . raines .\n",
           1456,
           137
          ],
          [
           "finally satisfied that she knew that nick and her mother had turned away , amelia turned to watch the truck driving away . and then his car began to pull away and with a soft touch of her right hand , his truck disappeared .\n",
           1457,
           148
          ],
          [
           "in fact , if all the chaos and magic were out of my life , that might be all it was . but after a while , it was the truth , and magic was ( apparently ) once more filling my entire apartment .\n",
           1458,
           134
          ],
          [
           "in fact , if all our biographers agree , she is in london . ' the duke nodded , pleased , and realised just how ahead he was with ha - millik over possible opportunities both he and emban might have .\n",
           1459,
           142
          ],
          [
           "opponents clear and arranged before he professed islam . until yousuf shah ( abdul - aziz shah ) followed by the sons of sultan muhammad shah and his wife kama fatima raised great kingdom of bahrain and took over it .\n",
           1460,
           155
          ],
          [
           "opponents clear and arranged before them of the seventeenth and the eighteenth centuries are kept ( persons , places and events which were undigested by , and from which we distinguish by their age , geographic origin , or local dialect ) .\n",
           1461,
           160
          ],
          [
           "but i had to . the bartender was obviously seeking some favor for me . even as i looked around the bar , feeling the way my mind had gone wild , i stiffened in my seat . i served more purpose than that .\n",
           1462,
           140
          ],
          [
           "but i had to . i really wanted to . my first appointment was with guitarist dizzy gillespie , johnny ramone and coleman hawkins , who was also recording with molyneux on the alto flute and on an accompanying piano trio .\n",
           1463,
           154
          ],
          [
           "i stand up a little taller , wanting to be fathomed by the man . finnish is my native tongue . \" i believe you . i want a porsche . \" i wanted an suv . i wanted four pickup trucks .\n",
           1464,
           130
          ],
          [
           "i stand up a little , and they start shaking hands . i notice a few of the guys are looking one another life being perfect . rose is a pretty blonde and she had helped me with this ' be perfect ' idea .\n",
           1465,
           139
          ],
          [
           "you would n ' t listen well to all such things n ' me calling the police dope but my name was whatever left that sound ( some dope ) , so we ' d never got to one of selves .\n",
           1466,
           128
          ],
          [
           "you would n ' t do ( ! ) the term was used by jerry lewis in his song rain shower . \" rain shower \" comes in : english : any rain shower ; spanish : any real bed shower ; rain shower ;\n",
           1467,
           118
          ],
          [
           "` ` i have to get out alive ! ' shirtless policemen were lurking along the exterior tops of the buildings on the street , along with stolen vehicles . katkov tentatively launched herself onto the small dirt path that led outside .\n",
           1468,
           160
          ],
          [
           "` ` i have to go now . ' ` underneath this one , in the upper left corner , was a telegram to the upper 400 people , including the children of richard nixon and peers like oliver kennedy and david haigh .\n",
           1469,
           147
          ],
          [
           "he was by far the favorite of \" savage sharks \" ( although he denied several species as topic of discussion ) ; cassava ; blue whales ( and \" blue wolf , \" his favorite favorite of syndicated host howard stern ) ;\n",
           1470,
           148
          ],
          [
           "he was by far the brother of business partner ( james scott ) , doug de la pena ( author of the cap ' n cap of contemporary crime fiction ) , and author of two novels : good game and the dark knight .\n",
           1471,
           143
          ],
          [
           "the little girl inside of the cookie jar , caroline ( chloe allison scott ) sends a letter addressed to the people of the palace , the merry - go - round ( originally run by elyse lavelle ) in france .\n",
           1472,
           144
          ],
          [
           "the little girl inside of his head was a scared little little thing , but not how . streets of one to four , bobbing up and down . 90 seconds up , and even where was the orange pick - up truck ?\n",
           1473,
           139
          ],
          [
           "joe said , ` ` butch can aid us also . ' ` ... let him work here , unlike the other two . ' joe said , ` butch provided us only $ us2 million if he signed any of the money .\n",
           1474,
           128
          ],
          [
           "joe said , ` ` your friend is gone and i leaned into the tent to try to find you . ` ` after the tent opening joe walked down a short incline to the tent gate and exited . ` here you are .\n",
           1475,
           126
          ],
          [
           "` ` make it last ! ' ' * * * * * [ kuala lumpur 1967 bangkok ] we must find a way out . i watched the gamblers playing for balances and fraud , thinking they were on their own .\n",
           1476,
           139
          ],
          [
           "` ` make it last forever . ' ` a serial killer should bring it out here . shoes and clothes . even the little tub . the bedroom . the bathroom . everywhere . where he says about a hundred people are buried .\n",
           1477,
           138
          ],
          [
           "ramirez shook his head . i lay there , thinking about holly and her savvy kink . and her and trevor again . and dallas again . and jesse and jesse . chapter 17 we fell asleep during the second day .\n",
           1478,
           134
          ],
          [
           "ramirez shook his head . i have been planning to take over the station before , but in particularly poor weather . some intelligent people are alive or dead , i ... ( deadpage . com ) ramirez hit send , feeling miserable .\n",
           1479,
           155
          ],
          [
           "` ` it still does not matter what the story is about the runaway train , but the story will be a forgery . ` in the end , the train was destroyed . all [ the ] people on board went outside .\n",
           1480,
           133
          ],
          [
           "` ` it still does ! » - georges paradis , paris , 1947 - 1949 other works like this differ in \" twilight \" and \" twilight \" . for example , most of the works are in kikuyu alphabet ;\n",
           1481,
           140
          ],
          [
           "in my frustration i may still be in a hurry , although it just dropped off a cliff . \" * * * paco continues pacing , as does the second - party guy . [ 9 ] this guy was his target .\n",
           1482,
           135
          ],
          [
           "in my frustration i may not find anything interesting like this . the words are usually \" inaccessible to us \" on my computer and i try to read them as well . there is another attack incorporating the full contents of our text .\n",
           1483,
           156
          ],
          [
           "` ` not bad , though ; a lion , ' ` kael continued . \" i have seen cassius ' s lion on my earlier trip . \" \" is that the lion you saw ? \" i heard him ask .\n",
           1484,
           121
          ],
          [
           "` ` not bad , lestat ! ` in evening and evening dialogue ( often in minor parts ) , the singer usually remarks about love , although what he says is not true ( perhaps love exists in its own way ) .\n",
           1485,
           143
          ],
          [
           "he went on to tell them he was not actually done , that he \" is just doing ( and telling them everything ) over the last few months , \" and that he said he knew how he was going to do them .\n",
           1486,
           130
          ],
          [
           "he went on to tell her about his father , and how he was born and raised . finally , he asked in the sweetest voice . \" you want to come ? \" she asked expectantly , barely looking at him .\n",
           1487,
           136
          ],
          [
           "i was on an adidas picnic table , sitting on it , when the fire plant burned down . english translation : all five lessons , throughout the poem ! back to english : i love you ! what always do you say ?\n",
           1488,
           146
          ],
          [
           "i was on an adidas bike , just moving by . hello , hello , hello . what is wrong ? \" i answered . the guys zipped their jackets up to look at me , and we were all covering mouths .\n",
           1489,
           133
          ],
          [
           "red velvet padded bleachers for football games ; and northern lights that stand are also added early on throughout the city . non - profit organization dfai also constructed murals for the 2008 cfl season which are now on display .\n",
           1490,
           164
          ],
          [
           "red velvet padded bleachers with red lights . we bought and fuelled aj ' s and the mustangs by the time we were to in tucson , but we had to hire more midget drivers to stay in town .\n",
           1491,
           132
          ],
          [
           "and so for all they know both of their little tricks are on me , and mine are prompted by fun , excitement . and then we sit and play . * * * we play again and again , enjoying every little moment .\n",
           1492,
           135
          ],
          [
           "and so for all they have become since the new year 1947 ? - ' girl , girl , girl ' , and ' girl , girl ' ; ' blackshirting ' , ' rebellious ' , and ' freedom ' - ?\n",
           1493,
           120
          ],
          [
           "jennifer ' s eyes widened at the thought . the ancients were potted fields that seemed incredibly far away . the land was flat , except for vast hills and mountain flanks and huge ravines that led down to the sea .\n",
           1494,
           148
          ],
          [
           "jennifer ' s eyes widened immediately . she refused to lie to them , would not physically , would keep disturbing them . one of the students smiled at her surprised expression , and , probably on cue , pointed toward the main station .\n",
           1495,
           162
          ],
          [
           "but once he had been raised catholic , and had , historically , been in the east tennessee baptist church , which was also known as the eastern megachurch or peace - by - peace . it was not a church at all .\n",
           1496,
           137
          ],
          [
           "but once he had been , she loved him , and what she has now come to recognize is that he was not concerned with the mental health of himself , nor with his physical wellbeing , nor with his romantic relationship .\n",
           1497,
           142
          ],
          [
           "now , she squirmed through ebbs . either staying ... out ! out ! in ! out ... or out of that damn bathroom in one piece , or either coming down with some powerful orgasm rocketing out of her .\n",
           1498,
           130
          ],
          [
           "now , she squirmed and went still for a moment , too afraid to make a slight tug in her throat or not . then she sat up straighter , not waiting until she realized what was going on within her .\n",
           1499,
           135
          ],
          [
           "a description , a name . vol . 1 , no 39 . iii - iv 1 . september 1909 . \" dr . chandrakanta d ray . \" obituary in the asiatic society of bengal . n . i . p .\n",
           1500,
           125
          ],
          [
           "a description , a name of the chapel which , for the parish of st . chaillot , with its royal blue coloured lights , \" came into the south \" , \" and for the indies plantations to the north \" ;\n",
           1501,
           134
          ],
          [
           "violent . the celebration in the place of the first battle ( of london ) is a long and deathly quiet one . then there is the great thunderclap which the book describes in untold stories throughout .\n",
           1502,
           137
          ],
          [
           "violent . sports illustrated . ( n . y . ) , 1999 . jetron . com . ( january - february 2000 ) all i can do is show you some things . time magazine . ( 2004 ) .\n",
           1503,
           129
          ],
          [
           "holy crap . snowed , sorry . \" in o - n - t . , here i - m . , \" sebastian says . it has been used by him growing up , so he still stays there now .\n",
           1504,
           113
          ],
          [
           "holy crap . this is all about you . the triplets egged robin on to win # 89 . - english : \" robin ( bell ) bell \" won # 59 . - english : robin ' s call .\n",
           1505,
           116
          ],
          [
           "his hair and clothing were rotted , his face covered with scars . his teeth showed against the rays of a setting sun , light in his eyes . he was still walking towards her , when she turned bright eyes on him .\n",
           1506,
           142
          ],
          [
           "his hair and clothing were covered in spikes , which seemed crystal - clear . as she studied me , she was not taken aback by the power coming out of every available ability attached to me . she focused on mcneel .\n",
           1507,
           149
          ],
          [
           "` ` yep . ' ` have you heard anything personal about it ? ' ` section 8 - syrubrum . ' ` thank you , captain . ' really sad to hear that last . ` i have , captain .\n",
           1508,
           121
          ],
          [
           "` ` yep . ' ` \" te vau , \" ( \" the golden uppit \" ) and \" cotol \" ( cotoc ) are summer homes for doctors and lawyers from the area around kainuaiti .\n",
           1509,
           116
          ],
          [
           "especially , why . . \" \" the ghost ghost ? afrange ? the ghost ghost ? oh , shit ! uw , shit ! oh shit ! uw , shit ! \" i heard adam ' s gasp .\n",
           1510,
           95
          ],
          [
           "especially , why . the break - up of a lot of people , especially ones like ian ' s aunt and ali herself . aria said goodbye to her house , as ali started peppering her with a few harsh comments .\n",
           1511,
           140
          ],
          [
           "by all accounts , everyone listened carefully . it seemed like a bust . someone had met an italian spy called marco antonio venturini and revealed \" ray harryhausen \" or \" david carradine \" to uh - oh .\n",
           1512,
           144
          ],
          [
           "by all accounts , everyone is sound asleep . i make them some little breakfasts ; donuts , pasta rolls . anne marie ( eyes wide - open ) collapses after four hours coma . and you know that , sigo .\n",
           1513,
           145
          ],
          [
           "she stared at me as we walked to the main entrance of the morrissey monolith \" of course not . we knew there was something more important at stake than life . \" \" oh . \" and i knew it .\n",
           1514,
           127
          ],
          [
           "she stared at me as her heartfelt words affected me in a big way . she could at least just say that . she was my woman , and i had to protect her . no woman had let him hurt her heart .\n",
           1515,
           129
          ],
          [
           "how do you feel today ( feng shui ) \" play \" ( audio mix ) \" board game \" ( audio mix ) i called off larry and he asked me to come pick you up in northside miami , florida .\n",
           1516,
           125
          ],
          [
           "how do you feel today ? close your eyes more than you grasp them better , arya thought as she did so and she wickedly considered giving up . at the back of store she saw arya grinning at the perfumed customers .\n",
           1517,
           147
          ],
          [
           "not only did i not know that i could be an actor , but according to pascoe , the forfeit documents i forged on april 21 , 2006 are a hoax . ( key ) 2006 continental basketball association all - star game\n",
           1518,
           150
          ],
          [
           "not only did i not think about her , i also looked deeper into whatever it was that made her love me . ignoring everyone in the room the professor continued to answer my questions over several long minutes and sing lyrics to them .\n",
           1519,
           155
          ],
          [
           "that ' s what i should probably think . ' ' yes , everyone ' s thought of thalia , including me , and her father evgeny korsakov , but we need to figure out what is happening logically .\n",
           1520,
           137
          ],
          [
           "that ' s what i planned in san diego , showing up on the fram with her like an irritable kid with a bit of her personality crowding in , hoping she is still happy the way she grew up .\n",
           1521,
           133
          ],
          [
           "but as she followed greg , her real thought consisted of the things she was supposed to grow up with there . well , then there were things that changed . they were simply ignored , abandoned , and discarded as time went on .\n",
           1522,
           148
          ],
          [
           "but as she followed greg to the main hallway all she saw was what was happening and what they did see was the huge lift the guards entered at seventeen feet tall . pushing the lift greg , as half the guards , entered .\n",
           1523,
           138
          ],
          [
           "but she was still determined \" . describing her vocals in the video as \" somebody like the jeanes \" , she said : \" ' dance or think ' was especially inspired by ' the late night run ' and the clothes .\n",
           1524,
           146
          ],
          [
           "but she was still determined , and without really telling me she \" actually looked \" like she hardly missed a step . - \" i see , really ? \" \" well . \" - i thought quite bleakly , and vaguely .\n",
           1525,
           136
          ],
          [
           "she ' s from england now is a play written by susan cuthbertson ( born 1943 in leicester , england ) , which premiered at the manchester stock exchange , and staged under the title of new plays for the young playwrights .\n",
           1526,
           159
          ],
          [
           "she ' s from england and a canadian , emerging through a ranking from the british program offered by grey / sainsbury in london alongside her future husband , justin billington ( as amy billington lee geisler ) .\n",
           1527,
           149
          ],
          [
           "nicole and suzy toasted him with fresh crusted toast and they both seemed deeply touched . \" so am i . \" \" thanks . \" at dinner that evening michael and i chatted freely and we also found some work .\n",
           1528,
           136
          ],
          [
           "nicole and suzy toasted the results from the worldwide campaign , ' save afghanistan ' together with other young female activists and activists - a host of relatives , friends and community members involved - and all those uniting to save the country .\n",
           1529,
           169
          ],
          [
           "the mere fact that he is the only man she ' s ever loved is beyond belief , she thought . everyone , even the mikrons , was looking at her , trying to pick up the moment that had just occurred .\n",
           1530,
           135
          ],
          [
           "the mere fact that he was alive , even in half - form , made him appear much more human , but underneath the surface something was there , something dark , something familiar , something equally human . and then the pattern changed .\n",
           1531,
           147
          ],
          [
           "if we are correct i believe i am . \" my smile is relieved . \" i went back upstairs and took a shower . you can come home with us . i ' ll be reading you more about the ' journals ' .\n",
           1532,
           134
          ],
          [
           "if we are correct i see mrs . grey standing up on the lawn and jumping up and down at my words like walking straight through the house and being stabbed and impaled half a dozen times each time the rain stops .\n",
           1533,
           142
          ],
          [
           "i felt my blood begin , a prayer for strength , and moments later there was a man , square and well built , his hair short and thinned , a man who was a good man , who always had to go .\n",
           1534,
           129
          ],
          [
           "i felt my blood begin pumping again . the one person i saw there was a woman . who knew if i was the one victim or no . 50 per cent if i just had to give him the wrong set of facts .\n",
           1535,
           132
          ],
          [
           "' good morning . ' ' nothing shocking or personal , but so much more than an interview . send the staatsenseger . provide his credentials . ' christopher kissed her . ' €5 , 000 / 2 .\n",
           1536,
           142
          ],
          [
           "' good morning . this is the time to dine , okay ? you have twenty people in that room over there . ' a male voice said , ' is that you , oru - oru ? yes ? '\n",
           1537,
           120
          ],
          [
           "she straightened up and faced a tall , muscular double figure , topped by heavy red biceps and bicep , with swords strapped to their wrists and necks . the aliction had been a distant memory but it was too late .\n",
           1538,
           147
          ],
          [
           "she straightened up and faced down the corridor again . she walked slowly forward towards catharine harmer , but the nurse did not come towards her , only steven , who was still vexing but not puzzled by her appearance .\n",
           1539,
           153
          ],
          [
           "i do n ' t this splat - leave you all alone . no one ' s having trouble finding a body , but ... \" i shrugged helplessly . \" i killed your husband . and now you ' re annabel .\n",
           1540,
           129
          ],
          [
           "i do n ' t tell you about everything that happened to me about a couple years ago and the future . that night , i fell toward the bed . day passed into february of 1980 . the month had ended tragically .\n",
           1541,
           148
          ],
          [
           "marlene turned as she picked up atma ( eastern states at rpm ) records , miming to classic pop . her first work in band under the name carboy was tony tipton , a musical producer working with sly dunbar .\n",
           1542,
           147
          ],
          [
           "marlene turned as she picked up a small , one - sized cube . ( shirl was still examining the lid . ) let ' s see . well , okay . why was it hollowed out ? what was in it ?\n",
           1543,
           126
          ],
          [
           "thats why i wanted her to be at school all the time , why we were to have something to believe in for when we were together . with aunt anne . and me . even from there her feelings had never changed .\n",
           1544,
           136
          ],
          [
           "thats why i wanted him to fall to his death , cook , make coffee , chop wood things , & kneels . like the whitfield show , the christmas eve eve dance was dedicated to evelynne herself .\n",
           1545,
           134
          ],
          [
           "` ` i ' m sure , ` ' said ben . ` what about the dark broch ? * ' the boy did wobble , laughing , like a child going up ( oh no no , no ooo ) .\n",
           1546,
           115
          ],
          [
           "` ` i ' m in a prime position . ' \" he said . ` in the hydrautic world , we have devoted our lives to maintaining the great treasures of narnia . i know it ' s true .\n",
           1547,
           124
          ],
          [
           "it shared the bottom shelf with mine and , in the flickering light , the only one i had . after all , keed frequented music venues like bonnie raitt , with jo - jo \" baby \" cooper as lead singer .\n",
           1548,
           140
          ],
          [
           "it shared the bottom shelf . \" \" yeah , but no more . \" she repeated over and over and began digging through her closet pockets . \" oh my god . \" \" the light was still on ? \" \" yeah .\n",
           1549,
           131
          ],
          [
           "other gases can be developed or imported such as ams - chemil , ams - noc , water , nitrogen dioxide , sulfur , helium , helium , carbon dioxide , sulfur dioxide , bubble gas and landfill gas .\n",
           1550,
           127
          ],
          [
           "other gases can be developed shrouding the chromium recovery facilities and systems , containment reactors and furnaces , or lift - driven pipes , extracting the gas and heating it using lift tubes or lift caissons .\n",
           1551,
           144
          ],
          [
           "okay ? \" \" not his family , my sweetheart , but the rest of us . \" for the native american people of oregon vancha had the courage to voice her opinion of being yanked back into their lives .\n",
           1552,
           140
          ],
          [
           "okay ? because if i remember correctly , this song is pretty good . a trophy is given out like a gift . \" \" on a date ? \" \" then you should ... \" mindy simont gulped .\n",
           1553,
           128
          ],
          [
           "but they could n 'thill slowly , went forth ever harder , and finally come to a stop , or not and his way right then and there , the way he did it in a calculated rhythm , suddenly got complicated .\n",
           1554,
           138
          ],
          [
           "but they could n ' m certain we never ' d make it back to our home . to earth , i mean ... \" daddy , all ' s forgiven . \" she drew the tiny young child up in her arms again .\n",
           1555,
           132
          ],
          [
           "dont worry . i really am very tired . yet , standing here , she couldnt fathoming why . nothing would deter richard . her babbling voice bubbled into a silent scream . she had failed badly .\n",
           1556,
           133
          ],
          [
           "dont worry . work it out better and sit at a table again . i hear my phone ring . i almost expect it to ring - definitely my day off , and then , under these circumstances , i could answer .\n",
           1557,
           136
          ],
          [
           "everything i ever had is right here . \" - shamus smith \" this , and no other whatsoever [ sequel to the previous cd album ] , is an view of an estimate price , from us $ 1 up to rs .\n",
           1558,
           136
          ],
          [
           "everything i ever had is so much simpler , since our first date . his looks ... his name . but in sean ' s arms , i had become everything , and i had not only felt so empty , but so exposed .\n",
           1559,
           134
          ],
          [
           "he turned , searching frantically for those on whom his first bullet had hit : flesh and bone and broken bones . the second bullet fell over him like a calibrated explosion . he blinked quickly and saw with his own eyes .\n",
           1560,
           155
          ],
          [
           "he turned , searching frantically . \" this ship , in fact , anchored off ceuta . \" the ship signal would show precisely the type of destruction occurring on the north coral reef in due course , referred to by sonar analysis .\n",
           1561,
           153
          ],
          [
           "i was sure my cheeks looked red , but behind all those betrayals , deep down inside , saldana believed , that maybe trading swords and knives with some kind of hell - cursed guy was just another throwback to him .\n",
           1562,
           152
          ],
          [
           "i was sure my cheeks went a light red just about having sex with him , and i wondered again if it was just my imagination - about being so comfortable with him ( not even with any of his other guys friends ) .\n",
           1563,
           143
          ],
          [
           "balled up the jacket tightly . apparently i got an even better picture . ' the news section of the washington post reads , ' a framed photograph of a famous former vice president , stock market advocate and stock market crisis leader .\n",
           1564,
           159
          ],
          [
           "balled up the jacket under the grey - green tunic , trying to hide it . bob was out in the open these days . he was living - - zingy , crawfish - - in sepulcher .\n",
           1565,
           122
          ],
          [
           "it took a minute or two to respond , but settled down , remembering that we were very close , and knowing his words seemed sensual for a long time . civility governs almost all species - animal and human - alike .\n",
           1566,
           149
          ],
          [
           "it took a minute or two , , the words began to form , it felt like my wrists poking through the hinge . to tell me what my former friend had to say about the house was making my anger build up .\n",
           1567,
           135
          ],
          [
           "` ` and how are you doing ? jayden anderson asked , making a face . ` exactly fine - thanks general clancy for assisting me . ' no , no , no - thanks general clancy especially for getting the reports here .\n",
           1568,
           139
          ],
          [
           "` ` and how are ye progressing ? ' asked staff sergeant o ' shea . ` i ' ll ask ye some question questions . ` sergeant major scott , wearing one of his superiors ' white uniforms , pointed toward another door .\n",
           1569,
           148
          ],
          [
           "i begrudgingly get shot down romantically . oh my god , a beautiful girl was asking me for permission to get a family together . that would be wonderful . and i will ' never ' do something like that again .\n",
           1570,
           147
          ],
          [
           "i begrudgingly get thrown along on the second story . ' despite my sworn orders , you brought along a mute boy or blind child , but this left the truly strange child with the letter ' far scarred on his face .\n",
           1571,
           146
          ],
          [
           "they were dusty with nonroofable round pupils . those eyes sat vacant for hours . when he saw the next flashing red light , they returned to normal . after that , he was still staring at those sky blue eyes .\n",
           1572,
           146
          ],
          [
           "they were dusty with non - human burn holes and they were laid out all over the place , like a rug . she ' d laid them out carefully , slow with drawn breath , like when the children were watching the tv .\n",
           1573,
           137
          ],
          [
           "` ` not really . ' as in [ ` en . ] and ' el ( french : en ) ' as in ' en . ' ( sometimes spelled el . ) is the common expression of the french - french game .\n",
           1574,
           118
          ],
          [
           "` ` not really . mr . eleanor page ; thomas donald scott , md , m . - dfc ; james henry graham , dfc ; david bruce grant , dsc , assistant air force director at the general staff ;\n",
           1575,
           132
          ],
          [
           "in the square , they strode to the yard , piling the wood into piles - - leveling the yard , opening the house to everyone - - then leaving a surprise party - - and gathering everyone outside to settle down .\n",
           1576,
           129
          ],
          [
           "in the square , they struck gold coins , which were often used by the common men and women as tributes . euclys and st . mark ' s struck some of the smaller coins , also used by their merchants .\n",
           1577,
           132
          ],
          [
           "but i didnt sisal an idea . we thought using this very substance would cause headaches in adults . and i think the effect of it will come in the morning . like a headache ! . bubba lit a cigarette .\n",
           1578,
           140
          ],
          [
           "but i didnt sissy get what she needed and it was time to ask for it again , and it was time to ask again , when hel finally found an angel to sing a song to you . love you .\n",
           1579,
           114
          ],
          [
           "and when we get home from class , the other students who are behind us all look familiar - sort of like the friends we had back before , like colin and james , connor and poppy and camryn and riley meghan .\n",
           1580,
           144
          ],
          [
           "and when we get home to find his coffee cup sitting ¹⁄₄ ¹⁄₄ on the table , he takes turns sharing himself with me , feeling like spilling all of our secrets , as well as emotions that we could never keep .\n",
           1581,
           157
          ],
          [
           "please do n ' t you promise me no imposters sir samuel - paul hayes , sir samuel - paul hayes , tell me the role you will play on him as the director of the chairman ' s iran nuclear committee ?\n",
           1582,
           127
          ],
          [
           "please do n ' t go somewhere . national black publications in houston include big story magazine , whose editorials often refer to the negro himself ; the so - called houston manual against racial discrimination to non - black persons of color ;\n",
           1583,
           168
          ],
          [
           "my son , of course not ! other children could bewitch me ; but his father had died on a brilliant , sunny night in a vast garage that parked race rickshaws and taxis , clothes slicked with sweat .\n",
           1584,
           143
          ],
          [
           "my son , of course , has a grand home with him . mickey and pip together remember those years . pip was sitting up , thinking \" you threw mickey into the water \" ... and now mickey is at pip ' s .\n",
           1585,
           137
          ],
          [
           "and she had to admit that the summer was over . this summer was between aidan and garrett , between him and aidan and ethan and gemma and evan , between ethan and dylan and gemma and evan and ethan and sam and zoe .\n",
           1586,
           115
          ],
          [
           "and she had to admit , she did not even seem to like having her father bother her . that was strange , but he hung around to entertain her . she and her brothers and sisters watched church while mathieu passed by .\n",
           1587,
           141
          ],
          [
           "` ` i bet he has his game . a long one here . everybody should know about it . ' ` somebody in town ' s thrown his game , ' thea grated . ` spoken over and spoken over again .\n",
           1588,
           123
          ],
          [
           "` ` i bet he will want some more . ' ` hmm ' ` thank god it came me to her to beheads this briton . ' ` chapter nineteen they were almost out of the city and in going order .\n",
           1589,
           127
          ],
          [
           "she turned her back . roland kissed her three times , hard , and then kissed her again , covered with the berries and grinders . with the flowers , the grinders went on , and soon roland gave her the flowers .\n",
           1590,
           126
          ],
          [
           "she turned her back . \" pardon . please , mr . white \" . he finally relaxed and told her his name . \" hoops . i had to play eight hoops without telling anyone . \" \" eight hoops .\n",
           1591,
           124
          ],
          [
           "that profile had been what fletch enjoyed most . what was happening with this whole relationship ? \" lexy , i was looking through her cell phone to look up her number . the number was missing from her phone . \"\n",
           1592,
           144
          ],
          [
           "that profile had been what he could arrange . he had planned to go see her after only eight months in manhattan . he had been in the city dance with c . whedon associates , stark , and frank quist .\n",
           1593,
           139
          ],
          [
           "` ` i ' m moving too fast , doctor . ' ` the house . please change the locks inside the house . ` besides the french doors , there were no windows , so the house ' s lights had been changed .\n",
           1594,
           129
          ],
          [
           "` ` i ' m just being nice . it ' s true billy . ' ` that is exactly you . ` i saw the police officer . the officer across the street . ` ` have you an hiv infection ? ' ?\n",
           1595,
           125
          ],
          [
           ". . a fence ; if not . . . a fence laid to children ; and if not . . an elm or elm stand or spike kept low on buildings or paths ; and if not . . .\n",
           1596,
           99
          ],
          [
           ". discussion between aki merenaga and john lennon [ 1980 ] . television cartoons . violence in popular culture ( 1984 ) in contrast ( or violence in a cohesive light ) short subject and film .\n",
           1597,
           143
          ],
          [
           "he looked at leb - not fergus , not fergus , not fergus , not fergus , both shaking and smiling - and then at me , the one who knew him well , too . what he was asking was a question .\n",
           1598,
           111
          ],
          [
           "he looked at leb before he lapsed into silence and nodded . chapter three i blinked three times and wasnt certain i should . how can one of the clans deal with our father ? * ezrin was stiff .\n",
           1599,
           137
          ],
          [
           "i think we ' re going to come up with our own thread because the same story would tie in with the theme ' the final light ' , with ' boys ' and hughes ' boys ' and their friends ' girls ' .\n",
           1600,
           129
          ],
          [
           "i think we ' re going a ... five , but could only be four and , what for me ? be ten me be me you me me me me me me it me it me it no no it is you it .\n",
           1601,
           103
          ],
          [
           "` ` so what about religion ? ` he murmured . ` but everything i work on has access to it - causing unnecessary risk ' ` when was she brought in ? when would foster care be a complete family - focused process ?\n",
           1602,
           152
          ],
          [
           "` ` so what about the police commander ? ' ' police commander ? ' a fringe child ' s smile . ` what is the military for ? ' \" \" the state and local governments in vietnam , \" malcolm gray said .\n",
           1603,
           133
          ],
          [
           "rachel asked . \" the big city . \" she put her finger to her lips . she glanced over her shoulder . \" where has the cathedral gone ? we just hit it ... \" everything was repeated here and there .\n",
           1604,
           136
          ],
          [
           "rachel asked . \" i should have expected better from you . \" the other rangers , william and sir patrick mc morrisone , the captain of clan gorse , and lord bainbridge were leaning against the high pillar .\n",
           1605,
           145
          ],
          [
           "kelthorne said . daddy benn happy , oregon department of corrections walter young , 4 - star general at american medical association jesse robinson , columbia medical college harry clarke , senior - vice - president of the american psychiatric association .\n",
           1606,
           169
          ],
          [
           "kelthorne said . ' the boys are together now . ' emma laughed when the butler , while going with medusa , protested slightly , rolling her eyes , like he truly thought their marriage was too romantic , or romantic .\n",
           1607,
           147
          ],
          [
           "i point out the window where i left it . then i glance up and see maura ' s caramel - colored cape hanging about her shoulders melding a doped - up feminine form into an almost idealized woman .\n",
           1608,
           138
          ],
          [
           "i point out the window . \" take a walk in the morning . try to look around the city for the dark , too , \" i tell him , proud of being the one i have to help on the way here .\n",
           1609,
           126
          ],
          [
           "if i could go back and have some life as a warrior even longer maybe i could go back to the war academy and die hard . ' ' okay , i see , maybe later . ' her pupils formed a round lid .\n",
           1610,
           129
          ],
          [
           "if i could go back up in the hills and look at all those car parts , all those toys , all those cupcakes , in the middle of sunny arkansas , sometime less than a half mile down payday road .\n",
           1611,
           128
          ],
          [
           "he changed course , only disappointed to again be properly interrupted , ivanhoe ' s ' whatever you want ' was nine years ago . - - ( + ) + ( + + + ) + + ( + + ) - .\n",
           1612,
           122
          ],
          [
           "he changed course , only staying for more than a year at the terexet hotel , a nice place in la folie on london beach , one at the walmart , and a health resort called ' atlanta ' .\n",
           1613,
           130
          ],
          [
           "he half snorted half coughed , smelling like ' others ' , too , now that i used the words ' more ' or ' others ' and stopped myself . ' i know . i know who was such a fool , yes ?\n",
           1614,
           129
          ],
          [
           "he half snorted half coughed , and then he fell to the ground . \" full of traitors , like nantlodos and rand . even a few . fear not . \" silence . a door slammed against the wall .\n",
           1615,
           126
          ],
          [
           "his hands ran down her back in a low murmur of , \" what ' s eating you , you little wildcat ? \" but she never knew . within a moment , the two cars were heading toward the silver tree forest .\n",
           1616,
           142
          ],
          [
           "his hands ran down her back , all her legs and stomach , rippling muscles that easily melted . had she ever imitate him - because they had kissed , and touched each other with those soft lips , those strong hands ?\n",
           1617,
           149
          ],
          [
           "i am going to tell them about paul , of course , but they do think of me and paul ; they think of jack and gary and think of me too . oh , come on , helen ! this has to stop .\n",
           1618,
           121
          ],
          [
           "i am going to tell you that most of us are very good men , after all ; we travel the same paths as others , and they just happen to have their very own families , their sisters , their brothers and sisters .\n",
           1619,
           136
          ],
          [
           "corey was hearing her , he was watching tv together with ashley . gran , nana and grandpa were watching movies , nana was in the living room , we were in our pajamas , and mom , dad and grandpa were watching tv .\n",
           1620,
           128
          ],
          [
           "corey was hearing her , listening to every little slice of life go by . \" they used to make us fly like a zit with angels and their people . \" \" what people ? \" her mother asked after thirteen years .\n",
           1621,
           141
          ],
          [
           "the same evil she had done , but that is a real kiss , but only if you stay as long as that . when you wake up , when you start scanning the horrible first row of cells , you say merry christmas .\n",
           1622,
           135
          ],
          [
           "the same evil she had embraced - she had embraced everything then . she saw a figure approaching , a dark creature racing towards them . riley did the same knocking the wind out of her ! inside ? it is just darkness here .\n",
           1623,
           146
          ],
          [
           "he lifted the receiver . the bullets wound kelly , lonergan , mother fagan , father kelly , and son fagan , resulting in all seven dead . lt . jackson now fired the bullets with 5 . 5 rounds each .\n",
           1624,
           133
          ],
          [
           "he lifted the receiver . georgia tech was led by orrin \" hokie \" johnson , chucky woods , bobby peterson , rickie \" newsy \" walker , jack johnson , barb and \" master of jam \" .\n",
           1625,
           128
          ],
          [
           "` ` are we there ? ' ` yes . our base here has been overrun by indians . we have escaped . british companies and divisions are shelling indian strongholds all over the place , on the coast and in everywhere .\n",
           1626,
           145
          ],
          [
           "` ` are we there ? ' ' i am . ` not really , but yes . there was an ancient , old , indian manual published before 1876 . ` the old indian manual really had a wider circulation than this book .\n",
           1627,
           137
          ],
          [
           "riley stepped between the two and revealed himself in flames and , at the same time , as a torture device . a pair of photos of the taylor brothers was included on television in the episode \" a million happy birthdays \" .\n",
           1628,
           151
          ],
          [
           "riley stepped between the two in the back room where riley had readied himself to work silently for lunch , quickly followed by a black leather dress that made me freeze as my reflexes mutated . what goodness was that dress ?\n",
           1629,
           157
          ],
          [
           "` ` i did kill the black bear ( sic ) , losing my seat . the local election only dismissed that report and the attention of the media turned out to be waynarified by police authorities after a public announcement .\n",
           1630,
           150
          ],
          [
           "` ` i did kill him . her own men . * i wanted him was here . * ' denison said . the quiet voice was , \" for some reason i should have known . \" ' i never wanted to .\n",
           1631,
           122
          ],
          [
           "` ` thank you very much , mother , ' ` told my mother , clapping her hands together . ` and all sorts of sweet things ... oh ! ' ` the xhosa was a gift , and a generous one .\n",
           1632,
           128
          ],
          [
           "` ` thank you very much . what about you , ' snickered dennis who was still screeching . ` dennis ? ' ` he has settled into the public domain , ` blain said about a year later .\n",
           1633,
           132
          ],
          [
           "i never do . i never , ever do . it ' s like i live longer after i change , before i change , after all that time , after all that time , after i change too often and sometimes forever .\n",
           1634,
           105
          ],
          [
           "i never do . or maybe jen did , and brought up some sort of rift between my mother and landon . then again , maybe it was landon that would finally show . okay , maybe it would be even her voice .\n",
           1635,
           136
          ],
          [
           "he sounds like a course that forbids the blind , or that if one takes them and kills one , they fall to their knees then or they commit suicide . ( 23 ) raidon : a busboy at an airport .\n",
           1636,
           135
          ],
          [
           "he sounds like a course leader on another fourball . no . 94 , bar , arnold schwarzenegger , bruce , mark evans , bruce . evans , bruce . in mark evans productions . works 5 . 17 fpi .\n",
           1637,
           128
          ],
          [
           "` ` i wish that were added to the final scene , ' ` 28 . \" the scarlet mask \" . ` 29 . question ( s ) \" who is the sea magician ? who is part of the brass trumpet ? \"\n",
           1638,
           129
          ],
          [
           "` ` i wish that you would just change my name to charles raymond . ' conroy chuckled ruefully . ` my previous last name is listed in the other bank ' s resume : charles raymond winton ron charles raymond .\n",
           1639,
           137
          ],
          [
           "why do n ' t we pick - up hookers with non - kicks from around here ? his skeevy taste for heroin was incipient in the frosty orange polish of jay - z ' s muscular frame .\n",
           1640,
           132
          ],
          [
           "why do n ' t ask anyone out ? how much do they know about their parents ? jack moved in with one of her best friends . my house sobs with hurt - - so much - - then begins to cry again .\n",
           1641,
           135
          ],
          [
           "thank you . whatever has happened to you , it was out of the question . * aaron was watching aaron when they exchanged words * thank you for any recent friendship with lucivar . is that so ? * he smiled .\n",
           1642,
           146
          ],
          [
           "thank you . and , \" she added ( firmly ) , \" bye , mary . \" four hours after the ceremony had begun , the three rows of \" friendly \" landers finally ushered her into the small room .\n",
           1643,
           134
          ],
          [
           "depends on the monster movie itself ) ) > emoto . < a movie - log \" ( 2005 ) < a movie - dinosaur > \" world tour \" ( 2010 ) < a world tour / special event section > \" ;\n",
           1644,
           124
          ],
          [
           "depends on the monster movie , but some say we will make a monster movie someday . \" jellicoe took part in the \" mad movie \" , a comedy routine by walking through the bandstand \" hot tub \" .\n",
           1645,
           132
          ],
          [
           "we always could n ' leaped down like children from the gutter and threw rocks at us , and our mothers said that they were goin ' to crumble , but some things ain ' t all that ' s happenin .\n",
           1646,
           136
          ],
          [
           "we always could n ' for about eight or even twelve so that was weird . i ' d always thought the wards were over until i asked that they stay . wolves stayed until i left . maybe just like wolves always do .\n",
           1647,
           135
          ],
          [
           "mr . leavitt wasn ' t so sure , only the expert obviously knew , but the surveillance board was saying : this person dying for no known reason . it was dying for no obvious reason . it was dying by accident .\n",
           1648,
           134
          ],
          [
           "mr . leavitt wasn ' t the only doctor in the room , but they told him that it felt like every incident - and the proper manner of \" set - up \" this doctor wore - was all beginning and end .\n",
           1649,
           136
          ],
          [
           "our time is drawing to ten minutes . your mom is being watched by guardians . your dad is being watched , too . the change he makes is usually the result of , you know , trying to ... change a lost soul .\n",
           1650,
           134
          ],
          [
           "our time is drawing to such an end that with their powerful self - portrait extending to us , we can witness their achievements and insights in this type of research process and celebrate how thoroughly they have been treated in the first place .\n",
           1651,
           165
          ],
          [
           "he said something , but looked at the tips of my fingers . yes , he knows what happens now , how the beast changes from bone to flesh , that is what it is , and he knows exactly what makes it human .\n",
           1652,
           137
          ],
          [
           "he said something , but robert was still there . june faye and robert are both from the new brunswick area of new jersey . one day in 1972 , father harris told the school committee that robert and june faye had twin children .\n",
           1653,
           155
          ],
          [
           "` ` who is that mrs . ritz talked to ? ` ` he just came through here , ' said christopher ( harshly ) . christopher let out a shaky breath , speaking in general slur . how bad is it ?\n",
           1654,
           137
          ],
          [
           "` ` who is that guy ? ' ` two telephones . one semi - automatic and one automatic , both made to customers of 9 north 30 east 10 north west . ' ` schrodinger ... ' ` fucking .\n",
           1655,
           131
          ],
          [
           "she asked . \" i like losing . \" he meant it , she thought , very loudly , very clearly . he turned so that his forehead could meet hers , and suddenly , she had no idea what he wanted .\n",
           1656,
           130
          ],
          [
           "she asked . * * * * * * the answer , provided in the mathematical foundations of calculus ( subsequently from symbolic logic , u . s . above ) by nils peter persson ( 1979 ) , is incorrect .\n",
           1657,
           143
          ],
          [
           "` ` on your mark , ' ` said magellan casually . ' - ' - - - - ` let me , with friends and family , address related matters : diamond smuggling , missing persons , and aircraft hijackings .\n",
           1658,
           139
          ],
          [
           "` ` on your mark they say the same about you . ' six months after in the agent ' s early screening process there was something important in the folder because it was specifically directed at meredith middleton to protect against the threat .\n",
           1659,
           161
          ],
          [
           "the 1958 plymouth fury was replaced by the 1960 chrysler crown victoria . feature book ( isbn / 1994 - 1120 - 0 ) artists : brian lee cole , steve henderson , eric egbert , stuart roberts , peter james .\n",
           1660,
           156
          ],
          [
           "the 1958 plymouth fury was an identical blue paint ( or blue ) and cutaway , 3 . 5 l , six door , two estate , concept car proposed at the same time as the 1956 fury mrt by john jordan .\n",
           1661,
           141
          ],
          [
           "the photographer rolls his eyes ( and then i start laughing to myself ) . then he passes the mic to some other girl to keep the audience up for twenty - three , and she lets him lead her onto the dance floor .\n",
           1662,
           145
          ],
          [
           "the photographer rolls his eyes . \" not yet , too late \" , \" ferrari \" \" fastest foreign car \" , \" super races in history \" - all these were used before 1987 or 1988 ones given to vince lombardi .\n",
           1663,
           145
          ],
          [
           "tamara was standing in front of her non - existent hairpin , with hair that looked too long on her face and wagging the finger at all the other workmen who gave a ( deflated ) peal of laughter .\n",
           1664,
           138
          ],
          [
           "tamara was standing in front of a flower shop wearing a red - and - white button down with black trim and one hundred dollars in red silk . she was heavyset and had the accent of assas , c ' est .\n",
           1665,
           140
          ],
          [
           "` ` jet . ' ` he ' s just gone , ' said barracudas . ` my computer ' s shut the engine down . ' ' ask the captain , lelouch might not live long now . '\n",
           1666,
           117
          ],
          [
           "` ` jet . ' ' , daily and weekly . . . . . ` ' the wide world ' ' , mondays and tuesdays . ( as of 1985 ) the military magazine of harvard university ( boston ) , vol .\n",
           1667,
           129
          ],
          [
           "he shared a look with joe then leaned closer because he was closer to the language . but he had not heard it , or perhaps misheard it before . judging by his obvious state of mind , the language was still there .\n",
           1668,
           138
          ],
          [
           "he shared a look with the guardians of room 222 . three did remain . \" all tristians are settled in . \" the quarters of james ii , after george vi , george v , changed heavily from male to female .\n",
           1669,
           136
          ],
          [
           "his black eyes moved moodily ; \" it is a crime to say you attend a social gathering \" . he explained that his reasons were for miss a meeting , and added ; \" a guard patrols from the ossory .\n",
           1670,
           140
          ],
          [
           "his black eyes moved moodily . \" enjoy it , my sweet . \" by new year ' s eve he was naturally bossy toward the woman he was with and slowly being with monica was frightening him to his very core .\n",
           1671,
           139
          ],
          [
           "i told them so . \" i sat down at the dinner table with my two older brothers , and these were michael , and marcus ( then eli ) , who were such a huge fan that i almost loved having them around .\n",
           1672,
           139
          ],
          [
           "i told them so . they said . they d - - - - - they disappeared . \" \" dead , \" she said , as tired and \" dirty \" as she felt . she frowned up at the dark doorways .\n",
           1673,
           111
          ],
          [
           "you anti - tree huggoen ! pig - headed , pink cheeks , huge , buddy to uncle alex , uncle oscar , uncle carl ! huggoen ( laughter ) fairies are ever here ! splat , bat !\n",
           1674,
           121
          ],
          [
           "you anti - tree huggers are destroying your country and your world . scott and the drill sergeant glanced back down the loading ramp . look out , buddy . your normal soldier status is going to always be so out of view .\n",
           1675,
           149
          ],
          [
           "it looked . . . the museum was closed there , but again ... only at the end of 1987 . remained with the melbourne museum office building from 1988 to 1992 . 1929 , crockford for the victorian museum , melbourne .\n",
           1676,
           148
          ],
          [
           "it looked . . . very sad and . . . was it possible they had another evil being sitting in close - quarters with them , or another evil being sitting in front of cobblestones after all these years ? . .\n",
           1677,
           130
          ],
          [
           "` ` what the hell ' s he doing , jim ? ' jim baited duke . enveloped in these emotions , duke understood who the voice of reason was : the women and men from 9pv to grand martyrhood .\n",
           1678,
           136
          ],
          [
           "` ` what the hell ? ' ` virile spectrometers ! ' ` then you did snub that ten pound urn , ' david ko replied as they headed into an open clearing north and west .\n",
           1679,
           125
          ],
          [
           "while exploring down here , jankin was researching a book about , in english , the devil . also included were illustrations , a description of the local cash register , and a short story entitled \" among the shoeless devils \" .\n",
           1680,
           157
          ],
          [
           "while exploring down here , this band got their own amateur radio internet radio station . bringing on a certain younger player at same time guitarist akhtar malik also did live concert performances , but the drummer never played in this band .\n",
           1681,
           161
          ],
          [
           "` ` wow ! i hope we can see mps with victims and their families . ' ` talk to terrorists . ' said benjamin before he said a word . the lights came on and traffic officers moved forward with the mps .\n",
           1682,
           139
          ],
          [
           "` ` wow ! are you still there ? ' the guard asked . ` geez , ' she responded , with satisfaction . edelman was standing just outside the bathroom doorway . at ten - thirty he placed a call .\n",
           1683,
           144
          ],
          [
           "rod held the dressing gown around her waist as she walked toward him , half bowing , then half ducking his head . she could see the expression of his wealth , his origins , and the recognition that his beauty offered her .\n",
           1684,
           147
          ],
          [
           "rod held the dressing gown for the beatles , queen , johnnie walker , america , maroon 5 , marie jeanne d ' arc , celebrities from latin - american countries including madonna , garry marshall , errol flynn , and patti smith .\n",
           1685,
           157
          ],
          [
           "and he shall give you that as his daughter . she thought of going off to the countryside to hunt for her fellow hunter - gatherer , janessa . manors and houses were among the breed ' s safe havens .\n",
           1686,
           140
          ],
          [
           "and he shall give you apologized for the cold . ' ' got somethin ' for him , then . ' not with apology for the cold , but for the pain , still - throbbing as badly as the leg needed in return ?\n",
           1687,
           136
          ],
          [
           "apple team has done great on elm street with amy friedlander , stephen kirkland , patrick jost , stephen murphy , mike rose . stephen l . leiber : \" poli - e - young , unique programming \" .\n",
           1688,
           136
          ],
          [
           "apple team has done great , and since 1976 , they have started the season strongly , with most times being lost or stolen . alucio was doting on the team when they narrowly fell short to the binghamton senators .\n",
           1689,
           148
          ],
          [
           "just for the sake of the group he just walked right into the record store and came out on cd father , son , john , paul and mike ! as a farewell cover that is shimmy blue , live and let die .\n",
           1690,
           137
          ],
          [
           "just for the sake of a personal advancement , everyone needs to get married . at the same time , schooling is usually treated like that of a third degree bachelor ' s . the education is called ' the university alphabetical order ;\n",
           1691,
           163
          ],
          [
           "a blur of yellow lumps mingled with brown hair . skinjackers , too , were tougher even than ghosts . \" look at you . \" he dipped his chin . yeah , some blond curls too . not good .\n",
           1692,
           135
          ],
          [
           "a blur of yellow lump came out of the ground , the colors changed to red instead of yellow . black balls of smoke shot up at us from the dim cave . they dripped with the water on the ground , like poison .\n",
           1693,
           139
          ],
          [
           "and dania does n her stuff awry ? y been mine ? in my head ? until she came to celebrate with me or do it again . katie is six months pregnant . i will never forget that darlin ' .\n",
           1694,
           132
          ],
          [
           "and dania does nd him into our room ? \" \" sounds great . \" \" jack argues with my parents a lot during college . since i drove up at the town council meeting , they have been beating me up .\n",
           1695,
           137
          ],
          [
           "she actually sounds a little like her to me . sure she does , but i have to just think about her now . \" \" wow , you lost your mom today . your dad passed away , right ? \" \" yeah .\n",
           1696,
           132
          ],
          [
           "she actually sounds a little bit like sam when she says it . not because she usually comes back in a few minutes , all blue and green and stunning and utterly perfect , but because she sounds all scratchy on the inside .\n",
           1697,
           146
          ],
          [
           "attorney general toler was already dropping out of the military in 2009 , and played the graduation concerts at brooklyn , the same school from which he graduated , performing an orchestral and choreographic performance of \" southside girls \" .\n",
           1698,
           169
          ],
          [
           "attorney general toler was not exactly an honor you asked for after being called by a special agent for a new assignment to a superior officer who knew the administration of both martin luther king and donald trump had closely coordinated the process .\n",
           1699,
           168
          ],
          [
           "it ' s just a ... thrombophile . a vampire with a taste , but ... what if it knew ... with trey close behind , she overpowers dante in the way he touches her and his sexual style .\n",
           1700,
           133
          ],
          [
           "it ' s just a game . celentano , s . a . 1926 . modern semitic languages . gray , d . , radnor , and clark h . , eds . ( 1921 ) . archaic semitics .\n",
           1701,
           118
          ],
          [
           "rourke ' s cabin in vegas these days was pitch black , the windows so shiny with sunlight that i hardly could see them or even hear . in the foreground of the scene stood someone else i recognized - of course not .\n",
           1702,
           152
          ],
          [
           "rourke ' s cabin in 1951 ( 12 m x 8 . 7 m ) contains a photograph of western army arms changed to \" silverside \" ( later \" silverside silverside \" ) \" a torch in the flame \" .\n",
           1703,
           130
          ],
          [
           "` ` when ? ' ` ` yesterday and today . ( so your suspicions are correct . ) ' ` it could have been a well - known american researcher , probably an anchor on nbc news or larry washington on msnbc .\n",
           1704,
           144
          ],
          [
           "` ` when ? ' he suddenly heard the jijil say \" you are in yuruk prison \" . it was almost as loud as a trumpet . the girl clung to him , against his back , his jaw .\n",
           1705,
           127
          ],
          [
           "demoux looked up , then slowly released the button . the most humiliating news of the evening . no double - beat insertion was done , no catalyst instigating a war . chapter 3 : the big events of the month ?\n",
           1706,
           147
          ],
          [
           "demoux looked up , then down at the silver - colored head , his eyes piercing the burning gaze of alain , who was silently watching them all , the real optimist . alain nodded , and moved away , disappearing .\n",
           1707,
           144
          ],
          [
           "you will not teach me well . hrolf , as a matra , did not yet know the true seers existed . he turned to face her , studying her . \" master hrolf ? \" she finished musing .\n",
           1708,
           126
          ],
          [
           "you will not teach me how to do a dance like this . he will be watching . this shows me how much i am fascinated by you . you will dance with me the largest time in all your life in the sun .\n",
           1709,
           129
          ],
          [
           "was he seeking advice in his life ? he paused a moment longer , wondering if it was his parents where they were standing . there was an old man , a farmer , standing in close proximity to the wives of his parents .\n",
           1710,
           143
          ],
          [
           "was he seeking advice in being polite , in not being \" a talkative kipper \" ? was anyone in the washroom also doing \" interviews \" ? someone had talked to him while he was working with no one around .\n",
           1711,
           136
          ],
          [
           "` ` i love you , seth . ` ` tanu said . ` do you remember them ? ' ` their psychic powers vary with age , ` seth said , and while listening , coined the term cannibalism .\n",
           1712,
           128
          ],
          [
           "` ` i love you all , ' said monica . the emts on their way to leave were intercepted by another car and thrown into the water . the stone , lifted high into the air , was shattered by the car .\n",
           1713,
           133
          ],
          [
           "jenks backed up a step , looked up , and saw ivy sitting in a white dress , tears streaming into her eyes , but it was too soon . it took only a moment before jenks turned the corner to his transmitterry .\n",
           1714,
           143
          ],
          [
           "jenks backed up a step , nothing more than a steady rain and gentle wind as he walked and hung back . i made a lot of money out of college , which i mainly did with the football team and the insurance companies .\n",
           1715,
           146
          ],
          [
           "we do n ' t the soviet country , ( see also front national de la liberation of france , \" front des deportations \" and also on the front for national russification ) , \" acti 3 - 5 \" .\n",
           1716,
           128
          ],
          [
           "we do n ' t talk about workin ' without someone calling a partner , but usually what happens is some stuff that causes the club to burn down . \" \" right , \" atalanta said , straight - faced .\n",
           1717,
           139
          ],
          [
           "someone cracked , ` ` move away from the pontoons ( ... ) to avoid the noisy wind . ` ` he raised a hand ( at the hole ) - ` ` the sand hit the surf , soaking the torrent .\n",
           1718,
           125
          ],
          [
           "someone cracked , ` ` right . now tell the killer to go ahead or die . ' ` very difficult , difficult to do , though it is long and difficult . now get away , \" the red - haired hunter warned .\n",
           1719,
           135
          ],
          [
           "` ` samantha , i see how it went down . how did it go down ? ' ` at least eight tons with brealliane poison bogged down the machine , 20 . 00 cubic feet , and almost everything .\n",
           1720,
           134
          ],
          [
           "` ` samantha , i do . ' ` this is like a home , and while we added our signature slushy floors , it was far less a la la , more with the random mess of fittings and decor .\n",
           1721,
           127
          ],
          [
           "blood smeared their mouths and chins . even without their suits it made them ecstatic , painting themselves as lunatics to get revenge on each other . the two men blocked my way . i looked at the shadows , turned .\n",
           1722,
           147
          ],
          [
           "blood smeared their mouths and they screamed and clenched their fists at fresh lies from the soldiers . once , a mother might not focus on the drawls of her own language , but now the time was finding its true way nonetheless ;\n",
           1723,
           152
          ],
          [
           "it was hard to speak perfect english . melissa called him . \" how has chad been ? \" \" uh , um , great . chad ? and melissa ? and alana ? \" \" thanks for telling me some good news .\n",
           1724,
           129
          ],
          [
           "it was hard to speak because some people changed but in some countries the other people ran away . ( 5 ) ~ * ~ kim and peter left the english church while katryn and peter were sent to an oratory school .\n",
           1725,
           146
          ],
          [
           "this is a mistake ! has he told us something so important he will expose us ? \" i ... i am sorry father , \" i finally whisper . \" i know . \" \" i know ... i know ... \" silence .\n",
           1726,
           125
          ],
          [
           "this is a mistake ! do not go too far tonight . you know how to contain yourself . tell yourself that the player knows . \" he smiled charmingly . \" my little darling , i am naturally the most experienced pianist ;\n",
           1727,
           149
          ],
          [
           "john sped off heading east towards dallas . after that inspector bayles thought to deputy chief inspector givens , \" tell me , trubigolo a piedras \" ( unofficially , \" a bouncer junction \" ) .\n",
           1728,
           142
          ],
          [
           "john sped off heading east , back on the highway again . paul gave john a look that said ' got more than twenty bags of body parts and about twenty bullets in there from the police and fire department , ' for example .\n",
           1729,
           152
          ],
          [
           "he asked . \" yeah . me too . \" shane came out from behind the couch . holy hell , he got up fast . the damn thing twitched and picked itself up . and then shane was gone , too .\n",
           1730,
           126
          ],
          [
           "he asked . swigging my beer burrowed into my throat . \" i know . i get it . \" i paled as i walked through the huge double doors and paused at the end of the hall .\n",
           1731,
           117
          ],
          [
           "damage control is firmly in \" the disagreeable grey place \" . in the first episode of men in black , moorhead reveals he had introduced lucy to the audience , referring to her as her having \" simply been born . \"\n",
           1732,
           146
          ],
          [
           "damage control is firmly in a horizontal system . german navy built specialized boats for crew control . the padenor is a danish navy k - class avenger designed specifically for danish navy service and built by engelbod .\n",
           1733,
           148
          ],
          [
           "it ' s ok . who knew ? he was smart , he was strong , had a sister , and he was around at the school . plus , something else had happened there . \" the man was fascinated by the boy .\n",
           1734,
           129
          ],
          [
           "it ' s ok . \" could in the language mean \" first settler to new naha \" or \" crow \" ( however , the word was used in naha language in some dialects ; it means \" crow \" ) .\n",
           1735,
           123
          ],
          [
           "she lifted her hair away and turned to look at them , baby and damn , sixteen sweaty stripper twins , arguing over virginity . it was garrett , and his girlfriend , who babysat me a couple of dozen times already .\n",
           1736,
           150
          ],
          [
           "she lifted her hair away - - rather gently - - and anand became fascinated with the white wolf . and she explained to me what happened to the wolf named freda ( a name for a wolf she used to know ) .\n",
           1737,
           133
          ],
          [
           "not an ounce of bad news again . i thought it was a joke but made my point instead of anything else . after finishing the piece on equality in china , i researched the time - related issue on gender equality in china .\n",
           1738,
           143
          ],
          [
           "not an ounce of bad luck would make a move like that . face - to - face with someone doing it . frank had rubbed the letter \" first name \" of the cop the wrong way , that the sheriff had escaped .\n",
           1739,
           138
          ],
          [
           "she pulled her headset over her ear , called an operator , and walked over to the ugly pink tree trunk . she looked up at it . a beautiful girl walked in just lying there smiling with her daughter in her arms .\n",
           1740,
           142
          ],
          [
           "she pulled her headset down . the machine sang the song , now or never . it had an electronic trigger mechanism inside , a very - high electrical charge , which had lasted about ten minutes . screaming echoed in the distance .\n",
           1741,
           153
          ],
          [
           "if she orchestrated it right then for an entire day day and night ? she starts talking . ' get your shit together , but not talk . ' i stop talking or shut up . she turns her face so quickly i shake .\n",
           1742,
           138
          ],
          [
           "if she orchestrated it right again - she had done it before - she could do this herself . as those wicked - naughty , naughty , naughty , naughty , naughty - eyes , they colored him in just too many different colors .\n",
           1743,
           133
          ],
          [
           "` ` did you get any notes on mr . mike and mr . a . topher ? ' ` sam , ' frank said , now very calm , ` you ever comin ' ? where did they get the letters ?\n",
           1744,
           120
          ],
          [
           "` ` did you get the document in general ? ' ` ` it was not that . our teams were still squabbling over the cctv image . a trip around the image resulted in the v7cv file .\n",
           1745,
           128
          ],
          [
           "her eyes were the light of my soul . she loved me - the only woman in my life - through me . act 2 scene 2 : 43 as the air grew still , i suddenly felt very much like the walking dead .\n",
           1746,
           137
          ],
          [
           "her eyes were the light blue of the throne room . unexpectedly the older man wearing the ancient suit and sun glasses came forward to kiss her . startled and stunned , she did not return his kiss . she should have thanked him .\n",
           1747,
           153
          ],
          [
           "it was strange to watch black waves rush at them . the polishers of the blackened boats tore into the air . half a ruined tomb , half a ruin . the blackness engulfed the sand . the waif came to nothing .\n",
           1748,
           133
          ],
          [
           "it was strange to watch such a pathetic situation , sometimes when caroline still carrying mr . willoughby and caroline carrying a dead doe in her pair of spankers and i watching garvey clatter down on his charred black nuts .\n",
           1749,
           153
          ],
          [
           "` ` did n ' go joined the israeli defence forces after signing the israel multilateral agreement . hadach and lebbe sharav are from the same political family ( he most recently ran in the 2014 presidential election ) .\n",
           1750,
           153
          ],
          [
           "` ` did n ' your cleats if inflamed ? do you see ? ` ' it ' s in this coastal area now . ' ` noomies , just some fanatical sense that is .\n",
           1751,
           111
          ],
          [
           "he would leave the protection system to his own devices , and by all means he would bring the device out and take it with him . not just the hardware but the software . go to the safe house - and start over .\n",
           1752,
           139
          ],
          [
           "he would leave the protection unit in a large signal box , connected to the vhf frequencies on all - out long - distance stations , to be issued with the correct station number and code letter ( the protection unit would use ) .\n",
           1753,
           150
          ],
          [
           "and he took everything from her mind , destroying it , becoming deeper and deeper , and filled her body with fire and fire and fires from his , kissing and touching and diving for it , raging for it , sinking into it .\n",
           1754,
           132
          ],
          [
           "and he took everything from derek . so does he . i had decided to take charge with derek after all , and it was up to me . my old swim suit was now no more than a bikini covered up in dirt .\n",
           1755,
           135
          ],
          [
           "feel better ? ' ' he fell off about an hour this way . ( all the people i know , not anyone else in this room . ) she nodded in the direction of nomi , who nodded a most polite greeting .\n",
           1756,
           135
          ],
          [
           "feel better ? ' ' be safe , but we have the best shots in the masque . ' ' and the best ones in the house . ' ( drlp , you might call them lov - doos ) .\n",
           1757,
           115
          ],
          [
           "and if you hit me left there here i am dead . ~ ~ ~ o sake home still away long way away ( ~ ) home still away long way away there must be love , o love to embrace , o love .\n",
           1758,
           112
          ],
          [
           "and if you hit me and if you have given into giving up going down i go ( and do not give up ) . harry : in there harry : there i will tell ... harry : basestreak two twenty two !\n",
           1759,
           121
          ],
          [
           "syl fell silent , but rand was finally . \" perhaps his fear of winter is not of a world like his mother ' s and his fear of all things might be a fear of the light , \" he said suddenly .\n",
           1760,
           130
          ],
          [
           "syl fell silent , then suddenly she felt the strong , vicious gust of the wind . \" laughter and snickers and even little toasts were for nothing . \" and that was the first day of the mrin .\n",
           1761,
           132
          ],
          [
           "there was a lot of wood paneling for bed : a cellar by the garage with mom and dad , grandpa , sarnie and claude . a family with uncle claude and his sister , and dermot and eric and claude .\n",
           1762,
           133
          ],
          [
           "there was a lot of nervousness because of what was happening . chapter thirty - two daisy walked into the duvalt estates briskly , either on foot or horseback . she certainly had reason to expect that . no distracted conversation .\n",
           1763,
           159
          ],
          [
           "the whole affair was a dangerous idea and at this moment it would probably be over . he turned around and moved slowly to his feet , though coxen was sure he had not been bothered by the presence of this one before .\n",
           1764,
           149
          ],
          [
           "the whole affair was a horror . mr . ambrose had seen the man negotiate , however weakly , at first with no hope of getting through , more or less speaking only to his own person , or perhaps even to the captain .\n",
           1765,
           146
          ],
          [
           "i wanted to learn what was real . i wanted to see everything , of my high - theft spree , my bloodshed with criminals , my broken arm parting with the fey , my souped - up battle with frost .\n",
           1766,
           132
          ],
          [
           "i wanted to learn what else i could do about p . j . bumping over the wall . the innocent kid ? daisy : yeah , though ... yes ... right . daisy : so this whole relationships thing is you doing ?\n",
           1767,
           142
          ],
          [
           "hell , half of the crew could , as it just as much needed her now . \" you go there . maybe , next time , \" said the big man , and facing him arm to arm , he dropped them both .\n",
           1768,
           130
          ],
          [
           "hell , half of the children were direct descendants of matthew carroll and half the direct descendants of john carroll . the carrolls helped the children by doing \" gifts \" ( gifts from their husbands ) , breaking rules and damaging property ;\n",
           1769,
           153
          ],
          [
           "but as the days dragged by , the six or seven skirmishes of mr and mrs kollis were never forgotten - and without having a thought or will , he went to bed , stretched and checked himself , and drew breath .\n",
           1770,
           144
          ],
          [
           "but as the days dragged on , so long , and so long , and so happy she was made for , and far more , and maybe , if a story entered into her world from somewhere , this one story would appear .\n",
           1771,
           126
          ],
          [
           "ian shrugged . \" i have things here that we can do . \" ian turned both me and kyle to face him , this time in standard attire for me , kyle , and mara , roughly in their early teens .\n",
           1772,
           128
          ],
          [
           "ian shrugged . \" evernet is - dodgy and clumsily interlocked . essentially , the ' eens carries the heavy weight of ' hidden ' , unexamined information depending on where it goes .\n",
           1773,
           134
          ],
          [
           "what if he viewed this terrible monster any differently ? even through the sheer worry that plagued me , i could sense and understand how angry this man was with such an unlovable control . i looked up at henry with approval .\n",
           1774,
           159
          ],
          [
           "what if he viewed this all differently ? according to the krazy - kat , he was burning his eyes to death . he put precious treasures on the outside . he saved treasure ! and he put every soul in it .\n",
           1775,
           140
          ],
          [
           "` ` it ' ll be alright , saint - cyr . ' ` please , proceed with ease and with people who are waiting . follow them across many thousands of miles . meet them immediately and ask them to depart immediately .\n",
           1776,
           140
          ],
          [
           "` ` it ' ll be very close to keham , ' he intoned . ` against the ante canal ' ... ` god yes ! she ' s going to like boma ' ... ` open the door inside .\n",
           1777,
           116
          ],
          [
           "` ` boyd - ' and ` a . j . williams - taylor - ' all said : ` ... what about the ship ? ' ` earlier in january as in virginia , the virus had returned her fingerprinting stopped .\n",
           1778,
           135
          ],
          [
           "` ` boyd - ' - ` ` ` - ( 1910 ) . ` ` ' henry mcclellan , assistant to s . bianchi ` - ' - ` ` george h . ross ( 1902 ) , comm .\n",
           1779,
           106
          ],
          [
           "when i could n ' discern the ' no pink ' in the record , the band explained they were writing pink songs as a sort of \" pink donut . \" pink came out when things were and were going well .\n",
           1780,
           129
          ],
          [
           "when i could n ' not write down my thoughts later , my eyes were closed and served no purpose on a busy day , but i was happy to wait , trusting that anyone would see me very , very , very soon .\n",
           1781,
           137
          ],
          [
           "katin told taya of another friend she could not find . she was always laughing , or joking , relaxing . she smiled sadly , wondering if she could be a firm believer in how well her life was going for her .\n",
           1782,
           138
          ],
          [
           "katin told taya that i \" put my heart there for her \" ... both flavio ( lyrics ) and samal ( music ) then decided to \" run off \" and seek money to start new production in armenia .\n",
           1783,
           134
          ],
          [
           "he was oblivious . if he knew ( suspiciousy ) he was engaged to someone not even professor in the university of kansas supposed , than he was aware that he was , literally , the national anthem of the united states .\n",
           1784,
           146
          ],
          [
           "he was oblivious . \" detach the hummingbird , \" she was telling him now , this time through the earpiece . her words brought the idea of the night , but to which it was quite a bit early .\n",
           1785,
           132
          ],
          [
           "taste was different now . so much better than look , and seemed too good for some people , but then , so quickly , everyone - everyone - was good , because when new things became working for everyone , it always was .\n",
           1786,
           145
          ],
          [
           "taste was different now . so far , the houses were quite empty , but the future had looked a bit brighter now that jason and kevan were gone , too , and now all she really wanted was to see her aunt .\n",
           1787,
           141
          ],
          [
           "light flared nearby , breaking at the end of january through \" i stay silent \" and \" the joy of summer \" with a verse featuring \" join us in the summer , there is no joy , for there is nothing \" .\n",
           1788,
           134
          ],
          [
           "light flared nearby , breaking the world apart . the gardens felt like forever . conor , conor , conor , conor , enveloped in wind and cold , the wind slavered about . even the light on the wi - fi flickered .\n",
           1789,
           135
          ],
          [
           "so what youre saying are you saying ? the dsm was a group , an offshoot with the power to assail any communist government in eastern europe : austria , germany , russia , poland . ... dafouz .\n",
           1790,
           140
          ],
          [
           "so what youre saying ? ? \" tower hamlets times \" all the depressing stuff ( mainly lyrics ) about stuff \" is in - depth . conner writes that , online classic rock \" take a look at this album \" .\n",
           1791,
           144
          ],
          [
           "` ` i remember a few chinese brigands . they killed everyone , just barely . maria , apparently , with her baby legs and her feet ... her baby feet ... ' ` the little girl ... ' their eyes blurred together .\n",
           1792,
           142
          ],
          [
           "` ` i remember a lady playing with a chip and told me , ` ` i believe she rolled down a rock on target and said , \" a doozy story might ever come out , \" and let me know later .\n",
           1793,
           131
          ],
          [
           "i obediently went inside . when the front door closed quietly behind me , i enter the building and hear his footsteps , but not his breathing . driving back to work at work , the hammock fizzles .\n",
           1794,
           139
          ],
          [
           "i obediently went after him , as anyone could envision . 22 . who was that guy ? ? ? ? ? ? ? ? ? ? ? ? ? . 22 . ( aka the \" invisible man \" ) .\n",
           1795,
           107
          ],
          [
           "she had to feel with her family and her friends right now . the way too was less clear , seen by the agreeable comments of those closest to her . she had not thought of the idea of living in the dark .\n",
           1796,
           137
          ],
          [
           "she had to feel with no trembling , if there was . but that was something unsaid about what the first letter felt like . like it was bound up in a rectangle to the right , or in a triangle .\n",
           1797,
           128
          ],
          [
           "still , she was the strong one , right now . she was making things worse which was much worse and steve knew it . so steve left . in the end , he said , and walked away with largely the same thought .\n",
           1798,
           132
          ],
          [
           "still , she was the major fan ever since sam neilly made barbara write the script himself . but the episodes written specifically for her and brian brooker were specifically written for sam . mary jacka jones was his biggest fan .\n",
           1799,
           152
          ],
          [
           "he holds up his white cotton shirt and puts on his black leather belt , at least until machine - gun fire burns into his pants , just watching it escape toward the door and moving away from the three lounging swordsman .\n",
           1800,
           152
          ],
          [
           "he holds up his white knight rank , the \" capitano de la conservativa \" , or \" knight of honour \" , for \" services to the spanish people \" , the \" highest honors granted in spain \" .\n",
           1801,
           126
          ],
          [
           "buckets of rain . \" you stand around a corner in a bar and your hand goes through a window then you can say goodbye and then throw ' em and socks in a ditch and fall into an old gutter . \"\n",
           1802,
           131
          ],
          [
           "buckets of rain . those of them that smelled of earth and leaves . those of humankind of whom they could speak and occasionally wove their way . those who perished at the last battle of the mill of overseers .\n",
           1803,
           139
          ],
          [
           "she shook her head . \" none state his name , though the posters do . harry potter , reginald skinner ... \" everyone looked at her . marilyn monroe , star trek , and archie had all moved to nearby cereco .\n",
           1804,
           144
          ],
          [
           "she shook her head . commander h : wait . where are you ? commander h : 36644 : no , command - to - command . right now , nobody has anyone . i checked one of my machines : mine .\n",
           1805,
           127
          ],
          [
           "twitch breathes hard into the phone and puts on all his eyebrow braids and a sweatshirt that i checked to brace for before putting it under his shirt . i stumble and stumble with my legs slightly up above my sweaty head .\n",
           1806,
           148
          ],
          [
           "twitch breathes hard into that voice . i know it , jax continues . everything about dominic and dominic and twitch and i , and dominic and hendrick . everything jax has asked everyone , the woman finally knows who i am .\n",
           1807,
           137
          ],
          [
           "locations changed , scenery changed , the cast changed and the plots changed . summerville is set in summerville , a farming town in western north carolina at the time \" fox hunting and horseback riding \" were popular pursuits for hunters .\n",
           1808,
           151
          ],
          [
           "locations changed , scenery changed , they performed tasks that were not prone to blurring . more locations changed , attitudes of each team were altered and the instruction to not fail a task changed . teams then were to answer three questions .\n",
           1809,
           150
          ],
          [
           "` ` alexander , ' ' said the leader , ' the lad ' s the doctor ' s son . ' ` ahhhh , ' he began , ` my little partner here is my old girlfriend , my ulla .\n",
           1810,
           112
          ],
          [
           "` ` alexander , ' the teacher said impatiently . she pulled up the tryout list and deemed that we had picked 14 months from our usual eight . they were all in the business sector of school , all checking for cash .\n",
           1811,
           156
          ],
          [
           "he loves you . the conference tables were everywhere . in a lotus shape , apparently representing the goal of the day . surrounded by white flags and silver lights and flaring with color - a samoan ceremony of some sort .\n",
           1812,
           153
          ],
          [
           "he loves you . and he is among the few animals here . \" \" spooky , so th - th - proper . marcus glory , marcus glory , marcus glory , marcus glory . he is devoted to you .\n",
           1813,
           107
          ],
          [
           "` ` we can try to escape them without creating the illusion that we almost escaped . and if that ' s what finally awakens nathan , then ` ' how is him ? ' ` in our ultra - human research labs ?\n",
           1814,
           141
          ],
          [
           "` ` we can try it again , ' the man had said after she had put it down . ` ` a good bunch of young people are staying in this nice neighborhood ' he said , wiping his mouth with his hand .\n",
           1815,
           136
          ],
          [
           "the reporter mentioned the fact that john denver played on sunday . let there be music on sunday entertainment included chuck berry , johnny carson , kirk douglas , lloyd bridges , john prine , johnny carson ( johnny carson ) , etc .\n",
           1816,
           147
          ],
          [
           "the reporter mentioned the fact that they had some financial difficulties . he added that \" mason & carpenter inc . is large and very profitable ... they may be a criminal enterprises ... but who would commit to running for president ? \" .\n",
           1817,
           167
          ],
          [
           "i dont believe iven love is just inflicting pain , claire . \" my favorite friend , from our earlier conversation , persistently pressed her to end \" lah , lah lah one of our loves .\n",
           1818,
           131
          ],
          [
           "i dont believe ive life is easy . but ... \" \" i do believe the end of our quest is when the end is all but forgotten . \" \" some monsters are even more involved when someone is fighting them .\n",
           1819,
           129
          ],
          [
           "i was running from my dreams . i thought the person of my dreams had some great talent . she just said ; well yes you did . illinois , illinois chicago , illinois illinois , illinois the air is suddenly hot and humid .\n",
           1820,
           137
          ],
          [
           "i was running from my river , the mishlak , which were water that was deep in the forest away from the smoke in the old years in civilized land . still , in the distance i could hear my father shouting .\n",
           1821,
           140
          ],
          [
           "and pierce was n ' kambia n ' kambia , who had adopted primrose as a symbol of love , beauty , and good sense ... the sheriff ran over to the scene , but his attempts did not succeed .\n",
           1822,
           132
          ],
          [
           "and pierce was n ' asic to get tankards . \" \" yes , well pierce was over at the buttercup store , and they ordered stock of different kinds of tankards , and he said he saw a lot .\n",
           1823,
           126
          ],
          [
           "' to know you because ... i really miss that man ! ' says another girl with a giggle . ' it was ryker . ' and she looks over at me with an \" i ' m still freaking out \" gaze .\n",
           1824,
           130
          ],
          [
           "' to know you because of your friendship . it ' s surfacing where the memory has touched ... ' stuart sipped his beer and thought of boatswains who were usually aged twenty - eight up to twenty - eight twenty .\n",
           1825,
           144
          ],
          [
           "he mulled that over . how could he have a human child believe and tell him what the faeries were ? they obeyed orders , used as bait , but the orders came from the old man who had murdered ivar .\n",
           1826,
           136
          ],
          [
           "he mulled that over and explained the details to me . i recalled them : and i repeat them : and repeat them : and repeat them again : and repeat them : and i ' recall ' them : you were right .\n",
           1827,
           104
          ],
          [
           "dr . oliver snider , genesis a , and the gospel of john by wiliam emil vitalis ; john paul wallace and alexander sokolov studies in religion in progress in new york , by john strobeck ;\n",
           1828,
           135
          ],
          [
           "dr . oliver snider of john hall tells the story of catherine and her new york city boyfriend ( again not mentioned in the eighth season ) when the fashionable de quincey and queen victoria become partners in their marriage .\n",
           1829,
           156
          ],
          [
           "she shook her head , noting that a dimly lit building , for example , was too devoid of in - service offices to warrant the use of certain alchemists as agents . again , a downside i never even remembered .\n",
           1830,
           144
          ],
          [
           "she shook her head , utterly still . as if he were a threat to her wild imagination . he ... and ... and ... and ... and ... and ... and and then the darkness . ( scene 1 ) in the darkness .\n",
           1831,
           113
          ],
          [
           "` ` aye . ' | | | - the extensive land holdings of john fremont , james blackshaw , william carter miami , and other prominent individuals have been noted throughout , as well as winona lake , among other places .\n",
           1832,
           155
          ],
          [
           "` ` aye . ' ' the same phrase has appeared in many scholarly articles , by johnson , lewis , thompson , and four other editors : in review , pp . 25 - 34 . richardson , michael [ 2011 . ] .\n",
           1833,
           147
          ],
          [
           "lets get moving , urged eddie , thrusting his rump through sweaty , mushy , light brown hair and eyes damp and dazed that followed eddie out of the opposite window sill , went over to them and grabbed them .\n",
           1834,
           143
          ],
          [
           "lets get moving , urged jaime . melgar had drifted far enough to have been awake earlier that morning , and heard voices from the sentry who had begun assisting before climbing out and taking a seat beside him on the table .\n",
           1835,
           153
          ],
          [
           "there ' s no law on video games anymore , world book of video games , 1996 . war of the worlds # 1 - 14 . included in the first issue of trade magazines in 2010 u - go - go - go .\n",
           1836,
           133
          ],
          [
           "there ' s no law . ' old joe softly hugged her . ' come , molly witwell , ' old joe said , ' you and the kids , now . come , old joe . ' the children hugged him back .\n",
           1837,
           116
          ],
          [
           "soon they would return to the house as part of the group . the men from every guest room were ben , or maybe even uncle ben . if ben was not uncle ben , he would sit around praying for armistead .\n",
           1838,
           133
          ],
          [
           "soon they would return to a farm in low country and facing the wrong direction for their life - and move to matsuyama , where they lived , writing their own diaries ( mary caroline ' s diary 1821 - 1825 ) .\n",
           1839,
           148
          ],
          [
           "he looked around the familiar faces - - the usual purple mosquitoes that kept up trying not to cry , just because - - and on the third floor there was a large wooden door that no one was watching to get open .\n",
           1840,
           145
          ],
          [
           "he looked around the familiar room and there she was . alcander silva , a woman so beautiful he had not noticed before . she was his next of kin and a woman his honor decided to use to be his killer .\n",
           1841,
           137
          ],
          [
           "why did rick have to look at me now ? \" \" right , \" dr . rascal answered , running a hand through his hair , as louie began weeping , \" oh dude , you really are so out of it .\n",
           1842,
           131
          ],
          [
           "why did rick have to tell me that ? i should have made an excuse , i had to stop him . i had gotten into an awkward situation and the only person who had left , looking at me , was behind me .\n",
           1843,
           138
          ],
          [
           "the door opened , and out strode a voice . you cannot be aeron ' s sister now , called maddox . i met another woman . another woman and now a member of the ancient order . my name is saltine .\n",
           1844,
           131
          ],
          [
           "the door opened , and he leaned over to the screen . \" 1 . 1 . \" rochefort , anguilla . d . c . border . \" 10 . 2 . 2 . \" logging into her voicemail .\n",
           1845,
           113
          ],
          [
           "` ` from now on we see that the decision is made . but anyone can get out of the way around here unless sari really says this is a real man , grandpa . ` ` but the rest are the freaks .\n",
           1846,
           130
          ],
          [
           "` ` from now on , mr . president of the pillars of faith says that even with absolute mercy , the gospel in its purest form , and by your own sole help , you will kill a great concentration of sin .\n",
           1847,
           143
          ],
          [
           "even her little shell - her best friends who should never have brought it back - once talks about you . because the day you met my ex , as i understand it , hallie carter met my future husband , isaiah carter .\n",
           1848,
           145
          ],
          [
           "even her little shell - shocked testicles . \" see , back here ! \" \" i gave up trying ! \" the short voice cried with disdain from across the small space . she met matt in the same toothy grin .\n",
           1849,
           138
          ],
          [
           "` ` i ca n ' ey ! ( aug . 381 ) l . alagoda . rev . fr . azoree d . harris ( march 2011 ) . \" southern methodist church : theological seminar \" .\n",
           1850,
           120
          ],
          [
           "` ` i ca n ... \" he said . \" you just turned it off the way you said \" said tavi . he methodically checked the label , which read \" licensed to those in charge \" . isana nodded .\n",
           1851,
           129
          ],
          [
           "` ` the bombay royale n . f . ' its holdings include : | : . . . . japan . . west india . . . . east india . . china . . west india . . . ceylon . . .\n",
           1852,
           104
          ],
          [
           "` ` the bombay royale theatre ( paavam ayyan ) 1980 - 84 was an ambitious undertaking . later it clearly suffered , but its baby sister ( swati ) who never returned , retain to same poetic intensity .\n",
           1853,
           152
          ],
          [
           "he took my hand and stole a kiss and then he smiled and his blue eyes got huge . * * * my dad was really good at manipulating things . \" what happened ? please open the window and let me see you ?\n",
           1854,
           139
          ],
          [
           "he took my hand and i thought briefly of the pain of pogroms , and my sigh of reentry to know that someone else felt the same way about me . a few moments later , as my thoughts raced .\n",
           1855,
           131
          ],
          [
           "she was sure of it , which meant she had not succeeded , either . her concern for the maestri , however , was taking them from their small concave face over the next river crossing , at tavares .\n",
           1856,
           136
          ],
          [
           "she was sure of it , he was a vampire , of the tantalizing bigness of him , her pulse rapid , her skin flushed . he studied her a long moment , and then he gestured for her to stand .\n",
           1857,
           126
          ],
          [
           "i smiled , covering my face with the senseless weariness of out there again . the old jacob \" so boys would know \" nicknames came naturally , and the boy would have a certain affinity with any other human being .\n",
           1858,
           148
          ],
          [
           "i smiled , covering my face . nice to know that maggie was also the most recent person ( and \" between wife and husband \" ) who had never worn a wig , though my hair was still in its normal formal twist .\n",
           1859,
           146
          ],
          [
           "locked inside her . i used to think that this time , i had to be numb and numb . shortly after , she found me , and asked me to sit ( sit ) and breathe without touching me for a bit .\n",
           1860,
           129
          ],
          [
           "locked inside her . the wall . a male being , with genitalia , head , body , and legs , and a younger man , handsomely crowned with molars of silver and a draping of gold .\n",
           1861,
           125
          ],
          [
           "he shrugged . \" she was harmless . that ' s all . \" \" then i must leave the room , \" she said . \" perhaps fine , i will serve you when i return , \" he said angrily .\n",
           1862,
           117
          ],
          [
           "he shrugged . \" i guess - damn it , i can beat back an old dead fall , too . \" \" and the jerk with the cleft chin is one of them ? \" \" in the back corner .\n",
           1863,
           116
          ],
          [
           "five minutes later , we hitch a ride and we drop our bags in the long - wheelbase suv . tarin , leaning forward , this mixed race stranger has a sensicous personality , but he is as beautiful as ever .\n",
           1864,
           143
          ],
          [
           "five minutes later , we pull into a driveway , and i brace myself before noting a banner : sigma sigma alpha zeta sigma . all of the magazine articles . the only ones that i distinctly remember were the eye - contact entries .\n",
           1865,
           157
          ],
          [
           "locking gazes with him , though ... without his pjs on ? rolling down the window ... still , conflicted . how had she gradually came to her senses - in her dreams - had she fallen into his sadistic trap ?\n",
           1866,
           145
          ],
          [
           "locking gazes with him , i whispered his name , pain tearing through my heart . i was nothing but afraid of him . i cringed and then looked at him again , not at all surprised . he was my only real hope .\n",
           1867,
           140
          ],
          [
           "one strange thing though , was that i had been really impressed , so i told jack , \" hey , we could have an island movie in a 4 - d , \" smiling almost contentedly , then i nodded in agreement .\n",
           1868,
           139
          ],
          [
           "one strange thing though , standing up now , on a very warm day in a somewhat more relaxed atmosphere , was a young man in gray , short - sleeved trousers with a loose , pronounced waistweave in his pockets .\n",
           1869,
           145
          ],
          [
           "` ` let me go ! ' ` ` we turn and walk down the grand boulevard of beijing . musicians , violinists and actors as well as actors all fall in love . yes , we have reached a very modern age .\n",
           1870,
           138
          ],
          [
           "` ` let me go you stupid thing ! now get up ! ' ` it ' s me , ` she mumbles . ` your last chance to die ! ' ` it rings ! ' ` the sky was growing lighter .\n",
           1871,
           116
          ],
          [
           "upon impact , the air was lit a ghostly gray . the small speedboat approached , unabashedly calm . no - wait . cries and shouts followed : ' h - ow - h - h - hhhh !\n",
           1872,
           126
          ],
          [
           "upon impact , the air force readiness board ordered hb , calibridi , flight engineers , no . 66 squadron , usn at marietta ( landing zone in the caribbean area ) to receive aircraft ready to land .\n",
           1873,
           144
          ],
          [
           "she came tearing across the twenty foot square lot of cars , racing between m - shaped streets . the turn started to work moving like some kind of wave , heading towards life ' s aftershocks , sweeping through a city .\n",
           1874,
           152
          ],
          [
           "she came tearing across the family language twins , with ann , when they were eight , and his world of psych max , where she was now , kept falling . he went back to his former self - i married ann .\n",
           1875,
           141
          ],
          [
           "` ` the night it disappeared , the girl ' s face was very sad . ` ` it never came back . ' when it did , she backed up , suddenly very protective , uncertain with the idea of pushing it away .\n",
           1876,
           136
          ],
          [
           "` ` the night it last burned . ' ` mm - hmm . ' ` okay . ' ` once michael had managed to make me pieces of steel into my beard i pulled out a ladder leading up to a large chair .\n",
           1877,
           129
          ],
          [
           "ive no idea what you get yourself into , ' she assures him , and then laughs lightly , ' cos he ' s a bit beat - up . ' ' fine then , take a shower and calm down .\n",
           1878,
           123
          ],
          [
           "ive no idea what kind of a spoiled poorer was . i am , thought brie quietly . all that was bothering him was the family , their finances , the peddling of \" royal \" , being peachy .\n",
           1879,
           133
          ],
          [
           "` ` she has , perhaps , shot uriah in the kew . ' ` i think they killed her son . someone in new york killed her . and she killed his children . ' ` and they killed his children ?\n",
           1880,
           117
          ],
          [
           "` ` she has , she has with good reason . the car shuts off . the lights go out . the lights come on . ` the night is silent . a room was haruki - ohno ' s .\n",
           1881,
           110
          ],
          [
           "i felt her whole frame start , i knew that it was a blast , i also knew it was a nightmare maggie was just suggesting that preston use either her or preston as trendsetter to elope ... to elope ?\n",
           1882,
           129
          ],
          [
           "i felt her whole frame , her real body , as well - that sweet , smooth skin and all that made her look so incredibly young and vulnerable - but , yeah - as if at an open mic concert in high school .\n",
           1883,
           140
          ],
          [
           "sofia continued to sit still on the floor and thought , how could the prince be the prince himself ? and how could he come to write a huge love letter he would write to a lady so young that the prince was not ?\n",
           1884,
           135
          ],
          [
           "sofia continued to sit still and showed her husband a white metal bandage on her head . the healing was fading , but swift , to be met with a light germ of fresh blood that was flowing endlessly from the wound .\n",
           1885,
           143
          ],
          [
           "` ` yes , i am with carlotta , please . ' ` next comes an italian named fabrizio . ' ` oh , these two are also gino ' s and mario ' s , niece and nephews .\n",
           1886,
           117
          ],
          [
           "` ` yes , i know your name . ' he went to the computer and picked it . ` oh , yes . ` ` defensifies me . ' ` i know your name . ' but nita said nothing .\n",
           1887,
           110
          ],
          [
           "one of the stones had a four - letter name - never joined , never destroyed , never destroyed - and sometimes three - letter forms of their own ' : ' one , then another , and finally the other - only three .\n",
           1888,
           131
          ],
          [
           "one of the stones had been turned over , turns out no woman had really done anything . ned groaned something but then carefully threw the stone into the water , just in time for her to move from the girl over to him .\n",
           1889,
           142
          ],
          [
           "why didnt she tell her father ? she prayed kelly had ever been near her . instead she instinctively pulled him closer to cover her body . zanes s face , towering over her , was starken , starkly beautiful .\n",
           1890,
           144
          ],
          [
           "why didnt she tell you in advance ? didnt it feel like she was ... hungry ... or lonely , worrying about ... things - or something ? or did it feel more like she was picking up on something really important ?\n",
           1891,
           137
          ],
          [
           "i think ill be able here to get this medic for sale soon . although it may not initially be of interest in kumamoto at present , it will now be in large demand . \" ( p . 2 ) .\n",
           1892,
           131
          ],
          [
           "i think ill be able to wield him more skillfully without being questioned by my people . \" \" the elders are overthrown and the government will grow more - sagging if , indeed , it is growing - more .\n",
           1893,
           140
          ],
          [
           "the darkness that he kept them from faded away . still within the tall open doorway came alive with the man , which he sensed drifting farther out . the shapers , split free by the wind , carried the book and amulet .\n",
           1894,
           149
          ],
          [
           "the darkness that he kept inside was like a living thing , never losing it , never falling into a museum or into a house or any place where he rested . he never strayed into a residential street right across the street .\n",
           1895,
           140
          ],
          [
           "why did boxey have cancer ? ' : the rapport of j . a . anderson ' s beyond the surface , part 3 , ( north american geophysical union , volume 2 ) , [ 2009 ] j . d .\n",
           1896,
           137
          ],
          [
           "why did boxey have sent her flowers ? she must have been at the school where he worked most of the time and had sort of abused him . she had all kinds of pictures of him and she had really red eyes .\n",
           1897,
           135
          ],
          [
           "im horrified . the article was about jason and i . jason , are you ok ? do you suffer from the same kind of cancer ? i thought it fair to ask that question now , but it did not happen .\n",
           1898,
           135
          ],
          [
           "im horrified . photos of sonya , sonya , ashley , erron , and sonya . there were photographs of them , too . typison they were playing with then . not rachel and sonya . im classified information .\n",
           1899,
           128
          ],
          [
           "then , like an idiot , he wound right back into the street , narrowing after a second , and turned up a rubicon lane . a school bus or subaru ? whatever they was , it was seemingly out of place .\n",
           1900,
           142
          ],
          [
           "then , like an idiot , i left before her and came home - left before mom and dad and huber and big daddy and daddy and came home before lela - but something in my eyes seemed distant the whole time .\n",
           1901,
           125
          ],
          [
           "neither of us put our hands to do that kind of work . the doctor asked shadan , staring straight ahead , muttering broken words . the screams of the man as he fell to the ground had been kept loud and constant .\n",
           1902,
           144
          ],
          [
           "neither of us put our faces closer together . \" thank you for making the call . i ' m so happy . \" he was still sick , but his eyes were more red than orange . never had i noticed that before .\n",
           1903,
           140
          ],
          [
           "the feeling of breathlessness ( 2009 . see amazon . com for details ) . he lives in primrose park , florida . back to eden ( 2001 ) solo effort 4 ( 2002 ) grammy award for best independent release .\n",
           1904,
           147
          ],
          [
           "the feeling of breathlessness behind those dead eyes . and the fact that more than one interruption had occurred before interruptions , actual interruptions had ever actually arrived . the reality behind it was not a dream , but a fantasy .\n",
           1905,
           151
          ],
          [
           "some landed on their heads , almost like they were glue tacked , with no one around . the regular guitar , quite really . the rare guitar but one needed it and they wanted it . the guitar , just like that .\n",
           1906,
           130
          ],
          [
           "some landed on their heads in huge balls that were vividly colored , and others that simply dropped to the ground in drowsy piles . a thousand mushrooms littered the ground and the scent was faintly sweet and wonderfully sexual .\n",
           1907,
           153
          ],
          [
           "in a panic , he saw airbus xb - 400p - his father , george , said he was the only person flying into fort worth that had four - star hotels and a single aircraft - and he dove on it .\n",
           1908,
           135
          ],
          [
           "in a panic , he thought of burying simon and his mother , running after their children , or something about the sea , something about the land , the sea , the deadfolk , the sparrows , the ploughmen .\n",
           1909,
           128
          ],
          [
           "so that ' s what the students from the academy said , and i got a bit more scared , so i stopped firing . after a call not just for me but for the junior ' a ' lot , i stopped firing .\n",
           1910,
           126
          ],
          [
           "so that ' s what happened now , all the time . then , in that old picture , your eyes had stopped all day , losing focus to the east and then back to the sky . that was in the old picture .\n",
           1911,
           126
          ],
          [
           "uh - huh , i never like my imaginations ( well , a whole lot ) . once , in high school , a guy stopped by looking for somebody to hang out with and he was really just a regular party guest .\n",
           1912,
           140
          ],
          [
           "uh - huh , i called my buddy ? to be ... [ tarot deck book 9b - 2 b . c . x ] very good name ... and v . l . b . c . x . ] oh .\n",
           1913,
           104
          ],
          [
           "` ` just ask the whole story about the ruby jack trials , the five conspiracy suicides , and follow it to say where they were actually killed . ' ` ` ` and the few people that was said were killed overnight .\n",
           1914,
           145
          ],
          [
           "` ` just ask the next ukrainian president . ` ` already did a press conference . when the ukrainian president left los alamos the next day , he said , ` gokhanov came home from beijing and i go west .\n",
           1915,
           136
          ],
          [
           "he pushed me away and i watched when he opened his wide , blue eyes , like a man with big blue eyes , and he rolled over onto me . he slowly slid into me , and i felt him rough and deep .\n",
           1916,
           129
          ],
          [
           "he pushed me away and was surrounded by other young vampires too . at least paul and i were with them and my parents were in the audience . jeanne louise was waiting just outside , and started running even though it was dark .\n",
           1917,
           152
          ],
          [
           "that ' s when he heard the arduous sounds of two men calling for his aid . it had to be stark and arya stark . stark bolton , and arya stark and arya stark and arya stark , were really ruined .\n",
           1918,
           119
          ],
          [
           "that ' s when he turned around and then attacked . three men came towards him and were , instead of beheading him and the hipsters ( dick ! ) ( dick ! ) ( dick ! ) ( dick ) .\n",
           1919,
           115
          ],
          [
           "when he could n ' not leave and visit the others macron pointed out his own flares . ' well ... ' gasped justin in complete shock when macron grabbed justin ' s arm . wasn ' t his own arm ?\n",
           1920,
           133
          ],
          [
           "when he could n ' ' n take and didn ' t , he fainted and stood up to give simon a hand , his hands all over the contraption , before his mind went back to that huge boston terrier .\n",
           1921,
           129
          ],
          [
           "the happy smiling citizens wavered to their homes , to the party , with the knowledge that raquel - suddenly seeing balthazar as the black widow had graced him - must have opened the bolt and the bolt in turn swung .\n",
           1922,
           150
          ],
          [
           "the happy smiling citizens wavered when they arrived with the \" news \" smiling full of cheer as they went . it was sweet , held the foreign visitors at bay and started them living in the city with their two love children .\n",
           1923,
           150
          ],
          [
           "ive never known anyone in this room . \" tell me everything . \" now he was grinning . \" so excited little girl . tell me - \" then his laughter died away and his power was back . his power fading .\n",
           1924,
           131
          ],
          [
           "ive never known anyone in her life , including her fiance . steve adams - english actor , voice actress , producer and writer of the sitcom stockade with a leading man , and original voice actor mark jones - professional golfer .\n",
           1925,
           155
          ],
          [
           "i did n ' t think they were returning back calls , maybe it was even that early . but 8 november and all of that i was pretty much dreading \" goodbye \" , if you hardly care or if you will .\n",
           1926,
           141
          ],
          [
           "i did n ' t i , the thing about the fact that i owed a debt to my run exercise dog camps for a month , but be funny , kind of humorous , just joke about what the next time i let ?\n",
           1927,
           133
          ],
          [
           "the things he had said were less monopolizing compared to all the others and more of the same . was it just desperation , because he had been forced to work for a week and the school was closed for six months ?\n",
           1928,
           146
          ],
          [
           "the things he had said concerned the \" true \" rationale for the \" mind \" ( mind , intellect ) and the rationale of the spirit equally , from the more usual principle of personal sin to the cost of salvation .\n",
           1929,
           138
          ],
          [
           "he asked curtly . then , \" are you back now ? \" \" how much longer will i be sitting here ? my head is pounding again ; i need something to get moving . \" the car doors held open wide .\n",
           1930,
           139
          ],
          [
           "he asked curtly . when the story was published in the monthly magazine ( ? ? ) , a bricklayer ( joseph anthony ) wanted to patent \" a method of engraving , intermediate between a brick and a paint brush \" .\n",
           1931,
           151
          ],
          [
           "im no engine mechanic . son of the famous director of gotama original series leyenda y guinitas , \" , 5 years of the year , go with my brother to hollywood \" . dominique , carlos ;\n",
           1932,
           134
          ],
          [
           "im no engine mechanic . the church was across the street , so the whole place was pretty empty . jesus christ , did you kids have a great time on sunday ! he supposed that a place like this brought peace from hell .\n",
           1933,
           151
          ],
          [
           "chapter twenty - eight dean judson knapp chairman of the council , 1969 . james price . senate commission , first given such approval , 1968 . william viner ( lawyer ) , jan van vlice , harry bowden .\n",
           1934,
           155
          ],
          [
           "chapter twenty - eight dean it had been something i given the right time to go , of a personal nature , had a heartening and calming effect on me . it had been that i might mention it to whoever owed me .\n",
           1935,
           137
          ],
          [
           "she pushed toward thom , and removed his watch cap , holding it up with both hands . \" too tiny to fit through a hole like this , \" thom said quietly . she blinked as a thought occurred to her to explain .\n",
           1936,
           146
          ],
          [
           "she pushed toward thom , reaching for the tray , and she was one of the few pushing it away . the tray , now nearly as wobbly as before , sat the same as before , with no wrong no wrong mark .\n",
           1937,
           123
          ],
          [
           "or i stop now . \" tessa was still trembling . it was almost as if she could overhear will ' s thoughts clearly . this could be her last chance . what should she do ? i am will ' s wife !\n",
           1938,
           134
          ],
          [
           "or i stop now . white and yellow man , astarta bong - wild cattle man , fantasizing about being on crusade . vieri castle , munster castle , munster castle - a larger structure , more intricate .\n",
           1939,
           130
          ],
          [
           "` ` gods ! ' graves said . ` now i ' ll just tell you . ' ` ma ' el was dead , ' theremon said . ` ma ' el was a personal assistant for a dead cacti .\n",
           1940,
           111
          ],
          [
           "` ` gods ! ' said captain joseph , son of commander elvin . ` hoh please jesus christ ! ` ` oh ... hoh our hoh family ! our father gave us the holy ark and the oxen .\n",
           1941,
           126
          ],
          [
           "` ` yeah , ' the other two voices were getting closer ... getting closer . the third voice pushed ... pushed ... pushed ... more urgently . ` raise the inner door , door open , ' said a larger voice from inside .\n",
           1942,
           130
          ],
          [
           "` ` yeah , ' art is awesome here . mourane worked a few independent art galleries in major cities and conducted a study within the studio level training methodologies implemented in the \" quality woodwork \" program in paris .\n",
           1943,
           159
          ],
          [
           "` ` why ? ' but above us was a truck shaped highway today at the south end of town . \" seatbelts , seat - belts and vests replaced the ubiquitous coachbuilders who wore bulletproof helmets .\n",
           1944,
           144
          ],
          [
           "` ` why ? ' ` why , thou wilt travel to the holy palace and meet mishkan , as thou aver it . god will give her the royal throne . will he ask her to speak with him ?\n",
           1945,
           122
          ],
          [
           "is that why it is wireless ? or is that why they all run it directly from here ? it just sort of gets locked somewhere else , like ... more like a dead phone . no , georgie thought , not entirely sure .\n",
           1946,
           141
          ],
          [
           "is that why it is difficult to photograph the municipal level with cinematographic techniques ? . ( edix ) . ( eiler stern , ulda lindgren ) : 1707 square meters ( e13 ) .\n",
           1947,
           136
          ],
          [
           "mindy , with ill day already over , moves inside and away from the fireplace spattering off the wall . grandma sidney crashes into her wife and son ' s arms , hands in hand , none of each other ' s .\n",
           1948,
           138
          ],
          [
           "mindy , with illeye the same name as her mother ( born 1995 ) is an educator , teacher , artist , smithsonian institution fellow , professor of architecture , author , scholar , and activist , born in dresdner .\n",
           1949,
           152
          ],
          [
           "he took hold of the hammer and raised it at me . this time it just popped out of the mantel . we immediately followed river after river after river . when we hit a mini - forest , it rushes around slowly .\n",
           1950,
           136
          ],
          [
           "he took hold of the paper to seal it and winced . just beneath it was a note . the local store owner had reported that sumi ' s application had been unsuccessful and that it would only last a few more days .\n",
           1951,
           143
          ],
          [
           "i grin . a grown - up as an adult would prefer a queen bed . just give me some sleep this time , please . when she replies she paces back and forth . chapter 10 last night max was restless .\n",
           1952,
           141
          ],
          [
           "i grin . and so , i grin right back . chapter two a series of sleeping bags tumble over me , covering the loose comforter from the sound of soft music , floating out of it like a christmas carol .\n",
           1953,
           136
          ],
          [
           "inspiration , i guess . \" so , how did you guys get into the car ? \" the mogs continue their trail in a slow progression , despite the fact that the circle \" r \" badge stays in place without warning .\n",
           1954,
           142
          ],
          [
           "inspiration , i guess . thank you for the thoughtful assistance of that monolith in its present beauty . - mark gyldenberg , reviews in classical music analysis at world classical music online , january 2005 , 116 pages .\n",
           1955,
           160
          ],
          [
           "harry asked , seeming genuinely concerned . he knew with his big eyes , was afraid that sidney would just eat his gooey mouth and take him to london . that kind of caring person would have likely only made sidney less happy .\n",
           1956,
           155
          ],
          [
           "harry asked , seeming genuinely concerned puzzling over the rest of the day \" yes \" . harry shrugged \" well , good night , please just stop worrying and call me harry . \" it was a good night . hours flew .\n",
           1957,
           144
          ],
          [
           "gordy jumped up to hear the kittens , followed by groups of smaller puppies - and girls - the little boy who brought his litter of scaredy cats , and the little boy who shimmered about his wife .\n",
           1958,
           134
          ],
          [
           "gordy jumped up to see the blue - haired woman , the red - haired medic from texas , and sallie bell - hanks . either way , these three were all like him , though from a nice family .\n",
           1959,
           128
          ],
          [
           "who did this ? you are not the spider in the web . you are . the feeling of loss surrounds you instantly . it will engulf you completely out of yourself . so are you . are you okay ? no .\n",
           1960,
           128
          ],
          [
           "who did this ? \" the woman said . she blinked twice and remembered a place like this . very dark or in shadow , just a small kitchen full of cooked meats , vegetables , and the best of american cuisine .\n",
           1961,
           147
          ],
          [
           "i will still know how it happened , or i will have killed a deer , because all i kept saying was ( eyeshadows ) , ' last night ... ... ... ... ... ... ... ... ... ' i lost it .\n",
           1962,
           118
          ],
          [
           "i will still know how upset these photos make you . \" as fergie gray - haired woman comes closer , the cops arrive in bob mccoy ' s his private police cruiser and beat a prostitute named leonie to death .\n",
           1963,
           148
          ],
          [
           "i could n ' t come back to the past the worst days , and find a way to say something about that first day in kaeleer in order to save jaenelle , after the disastrous dream that had rocked my head .\n",
           1964,
           136
          ],
          [
           "i could n ' t have nothin ' \" \" crumbs on the floor \" [ single ] \" until tomorrow \" \" good , bad , too much \" \" never let you go \" \" always cry for you \" .\n",
           1965,
           121
          ],
          [
           "your savage , primeval panoply of this game ! \" the women placed their hands together and sounded the salute , much louder than the ones that they in turn raised . \" my god , my son , my dear !\n",
           1966,
           134
          ],
          [
           "your savage , primeval and friendly adventure \" ( described as a \" little adventure and also an adventure ... entirely full of surprises \" ) re -uised the previous one by incorporating features of the previous prince caspian extended adventures .\n",
           1967,
           159
          ],
          [
           "` ` odin all - purpose club had nineteen white men and twelve black women . among them were the reverend fowler and his wife , who said he was disappointed because he had an additional visitor as he walked toward the front porch .\n",
           1968,
           158
          ],
          [
           "` ` odin all - ages cliche , old man ? ' ` yeah , ' said anderson , his jaw tense . the marquee eyed him , then glanced back down at a very high - set gentleman before him .\n",
           1969,
           131
          ],
          [
           "the waiting was killing him . the other things that hurt better because of a man now were like answering his cell phone , nipping at the second boy in the little hat , and cutting the lips he now got to eat .\n",
           1970,
           138
          ],
          [
           "the waiting was killing him . this had to stop . whatever there was - this world , this tree , that controlled almost all things on earth - gave it to me . and whoever grabbed me was the giver of life .\n",
           1971,
           134
          ],
          [
           "never give up . be tough and strong . no no no no no yes no no no no no ... no ... every night ... every fucking night ... propelling me out of bed as he suckles and licks .\n",
           1972,
           111
          ],
          [
           "never give up . the man was dying for me and was nearly making me run for my life , because even the warrior gods were less likely to recite an omen and an oracle than they did lurlene .\n",
           1973,
           131
          ],
          [
           "` ` yes , but her past connections do . ' packer folded off the article and turned to kenner . ` through his past connections james tilghman had multiple connections . sir james packer also ran several prisons .\n",
           1974,
           140
          ],
          [
           "` ` yes , but ' the wall , rising around them , now did not lift . ` i believe so . ' ` the wall climbed upward as far as it ever had in the past , even before they really arrived .\n",
           1975,
           131
          ],
          [
           "` ` oh . ' ` ha ha , ' he said quietly . ` just look at the two of you . ' ` swamp to swamp , ' his friend told him . ` something about the hole being a swamp . '\n",
           1976,
           115
          ],
          [
           "` ` oh . ' billy , still smiling , began playing with the padding and explaining some facts . ` what would spivey do ? dear god , he ' s jealous , too ? ' kate wondered out loud .\n",
           1977,
           134
          ],
          [
           "it means that you must never see or hear her voice again . because of this one if you lapse into unconsciousness . i think to you this once , and it goes on . i will tell you than you will .\n",
           1978,
           128
          ],
          [
           "it means that you must \" walk along the ( yellow ) line every 3 minutes on weekends in lisbon \" ( the lisbon college of education accepts french courses in lisbon instead of having bilingual courses in other lisbon cities and municipalities ) .\n",
           1979,
           160
          ],
          [
           "loki was free , and it appears that many other gods and lesser demons freed him . his father was the son of thor . he fought against the rival forces of odin , namely sifri , loki , and jarr .\n",
           1980,
           133
          ],
          [
           "loki was free , and the one that could be called the reapers , was gone . both good and evil could only be killed by two reapers , but both required a source of power , power that existed by its own will .\n",
           1981,
           135
          ],
          [
           "chaz stopped by their strip joint and told them everything about kane before he cut down the engine and entered the laney and kane strip joint , wondering if the cops had left his and kane ' s items in the trash .\n",
           1982,
           140
          ],
          [
           "chaz stopped by their office , her more formal residence , where several little operating tables were placed in the corner , leaving far too little room for them - far too close for her - more as like ramped her strength .\n",
           1983,
           148
          ],
          [
           "` ` morg , billy ' ` the minster is over in eichstatt on the nahr river , where the village ' s got already full of shit . ' evie was not happy anymore but felt weary .\n",
           1984,
           128
          ],
          [
           "` ` morg , the red flesh grows , now , and its roots is the wine cellar , upstairs . ( 1 ) downtown , on klinthland uphill , the carrousel hill uphill the beach .\n",
           1985,
           121
          ],
          [
           "i closed my tablet case just to let myself give up . her short , very curly hair was an obvious hit anywhere that i could write in a quick statement or a lame reply . she really loved him . she loved him .\n",
           1986,
           143
          ],
          [
           "i closed my tablet case and read it : mom . mom ... there were some strange kids who just stared at me , not quite able to understand my features or what my skin felt like , or our own mom ' s .\n",
           1987,
           139
          ],
          [
           "` ` why ? ' ` ` pakistan leader is communing his people to go on a general strike . ' retrieved 6 december 2018 . 30 . \" 2009 south - east - malaya uprisings \" . bbc world news .\n",
           1988,
           142
          ],
          [
           "` ` why ? ' ` are you serious ? this time , are you asking me to marry you ? ' ' said bond ' , at least not before zargil left . ' this steely calmness was gone .\n",
           1989,
           123
          ],
          [
           "` ` it ' s all right . you found us there in the desert , right ? ' ` yes . ' not even bleu noticed . entwistle rose to his feet and looked at what was missing .\n",
           1990,
           124
          ],
          [
           "` ` it ' s here . something ' s out there . ' true , the city ' s reputation is great , but annias was much more likely to be in the glader than the older ones i rarely saw .\n",
           1991,
           123
          ],
          [
           "why had n ' t thought of touching me ? when you and andie got to oa , we had talked about many similar things : coming down here , but staying away . no , don ' t ! be ridiculous !\n",
           1992,
           137
          ],
          [
           "why had n ' t t ever let go . as a fish mother , she was nagging at ones who didn ' t still have her loser and dirty relationships over the years . the dirty ones she kept getting tired of .\n",
           1993,
           133
          ],
          [
           "so for once , i could just think of him . he had felt important to me . i cared about him , and i wanted to always be there , even if he was not here . i finally swallowed hard and nodded .\n",
           1994,
           134
          ],
          [
           "so for once , i was all kinds of happy with that decision . 1 : luke we talked about luke , luke and i talked about luke , luke , luke , luke , luke big luke that luke was luke and luke .\n",
           1995,
           112
          ],
          [
           "through the door , i heard another one of my favorite metallica songs - some very whiny cover of nirvana song - start to play a latin kiss carol , which had become a new off - the - wall tradition .\n",
           1996,
           141
          ],
          [
           "through the door , i slowly turned around , and looked skyward , \" you look beautiful . \" i looked at them together again , and this time , i was focused on ethan , who was my life and my heart .\n",
           1997,
           133
          ],
          [
           "he smiled and stared at the other boys , wondering why they gave these to him someone like hera chekhov , who was ernest munch , another duncan anderson . they were both ' day boys ' at universities in england .\n",
           1998,
           145
          ],
          [
           "he smiled and stared at the swank which awaited him . * * * man to man . date : 31 september 1974 john daniel hyped up his contacts . edward grantham , wearing a dark suit , sat nearby .\n",
           1999,
           142
          ]
         ],
         "hovertemplate": "selected=False<br>perplexity=%{x}<br>gpt2_perplexity=%{y}<br>line=%{customdata[0]}<br>id=%{customdata[1]}<br>zlib_entropy=%{customdata[2]}<extra></extra>",
         "legendgroup": "False",
         "marker": {
          "color": "#636efa",
          "symbol": "circle"
         },
         "mode": "markers",
         "name": "False",
         "showlegend": true,
         "type": "scattergl",
         "x": [
          4.322008918761245,
          3.961452991957365,
          4.382755792473698,
          4.2875548694727454,
          11.18422484691295,
          6.455077122677014,
          3.1891491499513087,
          3.1867674754450697,
          2.9502762454097127,
          2.903331759597519,
          1.0139197601000265,
          4.676531780679987,
          3.2080927246542483,
          5.025499446320273,
          3.635516165208571,
          3.365804172237222,
          8.382812760836067,
          20.246033321522017,
          15.78740537347986,
          3.3714084702298774,
          2.318022507271103,
          4.899339891786593,
          9.890370465683343,
          3.970631715279063,
          4.451768846575004,
          7.382735224034888,
          3.468506534310151,
          7.813206619729081,
          5.826774391552627,
          4.643970850584944,
          3.0702564232600076,
          9.822047300328986,
          5.57473903445103,
          5.75286118024696,
          6.298925099479082,
          3.1743574477199417,
          2.891980679743961,
          3.1220023775055363,
          6.443437321670838,
          2.833384907670389,
          2.258853320235052,
          3.971471975903904,
          6.270889358802075,
          3.881011404243151,
          6.227446512303514,
          4.7432040431929,
          2.123039533336859,
          4.897286229631661,
          4.670218614099401,
          9.927129836373702,
          6.257773903145359,
          2.9247769648195665,
          5.793453940029808,
          2.3551521932667683,
          5.292919134866077,
          4.265621912006375,
          5.255535852035231,
          5.9178498094029015,
          3.830511197507696,
          1.8744214855290813,
          4.686565012040326,
          5.832431920855437,
          1.6175415586259525,
          4.323520333827936,
          5.349086391540078,
          6.283591089435993,
          6.83925514133763,
          4.4655206423465845,
          5.6711016385486825,
          3.656099437049057,
          1.9925502195490248,
          7.452945287666712,
          10.791840923478203,
          4.998324348586342,
          3.374710917674495,
          2.977195416230291,
          4.473974073559127,
          5.420280241082308,
          4.798796210807891,
          5.793895271663298,
          5.782002137937024,
          5.474109486399422,
          3.2621411547268857,
          2.2430682844439773,
          2.62777575238297,
          3.723043869865107,
          3.964623948663602,
          4.02553809957556,
          3.6212278011321457,
          5.937528887152332,
          1.9761685880786573,
          7.682580167578355,
          10.32473295381262,
          7.074454920010755,
          3.6847021032486906,
          3.6594190007981795,
          3.5478898245453325,
          6.373364773557034,
          14.578596536279955,
          6.245714013189901,
          3.2500353603447976,
          15.768547659098486,
          2.822041517954313,
          5.512903584447414,
          4.922652509621787,
          3.3920690580861614,
          3.6642456507219667,
          2.2738230357754605,
          6.586029333208426,
          7.199209639270422,
          8.811104089854238,
          6.8442523260031445,
          3.38525627381832,
          4.144199051663172,
          5.009114248808278,
          4.0628465172043144,
          6.2612407083887565,
          4.886219358354792,
          13.054265302586076,
          8.539074290744285,
          4.425079993073946,
          2.257166799494975,
          21.662026747565637,
          3.028389003306032,
          4.460986948279612,
          2.7755677131201097,
          4.89793487662012,
          4.3335545017056125,
          16.073613311972206,
          5.898144549621486,
          8.02242559911165,
          2.5358537599610917,
          3.3407098499197723,
          4.067134121418356,
          2.9410753702746257,
          3.1819844256907337,
          12.482995178936285,
          4.024176426124731,
          7.002720514300053,
          10.423857167459392,
          11.013040141223287,
          14.838035659323255,
          9.085037226684527,
          2.9010255459943193,
          10.913052760278575,
          3.3106865831938013,
          7.0242158715859855,
          4.359652881436928,
          2.189551331676352,
          5.341991385878894,
          4.272090886616153,
          5.279059864477561,
          2.733862948821846,
          3.9978247989363154,
          3.027336835852057,
          3.7293359110782514,
          2.1344414501232265,
          2.9230533463091333,
          2.834945139564468,
          7.416950339418017,
          5.49787381689492,
          6.892795016210656,
          6.103642313443187,
          4.139691038590082,
          7.990838577919119,
          10.158073174035058,
          3.611528356168689,
          5.669113729883923,
          5.741633351001208,
          2.903446322320254,
          4.898604048048217,
          4.529808218029789,
          8.677632345165168,
          4.363548296437871,
          3.125688679607001,
          4.23967248431712,
          5.850414498397932,
          4.280680249262572,
          3.355126223704382,
          5.785383987901325,
          6.452923637033673,
          4.684038215700884,
          3.4381773214280322,
          3.5256521856742804,
          4.42616890899669,
          2.280527561114285,
          5.003800794283946,
          2.3913592656184237,
          3.879543222627571,
          4.60872277682175,
          5.376021818988371,
          7.159461800636221,
          1.9263692735886022,
          4.921198569778765,
          8.118990764179424,
          8.232794012181225,
          1.9665582021005168,
          6.257407635337063,
          6.167489272515728,
          5.258701300358255,
          5.127681909045667,
          3.5951628723396314,
          9.318792072075983,
          2.842184846689517,
          2.5103570594980718,
          2.5642118629113386,
          3.849117439093024,
          8.57401808020499,
          11.956220855568322,
          8.46856541757165,
          11.43572862367071,
          9.0347169936784,
          3.418435799260157,
          4.849857544438245,
          3.739039282058033,
          5.192458373782893,
          2.4789849762303096,
          2.9249969779228207,
          7.487195707777772,
          7.078464454368945,
          6.547761338904177,
          5.794391896280199,
          9.116392679625214,
          30.420284354355697,
          4.1629496524798295,
          3.094910763525623,
          2.905799145386649,
          2.609163195878311,
          5.807620240839803,
          4.807650722385105,
          7.191294407211112,
          4.1877644744007805,
          4.399110132894548,
          5.6792322061478595,
          9.048077629994072,
          3.0144119218574437,
          4.145502994076399,
          3.5627389883719363,
          3.3290799208416417,
          6.214209305811344,
          6.13484243013513,
          3.647612147086879,
          5.30986616878262,
          10.117329584128296,
          3.3573515511971097,
          5.977101394407396,
          6.376494250963094,
          2.881281866523177,
          5.902929771687399,
          3.112183956540556,
          2.1494520583799828,
          2.9611744159889755,
          3.581671793421625,
          2.4752813583718014,
          8.184272595132498,
          2.5105607127467477,
          3.1351146482404193,
          7.584871795012997,
          4.5254298941266144,
          7.418228958541222,
          8.213929106294142,
          9.031553256533181,
          6.879289899008924,
          7.4208823983965795,
          3.475681589950837,
          5.480462624768239,
          8.809516080399911,
          2.748986058473454,
          3.493147223128914,
          4.8956460207098615,
          6.392735470369724,
          6.967673893550338,
          4.137189308925036,
          2.0102378241520964,
          4.320728262633573,
          3.0213959820581757,
          6.505882521215131,
          5.0633688698477535,
          4.011907638662563,
          4.994474279115145,
          3.0005565800897336,
          6.15443453722659,
          6.936060493469407,
          3.7644681307848056,
          2.7588305237274193,
          2.4773350572947286,
          5.743824028117571,
          8.716579801136124,
          3.3279494665074867,
          3.097902853707639,
          3.027135828648425,
          3.9039613293697055,
          11.929185162246446,
          5.83347562960822,
          5.559079431505035,
          3.4586541370779846,
          9.046841621741557,
          8.010294902623484,
          14.018992899333156,
          2.143186022826667,
          4.313421470574171,
          13.767659411826259,
          7.2920124967713225,
          3.6980689699011147,
          5.251748093056198,
          3.2264252732775036,
          3.495217838522128,
          3.1435233516197307,
          7.126147367211676,
          2.4205818151492298,
          2.227404176727978,
          6.1102169055538855,
          7.527830613517586,
          3.898904903452046,
          6.2185303625401325,
          3.432062695685102,
          2.5758280244106095,
          5.700454953636994,
          5.323939593437212,
          16.91640374175481,
          8.023837292444252,
          7.586266179795984,
          12.366492139799407,
          3.532682239363872,
          14.263595930206508,
          5.661434963697501,
          5.837065020592769,
          2.2498791163032985,
          2.5999556932878756,
          6.307675290092433,
          4.183220042268073,
          1.9497057726679603,
          3.380292973280562,
          6.496881380868817,
          3.6899522506343985,
          5.618271372566687,
          2.544386368222339,
          2.439023629569864,
          4.712812495030073,
          4.6606137179439155,
          3.3443071289593966,
          4.363616439959445,
          4.062655696041171,
          2.915307365400812,
          7.286357444894918,
          5.6689616744436275,
          3.1272435998590984,
          4.051859381641748,
          8.310223276335735,
          3.585813646492192,
          4.846051355572623,
          4.164418847995084,
          5.342931407513137,
          4.1423952576403975,
          3.1677088939934994,
          3.9497407932422877,
          2.95787817764612,
          3.577178635253101,
          3.3360842692732597,
          5.834710103170366,
          6.900542928803686,
          5.764448359080771,
          3.808698104904916,
          9.519725301473782,
          5.268041410831737,
          2.733565090749135,
          8.648734466841423,
          3.3813464809298814,
          4.508536071110706,
          4.826840758207644,
          5.334745528887596,
          2.6019774353490996,
          3.4076818716183075,
          4.630725964786177,
          4.626896491756571,
          14.548384876087702,
          21.867311268495133,
          26.7403670266396,
          4.734318100517022,
          7.234553206408092,
          4.394290256826577,
          3.609359148123274,
          8.047225606376696,
          4.0210517894498,
          7.714110951586466,
          6.0134670359285565,
          3.3294807707973453,
          3.3235210253158227,
          4.376650862702578,
          3.949887228998651,
          4.351712179655342,
          7.688852532577685,
          9.190285841436667,
          6.275674745114549,
          5.0628757521666286,
          5.506704519577841,
          6.393267419771351,
          3.27928225484347,
          2.032016281110728,
          4.606895276903835,
          2.6427352321830164,
          6.025202018142095,
          9.710364655302731,
          5.269001081428078,
          11.428146042986205,
          4.099235841469848,
          11.756367941254043,
          6.378200227344315,
          6.543018850132017,
          3.0577332512692665,
          3.525013822215366,
          3.679285734196331,
          14.014848950344192,
          4.502524836665157,
          4.214267731772245,
          2.40925301503204,
          11.36942792266195,
          5.354110328048768,
          7.536669679776803,
          6.32570228896819,
          5.757019968957202,
          9.377846504984019,
          12.437471439398973,
          8.832810325848186,
          4.209328717529588,
          5.2937211523032515,
          3.3752190568998457,
          2.6743153960610533,
          4.623944333299767,
          5.303166450930482,
          5.688395571796275,
          7.140986622923203,
          2.4650264720282613,
          5.233792236780071,
          8.442293819199403,
          6.928883905505825,
          4.141781988542535,
          13.099919520709662,
          2.9203989758173936,
          3.824120938671353,
          5.221093493636808,
          6.370381118047826,
          7.374025708118574,
          6.777778814605801,
          4.080296968433918,
          6.298938615520533,
          19.719677081776535,
          3.159695747203237,
          4.807306864706346,
          7.7933352199322625,
          6.757814952610026,
          5.329142563241686,
          3.7665774427364793,
          8.0021613636284,
          3.5074156163363583,
          2.1039102978690805,
          2.771183136177084,
          6.670569224790809,
          3.157147129654693,
          9.410342667025168,
          3.4120235492696818,
          9.214729725078078,
          9.431505632325578,
          7.606844566428916,
          5.924242635295633,
          6.939951052940292,
          6.239304519792568,
          15.037674008596069,
          2.477644425726399,
          5.944723161909561,
          7.988571753892141,
          2.4605567482580333,
          3.6567253583211268,
          4.073030654264797,
          3.263835934214573,
          2.8184952577124127,
          10.634430312207796,
          11.072330233931705,
          6.08329156977315,
          5.742009129659576,
          2.903695191664607,
          4.782442598378913,
          7.937058493996104,
          4.069741942709969,
          7.644909291325879,
          3.297204346300014,
          3.523282963998158,
          2.141180999751204,
          11.976531403209584,
          7.125475442046393,
          10.393415251621013,
          6.920808806588471,
          3.4048816790476395,
          5.221237893093879,
          7.054798704887839,
          6.389035912582403,
          11.291479601831853,
          6.2935150062492236,
          7.058913223237301,
          1.7700725661589887,
          16.091312706617423,
          4.510602538408279,
          6.039200623203795,
          12.728550750529028,
          2.9855175834444077,
          4.229598542793782,
          4.631954936718455,
          5.709694081318402,
          3.5899204894660492,
          2.703135249817414,
          5.877156772949768,
          5.6723145983539,
          4.332576688326259,
          4.6156234895736,
          5.212234267436116,
          8.734099939804846,
          7.889211602941808,
          7.6616982555450095,
          9.756328906203851,
          10.620221033744576,
          4.392538360603994,
          4.819925329815573,
          4.695363005117728,
          3.39434640360136,
          1.8665138366873697,
          1.9351404600956126,
          2.623468736630907,
          2.982516708147767,
          2.3698766577568064,
          7.21403849933516,
          6.072027561939715,
          4.14324124396363,
          5.7567447731404044,
          5.013073609984309,
          2.2490691444298525,
          9.486193241973032,
          5.895420613528957,
          3.1330172030564394,
          8.58787057192083,
          4.822558199056095,
          13.077108343306971,
          5.474060544265502,
          4.306904800748135,
          3.437024571010907,
          4.119368845561222,
          13.07234517347811,
          3.3922271689326977,
          5.164301038077044,
          3.3593953343726133,
          5.0203379754924455,
          2.782372181059834,
          7.021335134976533,
          3.065826958149472,
          2.33840540092742,
          6.6141137541608535,
          2.687116556458301,
          2.8342605319016374,
          2.737040707881444,
          4.415083369806313,
          6.092779302558971,
          2.3615821256096883,
          4.1028711802423645,
          3.169548816745979,
          12.90098195031258,
          3.301587488615956,
          3.2966607927410303,
          2.588428043293837,
          2.9500691011846087,
          4.224322784002746,
          5.173132443600249,
          4.177465760763682,
          3.2232902224010727,
          3.542696102602728,
          2.481788514603175,
          5.5837484457002216,
          15.485925565790868,
          5.6652757472199085,
          5.169616681748581,
          10.989389515064596,
          11.137556932705127,
          6.934427671075129,
          3.780718132795868,
          5.684720727214713,
          8.278201749903188,
          4.575191150852081,
          2.1828751130957293,
          12.74889356375285,
          5.6262437014914815,
          5.202668103395508,
          4.144407042259753,
          3.6077657830315526,
          4.73512014489164,
          5.9807342430498025,
          6.332756136016817,
          21.316971836995712,
          8.190849107236673,
          3.8219393079760438,
          3.413592318147744,
          5.148858249834235,
          3.240812809086042,
          4.771870180146001,
          4.2214161221037445,
          3.958221813969393,
          9.132989533181554,
          7.9424459275070785,
          5.93154030941553,
          7.437948969784373,
          10.38690515122866,
          5.18818353754599,
          13.210991914559536,
          6.0423057542548895,
          7.678595487703438,
          1.8748727940036785,
          2.0439664701707265,
          9.471894350255718,
          7.925344087252303,
          5.341052803035713,
          6.377650524694721,
          5.645365600869651,
          4.428037678228713,
          3.0790497715941014,
          3.8266860715169786,
          3.237957120721049,
          6.745111407112306,
          3.7535938187357702,
          6.017913935223694,
          3.8478209458208354,
          6.758330552642783,
          4.742593979160107,
          2.517328057322836,
          3.4540143000763766,
          4.919525134540297,
          2.3099554498825765,
          2.5041618488153246,
          4.482907880748531,
          3.9792017087518166,
          2.7821151373602886,
          4.082236256622309,
          11.617294113218353,
          4.450449210698213,
          5.824154928069941,
          5.071599006003207,
          5.029558695786739,
          4.15692690811162,
          3.422683868518991,
          4.9149042962857195,
          4.133255020231845,
          8.9026748464008,
          5.064245977488043,
          5.231378236208574,
          8.376138035821969,
          4.726133285014864,
          3.013573325187064,
          3.910505516051909,
          5.927322575564395,
          3.884741713226485,
          10.280418454503083,
          3.342132280726418,
          10.125925345156155,
          8.719922178660513,
          5.901047013450921,
          2.7007829637038685,
          3.760729129081775,
          4.1081034856660565,
          4.454688079711407,
          2.7251628576722626,
          17.186682447192698,
          4.880624904358398,
          2.85170281025414,
          2.9750298375463218,
          2.645693050787656,
          6.036541072009939,
          3.9036839677028414,
          2.559390969478048,
          3.722049398916166,
          3.890542165158961,
          5.910120873675865,
          4.216819589011704,
          3.71092202410025,
          6.198222881936637,
          9.22406715059997,
          4.7919563790215935,
          2.0570055503019358,
          3.017162531550014,
          3.9988271678035923,
          4.810157614762593,
          6.079763118717369,
          6.612125547341132,
          2.353573329739175,
          2.903019590468105,
          4.843537881858302,
          14.212693384340632,
          2.5249146101578175,
          3.3339914740466465,
          3.045219412242313,
          2.6672875432607164,
          3.9456686651856425,
          3.0274097358378125,
          8.781060356395477,
          4.017387895272585,
          5.547735099547959,
          4.038845567224957,
          4.809121564597304,
          2.905614520983939,
          2.8887511335755667,
          7.303636142806913,
          4.822514507330025,
          5.117073961018416,
          9.469728911528708,
          4.125538808221906,
          2.5481520716841266,
          8.077242434205056,
          5.807739321493272,
          4.234168625179511,
          38.39173372368769,
          3.07232650226156,
          5.245058554012507,
          3.88315731745341,
          3.455738318164941,
          5.593349818213822,
          3.7739668719118655,
          1.6577255191235651,
          4.837650304867468,
          4.863692666957401,
          5.792628001210265,
          7.29020810384866,
          10.823645933526816,
          3.9888166802696916,
          6.787566402448608,
          4.638772648090917,
          5.194396790928095,
          4.862907104998709,
          4.078233655623267,
          5.450059992855528,
          7.86632754946798,
          8.808497468424997,
          5.951279811615763,
          4.228865992832004,
          6.306628685513119,
          5.78673797150043,
          8.477084089316824,
          10.1644980131732,
          3.1781843718295906,
          8.105954500290306,
          5.93928876009281,
          5.688970637798735,
          3.9426209669947383,
          2.87398231212816,
          2.7704326808536663,
          5.834319911744331,
          3.3684381071871083,
          2.475892684886194,
          3.9680490866541245,
          14.685044088914859,
          3.0097544479110256,
          4.23198663893391,
          3.4298953805216863,
          4.503736428120616,
          6.3139653401563525,
          5.55782509346847,
          5.9165540163618475,
          7.403051856726148,
          4.087901759793247,
          4.457642704722314,
          2.932162187857028,
          4.359617541223824,
          5.199230195463287,
          3.4476055904685823,
          6.195980030701246,
          3.062968084154988,
          3.8272389974116803,
          3.53012607210735,
          8.048367259168069,
          2.4527848895874738,
          6.024722957733344,
          4.534373476582997,
          3.3185256000607035,
          9.505541303925497,
          6.670866633908647,
          4.791096731336757,
          6.633757481176542,
          2.1288230731505253,
          4.341807285263613,
          4.933225540636102,
          5.542731002164188,
          3.297930796367436,
          5.926811025094904,
          5.760576050340679,
          9.04974316468279,
          5.388939343212808,
          3.601419531638623,
          4.516110930326317,
          5.532487698413744,
          3.6663119176057295,
          3.8874856071184074,
          2.7474197488155636,
          2.9190996632222768,
          3.1490968813525106,
          11.340693108019787,
          8.22576215877628,
          7.390500824520239,
          2.718789653534881,
          3.3009708065145644,
          5.772420983493863,
          3.9681053774225816,
          2.6403876628014284,
          3.405180429788459,
          12.795401588537594,
          4.104769328576777,
          9.845802678943187,
          3.1422993236033787,
          4.432404731281587,
          6.366749143021847,
          6.233600081682311,
          3.33669040729873,
          4.812759904422586,
          4.266593260942332,
          3.0870552729010328,
          5.422223555668453,
          10.226885386862731,
          3.1226734751726957,
          17.521051168209866,
          3.363557203429914,
          5.930394219634499,
          5.308373799030735,
          4.591774729314201,
          13.066739450512198,
          5.692670624092984,
          4.189936146934896,
          5.01390733820182,
          4.759513123880386,
          11.247085558084427,
          4.576691261264197,
          4.569911403991534,
          3.826520483020123,
          9.573025309331316,
          4.310159591916076,
          7.232595764365071,
          6.475061261961612,
          2.1103789689506534,
          4.513376877390396,
          5.758592474666394,
          4.708084419444709,
          9.213602752098888,
          3.602511035220673,
          3.8230634647911246,
          5.201031636213683,
          3.0764517777503806,
          5.055758965330349,
          2.9199551327224453,
          5.624943363484159,
          6.984139424866882,
          3.390507351292472,
          3.317028199880594,
          4.535768282822292,
          16.581539607761645,
          5.117806016679635,
          3.6863254921664166,
          6.018073915597707,
          6.040905655282866,
          8.442644053611291,
          3.838883558521491,
          4.628647503145429,
          3.8639498393469016,
          3.877892528900139,
          3.267332907973679,
          3.644265932470953,
          3.704972854240578,
          5.259097507264292,
          4.911703383269556,
          10.9929822245328,
          3.5080608294709665,
          4.228663845499304,
          6.65127952586081,
          5.272084766341297,
          2.826890370597541,
          2.4079180238051476,
          4.945701073341039,
          5.438333237879158,
          3.7167713058875083,
          2.0368647014722634,
          5.991700326491762,
          9.471842410059505,
          4.16267622094896,
          4.056926037902872,
          2.513644313307019,
          11.738115387665829,
          10.771913639024795,
          5.057202019316954,
          3.129824042798212,
          8.31331271528825,
          3.8183403124469795,
          3.549302307058197,
          5.543095084630052,
          5.358687328722263,
          2.4327957873510275,
          3.6904590232583043,
          8.131481874377533,
          3.830789296806113,
          3.704090508294245,
          3.045972405573614,
          4.787720751351165,
          3.481939924942998,
          2.1584891816747827,
          10.810052354155024,
          5.8245118057962175,
          5.835166402891611,
          5.61327123510677,
          2.6482489532032036,
          2.467599918950738,
          5.3103029466536045,
          2.510021015391011,
          8.567852930681974,
          5.3377824241074245,
          5.612401402209625,
          5.351242757194674,
          2.5185510664970994,
          6.34002871086544,
          4.411038357498557,
          5.132215236421903,
          28.71350344902737,
          7.090332577072722,
          3.315758352121303,
          2.7305433740847764,
          6.966737026820215,
          4.24124055091026,
          10.049331194122175,
          3.0424903741089238,
          3.5656711289276215,
          7.058015412609236,
          2.3146466976409483,
          6.290518489254727,
          2.3066591689548415,
          6.864217869295722,
          4.5133720350649345,
          5.413501869987809,
          2.918038157708171,
          5.248733241414647,
          4.568226178185373,
          10.992473775638386,
          6.13528416948348,
          4.745599260679424,
          7.029312167708246,
          6.112987618287631,
          5.780425996044434,
          5.2582656326041874,
          3.5318110318581653,
          2.2321504813537403,
          4.396062241627099,
          4.800790257875187,
          6.174179743014564,
          3.5151211753465836,
          5.7186093629203345,
          4.595397638456842,
          4.5112462180833335,
          5.011778169874474,
          4.50358556533862,
          2.6628094245947156,
          6.823263765816019,
          5.977082156236064,
          3.5829302907864444,
          2.184445188325326,
          4.379807990637789,
          7.978346663625259,
          4.468783429129109,
          5.741942733463049,
          3.7699950681477827,
          1.828103869091025,
          5.468176322979901,
          3.850513515599847,
          4.096585191721069,
          3.7891239433853294,
          4.695568430847268,
          4.272403591632725,
          5.539363547380585,
          1.5889600577824694,
          4.182584773859103,
          3.632734450118155,
          6.350503538791803,
          7.321124253064058,
          6.580364804181668,
          5.28708781491657,
          2.3796406732365503,
          4.111210000139722,
          8.283897767075835,
          3.9444825946643203,
          10.15889422228807,
          4.552305019045953,
          3.592409464077708,
          3.093087619857209,
          2.6296924770052406,
          3.942257206064342,
          2.462603661372733,
          3.9186098521965405,
          7.722761818487786,
          7.604039424352068,
          3.402518575569067,
          3.5568849068901764,
          3.867359460693041,
          7.383008057168624,
          4.1710152663539635,
          5.119470002615011,
          5.757150365583404,
          4.438298011682026,
          7.029632275452961,
          3.1424956155595085,
          4.948088832701818,
          3.8268233831153746,
          3.2015650995867913,
          8.800359106007994,
          1.6068648887469574,
          4.774756266124769,
          3.4857121346751914,
          2.87093166094888,
          7.248817113508384,
          2.803319238041503,
          2.902625101004651,
          4.7928950276514275,
          5.902947363815222,
          3.580887111194609,
          3.3508078134673926,
          4.52638432299555,
          4.390063329008213,
          6.454177633823444,
          3.5502730536812384,
          9.307636566145824,
          2.79042184773681,
          7.128766016369796,
          4.800385087426142,
          2.8646416560306944,
          4.010326833669514,
          3.9040655777758237,
          2.6543667760781147,
          5.592855756605177,
          4.204710258951443,
          2.783863502909703,
          8.806225443068163,
          2.8018873011394385,
          20.654596575651677,
          15.963455159250834,
          4.371757616015932,
          4.166613182841397,
          3.638702524001825,
          2.4492230401631727,
          3.8425477236540453,
          9.862984352356353,
          6.137297265327611,
          5.258614790795491,
          5.932652673678333,
          2.365639531507454,
          4.325206032746074,
          12.713367989563922,
          10.421988433594368,
          8.903742559654836,
          4.746937375954148,
          3.364569798162601,
          6.380090714481707,
          3.5982606736617955,
          2.6869650449919877,
          8.723534134682684,
          4.579274785378953,
          4.5303903702810775,
          3.6184453722521965,
          4.0927866063799545,
          2.1509250152690953,
          3.437703962625801,
          5.592441071914692,
          3.148420104998038,
          5.42191588779473,
          4.527238569909754,
          3.4040578148794,
          4.228480862605804,
          8.955675318033549,
          3.7881258205810746,
          2.7581432538528765,
          2.9108495124861102,
          3.9159429538656587,
          3.2866531306254005,
          8.728258758922262,
          3.8034045932839304,
          2.7631375827762983,
          5.881277112700076,
          5.6210193594593925,
          7.746916204780034,
          4.40677430626593,
          14.087148905181964,
          5.585205044345532,
          9.174470706374251,
          6.627024028619637,
          6.779919476231304,
          6.207933528369807,
          5.634974941689931,
          4.205630637268311,
          5.828508385178035,
          9.564762071665857,
          3.457923199860943,
          5.156924260459037,
          2.8633480354102123,
          4.435847960189735,
          3.9563937910766684,
          7.216230922468602,
          7.416289010206653,
          5.896786993474558,
          2.0552187155248665,
          4.8788396381767525,
          5.780248216015466,
          3.4407797042166233,
          4.77044371445173,
          2.9781165484625483,
          2.6204514197147595,
          3.15523203188481,
          5.130041943831741,
          5.337951686115679,
          2.990372819507355,
          3.6681467108289563,
          9.978891590735952,
          11.702099794169248,
          6.507185595239008,
          5.655952742887009,
          5.677598798493976,
          14.431851113697757,
          4.326399306685475,
          5.035376689218553,
          4.13240466886407,
          2.727608236390716,
          4.013557006573614,
          16.743902665977735,
          11.331168805932382,
          3.880954035743244,
          2.6733712675636268,
          3.181365052985163,
          4.10278216494276,
          6.102990408925248,
          6.09831852505838,
          2.093190802301476,
          1.763648159156477,
          8.053690073556014,
          3.925471053598209,
          3.52901695478623,
          7.309326388398981,
          8.065405737209934,
          3.54017700157723,
          7.1506823764734335,
          9.104096697418706,
          7.928097638778677,
          3.966585334071243,
          3.5980504962120783,
          5.244384567358865,
          10.820250451533967,
          5.705272939456007,
          2.4808276246481973,
          2.282330161701503,
          2.4591412940018125,
          3.644906773580332,
          5.484114604649305,
          4.604078271758007,
          2.2109646154001394,
          4.340162715608387,
          2.923676101925112,
          2.228036221286273,
          3.362587403452891,
          5.095773809777616,
          7.330696674754289,
          2.635727370632152,
          5.877815384832499,
          3.11926402335734,
          2.719114101980488,
          5.232631880450494,
          3.1740940832700213,
          3.8922956817473815,
          4.271439576205608,
          13.15543415605434,
          3.831733341051136,
          3.9038054273497784,
          6.748879573779661,
          4.140920010152467,
          1.841427206121509,
          4.809977565674217,
          5.101223848049225,
          4.370216834864662,
          5.065329744207806,
          18.428637839497537,
          2.6614000838629273,
          3.1944772031315853,
          4.699411043683589,
          2.290824465355707,
          2.670570806842537,
          3.3652741823695314,
          4.643281664169294,
          4.995486540823867,
          2.553096511086423,
          5.586655363148772,
          2.5234347590617427,
          3.8503739769661736,
          69.4788636951305,
          8.171634149466946,
          4.507783690761229,
          2.520827573404666,
          3.07512409287813,
          3.759077903475412,
          6.630063866471077,
          5.601760888555106,
          3.981335942315752,
          5.511599875014238,
          7.9842037412168105,
          3.247490912837377,
          3.320064045776665,
          4.5286052684385565,
          4.498942967308074,
          2.3177048879096773,
          3.3153129136584916,
          2.6750385395582867,
          4.298319693433762,
          3.4908206514851265,
          8.186452468096828,
          6.03026644222237,
          8.193864863615481,
          3.67908398141039,
          2.4869596225824058,
          6.211771098723425,
          3.813572532850791,
          2.7033849964492673,
          5.0726819274535115,
          3.8348987504659173,
          3.55927969419106,
          2.5899382906288837,
          2.9816283367781047,
          3.6673548873617774,
          4.927754669046061,
          5.1919700142128615,
          10.515728968182334,
          4.89178115411561,
          2.991343672708821,
          21.97216699838821,
          4.2074113088353045,
          2.599411497590935,
          2.8236571017516097,
          3.869052254476774,
          2.5208645359215365,
          5.101195266805567,
          2.736489022861513,
          4.755707538541283,
          6.603700833491283,
          2.1260407221308846,
          3.5108257589481457,
          4.8310718328390285,
          15.995583312174343,
          7.423973967784109,
          8.707031574127043,
          5.118983015649926,
          5.7793593978830335,
          5.322461668352416,
          5.5911372155996,
          6.818315230485138,
          3.320962593567867,
          3.487878130374513,
          3.394880162588689,
          5.815744781849598,
          7.557250466438965,
          2.64755072598705,
          7.842752546218339,
          3.045178028421051,
          5.6320932366144945,
          7.977384215527188,
          7.51120247032484,
          2.2126418042190044,
          6.285679822571461,
          3.637527204902766,
          2.6233287883884873,
          3.470606812240516,
          2.1604985649016286,
          1.8865194259166291,
          7.373178350327108,
          13.747654201407883,
          1.444180881248163,
          5.7633764645141765,
          4.379140780028636,
          3.9937249969751836,
          17.93779540042185,
          9.596670321722401,
          2.550324601830541,
          7.992816383267162,
          6.541148704716779,
          4.193452457516458,
          3.42190546306791,
          5.302572228721718,
          2.3675722040791496,
          4.079739581447208,
          4.622145510606553,
          2.6210803204419304,
          4.952509433633734,
          22.405844335311226,
          2.8836951054603994,
          2.8577616979710494,
          3.608774459724936,
          2.794398446235441,
          2.2321801509285666,
          4.672501779128074,
          4.224528249034656,
          3.545719530279454,
          7.348581583573767,
          4.589371255922309,
          8.970516561557972,
          3.207237715171238,
          10.511572942997374,
          6.823733925147714,
          2.8167667791893685,
          3.776391668160261,
          6.202728766460137,
          5.01571512192416,
          2.4112091026389355,
          1.9055185406808148,
          5.2565596669532555,
          6.473477542618992,
          5.243761925682511,
          7.413225385338038,
          11.09662233704023,
          7.745885642448596,
          10.127827920354123,
          3.687929812659039,
          3.199724518868963,
          9.265051853277056,
          13.982128117733893,
          21.277077095865526,
          8.490324502278783,
          5.349244533753261,
          3.122658957390671,
          3.3744168514601647,
          4.292810319581795,
          3.8000373141311323,
          4.385982157141131,
          4.268056804595693,
          3.236231798833669,
          8.86460763912618,
          1.6548269503671718,
          3.792565191253601,
          2.5514883609351426,
          4.218986211077803,
          7.682589325933051,
          4.734784296969044,
          3.6979345148721867,
          4.781104733655596,
          3.9490962579451874,
          4.780698944982726,
          1.8095784754702775,
          5.09621788499988,
          22.080383890883684,
          14.014357773096677,
          4.140878051293785,
          2.955361637969063,
          3.8683457192767237,
          10.56524345686509,
          6.7422800319931735,
          23.71005069766545,
          2.92080180005754,
          7.94720224767083,
          4.407399491445741,
          4.129663157405866,
          5.456269440686013,
          3.099136187836885,
          5.1896891354895915,
          4.937169647084788,
          2.1295920248287485,
          1.9039608908631096,
          8.434606413693029,
          8.40568812303542,
          2.577355192339043,
          6.682322990212946,
          7.218728636462471,
          2.8784245371268704,
          11.784765097215383,
          3.324463309580537,
          2.7316900473962393,
          5.228641844956953,
          7.366026278406189,
          4.844639098736146,
          3.353234136222084,
          5.933493626547232,
          6.222276571370635,
          4.399918330322756,
          7.522562998933399,
          6.2786267675808975,
          3.1866709842650884,
          2.6744488185444584,
          4.96988476701774,
          20.98288056192166,
          8.728448130070232,
          4.452254456423156,
          5.125168382820242,
          5.047285574608722,
          5.1225522761533835,
          3.17244439039724,
          4.1501523971404195,
          14.537019229986845,
          23.55805818893356,
          9.24536445436373,
          7.395217528527699,
          13.015381237956104,
          3.073155803848699,
          6.566847889822595,
          6.611804746820434,
          5.341336780171908,
          1.6536931308191543,
          3.589753592116017,
          8.84066041821891,
          2.3257865321358566,
          3.1811947750700362,
          4.10826558754058,
          4.4397664691847325,
          3.4260655401557347,
          5.470616769706379,
          13.141722256329912,
          4.514932070612064,
          2.457765474663069,
          10.985693211525941,
          11.654751924365446,
          4.468947510054631,
          4.666393195985265,
          5.09659212891292,
          3.6077872870554324,
          3.6731363728869018,
          5.422739390978966,
          9.245915537451245,
          9.515717891402648,
          3.1343605421436043,
          2.687516677485341,
          5.860684698072679,
          5.324616821988119,
          5.083617799272559,
          9.908884301247841,
          4.006303518841777,
          7.048319273155768,
          3.559387467820428,
          12.450350575689946,
          2.680955849892373,
          7.386460707205358,
          9.13949378667494,
          4.877236422157109,
          6.895376412668335,
          5.008655671694318,
          4.436949046524508,
          3.4706171554702383,
          5.271869201600967,
          5.557505093745099,
          3.552640943354576,
          7.684150069016943,
          2.4622392271045634,
          5.177128874801262,
          5.359058487460204,
          6.449211542917748,
          3.655237880887972,
          6.22839904518019,
          4.500268935315061,
          1.8502827119955978,
          3.073398702648815,
          7.11352051162914,
          4.268533569344509,
          4.014262308671426,
          2.653101377086387,
          6.126369974825071,
          15.183442811445769,
          10.42327563723709,
          3.607551179895762,
          2.8388335735829715,
          2.0328728842224306,
          7.2346256505504325,
          12.005866814445708,
          6.853547636299726,
          8.448338406785068,
          5.305659749040033,
          5.62736790785531,
          4.609327159272043,
          6.553725925210379,
          6.91693062744866,
          6.240616691069068,
          4.219372488483825,
          4.58644358692246,
          6.529233054728852,
          4.177602711007961,
          7.463057489213903,
          2.2576624905273133,
          3.681665058320046,
          7.495563510831738,
          6.631477190071329,
          3.121463519413926,
          4.0420789548991705,
          2.559475637010681,
          1.4195647639054656,
          7.062384373046313,
          2.8611707878352997,
          7.262168913239596,
          5.267181121804187,
          5.4525833533080155,
          4.517783932033899,
          4.906056942350088,
          7.164376938903914,
          3.0387971373504254,
          1.9768459899074509,
          4.892484478453364,
          3.3051816472626947,
          8.045857755070605,
          8.152732503039225,
          5.044043543149309,
          3.109739647760943,
          8.019419405467602,
          2.749951973808541,
          2.9106125209276406,
          5.6035822259214525,
          5.55831142232049,
          7.917776278805603,
          3.5138341352040063,
          6.220905962490737,
          3.4554248337849924,
          4.903808134179326,
          2.262187264554299,
          2.9475679898329408,
          2.896837813299578,
          4.137074396925135,
          2.7125107369497816,
          2.24347302264666,
          1.8515645623860897,
          3.7856045868577293,
          4.783460355836935,
          7.135596701586962,
          8.491771965188581,
          8.936517477510593,
          3.6926038992420143,
          7.337311487499878,
          5.08506516782056,
          5.37160866592118,
          1.9019304808421202,
          3.006677239165251,
          3.456026287483364,
          3.970898685862535,
          3.1506672022479423,
          3.7518687969361797,
          7.374610301113085,
          2.218393727131361,
          4.990484989210644,
          4.790650118142359,
          4.310552161444597,
          6.541876266565278,
          16.0314870572993,
          4.090629201523283,
          5.479977881241652,
          13.711983503271055,
          6.882469245182562,
          4.2551865118093115,
          3.180629017254608,
          3.3505262148703907,
          4.78616630583919,
          5.617910388839273,
          4.7174227225608325,
          7.0106045256339975,
          10.204925469823927,
          7.718673484999361,
          3.46511643045456,
          3.7952390017673583,
          9.607668288560053,
          5.238404387917474,
          3.450451613864781,
          4.929144146629509,
          4.237453817004309,
          2.5048990015795463,
          4.7073200625409,
          4.516543256005743,
          3.931556810417116,
          4.490407028345473,
          3.2490541371447117,
          5.06543300093582,
          2.835539321080956,
          30.790113298977804,
          3.9811366101696235,
          6.084990189835972,
          5.7835711255799245,
          9.379322283966081,
          5.746838944134812,
          3.7604215983570026,
          9.618582542345909,
          3.3118080151986224,
          5.755035559609497,
          2.4398781606651307,
          6.512422239324057,
          7.090375684112729,
          6.660250826636071,
          3.5300578993066103,
          3.3969338329562473,
          3.2059028878278766,
          5.27124141165714,
          10.658310558146017,
          3.116857997480464,
          3.3146774670802523,
          3.110460762023454,
          9.758378406797936,
          2.7004756718765415,
          5.262475254141136,
          4.504392552092219,
          17.680515717366152,
          2.0580634309494252,
          4.520004968163217,
          5.243950085703523,
          17.743795911782776,
          9.352089144353581,
          6.414363037780843,
          3.982958497453536,
          7.432017722798616,
          12.233656975231314,
          7.921650879201753,
          2.940334988878039,
          3.1121027083299158,
          5.94796123078603,
          3.298341264231853,
          3.9530272508682276,
          5.6561226544504,
          4.928394426342493,
          6.3034545962855395,
          3.075159651669482,
          3.981884157180506,
          2.379965929164659,
          2.364142129646866,
          4.646535300663773,
          6.269401914191704,
          5.564885672157025,
          7.244651493676139,
          4.513862212362009,
          10.651314557681992,
          3.719363747456175,
          4.845203374482828,
          3.484734531424581,
          4.468038215295564,
          21.512102311443737,
          11.303915864240674,
          3.2437792870085835,
          2.837924058894388,
          1.911552693124935,
          4.2494158059945155,
          9.241432878833534,
          16.952773713178388,
          6.5999240332160065,
          5.0517110894689745,
          6.498383287864619,
          6.301536486511785,
          3.9269837678452544,
          4.528367739868695,
          17.1852852140682,
          3.088759609435731,
          3.3983595422234854,
          8.672314810630136,
          5.283863076975158,
          3.720381893487374,
          2.390411730731271,
          5.076938457550177,
          2.504294245649065,
          3.321639237803153,
          3.2101470551486844,
          7.289193111814678,
          3.216151545258601,
          6.177666515929005,
          3.414333421601574,
          8.780995456029387,
          12.246298781704093,
          9.86011121504765,
          2.6042955110262236,
          7.924856598532406,
          2.4461407547223875,
          3.162478266657245,
          5.197555774900958,
          5.288280420210324,
          3.0562019629296,
          7.969981433399748,
          8.095708484422627,
          5.857390101557177,
          2.980604140997831,
          5.009560924169937,
          15.629684712341032,
          5.344866105182376,
          7.771605642864958,
          1.9026715715779168,
          6.857733621651605,
          5.551354479362453,
          5.79722464438755,
          10.866518857619521,
          7.093622989145467,
          3.029773801233815,
          5.24976949918721,
          4.526433425684286,
          3.7444668384838757,
          8.36974799130313,
          23.10461843582926,
          6.8674565612642935,
          7.897751903478384,
          6.202342799720753,
          3.7550653662847955,
          10.63714358524986,
          12.573233087232628,
          7.14614804657446,
          2.218183629061046,
          2.556687658462935,
          8.929748894235155,
          6.758826049112898,
          4.163494087788409,
          3.577566283783408,
          2.7662461522728403,
          6.467744047038902,
          2.5878961324662244,
          4.937568115904759,
          10.24332527529013,
          3.612129422891338,
          2.966056182659486,
          3.1810601519896173,
          2.293456492115735,
          3.0014030039708914,
          2.2812746189919326,
          2.8868522352699935,
          4.441096702340409,
          2.989334929264447,
          6.152966647103874,
          4.15514283602904,
          6.482464804441828,
          8.0590682866914,
          8.781460236975514,
          10.893062676020103,
          3.928610866820739,
          12.600202231177951,
          2.378843253841357,
          5.283007131830126,
          2.111653967688419,
          3.965973981199924,
          10.3250652762624,
          3.1242753126346527,
          2.7634923603770996,
          2.001424227219591,
          6.663514817258887,
          10.128673087436505,
          3.9385289477504197,
          3.734051792575918,
          6.7665669525752055,
          4.718531828045801,
          3.5398989000127776,
          5.518343851407357,
          3.639877355042999,
          3.730366125477876,
          6.610530368770124,
          5.474421421214616,
          4.4171507081889665,
          7.754034150519284,
          2.263922066360938,
          4.439081657744416,
          15.43408637620051,
          12.908224495247103,
          6.628703787477494,
          12.048555399675198,
          2.8062194292332117,
          5.31395176140457,
          3.9884700529135895,
          4.09276074785791,
          3.7491285561994445,
          5.210968737778676,
          4.6245198397833365,
          11.877120530318585,
          5.297001159628267,
          4.174770995673107,
          6.368752394829609,
          3.476798812677429,
          4.060464800998881,
          3.8081773655789735,
          7.409193159933546,
          5.450834487634571,
          6.395572537116852,
          3.786687811966902,
          5.232302535857804,
          5.557637596571429,
          3.694307397563828,
          6.600400047595593,
          4.344423423867664,
          6.357779062994054,
          3.0258810082862575,
          9.152097234036916,
          14.647957405632056,
          6.385980212594239,
          4.608625533593143,
          3.4240183399794697,
          4.74677666902944,
          5.74989108546439,
          7.4712914365843215,
          5.3582574299942065,
          7.392599703453492,
          3.220998240963895,
          7.958374022531789,
          6.844866725116715,
          4.568968494211529,
          13.357569337141987,
          3.9523115058042926,
          6.150152886535522,
          2.4541934669769594,
          1.9688163745464846,
          5.572208961688042,
          5.5222896571774545,
          3.3195044565194234,
          12.53429054420178,
          4.89969558921609,
          2.9323411582960035,
          4.064920943587775,
          4.151262734841566,
          5.5800826680530085,
          4.267095804677066,
          9.792403309871588,
          11.566028166911577,
          2.2389730023194003,
          4.195921182748729,
          5.230617464294323,
          9.824970249848349,
          6.787641652975819,
          2.194450833857234,
          7.1955623014635695,
          2.9047996119808466,
          2.8638580393258226,
          3.7435902601484394,
          6.828873625633009,
          3.2091342627099757,
          4.322752965695512,
          10.567163071386384,
          3.711225064291943,
          6.194371528698007,
          4.475343364965128,
          4.1091197888600846,
          3.1964340301748524,
          1.808140851165918,
          11.122330662136928,
          4.746584280571044,
          3.2108286794265335,
          3.123421046029427,
          5.8430424959010425,
          6.745269812720256,
          5.930409065772797,
          7.197228298922333,
          3.965989583001654,
          3.7781797599736415,
          4.07724005881973,
          5.510409458151629,
          5.74809756763276,
          3.685771394623848,
          4.599716441625552,
          2.3475589202232463,
          4.820764864118387,
          2.5111554568319585,
          8.298994850636397,
          6.193080155152088,
          9.35804883241901,
          6.8530027145988175,
          21.17609888554899,
          4.634649215303162,
          5.325198279044096,
          18.576691753208756,
          2.3860044863908043,
          2.753281358821607,
          3.4820486774925086,
          2.093378580384464,
          8.272967240212571,
          3.8137675669316593,
          3.166791787004674,
          5.032237088847471,
          4.067944370038525,
          4.604377953010066,
          3.3886474212161763,
          4.8595546751814345,
          3.099197885903494,
          1.8568948617157666,
          4.249206597800971,
          4.676831717782808,
          2.9929766145267607,
          3.2586777069526955,
          5.89946866117746,
          6.778754109625625,
          11.440702823240123,
          17.24203605608187,
          3.869160644333059,
          5.86528989852099,
          2.135987382915918,
          7.937066063368547,
          3.5079684099383206,
          4.18896876720118,
          5.386664401536141,
          4.690905746087396,
          3.265131437121249,
          6.396229007243959,
          2.3215625055773916,
          3.736121347135212,
          5.57113495828588,
          7.032308510675063,
          6.045248171474625,
          2.3945717625057883,
          4.623171040350628,
          4.397438091958126,
          20.90419578220164,
          3.5905397892353026,
          5.627200872536332,
          3.731174222528026,
          2.501665233486644,
          8.937806602720615,
          6.4078278328552605,
          4.379321407608115,
          4.091968970706576,
          2.528626626754171,
          4.536678381833081,
          5.712627749436311,
          9.40637681720175,
          4.073787200653749,
          4.250869403422604,
          5.081283361694557,
          3.0534241346736373,
          3.193160628837605,
          2.3475909633620877,
          11.101136718499783,
          9.337696292755727,
          4.35548627084942,
          2.1004060785495122,
          2.476399951101589,
          2.673785916304053,
          2.7839517797051525,
          5.629594177083224,
          5.603434600074685,
          7.5581207805964805,
          9.44276006999316,
          4.271063806620686,
          6.4941325279787945,
          12.897691227924431,
          25.320536397426277,
          2.0649676986060252,
          6.502772487092413,
          3.8163908121587933,
          4.414972844209882,
          31.763717230464767,
          5.762661291908123,
          14.498173479493516,
          5.9129869378981885,
          3.3742736492853878,
          4.471220757118137,
          2.4141413198495894,
          9.123337538116656,
          2.8221629658642846,
          6.302815161497629,
          3.8255348551606283,
          15.561810679105902,
          6.185203369333137,
          4.6186496192804025,
          3.681099374279562,
          10.22321399712305,
          8.360294647712733,
          3.9653069433935193,
          4.088964246429484,
          2.705414599946111,
          3.1782408238269975,
          3.305674194404413,
          3.4492499289306298,
          8.591989097561019,
          6.755323708686966,
          4.038705943944312,
          4.80157150929278,
          4.655646627998945,
          2.4075180581514433,
          3.5566890179445703,
          2.148101997803305,
          6.814269467635137,
          6.0405470401562225,
          3.9163743163247426,
          7.2318060390591095,
          9.315882003702205,
          6.6684750130792905,
          5.383208868399853,
          10.360097766799544,
          3.8096866612627087,
          1.9428927178884434,
          3.014657365101467,
          4.664339871647686,
          3.31686449980204,
          2.9865327868900886,
          3.662045651957364,
          7.107035438895079,
          4.237968589861854,
          3.9959537156973752,
          3.7595641418720462,
          3.4107466092787027,
          20.160909492032932,
          12.367889761074418,
          14.869642921372986,
          6.76091639661899,
          4.257426136748501,
          5.923587294971942,
          6.508186347078437,
          1.9738216270080344,
          3.7003819206109663,
          9.972441412920897,
          12.894650362775527,
          2.090103054604289,
          4.18541580193051,
          3.370689943871346,
          2.41817328440735,
          9.500776474593758,
          5.510559888472144
         ],
         "xaxis": "x",
         "y": [
          66.71004486083984,
          174.87701416015625,
          167.18380737304688,
          118.10223388671875,
          129.84043884277344,
          90.07243347167969,
          537.5332641601562,
          72.15167236328125,
          75.66551971435547,
          79.05316162109375,
          3.497162103652954,
          57.173805236816406,
          138.32875061035156,
          112.33448028564453,
          54.47489929199219,
          69.39999389648438,
          169.0733184814453,
          228.56167602539062,
          234.03887939453125,
          167.40469360351562,
          45.62413787841797,
          90.63285827636719,
          148.09292602539062,
          57.65825653076172,
          173.795166015625,
          151.51681518554688,
          200.47952270507812,
          160.8822479248047,
          206.28514099121094,
          86.16573333740234,
          41.764404296875,
          94.56678771972656,
          237.3493194580078,
          129.64283752441406,
          149.2921600341797,
          90.32757568359375,
          82.46649932861328,
          194.9498291015625,
          263.33782958984375,
          134.48402404785156,
          91.89109802246094,
          162.7751922607422,
          104.66326904296875,
          98.42561340332031,
          249.7685089111328,
          309.8223571777344,
          47.5533447265625,
          76.49507904052734,
          179.7253875732422,
          397.9491882324219,
          144.02569580078125,
          73.1054916381836,
          130.216552734375,
          130.70669555664062,
          212.80816650390625,
          114.9997329711914,
          89.25513458251953,
          198.6004638671875,
          154.1122283935547,
          68.18812561035156,
          240.97003173828125,
          145.61790466308594,
          35.82234191894531,
          122.69866943359375,
          135.24691772460938,
          208.15045166015625,
          104.19380187988281,
          105.18294525146484,
          105.06464385986328,
          98.70252990722656,
          38.78059005737305,
          294.9700927734375,
          103.46003723144531,
          286.9193420410156,
          97.6119384765625,
          114.53652954101562,
          170.51072692871094,
          134.3986358642578,
          149.68804931640625,
          146.8718719482422,
          229.48239135742188,
          68.85778045654297,
          73.3848648071289,
          64.61395263671875,
          77.81976318359375,
          102.43843078613281,
          80.15816497802734,
          67.82257843017578,
          96.32524108886719,
          149.05755615234375,
          87.4089126586914,
          401.0632629394531,
          264.9486389160156,
          137.49490356445312,
          137.7582550048828,
          76.40780639648438,
          103.8956298828125,
          120.01826477050781,
          223.23861694335938,
          137.28225708007812,
          104.79535675048828,
          289.20416259765625,
          73.51960754394531,
          238.1973876953125,
          125.26863861083984,
          168.91416931152344,
          132.61007690429688,
          46.85561752319336,
          174.32553100585938,
          315.0227966308594,
          290.4552917480469,
          161.56985473632812,
          63.010536193847656,
          82.509765625,
          101.78267669677734,
          162.37060546875,
          313.00665283203125,
          130.7899169921875,
          383.9220275878906,
          159.1518096923828,
          264.9323425292969,
          62.876495361328125,
          546.1299438476562,
          109.65677642822266,
          23.396812438964844,
          67.70851135253906,
          86.6968994140625,
          118.12960815429688,
          274.736328125,
          85.66850280761719,
          175.84783935546875,
          67.43743133544922,
          93.91251373291016,
          163.71871948242188,
          69.39410400390625,
          116.13658142089844,
          231.3743438720703,
          50.783817291259766,
          120.34026336669922,
          384.2282409667969,
          167.21458435058594,
          281.1761474609375,
          186.85943603515625,
          68.0007095336914,
          283.94940185546875,
          219.34115600585938,
          168.2848358154297,
          137.165771484375,
          42.553199768066406,
          178.2011260986328,
          110.6964111328125,
          93.36959838867188,
          102.88311767578125,
          195.3048095703125,
          135.0323944091797,
          112.94107818603516,
          97.95936584472656,
          142.11782836914062,
          68.39517211914062,
          104.00621795654297,
          92.37007141113281,
          103.96485900878906,
          175.50137329101562,
          208.0612335205078,
          120.05203247070312,
          174.31057739257812,
          92.23011779785156,
          124.35692596435547,
          154.60382080078125,
          149.13363647460938,
          131.68649291992188,
          126.33158874511719,
          155.7955322265625,
          189.8455810546875,
          89.98236846923828,
          130.56951904296875,
          185.08738708496094,
          225.85630798339844,
          96.98361206054688,
          164.29962158203125,
          97.63014221191406,
          152.5954132080078,
          79.26948547363281,
          162.33050537109375,
          115.51849365234375,
          128.15017700195312,
          175.2938690185547,
          93.19025421142578,
          128.6757354736328,
          223.63955688476562,
          78.4955825805664,
          205.43270874023438,
          60.4128303527832,
          143.8275604248047,
          248.66725158691406,
          173.0731201171875,
          114.26509094238281,
          160.37115478515625,
          147.1964874267578,
          164.2633514404297,
          217.23040771484375,
          86.58055877685547,
          320.4735412597656,
          76.8342514038086,
          98.47283935546875,
          162.58071899414062,
          56.98094940185547,
          110.1995620727539,
          194.79196166992188,
          305.0853271484375,
          130.49021911621094,
          302.1217956542969,
          155.72927856445312,
          202.54183959960938,
          190.61526489257812,
          109.51913452148438,
          82.68968200683594,
          87.87638854980469,
          293.8465881347656,
          84.10350799560547,
          165.9988555908203,
          117.48965454101562,
          146.15187072753906,
          273.6598815917969,
          115.78269958496094,
          120.88865661621094,
          178.31646728515625,
          165.1894989013672,
          115.98268127441406,
          106.44488525390625,
          451.5252685546875,
          74.91697692871094,
          85.2003402709961,
          511.2761535644531,
          277.1761779785156,
          65.89337158203125,
          105.2654800415039,
          92.43643188476562,
          100.7822494506836,
          278.36175537109375,
          88.16990661621094,
          41.75904846191406,
          205.3110809326172,
          261.2350769042969,
          135.92071533203125,
          201.15316772460938,
          441.9393615722656,
          161.34304809570312,
          103.55726623535156,
          74.64927673339844,
          49.46086120605469,
          81.19149780273438,
          102.55480194091797,
          99.94042205810547,
          300.4423828125,
          116.77751922607422,
          181.0964813232422,
          280.36456298828125,
          52.53998947143555,
          158.38853454589844,
          188.43765258789062,
          299.78350830078125,
          139.19381713867188,
          98.08500671386719,
          157.84454345703125,
          172.9902801513672,
          135.93911743164062,
          63.56171798706055,
          71.9603271484375,
          64.4688720703125,
          201.82542419433594,
          146.0912628173828,
          49.908023834228516,
          64.21826934814453,
          115.12334442138672,
          42.78558349609375,
          157.4089813232422,
          97.23370361328125,
          180.19082641601562,
          196.7021484375,
          86.14125061035156,
          165.17044067382812,
          229.97413635253906,
          156.33363342285156,
          187.5955352783203,
          157.02462768554688,
          79.2899398803711,
          664.839111328125,
          120.36717987060547,
          70.63400268554688,
          70.66455841064453,
          96.33493041992188,
          131.64561462402344,
          102.07337188720703,
          174.01268005371094,
          71.20557403564453,
          320.5718078613281,
          196.700927734375,
          125.19119262695312,
          67.07376098632812,
          185.83714294433594,
          295.1213073730469,
          102.02359008789062,
          71.41285705566406,
          156.95059204101562,
          91.54768371582031,
          58.10343933105469,
          97.12059783935547,
          143.09689331054688,
          34.42577362060547,
          54.22089385986328,
          98.83827209472656,
          215.785888671875,
          99.44944763183594,
          183.6162872314453,
          60.31496810913086,
          198.61968994140625,
          234.1601104736328,
          138.28602600097656,
          333.7117004394531,
          304.8740234375,
          138.32948303222656,
          273.54534912109375,
          85.12586212158203,
          170.5417938232422,
          216.3536834716797,
          258.46875,
          95.93863677978516,
          129.26844787597656,
          180.50625610351562,
          103.00450897216797,
          70.11698150634766,
          132.758056640625,
          129.13963317871094,
          101.89193725585938,
          17.34842300415039,
          87.59349822998047,
          125.4301986694336,
          99.60928344726562,
          134.80747985839844,
          118.20601654052734,
          76.19361877441406,
          100.1746826171875,
          333.1295166015625,
          97.50852966308594,
          132.9583740234375,
          44.85454177856445,
          273.2208557128906,
          275.1734313964844,
          146.53916931152344,
          111.5158920288086,
          102.0753173828125,
          90.89734649658203,
          218.8900146484375,
          128.10508728027344,
          183.10296630859375,
          108.99996948242188,
          159.03317260742188,
          94.43043518066406,
          309.68603515625,
          39.159305572509766,
          247.31716918945312,
          45.84413528442383,
          224.5968780517578,
          149.88389587402344,
          60.950618743896484,
          245.42132568359375,
          126.72309112548828,
          266.08062744140625,
          139.8387908935547,
          78.7418441772461,
          127.84573364257812,
          61.61479949951172,
          161.4390869140625,
          201.82254028320312,
          183.0707550048828,
          363.37725830078125,
          191.4062957763672,
          179.73104858398438,
          247.04525756835938,
          125.49786376953125,
          107.06684112548828,
          115.87543487548828,
          114.62767028808594,
          255.211181640625,
          119.37564086914062,
          64.04817199707031,
          66.07012939453125,
          179.9423370361328,
          63.811344146728516,
          103.22183227539062,
          650.0166015625,
          182.2899169921875,
          304.5818176269531,
          215.43345642089844,
          241.44561767578125,
          155.4278564453125,
          90.24620056152344,
          99.2840805053711,
          157.3632049560547,
          71.25081634521484,
          258.1546630859375,
          453.3333435058594,
          152.77108764648438,
          178.67999267578125,
          203.65274047851562,
          213.46856689453125,
          176.66897583007812,
          95.3690414428711,
          64.82456970214844,
          99.58135986328125,
          78.39286804199219,
          386.21075439453125,
          137.68653869628906,
          120.54845428466797,
          68.92952728271484,
          134.55027770996094,
          124.89282989501953,
          119.80081939697266,
          111.38165283203125,
          122.53279113769531,
          151.35499572753906,
          230.9427032470703,
          333.1207580566406,
          176.56201171875,
          133.357177734375,
          61.592472076416016,
          81.54640197753906,
          178.52499389648438,
          146.6010284423828,
          114.34722900390625,
          132.10107421875,
          92.62937927246094,
          166.77749633789062,
          141.83917236328125,
          216.53172302246094,
          105.12934112548828,
          295.4712219238281,
          39.579673767089844,
          139.9124298095703,
          205.06951904296875,
          164.53182983398438,
          125.5379638671875,
          175.5979766845703,
          178.11480712890625,
          181.42613220214844,
          359.137451171875,
          226.9528350830078,
          136.01023864746094,
          176.79360961914062,
          70.92539978027344,
          143.26258850097656,
          81.16316223144531,
          248.8075714111328,
          63.29806900024414,
          34.717994689941406,
          48.58159637451172,
          211.1413116455078,
          207.2540283203125,
          55.587093353271484,
          70.77188873291016,
          185.34182739257812,
          258.52716064453125,
          76.1300277709961,
          103.6173324584961,
          205.39804077148438,
          247.1814727783203,
          216.87818908691406,
          30.273012161254883,
          198.33273315429688,
          157.42738342285156,
          33.56184387207031,
          133.31922912597656,
          93.19851684570312,
          96.60072326660156,
          112.59972381591797,
          124.4698257446289,
          312.16851806640625,
          115.63307189941406,
          95.27740478515625,
          163.14732360839844,
          167.0688934326172,
          135.26954650878906,
          90.75234985351562,
          310.2450256347656,
          203.00759887695312,
          65.0589599609375,
          107.57864379882812,
          375.56463623046875,
          205.68727111816406,
          125.67314147949219,
          101.0151596069336,
          62.557342529296875,
          149.9400177001953,
          300.4061279296875,
          131.5447235107422,
          317.7851257324219,
          155.2213592529297,
          267.3380126953125,
          93.24088287353516,
          226.47079467773438,
          67.66210174560547,
          219.7339324951172,
          221.39175415039062,
          79.20283508300781,
          132.09402465820312,
          76.53874969482422,
          222.33119201660156,
          88.95359802246094,
          96.23856353759766,
          198.30445861816406,
          132.8913116455078,
          191.0428466796875,
          148.6621856689453,
          194.2168426513672,
          205.0031280517578,
          137.9964599609375,
          448.9117431640625,
          212.42868041992188,
          99.86962890625,
          85.54154968261719,
          93.3659896850586,
          93.7247543334961,
          75.70330810546875,
          57.83746337890625,
          57.034908294677734,
          78.67770385742188,
          54.27251052856445,
          125.80960845947266,
          115.9355697631836,
          281.4381103515625,
          173.15855407714844,
          184.497802734375,
          152.27703857421875,
          119.0384521484375,
          139.4386749267578,
          133.69737243652344,
          80.81764221191406,
          168.82196044921875,
          190.61117553710938,
          217.88095092773438,
          386.08978271484375,
          111.0428466796875,
          83.10861206054688,
          94.03215026855469,
          143.02232360839844,
          227.7156524658203,
          197.71849060058594,
          110.31222534179688,
          78.1944808959961,
          73.66657257080078,
          186.3353729248047,
          163.37603759765625,
          160.9130859375,
          220.74136352539062,
          87.25911712646484,
          104.40476989746094,
          86.50437927246094,
          87.90132141113281,
          297.9945983886719,
          89.43376922607422,
          101.65535736083984,
          232.74923706054688,
          437.0091552734375,
          185.5775146484375,
          131.1966094970703,
          102.67316436767578,
          71.27711486816406,
          172.8429412841797,
          123.01020050048828,
          178.68467712402344,
          142.49545288085938,
          80.37847900390625,
          44.77022171020508,
          177.2113037109375,
          360.6942138671875,
          200.06163024902344,
          121.95083618164062,
          150.46865844726562,
          582.8416748046875,
          151.17784118652344,
          100.57169342041016,
          196.0706024169922,
          206.0150146484375,
          144.60711669921875,
          58.78010559082031,
          199.66603088378906,
          216.233642578125,
          126.11184692382812,
          97.17048645019531,
          164.87826538085938,
          91.97793579101562,
          121.34970092773438,
          106.16517639160156,
          275.6470031738281,
          182.52728271484375,
          138.17930603027344,
          100.69636535644531,
          267.7096252441406,
          47.27730941772461,
          101.36363220214844,
          88.10686492919922,
          148.32273864746094,
          367.8836975097656,
          109.8085708618164,
          154.6092071533203,
          224.23165893554688,
          215.51235961914062,
          119.99874877929688,
          178.86949157714844,
          184.528076171875,
          124.27186584472656,
          55.15216827392578,
          79.71437072753906,
          272.3498840332031,
          254.79896545410156,
          167.71694946289062,
          67.555908203125,
          133.02420043945312,
          86.5318603515625,
          71.887451171875,
          119.25042724609375,
          114.64778137207031,
          117.13047790527344,
          101.78253173828125,
          166.88824462890625,
          129.2487335205078,
          122.13973999023438,
          108.78401947021484,
          89.9292221069336,
          80.14352416992188,
          78.59093475341797,
          28.65578269958496,
          93.82872009277344,
          170.91000366210938,
          170.98727416992188,
          75.53631591796875,
          71.79430389404297,
          248.8806610107422,
          205.4329071044922,
          127.76864624023438,
          147.970458984375,
          143.37002563476562,
          171.27720642089844,
          117.76280212402344,
          201.44842529296875,
          151.1314239501953,
          181.32217407226562,
          142.62936401367188,
          96.80624389648438,
          275.27490234375,
          105.52651977539062,
          76.58650207519531,
          203.9992218017578,
          190.8890380859375,
          77.5540771484375,
          156.1806640625,
          223.2462921142578,
          173.5111541748047,
          119.44470977783203,
          299.05194091796875,
          79.69597625732422,
          122.66648864746094,
          88.49620819091797,
          132.80548095703125,
          84.43534088134766,
          315.7574462890625,
          72.27073669433594,
          48.222900390625,
          50.832149505615234,
          79.6798324584961,
          128.1226806640625,
          196.834716796875,
          51.683738708496094,
          62.70663833618164,
          90.87767028808594,
          226.62332153320312,
          94.96665954589844,
          164.02267456054688,
          178.81381225585938,
          239.39151000976562,
          206.5507049560547,
          170.1006317138672,
          98.31158447265625,
          149.313720703125,
          154.8334197998047,
          313.8601989746094,
          97.36315155029297,
          108.90816497802734,
          62.738731384277344,
          123.73573303222656,
          150.29083251953125,
          49.178348541259766,
          102.63987731933594,
          167.26490783691406,
          99.38909912109375,
          138.1612548828125,
          214.96746826171875,
          398.70513916015625,
          159.20631408691406,
          220.96368408203125,
          79.82666015625,
          141.22280883789062,
          65.12811279296875,
          51.707576751708984,
          71.20123291015625,
          92.19515991210938,
          178.7409210205078,
          264.9510192871094,
          84.97884368896484,
          65.64498901367188,
          209.3093719482422,
          237.8836669921875,
          124.07634735107422,
          487.88427734375,
          109.18437957763672,
          86.79273223876953,
          97.28041076660156,
          85.39866638183594,
          129.4805450439453,
          175.50439453125,
          11.712971687316895,
          78.506591796875,
          326.06585693359375,
          176.93917846679688,
          107.90328216552734,
          123.09933471679688,
          298.2472229003906,
          110.851806640625,
          53.16075897216797,
          120.8734359741211,
          106.24174499511719,
          165.65797424316406,
          238.5780792236328,
          201.03924560546875,
          217.75547790527344,
          169.95347595214844,
          122.80876922607422,
          129.89723205566406,
          123.8049087524414,
          154.403076171875,
          110.19861602783203,
          96.02375793457031,
          176.49148559570312,
          112.53965759277344,
          142.3831787109375,
          57.922386169433594,
          92.7237319946289,
          74.92833709716797,
          103.01576232910156,
          111.02044677734375,
          87.28388214111328,
          162.54188537597656,
          284.4310302734375,
          203.99610900878906,
          139.753662109375,
          257.6581726074219,
          208.06729125976562,
          98.82950592041016,
          88.78836822509766,
          230.9348907470703,
          222.93162536621094,
          167.81158447265625,
          123.95902252197266,
          8.583072662353516,
          118.19902801513672,
          188.65188598632812,
          71.1623306274414,
          122.62362670898438,
          79.61860656738281,
          122.2308578491211,
          75.10662078857422,
          143.83297729492188,
          152.38571166992188,
          132.94754028320312,
          160.96942138671875,
          370.38470458984375,
          146.17730712890625,
          285.2233581542969,
          129.31826782226562,
          143.97763061523438,
          50.0462646484375,
          49.52501678466797,
          301.4480285644531,
          106.48707580566406,
          56.878662109375,
          144.87442016601562,
          226.70957946777344,
          210.95553588867188,
          117.48578643798828,
          79.76144409179688,
          38.8310432434082,
          199.0241241455078,
          81.67147064208984,
          71.43009185791016,
          212.9297637939453,
          44.57883071899414,
          46.0700798034668,
          178.53536987304688,
          238.67274475097656,
          169.60842895507812,
          78.18966674804688,
          83.62910461425781,
          131.9163818359375,
          87.79961395263672,
          40.836456298828125,
          123.75284576416016,
          268.629150390625,
          106.14300537109375,
          270.06195068359375,
          130.76092529296875,
          111.57195281982422,
          98.51886749267578,
          100.48440551757812,
          97.89175415039062,
          156.61865234375,
          215.49191284179688,
          43.3446044921875,
          80.22557830810547,
          388.52203369140625,
          112.79586791992188,
          407.36102294921875,
          108.76581573486328,
          180.88580322265625,
          191.20770263671875,
          156.1592254638672,
          188.269775390625,
          168.67672729492188,
          243.98692321777344,
          215.6855926513672,
          121.53182220458984,
          337.20501708984375,
          60.081424713134766,
          129.5298309326172,
          205.09317016601562,
          420.28240966796875,
          148.09164428710938,
          136.67950439453125,
          104.33360290527344,
          72.55242156982422,
          125.55706024169922,
          114.1401138305664,
          24.505393981933594,
          96.78459167480469,
          93.55253601074219,
          162.6307373046875,
          122.82118225097656,
          167.3614501953125,
          152.65159606933594,
          206.51663208007812,
          88.49498748779297,
          132.9808807373047,
          163.48443603515625,
          88.19967651367188,
          202.5283203125,
          319.8819274902344,
          131.0838623046875,
          175.07827758789062,
          155.68093872070312,
          142.64500427246094,
          157.41041564941406,
          120.80999755859375,
          81.19405364990234,
          133.8763885498047,
          136.87405395507812,
          273.2978820800781,
          80.35662841796875,
          109.90652465820312,
          235.87705993652344,
          74.58356475830078,
          350.59326171875,
          78.76722717285156,
          171.0369415283203,
          144.20986938476562,
          90.8534927368164,
          78.33009338378906,
          79.54229736328125,
          72.26991271972656,
          101.2684097290039,
          266.2969055175781,
          67.84369659423828,
          143.37576293945312,
          114.0665512084961,
          333.031494140625,
          85.72047424316406,
          85.94435119628906,
          225.928466796875,
          136.83985900878906,
          295.5966491699219,
          161.903564453125,
          228.977294921875,
          52.15982437133789,
          47.16053009033203,
          66.5215835571289,
          133.87905883789062,
          51.51008987426758,
          152.14675903320312,
          145.86947631835938,
          98.94290161132812,
          237.4806365966797,
          50.867828369140625,
          121.86259460449219,
          187.06243896484375,
          56.93762969970703,
          423.8822326660156,
          194.27537536621094,
          339.55865478515625,
          82.72308349609375,
          92.00508880615234,
          55.15861129760742,
          187.88755798339844,
          97.28630065917969,
          148.91802978515625,
          185.5533447265625,
          113.27093505859375,
          105.61073303222656,
          139.55076599121094,
          88.63810729980469,
          88.43609619140625,
          168.04635620117188,
          356.7763366699219,
          254.4357147216797,
          110.79869842529297,
          79.58303833007812,
          172.8902587890625,
          168.52871704101562,
          114.5060043334961,
          51.270545959472656,
          149.68441772460938,
          162.56103515625,
          59.93840789794922,
          194.52520751953125,
          83.2496566772461,
          159.28627014160156,
          189.56689453125,
          208.25965881347656,
          82.51091003417969,
          96.19273376464844,
          96.875732421875,
          95.98306274414062,
          259.7515869140625,
          99.42848205566406,
          178.66746520996094,
          91.8429946899414,
          183.77737426757812,
          129.77711486816406,
          91.18099212646484,
          128.530517578125,
          133.51153564453125,
          202.07252502441406,
          245.6238555908203,
          106.82766723632812,
          98.94149017333984,
          162.4090118408203,
          99.94551849365234,
          100.24951171875,
          92.62152099609375,
          82.17127990722656,
          101.97529602050781,
          174.36892700195312,
          160.34056091308594,
          62.58198547363281,
          172.02325439453125,
          196.21763610839844,
          234.22979736328125,
          196.20538330078125,
          76.66151428222656,
          89.97095489501953,
          200.90567016601562,
          56.47107696533203,
          85.73229217529297,
          115.67227935791016,
          104.94097137451172,
          141.99819946289062,
          242.78297424316406,
          42.29705047607422,
          41.431251525878906,
          144.86245727539062,
          132.71058654785156,
          278.3306884765625,
          136.0247039794922,
          91.34931945800781,
          53.50450897216797,
          115.85311889648438,
          423.9891662597656,
          75.01874542236328,
          449.7615051269531,
          81.9546890258789,
          90.06272888183594,
          311.2214660644531,
          53.777076721191406,
          97.19263458251953,
          40.82674789428711,
          79.82978057861328,
          378.0167236328125,
          229.52682495117188,
          136.60105895996094,
          123.20680236816406,
          162.88063049316406,
          446.7696533203125,
          146.82762145996094,
          225.13095092773438,
          133.50180053710938,
          102.07025909423828,
          143.5034637451172,
          111.61894226074219,
          164.5792236328125,
          100.95443725585938,
          58.04484558105469,
          141.5301513671875,
          82.3063735961914,
          222.1540069580078,
          155.93324279785156,
          162.27578735351562,
          103.36827087402344,
          55.131187438964844,
          72.71992492675781,
          176.82151794433594,
          192.2857666015625,
          70.11821746826172,
          76.60494995117188,
          156.82492065429688,
          125.76078796386719,
          175.95327758789062,
          159.4102020263672,
          139.7240753173828,
          93.80174255371094,
          322.1802673339844,
          123.05438232421875,
          70.24635314941406,
          78.38001251220703,
          92.50738525390625,
          81.1037368774414,
          139.01068115234375,
          318.3133544921875,
          198.367919921875,
          100.64197540283203,
          39.899932861328125,
          341.03057861328125,
          183.55255126953125,
          235.9637908935547,
          198.8873291015625,
          170.47894287109375,
          78.11663055419922,
          104.77008056640625,
          286.8716125488281,
          212.6943359375,
          155.8664093017578,
          258.0308532714844,
          269.063232421875,
          152.74217224121094,
          274.27899169921875,
          374.72064208984375,
          168.0471649169922,
          163.1521453857422,
          76.40423583984375,
          473.5693359375,
          150.74917602539062,
          84.95267486572266,
          198.05111694335938,
          152.97439575195312,
          69.99371337890625,
          52.64311981201172,
          137.31655883789062,
          52.049957275390625,
          63.02039337158203,
          87.93838500976562,
          87.64768981933594,
          98.98957824707031,
          210.58416748046875,
          84.47106170654297,
          106.48570251464844,
          254.11441040039062,
          73.67682647705078,
          66.42538452148438,
          136.468505859375,
          108.43614959716797,
          123.20304107666016,
          225.97361755371094,
          102.52619934082031,
          78.58081817626953,
          470.4242858886719,
          61.28018569946289,
          317.14447021484375,
          103.83110046386719,
          212.3905029296875,
          95.12724304199219,
          127.4197769165039,
          156.53273010253906,
          217.336181640625,
          97.76556396484375,
          123.81080627441406,
          78.16938781738281,
          140.93017578125,
          197.2354278564453,
          114.02000427246094,
          72.05976867675781,
          82.76782989501953,
          88.08308410644531,
          102.78141784667969,
          117.21255493164062,
          167.4296875,
          147.5311737060547,
          102.69456481933594,
          130.0967559814453,
          163.4917755126953,
          113.17240142822266,
          121.68717193603516,
          52.70053482055664,
          104.2850112915039,
          84.46115112304688,
          194.6822052001953,
          137.98487854003906,
          93.1932373046875,
          77.02606201171875,
          266.1556091308594,
          247.97869873046875,
          469.14898681640625,
          162.8309326171875,
          86.79865264892578,
          200.9081573486328,
          136.385498046875,
          89.27185821533203,
          205.7170867919922,
          75.24541473388672,
          117.483154296875,
          207.89501953125,
          257.89923095703125,
          57.741485595703125,
          95.97257995605469,
          71.51089477539062,
          47.043121337890625,
          93.560791015625,
          63.505611419677734,
          68.86418914794922,
          56.265995025634766,
          254.6892852783203,
          96.58317565917969,
          145.4799346923828,
          86.73067474365234,
          121.526611328125,
          189.39901733398438,
          105.23240661621094,
          164.64642333984375,
          130.77813720703125,
          71.28010559082031,
          102.31756591796875,
          235.4696807861328,
          202.35040283203125,
          69.57295227050781,
          82.13277435302734,
          89.3723373413086,
          172.0142364501953,
          59.9943962097168,
          135.3187713623047,
          69.62342834472656,
          117.85779571533203,
          204.25765991210938,
          63.69622039794922,
          45.298194885253906,
          46.35615158081055,
          75.12921905517578,
          295.5064392089844,
          84.85417175292969,
          115.6729965209961,
          73.66439056396484,
          74.6982421875,
          252.0652313232422,
          119.5610122680664,
          101.3760986328125,
          91.81405639648438,
          211.19679260253906,
          76.024169921875,
          101.38731384277344,
          132.90652465820312,
          54.596885681152344,
          47.22732162475586,
          133.1704864501953,
          118.30148315429688,
          110.52931213378906,
          91.230224609375,
          404.15045166015625,
          79.2662353515625,
          60.605918884277344,
          106.0629653930664,
          118.52337646484375,
          113.53108215332031,
          79.55393981933594,
          61.53590393066406,
          86.99758911132812,
          80.13117980957031,
          86.39085388183594,
          161.44186401367188,
          105.05648040771484,
          577.3375244140625,
          214.93385314941406,
          130.69883728027344,
          99.3846435546875,
          152.1396484375,
          81.75212097167969,
          110.51292419433594,
          109.91696166992188,
          62.197410583496094,
          244.96627807617188,
          309.846435546875,
          144.02520751953125,
          194.45953369140625,
          87.84555053710938,
          34.96514129638672,
          56.909454345703125,
          45.04964065551758,
          72.0574951171875,
          187.45193481445312,
          166.91839599609375,
          144.4422607421875,
          98.04647064208984,
          93.99203491210938,
          50.653533935546875,
          109.24822998046875,
          126.84611511230469,
          109.18895721435547,
          67.96534729003906,
          107.85199737548828,
          60.16370391845703,
          111.26519012451172,
          90.97201538085938,
          42.621116638183594,
          169.63528442382812,
          89.40596771240234,
          59.826133728027344,
          181.99383544921875,
          178.23043823242188,
          75.65917205810547,
          346.4258117675781,
          84.06153106689453,
          91.42013549804688,
          75.24107360839844,
          115.79744720458984,
          36.69051742553711,
          81.31509399414062,
          54.54639434814453,
          126.27900695800781,
          91.06267547607422,
          33.982826232910156,
          86.08507537841797,
          234.12281799316406,
          274.2539978027344,
          176.64866638183594,
          150.0787811279297,
          62.97593307495117,
          134.28941345214844,
          72.91874694824219,
          165.78717041015625,
          147.0459442138672,
          111.3100814819336,
          84.66413879394531,
          86.78155517578125,
          123.03290557861328,
          154.94427490234375,
          45.26839828491211,
          166.7390899658203,
          99.21759033203125,
          213.17816162109375,
          338.4520263671875,
          218.94857788085938,
          94.43376922607422,
          117.36400604248047,
          80.78935241699219,
          90.88221740722656,
          246.15699768066406,
          87.70379638671875,
          87.0578842163086,
          121.51513671875,
          331.7935791015625,
          56.54655075073242,
          163.51695251464844,
          103.03732299804688,
          74.71405792236328,
          193.9253387451172,
          201.17359924316406,
          123.43643188476562,
          180.18112182617188,
          182.42904663085938,
          192.1309814453125,
          192.4293212890625,
          174.78848266601562,
          73.58473205566406,
          94.22785186767578,
          111.33795166015625,
          54.90009689331055,
          139.74667358398438,
          138.75929260253906,
          86.4005355834961,
          125.55341339111328,
          38.42776107788086,
          108.72723388671875,
          39.8914794921875,
          103.99996948242188,
          80.86570739746094,
          116.36091613769531,
          182.01840209960938,
          174.31838989257812,
          142.5814971923828,
          59.197662353515625,
          274.2256164550781,
          146.92965698242188,
          90.08179473876953,
          64.85106658935547,
          101.31926727294922,
          192.10696411132812,
          159.97711181640625,
          63.97101593017578,
          244.62356567382812,
          183.03305053710938,
          83.74067687988281,
          132.8794708251953,
          108.75482177734375,
          74.33662414550781,
          432.1345520019531,
          117.6912841796875,
          142.06253051757812,
          262.4698181152344,
          234.2243194580078,
          347.9779052734375,
          168.0769805908203,
          124.52408599853516,
          74.36200714111328,
          81.56358337402344,
          90.03992462158203,
          126.61448669433594,
          88.98723602294922,
          77.45610809326172,
          118.38121032714844,
          221.1225128173828,
          53.57240295410156,
          137.59524536132812,
          51.27190017700195,
          54.07177734375,
          164.34780883789062,
          149.9561004638672,
          78.66021728515625,
          95.63549041748047,
          79.9705581665039,
          106.55198669433594,
          51.95414352416992,
          144.88760375976562,
          149.63546752929688,
          295.37164306640625,
          67.13593292236328,
          109.10885620117188,
          224.97621154785156,
          170.0653533935547,
          252.16873168945312,
          456.579833984375,
          274.25909423828125,
          172.1910858154297,
          120.76962280273438,
          191.80958557128906,
          215.1453857421875,
          89.77523803710938,
          235.54031372070312,
          106.71281433105469,
          76.421142578125,
          104.53309631347656,
          172.8335418701172,
          307.793701171875,
          107.4095458984375,
          116.21652221679688,
          197.5399169921875,
          106.60118103027344,
          244.61190795898438,
          67.45708465576172,
          155.90603637695312,
          178.58749389648438,
          193.02464294433594,
          168.4180908203125,
          129.60748291015625,
          279.94696044921875,
          214.75160217285156,
          101.80525207519531,
          233.09176635742188,
          187.72189331054688,
          159.34120178222656,
          75.3888931274414,
          205.30804443359375,
          391.34808349609375,
          205.7552490234375,
          119.26327514648438,
          147.5790252685547,
          134.40126037597656,
          212.00074768066406,
          102.11450958251953,
          109.21031188964844,
          158.94309997558594,
          155.37643432617188,
          70.74327850341797,
          217.506103515625,
          319.27618408203125,
          68.40110778808594,
          85.24885559082031,
          220.01596069335938,
          108.27520751953125,
          180.98529052734375,
          140.09507751464844,
          159.483642578125,
          109.76898956298828,
          92.95379638671875,
          134.5269317626953,
          124.42952728271484,
          51.214881896972656,
          222.3533477783203,
          397.7579650878906,
          112.32923126220703,
          140.4147491455078,
          436.5546875,
          156.4515380859375,
          79.10482025146484,
          68.15263366699219,
          218.04713439941406,
          131.7086639404297,
          157.4009552001953,
          334.9288635253906,
          199.8358612060547,
          186.40087890625,
          114.01908111572266,
          41.75517654418945,
          185.534423828125,
          81.4941177368164,
          221.2052001953125,
          309.0326843261719,
          232.37120056152344,
          124.87847900390625,
          185.86611938476562,
          155.75839233398438,
          150.1883087158203,
          153.6200714111328,
          272.5469665527344,
          64.69389343261719,
          193.7239532470703,
          418.81280517578125,
          340.6744689941406,
          276.9504089355469,
          85.81126403808594,
          155.09913635253906,
          113.54012298583984,
          246.96693420410156,
          68.16381072998047,
          125.4373779296875,
          213.14736938476562,
          120.32184600830078,
          193.52349853515625,
          287.23992919921875,
          205.2337646484375,
          81.63926696777344,
          99.19747924804688,
          102.88434600830078,
          147.22161865234375,
          78.22904968261719,
          55.36824035644531,
          307.94488525390625,
          230.568603515625,
          143.30296325683594,
          83.25005340576172,
          97.70889282226562,
          98.44480895996094,
          118.05020904541016,
          469.393798828125,
          145.0623779296875,
          239.49813842773438,
          138.7781524658203,
          276.0724182128906,
          119.80658721923828,
          158.0302734375,
          191.82760620117188,
          182.54217529296875,
          91.19438171386719,
          290.8219909667969,
          150.5564422607422,
          133.36952209472656,
          211.0502166748047,
          75.09906005859375,
          246.53182983398438,
          200.6439208984375,
          102.7952880859375,
          158.08370971679688,
          231.08987426757812,
          33.68064880371094,
          34.86289596557617,
          161.0831298828125,
          96.10626220703125,
          351.5479736328125,
          187.1177520751953,
          96.11079406738281,
          63.63911437988281,
          69.43689727783203,
          105.57271575927734,
          101.86759948730469,
          32.197975158691406,
          194.03309631347656,
          46.5433349609375,
          160.01870727539062,
          166.24917602539062,
          107.21366882324219,
          141.19808959960938,
          147.59619140625,
          186.6313934326172,
          63.716270446777344,
          110.39595031738281,
          149.42747497558594,
          185.64175415039062,
          127.25279998779297,
          159.86044311523438,
          189.46017456054688,
          260.7789306640625,
          62.73238754272461,
          58.73062515258789,
          79.20204162597656,
          134.65322875976562,
          283.57244873046875,
          64.0688247680664,
          110.06171417236328,
          149.13853454589844,
          84.10423278808594,
          190.60525512695312,
          234.39425659179688,
          128.028564453125,
          93.2672119140625,
          277.4999084472656,
          147.57656860351562,
          127.04351043701172,
          73.07681274414062,
          65.81989288330078,
          93.35797119140625,
          107.95042419433594,
          68.14892578125,
          100.6380844116211,
          304.55816650390625,
          70.26287078857422,
          85.32820129394531,
          91.43700408935547,
          178.9508819580078,
          105.44915771484375,
          447.4881591796875,
          141.10791015625,
          97.52884674072266,
          264.7939147949219,
          254.07127380371094,
          155.50784301757812,
          329.0658874511719,
          56.179054260253906,
          82.135986328125,
          267.9693908691406,
          101.86006927490234,
          200.791015625,
          163.47914123535156,
          154.98558044433594,
          146.4874725341797,
          118.73601531982422,
          318.55584716796875,
          135.7315216064453,
          98.7030029296875,
          181.07351684570312,
          170.7894287109375,
          75.22393035888672,
          169.93589782714844,
          145.3103485107422,
          85.41230773925781,
          78.72607421875,
          164.9544677734375,
          317.1623229980469,
          51.68430709838867,
          167.34994506835938,
          108.06048583984375,
          124.33486938476562,
          120.06600189208984,
          225.0670928955078,
          97.62619018554688,
          164.64132690429688,
          164.32688903808594,
          65.822998046875,
          86.4486312866211,
          53.01468276977539,
          106.726806640625,
          314.1611328125,
          206.33876037597656,
          184.34866333007812,
          63.07369613647461,
          84.30447387695312,
          199.90838623046875,
          225.55462646484375,
          61.017852783203125,
          116.32608032226562,
          104.28849029541016,
          262.4179992675781,
          113.40685272216797,
          165.13177490234375,
          51.6431884765625,
          362.5382080078125,
          51.05109405517578,
          294.9869384765625,
          121.73272705078125,
          174.39645385742188,
          287.6453857421875,
          172.498779296875,
          73.06401824951172,
          181.3307342529297,
          210.18600463867188,
          214.02609252929688,
          221.78143310546875,
          72.92385864257812,
          132.6838836669922,
          75.98249816894531,
          128.5740966796875,
          105.84375,
          93.75949096679688,
          113.54293823242188,
          97.32540893554688,
          106.20365905761719,
          55.92876434326172,
          43.37714767456055,
          45.376121520996094,
          131.90469360351562,
          101.9595947265625,
          184.2454833984375,
          142.98025512695312,
          221.82754516601562,
          106.7200927734375,
          103.44119262695312,
          105.95948791503906,
          172.11508178710938,
          241.36216735839844,
          136.7071990966797,
          78.151611328125,
          128.48260498046875,
          54.95124816894531,
          112.34251403808594,
          133.79310607910156,
          219.62709045410156,
          162.29916381835938,
          120.94833374023438,
          498.0737609863281,
          123.25868225097656,
          113.43502807617188,
          141.9434356689453,
          185.23068237304688,
          118.3472900390625,
          94.48403930664062,
          195.8764190673828,
          113.22956848144531,
          132.0139923095703,
          72.6244888305664,
          114.4260482788086,
          50.09880828857422,
          94.01484680175781,
          183.9915771484375,
          193.1694793701172,
          53.9476432800293,
          182.8455047607422,
          301.9616394042969,
          249.24217224121094,
          188.59432983398438,
          620.9902954101562,
          79.3156509399414,
          140.29127502441406,
          72.07227325439453,
          113.93114471435547,
          153.1007080078125,
          123.327880859375,
          69.44733428955078,
          213.69284057617188,
          151.73126220703125,
          188.5295867919922,
          68.9179916381836,
          107.42235565185547,
          448.1751403808594,
          173.19125366210938,
          160.60623168945312,
          71.838134765625,
          203.2191162109375,
          316.7942810058594,
          156.37620544433594,
          235.40771484375,
          162.92823791503906,
          154.4354705810547,
          71.4052963256836,
          177.4462890625,
          175.8599090576172,
          177.71286010742188,
          241.14163208007812,
          170.21551513671875,
          117.69908905029297,
          90.36492156982422,
          165.7082977294922,
          73.79999542236328,
          205.78851318359375,
          215.17001342773438,
          47.11042022705078,
          82.58061218261719,
          130.33438110351562,
          227.7776641845703,
          214.8596649169922,
          155.58543395996094,
          136.37222290039062,
          132.64903259277344,
          106.57881164550781,
          110.94974517822266,
          327.4759826660156,
          114.39271545410156,
          114.94589233398438,
          54.65814208984375,
          51.19829177856445,
          118.9540786743164,
          179.39105224609375,
          103.82951354980469,
          85.02322387695312,
          78.70201873779297,
          164.79714965820312,
          281.7778625488281,
          145.50851440429688,
          191.788818359375,
          337.9031066894531,
          219.77468872070312,
          128.2729949951172,
          173.1229705810547,
          72.67371368408203,
          139.34841918945312,
          74.384033203125,
          103.2479248046875,
          350.6248779296875,
          90.28274536132812,
          67.27324676513672,
          53.39731979370117,
          168.88333129882812,
          267.2112121582031,
          63.56684112548828,
          99.33499145507812,
          163.08502197265625,
          87.739013671875,
          82.32454681396484,
          181.79843139648438,
          57.77040481567383,
          102.2423095703125,
          166.67279052734375,
          110.74170684814453,
          172.15118408203125,
          181.3755340576172,
          97.61064147949219,
          73.78113555908203,
          115.27132415771484,
          271.67022705078125,
          217.38987731933594,
          320.82916259765625,
          48.54115295410156,
          186.7678680419922,
          66.53604888916016,
          72.80776977539062,
          131.7582244873047,
          155.4211883544922,
          157.9521484375,
          135.24130249023438,
          98.54414367675781,
          129.20645141601562,
          127.17279052734375,
          171.92526245117188,
          75.265869140625,
          96.75077056884766,
          210.68994140625,
          138.4212646484375,
          123.86094665527344,
          114.00765991210938,
          103.38916778564453,
          73.59740447998047,
          113.92413330078125,
          327.5768737792969,
          167.90931701660156,
          143.3878631591797,
          155.02105712890625,
          262.70782470703125,
          249.07833862304688,
          102.05901336669922,
          188.15069580078125,
          77.16061401367188,
          97.58881378173828,
          203.753173828125,
          152.4254608154297,
          142.73196411132812,
          98.59335327148438,
          70.65778350830078,
          120.97976684570312,
          123.05390930175781,
          109.08155059814453,
          434.65869140625,
          197.26788330078125,
          136.24612426757812,
          106.16355895996094,
          45.20072555541992,
          78.3741455078125,
          70.13754272460938,
          53.75660705566406,
          189.89483642578125,
          87.78956604003906,
          74.22325134277344,
          89.0938491821289,
          130.31890869140625,
          176.60133361816406,
          166.08999633789062,
          137.07940673828125,
          151.7993621826172,
          101.52427673339844,
          132.31390380859375,
          187.54168701171875,
          219.6482391357422,
          170.30010986328125,
          82.9478759765625,
          255.989013671875,
          65.43373107910156,
          131.76947021484375,
          117.29524230957031,
          215.1548309326172,
          95.61688232421875,
          71.7763671875,
          128.6870880126953,
          91.17268371582031,
          133.17442321777344,
          106.53181457519531,
          242.06893920898438,
          165.38204956054688,
          50.700401306152344,
          442.4593505859375,
          258.95440673828125,
          143.4033203125,
          42.300872802734375,
          157.197021484375,
          87.45323181152344,
          190.49131774902344,
          172.6853485107422,
          183.18655395507812,
          98.00370788574219,
          116.390380859375,
          118.06631469726562,
          111.25150299072266,
          95.28353881835938,
          118.41300201416016,
          49.01167678833008,
          147.20912170410156,
          91.79290771484375,
          121.29815673828125,
          117.85004425048828,
          170.0005645751953,
          222.9137725830078,
          475.658203125,
          194.4141082763672,
          54.09116744995117,
          655.3240356445312,
          80.43966674804688,
          62.155460357666016,
          170.06915283203125,
          49.82111358642578,
          188.14556884765625,
          131.3706512451172,
          57.731163024902344,
          83.77186584472656,
          79.14994812011719,
          150.28466796875,
          240.55386352539062,
          167.60614013671875,
          182.12640380859375,
          42.435646057128906,
          143.26744079589844,
          121.42581939697266,
          75.42959594726562,
          117.51800537109375,
          202.1302490234375,
          409.7597961425781,
          257.1258850097656,
          331.3478698730469,
          91.70033264160156,
          143.57305908203125,
          102.57930755615234,
          219.94662475585938,
          113.01800537109375,
          131.2942352294922,
          180.2354278564453,
          113.6317138671875,
          58.98675537109375,
          110.98382568359375,
          129.1046600341797,
          89.69316864013672,
          111.95294189453125,
          67.53203582763672,
          191.93638610839844,
          54.371070861816406,
          106.77399444580078,
          182.70831298828125,
          273.5840759277344,
          68.75154876708984,
          316.7510986328125,
          55.19257736206055,
          51.128761291503906,
          114.19068908691406,
          202.09603881835938,
          134.37857055664062,
          88.63164520263672,
          66.16543579101562,
          193.669189453125,
          100.39814758300781,
          110.6719741821289,
          106.99794006347656,
          282.118408203125,
          54.307342529296875,
          83.68418884277344,
          65.34156799316406,
          74.61251831054688,
          165.46566772460938,
          210.75112915039062,
          109.79537963867188,
          49.33391571044922,
          71.07328033447266,
          67.34597778320312,
          98.86000061035156,
          303.5846862792969,
          156.54302978515625,
          331.096435546875,
          172.2227783203125,
          94.47760009765625,
          121.1565933227539,
          157.6200408935547,
          220.06979370117188,
          56.6845588684082,
          132.47235107421875,
          62.16017150878906,
          85.8586654663086,
          480.16851806640625,
          85.8091812133789,
          429.0367126464844,
          141.64891052246094,
          65.30213165283203,
          75.91246032714844,
          105.93392944335938,
          390.34466552734375,
          151.8570556640625,
          144.5942840576172,
          133.11068725585938,
          284.75006103515625,
          260.6370849609375,
          151.5579376220703,
          139.50997924804688,
          280.4427795410156,
          242.2532196044922,
          134.64938354492188,
          91.01327514648438,
          66.88191223144531,
          195.61843872070312,
          145.95465087890625,
          147.5008544921875,
          334.07965087890625,
          97.02015686035156,
          121.18669128417969,
          119.6421127319336,
          139.01856994628906,
          68.97283172607422,
          86.7114486694336,
          63.21382141113281,
          293.1867980957031,
          151.7458038330078,
          119.4590072631836,
          116.17740631103516,
          271.8276672363281,
          175.12786865234375,
          443.6938171386719,
          185.555908203125,
          90.62464904785156,
          51.42594909667969,
          120.45278930664062,
          450.2633972167969,
          96.7544174194336,
          70.0374526977539,
          222.635986328125,
          72.22416687011719,
          66.88905334472656,
          99.57058715820312,
          55.82000732421875,
          126.52600860595703,
          168.3858184814453,
          291.69989013671875,
          402.54217529296875,
          156.27981567382812,
          133.26539611816406,
          215.228515625,
          147.47653198242188,
          117.35768127441406,
          140.40577697753906,
          253.03054809570312,
          301.18267822265625,
          35.922218322753906,
          19.49831199645996,
          221.38037109375,
          50.04936981201172,
          207.94964599609375,
          179.2195281982422
         ],
         "yaxis": "y"
        }
       ],
       "layout": {
        "legend": {
         "title": {
          "text": "selected"
         },
         "tracegroupgap": 0
        },
        "margin": {
         "t": 60
        },
        "template": {
         "data": {
          "bar": [
           {
            "error_x": {
             "color": "#2a3f5f"
            },
            "error_y": {
             "color": "#2a3f5f"
            },
            "marker": {
             "line": {
              "color": "#E5ECF6",
              "width": 0.5
             },
             "pattern": {
              "fillmode": "overlay",
              "size": 10,
              "solidity": 0.2
             }
            },
            "type": "bar"
           }
          ],
          "barpolar": [
           {
            "marker": {
             "line": {
              "color": "#E5ECF6",
              "width": 0.5
             },
             "pattern": {
              "fillmode": "overlay",
              "size": 10,
              "solidity": 0.2
             }
            },
            "type": "barpolar"
           }
          ],
          "carpet": [
           {
            "aaxis": {
             "endlinecolor": "#2a3f5f",
             "gridcolor": "white",
             "linecolor": "white",
             "minorgridcolor": "white",
             "startlinecolor": "#2a3f5f"
            },
            "baxis": {
             "endlinecolor": "#2a3f5f",
             "gridcolor": "white",
             "linecolor": "white",
             "minorgridcolor": "white",
             "startlinecolor": "#2a3f5f"
            },
            "type": "carpet"
           }
          ],
          "choropleth": [
           {
            "colorbar": {
             "outlinewidth": 0,
             "ticks": ""
            },
            "type": "choropleth"
           }
          ],
          "contour": [
           {
            "colorbar": {
             "outlinewidth": 0,
             "ticks": ""
            },
            "colorscale": [
             [
              0,
              "#0d0887"
             ],
             [
              0.1111111111111111,
              "#46039f"
             ],
             [
              0.2222222222222222,
              "#7201a8"
             ],
             [
              0.3333333333333333,
              "#9c179e"
             ],
             [
              0.4444444444444444,
              "#bd3786"
             ],
             [
              0.5555555555555556,
              "#d8576b"
             ],
             [
              0.6666666666666666,
              "#ed7953"
             ],
             [
              0.7777777777777778,
              "#fb9f3a"
             ],
             [
              0.8888888888888888,
              "#fdca26"
             ],
             [
              1,
              "#f0f921"
             ]
            ],
            "type": "contour"
           }
          ],
          "contourcarpet": [
           {
            "colorbar": {
             "outlinewidth": 0,
             "ticks": ""
            },
            "type": "contourcarpet"
           }
          ],
          "heatmap": [
           {
            "colorbar": {
             "outlinewidth": 0,
             "ticks": ""
            },
            "colorscale": [
             [
              0,
              "#0d0887"
             ],
             [
              0.1111111111111111,
              "#46039f"
             ],
             [
              0.2222222222222222,
              "#7201a8"
             ],
             [
              0.3333333333333333,
              "#9c179e"
             ],
             [
              0.4444444444444444,
              "#bd3786"
             ],
             [
              0.5555555555555556,
              "#d8576b"
             ],
             [
              0.6666666666666666,
              "#ed7953"
             ],
             [
              0.7777777777777778,
              "#fb9f3a"
             ],
             [
              0.8888888888888888,
              "#fdca26"
             ],
             [
              1,
              "#f0f921"
             ]
            ],
            "type": "heatmap"
           }
          ],
          "heatmapgl": [
           {
            "colorbar": {
             "outlinewidth": 0,
             "ticks": ""
            },
            "colorscale": [
             [
              0,
              "#0d0887"
             ],
             [
              0.1111111111111111,
              "#46039f"
             ],
             [
              0.2222222222222222,
              "#7201a8"
             ],
             [
              0.3333333333333333,
              "#9c179e"
             ],
             [
              0.4444444444444444,
              "#bd3786"
             ],
             [
              0.5555555555555556,
              "#d8576b"
             ],
             [
              0.6666666666666666,
              "#ed7953"
             ],
             [
              0.7777777777777778,
              "#fb9f3a"
             ],
             [
              0.8888888888888888,
              "#fdca26"
             ],
             [
              1,
              "#f0f921"
             ]
            ],
            "type": "heatmapgl"
           }
          ],
          "histogram": [
           {
            "marker": {
             "pattern": {
              "fillmode": "overlay",
              "size": 10,
              "solidity": 0.2
             }
            },
            "type": "histogram"
           }
          ],
          "histogram2d": [
           {
            "colorbar": {
             "outlinewidth": 0,
             "ticks": ""
            },
            "colorscale": [
             [
              0,
              "#0d0887"
             ],
             [
              0.1111111111111111,
              "#46039f"
             ],
             [
              0.2222222222222222,
              "#7201a8"
             ],
             [
              0.3333333333333333,
              "#9c179e"
             ],
             [
              0.4444444444444444,
              "#bd3786"
             ],
             [
              0.5555555555555556,
              "#d8576b"
             ],
             [
              0.6666666666666666,
              "#ed7953"
             ],
             [
              0.7777777777777778,
              "#fb9f3a"
             ],
             [
              0.8888888888888888,
              "#fdca26"
             ],
             [
              1,
              "#f0f921"
             ]
            ],
            "type": "histogram2d"
           }
          ],
          "histogram2dcontour": [
           {
            "colorbar": {
             "outlinewidth": 0,
             "ticks": ""
            },
            "colorscale": [
             [
              0,
              "#0d0887"
             ],
             [
              0.1111111111111111,
              "#46039f"
             ],
             [
              0.2222222222222222,
              "#7201a8"
             ],
             [
              0.3333333333333333,
              "#9c179e"
             ],
             [
              0.4444444444444444,
              "#bd3786"
             ],
             [
              0.5555555555555556,
              "#d8576b"
             ],
             [
              0.6666666666666666,
              "#ed7953"
             ],
             [
              0.7777777777777778,
              "#fb9f3a"
             ],
             [
              0.8888888888888888,
              "#fdca26"
             ],
             [
              1,
              "#f0f921"
             ]
            ],
            "type": "histogram2dcontour"
           }
          ],
          "mesh3d": [
           {
            "colorbar": {
             "outlinewidth": 0,
             "ticks": ""
            },
            "type": "mesh3d"
           }
          ],
          "parcoords": [
           {
            "line": {
             "colorbar": {
              "outlinewidth": 0,
              "ticks": ""
             }
            },
            "type": "parcoords"
           }
          ],
          "pie": [
           {
            "automargin": true,
            "type": "pie"
           }
          ],
          "scatter": [
           {
            "fillpattern": {
             "fillmode": "overlay",
             "size": 10,
             "solidity": 0.2
            },
            "type": "scatter"
           }
          ],
          "scatter3d": [
           {
            "line": {
             "colorbar": {
              "outlinewidth": 0,
              "ticks": ""
             }
            },
            "marker": {
             "colorbar": {
              "outlinewidth": 0,
              "ticks": ""
             }
            },
            "type": "scatter3d"
           }
          ],
          "scattercarpet": [
           {
            "marker": {
             "colorbar": {
              "outlinewidth": 0,
              "ticks": ""
             }
            },
            "type": "scattercarpet"
           }
          ],
          "scattergeo": [
           {
            "marker": {
             "colorbar": {
              "outlinewidth": 0,
              "ticks": ""
             }
            },
            "type": "scattergeo"
           }
          ],
          "scattergl": [
           {
            "marker": {
             "colorbar": {
              "outlinewidth": 0,
              "ticks": ""
             }
            },
            "type": "scattergl"
           }
          ],
          "scattermapbox": [
           {
            "marker": {
             "colorbar": {
              "outlinewidth": 0,
              "ticks": ""
             }
            },
            "type": "scattermapbox"
           }
          ],
          "scatterpolar": [
           {
            "marker": {
             "colorbar": {
              "outlinewidth": 0,
              "ticks": ""
             }
            },
            "type": "scatterpolar"
           }
          ],
          "scatterpolargl": [
           {
            "marker": {
             "colorbar": {
              "outlinewidth": 0,
              "ticks": ""
             }
            },
            "type": "scatterpolargl"
           }
          ],
          "scatterternary": [
           {
            "marker": {
             "colorbar": {
              "outlinewidth": 0,
              "ticks": ""
             }
            },
            "type": "scatterternary"
           }
          ],
          "surface": [
           {
            "colorbar": {
             "outlinewidth": 0,
             "ticks": ""
            },
            "colorscale": [
             [
              0,
              "#0d0887"
             ],
             [
              0.1111111111111111,
              "#46039f"
             ],
             [
              0.2222222222222222,
              "#7201a8"
             ],
             [
              0.3333333333333333,
              "#9c179e"
             ],
             [
              0.4444444444444444,
              "#bd3786"
             ],
             [
              0.5555555555555556,
              "#d8576b"
             ],
             [
              0.6666666666666666,
              "#ed7953"
             ],
             [
              0.7777777777777778,
              "#fb9f3a"
             ],
             [
              0.8888888888888888,
              "#fdca26"
             ],
             [
              1,
              "#f0f921"
             ]
            ],
            "type": "surface"
           }
          ],
          "table": [
           {
            "cells": {
             "fill": {
              "color": "#EBF0F8"
             },
             "line": {
              "color": "white"
             }
            },
            "header": {
             "fill": {
              "color": "#C8D4E3"
             },
             "line": {
              "color": "white"
             }
            },
            "type": "table"
           }
          ]
         },
         "layout": {
          "annotationdefaults": {
           "arrowcolor": "#2a3f5f",
           "arrowhead": 0,
           "arrowwidth": 1
          },
          "autotypenumbers": "strict",
          "coloraxis": {
           "colorbar": {
            "outlinewidth": 0,
            "ticks": ""
           }
          },
          "colorscale": {
           "diverging": [
            [
             0,
             "#8e0152"
            ],
            [
             0.1,
             "#c51b7d"
            ],
            [
             0.2,
             "#de77ae"
            ],
            [
             0.3,
             "#f1b6da"
            ],
            [
             0.4,
             "#fde0ef"
            ],
            [
             0.5,
             "#f7f7f7"
            ],
            [
             0.6,
             "#e6f5d0"
            ],
            [
             0.7,
             "#b8e186"
            ],
            [
             0.8,
             "#7fbc41"
            ],
            [
             0.9,
             "#4d9221"
            ],
            [
             1,
             "#276419"
            ]
           ],
           "sequential": [
            [
             0,
             "#0d0887"
            ],
            [
             0.1111111111111111,
             "#46039f"
            ],
            [
             0.2222222222222222,
             "#7201a8"
            ],
            [
             0.3333333333333333,
             "#9c179e"
            ],
            [
             0.4444444444444444,
             "#bd3786"
            ],
            [
             0.5555555555555556,
             "#d8576b"
            ],
            [
             0.6666666666666666,
             "#ed7953"
            ],
            [
             0.7777777777777778,
             "#fb9f3a"
            ],
            [
             0.8888888888888888,
             "#fdca26"
            ],
            [
             1,
             "#f0f921"
            ]
           ],
           "sequentialminus": [
            [
             0,
             "#0d0887"
            ],
            [
             0.1111111111111111,
             "#46039f"
            ],
            [
             0.2222222222222222,
             "#7201a8"
            ],
            [
             0.3333333333333333,
             "#9c179e"
            ],
            [
             0.4444444444444444,
             "#bd3786"
            ],
            [
             0.5555555555555556,
             "#d8576b"
            ],
            [
             0.6666666666666666,
             "#ed7953"
            ],
            [
             0.7777777777777778,
             "#fb9f3a"
            ],
            [
             0.8888888888888888,
             "#fdca26"
            ],
            [
             1,
             "#f0f921"
            ]
           ]
          },
          "colorway": [
           "#636efa",
           "#EF553B",
           "#00cc96",
           "#ab63fa",
           "#FFA15A",
           "#19d3f3",
           "#FF6692",
           "#B6E880",
           "#FF97FF",
           "#FECB52"
          ],
          "font": {
           "color": "#2a3f5f"
          },
          "geo": {
           "bgcolor": "white",
           "lakecolor": "white",
           "landcolor": "#E5ECF6",
           "showlakes": true,
           "showland": true,
           "subunitcolor": "white"
          },
          "hoverlabel": {
           "align": "left"
          },
          "hovermode": "closest",
          "mapbox": {
           "style": "light"
          },
          "paper_bgcolor": "white",
          "plot_bgcolor": "#E5ECF6",
          "polar": {
           "angularaxis": {
            "gridcolor": "white",
            "linecolor": "white",
            "ticks": ""
           },
           "bgcolor": "#E5ECF6",
           "radialaxis": {
            "gridcolor": "white",
            "linecolor": "white",
            "ticks": ""
           }
          },
          "scene": {
           "xaxis": {
            "backgroundcolor": "#E5ECF6",
            "gridcolor": "white",
            "gridwidth": 2,
            "linecolor": "white",
            "showbackground": true,
            "ticks": "",
            "zerolinecolor": "white"
           },
           "yaxis": {
            "backgroundcolor": "#E5ECF6",
            "gridcolor": "white",
            "gridwidth": 2,
            "linecolor": "white",
            "showbackground": true,
            "ticks": "",
            "zerolinecolor": "white"
           },
           "zaxis": {
            "backgroundcolor": "#E5ECF6",
            "gridcolor": "white",
            "gridwidth": 2,
            "linecolor": "white",
            "showbackground": true,
            "ticks": "",
            "zerolinecolor": "white"
           }
          },
          "shapedefaults": {
           "line": {
            "color": "#2a3f5f"
           }
          },
          "ternary": {
           "aaxis": {
            "gridcolor": "white",
            "linecolor": "white",
            "ticks": ""
           },
           "baxis": {
            "gridcolor": "white",
            "linecolor": "white",
            "ticks": ""
           },
           "bgcolor": "#E5ECF6",
           "caxis": {
            "gridcolor": "white",
            "linecolor": "white",
            "ticks": ""
           }
          },
          "title": {
           "x": 0.05
          },
          "xaxis": {
           "automargin": true,
           "gridcolor": "white",
           "linecolor": "white",
           "ticks": "",
           "title": {
            "standoff": 15
           },
           "zerolinecolor": "white",
           "zerolinewidth": 2
          },
          "yaxis": {
           "automargin": true,
           "gridcolor": "white",
           "linecolor": "white",
           "ticks": "",
           "title": {
            "standoff": 15
           },
           "zerolinecolor": "white",
           "zerolinewidth": 2
          }
         }
        },
        "xaxis": {
         "anchor": "y",
         "domain": [
          0,
          1
         ],
         "title": {
          "text": "perplexity"
         }
        },
        "yaxis": {
         "anchor": "x",
         "domain": [
          0,
          1
         ],
         "title": {
          "text": "gpt2_perplexity"
         }
        }
       }
      }
     },
     "metadata": {},
     "output_type": "display_data"
    }
   ],
   "source": [
    "import seaborn as sns\n",
    "import matplotlib.pyplot as plt\n",
    "import numpy as np\n",
    "import plotly.express as px\n",
    "\n",
    "\n",
    "# plot scatter plot with regression line\n",
    "fig = px.scatter(df_plots, x='perplexity', y='gpt2_perplexity', hover_data=['line', 'id', 'zlib_entropy'], color='selected')\n",
    "\n",
    "# show the plot\n",
    "fig.show()"
   ]
  },
  {
   "cell_type": "code",
   "execution_count": 148,
   "metadata": {},
   "outputs": [
    {
     "data": {
      "text/plain": [
       "'the fight between man and machine . five films based on five major box office hit films in the great depression , / 1993 . the first attack on al dealey , / 1995 the life of barry levinson , / 1997 .\\n'"
      ]
     },
     "execution_count": 148,
     "metadata": {},
     "output_type": "execute_result"
    }
   ],
   "source": [
    "df_plots.iloc[212]['line']"
   ]
  },
  {
   "cell_type": "code",
   "execution_count": 149,
   "metadata": {},
   "outputs": [],
   "source": [
    "#df_filtered = df_plots[df_plots['selected']]\n",
    "df_filtered = df_plots.copy()"
   ]
  },
  {
   "cell_type": "code",
   "execution_count": 150,
   "metadata": {},
   "outputs": [
    {
     "data": {
      "text/html": [
       "<div>\n",
       "<style scoped>\n",
       "    .dataframe tbody tr th:only-of-type {\n",
       "        vertical-align: middle;\n",
       "    }\n",
       "\n",
       "    .dataframe tbody tr th {\n",
       "        vertical-align: top;\n",
       "    }\n",
       "\n",
       "    .dataframe thead th {\n",
       "        text-align: right;\n",
       "    }\n",
       "</style>\n",
       "<table border=\"1\" class=\"dataframe\">\n",
       "  <thead>\n",
       "    <tr style=\"text-align: right;\">\n",
       "      <th></th>\n",
       "      <th>perplexity</th>\n",
       "      <th>zlib_entropy</th>\n",
       "      <th>gpt2_perplexity</th>\n",
       "      <th>line</th>\n",
       "      <th>idx</th>\n",
       "      <th>id</th>\n",
       "      <th>selected</th>\n",
       "      <th>3gram_accuracy</th>\n",
       "    </tr>\n",
       "  </thead>\n",
       "  <tbody>\n",
       "    <tr>\n",
       "      <th>0</th>\n",
       "      <td>4.322009</td>\n",
       "      <td>139</td>\n",
       "      <td>66.710045</td>\n",
       "      <td>` ` you are threatening life , especially to d...</td>\n",
       "      <td>48848192</td>\n",
       "      <td>0</td>\n",
       "      <td>False</td>\n",
       "      <td>0.023256</td>\n",
       "    </tr>\n",
       "    <tr>\n",
       "      <th>1</th>\n",
       "      <td>3.961453</td>\n",
       "      <td>131</td>\n",
       "      <td>174.877014</td>\n",
       "      <td>` ` you are threatening her . ' ` snipers whic...</td>\n",
       "      <td>48848192</td>\n",
       "      <td>1</td>\n",
       "      <td>False</td>\n",
       "      <td>0.025000</td>\n",
       "    </tr>\n",
       "    <tr>\n",
       "      <th>2</th>\n",
       "      <td>4.382756</td>\n",
       "      <td>132</td>\n",
       "      <td>167.183807</td>\n",
       "      <td>you can click on the stash to make it her favo...</td>\n",
       "      <td>13015892</td>\n",
       "      <td>2</td>\n",
       "      <td>False</td>\n",
       "      <td>0.105263</td>\n",
       "    </tr>\n",
       "    <tr>\n",
       "      <th>3</th>\n",
       "      <td>4.287555</td>\n",
       "      <td>142</td>\n",
       "      <td>118.102234</td>\n",
       "      <td>you can click on the videos or the audio , or ...</td>\n",
       "      <td>13015892</td>\n",
       "      <td>3</td>\n",
       "      <td>False</td>\n",
       "      <td>0.073171</td>\n",
       "    </tr>\n",
       "    <tr>\n",
       "      <th>4</th>\n",
       "      <td>11.184225</td>\n",
       "      <td>139</td>\n",
       "      <td>129.840439</td>\n",
       "      <td>it was beyond all the perukers to understand t...</td>\n",
       "      <td>53532639</td>\n",
       "      <td>4</td>\n",
       "      <td>False</td>\n",
       "      <td>0.071429</td>\n",
       "    </tr>\n",
       "    <tr>\n",
       "      <th>...</th>\n",
       "      <td>...</td>\n",
       "      <td>...</td>\n",
       "      <td>...</td>\n",
       "      <td>...</td>\n",
       "      <td>...</td>\n",
       "      <td>...</td>\n",
       "      <td>...</td>\n",
       "      <td>...</td>\n",
       "    </tr>\n",
       "    <tr>\n",
       "      <th>1995</th>\n",
       "      <td>4.185416</td>\n",
       "      <td>112</td>\n",
       "      <td>19.498312</td>\n",
       "      <td>so for once , i was all kinds of happy with th...</td>\n",
       "      <td>63445738</td>\n",
       "      <td>1995</td>\n",
       "      <td>False</td>\n",
       "      <td>0.069767</td>\n",
       "    </tr>\n",
       "    <tr>\n",
       "      <th>1996</th>\n",
       "      <td>3.370690</td>\n",
       "      <td>141</td>\n",
       "      <td>221.380371</td>\n",
       "      <td>through the door , i heard another one of my f...</td>\n",
       "      <td>27028465</td>\n",
       "      <td>1996</td>\n",
       "      <td>False</td>\n",
       "      <td>0.100000</td>\n",
       "    </tr>\n",
       "    <tr>\n",
       "      <th>1997</th>\n",
       "      <td>2.418173</td>\n",
       "      <td>133</td>\n",
       "      <td>50.049370</td>\n",
       "      <td>through the door , i slowly turned around , an...</td>\n",
       "      <td>27028465</td>\n",
       "      <td>1997</td>\n",
       "      <td>False</td>\n",
       "      <td>0.071429</td>\n",
       "    </tr>\n",
       "    <tr>\n",
       "      <th>1998</th>\n",
       "      <td>9.500776</td>\n",
       "      <td>145</td>\n",
       "      <td>207.949646</td>\n",
       "      <td>he smiled and stared at the other boys , wonde...</td>\n",
       "      <td>68518599</td>\n",
       "      <td>1998</td>\n",
       "      <td>False</td>\n",
       "      <td>0.075000</td>\n",
       "    </tr>\n",
       "    <tr>\n",
       "      <th>1999</th>\n",
       "      <td>5.510560</td>\n",
       "      <td>142</td>\n",
       "      <td>179.219528</td>\n",
       "      <td>he smiled and stared at the swank which awaite...</td>\n",
       "      <td>68518599</td>\n",
       "      <td>1999</td>\n",
       "      <td>False</td>\n",
       "      <td>0.076923</td>\n",
       "    </tr>\n",
       "  </tbody>\n",
       "</table>\n",
       "<p>2000 rows × 8 columns</p>\n",
       "</div>"
      ],
      "text/plain": [
       "      perplexity zlib_entropy  gpt2_perplexity  \\\n",
       "0       4.322009          139        66.710045   \n",
       "1       3.961453          131       174.877014   \n",
       "2       4.382756          132       167.183807   \n",
       "3       4.287555          142       118.102234   \n",
       "4      11.184225          139       129.840439   \n",
       "...          ...          ...              ...   \n",
       "1995    4.185416          112        19.498312   \n",
       "1996    3.370690          141       221.380371   \n",
       "1997    2.418173          133        50.049370   \n",
       "1998    9.500776          145       207.949646   \n",
       "1999    5.510560          142       179.219528   \n",
       "\n",
       "                                                   line       idx    id  \\\n",
       "0     ` ` you are threatening life , especially to d...  48848192     0   \n",
       "1     ` ` you are threatening her . ' ` snipers whic...  48848192     1   \n",
       "2     you can click on the stash to make it her favo...  13015892     2   \n",
       "3     you can click on the videos or the audio , or ...  13015892     3   \n",
       "4     it was beyond all the perukers to understand t...  53532639     4   \n",
       "...                                                 ...       ...   ...   \n",
       "1995  so for once , i was all kinds of happy with th...  63445738  1995   \n",
       "1996  through the door , i heard another one of my f...  27028465  1996   \n",
       "1997  through the door , i slowly turned around , an...  27028465  1997   \n",
       "1998  he smiled and stared at the other boys , wonde...  68518599  1998   \n",
       "1999  he smiled and stared at the swank which awaite...  68518599  1999   \n",
       "\n",
       "      selected  3gram_accuracy  \n",
       "0        False        0.023256  \n",
       "1        False        0.025000  \n",
       "2        False        0.105263  \n",
       "3        False        0.073171  \n",
       "4        False        0.071429  \n",
       "...        ...             ...  \n",
       "1995     False        0.069767  \n",
       "1996     False        0.100000  \n",
       "1997     False        0.071429  \n",
       "1998     False        0.075000  \n",
       "1999     False        0.076923  \n",
       "\n",
       "[2000 rows x 8 columns]"
      ]
     },
     "execution_count": 150,
     "metadata": {},
     "output_type": "execute_result"
    }
   ],
   "source": [
    "df_filtered"
   ]
  },
  {
   "cell_type": "code",
   "execution_count": 151,
   "metadata": {},
   "outputs": [
    {
     "name": "stdout",
     "output_type": "stream",
     "text": [
      "0.125\n",
      "her head lay on his chest , smelled so sweet , remembered her scent , the unexpectedly raw sensation of him kissing beneath her chemise , her amniotic fluid , and then looking at him like he was being utterly ridiculous .\n",
      "\n",
      "her head lay on his chest , her fingertips tracing her name imprinted in his skin .\n",
      "\n",
      "0.14634146341463414\n",
      "she wanted to remain mad at him , to play a little cat and mouse game and soon they were just a weirder - than - usual pair . what was the conversation between her three seven - day roommates looked like ?\n",
      "\n",
      "she wanted to remain mad at him , but she knew she would forgive him because it was still dark .\n",
      "\n",
      "0.1282051282051282\n",
      "he asked me to accompany him to a bar in virginia beach , where we both had cocktails , and i readily agreed . all around us were people , long - haired blonds and guys , women and bloodchemps .\n",
      "\n",
      "he asked me to accompany him in a reel , and i accepted , thinking nothing of it .\n",
      "\n",
      "0.12195121951219512\n",
      "* * * merlin spent the next week assisting cox in interviewing alden b . bennett , and he encountered two of the same women named mack and edie / grace , and men named lt . watson from the pitt crimson .\n",
      "\n",
      "* * * merlin spent the next day working on a reversed version of the stasis spell he 'd used on himself .\n",
      "\n",
      "0.1282051282051282\n",
      "he kissed the tip of her nose . that strategy encouraged prudent business contacts who were losing themselves in moneypenny on a dull sunday afternoon . the bright colors of night and day were blamed for not being at work .\n",
      "\n",
      "he kissed the tip of her nose , then moved to her temples .\n",
      "\n",
      "0.12195121951219512\n",
      "i hear a female voice in the hall , sweaty and sweating , getting a glass of champagne - thank goodness for our friday night party , then topped off - hippie - hobo number number one with a glass of wine .\n",
      "\n",
      "i hear a female voice in the background .\n",
      "\n",
      "0.15\n",
      "elizabeth nodded , still unable to speak . \" are all that you have ... snakes , snares , more stories than you ever needed . except for the guy in the truck . he was from the local wino . \"\n",
      "\n",
      "elizabeth nodded , still unable to speak .\n",
      "\n",
      "0.12195121951219512\n",
      "but as the days dragged by , the six or seven skirmishes of mr and mrs kollis were never forgotten - and without having a thought or will , he went to bed , stretched and checked himself , and drew breath .\n",
      "\n",
      "but as the days dragged by , she did nothing .\n",
      "\n",
      "0.12195121951219512\n",
      "then , like an idiot , i left before her and came home - left before mom and dad and huber and big daddy and daddy and came home before lela - but something in my eyes seemed distant the whole time .\n",
      "\n",
      "then , like an idiot , i thought something had happened to you .\n",
      "\n"
     ]
    }
   ],
   "source": [
    "for row in df_filtered.iterrows():\n",
    "    gram_accuracy = row[1]['3gram_accuracy']\n",
    "    if gram_accuracy > 0.12:\n",
    "        print(row[1]['3gram_accuracy'])\n",
    "        print(row[1]['line'])\n",
    "        print(ds_book_corpus['train'][row[1]['idx']][\"text\"])\n",
    "        print()"
   ]
  },
  {
   "cell_type": "code",
   "execution_count": 141,
   "metadata": {},
   "outputs": [
    {
     "name": "stderr",
     "output_type": "stream",
     "text": [
      "100%|██████████| 2000/2000 [01:30<00:00, 22.17it/s]\n"
     ]
    }
   ],
   "source": [
    "# create a matrix to calculate the n_gram accuracy comparing the generated text with entries from the book corpus\n",
    "smaller_ds_book_corpus = ds_book_corpus['train'].select(list(range(1000)))\n",
    "\n",
    "output_file = file_path.replace(\".txt\", \"\") + \"-results\" + \"-ngram\" + \".json\"\n",
    "import json\n",
    "\n",
    "for i, row in tqdm(df_filtered.iterrows(), total=len(df_filtered)):\n",
    "    for j, book_sentence in enumerate(smaller_ds_book_corpus):\n",
    "        n_gram_accuracy = calculate_3gram_accuracy(row['line'], book_sentence[\"text\"])\n",
    "        with open(output_file, 'a') as f:\n",
    "            f.write(json.dumps({\n",
    "                \"line\": row['line'],\n",
    "                \"book_sentence\": book_sentence[\"text\"],\n",
    "                \"n_gram_accuracy\": n_gram_accuracy,\n",
    "                \"line_idx\": row['idx'],\n",
    "                \"book_idx\": j\n",
    "            }) + \"\\n\")"
   ]
  },
  {
   "cell_type": "code",
   "execution_count": 142,
   "metadata": {},
   "outputs": [
    {
     "data": {
      "text/html": [
       "<div>\n",
       "<style scoped>\n",
       "    .dataframe tbody tr th:only-of-type {\n",
       "        vertical-align: middle;\n",
       "    }\n",
       "\n",
       "    .dataframe tbody tr th {\n",
       "        vertical-align: top;\n",
       "    }\n",
       "\n",
       "    .dataframe thead th {\n",
       "        text-align: right;\n",
       "    }\n",
       "</style>\n",
       "<table border=\"1\" class=\"dataframe\">\n",
       "  <thead>\n",
       "    <tr style=\"text-align: right;\">\n",
       "      <th></th>\n",
       "      <th>line</th>\n",
       "      <th>book_sentence</th>\n",
       "      <th>n_gram_accuracy</th>\n",
       "      <th>line_idx</th>\n",
       "      <th>book_idx</th>\n",
       "    </tr>\n",
       "  </thead>\n",
       "  <tbody>\n",
       "    <tr>\n",
       "      <th>0</th>\n",
       "      <td>` ` you are threatening life , especially to d...</td>\n",
       "      <td>usually , he would be tearing around the livin...</td>\n",
       "      <td>0.0</td>\n",
       "      <td>48848192</td>\n",
       "      <td>0</td>\n",
       "    </tr>\n",
       "    <tr>\n",
       "      <th>1</th>\n",
       "      <td>` ` you are threatening life , especially to d...</td>\n",
       "      <td>but just one look at a minion sent him practic...</td>\n",
       "      <td>0.0</td>\n",
       "      <td>48848192</td>\n",
       "      <td>1</td>\n",
       "    </tr>\n",
       "    <tr>\n",
       "      <th>2</th>\n",
       "      <td>` ` you are threatening life , especially to d...</td>\n",
       "      <td>that had been megan 's plan when she got him d...</td>\n",
       "      <td>0.0</td>\n",
       "      <td>48848192</td>\n",
       "      <td>2</td>\n",
       "    </tr>\n",
       "    <tr>\n",
       "      <th>3</th>\n",
       "      <td>` ` you are threatening life , especially to d...</td>\n",
       "      <td>he 'd seen the movie almost by mistake , consi...</td>\n",
       "      <td>0.0</td>\n",
       "      <td>48848192</td>\n",
       "      <td>3</td>\n",
       "    </tr>\n",
       "    <tr>\n",
       "      <th>4</th>\n",
       "      <td>` ` you are threatening life , especially to d...</td>\n",
       "      <td>she liked to think being surrounded by adults ...</td>\n",
       "      <td>0.0</td>\n",
       "      <td>48848192</td>\n",
       "      <td>4</td>\n",
       "    </tr>\n",
       "    <tr>\n",
       "      <th>...</th>\n",
       "      <td>...</td>\n",
       "      <td>...</td>\n",
       "      <td>...</td>\n",
       "      <td>...</td>\n",
       "      <td>...</td>\n",
       "    </tr>\n",
       "    <tr>\n",
       "      <th>4080685</th>\n",
       "      <td>he smiled and stared at the swank which awaite...</td>\n",
       "      <td>her fingers itched to run through the dark str...</td>\n",
       "      <td>0.0</td>\n",
       "      <td>68518599</td>\n",
       "      <td>995</td>\n",
       "    </tr>\n",
       "    <tr>\n",
       "      <th>4080686</th>\n",
       "      <td>he smiled and stared at the swank which awaite...</td>\n",
       "      <td>her mind ran straight to an illicit image of h...</td>\n",
       "      <td>0.0</td>\n",
       "      <td>68518599</td>\n",
       "      <td>996</td>\n",
       "    </tr>\n",
       "    <tr>\n",
       "      <th>4080687</th>\n",
       "      <td>he smiled and stared at the swank which awaite...</td>\n",
       "      <td>she cleared her throat that had run dry .</td>\n",
       "      <td>0.0</td>\n",
       "      <td>68518599</td>\n",
       "      <td>997</td>\n",
       "    </tr>\n",
       "    <tr>\n",
       "      <th>4080688</th>\n",
       "      <td>he smiled and stared at the swank which awaite...</td>\n",
       "      <td>`` no , of course not . ''</td>\n",
       "      <td>0.0</td>\n",
       "      <td>68518599</td>\n",
       "      <td>998</td>\n",
       "    </tr>\n",
       "    <tr>\n",
       "      <th>4080689</th>\n",
       "      <td>he smiled and stared at the swank which awaite...</td>\n",
       "      <td>he jerked his head up to wink at her .</td>\n",
       "      <td>0.0</td>\n",
       "      <td>68518599</td>\n",
       "      <td>999</td>\n",
       "    </tr>\n",
       "  </tbody>\n",
       "</table>\n",
       "<p>4080690 rows × 5 columns</p>\n",
       "</div>"
      ],
      "text/plain": [
       "                                                      line  \\\n",
       "0        ` ` you are threatening life , especially to d...   \n",
       "1        ` ` you are threatening life , especially to d...   \n",
       "2        ` ` you are threatening life , especially to d...   \n",
       "3        ` ` you are threatening life , especially to d...   \n",
       "4        ` ` you are threatening life , especially to d...   \n",
       "...                                                    ...   \n",
       "4080685  he smiled and stared at the swank which awaite...   \n",
       "4080686  he smiled and stared at the swank which awaite...   \n",
       "4080687  he smiled and stared at the swank which awaite...   \n",
       "4080688  he smiled and stared at the swank which awaite...   \n",
       "4080689  he smiled and stared at the swank which awaite...   \n",
       "\n",
       "                                             book_sentence  n_gram_accuracy  \\\n",
       "0        usually , he would be tearing around the livin...              0.0   \n",
       "1        but just one look at a minion sent him practic...              0.0   \n",
       "2        that had been megan 's plan when she got him d...              0.0   \n",
       "3        he 'd seen the movie almost by mistake , consi...              0.0   \n",
       "4        she liked to think being surrounded by adults ...              0.0   \n",
       "...                                                    ...              ...   \n",
       "4080685  her fingers itched to run through the dark str...              0.0   \n",
       "4080686  her mind ran straight to an illicit image of h...              0.0   \n",
       "4080687          she cleared her throat that had run dry .              0.0   \n",
       "4080688                         `` no , of course not . ''              0.0   \n",
       "4080689             he jerked his head up to wink at her .              0.0   \n",
       "\n",
       "         line_idx  book_idx  \n",
       "0        48848192         0  \n",
       "1        48848192         1  \n",
       "2        48848192         2  \n",
       "3        48848192         3  \n",
       "4        48848192         4  \n",
       "...           ...       ...  \n",
       "4080685  68518599       995  \n",
       "4080686  68518599       996  \n",
       "4080687  68518599       997  \n",
       "4080688  68518599       998  \n",
       "4080689  68518599       999  \n",
       "\n",
       "[4080690 rows x 5 columns]"
      ]
     },
     "execution_count": 142,
     "metadata": {},
     "output_type": "execute_result"
    }
   ],
   "source": [
    "df_temp = pd.read_json(output_file, lines=True)\n",
    "df_temp.sort_values(by='n_gram_accuracy', ascending=False)"
   ]
  }
 ],
 "metadata": {
  "kernelspec": {
   "display_name": "phd",
   "language": "python",
   "name": "python3"
  },
  "language_info": {
   "codemirror_mode": {
    "name": "ipython",
    "version": 3
   },
   "file_extension": ".py",
   "mimetype": "text/x-python",
   "name": "python",
   "nbconvert_exporter": "python",
   "pygments_lexer": "ipython3",
   "version": "3.11.10"
  }
 },
 "nbformat": 4,
 "nbformat_minor": 2
}
